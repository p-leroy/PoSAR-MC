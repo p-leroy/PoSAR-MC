{
 "cells": [
  {
   "cell_type": "code",
   "execution_count": 1,
   "metadata": {},
   "outputs": [],
   "source": [
    "import numpy as np\n",
    "import matplotlib.pyplot as plt\n",
    "import scipy.signal as signal\n",
    "%matplotlib qt5"
   ]
  },
  {
   "cell_type": "code",
   "execution_count": 2,
   "metadata": {},
   "outputs": [],
   "source": [
    "import sys"
   ]
  },
  {
   "cell_type": "code",
   "execution_count": 3,
   "metadata": {},
   "outputs": [],
   "source": [
    "%load_ext autoreload\n",
    "%autoreload 2"
   ]
  },
  {
   "cell_type": "code",
   "execution_count": 4,
   "metadata": {},
   "outputs": [],
   "source": [
    "sys.path.insert(0, \"/home/pleroy/DEV/processing/focalization_python\")\n",
    "from posarutils.other.read_data_and_build_rd import *"
   ]
  },
  {
   "cell_type": "code",
   "execution_count": null,
   "metadata": {},
   "outputs": [],
   "source": [
    "from backprojection.tools import sb1, sb2, wa, pulse, pulse2"
   ]
  },
  {
   "cell_type": "code",
   "execution_count": null,
   "metadata": {},
   "outputs": [],
   "source": [
    "fmin = 5.725e9\n",
    "fMAX = 5.875e9\n",
    "fc = 5.8e9\n",
    "B = fMAX - fmin\n",
    "c = 3e8\n",
    "kc = 4 * np.pi * fc / c\n",
    "fs = 10e6\n",
    "\n",
    "rail = 0\n",
    "truck = 1\n",
    "plane = 2\n",
    "vehicule = plane\n",
    "\n",
    "if vehicule == rail:\n",
    "    T = 5e-3\n",
    "    rampsPerFile = 200\n",
    "    V = 0.1\n",
    "if vehicule == truck:\n",
    "    T = 5e-3\n",
    "    rampsPerFile = 200\n",
    "    V = 3\n",
    "if vehicule == plane:\n",
    "    T = 600e-6\n",
    "    rampsPerFile = 1500\n",
    "    V = 40\n",
    "\n",
    "alpha = 2 * (fMAX - fmin) / T\n",
    "samplesPerRamp = int( np.ceil( T * fs ) )\n",
    "samplesPerFile = rampsPerFile * samplesPerRamp\n",
    "samplesPerUpRamp = int( samplesPerRamp / 2 )\n",
    "\n",
    "print(\"T = {}, samplesPerRamp = {:.2f}, samplesPerFile = {:.2f}\".format(T, samplesPerRamp, samplesPerFile))\n",
    "\n",
    "t1 = np.arange( 0, T, 1/fs)\n",
    "t2 = np.arange( -T/2, T/2, 1/fs)"
   ]
  },
  {
   "cell_type": "markdown",
   "metadata": {},
   "source": [
    "# Build data"
   ]
  },
  {
   "cell_type": "code",
   "execution_count": 30,
   "metadata": {
    "collapsed": true
   },
   "outputs": [],
   "source": [
    "nbFiles = 10"
   ]
  },
  {
   "cell_type": "code",
   "execution_count": null,
   "metadata": {},
   "outputs": [],
   "source": [
    "a = 0.603354564402 # sinc(a) = 0.5\n",
    "b = a * 180 / (30 * np.pi) # see the newton notebook for further details about the calculation"
   ]
  },
  {
   "cell_type": "code",
   "execution_count": null,
   "metadata": {},
   "outputs": [],
   "source": [
    "hPlane = 90\n",
    "hCorner = 90\n",
    "gr_corner = 100\n",
    "rg_corner = ( (hPlane - hCorner)**2 + gr_corner**2 )**0.5\n",
    "az_corner = V * T * nbFiles * rampsPerFile / 2\n",
    "noise = 1\n",
    "print(\"rg_corner = {:.2f}, gr_corner = {:.2f}, az_corner = {:.2f}\".format(rg_corner, gr_corner, az_corner))"
   ]
  },
  {
   "cell_type": "code",
   "execution_count": null,
   "metadata": {},
   "outputs": [],
   "source": [
    "Laz = nbFiles * rampsPerFile * T * V\n",
    "phi = np.arctan( (Laz/2) / rg_corner )\n",
    "print( \"Laz = {:.0f}, phi = {:.1f}°\".format( Laz, phi * 180 / np.pi ) )"
   ]
  },
  {
   "cell_type": "code",
   "execution_count": null,
   "metadata": {},
   "outputs": [],
   "source": [
    "adc = np.zeros( (nbFiles * rampsPerFile, samplesPerRamp), dtype=complex )\n",
    "for ramp in range( nbFiles * rampsPerFile):\n",
    "    azn = ramp * T * V\n",
    "    Rn = ( rg_corner**2 + (azn - az_corner)**2 )**0.5\n",
    "    adc[ ramp,  0 : samplesPerRamp ] = sb1( t1, Rn, alpha, fc ) * wa( azn - az_corner, rg_corner ) \\\n",
    "    + np.random.randn( samplesPerRamp ) * noise / (Rn**2)\n",
    "    file = ramp/rampsPerFile\n",
    "    if file == np.floor(file):\n",
    "        phi = np.arccos( rg_corner / Rn ) * 180 / np.pi\n",
    "        print( \"{}, azn = {:.2f}, wa = {:.1f}, phi = {:.1f}, Rn = {:.1f}\".format( \n",
    "            file, azn, wa( azn - az_corner, rg_corner ), phi, Rn ) )"
   ]
  },
  {
   "cell_type": "markdown",
   "metadata": {},
   "source": [
    "# Save data"
   ]
  },
  {
   "cell_type": "code",
   "execution_count": null,
   "metadata": {},
   "outputs": [],
   "source": [
    "analyticSignal = adc[:, 0:samplesPerUpRamp:2]\n",
    "srf = np.fft.ifft( analyticSignal, axis=1 )\n",
    "print( \"srf.shape = {}\".format(srf.shape))"
   ]
  },
  {
   "cell_type": "code",
   "execution_count": null,
   "metadata": {},
   "outputs": [],
   "source": [
    "data_dir = \"/home/pleroy/DATA/SIMU\"\n",
    "np.save( data_dir + \"/analyticSignal_{}_{}\".format(0, nbFiles-1), analyticSignal )"
   ]
  },
  {
   "cell_type": "markdown",
   "metadata": {},
   "source": [
    "# Old Stuff"
   ]
  },
  {
   "cell_type": "code",
   "execution_count": 32,
   "metadata": {},
   "outputs": [
    {
     "name": "stdout",
     "output_type": "stream",
     "text": [
      "tau = 6.7e-07, f = 335000.00000000006\n"
     ]
    },
    {
     "data": {
      "text/plain": [
       "(0, 100)"
      ]
     },
     "execution_count": 32,
     "metadata": {},
     "output_type": "execute_result"
    }
   ],
   "source": [
    "plt.figure()\n",
    "r = 100.5\n",
    "tau = 2 * r / c\n",
    "print( \"tau = {}, f = {}\".format(tau, alpha*tau) )\n",
    "plt.subplot( 211 )\n",
    "plt.plot( np.real( sb1( t1[0:3000], r ) ), '.' )\n",
    "plt.plot( np.real( sb2( t1[0:3000], r ) ) )\n",
    "ax = plt.gca()\n",
    "plt.subplot( 212, sharex=ax )\n",
    "plt.plot( np.imag( sb1( t1[0:3000], r ) ) )\n",
    "plt.plot( np.imag( sb2( t1[0:3000], r ) ) )\n",
    "ax = plt.gca()\n",
    "ax.set_xlim(0, 100)"
   ]
  },
  {
   "cell_type": "code",
   "execution_count": 33,
   "metadata": {},
   "outputs": [
    {
     "name": "stdout",
     "output_type": "stream",
     "text": [
      "tau = 6.67e-06, f = 3335000.0000000005\n"
     ]
    },
    {
     "name": "stderr",
     "output_type": "stream",
     "text": [
      "/opt/Py3Venv/lib/python3.6/site-packages/ipykernel_launcher.py:14: RuntimeWarning: divide by zero encountered in log10\n",
      "  \n",
      "/opt/Py3Venv/lib/python3.6/site-packages/ipykernel_launcher.py:15: RuntimeWarning: divide by zero encountered in log10\n",
      "  from ipykernel import kernelapp as app\n"
     ]
    },
    {
     "data": {
      "text/plain": [
       "[<matplotlib.lines.Line2D at 0x7fa9c4923b38>]"
      ]
     },
     "execution_count": 33,
     "metadata": {},
     "output_type": "execute_result"
    }
   ],
   "source": [
    "plt.figure()\n",
    "r = 1000.5\n",
    "tau = 2 * r / c\n",
    "print( \"tau = {}, f = {}\".format(tau, alpha*tau) )\n",
    "sb1_t1 = np.real( sb1( t1[0:3000], r ) )\n",
    "sb2_t1 = np.real( sb2( t1[0:3000], r ) )\n",
    "plt.subplot(311)\n",
    "plt.plot( 20 * np.log10(np.abs(np.fft.ifft( sb1_t1 ) ) ) )\n",
    "plt.plot( 20 * np.log10(np.abs(np.fft.ifft( sb2_t1 ) ) ) )\n",
    "plt.subplot(312)\n",
    "plt.plot( np.real(np.fft.ifft( sb1_t1 ) ) )\n",
    "plt.plot( np.real(np.fft.ifft( sb2_t1 ) ) )\n",
    "plt.subplot(313)\n",
    "plt.plot( np.imag(np.fft.ifft( sb1_t1 ) ) )\n",
    "plt.plot( np.imag(np.fft.ifft( sb2_t1 ) ) )"
   ]
  },
  {
   "cell_type": "code",
   "execution_count": 34,
   "metadata": {
    "collapsed": true
   },
   "outputs": [],
   "source": [
    "def sr( t, r ):\n",
    "    \n",
    "    tau = 2 * r / c\n",
    "    \n",
    "    y = np.zeros( t.shape, dtype=complex )\n",
    "    \n",
    "    # up ramp\n",
    "    y[0:samplesPerUpRamp] = np.exp( -1j * 2  * np.pi * f0 * tau ) \\\n",
    "    * np.exp( 1j * np.pi * alpha * tau**2 ) \\\n",
    "    * np.exp(  -1j * 2 * np.pi * alpha * (t[0:samplesPerUpRamp]) * tau )\n",
    "    \n",
    "    # down ramp\n",
    "    y[samplesPerUpRamp:2*samplesPerUpRamp] = np.exp( -1j * 2  * np.pi * f0 * tau ) \\\n",
    "    * np.exp( 1j * np.pi * (-alpha) * tau**2 ) \\\n",
    "    * np.exp(  -1j * 2 * np.pi * (-alpha) * (t[samplesPerUpRamp:2*samplesPerUpRamp]) * tau )\n",
    "    \n",
    "    return y"
   ]
  },
  {
   "cell_type": "code",
   "execution_count": 35,
   "metadata": {
    "collapsed": true
   },
   "outputs": [],
   "source": [
    "def srn( t, r, n ):\n",
    "    \n",
    "    tau = 2 * r / c\n",
    "    \n",
    "    y = np.zeros( t.shape, dtype=complex )\n",
    "    \n",
    "    # up ramp\n",
    "    y[0:samplesPerUpRamp] = np.exp( -1j * 2  * np.pi * f0 * tau ) \\\n",
    "    * np.exp( 1j * np.pi * alpha * tau**2 ) \\\n",
    "    * np.exp(  -1j * 2 * np.pi * alpha * (t[0:samplesPerUpRamp] + n*T + tau) * tau )\n",
    "    \n",
    "    # down ramp\n",
    "    y[samplesPerUpRamp:2*samplesPerUpRamp] = np.exp( -1j * 2  * np.pi * f0 * tau ) \\\n",
    "    * np.exp( 1j * np.pi * (-alpha) * tau**2 ) \\\n",
    "    * np.exp(  -1j * 2 * np.pi * (-alpha) * (t[samplesPerUpRamp:2*samplesPerUpRamp] + n*T + tau) * tau )\n",
    "    \n",
    "    return y"
   ]
  },
  {
   "cell_type": "markdown",
   "metadata": {},
   "source": [
    "Let us build the equivalent of 10 files of data"
   ]
  },
  {
   "cell_type": "code",
   "execution_count": 43,
   "metadata": {
    "collapsed": true
   },
   "outputs": [],
   "source": [
    "a = 0.603354564402\n",
    "b = a * 180 / (30 * np.pi) # see the Newton method at the bottom of the notebook\n",
    "def wa( az, rg0 ):\n",
    "    Rn = ( rg0**2 + az**2 )**0.5\n",
    "    wa = np.sinc( b * np.arccos( rg0 / Rn ) )**2\n",
    "    return wa"
   ]
  },
  {
   "cell_type": "code",
   "execution_count": 44,
   "metadata": {},
   "outputs": [
    {
     "name": "stdout",
     "output_type": "stream",
     "text": [
      "rg_corner = 100.00, gr_corner = 100.00, az_corner = 13.50\n"
     ]
    }
   ],
   "source": [
    "V = 3\n",
    "hPlane = 90\n",
    "hCorner = 90\n",
    "gr_corner = 100\n",
    "rg_corner = ( (hPlane - hCorner)**2 + gr_corner**2 )**0.5\n",
    "az_corner = V * T * nbFiles * rampsPerFile / 2\n",
    "noise = 1\n",
    "print(\"rg_corner = {:.2f}, gr_corner = {:.2f}, az_corner = {:.2f}\".format(rg_corner, gr_corner, az_corner))"
   ]
  },
  {
   "cell_type": "code",
   "execution_count": 45,
   "metadata": {},
   "outputs": [
    {
     "name": "stdout",
     "output_type": "stream",
     "text": [
      "Laz = 27, phi = 7.7°\n"
     ]
    }
   ],
   "source": [
    "Laz = nbFiles * rampsPerFile * T * V\n",
    "phi = np.arctan( (Laz/2) / rg_corner )\n",
    "print( \"Laz = {:.0f}, phi = {:.1f}°\".format( Laz, phi * 180 / np.pi ) )"
   ]
  },
  {
   "cell_type": "code",
   "execution_count": 50,
   "metadata": {},
   "outputs": [
    {
     "name": "stdout",
     "output_type": "stream",
     "text": [
      "0, wa = 0.9, phi = 7.7, Rn = 100.9\n",
      "1000, wa = 0.9, phi = 6.7, Rn = 100.7\n",
      "2000, wa = 1.0, phi = 5.7, Rn = 100.5\n",
      "3000, wa = 1.0, phi = 4.6, Rn = 100.3\n",
      "4000, wa = 1.0, phi = 3.6, Rn = 100.2\n",
      "5000, wa = 1.0, phi = 2.6, Rn = 100.1\n",
      "6000, wa = 1.0, phi = 1.5, Rn = 100.0\n",
      "7000, wa = 1.0, phi = 0.5, Rn = 100.0\n",
      "8000, wa = 1.0, phi = 0.5, Rn = 100.0\n",
      "9000, wa = 1.0, phi = 1.5, Rn = 100.0\n",
      "10000, wa = 1.0, phi = 2.6, Rn = 100.1\n",
      "11000, wa = 1.0, phi = 3.6, Rn = 100.2\n",
      "12000, wa = 1.0, phi = 4.6, Rn = 100.3\n",
      "13000, wa = 1.0, phi = 5.7, Rn = 100.5\n",
      "14000, wa = 0.9, phi = 6.7, Rn = 100.7\n"
     ]
    }
   ],
   "source": [
    "adc = np.zeros( (nbFiles * rampsPerFile, samplesPerRamp), dtype=complex )\n",
    "for ramp in range( nbFiles * rampsPerFile):\n",
    "    azn = ramp * T * V\n",
    "    Rn = ( rg_corner**2 + (azn - az_corner)**2 )**0.5\n",
    "    adc[ ramp,  0 : samplesPerRamp ] = sb1( t1, Rn ) * wa( azn - az_corner, rg_corner ) \\\n",
    "    + np.random.randn( 6000 ) * noise / (Rn**2)\n",
    "    if ramp%1000 == 0:\n",
    "        phi = np.arccos( rg_corner / Rn ) * 180 / np.pi\n",
    "        print( \"{}, wa = {:.1f}, phi = {:.1f}, Rn = {:.1f}\".format( \n",
    "            ramp, wa( azn - az_corner, rg_corner ), phi, Rn ) )"
   ]
  },
  {
   "cell_type": "markdown",
   "metadata": {},
   "source": [
    "# Save simulated data"
   ]
  },
  {
   "cell_type": "code",
   "execution_count": null,
   "metadata": {
    "collapsed": true
   },
   "outputs": [],
   "source": [
    "firstFile = 0\n",
    "lastFile = nbFiles - 1\n",
    "data_dir = \"/home/pleroy/DATA/SIMU\""
   ]
  },
  {
   "cell_type": "code",
   "execution_count": null,
   "metadata": {},
   "outputs": [],
   "source": [
    "np.tan(45 * np.pi / 180 )"
   ]
  },
  {
   "cell_type": "code",
   "execution_count": null,
   "metadata": {
    "collapsed": true
   },
   "outputs": [],
   "source": [
    "np.save(data_dir + '/adc_files_{}_{}'.format(firstFile, lastFile), adc[:, 0:3000])"
   ]
  },
  {
   "cell_type": "code",
   "execution_count": null,
   "metadata": {
    "collapsed": true
   },
   "outputs": [],
   "source": [
    "adc_reshaped = adc.reshape( (nbFiles * rampsPerFile, samplesPerRamp) )"
   ]
  },
  {
   "cell_type": "code",
   "execution_count": null,
   "metadata": {},
   "outputs": [],
   "source": [
    "RD = build_rd_from_data_sim( np.real( adc_reshaped ), samplesPerRamp )\n",
    "print( \"RD.shape = {}\".format( RD.shape ) )"
   ]
  },
  {
   "cell_type": "code",
   "execution_count": null,
   "metadata": {
    "collapsed": true
   },
   "outputs": [],
   "source": [
    "np.save(data_dir + '/RD_files_{}_{}'.format(firstFile, lastFile), RD)"
   ]
  },
  {
   "cell_type": "code",
   "execution_count": null,
   "metadata": {
    "collapsed": true
   },
   "outputs": [],
   "source": [
    "coupling_RD = np.average(RD, 0)\n",
    "np.save( data_dir + \"/coupling_RD_files_{}_{}\".format(firstFile, lastFile), coupling_RD )"
   ]
  },
  {
   "cell_type": "code",
   "execution_count": null,
   "metadata": {
    "collapsed": true
   },
   "outputs": [],
   "source": [
    "samplesPerRamp"
   ]
  },
  {
   "cell_type": "code",
   "execution_count": null,
   "metadata": {
    "collapsed": true
   },
   "outputs": [],
   "source": [
    "ifft_RD = np.fft.ifft( RD, axis=1 )"
   ]
  },
  {
   "cell_type": "code",
   "execution_count": null,
   "metadata": {
    "collapsed": true
   },
   "outputs": [],
   "source": [
    "plt.figure()\n",
    "plt.imshow( 20 * np.log10( np.abs( ifft_RD[::10,:] ) ) )\n",
    "plt.colorbar()"
   ]
  },
  {
   "cell_type": "code",
   "execution_count": null,
   "metadata": {},
   "outputs": [],
   "source": [
    "ifft_adc = np.fft.ifft( adc[:,0:3000], axis=1 )\n",
    "print( \"adc_reshaped.shape = {}, ifft_adc.shape = {}\".format( adc_reshaped.shape, ifft_adc.shape ) )"
   ]
  },
  {
   "cell_type": "code",
   "execution_count": null,
   "metadata": {},
   "outputs": [],
   "source": [
    "plt.figure()\n",
    "plt.imshow( 20 * np.log10( np.abs( ifft_adc[::10,:] ) ) )\n",
    "plt.colorbar()"
   ]
  },
  {
   "cell_type": "code",
   "execution_count": null,
   "metadata": {},
   "outputs": [],
   "source": [
    "plt.figure()\n",
    "plt.plot( 20 * np.log10( np.abs( ifft_adc[:,58] ) ), label=\"58\" )\n",
    "plt.plot( 20 * np.log10( np.abs( ifft_adc[:,59] ) ), label=\"59\" )\n",
    "plt.plot( 20 * np.log10( np.abs( ifft_adc[:,50] ) ), label=\"50\" )\n",
    "plt.plot( 20 * np.log10( np.abs( ifft_adc[:,51] ) ), label=\"51\" )\n",
    "plt.plot( 20 * np.log10( np.abs( ifft_adc[:,52] ) ), label=\"52\" )\n",
    "plt.plot( 20 * np.log10( np.abs( ifft_adc[:,53] ) ), label=\"53\" )\n",
    "plt.legend()"
   ]
  },
  {
   "cell_type": "code",
   "execution_count": null,
   "metadata": {
    "collapsed": true
   },
   "outputs": [],
   "source": [
    "az_corner / V / T"
   ]
  },
  {
   "cell_type": "code",
   "execution_count": null,
   "metadata": {
    "collapsed": true
   },
   "outputs": [],
   "source": [
    "plt.figure()\n",
    "plt.plot( 20 * np.log10( np.abs( ifft_RD[7750,:] ) ) )\n",
    "plt.plot( 20 * np.log10( np.abs( ifft_RD[25000,:] ) ) )"
   ]
  },
  {
   "cell_type": "code",
   "execution_count": null,
   "metadata": {
    "collapsed": true
   },
   "outputs": [],
   "source": [
    "plt.figure()\n",
    "plt.plot( 20 * np.log10( np.abs( ifft_RD[::10,500] ) ))\n",
    "plt.plot( 20 * np.log10( np.abs( ifft_RD[::10,501] ) ))"
   ]
  },
  {
   "cell_type": "code",
   "execution_count": null,
   "metadata": {
    "collapsed": true
   },
   "outputs": [],
   "source": [
    "RD[100, 0:3000].size"
   ]
  },
  {
   "cell_type": "code",
   "execution_count": null,
   "metadata": {
    "collapsed": true
   },
   "outputs": [],
   "source": [
    "RD.shape"
   ]
  },
  {
   "cell_type": "markdown",
   "metadata": {},
   "source": [
    "### Newton's method\n",
    "f(x) = sin(x) / x\n",
    "\n",
    "f'(x) = cos(x) / x - sin(x) / x^2\n",
    "\n",
    "x(n+1) = x(n) - f(x(n)) / f'(x(n))\n",
    "\n",
    "x(n+1) = x(n) - [f(x(n)) - y0] / f'(x(n))"
   ]
  },
  {
   "cell_type": "code",
   "execution_count": null,
   "metadata": {
    "collapsed": true
   },
   "outputs": [],
   "source": [
    "y0 = 0.1\n",
    "def newton( xn ):\n",
    "    f_xn = np.sinc( xn )\n",
    "    #f_prime_xn = np.cos(xn) / xn - np.sin(xn) / xn**2\n",
    "    f_prime_xn = np.cos(np.pi * xn) / xn - np.sin(np.pi*xn) / (np.pi*xn**2)\n",
    "    xn_plus_1 = xn - ( f_xn - y0 ) / f_prime_xn\n",
    "    return xn_plus_1"
   ]
  },
  {
   "cell_type": "code",
   "execution_count": null,
   "metadata": {},
   "outputs": [],
   "source": [
    "x = 1\n",
    "for k in range( 10 ):\n",
    "    x = newton( x )\n",
    "    print( x )"
   ]
  },
  {
   "cell_type": "code",
   "execution_count": null,
   "metadata": {
    "collapsed": true
   },
   "outputs": [],
   "source": [
    "a = 0.603354564402 # y0 = 0.5\n",
    "a = 0.90792862378 # y0 = 0.1\n",
    "b = a * 180 / (30 * np.pi)"
   ]
  },
  {
   "cell_type": "code",
   "execution_count": null,
   "metadata": {},
   "outputs": [],
   "source": [
    "x = 30 * np.pi / 180\n",
    "np.sinc( b * x )"
   ]
  },
  {
   "cell_type": "markdown",
   "metadata": {},
   "source": [
    "### Analytic signal"
   ]
  },
  {
   "cell_type": "code",
   "execution_count": 5,
   "metadata": {},
   "outputs": [],
   "source": [
    "teta = np.arange( -10*np.pi, 10*np.pi, np.pi/10 )"
   ]
  },
  {
   "cell_type": "code",
   "execution_count": 6,
   "metadata": {},
   "outputs": [],
   "source": [
    "def as3( y ):\n",
    "    fft_y = np.fft.fftshift( np.fft.fft( y ) )\n",
    "    nbPoints = y.shape[0]\n",
    "    nbPoints2 = int( nbPoints / 2 )\n",
    "    fft_as_y = np.zeros( (nbPoints,), dtype=complex )\n",
    "    fft_as_y[0] = fft_y[0]\n",
    "    fft_as_y[ 1 : nbPoints2 ] = 2 * fft_y[ 1 : nbPoints2 ]\n",
    "    fft_as_y[0] = fft_y[0]\n",
    "    fft_as_y[nbPoints2] = fft_y[nbPoints2]\n",
    "    return np.fft.ifft( np.fft.ifftshift( fft_as_y ) ) / 2"
   ]
  },
  {
   "cell_type": "code",
   "execution_count": 13,
   "metadata": {},
   "outputs": [],
   "source": [
    "def as2( y ):\n",
    "    return signal.hilbert( y ) / 2"
   ]
  },
  {
   "cell_type": "code",
   "execution_count": 14,
   "metadata": {},
   "outputs": [],
   "source": [
    "def RD_realtocomp2( RD ):\n",
    "\n",
    "    Nf  = RD.size\n",
    "\n",
    "    # if Nf is a multiple of 2, fftshift(fftshift(X)) = X\n",
    "    if ( ( Nf % 2 ) != 0 ):\n",
    "        error( \"Nf should be a multiple of 2\" )\n",
    "\n",
    "    h = np.zeros( Nf )\n",
    "    h[ 0 ] = 1\n",
    "    h[ int( Nf / 2) ] = 1\n",
    "    h[ 1 : int(Nf / 2) ] = 2\n",
    "\n",
    "    #RDs = np.fft.ifft( np.fft.fftshift( RD ) )\n",
    "    RDs = np.fft.ifft( RD )\n",
    "\n",
    "    RDh = RDs * h\n",
    "\n",
    "    #RDc = np.fft.fftshift( np.fft.fft( RDh ) )\n",
    "    RDc = np.fft.fft( RDh )\n",
    "\n",
    "    return RDc/2"
   ]
  },
  {
   "cell_type": "code",
   "execution_count": 19,
   "metadata": {},
   "outputs": [],
   "source": [
    "phi0 = 30 * 180 / np.pi\n",
    "y = np.cos(teta - phi0) + np.cos( 2 * teta - phi0)\n",
    "y = teta\n",
    "expy = np.exp(1j * (teta-phi0) ) / 2\n",
    "as_y = RD_realtocomp2( y )\n",
    "as2_y = as2( y )\n",
    "as3_y = as3( y )\n",
    "fft_y = np.fft.fft( y )\n",
    "fft_expy = np.fft.fft( expy )\n",
    "\n",
    "plt.figure()\n",
    "\n",
    "plt.subplot(121)\n",
    "plt.plot( np.real( np.fft.fft( as3_y ) ), \"D-\", label=\"as3_y\" )\n",
    "plt.plot( np.real( np.fft.fft( as2_y ) ), '.-', label=\"as2_y (hilbert)\" )\n",
    "plt.plot( np.real( np.fft.fft( as_y ) ), \"x-\", label=\"as_y (RD_realtocomp)\", color=\"yellow\" )\n",
    "plt.plot( np.real( fft_y ), label=\"fft_y\" )\n",
    "plt.grid()\n",
    "plt.legend()\n",
    "\n",
    "plt.subplot(122)\n",
    "plt.plot( np.imag( np.fft.fft( as3_y ) ), \"D-\" )\n",
    "plt.plot( np.imag( np.fft.fft( as2_y ) ), '.-' )\n",
    "plt.plot( np.imag( np.fft.fft( as_y ) ), \"x-\", color=\"yellow\" )\n",
    "plt.plot( np.imag( fft_y ) )\n",
    "plt.grid()"
   ]
  },
  {
   "cell_type": "code",
   "execution_count": 16,
   "metadata": {},
   "outputs": [],
   "source": [
    "plt.figure()\n",
    "\n",
    "as_y = RD_realtocomp( y )\n",
    "as_y_ifftshift = np.fft.ifftshift(RD_realtocomp( y ))\n",
    "\n",
    "plt.subplot(121)\n",
    "plt.plot( np.real( np.fft.fft( as_y ) ), \"x-\", label=\"real as_y\" )\n",
    "plt.plot( np.real( np.fft.fft( as_y_ifftshift ) ), \".-\", label=\"real as_y_ifftshift\" )\n",
    "plt.grid()\n",
    "plt.legend()\n",
    "\n",
    "plt.subplot(122)\n",
    "plt.plot( np.imag( np.fft.fft( as_y ) ), \"x-\", label=\"imag as_y\" )\n",
    "plt.plot( np.imag( np.fft.fft( as_y_ifftshift ) ), \".-\", label=\"imag as_y_ifftshift\" )\n",
    "plt.grid()"
   ]
  },
  {
   "cell_type": "code",
   "execution_count": null,
   "metadata": {
    "collapsed": true
   },
   "outputs": [],
   "source": [
    "plt.figure()\n",
    "\n",
    "as_y = RD_realtocomp( y )\n",
    "as_y_ifftshift = np.fft.ifftshift(RD_realtocomp( y ))\n",
    "\n",
    "plt.subplot(121)\n",
    "plt.plot( np.real( as_y ), \"x-\", label=\"real as_y\" )\n",
    "plt.plot( np.real( as_y_ifftshift ), \".-\", label=\"real as_y_ifftshift\" )\n",
    "plt.grid()\n",
    "plt.legend()\n",
    "\n",
    "plt.subplot(122)\n",
    "plt.plot( np.imag( as_y ), \"x-\", label=\"imag as_y\" )\n",
    "plt.plot( np.imag( as_y_ifftshift ), \".-\", label=\"imag as_y_ifftshift\" )\n",
    "plt.grid()"
   ]
  },
  {
   "cell_type": "code",
   "execution_count": null,
   "metadata": {
    "collapsed": true
   },
   "outputs": [],
   "source": []
  }
 ],
 "metadata": {
  "kernelspec": {
   "display_name": "Python 3",
   "language": "python",
   "name": "python3"
  },
  "language_info": {
   "codemirror_mode": {
    "name": "ipython",
    "version": 3
   },
   "file_extension": ".py",
   "mimetype": "text/x-python",
   "name": "python",
   "nbconvert_exporter": "python",
   "pygments_lexer": "ipython3",
   "version": "3.6.3"
  }
 },
 "nbformat": 4,
 "nbformat_minor": 2
}
