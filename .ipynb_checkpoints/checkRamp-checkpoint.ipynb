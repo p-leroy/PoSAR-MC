{
 "cells": [
  {
   "cell_type": "code",
   "execution_count": 1,
   "metadata": {
    "collapsed": true
   },
   "outputs": [],
   "source": [
    "import numpy as np\n",
    "import matplotlib.pyplot as plt\n",
    "%matplotlib qt5"
   ]
  },
  {
   "cell_type": "code",
   "execution_count": 2,
   "metadata": {
    "collapsed": true
   },
   "outputs": [],
   "source": [
    "data_dir = \"/home/pleroy/DATA/2017_11_ietr/\"\n",
    "fname = data_dir + \"ramp 600us.csv\"\n",
    "t, v1, v2 = np.genfromtxt( fname, delimiter=',', skip_header=2, unpack=True )"
   ]
  },
  {
   "cell_type": "code",
   "execution_count": 3,
   "metadata": {},
   "outputs": [
    {
     "data": {
      "text/plain": [
       "<matplotlib.legend.Legend at 0x7fc073ba4b38>"
      ]
     },
     "execution_count": 3,
     "metadata": {},
     "output_type": "execute_result"
    }
   ],
   "source": [
    "plt.figure()\n",
    "plt.plot( t, v1, label=\"v1\" )\n",
    "plt.plot( t, v2, label=\"v2\" )\n",
    "plt.grid()\n",
    "plt.legend()"
   ]
  },
  {
   "cell_type": "code",
   "execution_count": 4,
   "metadata": {},
   "outputs": [
    {
     "name": "stdout",
     "output_type": "stream",
     "text": [
      "fileCookie = [65 71], fileVersion = [49 48], fileSize = [16000316], nWaveforms = [2]\n"
     ]
    }
   ],
   "source": [
    "binFilename = data_dir + \"scope_2.bin\"\n",
    "#binFilename = data_dir + \"myFileName.bin\"\n",
    "\n",
    "fileId = open(binFilename, 'r')\n",
    "\n",
    "# read file header\n",
    "fileCookie = np.fromfile(fileId, 'int8', 2) # 65 71 => 'AG'\n",
    "fileVersion = np.fromfile(fileId, 'int8', 2)\n",
    "fileSize = np.fromfile(fileId, 'int32', 1)\n",
    "nWaveforms = np.fromfile(fileId, 'int32', 1)\n",
    "\n",
    "print(\"fileCookie = {}, fileVersion = {}, fileSize = {}, nWaveforms = {}\".format( \n",
    "    fileCookie, fileVersion, fileSize, nWaveforms )\n",
    "     )"
   ]
  },
  {
   "cell_type": "code",
   "execution_count": null,
   "metadata": {},
   "outputs": [],
   "source": [
    "# determine which waveform to read\n",
    "waveformSelect = 1\n",
    "\n",
    "for waveformIndex in range( nWaveforms[0] ):\n",
    "    # read waveform header\n",
    "    headerSize = np.fromfile(fileId, 'int32', 1)[0]\n",
    "    bytesLeft = headerSize - 4\n",
    "    \n",
    "    waveformType = np.fromfile(fileId, 'int32', 1)\n",
    "    bytesLeft = bytesLeft - 4\n",
    "    \n",
    "    nWaveformBuffers = np.fromfile(fileId, 'int32', 1)\n",
    "    bytesLeft = bytesLeft - 4\n",
    "    \n",
    "    nPoints = np.fromfile(fileId, 'int32', 1)\n",
    "    bytesLeft = bytesLeft - 4\n",
    "    \n",
    "    count = np.fromfile(fileId, 'int32', 1)\n",
    "    bytesLeft = bytesLeft - 4\n",
    "    \n",
    "    xDisplayRange = np.fromfile(fileId, 'float32', 1)\n",
    "    bytesLeft = bytesLeft - 4\n",
    "    \n",
    "    xDisplayOrigin = np.fromfile(fileId, 'float64', 1)\n",
    "    bytesLeft = bytesLeft - 8\n",
    "    \n",
    "    xIncrement = np.fromfile(fileId, 'float64', 1)\n",
    "    bytesLeft = bytesLeft - 8\n",
    "    \n",
    "    xOrigin = np.fromfile(fileId, 'float64', 1)\n",
    "    bytesLeft = bytesLeft - 8\n",
    "    \n",
    "    xUnits = np.fromfile(fileId, 'int32', 1)\n",
    "    bytesLeft = bytesLeft - 4\n",
    "    \n",
    "    yUnits = np.fromfile(fileId, 'int32', 1)\n",
    "    bytesLeft = bytesLeft - 4\n",
    "    \n",
    "    dateString = np.fromfile(fileId, 'int8', 16)\n",
    "    bytesLeft = bytesLeft - 16\n",
    "    \n",
    "    timeString = np.fromfile(fileId, 'int8', 16)\n",
    "    bytesLeft = bytesLeft - 16\n",
    "    \n",
    "    frameString = np.fromfile(fileId, 'int8', 24)\n",
    "    bytesLeft = bytesLeft - 24\n",
    "    \n",
    "    waveformString = np.fromfile(fileId, 'int8', 16)\n",
    "    bytesLeft = bytesLeft - 16\n",
    "    \n",
    "    timeTag = np.fromfile(fileId, 'float64', 1)\n",
    "    bytesLeft = bytesLeft - 8\n",
    "    \n",
    "    segmentIndex = np.fromfile(fileId, 'uint32', 1)\n",
    "    bytesLeft = bytesLeft - 4\n",
    "\n",
    "    # skip over any remaining data in the header\n",
    "    np.fromfile(fileId, 'int8', bytesLeft)\n",
    "\n",
    "    print( \"nWaveformBuffers = {}, nPoints = {}, count = {}\".format(nWaveformBuffers, nPoints, count) )\n",
    "    \n",
    "    # generate time vector from xIncrement and xOrigin values\n",
    "    #if (waveformIndex == waveformSelect):\n",
    "    #    timeVector = xIncrement * np.arange(nPoints) + xOrigin\n",
    "    \n",
    "    for bufferIndex in range(nWaveformBuffers):\n",
    "        # read waveform buffer header\n",
    "        headerSize = np.fromfile(fileId, 'int32', 1)\n",
    "        bytesLeft = headerSize - 4\n",
    "        \n",
    "        bufferType = np.fromfile(fileId, 'int16', 1)\n",
    "        bytesLeft = bytesLeft - 2\n",
    "        \n",
    "        bytesPerPoint = np.fromfile(fileId, 'int16', 1)\n",
    "        bytesLeft = bytesLeft - 2\n",
    "        \n",
    "        bufferSize = np.fromfile(fileId, 'int32', 1)\n",
    "        bytesLeft = bytesLeft - 4\n",
    "\n",
    "        # skip over any remaining data in the header\n",
    "        np.fromfile(fileId, 'int8', bytesLeft)\n",
    "\n",
    "        print( \"bytesPerPoint = {}, bufferSize = {}\".format(bytesPerPoint, bufferSize) )\n",
    "        \n",
    "        if (waveformIndex == waveformSelect):\n",
    "            if ((bufferType == 1) | (bufferType == 2) | (bufferType == 3)):\n",
    "                # bufferType is PB_DATA_NORMAL, PB_DATA_MIN, or PB_DATA_MAX (float)\n",
    "                voltageVector(:, bufferIndex) = np.fromfile(fileId, 'float', nPoints);\n",
    "                else if (bufferType == 4):\n",
    "                # bufferType is PB_DATA_COUNTS (int32)\n",
    "                voltageVector(:, bufferIndex) = np.fromfile(fileId, '*int32', nPoints);\n",
    "            else if (bufferType == 5):\n",
    "                # bufferType is PB_DATA_LOGIC (int8)\n",
    "                voltageVector(:, bufferIndex) = np.fromfile(fileId, '*uint8', nPoints);\n",
    "            else\n",
    "                # unrecognized bufferType read as unformated bytes\n",
    "                voltageVector(:, bufferIndex) = np.fromfile(fileId, '*uint8', bufferSize);\n",
    "        else\n",
    "            np.fromfile(fileId, 'int8', bufferSize )\n",
    "        \n",
    "        "
   ]
  },
  {
   "cell_type": "code",
   "execution_count": null,
   "metadata": {},
   "outputs": [],
   "source": [
    "bytesLeft"
   ]
  },
  {
   "cell_type": "code",
   "execution_count": null,
   "metadata": {
    "collapsed": true
   },
   "outputs": [],
   "source": []
  }
 ],
 "metadata": {
  "kernelspec": {
   "display_name": "Python 3",
   "language": "python",
   "name": "python3"
  },
  "language_info": {
   "codemirror_mode": {
    "name": "ipython",
    "version": 3
   },
   "file_extension": ".py",
   "mimetype": "text/x-python",
   "name": "python",
   "nbconvert_exporter": "python",
   "pygments_lexer": "ipython3",
   "version": "3.6.2"
  }
 },
 "nbformat": 4,
 "nbformat_minor": 2
}
