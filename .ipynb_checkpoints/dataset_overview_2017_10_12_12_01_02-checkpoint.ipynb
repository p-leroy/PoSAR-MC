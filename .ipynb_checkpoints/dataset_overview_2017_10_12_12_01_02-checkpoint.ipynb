{
 "cells": [
  {
   "cell_type": "code",
   "execution_count": 1,
   "metadata": {
    "collapsed": true
   },
   "outputs": [],
   "source": [
    "import numpy as np\n",
    "import matplotlib.pyplot as plt\n",
    "%matplotlib qt5"
   ]
  },
  {
   "cell_type": "code",
   "execution_count": 2,
   "metadata": {
    "collapsed": true
   },
   "outputs": [],
   "source": [
    "prefix = \"/home/pleroy/DATA/PoSAR-MC_PIMA_TEST-3/2017_10_12_\"\n",
    "data_dir = prefix + \"12_01_02\""
   ]
  },
  {
   "cell_type": "code",
   "execution_count": 3,
   "metadata": {
    "collapsed": true
   },
   "outputs": [],
   "source": [
    "blocksPerFile = 6\n",
    "firstFile = 0\n",
    "lastFile = 390\n",
    "numberOfFiles = int( (lastFile-firstFile) / blocksPerFile ) + 1\n",
    "\n",
    "samplesPerRamp = 6000\n",
    "rampsPerFile = 1500\n",
    "\n",
    "numberOfSamplesToRead = 2000"
   ]
  },
  {
   "cell_type": "code",
   "execution_count": 4,
   "metadata": {},
   "outputs": [
    {
     "data": {
      "text/plain": [
       "66"
      ]
     },
     "execution_count": 4,
     "metadata": {},
     "output_type": "execute_result"
    }
   ],
   "source": [
    "numberOfFiles"
   ]
  },
  {
   "cell_type": "code",
   "execution_count": 6,
   "metadata": {},
   "outputs": [
    {
     "name": "stdout",
     "output_type": "stream",
     "text": [
      "0 / 390\n",
      "6 / 390\n",
      "12 / 390\n",
      "18 / 390\n",
      "24 / 390\n",
      "30 / 390\n",
      "36 / 390\n",
      "42 / 390\n",
      "48 / 390\n",
      "54 / 390\n",
      "60 / 390\n",
      "66 / 390\n",
      "72 / 390\n",
      "78 / 390\n",
      "84 / 390\n",
      "90 / 390\n",
      "96 / 390\n",
      "102 / 390\n",
      "108 / 390\n",
      "114 / 390\n",
      "120 / 390\n",
      "126 / 390\n",
      "132 / 390\n",
      "138 / 390\n",
      "144 / 390\n",
      "150 / 390\n",
      "156 / 390\n",
      "162 / 390\n",
      "168 / 390\n",
      "174 / 390\n",
      "180 / 390\n",
      "186 / 390\n",
      "192 / 390\n",
      "198 / 390\n",
      "204 / 390\n",
      "210 / 390\n",
      "216 / 390\n",
      "222 / 390\n",
      "228 / 390\n",
      "234 / 390\n",
      "240 / 390\n",
      "246 / 390\n",
      "252 / 390\n",
      "258 / 390\n",
      "264 / 390\n",
      "270 / 390\n",
      "276 / 390\n",
      "282 / 390\n",
      "288 / 390\n",
      "294 / 390\n",
      "300 / 390\n",
      "306 / 390\n",
      "312 / 390\n",
      "318 / 390\n",
      "324 / 390\n",
      "330 / 390\n",
      "336 / 390\n",
      "342 / 390\n",
      "348 / 390\n",
      "354 / 390\n",
      "360 / 390\n",
      "366 / 390\n",
      "372 / 390\n",
      "378 / 390\n",
      "384 / 390\n",
      "390 / 390\n"
     ]
    }
   ],
   "source": [
    "timeSeries_A = np.zeros( (numberOfFiles, numberOfSamplesToRead) )\n",
    "timeSeries_B = np.zeros( (numberOfFiles, numberOfSamplesToRead) )\n",
    "dum = np.zeros( numberOfSamplesToRead * 2 )\n",
    "\n",
    "fileNumber = 0\n",
    "\n",
    "for loop in range (firstFile, lastFile+1, blocksPerFile ):\n",
    "    print( str(loop) + ' / ' + str(lastFile) )\n",
    "    # open the file containing data\n",
    "    stream = data_dir + '/record' + str(loop) + '.bin'\n",
    "    fd = open(stream,'rb')\n",
    "    # get the data contained in the file ramp by ramp\n",
    "    dum = np.fromfile(fd, dtype = np.int16, count = numberOfSamplesToRead * 2)\n",
    "    timeSeries_A[fileNumber, :] = dum[ 0 : 2 * numberOfSamplesToRead : 2 ]\n",
    "    timeSeries_B[fileNumber, :] = dum[ 1 : 2 * numberOfSamplesToRead : 2 ]\n",
    "    \n",
    "    fileNumber = fileNumber + 1\n",
    "    \n",
    "    fd.close()"
   ]
  },
  {
   "cell_type": "code",
   "execution_count": 7,
   "metadata": {},
   "outputs": [
    {
     "ename": "IndexError",
     "evalue": "index 70 is out of bounds for axis 0 with size 66",
     "output_type": "error",
     "traceback": [
      "\u001b[0;31m---------------------------------------------------------------------------\u001b[0m",
      "\u001b[0;31mIndexError\u001b[0m                                Traceback (most recent call last)",
      "\u001b[0;32m<ipython-input-7-e001f2b93fcf>\u001b[0m in \u001b[0;36m<module>\u001b[0;34m()\u001b[0m\n\u001b[1;32m      1\u001b[0m \u001b[0mplt\u001b[0m\u001b[0;34m.\u001b[0m\u001b[0mfigure\u001b[0m\u001b[0;34m(\u001b[0m\u001b[0;34m)\u001b[0m\u001b[0;34m\u001b[0m\u001b[0m\n\u001b[1;32m      2\u001b[0m \u001b[0;32mfor\u001b[0m \u001b[0mk\u001b[0m \u001b[0;32min\u001b[0m \u001b[0mrange\u001b[0m\u001b[0;34m(\u001b[0m\u001b[0;36m70\u001b[0m\u001b[0;34m,\u001b[0m\u001b[0;36m75\u001b[0m\u001b[0;34m)\u001b[0m\u001b[0;34m:\u001b[0m\u001b[0;34m\u001b[0m\u001b[0m\n\u001b[0;32m----> 3\u001b[0;31m     \u001b[0mplt\u001b[0m\u001b[0;34m.\u001b[0m\u001b[0mplot\u001b[0m\u001b[0;34m(\u001b[0m\u001b[0mtimeSeries_B\u001b[0m\u001b[0;34m[\u001b[0m\u001b[0mk\u001b[0m\u001b[0;34m,\u001b[0m\u001b[0;36m0\u001b[0m\u001b[0;34m:\u001b[0m\u001b[0;36m6000\u001b[0m\u001b[0;34m]\u001b[0m\u001b[0;34m,\u001b[0m \u001b[0mlabel\u001b[0m\u001b[0;34m=\u001b[0m\u001b[0mstr\u001b[0m\u001b[0;34m(\u001b[0m\u001b[0mk\u001b[0m\u001b[0;34m)\u001b[0m \u001b[0;34m)\u001b[0m\u001b[0;34m\u001b[0m\u001b[0m\n\u001b[0m\u001b[1;32m      4\u001b[0m \u001b[0mplt\u001b[0m\u001b[0;34m.\u001b[0m\u001b[0mlegend\u001b[0m\u001b[0;34m(\u001b[0m\u001b[0;34m)\u001b[0m\u001b[0;34m\u001b[0m\u001b[0m\n",
      "\u001b[0;31mIndexError\u001b[0m: index 70 is out of bounds for axis 0 with size 66"
     ]
    }
   ],
   "source": [
    "plt.figure()\n",
    "for k in range(70,75):\n",
    "    plt.plot(timeSeries_B[k,0:6000], label=str(k) )\n",
    "plt.legend()"
   ]
  },
  {
   "cell_type": "code",
   "execution_count": 8,
   "metadata": {},
   "outputs": [
    {
     "data": {
      "text/plain": [
       "<matplotlib.legend.Legend at 0x7fabd4151748>"
      ]
     },
     "execution_count": 8,
     "metadata": {},
     "output_type": "execute_result"
    }
   ],
   "source": [
    "plt.figure()\n",
    "for k in range(60,65):\n",
    "    plt.plot(timeSeries_B[k,0:6000], label=str(k) )\n",
    "plt.legend()"
   ]
  },
  {
   "cell_type": "code",
   "execution_count": null,
   "metadata": {
    "collapsed": true
   },
   "outputs": [],
   "source": [
    "plt.figure()\n",
    "for k in range(2):\n",
    "    plt.plot(timeSeries_A[k,0:6000])"
   ]
  },
  {
   "cell_type": "code",
   "execution_count": null,
   "metadata": {},
   "outputs": [],
   "source": [
    "plt.plot(timeSeries_B[19,:])"
   ]
  },
  {
   "cell_type": "code",
   "execution_count": null,
   "metadata": {
    "collapsed": true
   },
   "outputs": [],
   "source": [
    "A_reshaped = timeSeries_A.reshape(numberOfFiles * rampsPerFile, samplesPerRamp)"
   ]
  }
 ],
 "metadata": {
  "kernelspec": {
   "display_name": "Python 3",
   "language": "python",
   "name": "python3"
  },
  "language_info": {
   "codemirror_mode": {
    "name": "ipython",
    "version": 3
   },
   "file_extension": ".py",
   "mimetype": "text/x-python",
   "name": "python",
   "nbconvert_exporter": "python",
   "pygments_lexer": "ipython3",
   "version": "3.6.2"
  }
 },
 "nbformat": 4,
 "nbformat_minor": 2
}
