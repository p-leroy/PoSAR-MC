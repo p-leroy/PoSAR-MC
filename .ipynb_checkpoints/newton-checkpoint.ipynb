{
 "cells": [
  {
   "cell_type": "code",
   "execution_count": null,
   "metadata": {},
   "outputs": [],
   "source": [
    "import numpy as np\n",
    "import matplotlib.pyplot as plt\n",
    "import scipy.signal as signal\n",
    "import numexpr as ne\n",
    "%matplotlib qt5"
   ]
  },
  {
   "cell_type": "code",
   "execution_count": null,
   "metadata": {},
   "outputs": [],
   "source": [
    "import sys\n",
    "import time"
   ]
  },
  {
   "cell_type": "code",
   "execution_count": null,
   "metadata": {},
   "outputs": [],
   "source": [
    "%load_ext autoreload\n",
    "%autoreload 2"
   ]
  },
  {
   "cell_type": "code",
   "execution_count": null,
   "metadata": {},
   "outputs": [],
   "source": [
    "sys.path.insert(0, \"/home/pleroy/DEV/processing/focalization_python\")\n",
    "from posarutils.other.read_data_and_build_rd import *"
   ]
  },
  {
   "cell_type": "code",
   "execution_count": null,
   "metadata": {},
   "outputs": [],
   "source": [
    "from backprojection.tools import sb1, wa, pulse, pulse2"
   ]
  },
  {
   "cell_type": "code",
   "execution_count": null,
   "metadata": {},
   "outputs": [],
   "source": [
    "fmin = 5.725e9\n",
    "fMAX = 5.875e9\n",
    "fc = 5.8e9\n",
    "B = fMAX - fmin\n",
    "c = 3e8\n",
    "kc = 4 * np.pi * fc / c\n",
    "fs = 10e6\n",
    "\n",
    "rail = 0\n",
    "truck = 1\n",
    "plane = 2\n",
    "vehicule = plane\n",
    "\n",
    "if vehicule == rail:\n",
    "    T = 5e-3\n",
    "    rampsPerFile = 200\n",
    "    V = 0.1\n",
    "if vehicule == truck:\n",
    "    T = 5e-3\n",
    "    rampsPerFile = 200\n",
    "    V = 3\n",
    "if vehicule == plane:\n",
    "    T = 600e-6\n",
    "    rampsPerFile = 1500\n",
    "    V = 40\n",
    "\n",
    "alpha = 2 * (fMAX - fmin) / T\n",
    "samplesPerRamp = int( np.ceil( T * fs ) )\n",
    "samplesPerFile = rampsPerFile * samplesPerRamp\n",
    "samplesPerUpRamp = int( samplesPerRamp / 2 )\n",
    "\n",
    "print(\"T = {}, samplesPerRamp = {:.2f}, samplesPerFile = {:.2f}\".format(T, samplesPerRamp, samplesPerFile))\n",
    "\n",
    "t1 = np.arange( 0, T, 1/fs)\n",
    "t2 = np.arange( -T/2, T/2, 1/fs)"
   ]
  },
  {
   "cell_type": "markdown",
   "metadata": {},
   "source": [
    "# Build data"
   ]
  },
  {
   "cell_type": "code",
   "execution_count": null,
   "metadata": {},
   "outputs": [],
   "source": [
    "a = 0.603354564402\n",
    "b = a * 180 / (30 * np.pi) # see the Newton method at the bottom of the notebook"
   ]
  },
  {
   "cell_type": "code",
   "execution_count": null,
   "metadata": {},
   "outputs": [],
   "source": [
    "nbFiles = 20"
   ]
  },
  {
   "cell_type": "code",
   "execution_count": null,
   "metadata": {},
   "outputs": [],
   "source": [
    "hPlane = 90\n",
    "hCorner = 90\n",
    "gr_corner = 100\n",
    "rg_corner = ( (hPlane - hCorner)**2 + gr_corner**2 )**0.5\n",
    "az_corner = V * T * nbFiles * rampsPerFile / 2\n",
    "noise = 1\n",
    "print(\"rg_corner = {:.2f}, gr_corner = {:.2f}, az_corner = {:.2f}\".format(rg_corner, gr_corner, az_corner))"
   ]
  },
  {
   "cell_type": "code",
   "execution_count": null,
   "metadata": {},
   "outputs": [],
   "source": [
    "Laz = nbFiles * rampsPerFile * T * V\n",
    "phi = np.arctan( (Laz/2) / rg_corner )\n",
    "print( \"Laz = {:.0f}, phi = {:.1f}°\".format( Laz, phi * 180 / np.pi ) )"
   ]
  },
  {
   "cell_type": "code",
   "execution_count": null,
   "metadata": {},
   "outputs": [],
   "source": [
    "adc = np.zeros( (nbFiles * rampsPerFile, samplesPerRamp), dtype=complex )\n",
    "for ramp in range( nbFiles * rampsPerFile):\n",
    "    azn = ramp * T * V\n",
    "    Rn = ( rg_corner**2 + (azn - az_corner)**2 )**0.5\n",
    "    adc[ ramp,  0 : samplesPerRamp ] = sb1( t1, Rn, alpha, fc ) * wa( azn - az_corner, rg_corner ) \\\n",
    "    + np.random.randn( samplesPerRamp ) * noise / (Rn**2)\n",
    "    file = ramp/rampsPerFile\n",
    "    if file == np.floor(file):\n",
    "        phi = np.arccos( rg_corner / Rn ) * 180 / np.pi\n",
    "        print( \"{}, azn = {:.2f}, wa = {:.1f}, phi = {:.1f}, Rn = {:.1f}\".format( \n",
    "            file, azn, wa( azn - az_corner, rg_corner ), phi, Rn ) )"
   ]
  },
  {
   "cell_type": "markdown",
   "metadata": {},
   "source": [
    "# Backprojection"
   ]
  },
  {
   "cell_type": "code",
   "execution_count": null,
   "metadata": {},
   "outputs": [],
   "source": [
    "analyticSignal = adc[:, 0:samplesPerUpRamp:2]\n",
    "srf = np.fft.ifft( analyticSignal, axis=1 )\n",
    "print( \"srf.shape = {}\".format(srf.shape))"
   ]
  },
  {
   "cell_type": "markdown",
   "metadata": {},
   "source": [
    "## Image geometry"
   ]
  },
  {
   "cell_type": "code",
   "execution_count": null,
   "metadata": {},
   "outputs": [],
   "source": [
    "x_min = 200\n",
    "x_max = 500\n",
    "r_min = 80\n",
    "r_max = 120\n",
    "\n",
    "#extent=[horizontal_min,horizontal_max,vertical_min,vertical_max]\n",
    "extent=[r_min,r_max,x_max,x_min]\n",
    "\n",
    "d_x = 1\n",
    "d_r = 1\n",
    "\n",
    "x = np.arange( x_min, x_max, d_x )\n",
    "x = x.reshape( x.size, 1 )\n",
    "r = np.arange( r_min, r_max, d_r )\n",
    "r = r.reshape( 1, r.size )"
   ]
  },
  {
   "cell_type": "markdown",
   "metadata": {},
   "source": [
    "## Azimuth focalization"
   ]
  },
  {
   "cell_type": "code",
   "execution_count": null,
   "metadata": {},
   "outputs": [],
   "source": [
    "overSamplingRatio = 10\n",
    "Nf = srf.shape[1]\n",
    "Nover = overSamplingRatio * Nf\n",
    "rangeResolution = c / (2 * B)\n",
    "r_base = np.arange( 0, Nf ) * rangeResolution\n",
    "r_over = np.arange( 0, Nover ) * rangeResolution / overSamplingRatio\n",
    "print( \"range from {:.2f}m to {:.2f}m, resolution = {}m, oversampled = {}m, \".format(\n",
    "    r_over[0], r_over[-1], rangeResolution, rangeResolution / overSamplingRatio ) )"
   ]
  },
  {
   "cell_type": "code",
   "execution_count": null,
   "metadata": {},
   "outputs": [],
   "source": [
    "Naz = nbFiles * rampsPerFile\n",
    "xa_vec = np.arange( Naz ) * T * V\n",
    "\n",
    "print( \"x.shape = {}, r.shape = {}\".format( x.shape, r.shape ) )\n",
    "print( \"x from {} to {}, r from {} to {}\".format(x[0,0], x[-1,0], r[0,0], r[0,-1]) )\n",
    "\n",
    "phi = 6 * np.pi / 180\n",
    "\n",
    "nbLoops = xa_vec.shape[0]\n",
    "progress = int( nbLoops / 10 )"
   ]
  },
  {
   "cell_type": "code",
   "execution_count": null,
   "metadata": {},
   "outputs": [],
   "source": [
    "t = time.time()\n",
    "\n",
    "img  = np.zeros( (x.size, r.size), dtype=complex )\n",
    "print( \"img.shape = {}\".format( img.shape ) )\n",
    "\n",
    "loop = 0\n",
    "endK = xa_vec.size\n",
    "for k in range( endK ):\n",
    "    xa =xa_vec[k]\n",
    "    loop = k\n",
    "#     if xa in xa_vec[::progress]:\n",
    "#         print( \"{:.2f} / {:.2f}\".format(xa, xa_vec[-1] ) )\n",
    "\n",
    "    if k == endK-1:\n",
    "        d = (r[0,20]**2 + (xa-x[160,0])**2 )**0.5\n",
    "        aux1 = np.exp( 1j * kc * d )\n",
    "        y = signal.resample( srf[loop,:], Nover  )\n",
    "        aux2 = np.interp( d, r_over, signal.resample( srf[loop,:], Nover  ) )\n",
    "        aux3 = pulse2( (xa-x[160,0]) / (r[0,20]*np.tan(phi)) )\n",
    "        aux4 = aux1 * aux2 * aux3\n",
    "        print(\"k = {}   d = {}   aux1 = {}   aux2 = {}\\n   aux3 = {}   aux4 = {}\".format( k, d, aux1, aux2, aux3, aux4) )\n",
    "        print(\"srf = {:.10f}   srf = {:.10f}\\ny = {:.10f}   y = {:.10f}\\n\".format(srf[k, 0], srf[k, 1], y[1000], y[1001]))\n",
    "\n",
    "    img += np.exp( 1j * kc * (r**2 + (xa-x)**2 )**0.5 ) \\\n",
    "    * np.interp( (r**2 + (xa-x)**2 )**0.5, r_over, signal.resample( srf[loop,:], Nover  ) ) \\\n",
    "    * pulse( (xa-x) / (r*np.tan(phi)) )\n",
    "    \n",
    "    loop += 1\n",
    "# np.exp( -1j * kc * r)\n",
    "\n",
    "elapsed = time.time() - t\n",
    "print(\"execution time = \" + str(elapsed))"
   ]
  },
  {
   "cell_type": "code",
   "execution_count": null,
   "metadata": {},
   "outputs": [],
   "source": [
    "img[0,0]"
   ]
  },
  {
   "cell_type": "code",
   "execution_count": null,
   "metadata": {},
   "outputs": [],
   "source": [
    "plt.figure()\n",
    "plt.imshow( 20 * np.log10( np.abs( img ) ), cmap='jet', extent=extent )\n",
    "plt.grid()\n",
    "plt.colorbar(orientation=\"horizontal\")"
   ]
  },
  {
   "cell_type": "code",
   "execution_count": null,
   "metadata": {},
   "outputs": [],
   "source": [
    "data_dir = \"/home/pleroy/DATA/SIMU\"\n",
    "np.save( data_dir + \"/analyticSignal_{}_{}\".format(0, nbFiles-1), analyticSignal )"
   ]
  },
  {
   "cell_type": "code",
   "execution_count": null,
   "metadata": {},
   "outputs": [],
   "source": [
    "analyticSignal[0, 0:5]"
   ]
  },
  {
   "cell_type": "markdown",
   "metadata": {},
   "source": [
    "## Try to optimize"
   ]
  },
  {
   "cell_type": "code",
   "execution_count": null,
   "metadata": {},
   "outputs": [],
   "source": [
    "%load_ext line_profiler"
   ]
  },
  {
   "cell_type": "code",
   "execution_count": null,
   "metadata": {},
   "outputs": [],
   "source": [
    "def interp( x, xp, fp, dx, idx1, idx2, y ):\n",
    "    np.floor( x / dx, out=idx1, casting='unsafe' )\n",
    "    np.ceil( x / dx, out=idx2, casting='unsafe' )\n",
    "    y2 = fp[idx2]\n",
    "    y1 = fp[idx1]\n",
    "    x1 = xp[idx1]\n",
    "    ne.evaluate(\"(y2-y1) / dx * (x - x1) + y1\" , out=y )"
   ]
  },
  {
   "cell_type": "code",
   "execution_count": null,
   "metadata": {},
   "outputs": [],
   "source": [
    "xa = 0\n",
    "y = np.zeros( img.shape, dtype=complex )\n",
    "idx1 = np.zeros( img.shape, dtype=int )\n",
    "idx2 = np.zeros( img.shape, dtype=int )\n",
    "dx = r_over[1] - r_over[0]\n",
    "print( \"dx = {}\".format(dx) )\n",
    "d = ne.evaluate( \"(r**2 + (xa-x)**2 )**0.5\" )\n",
    "srf_over = signal.resample( srf[0,:], nbPointsResampled  )\n",
    "interp( d, r_over, srf_over, dx, idx1, idx2, y )"
   ]
  },
  {
   "cell_type": "code",
   "execution_count": null,
   "metadata": {},
   "outputs": [],
   "source": [
    "plt.figure()\n",
    "plt.plot(r_base, np.real(srf[0,:]), 'oy')\n",
    "plt.plot(r_over, np.real(srf_over))\n",
    "plt.plot(d[0,:], np.real(y[0,:]), '.-')"
   ]
  },
  {
   "cell_type": "code",
   "execution_count": null,
   "metadata": {},
   "outputs": [],
   "source": [
    "y = np.zeros( img.shape, dtype=complex )\n",
    "idx1 = np.zeros( img.shape, dtype=int )\n",
    "idx2 = np.zeros( img.shape, dtype=int )\n",
    "img  = np.zeros( (x.size, r.size), dtype=complex )\n",
    "print( \"img.shape = {}\".format( img.shape ) )\n",
    "dx = r_over[1] - r_over[0]\n",
    "print( \"dx = {}\".format(dx) )\n",
    "\n",
    "def backProjection( xa_vec, img ):\n",
    "    t = time.time()\n",
    "    loop = 0\n",
    "    img_xa = np.zeros( img.shape, dtype=complex )\n",
    "    d = np.zeros( img.shape, dtype=float )\n",
    "    for xa in xa_vec:\n",
    "        if xa in xa_vec[::progress]:\n",
    "            print( \"{:.2f} / {:.2f}\".format(xa, xa_vec[-1] ) )\n",
    "        ne.evaluate( \"(r**2 + (xa-x)**2 )**0.5\", out=d )\n",
    "        ne.evaluate( \"exp( 1j * kc * d )\", out=img_xa )\n",
    "        img_xa *= pulse( (xa-x) / (r*np.tan(phi)) )\n",
    "        srf_over = signal.resample( srf[loop,:], nbPointsResampled  )\n",
    "        interp( d, r_over, srf_over, dx, idx1, idx2, y )\n",
    "        img_xa *= y\n",
    "        #img_xa *= np.interp( d, r_over, signal.resample( srf[loop,:], nbPointsResampled  ) )\n",
    "        img += img_xa\n",
    "        loop += 1\n",
    "    elapsed = time.time() - t\n",
    "    print(\"execution time = \" + str(elapsed))"
   ]
  },
  {
   "cell_type": "code",
   "execution_count": null,
   "metadata": {},
   "outputs": [],
   "source": [
    "%lprun -f backProjection backProjection( xa_vec, img )"
   ]
  },
  {
   "cell_type": "code",
   "execution_count": null,
   "metadata": {},
   "outputs": [],
   "source": [
    "plt.figure()\n",
    "plt.imshow( 20 * np.log10( np.abs( img ) ), cmap='jet', extent=extent )\n",
    "plt.grid()\n",
    "plt.colorbar(orientation=\"horizontal\")"
   ]
  },
  {
   "cell_type": "code",
   "execution_count": null,
   "metadata": {},
   "outputs": [],
   "source": [
    "d = np.zeros( img.shape, dtype=float )"
   ]
  },
  {
   "cell_type": "code",
   "execution_count": null,
   "metadata": {},
   "outputs": [],
   "source": [
    "d.dtype"
   ]
  },
  {
   "cell_type": "markdown",
   "metadata": {},
   "source": [
    "# Save data"
   ]
  },
  {
   "cell_type": "code",
   "execution_count": null,
   "metadata": {},
   "outputs": [],
   "source": [
    "data_dir = \"/home/pleroy/DATA/SIMU\"\n",
    "np.save( data_dir + \"/analyticSignal_0_{}\".format(nbFiles-1), analyticSignal )"
   ]
  },
  {
   "cell_type": "markdown",
   "metadata": {},
   "source": [
    "# Newton's method\n",
    "f(x) = sin(x) / x\n",
    "\n",
    "f'(x) = cos(x) / x - sin(x) / x^2\n",
    "\n",
    "x(n+1) = x(n) - f(x(n)) / f'(x(n))\n",
    "\n",
    "x(n+1) = x(n) - [f(x(n)) - y0] / f'(x(n))"
   ]
  },
  {
   "cell_type": "code",
   "execution_count": null,
   "metadata": {},
   "outputs": [],
   "source": [
    "y0 = 0.1\n",
    "def newton( xn ):\n",
    "    f_xn = np.sinc( xn )\n",
    "    # numpy sinc  = sin(pi x) / (pi x)\n",
    "    f_prime_xn = np.cos(np.pi * xn) / xn - np.sin(np.pi*xn) / (np.pi*xn**2)\n",
    "    xn_plus_1 = xn - ( f_xn - y0 ) / f_prime_xn\n",
    "    return xn_plus_1"
   ]
  },
  {
   "cell_type": "code",
   "execution_count": null,
   "metadata": {},
   "outputs": [],
   "source": [
    "x = 1\n",
    "for k in range( 10 ):\n",
    "    x = newton( x )\n",
    "    print( x )"
   ]
  },
  {
   "cell_type": "code",
   "execution_count": null,
   "metadata": {},
   "outputs": [],
   "source": [
    "a = 0.603354564402 # y0 = 0.5\n",
    "a = 0.90792862378 # y0 = 0.1\n",
    "b = a * 180 / (30 * np.pi)"
   ]
  },
  {
   "cell_type": "code",
   "execution_count": null,
   "metadata": {},
   "outputs": [],
   "source": [
    "x = 30 * np.pi / 180\n",
    "np.sinc( b * x )"
   ]
  },
  {
   "cell_type": "markdown",
   "metadata": {},
   "source": [
    "# fft2D"
   ]
  },
  {
   "cell_type": "code",
   "execution_count": null,
   "metadata": {},
   "outputs": [],
   "source": [
    "plt.figure()\n",
    "plt.imshow(20*np.log10(np.abs(np.fft.fftshift(np.fft.fft2(img)))))"
   ]
  },
  {
   "cell_type": "code",
   "execution_count": null,
   "metadata": {},
   "outputs": [],
   "source": [
    "plt.figure()\n",
    "plt.imshow(20*np.log10(np.abs(np.fft.fftshift(np.fft.fft(img,axis=1), axes=1))))"
   ]
  },
  {
   "cell_type": "code",
   "execution_count": null,
   "metadata": {},
   "outputs": [],
   "source": [
    "plt.figure()\n",
    "plt.imshow(20*np.log10(np.abs(np.fft.fftshift(np.fft.fft(img,axis=0), axes=0))))"
   ]
  },
  {
   "cell_type": "code",
   "execution_count": null,
   "metadata": {},
   "outputs": [],
   "source": [
    "plt.figure()\n",
    "plt.plot(20*np.log10(np.abs(np.fft.fftshift(np.fft.ifft(np.real(signal.resample(srf[0,:],nbPointsResampled)))))))"
   ]
  }
 ],
 "metadata": {
  "kernelspec": {
   "display_name": "Python 3",
   "language": "python",
   "name": "python3"
  },
  "language_info": {
   "codemirror_mode": {
    "name": "ipython",
    "version": 3
   },
   "file_extension": ".py",
   "mimetype": "text/x-python",
   "name": "python",
   "nbconvert_exporter": "python",
   "pygments_lexer": "ipython3",
   "version": "3.6.3"
  }
 },
 "nbformat": 4,
 "nbformat_minor": 2
}
