{
 "cells": [
  {
   "cell_type": "code",
   "execution_count": 1,
   "metadata": {
    "collapsed": true
   },
   "outputs": [],
   "source": [
    "import numpy as np\n",
    "import matplotlib.pyplot as plt\n",
    "%matplotlib qt5"
   ]
  },
  {
   "cell_type": "code",
   "execution_count": 2,
   "metadata": {
    "collapsed": true
   },
   "outputs": [],
   "source": [
    "from posarmctools.readdata import *\n",
    "%load_ext autoreload\n",
    "%autoreload 2"
   ]
  },
  {
   "cell_type": "code",
   "execution_count": 3,
   "metadata": {
    "collapsed": true
   },
   "outputs": [],
   "source": [
    "import sys"
   ]
  },
  {
   "cell_type": "code",
   "execution_count": 4,
   "metadata": {
    "collapsed": true
   },
   "outputs": [],
   "source": [
    "sys.path.insert(0, \"/home/pleroy/DEV/processing/focalization_python\")\n",
    "from posarutils.other.read_data_and_build_rd import *\n",
    "from posarutils.other.PosarMCParameters import *"
   ]
  },
  {
   "cell_type": "code",
   "execution_count": 5,
   "metadata": {
    "collapsed": true
   },
   "outputs": [],
   "source": [
    "data_date = \"2017_10_12_11_52_43\"\n",
    "data_dir = \"/home/pleroy/DATA/PoSAR-MC_PIMA_TEST-3/2017_10_12/\" + data_date"
   ]
  },
  {
   "cell_type": "code",
   "execution_count": 7,
   "metadata": {
    "collapsed": true
   },
   "outputs": [],
   "source": [
    "params_filename = data_dir + \"/\" + data_date + \"_parameters.xml\"\n",
    "params = PosarMCParameters( params_filename )"
   ]
  },
  {
   "cell_type": "code",
   "execution_count": 67,
   "metadata": {},
   "outputs": [
    {
     "name": "stdout",
     "output_type": "stream",
     "text": [
      "blocksPerFile = 6, samplesPerRamp = 6000, rampsPerFile = 1500\n"
     ]
    }
   ],
   "source": [
    "blocksPerFile = params.blocksPerFile\n",
    "samplesPerRamp = params.samplesPerRamp\n",
    "rampsPerFile = params.rampsPerFile\n",
    "samplesPerFile = samplesPerRamp * rampsPerFile\n",
    "\n",
    "print( \"blocksPerFile = {}, samplesPerRamp = {}, rampsPerFile = {}\".format(\n",
    "    blocksPerFile, samplesPerRamp, rampsPerFile )\n",
    "     )\n",
    "\n",
    "# selection in record\n",
    "firstFile = 0\n",
    "nbFiles = 100\n",
    "lastFile = firstFile + nbFiles - 1\n",
    "firstBlock = firstFile * blocksPerFile"
   ]
  },
  {
   "cell_type": "markdown",
   "metadata": {},
   "source": [
    "### Read the data"
   ]
  },
  {
   "cell_type": "code",
   "execution_count": 69,
   "metadata": {
    "collapsed": true
   },
   "outputs": [],
   "source": [
    "timeSerie_A = np.zeros( samplesPerFile )\n",
    "timeSerie_B = np.zeros( samplesPerFile )\n",
    "\n",
    "adc_A = np.zeros( (nbFiles, samplesPerFile) )\n",
    "adc_B = np.zeros( (nbFiles, samplesPerFile) )"
   ]
  },
  {
   "cell_type": "code",
   "execution_count": 70,
   "metadata": {},
   "outputs": [
    {
     "name": "stdout",
     "output_type": "stream",
     "text": [
      "k = 0, block = 0 / 594\n",
      "k = 1, block = 6 / 594\n",
      "k = 2, block = 12 / 594\n",
      "k = 3, block = 18 / 594\n",
      "k = 4, block = 24 / 594\n",
      "k = 5, block = 30 / 594\n",
      "k = 6, block = 36 / 594\n",
      "k = 7, block = 42 / 594\n",
      "k = 8, block = 48 / 594\n",
      "k = 9, block = 54 / 594\n",
      "k = 10, block = 60 / 594\n",
      "k = 11, block = 66 / 594\n",
      "k = 12, block = 72 / 594\n",
      "k = 13, block = 78 / 594\n",
      "k = 14, block = 84 / 594\n",
      "k = 15, block = 90 / 594\n",
      "k = 16, block = 96 / 594\n",
      "k = 17, block = 102 / 594\n",
      "k = 18, block = 108 / 594\n",
      "k = 19, block = 114 / 594\n",
      "k = 20, block = 120 / 594\n",
      "k = 21, block = 126 / 594\n",
      "k = 22, block = 132 / 594\n",
      "k = 23, block = 138 / 594\n",
      "k = 24, block = 144 / 594\n",
      "k = 25, block = 150 / 594\n",
      "k = 26, block = 156 / 594\n",
      "k = 27, block = 162 / 594\n",
      "k = 28, block = 168 / 594\n",
      "k = 29, block = 174 / 594\n",
      "k = 30, block = 180 / 594\n",
      "k = 31, block = 186 / 594\n",
      "k = 32, block = 192 / 594\n",
      "k = 33, block = 198 / 594\n",
      "k = 34, block = 204 / 594\n",
      "k = 35, block = 210 / 594\n",
      "k = 36, block = 216 / 594\n",
      "k = 37, block = 222 / 594\n",
      "k = 38, block = 228 / 594\n",
      "k = 39, block = 234 / 594\n",
      "k = 40, block = 240 / 594\n",
      "k = 41, block = 246 / 594\n",
      "k = 42, block = 252 / 594\n",
      "k = 43, block = 258 / 594\n",
      "k = 44, block = 264 / 594\n",
      "k = 45, block = 270 / 594\n",
      "k = 46, block = 276 / 594\n",
      "k = 47, block = 282 / 594\n",
      "k = 48, block = 288 / 594\n",
      "k = 49, block = 294 / 594\n",
      "k = 50, block = 300 / 594\n",
      "k = 51, block = 306 / 594\n",
      "k = 52, block = 312 / 594\n",
      "k = 53, block = 318 / 594\n",
      "k = 54, block = 324 / 594\n",
      "k = 55, block = 330 / 594\n",
      "k = 56, block = 336 / 594\n",
      "k = 57, block = 342 / 594\n",
      "k = 58, block = 348 / 594\n",
      "k = 59, block = 354 / 594\n",
      "k = 60, block = 360 / 594\n",
      "k = 61, block = 366 / 594\n",
      "k = 62, block = 372 / 594\n",
      "k = 63, block = 378 / 594\n",
      "k = 64, block = 384 / 594\n",
      "k = 65, block = 390 / 594\n",
      "k = 66, block = 396 / 594\n",
      "k = 67, block = 402 / 594\n",
      "k = 68, block = 408 / 594\n",
      "k = 69, block = 414 / 594\n",
      "k = 70, block = 420 / 594\n",
      "k = 71, block = 426 / 594\n",
      "k = 72, block = 432 / 594\n",
      "k = 73, block = 438 / 594\n",
      "k = 74, block = 444 / 594\n",
      "k = 75, block = 450 / 594\n",
      "k = 76, block = 456 / 594\n",
      "k = 77, block = 462 / 594\n",
      "k = 78, block = 468 / 594\n",
      "k = 79, block = 474 / 594\n",
      "k = 80, block = 480 / 594\n",
      "k = 81, block = 486 / 594\n",
      "k = 82, block = 492 / 594\n",
      "k = 83, block = 498 / 594\n",
      "k = 84, block = 504 / 594\n",
      "k = 85, block = 510 / 594\n",
      "k = 86, block = 516 / 594\n",
      "k = 87, block = 522 / 594\n",
      "k = 88, block = 528 / 594\n",
      "k = 89, block = 534 / 594\n",
      "k = 90, block = 540 / 594\n",
      "k = 91, block = 546 / 594\n",
      "k = 92, block = 552 / 594\n",
      "k = 93, block = 558 / 594\n",
      "k = 94, block = 564 / 594\n",
      "k = 95, block = 570 / 594\n",
      "k = 96, block = 576 / 594\n",
      "k = 97, block = 582 / 594\n",
      "k = 98, block = 588 / 594\n",
      "k = 99, block = 594 / 594\n"
     ]
    }
   ],
   "source": [
    "lastBlock = (nbFiles-1) * blocksPerFile + firstBlock\n",
    "for k in range( nbFiles ):\n",
    "    \n",
    "    # read the data\n",
    "    nb = str( int( k * blocksPerFile + firstBlock) )\n",
    "    filename = data_dir + \"/record\" + nb + \".bin\"\n",
    "    readFile( filename, samplesPerFile, timeSerie_A, timeSerie_B )\n",
    "    \n",
    "    print(\"k = {}, block = {} / {}\".format(k, nb, lastBlock ))\n",
    "    \n",
    "    adc_A[ k, : ] = timeSerie_A\n",
    "    adc_B[ k, : ] = timeSerie_B"
   ]
  },
  {
   "cell_type": "code",
   "execution_count": 71,
   "metadata": {
    "collapsed": true
   },
   "outputs": [],
   "source": [
    "A_reshaped = adc_A.reshape(nbFiles * rampsPerFile, samplesPerRamp)\n",
    "B_reshaped = adc_B.reshape(nbFiles * rampsPerFile, samplesPerRamp)"
   ]
  },
  {
   "cell_type": "markdown",
   "metadata": {},
   "source": [
    "**Check that the first ramp is an up ramp**"
   ]
  },
  {
   "cell_type": "code",
   "execution_count": 72,
   "metadata": {
    "collapsed": true
   },
   "outputs": [],
   "source": [
    "plt.figure()\n",
    "plt.plot( A_reshaped[0, :] )\n",
    "plt.title(\"first acquisition\\n\" + data_date)\n",
    "plt.grid()"
   ]
  },
  {
   "cell_type": "markdown",
   "metadata": {},
   "source": [
    "**Set the shifted flag properly**"
   ]
  },
  {
   "cell_type": "code",
   "execution_count": 41,
   "metadata": {
    "collapsed": true
   },
   "outputs": [],
   "source": [
    "shifted = 1"
   ]
  },
  {
   "cell_type": "code",
   "execution_count": 42,
   "metadata": {
    "collapsed": true
   },
   "outputs": [],
   "source": [
    "ifft_a = np.fft.ifft( (A_reshaped[::,0:3000]), axis = 1 )"
   ]
  },
  {
   "cell_type": "code",
   "execution_count": 51,
   "metadata": {},
   "outputs": [
    {
     "data": {
      "text/plain": [
       "[<matplotlib.lines.Line2D at 0x7f750d673400>]"
      ]
     },
     "execution_count": 51,
     "metadata": {},
     "output_type": "execute_result"
    }
   ],
   "source": [
    "plt.figure()\n",
    "vmin = -15\n",
    "vmax = 0\n",
    "nbPointsInRange = 500\n",
    "plt.plot(  20 * np.log10( np.abs( ifft_a[2500,:] ) ) )\n",
    "plt.plot( np.ones( nbPointsInRange ) * vmin, \"b\" )\n",
    "plt.plot( np.ones( nbPointsInRange ) * vmax, \"r\" )"
   ]
  },
  {
   "cell_type": "code",
   "execution_count": 52,
   "metadata": {},
   "outputs": [
    {
     "data": {
      "text/plain": [
       "<matplotlib.text.Text at 0x7f752bb23ba8>"
      ]
     },
     "execution_count": 52,
     "metadata": {},
     "output_type": "execute_result"
    }
   ],
   "source": [
    "plt.matshow( 20 * np.log10( np.abs( ifft_a[:,:] ) ), \n",
    "            aspect='auto', vmin=-15, vmax=0, cmap='jet' )\n",
    "plt.title(\"Track 1 - record 2017_10_12_11_47_05\\nFiles {} to {}\".format(firstFile, lastFile) )"
   ]
  },
  {
   "cell_type": "markdown",
   "metadata": {},
   "source": [
    "## Remove coupling from raw data"
   ]
  },
  {
   "cell_type": "code",
   "execution_count": 21,
   "metadata": {
    "collapsed": true
   },
   "outputs": [],
   "source": [
    "coupling_A = np.average( A_reshaped, 0 )\n",
    "A2 = A_reshaped - coupling_A"
   ]
  },
  {
   "cell_type": "markdown",
   "metadata": {},
   "source": [
    "## Build RD"
   ]
  },
  {
   "cell_type": "code",
   "execution_count": 73,
   "metadata": {},
   "outputs": [
    {
     "name": "stdout",
     "output_type": "stream",
     "text": [
      "shape of the samples matrix = (150000, 6000)\n",
      "Data are shifted\n"
     ]
    }
   ],
   "source": [
    "RDc = build_rd_from_data( params, A_reshaped, shifted )"
   ]
  },
  {
   "cell_type": "code",
   "execution_count": 74,
   "metadata": {
    "collapsed": true
   },
   "outputs": [],
   "source": [
    "coupling_RD = np.average(RDc, 0)\n",
    "np.save( data_dir + \"/coupling_RD_files_{}_{}\".format(firstFile, lastFile), coupling_RD )"
   ]
  },
  {
   "cell_type": "code",
   "execution_count": 24,
   "metadata": {
    "collapsed": true
   },
   "outputs": [],
   "source": [
    "RD2 = RDc - coupling_RD"
   ]
  },
  {
   "cell_type": "code",
   "execution_count": 25,
   "metadata": {
    "collapsed": true
   },
   "outputs": [],
   "source": [
    "plt.figure()\n",
    "plt.plot(np.abs(coupling_RD), 'k', label='coupling')\n",
    "plt.legend()\n",
    "plt.grid()"
   ]
  },
  {
   "cell_type": "code",
   "execution_count": 65,
   "metadata": {
    "collapsed": true
   },
   "outputs": [],
   "source": [
    "np.save(data_dir + '/RD_files_{}_{}'.format(firstFile, lastFile), RDc)"
   ]
  },
  {
   "cell_type": "code",
   "execution_count": 27,
   "metadata": {},
   "outputs": [
    {
     "name": "stdout",
     "output_type": "stream",
     "text": [
      "ifft_RD done\n"
     ]
    }
   ],
   "source": [
    "ifft_RD = np.fft.ifft(RDc, axis = 1)\n",
    "print('ifft_RD done')"
   ]
  },
  {
   "cell_type": "code",
   "execution_count": 31,
   "metadata": {
    "collapsed": true
   },
   "outputs": [],
   "source": [
    "nbPointsInRange = 300\n",
    "x0 = 0\n",
    "x1 = x0 + nbPointsInRange\n",
    "y0 = 0\n",
    "y1 = 0\n",
    "extent = [ x0, x1, y0, y1 ]\n",
    "rangeStart = 0\n",
    "rangeStop = 500\n",
    "azStart = 6000\n",
    "azStop = 15000"
   ]
  },
  {
   "cell_type": "code",
   "execution_count": 32,
   "metadata": {},
   "outputs": [
    {
     "data": {
      "text/plain": [
       "<matplotlib.colorbar.Colorbar at 0x7f74a8d680f0>"
      ]
     },
     "execution_count": 32,
     "metadata": {},
     "output_type": "execute_result"
    }
   ],
   "source": [
    "plt.matshow( 20 * np.log10( np.abs( ifft_RD[:, rangeStart:rangeStop] ) ), aspect='auto')\n",
    "plt.title(data_date)\n",
    "ax = plt.gca()\n",
    "plt.colorbar()"
   ]
  },
  {
   "cell_type": "code",
   "execution_count": 33,
   "metadata": {},
   "outputs": [
    {
     "name": "stdout",
     "output_type": "stream",
     "text": [
      "fft2d done\n"
     ]
    }
   ],
   "source": [
    "fft2d = np.fft.fftshift( np.fft.fft( ifft_RD, axis = 0 ) , axes = 0)\n",
    "print('fft2d done')"
   ]
  },
  {
   "cell_type": "code",
   "execution_count": 34,
   "metadata": {},
   "outputs": [
    {
     "data": {
      "text/plain": [
       "<matplotlib.colorbar.Colorbar at 0x7f74a9cf2390>"
      ]
     },
     "execution_count": 34,
     "metadata": {},
     "output_type": "execute_result"
    }
   ],
   "source": [
    "plt.matshow( 20 * np.log( np.abs( fft2d[:, rangeStart:rangeStop] ) ), aspect='auto', cmap='jet', vmin=-60, vmax=50)\n",
    "plt.title(data_date)\n",
    "ax = plt.gca()\n",
    "plt.colorbar()"
   ]
  },
  {
   "cell_type": "code",
   "execution_count": null,
   "metadata": {
    "collapsed": true
   },
   "outputs": [],
   "source": [
    "adc_A_all = adc_A.reshape( rampsPerFile * nbFiles * samplesPerRamp )"
   ]
  },
  {
   "cell_type": "code",
   "execution_count": null,
   "metadata": {
    "collapsed": true
   },
   "outputs": [],
   "source": [
    "plt.figure()\n",
    "ramp = 10\n",
    "shift = 38\n",
    "sampleStart = ramp * samplesPerRamp\n",
    "plt.plot( adc_A_all[sampleStart : sampleStart+6000 ], 'k',\n",
    "         label='both ramps' )\n",
    "plt.plot( adc_A_all[sampleStart : sampleStart+3000 ],\n",
    "         label='up ramp' )\n",
    "plt.plot( np.flipud( adc_A_all[ sampleStart+3000 : sampleStart+6000 ] ),\n",
    "         label='flipped down ramp' )\n",
    "plt.plot( np.flipud( adc_A_all[ (sampleStart+3000+shift) : (sampleStart+6000+shift) ] ),\n",
    "         label='flipped down ramp SHIFTED' )\n",
    "plt.grid()\n",
    "plt.legend()"
   ]
  },
  {
   "cell_type": "code",
   "execution_count": null,
   "metadata": {
    "collapsed": true
   },
   "outputs": [],
   "source": [
    "plt.figure()\n",
    "ramp = 0\n",
    "plt.plot( A2[ramp, 0 : 6000 ], 'k', label='both ramps' )\n",
    "plt.plot( A2[ramp, 0 : 3000 ], label='up ramp' )\n",
    "plt.plot( np.flipud( A2[ramp, 3000 : 6000 ] ), label='flipped down ramp' )\n",
    "plt.grid()\n",
    "plt.legend()\n",
    "plt.title('A2')"
   ]
  },
  {
   "cell_type": "code",
   "execution_count": null,
   "metadata": {
    "collapsed": true
   },
   "outputs": [],
   "source": [
    "params.samplesPerRamp"
   ]
  },
  {
   "cell_type": "code",
   "execution_count": null,
   "metadata": {
    "collapsed": true
   },
   "outputs": [],
   "source": [
    "shifted"
   ]
  },
  {
   "cell_type": "code",
   "execution_count": null,
   "metadata": {
    "collapsed": true
   },
   "outputs": [],
   "source": [
    "import scipy.signal as signal"
   ]
  },
  {
   "cell_type": "code",
   "execution_count": null,
   "metadata": {
    "collapsed": true
   },
   "outputs": [],
   "source": [
    "s1 = A_reshaped[ramp, 0 : 3000 ]\n",
    "s2 = np.flipud( A_reshaped[ramp, 4000 : 5500 ] )\n",
    "\n",
    "corr = signal.correlate( s1, s2, mode='valid' )\n",
    "\n",
    "plt.figure()\n",
    "\n",
    "plt.subplot(211)\n",
    "plt.plot( corr, '.' )\n",
    "plt.grid()\n",
    "\n",
    "plt.subplot(212)\n",
    "plt.plot( s1 )\n",
    "plt.plot( s2 )\n",
    "plt.plot( np.arange(1500) + 538, s2 )\n",
    "plt.grid()\n",
    "\n",
    "plt.suptitle( 'max = {}'.format( np.where( corr == np.max(corr) )[0] ) )"
   ]
  },
  {
   "cell_type": "code",
   "execution_count": null,
   "metadata": {
    "collapsed": true
   },
   "outputs": [],
   "source": [
    "plt.plot(s1)"
   ]
  },
  {
   "cell_type": "code",
   "execution_count": null,
   "metadata": {
    "collapsed": true
   },
   "outputs": [],
   "source": []
  }
 ],
 "metadata": {
  "kernelspec": {
   "display_name": "Python 3",
   "language": "python",
   "name": "python3"
  },
  "language_info": {
   "codemirror_mode": {
    "name": "ipython",
    "version": 3
   },
   "file_extension": ".py",
   "mimetype": "text/x-python",
   "name": "python",
   "nbconvert_exporter": "python",
   "pygments_lexer": "ipython3",
   "version": "3.6.2"
  }
 },
 "nbformat": 4,
 "nbformat_minor": 2
}
