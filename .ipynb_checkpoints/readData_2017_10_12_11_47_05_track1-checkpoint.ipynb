{
 "cells": [
  {
   "cell_type": "code",
   "execution_count": 1,
   "metadata": {
    "collapsed": true
   },
   "outputs": [],
   "source": [
    "import numpy as np\n",
    "import matplotlib.pyplot as plt\n",
    "%matplotlib qt5"
   ]
  },
  {
   "cell_type": "code",
   "execution_count": 2,
   "metadata": {
    "collapsed": true
   },
   "outputs": [],
   "source": [
    "from posarmctools.readdata import *\n",
    "%load_ext autoreload\n",
    "%autoreload 2"
   ]
  },
  {
   "cell_type": "code",
   "execution_count": 3,
   "metadata": {
    "collapsed": true
   },
   "outputs": [],
   "source": [
    "import sys"
   ]
  },
  {
   "cell_type": "code",
   "execution_count": 4,
   "metadata": {
    "collapsed": true
   },
   "outputs": [],
   "source": [
    "sys.path.insert(0, \"/home/pleroy/DEV/processing/focalization_python\")\n",
    "from posarutils.other.read_data_and_build_rd import *\n",
    "from posarutils.other.PosarMCParameters import *"
   ]
  },
  {
   "cell_type": "code",
   "execution_count": 5,
   "metadata": {
    "collapsed": true
   },
   "outputs": [],
   "source": [
    "data_date = \"2017_10_12_11_47_05\"\n",
    "data_dir = \"/home/pleroy/DATA/PoSAR-MC_PIMA_TEST-3/2017_10_12/\" + data_date"
   ]
  },
  {
   "cell_type": "code",
   "execution_count": 6,
   "metadata": {
    "collapsed": true
   },
   "outputs": [],
   "source": [
    "blocksPerFile = 6\n",
    "samplesPerRamp = 6000\n",
    "rampsPerFile = 1500\n",
    "samplesPerFile = samplesPerRamp * rampsPerFile\n",
    "\n",
    "# selection in record\n",
    "firstFile = 43\n",
    "nbFiles = 14\n",
    "lastFile = firstFile + nbFiles - 1\n",
    "firstBlock = firstFile * blocksPerFile"
   ]
  },
  {
   "cell_type": "code",
   "execution_count": 7,
   "metadata": {},
   "outputs": [
    {
     "data": {
      "text/plain": [
       "56"
      ]
     },
     "execution_count": 7,
     "metadata": {},
     "output_type": "execute_result"
    }
   ],
   "source": [
    "lastFile"
   ]
  },
  {
   "cell_type": "markdown",
   "metadata": {},
   "source": [
    "### Read the data"
   ]
  },
  {
   "cell_type": "code",
   "execution_count": 8,
   "metadata": {
    "collapsed": true
   },
   "outputs": [],
   "source": [
    "timeSerie_A = np.zeros( samplesPerFile )\n",
    "timeSerie_B = np.zeros( samplesPerFile )\n",
    "\n",
    "adc_A = np.zeros( (nbFiles, samplesPerFile) )\n",
    "adc_B = np.zeros( (nbFiles, samplesPerFile) )"
   ]
  },
  {
   "cell_type": "code",
   "execution_count": 9,
   "metadata": {},
   "outputs": [
    {
     "name": "stdout",
     "output_type": "stream",
     "text": [
      "k = 0, block = 258 / 336\n",
      "k = 1, block = 264 / 336\n",
      "k = 2, block = 270 / 336\n",
      "k = 3, block = 276 / 336\n",
      "k = 4, block = 282 / 336\n",
      "k = 5, block = 288 / 336\n",
      "k = 6, block = 294 / 336\n",
      "k = 7, block = 300 / 336\n",
      "k = 8, block = 306 / 336\n",
      "k = 9, block = 312 / 336\n",
      "k = 10, block = 318 / 336\n",
      "k = 11, block = 324 / 336\n",
      "k = 12, block = 330 / 336\n",
      "k = 13, block = 336 / 336\n"
     ]
    }
   ],
   "source": [
    "lastBlock = (nbFiles-1) * blocksPerFile + firstBlock\n",
    "for k in range( nbFiles ):\n",
    "    \n",
    "    # read the data\n",
    "    nb = str( int( k * blocksPerFile + firstBlock) )\n",
    "    filename = data_dir + \"/record\" + nb + \".bin\"\n",
    "    readFile( filename, samplesPerFile, timeSerie_A, timeSerie_B )\n",
    "    \n",
    "    print(\"k = {}, block = {} / {}\".format(k, nb, lastBlock ))\n",
    "    \n",
    "    adc_A[ k, : ] = timeSerie_A\n",
    "    adc_B[ k, : ] = timeSerie_B"
   ]
  },
  {
   "cell_type": "code",
   "execution_count": 10,
   "metadata": {
    "collapsed": true
   },
   "outputs": [],
   "source": [
    "A_reshaped = adc_A.reshape(nbFiles * rampsPerFile, samplesPerRamp)\n",
    "B_reshaped = adc_B.reshape(nbFiles * rampsPerFile, samplesPerRamp)"
   ]
  },
  {
   "cell_type": "markdown",
   "metadata": {},
   "source": [
    "**Check that the first ramp is an up ramp**"
   ]
  },
  {
   "cell_type": "code",
   "execution_count": null,
   "metadata": {
    "collapsed": true
   },
   "outputs": [],
   "source": [
    "plt.figure()\n",
    "plt.plot( A_reshaped[0, :] )\n",
    "plt.title(\"first acquisition\\n\" + data_date)\n",
    "plt.grid()"
   ]
  },
  {
   "cell_type": "markdown",
   "metadata": {},
   "source": [
    "**Set the shifted flag properly**"
   ]
  },
  {
   "cell_type": "code",
   "execution_count": 11,
   "metadata": {
    "collapsed": true
   },
   "outputs": [],
   "source": [
    "shifted = 0"
   ]
  },
  {
   "cell_type": "code",
   "execution_count": null,
   "metadata": {
    "collapsed": true
   },
   "outputs": [],
   "source": [
    "ifft_a = np.fft.ifft( (A_reshaped[::,0:3000]), axis = 1 )"
   ]
  },
  {
   "cell_type": "code",
   "execution_count": null,
   "metadata": {},
   "outputs": [],
   "source": [
    "plt.figure()\n",
    "vmin = -15\n",
    "vmax = 7\n",
    "nbPointsInRange = 500\n",
    "plt.plot(  20 * np.log10( np.abs( ifft_a[2500,0:nbPointsInRange] ) ) )\n",
    "plt.plot( np.ones( nbPointsInRange ) * vmin, \"b\" )\n",
    "plt.plot( np.ones( nbPointsInRange ) * vmax, \"r\" )"
   ]
  },
  {
   "cell_type": "code",
   "execution_count": null,
   "metadata": {},
   "outputs": [],
   "source": [
    "plt.matshow( 20 * np.log10( np.abs( ifft_a[:,100:500] ) ), \n",
    "            aspect='auto', vmin=-15, vmax=7, cmap='jet' )\n",
    "plt.title(\"Track 1 - record 2017_10_12_11_47_05\\nFiles {} to {}\".format(firstFile, lastFile) )"
   ]
  },
  {
   "cell_type": "markdown",
   "metadata": {},
   "source": [
    "## Build RD"
   ]
  },
  {
   "cell_type": "code",
   "execution_count": 36,
   "metadata": {
    "collapsed": true
   },
   "outputs": [],
   "source": [
    "params_filename = data_dir + \"/\" + data_date + \"_parameters.xml\"\n",
    "params = PosarMCParameters( params_filename )"
   ]
  },
  {
   "cell_type": "code",
   "execution_count": 50,
   "metadata": {},
   "outputs": [
    {
     "name": "stdout",
     "output_type": "stream",
     "text": [
      "shape of the samples matrix = (21000, 6000)\n",
      "Data are NOT shifted\n"
     ]
    }
   ],
   "source": [
    "RDc = build_rd_from_data_upNdown( params, A_reshaped, shifted )"
   ]
  },
  {
   "cell_type": "code",
   "execution_count": 51,
   "metadata": {
    "collapsed": true
   },
   "outputs": [],
   "source": [
    "coupling_RD = np.average(RDc, 0)\n",
    "np.save( data_dir + \"/coupling_RD_files_{}_{}\".format(firstFile, lastFile), coupling_RD )"
   ]
  },
  {
   "cell_type": "code",
   "execution_count": 52,
   "metadata": {
    "collapsed": true
   },
   "outputs": [],
   "source": [
    "RD2 = RDc - coupling_RD"
   ]
  },
  {
   "cell_type": "code",
   "execution_count": 64,
   "metadata": {
    "collapsed": true
   },
   "outputs": [],
   "source": [
    "plt.figure()\n",
    "plt.plot(np.abs(coupling_RD))\n",
    "plt.grid()"
   ]
  },
  {
   "cell_type": "code",
   "execution_count": 40,
   "metadata": {
    "collapsed": true
   },
   "outputs": [],
   "source": [
    "np.save(data_dir + '/RD_files_{}_{}'.format(firstFile, lastFile), RDc)"
   ]
  },
  {
   "cell_type": "code",
   "execution_count": 53,
   "metadata": {
    "collapsed": true
   },
   "outputs": [],
   "source": [
    "ifft_RD = np.fft.ifft(RD2, axis = 1)"
   ]
  },
  {
   "cell_type": "code",
   "execution_count": 42,
   "metadata": {
    "collapsed": true
   },
   "outputs": [],
   "source": [
    "nbPointsInRange = 300\n",
    "x0 = 0\n",
    "x1 = nbPointsInRange\n",
    "y0 = 0\n",
    "y1 = 0\n",
    "extent = [ x0, x1, y0, y1 ]\n",
    "rangeStart = 0\n",
    "rangeStop = 500\n",
    "azStart = 6000\n",
    "azStop = 15000"
   ]
  },
  {
   "cell_type": "code",
   "execution_count": 63,
   "metadata": {},
   "outputs": [
    {
     "data": {
      "text/plain": [
       "<matplotlib.colorbar.Colorbar at 0x7f1f61ae4470>"
      ]
     },
     "execution_count": 63,
     "metadata": {},
     "output_type": "execute_result"
    }
   ],
   "source": [
    "plt.matshow( 20 * np.log10( np.abs( ifft_RD[:, rangeStart:rangeStop] ) ), aspect='auto')\n",
    "plt.title(data_date)\n",
    "ax = plt.gca()\n",
    "#ax.axes.set_xlim(130,170)\n",
    "#ax.axes.set_ylim(280,376)\n",
    "plt.colorbar()"
   ]
  },
  {
   "cell_type": "code",
   "execution_count": 56,
   "metadata": {},
   "outputs": [],
   "source": [
    "fft2d = np.fft.fftshift( np.fft.fft( ifft_RD, axis = 0 ) , axes = 0)"
   ]
  },
  {
   "cell_type": "code",
   "execution_count": 57,
   "metadata": {},
   "outputs": [
    {
     "data": {
      "text/plain": [
       "<matplotlib.colorbar.Colorbar at 0x7f1f63383b00>"
      ]
     },
     "execution_count": 57,
     "metadata": {},
     "output_type": "execute_result"
    }
   ],
   "source": [
    "plt.matshow( 20 * np.log( np.abs( fft2d[:, rangeStart:rangeStop] ) ), aspect='auto', cmap='jet', vmin=-60, vmax=50)\n",
    "plt.title(data_date)\n",
    "ax = plt.gca()\n",
    "#ax.axes.set_xlim(130,170)\n",
    "#ax.axes.set_ylim(280,376)\n",
    "plt.colorbar()"
   ]
  },
  {
   "cell_type": "code",
   "execution_count": 70,
   "metadata": {},
   "outputs": [
    {
     "data": {
      "text/plain": [
       "<matplotlib.legend.Legend at 0x7f1f6088b3c8>"
      ]
     },
     "execution_count": 70,
     "metadata": {},
     "output_type": "execute_result"
    }
   ],
   "source": [
    "plt.figure()\n",
    "ramp = 0\n",
    "plt.plot( A_reshaped[ramp, 0 : 6000 ], 'k', label='both ramps' )\n",
    "plt.plot( A_reshaped[ramp, 0 : 3000 ], label='up ramp' )\n",
    "plt.plot( np.flipud( A_reshaped[ramp, 3000 : 6000 ] ), label='flipped down ramp' )\n",
    "plt.grid()\n",
    "plt.legend()"
   ]
  },
  {
   "cell_type": "code",
   "execution_count": 61,
   "metadata": {},
   "outputs": [
    {
     "data": {
      "text/plain": [
       "6000"
      ]
     },
     "execution_count": 61,
     "metadata": {},
     "output_type": "execute_result"
    }
   ],
   "source": []
  },
  {
   "cell_type": "code",
   "execution_count": 65,
   "metadata": {},
   "outputs": [
    {
     "data": {
      "text/plain": [
       "6000"
      ]
     },
     "execution_count": 65,
     "metadata": {},
     "output_type": "execute_result"
    }
   ],
   "source": [
    "params.samplesPerRamp"
   ]
  },
  {
   "cell_type": "code",
   "execution_count": 66,
   "metadata": {},
   "outputs": [
    {
     "data": {
      "text/plain": [
       "0"
      ]
     },
     "execution_count": 66,
     "metadata": {},
     "output_type": "execute_result"
    }
   ],
   "source": [
    "shifted"
   ]
  },
  {
   "cell_type": "code",
   "execution_count": null,
   "metadata": {
    "collapsed": true
   },
   "outputs": [],
   "source": []
  }
 ],
 "metadata": {
  "kernelspec": {
   "display_name": "Python 3",
   "language": "python",
   "name": "python3"
  },
  "language_info": {
   "codemirror_mode": {
    "name": "ipython",
    "version": 3
   },
   "file_extension": ".py",
   "mimetype": "text/x-python",
   "name": "python",
   "nbconvert_exporter": "python",
   "pygments_lexer": "ipython3",
   "version": "3.6.2"
  }
 },
 "nbformat": 4,
 "nbformat_minor": 2
}
