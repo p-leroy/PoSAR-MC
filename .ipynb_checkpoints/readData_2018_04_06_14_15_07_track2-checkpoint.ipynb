{
 "cells": [
  {
   "cell_type": "code",
   "execution_count": null,
   "metadata": {},
   "outputs": [],
   "source": [
    "import numpy as np\n",
    "import matplotlib.pyplot as plt\n",
    "%matplotlib qt5"
   ]
  },
  {
   "cell_type": "code",
   "execution_count": null,
   "metadata": {},
   "outputs": [],
   "source": [
    "from posarmctools.readdata import *\n",
    "%load_ext autoreload\n",
    "%autoreload 2"
   ]
  },
  {
   "cell_type": "code",
   "execution_count": null,
   "metadata": {},
   "outputs": [],
   "source": [
    "import sys"
   ]
  },
  {
   "cell_type": "code",
   "execution_count": null,
   "metadata": {},
   "outputs": [],
   "source": [
    "sys.path.insert(0, \"/home/pleroy/DEV/processing/focalization_python\")\n",
    "from posarutils.other.read_data_and_build_rd import *\n",
    "from posarutils.other.PosarMCParameters import *"
   ]
  },
  {
   "cell_type": "code",
   "execution_count": null,
   "metadata": {},
   "outputs": [],
   "source": [
    "data_date = \"2018_04_06_14_06_48\"\n",
    "data_dir = \"/home/pleroy/DATA/PoSAR-v2_PIMA_TEST-1/\" + data_date"
   ]
  },
  {
   "cell_type": "code",
   "execution_count": null,
   "metadata": {},
   "outputs": [],
   "source": [
    "params_filename = data_dir + \"/\" + data_date + \"_parameters.xml\"\n",
    "params = PosarMCParameters_v2( params_filename )"
   ]
  },
  {
   "cell_type": "code",
   "execution_count": null,
   "metadata": {},
   "outputs": [],
   "source": [
    "buffersPerFile = params.buffersPerFile\n",
    "samplesPerRamp = params.samplesPerRamp\n",
    "rampsPerFile = params.rampsPerFile\n",
    "samplesPerFile = samplesPerRamp * rampsPerFile\n",
    "\n",
    "print( \"buffersPerFile = {}, samplesPerRamp = {}, rampsPerFile = {}\".format(\n",
    "    buffersPerFile, samplesPerRamp, rampsPerFile )\n",
    "     )\n",
    "\n",
    "# selection in record\n",
    "firstFile = 60\n",
    "nbFiles = 70\n",
    "lastFile = firstFile + nbFiles - 1\n",
    "firstBuffer = firstFile * buffersPerFile"
   ]
  },
  {
   "cell_type": "markdown",
   "metadata": {},
   "source": [
    "### Read the data"
   ]
  },
  {
   "cell_type": "code",
   "execution_count": null,
   "metadata": {},
   "outputs": [],
   "source": [
    "scalingFactor = 2 / 65535\n",
    "offset = -32768"
   ]
  },
  {
   "cell_type": "code",
   "execution_count": null,
   "metadata": {},
   "outputs": [],
   "source": [
    "timeSerie_A = np.zeros( samplesPerFile )\n",
    "timeSerie_B = np.zeros( samplesPerFile )\n",
    "\n",
    "adc_A = np.zeros( (nbFiles, samplesPerFile) )"
   ]
  },
  {
   "cell_type": "code",
   "execution_count": null,
   "metadata": {},
   "outputs": [],
   "source": [
    "lastBuffer = (nbFiles-1) * buffersPerFile + firstBuffer\n",
    "for k in range( nbFiles ):\n",
    "    \n",
    "    # read the data\n",
    "    nb = str( int( k * buffersPerFile + firstBuffer) )\n",
    "    filename = data_dir + \"/record\" + nb + \".bin\"\n",
    "    readFileADLINK( filename, samplesPerFile, timeSerie_A, timeSerie_B )\n",
    "    \n",
    "    print(\"k = {}, block = {} / {}\".format(k, nb, lastBuffer))\n",
    "    \n",
    "    adc_A[ k, : ] = (timeSerie_A + offset) * scalingFactor"
   ]
  },
  {
   "cell_type": "code",
   "execution_count": null,
   "metadata": {},
   "outputs": [],
   "source": [
    "A_reshaped = adc_A.reshape(nbFiles * rampsPerFile, samplesPerRamp)"
   ]
  },
  {
   "cell_type": "markdown",
   "metadata": {},
   "source": [
    "**Check that the first ramp is an up ramp**"
   ]
  },
  {
   "cell_type": "code",
   "execution_count": null,
   "metadata": {},
   "outputs": [],
   "source": [
    "plt.figure()\n",
    "plt.plot( A_reshaped[0, :] )\n",
    "plt.title(\"first acquisition\\n\" + data_date)\n",
    "plt.grid()"
   ]
  },
  {
   "cell_type": "markdown",
   "metadata": {},
   "source": [
    "**Set the shifted flag properly**"
   ]
  },
  {
   "cell_type": "code",
   "execution_count": null,
   "metadata": {},
   "outputs": [],
   "source": [
    "shifted = 1"
   ]
  },
  {
   "cell_type": "code",
   "execution_count": null,
   "metadata": {},
   "outputs": [],
   "source": [
    "ifft_a = np.fft.ifft( (A_reshaped[::10,0:3000]), axis = 1 )"
   ]
  },
  {
   "cell_type": "code",
   "execution_count": null,
   "metadata": {},
   "outputs": [],
   "source": [
    "plt.figure()\n",
    "vmin = -100\n",
    "vmax = -75\n",
    "nbPointsInRange = 500\n",
    "plt.plot(  20 * np.log10( np.abs( ifft_a[2500,:] ) ) )\n",
    "plt.plot( np.ones( nbPointsInRange ) * vmin, \"b\" )\n",
    "plt.plot( np.ones( nbPointsInRange ) * vmax, \"r\" )"
   ]
  },
  {
   "cell_type": "code",
   "execution_count": null,
   "metadata": {},
   "outputs": [],
   "source": [
    "plt.matshow( 20 * np.log10( np.abs( ifft_a[::,200:1000] ) ), \n",
    "            aspect='auto', vmin=vmin, vmax=vmax, cmap='jet' )\n",
    "plt.title(\"Track 1 - record 2017_10_12_11_47_05\\nFiles {} to {}\".format(firstFile, lastFile) )"
   ]
  },
  {
   "cell_type": "markdown",
   "metadata": {},
   "source": [
    "## Remove coupling from raw data"
   ]
  },
  {
   "cell_type": "code",
   "execution_count": null,
   "metadata": {},
   "outputs": [],
   "source": [
    "coupling_A = np.average( A_reshaped, 0 )\n",
    "A2 = A_reshaped - coupling_A"
   ]
  },
  {
   "cell_type": "code",
   "execution_count": null,
   "metadata": {},
   "outputs": [],
   "source": [
    "plt.figure()\n",
    "plt.plot(coupling_A)\n",
    "plt.grid()"
   ]
  },
  {
   "cell_type": "code",
   "execution_count": null,
   "metadata": {},
   "outputs": [],
   "source": [
    "plt.figure()\n",
    "plt.plot( A2[0,:] )\n",
    "plt.grid()"
   ]
  },
  {
   "cell_type": "markdown",
   "metadata": {},
   "source": [
    "## Build RD"
   ]
  },
  {
   "cell_type": "code",
   "execution_count": null,
   "metadata": {},
   "outputs": [],
   "source": [
    "RDc = build_rd_from_data( params, A_reshaped, shifted )"
   ]
  },
  {
   "cell_type": "code",
   "execution_count": null,
   "metadata": {},
   "outputs": [],
   "source": [
    "coupling_RD = np.average(RDc, 0)\n",
    "np.save( data_dir + \"/coupling_RD_files_{}_{}\".format(firstFile, lastFile), coupling_RD )"
   ]
  },
  {
   "cell_type": "code",
   "execution_count": null,
   "metadata": {},
   "outputs": [],
   "source": [
    "RD2 = RDc - coupling_RD"
   ]
  },
  {
   "cell_type": "code",
   "execution_count": null,
   "metadata": {},
   "outputs": [],
   "source": [
    "plt.figure()\n",
    "plt.plot(np.abs(coupling_RD), 'k', label='coupling')\n",
    "plt.legend()\n",
    "plt.grid()"
   ]
  },
  {
   "cell_type": "code",
   "execution_count": null,
   "metadata": {},
   "outputs": [],
   "source": [
    "np.save(data_dir + '/RD_files_{}_{}'.format(firstFile, lastFile), RDc)"
   ]
  },
  {
   "cell_type": "code",
   "execution_count": null,
   "metadata": {},
   "outputs": [],
   "source": [
    "ifft_RD = np.fft.ifft(RDc, axis = 1)\n",
    "print('ifft_RD done')"
   ]
  },
  {
   "cell_type": "code",
   "execution_count": null,
   "metadata": {},
   "outputs": [],
   "source": [
    "nbPointsInRange = 300\n",
    "x0 = 0\n",
    "x1 = x0 + nbPointsInRange\n",
    "y0 = 0\n",
    "y1 = 0\n",
    "extent = [ x0, x1, y0, y1 ]\n",
    "rangeStart = 200\n",
    "rangeStop = 1000\n",
    "azStart = 6000\n",
    "azStop = 15000"
   ]
  },
  {
   "cell_type": "code",
   "execution_count": null,
   "metadata": {},
   "outputs": [],
   "source": [
    "plt.matshow( 20 * np.log10( np.abs( ifft_RD[:, rangeStart:rangeStop] ) ), aspect='auto')\n",
    "plt.title(data_date)\n",
    "ax = plt.gca()\n",
    "plt.colorbar()"
   ]
  },
  {
   "cell_type": "code",
   "execution_count": null,
   "metadata": {},
   "outputs": [],
   "source": [
    "fft2d = np.fft.fftshift( np.fft.fft( ifft_RD, axis = 0 ) , axes = 0)\n",
    "print('fft2d done')"
   ]
  },
  {
   "cell_type": "code",
   "execution_count": null,
   "metadata": {},
   "outputs": [],
   "source": [
    "plt.matshow( 20 * np.log( np.abs( fft2d[:, rangeStart:rangeStop] ) ), aspect='auto', cmap='jet', vmin=-60, vmax=50)\n",
    "plt.title(data_date)\n",
    "ax = plt.gca()\n",
    "plt.colorbar()"
   ]
  },
  {
   "cell_type": "code",
   "execution_count": null,
   "metadata": {},
   "outputs": [],
   "source": [
    "adc_A_all = adc_A.reshape( rampsPerFile * nbFiles * samplesPerRamp )"
   ]
  },
  {
   "cell_type": "code",
   "execution_count": null,
   "metadata": {},
   "outputs": [],
   "source": [
    "plt.figure()\n",
    "ramp = 10\n",
    "shift = 38\n",
    "sampleStart = ramp * samplesPerRamp\n",
    "plt.plot( adc_A_all[sampleStart : sampleStart+6000 ], 'k',\n",
    "         label='both ramps' )\n",
    "plt.plot( adc_A_all[sampleStart : sampleStart+3000 ],\n",
    "         label='up ramp' )\n",
    "plt.plot( np.flipud( adc_A_all[ sampleStart+3000 : sampleStart+6000 ] ),\n",
    "         label='flipped down ramp' )\n",
    "plt.plot( np.flipud( adc_A_all[ (sampleStart+3000+shift) : (sampleStart+6000+shift) ] ),\n",
    "         label='flipped down ramp SHIFTED' )\n",
    "plt.grid()\n",
    "plt.legend()"
   ]
  },
  {
   "cell_type": "code",
   "execution_count": null,
   "metadata": {},
   "outputs": [],
   "source": [
    "plt.figure()\n",
    "ramp = 0\n",
    "plt.plot( A2[ramp, 0 : 6000 ], 'k', label='both ramps' )\n",
    "plt.plot( A2[ramp, 0 : 3000 ], label='up ramp' )\n",
    "plt.plot( np.flipud( A2[ramp, 3000 : 6000 ] ), label='flipped down ramp' )\n",
    "plt.grid()\n",
    "plt.legend()\n",
    "plt.title('A2')"
   ]
  },
  {
   "cell_type": "code",
   "execution_count": null,
   "metadata": {},
   "outputs": [],
   "source": [
    "params.samplesPerRamp"
   ]
  },
  {
   "cell_type": "code",
   "execution_count": null,
   "metadata": {},
   "outputs": [],
   "source": [
    "shifted"
   ]
  },
  {
   "cell_type": "code",
   "execution_count": null,
   "metadata": {},
   "outputs": [],
   "source": [
    "import scipy.signal as signal"
   ]
  },
  {
   "cell_type": "code",
   "execution_count": null,
   "metadata": {},
   "outputs": [],
   "source": [
    "s1 = A_reshaped[ramp, 0 : 3000 ]\n",
    "s2 = np.flipud( A_reshaped[ramp, 4000 : 5500 ] )\n",
    "\n",
    "corr = signal.correlate( s1, s2, mode='valid' )\n",
    "\n",
    "plt.figure()\n",
    "\n",
    "plt.subplot(211)\n",
    "plt.plot( corr, '.' )\n",
    "plt.grid()\n",
    "\n",
    "plt.subplot(212)\n",
    "plt.plot( s1 )\n",
    "plt.plot( s2 )\n",
    "plt.plot( np.arange(1500) + 538, s2 )\n",
    "plt.grid()\n",
    "\n",
    "plt.suptitle( 'max = {}'.format( np.where( corr == np.max(corr) )[0] ) )"
   ]
  },
  {
   "cell_type": "code",
   "execution_count": null,
   "metadata": {},
   "outputs": [],
   "source": [
    "plt.plot(s1)"
   ]
  },
  {
   "cell_type": "code",
   "execution_count": null,
   "metadata": {},
   "outputs": [],
   "source": []
  }
 ],
 "metadata": {
  "kernelspec": {
   "display_name": "Python 3",
   "language": "python",
   "name": "python3"
  },
  "language_info": {
   "codemirror_mode": {
    "name": "ipython",
    "version": 3
   },
   "file_extension": ".py",
   "mimetype": "text/x-python",
   "name": "python",
   "nbconvert_exporter": "python",
   "pygments_lexer": "ipython3",
   "version": "3.6.4"
  }
 },
 "nbformat": 4,
 "nbformat_minor": 2
}
