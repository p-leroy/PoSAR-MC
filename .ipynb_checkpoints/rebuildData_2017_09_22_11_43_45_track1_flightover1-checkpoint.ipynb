{
 "cells": [
  {
   "cell_type": "code",
   "execution_count": 1,
   "metadata": {
    "collapsed": true
   },
   "outputs": [],
   "source": [
    "import numpy as np\n",
    "import matplotlib.pyplot as plt\n",
    "%matplotlib qt5"
   ]
  },
  {
   "cell_type": "code",
   "execution_count": 2,
   "metadata": {
    "collapsed": true
   },
   "outputs": [],
   "source": [
    "prefix = \"/home/pleroy/DATA/PoSAR-MC_PIMA_TEST-2/2017_09_22_\"\n",
    "data_dir = prefix + \"11_43_45\""
   ]
  },
  {
   "cell_type": "code",
   "execution_count": 37,
   "metadata": {
    "collapsed": true
   },
   "outputs": [],
   "source": [
    "blocksPerFile = 6\n",
    "samplesPerRamp = 6000\n",
    "rampsPerFile = 1500\n",
    "samplesPerFile = samplesPerRamp * rampsPerFile\n",
    "\n",
    "firstFile = 24 + 6 * 10\n",
    "numberOfFiles = 11\n",
    "lastFile = firstFile + numberOfFiles * blocksPerFile\n",
    "nbFilesToCheck = numberOfFiles\n",
    "nbFilesToRebuild = numberOfFiles"
   ]
  },
  {
   "cell_type": "markdown",
   "metadata": {},
   "source": [
    "**Note**: with file 84 to 144 one can see a nice migration"
   ]
  },
  {
   "cell_type": "markdown",
   "metadata": {},
   "source": [
    "### Read the data"
   ]
  },
  {
   "cell_type": "code",
   "execution_count": 21,
   "metadata": {
    "collapsed": true
   },
   "outputs": [],
   "source": [
    "def readFile( filename, timeSerie_A, timeSerie_B ):\n",
    "    fd = open(filename,'rb')\n",
    "    \n",
    "    dum = np.fromfile(fd, dtype = np.int16)\n",
    "\n",
    "    timeSerie_A[:] = dum[ 0 : 2 * samplesPerFile : 2 ]\n",
    "    timeSerie_B[:] = dum[ 1 : 2 * samplesPerFile : 2 ]\n",
    "    \n",
    "    fd.close()"
   ]
  },
  {
   "cell_type": "code",
   "execution_count": 22,
   "metadata": {
    "collapsed": true
   },
   "outputs": [],
   "source": [
    "timeSerie_A = np.zeros( samplesPerFile )\n",
    "timeSerie_B = np.zeros( samplesPerFile )"
   ]
  },
  {
   "cell_type": "markdown",
   "metadata": {},
   "source": [
    "### Check pulse duration in B channel data"
   ]
  },
  {
   "cell_type": "code",
   "execution_count": 6,
   "metadata": {
    "collapsed": true
   },
   "outputs": [],
   "source": [
    "threshold = 6000"
   ]
  },
  {
   "cell_type": "code",
   "execution_count": 7,
   "metadata": {},
   "outputs": [
    {
     "name": "stdout",
     "output_type": "stream",
     "text": [
      "file 24, pulseDuration =  1070\n",
      "file 30, pulseDuration =  1095\n",
      "file 36, pulseDuration =  1114\n",
      "file 42, pulseDuration =  1084\n",
      "file 48, pulseDuration =  1088\n",
      "file 54, pulseDuration =  1082\n",
      "file 60, pulseDuration =  1039\n",
      "file 66, pulseDuration =  1000\n",
      "file 72, pulseDuration =  1000\n",
      "file 78, pulseDuration =  1000\n",
      "file 84, pulseDuration =  1000\n"
     ]
    }
   ],
   "source": [
    "for k in range(nbFilesToCheck):\n",
    "    nb = str(int(k * blocksPerFile + firstFile))\n",
    "    readFile( data_dir + \"/record\" + nb +\".bin\", timeSerie_A, timeSerie_B )\n",
    "    pulseDuration = np.where(timeSerie_B > threshold)[0].shape[0]\n",
    "    print(\"file \" + str(nb) + \", pulseDuration =  \" + str(pulseDuration))"
   ]
  },
  {
   "cell_type": "markdown",
   "metadata": {},
   "source": [
    "### Check the triggers in the B channel data"
   ]
  },
  {
   "cell_type": "code",
   "execution_count": 8,
   "metadata": {},
   "outputs": [
    {
     "name": "stdout",
     "output_type": "stream",
     "text": [
      "file 24, threshold = [8999501]\n",
      "file 30, threshold = [8999406]\n",
      "file 36, threshold = [8999292]\n",
      "file 42, threshold = [8999208]\n",
      "file 48, threshold = [8999120]\n",
      "file 54, threshold = [8999038]\n",
      "file 60, threshold = [8998993]\n",
      "file 66, threshold = [8998894]\n",
      "file 72, threshold = [8998839]\n",
      "file 78, threshold = [8998754]\n",
      "file 84, threshold = [8998690]\n"
     ]
    }
   ],
   "source": [
    "for k in range(nbFilesToCheck):\n",
    "    nb = str(int(k * blocksPerFile + firstFile))\n",
    "    readFile( data_dir + \"/record\" + nb +\".bin\", timeSerie_A, timeSerie_B )\n",
    "    triggers = np.where( np.diff(timeSerie_B) > threshold )[0]\n",
    "    print(\"file \" + str(nb) + \", threshold = \" + str(triggers))"
   ]
  },
  {
   "cell_type": "markdown",
   "metadata": {},
   "source": [
    "### Rebuild the data files"
   ]
  },
  {
   "cell_type": "code",
   "execution_count": 31,
   "metadata": {
    "collapsed": true
   },
   "outputs": [],
   "source": [
    "timeSerie_C = np.zeros( samplesPerFile )\n",
    "timeSerie_D = np.zeros( samplesPerFile )"
   ]
  },
  {
   "cell_type": "code",
   "execution_count": 32,
   "metadata": {},
   "outputs": [
    {
     "name": "stdout",
     "output_type": "stream",
     "text": [
      "file 84, trigs = [8998690]\n",
      "file 90, trigs = [8998606]\n",
      "file 96, trigs = [8998533]\n",
      "file 102, trigs = [8998465]\n",
      "file 108, trigs = [8998383]\n",
      "file 114, trigs = [8998290]\n",
      "file 120, trigs = [8998216]\n",
      "file 126, trigs = [8998130]\n",
      "file 132, trigs = [8998059]\n",
      "file 138, trigs = [8997974]\n",
      "file 144, trigs = [8997929]\n"
     ]
    }
   ],
   "source": [
    "rebuilt_A = np.zeros((nbFilesToRebuild, samplesPerFile))\n",
    "rebuilt_B = np.zeros((nbFilesToRebuild, samplesPerFile))\n",
    "for k in range(nbFilesToRebuild):\n",
    "    nb        = str( int( k     * blocksPerFile + firstFile) )\n",
    "    nb_plus_1 = str( int( (k+1) * blocksPerFile + firstFile) )\n",
    "    readFile( data_dir + \"/record\" + nb        +\".bin\", timeSerie_A, timeSerie_B )\n",
    "    readFile( data_dir + \"/record\" + nb_plus_1 +\".bin\", timeSerie_C, timeSerie_D )\n",
    "    trigs = np.where( np.diff(timeSerie_B) > threshold )[0]\n",
    "    trig = trigs[0] + 1\n",
    "\n",
    "    rebuilt_B[ k, 0 : samplesPerFile - trig ] = timeSerie_B[ trig : ]\n",
    "    rebuilt_B[ k, samplesPerFile - trig : ] = timeSerie_D[ 0 : trig ]\n",
    "    \n",
    "    rebuilt_A[ k, 0 : samplesPerFile - trig ] = timeSerie_A[ trig : ]\n",
    "    rebuilt_A[ k, samplesPerFile - trig : ] = timeSerie_C[ 0 : trig ]\n",
    "    \n",
    "    print(\"file \" + str(nb) + \", trigs = \" + str(trigs))"
   ]
  },
  {
   "cell_type": "code",
   "execution_count": 24,
   "metadata": {
    "collapsed": true
   },
   "outputs": [],
   "source": [
    "for k in range(nbFilesToRebuild):\n",
    "    plt.plot(rebuilt_A[k,0:6000])"
   ]
  },
  {
   "cell_type": "code",
   "execution_count": 33,
   "metadata": {
    "collapsed": true
   },
   "outputs": [],
   "source": [
    "A_reshaped = rebuilt_A.reshape(nbFilesToRebuild * rampsPerFile, samplesPerRamp)\n",
    "B_reshaped = rebuilt_B.reshape(nbFilesToRebuild * rampsPerFile, samplesPerRamp)"
   ]
  },
  {
   "cell_type": "code",
   "execution_count": 34,
   "metadata": {
    "collapsed": true
   },
   "outputs": [],
   "source": [
    "coupling_A = np.average(A_reshaped, 0)\n",
    "A_reshaped -= coupling_A"
   ]
  },
  {
   "cell_type": "code",
   "execution_count": 27,
   "metadata": {
    "collapsed": true
   },
   "outputs": [],
   "source": [
    "for k in range(nbFilesToRebuild):\n",
    "    plt.plot(A_reshaped[k,0:6000])"
   ]
  },
  {
   "cell_type": "code",
   "execution_count": 35,
   "metadata": {
    "collapsed": true
   },
   "outputs": [],
   "source": [
    "ifft_a = np.fft.ifft( (A_reshaped[::,0:3000]), axis = 1 )"
   ]
  },
  {
   "cell_type": "code",
   "execution_count": 41,
   "metadata": {},
   "outputs": [
    {
     "data": {
      "text/plain": [
       "<matplotlib.text.Text at 0x7fac30102198>"
      ]
     },
     "execution_count": 41,
     "metadata": {},
     "output_type": "execute_result"
    }
   ],
   "source": [
    "plt.matshow( 20 * np.log10( np.abs( ifft_a[:,100:500] ) ), aspect='auto' )\n",
    "plt.title(\"Track 1 / Flight over 1\\nFiles {} to {}\".format(firstFile, lastFile) )"
   ]
  },
  {
   "cell_type": "code",
   "execution_count": 39,
   "metadata": {
    "collapsed": true
   },
   "outputs": [],
   "source": [
    "np.save(data_dir + '/samplesA_track1_flightover1.npy', A_reshaped)"
   ]
  },
  {
   "cell_type": "code",
   "execution_count": null,
   "metadata": {
    "collapsed": true
   },
   "outputs": [],
   "source": []
  }
 ],
 "metadata": {
  "kernelspec": {
   "display_name": "Python 3",
   "language": "python",
   "name": "python3"
  },
  "language_info": {
   "codemirror_mode": {
    "name": "ipython",
    "version": 3
   },
   "file_extension": ".py",
   "mimetype": "text/x-python",
   "name": "python",
   "nbconvert_exporter": "python",
   "pygments_lexer": "ipython3",
   "version": "3.6.2"
  }
 },
 "nbformat": 4,
 "nbformat_minor": 2
}
