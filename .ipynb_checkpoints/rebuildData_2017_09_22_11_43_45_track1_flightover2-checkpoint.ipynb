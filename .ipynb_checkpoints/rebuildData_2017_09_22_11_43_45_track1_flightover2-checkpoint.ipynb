{
 "cells": [
  {
   "cell_type": "code",
   "execution_count": 1,
   "metadata": {
    "collapsed": true
   },
   "outputs": [],
   "source": [
    "import numpy as np\n",
    "import matplotlib.pyplot as plt\n",
    "%matplotlib qt5"
   ]
  },
  {
   "cell_type": "code",
   "execution_count": 2,
   "metadata": {
    "collapsed": true
   },
   "outputs": [],
   "source": [
    "prefix = \"/home/pleroy/DATA/PoSAR-MC_PIMA_TEST-2/2017_09_22_\"\n",
    "data_dir = prefix + \"11_43_45\""
   ]
  },
  {
   "cell_type": "code",
   "execution_count": 85,
   "metadata": {
    "collapsed": true
   },
   "outputs": [],
   "source": [
    "blocksPerFile = 6\n",
    "samplesPerRamp = 6000\n",
    "rampsPerFile = 1500\n",
    "samplesPerFile = samplesPerRamp * rampsPerFile\n",
    "\n",
    "numberOfFiles = 60\n",
    "firstFile = 1668\n",
    "lastFile = firstFile + numberOfFiles * blocksPerFile\n",
    "nbFilesToCheck = numberOfFiles\n",
    "nbFilesToRebuild = numberOfFiles"
   ]
  },
  {
   "cell_type": "markdown",
   "metadata": {},
   "source": [
    "### Read the data"
   ]
  },
  {
   "cell_type": "code",
   "execution_count": 86,
   "metadata": {
    "collapsed": true
   },
   "outputs": [],
   "source": [
    "def readFile( filename, timeSerie_A, timeSerie_B ):\n",
    "    fd = open(filename,'rb')\n",
    "    \n",
    "    dum = np.fromfile(fd, dtype = np.int16)\n",
    "\n",
    "    timeSerie_A[:] = dum[ 0 : 2 * samplesPerFile : 2 ]\n",
    "    timeSerie_B[:] = dum[ 1 : 2 * samplesPerFile : 2 ]\n",
    "    \n",
    "    fd.close()"
   ]
  },
  {
   "cell_type": "code",
   "execution_count": 87,
   "metadata": {
    "collapsed": true
   },
   "outputs": [],
   "source": [
    "timeSerie_A = np.zeros( samplesPerFile )\n",
    "timeSerie_B = np.zeros( samplesPerFile )"
   ]
  },
  {
   "cell_type": "markdown",
   "metadata": {},
   "source": [
    "### Check pulse duration in B channel data"
   ]
  },
  {
   "cell_type": "code",
   "execution_count": 6,
   "metadata": {
    "collapsed": true
   },
   "outputs": [],
   "source": [
    "threshold = 6000"
   ]
  },
  {
   "cell_type": "code",
   "execution_count": 55,
   "metadata": {},
   "outputs": [
    {
     "name": "stdout",
     "output_type": "stream",
     "text": [
      "file 1788, pulseDuration =  1000\n",
      "file 1794, pulseDuration =  1002\n",
      "file 1800, pulseDuration =  1000\n",
      "file 1806, pulseDuration =  1000\n",
      "file 1812, pulseDuration =  1000\n",
      "file 1818, pulseDuration =  1000\n",
      "file 1824, pulseDuration =  1000\n",
      "file 1830, pulseDuration =  1000\n",
      "file 1836, pulseDuration =  1000\n",
      "file 1842, pulseDuration =  1000\n"
     ]
    }
   ],
   "source": [
    "for k in range(nbFilesToCheck):\n",
    "    nb = str(int(k * blocksPerFile + firstFile))\n",
    "    readFile( data_dir + \"/record\" + nb +\".bin\", timeSerie_A, timeSerie_B )\n",
    "    pulseDuration = np.where(timeSerie_B > threshold)[0].shape[0]\n",
    "    print(\"file \" + str(nb) + \", pulseDuration =  \" + str(pulseDuration))"
   ]
  },
  {
   "cell_type": "markdown",
   "metadata": {},
   "source": [
    "### Check the triggers in the B channel data"
   ]
  },
  {
   "cell_type": "code",
   "execution_count": 56,
   "metadata": {},
   "outputs": [
    {
     "name": "stdout",
     "output_type": "stream",
     "text": [
      "file 1788, threshold = [8997159]\n",
      "file 1794, threshold = [ 817539 8997112]\n",
      "file 1800, threshold = [8997001]\n",
      "file 1806, threshold = [8996960]\n",
      "file 1812, threshold = [8996908]\n",
      "file 1818, threshold = [8996821]\n",
      "file 1824, threshold = [8996774]\n",
      "file 1830, threshold = [8996722]\n",
      "file 1836, threshold = [8996670]\n",
      "file 1842, threshold = [8996600]\n"
     ]
    }
   ],
   "source": [
    "for k in range(nbFilesToCheck):\n",
    "    nb = str(int(k * blocksPerFile + firstFile))\n",
    "    readFile( data_dir + \"/record\" + nb +\".bin\", timeSerie_A, timeSerie_B )\n",
    "    triggers = np.where( np.diff(timeSerie_B) > threshold )[0]\n",
    "    print(\"file \" + str(nb) + \", threshold = \" + str(triggers))"
   ]
  },
  {
   "cell_type": "markdown",
   "metadata": {},
   "source": [
    "# Rebuild the data files"
   ]
  },
  {
   "cell_type": "code",
   "execution_count": 88,
   "metadata": {
    "collapsed": true
   },
   "outputs": [],
   "source": [
    "timeSerie_C = np.zeros( samplesPerFile )\n",
    "timeSerie_D = np.zeros( samplesPerFile )"
   ]
  },
  {
   "cell_type": "code",
   "execution_count": 89,
   "metadata": {},
   "outputs": [
    {
     "name": "stdout",
     "output_type": "stream",
     "text": [
      "file 1668, trigs = [8998415]\n",
      "file 1674, trigs = [8998313]\n",
      "file 1680, trigs = [8998272]\n",
      "file 1686, trigs = [8998224]\n",
      "file 1692, trigs = [8998171]\n",
      "file 1698, trigs = [8998028]\n",
      "file 1704, trigs = [8997966]\n",
      "file 1710, trigs = [8997919]\n",
      "file 1716, trigs = [8997852]\n",
      "file 1722, trigs = [8997817]\n",
      "file 1728, trigs = [8997747]\n",
      "file 1734, trigs = [8997680]\n",
      "file 1740, trigs = [8997619]\n",
      "file 1746, trigs = [1818185 8997527]\n",
      "file 1752, trigs = [8997450]\n",
      "file 1758, trigs = [8997390]\n",
      "file 1764, trigs = [8997359]\n",
      "file 1770, trigs = [8997306]\n",
      "file 1776, trigs = [8997268]\n",
      "file 1782, trigs = [8997220]\n",
      "file 1788, trigs = [8997159]\n",
      "file 1794, trigs = [ 817539 8997112]\n",
      "file 1800, trigs = [8997001]\n",
      "file 1806, trigs = [8996960]\n",
      "file 1812, trigs = [8996908]\n",
      "file 1818, trigs = [8996821]\n",
      "file 1824, trigs = [8996774]\n",
      "file 1830, trigs = [8996722]\n",
      "file 1836, trigs = [8996670]\n",
      "file 1842, trigs = [8996600]\n",
      "file 1848, trigs = [8996559]\n",
      "file 1854, trigs = [8996456]\n",
      "file 1860, trigs = [8996414]\n",
      "file 1866, trigs = [8996379]\n",
      "file 1872, trigs = [8996295]\n",
      "file 1878, trigs = [8996230]\n",
      "file 1884, trigs = [8996165]\n",
      "file 1890, trigs = [8996092]\n",
      "file 1896, trigs = [8996047]\n",
      "file 1902, trigs = [8995995]\n",
      "file 1908, trigs = [8995889]\n",
      "file 1914, trigs = [8995822]\n",
      "file 1920, trigs = [8995737]\n",
      "file 1926, trigs = [8995681]\n",
      "file 1932, trigs = [8998633]\n",
      "file 1938, trigs = [8998562]\n",
      "file 1944, trigs = [8998490]\n",
      "file 1950, trigs = [8998460]\n",
      "file 1956, trigs = [8998377]\n",
      "file 1962, trigs = [8998307]\n",
      "file 1968, trigs = [8998261]\n",
      "file 1974, trigs = [8998188]\n",
      "file 1980, trigs = [8998120]\n",
      "file 1986, trigs = [8998076]\n",
      "file 1992, trigs = [8997998]\n",
      "file 1998, trigs = [8997947]\n",
      "file 2004, trigs = [8997862]\n",
      "file 2010, trigs = [8997709]\n",
      "file 2016, trigs = [8997674]\n",
      "file 2022, trigs = [8997634]\n"
     ]
    }
   ],
   "source": [
    "rebuilt_A = np.zeros((nbFilesToRebuild, samplesPerFile))\n",
    "rebuilt_B = np.zeros((nbFilesToRebuild, samplesPerFile))\n",
    "for k in range(nbFilesToRebuild):\n",
    "    nb        = str( int( k     * blocksPerFile + firstFile) )\n",
    "    nb_plus_1 = str( int( (k+1) * blocksPerFile + firstFile) )\n",
    "    readFile( data_dir + \"/record\" + nb        +\".bin\", timeSerie_A, timeSerie_B )\n",
    "    readFile( data_dir + \"/record\" + nb_plus_1 +\".bin\", timeSerie_C, timeSerie_D )\n",
    "    trigs = np.where( np.diff(timeSerie_B) > threshold )[0]\n",
    "    trig = trigs[0] + 1\n",
    "\n",
    "    rebuilt_B[ k, 0 : samplesPerFile - trig ] = timeSerie_B[ trig : ]\n",
    "    rebuilt_B[ k, samplesPerFile - trig : ] = timeSerie_D[ 0 : trig ]\n",
    "    \n",
    "    rebuilt_A[ k, 0 : samplesPerFile - trig ] = timeSerie_A[ trig : ]\n",
    "    rebuilt_A[ k, samplesPerFile - trig : ] = timeSerie_C[ 0 : trig ]\n",
    "    \n",
    "    print(\"file \" + str(nb) + \", trigs = \" + str(trigs))"
   ]
  },
  {
   "cell_type": "code",
   "execution_count": 60,
   "metadata": {},
   "outputs": [
    {
     "data": {
      "text/plain": [
       "[<matplotlib.lines.Line2D at 0x7f1b2cc2f0f0>]"
      ]
     },
     "execution_count": 60,
     "metadata": {},
     "output_type": "execute_result"
    }
   ],
   "source": [
    "plt.plot(rebuilt_B[1,:])"
   ]
  },
  {
   "cell_type": "code",
   "execution_count": 90,
   "metadata": {
    "collapsed": true
   },
   "outputs": [],
   "source": [
    "A_reshaped = rebuilt_A.reshape(nbFilesToRebuild * rampsPerFile, samplesPerRamp)\n",
    "B_reshaped = rebuilt_B.reshape(nbFilesToRebuild * rampsPerFile, samplesPerRamp)"
   ]
  },
  {
   "cell_type": "code",
   "execution_count": 91,
   "metadata": {
    "collapsed": true
   },
   "outputs": [],
   "source": [
    "coupling_A = np.average(A_reshaped, 0)\n",
    "A_reshaped -= coupling_A"
   ]
  },
  {
   "cell_type": "code",
   "execution_count": 14,
   "metadata": {
    "collapsed": true
   },
   "outputs": [],
   "source": [
    "for k in range(nbFilesToRebuild):\n",
    "    plt.plot(A_reshaped[k,0:6000])"
   ]
  },
  {
   "cell_type": "code",
   "execution_count": 92,
   "metadata": {
    "collapsed": true
   },
   "outputs": [],
   "source": [
    "ifft_a = np.fft.ifft( (A_reshaped[::10,0:3000]), axis = 1 )"
   ]
  },
  {
   "cell_type": "code",
   "execution_count": 93,
   "metadata": {},
   "outputs": [
    {
     "data": {
      "text/plain": [
       "<matplotlib.text.Text at 0x7f1b2b748390>"
      ]
     },
     "execution_count": 93,
     "metadata": {},
     "output_type": "execute_result"
    }
   ],
   "source": [
    "plt.matshow( 20 * np.log10( np.abs( ifft_a[:,100:500] ) ), aspect='auto' )\n",
    "plt.title(\"Track 1 / Flight over 2\\nFiles {} to {}\".format(firstFile, lastFile) )"
   ]
  },
  {
   "cell_type": "markdown",
   "metadata": {},
   "source": [
    "# Annexe"
   ]
  },
  {
   "cell_type": "code",
   "execution_count": null,
   "metadata": {
    "collapsed": true
   },
   "outputs": [],
   "source": [
    "rd_a = np.fft.fft( ifft_a, axis = 0 )"
   ]
  },
  {
   "cell_type": "code",
   "execution_count": 26,
   "metadata": {},
   "outputs": [
    {
     "ename": "NameError",
     "evalue": "name 'rd_a' is not defined",
     "output_type": "error",
     "traceback": [
      "\u001b[0;31m---------------------------------------------------------------------------\u001b[0m",
      "\u001b[0;31mNameError\u001b[0m                                 Traceback (most recent call last)",
      "\u001b[0;32m<ipython-input-26-53a5152e4b3f>\u001b[0m in \u001b[0;36m<module>\u001b[0;34m()\u001b[0m\n\u001b[0;32m----> 1\u001b[0;31m \u001b[0mplt\u001b[0m\u001b[0;34m.\u001b[0m\u001b[0mmatshow\u001b[0m\u001b[0;34m(\u001b[0m \u001b[0;36m20\u001b[0m \u001b[0;34m*\u001b[0m \u001b[0mnp\u001b[0m\u001b[0;34m.\u001b[0m\u001b[0mlog10\u001b[0m\u001b[0;34m(\u001b[0m \u001b[0mnp\u001b[0m\u001b[0;34m.\u001b[0m\u001b[0mabs\u001b[0m\u001b[0;34m(\u001b[0m \u001b[0mrd_a\u001b[0m\u001b[0;34m[\u001b[0m\u001b[0;34m:\u001b[0m\u001b[0;34m,\u001b[0m \u001b[0;36m0\u001b[0m\u001b[0;34m:\u001b[0m\u001b[0;36m500\u001b[0m\u001b[0;34m]\u001b[0m \u001b[0;34m)\u001b[0m \u001b[0;34m)\u001b[0m\u001b[0;34m,\u001b[0m \u001b[0maspect\u001b[0m\u001b[0;34m=\u001b[0m\u001b[0;34m'auto'\u001b[0m\u001b[0;34m,\u001b[0m \u001b[0mcolormap\u001b[0m\u001b[0;34m=\u001b[0m\u001b[0;34m'jet'\u001b[0m \u001b[0;34m)\u001b[0m\u001b[0;34m\u001b[0m\u001b[0m\n\u001b[0m",
      "\u001b[0;31mNameError\u001b[0m: name 'rd_a' is not defined"
     ]
    }
   ],
   "source": [
    "plt.matshow( 20 * np.log10( np.abs( rd_a[:, 0:500] ) ), aspect='auto' )"
   ]
  },
  {
   "cell_type": "markdown",
   "metadata": {},
   "source": [
    "Track 1 Flight over 2, average altitude = 227.281, velocity = 44.250"
   ]
  },
  {
   "cell_type": "code",
   "execution_count": null,
   "metadata": {
    "collapsed": true
   },
   "outputs": [],
   "source": [
    "np.save('A_reshaped.npy', A_reshaped)"
   ]
  },
  {
   "cell_type": "code",
   "execution_count": null,
   "metadata": {
    "collapsed": true
   },
   "outputs": [],
   "source": [
    "plt.figure()\n",
    "plt.plot(A_reshaped[0,0:3000])\n",
    "plt.plot(A_reshaped[0,3000:6000])\n",
    "plt.plot(A_reshaped[1,0:3000])\n",
    "plt.plot(A_reshaped[1,3000:6000])"
   ]
  },
  {
   "cell_type": "code",
   "execution_count": null,
   "metadata": {
    "collapsed": true
   },
   "outputs": [],
   "source": [
    "plt.figure()\n",
    "ax1 = plt.subplot(211)\n",
    "plt.plot( np.real( np.fft.fft( A_reshaped[0,0:3000] ) ) )\n",
    "plt.plot( np.real( np.conjugate( np.fft.fft( A_reshaped[0,3000:6000] ) ) ) )\n",
    "plt.subplot(212, sharex = ax1)\n",
    "plt.plot( np.imag( np.fft.fft( A_reshaped[0,0:3000] ) ) )\n",
    "plt.plot( np.imag( np.conjugate( np.fft.fft( A_reshaped[0,3000:6000] ) ) ) )"
   ]
  },
  {
   "cell_type": "code",
   "execution_count": null,
   "metadata": {
    "collapsed": true
   },
   "outputs": [],
   "source": [
    "plt.plot( np.fft.ifft( np.conjugate( np.fft.fft( A_reshaped[0,3000:6000] ) ) ) )"
   ]
  },
  {
   "cell_type": "code",
   "execution_count": null,
   "metadata": {
    "collapsed": true
   },
   "outputs": [],
   "source": [
    "alpha = 150e6 / 300e-6\n",
    "c = 3e8\n",
    "fs = 10e6"
   ]
  },
  {
   "cell_type": "code",
   "execution_count": null,
   "metadata": {
    "collapsed": true
   },
   "outputs": [],
   "source": [
    "fs * c / ( 2 * alpha )"
   ]
  },
  {
   "cell_type": "code",
   "execution_count": null,
   "metadata": {
    "collapsed": true
   },
   "outputs": [],
   "source": [
    "3000*2/c*0.5e12"
   ]
  },
  {
   "cell_type": "code",
   "execution_count": null,
   "metadata": {
    "collapsed": true
   },
   "outputs": [],
   "source": [
    "np.fft.fft( A_reshaped[0,0:3000] )"
   ]
  },
  {
   "cell_type": "code",
   "execution_count": null,
   "metadata": {
    "collapsed": true
   },
   "outputs": [],
   "source": []
  }
 ],
 "metadata": {
  "kernelspec": {
   "display_name": "Python 3",
   "language": "python",
   "name": "python3"
  },
  "language_info": {
   "codemirror_mode": {
    "name": "ipython",
    "version": 3
   },
   "file_extension": ".py",
   "mimetype": "text/x-python",
   "name": "python",
   "nbconvert_exporter": "python",
   "pygments_lexer": "ipython3",
   "version": "3.6.2"
  }
 },
 "nbformat": 4,
 "nbformat_minor": 2
}
