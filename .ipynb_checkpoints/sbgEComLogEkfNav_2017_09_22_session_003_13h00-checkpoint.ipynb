{
 "cells": [
  {
   "cell_type": "code",
   "execution_count": 34,
   "metadata": {
    "collapsed": true
   },
   "outputs": [],
   "source": [
    "import numpy as np\n",
    "import numexpr as ne\n",
    "import matplotlib.pyplot as plt\n",
    "%matplotlib qt5"
   ]
  },
  {
   "cell_type": "code",
   "execution_count": 35,
   "metadata": {
    "collapsed": true
   },
   "outputs": [],
   "source": [
    "#EKF NAV\n",
    "idx_timeStamp = 0\n",
    "idx_velNorth = 1\n",
    "idx_velEast = 2\n",
    "idx_velDown = 3\n",
    "idx_velNorth_StdDev = 4\n",
    "idx_velEast_StdDev = 5\n",
    "idx_velDown_StdDev = 6\n",
    "idx_Lat = 7\n",
    "idx_Long = 8\n",
    "idx_Alt = 9\n",
    "idx_undulation = 10\n",
    "idx_Lat_StdDev = 11\n",
    "idx_Long_StdDev = 12\n",
    "idx_Alt_StdDev = 13\n",
    "idx_nav_status = 14\n",
    "\n",
    "Lat_1_0  = 48.06069 \n",
    "Long_1_0 = -1.99354\n",
    "Lat_1_1  = 48.05507 \n",
    "Long_1_1 = -2.02359\n",
    "\n",
    "Lat_2_0  = 48.06249 \n",
    "Long_2_0 = -1.99467\n",
    "Lat_2_1  = 48.05687 \n",
    "Long_2_1 = -2.02434\n",
    "\n",
    "Lat_3_0  = 48.06555 \n",
    "Long_3_0 = -1.99619\n",
    "Lat_3_1  = 48.06007 \n",
    "Long_3_1 = -2.02550"
   ]
  },
  {
   "cell_type": "code",
   "execution_count": 36,
   "metadata": {
    "collapsed": true
   },
   "outputs": [],
   "source": [
    "prefix = \"/home/pleroy/DATA/PoSAR-MC_PIMA_TEST-2/2017_09_22/2017_09_22_SBG/dataLogger\"\n",
    "suffix = \"sbgEComLogEkfNav.dat\"\n",
    "\n",
    "file_13h00 = prefix + \"/session_0003/2017_09_22/13h00/\" + suffix"
   ]
  },
  {
   "cell_type": "code",
   "execution_count": 37,
   "metadata": {
    "collapsed": true
   },
   "outputs": [],
   "source": [
    "# 13h00\n",
    "timeStamps_13h00 = np.loadtxt( file_13h00, skiprows = 1, usecols = idx_timeStamp )\n",
    "Long_13h00 = np.loadtxt( file_13h00, skiprows = 1, usecols = idx_Long )\n",
    "Lat_13h00 = np.loadtxt( file_13h00, skiprows = 1, usecols = idx_Lat )"
   ]
  },
  {
   "cell_type": "code",
   "execution_count": 38,
   "metadata": {},
   "outputs": [
    {
     "data": {
      "text/plain": [
       "[<matplotlib.lines.Line2D at 0x7f8e049af128>]"
      ]
     },
     "execution_count": 38,
     "metadata": {},
     "output_type": "execute_result"
    }
   ],
   "source": [
    "plt.figure()\n",
    "plt.plot( Long_13h00, Lat_13h00 )\n",
    "plt.plot( Long_13h00[idx_0], Lat_13h00[idx_0], 'dk' )\n",
    "plt.plot( Long_13h00[idx_1], Lat_13h00[idx_1], 'dk' )\n",
    "plt.plot( [Long_1_0, Long_1_1], [Lat_1_0, Lat_1_1], \"o-g\" )\n",
    "plt.plot( [Long_2_0, Long_2_1], [Lat_2_0, Lat_2_1], \"o-r\" )\n",
    "plt.plot( [Long_3_0, Long_3_1], [Lat_3_0, Lat_3_1], \"o-y\" )"
   ]
  },
  {
   "cell_type": "code",
   "execution_count": 25,
   "metadata": {},
   "outputs": [
    {
     "data": {
      "text/plain": [
       "[<matplotlib.lines.Line2D at 0x7f8e07792e48>]"
      ]
     },
     "execution_count": 25,
     "metadata": {},
     "output_type": "execute_result"
    }
   ],
   "source": [
    "plt.plot(Lat_13h00, '.-')\n",
    "plt.plot(np.ones(Lat_13h00.shape) * Lat_2_0, 'r-')\n",
    "plt.plot(np.ones(Lat_13h00.shape) * Lat_2_1, 'g-')\n",
    "idx_0 = 240968\n",
    "idx_1 = 250915\n",
    "plt.plot(idx_0, Lat_13h00[idx_0], 'or')\n",
    "plt.plot(idx_1, Lat_13h00[idx_1], 'og')"
   ]
  },
  {
   "cell_type": "code",
   "execution_count": 33,
   "metadata": {},
   "outputs": [
    {
     "data": {
      "text/plain": [
       "939732704"
      ]
     },
     "execution_count": 33,
     "metadata": {},
     "output_type": "execute_result"
    }
   ],
   "source": [
    "int(timeStamps_13h00[idx_0])"
   ]
  },
  {
   "cell_type": "code",
   "execution_count": 32,
   "metadata": {},
   "outputs": [
    {
     "data": {
      "text/plain": [
       "989467704"
      ]
     },
     "execution_count": 32,
     "metadata": {},
     "output_type": "execute_result"
    }
   ],
   "source": [
    "int(timeStamps_13h00[idx_1])"
   ]
  },
  {
   "cell_type": "code",
   "execution_count": null,
   "metadata": {
    "collapsed": true
   },
   "outputs": [],
   "source": []
  }
 ],
 "metadata": {
  "kernelspec": {
   "display_name": "Python 3",
   "language": "python",
   "name": "python3"
  },
  "language_info": {
   "codemirror_mode": {
    "name": "ipython",
    "version": 3
   },
   "file_extension": ".py",
   "mimetype": "text/x-python",
   "name": "python",
   "nbconvert_exporter": "python",
   "pygments_lexer": "ipython3",
   "version": "3.6.2"
  }
 },
 "nbformat": 4,
 "nbformat_minor": 2
}
