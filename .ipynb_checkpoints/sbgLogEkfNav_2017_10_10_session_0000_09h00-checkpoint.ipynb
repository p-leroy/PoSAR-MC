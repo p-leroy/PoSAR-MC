{
 "cells": [
  {
   "cell_type": "code",
   "execution_count": 1,
   "metadata": {
    "collapsed": true
   },
   "outputs": [],
   "source": [
    "import io\n",
    "import csv\n",
    "import os.path\n",
    "\n",
    "import numpy as np\n",
    "import numexpr as ne\n",
    "import matplotlib.pyplot as plt\n",
    "\n",
    "%matplotlib qt5"
   ]
  },
  {
   "cell_type": "code",
   "execution_count": 2,
   "metadata": {},
   "outputs": [],
   "source": [
    "from posarmctools.ekfnavtools import *\n",
    "%load_ext autoreload\n",
    "%autoreload 2"
   ]
  },
  {
   "cell_type": "code",
   "execution_count": 3,
   "metadata": {
    "collapsed": true
   },
   "outputs": [],
   "source": [
    "blocksPerFile = 6\n",
    "samplesPerRamp = 6000\n",
    "rampsPerFile = 1500\n",
    "samplesPerFile = 9000000\n",
    "T_files = samplesPerFile / 10e6"
   ]
  },
  {
   "cell_type": "markdown",
   "metadata": {},
   "source": [
    "## Load navigation data SbgLogEkfNav"
   ]
  },
  {
   "cell_type": "code",
   "execution_count": 4,
   "metadata": {
    "collapsed": true
   },
   "outputs": [],
   "source": [
    "prefix = \"/home/pleroy/DATA/PoSAR-MC_PIMA_TEST-3/dataLogger/session_0000/2017_10_10/09h00/\"\n",
    "\n",
    "logEkfNav  = prefix + \"sbgLogEkfNav.dat\"\n",
    "logUtcData = prefix + \"sbgLogUtcData.dat\""
   ]
  },
  {
   "cell_type": "markdown",
   "metadata": {},
   "source": [
    "Load logEkfNav data 09h00\n",
    "\n",
    "Take off at 11h42"
   ]
  },
  {
   "cell_type": "code",
   "execution_count": 5,
   "metadata": {
    "collapsed": true
   },
   "outputs": [],
   "source": [
    "# logEkfNav\n",
    "timeStamps = np.loadtxt( logEkfNav, skiprows = 1, usecols = idx_timeStamp )\n",
    "Long = np.loadtxt( logEkfNav, skiprows = 1, usecols = idx_Long )\n",
    "Lat = np.loadtxt( logEkfNav, skiprows = 1, usecols = idx_Lat )\n",
    "Alt = np.loadtxt( logEkfNav, skiprows = 1, usecols = idx_Alt )\n",
    "vN, vE, vD = np.loadtxt( logEkfNav, skiprows = 1, usecols = (idx_velNorth, idx_velEast, idx_velDown), unpack=True )"
   ]
  },
  {
   "cell_type": "code",
   "execution_count": 6,
   "metadata": {
    "collapsed": true
   },
   "outputs": [],
   "source": [
    "Vel = (vN**2 + vE**2 + vD**2)**0.5"
   ]
  },
  {
   "cell_type": "markdown",
   "metadata": {},
   "source": [
    "### Plot navigation data jointly with track references"
   ]
  },
  {
   "cell_type": "code",
   "execution_count": 11,
   "metadata": {
    "collapsed": true
   },
   "outputs": [],
   "source": [
    "validNav = np.where(Long < 0)"
   ]
  },
  {
   "cell_type": "code",
   "execution_count": 12,
   "metadata": {},
   "outputs": [
    {
     "data": {
      "text/plain": [
       "<matplotlib.text.Text at 0x7fefc80b20f0>"
      ]
     },
     "execution_count": 12,
     "metadata": {},
     "output_type": "execute_result"
    }
   ],
   "source": [
    "plt.figure()\n",
    "ax = plt.subplot(111)\n",
    "\n",
    "plotLongLatAndTrackReferences( ax, Long[validNav], Lat[validNav] )\n",
    "\n",
    "plt.title(\"Navigation data and track references 2017_10_10 09h00\")"
   ]
  },
  {
   "cell_type": "markdown",
   "metadata": {},
   "source": [
    "### Check the existence of record files"
   ]
  },
  {
   "cell_type": "code",
   "execution_count": 13,
   "metadata": {
    "collapsed": true
   },
   "outputs": [],
   "source": [
    "firstRecord = 0\n",
    "lastRecord = 336\n",
    "aux = np.zeros(3372)\n",
    "fileList = []\n",
    "dataDir = \"/home/pleroy/DATA/PoSAR-MC_PIMA_TEST-3/2017_10_10_11_49_09\"\n",
    "for k in range(firstRecord, lastRecord, blocksPerFile):\n",
    "    filename = dataDir + \"/record\" + str(k) + \".bin\"\n",
    "    ret = os.path.isfile(filename)\n",
    "    if ret == False:\n",
    "        fileList.append(0)\n",
    "    else:\n",
    "        fileList.append(1)\n",
    "idxFileList = np.arange( len( fileList ) ) * blocksPerFile + firstRecord"
   ]
  },
  {
   "cell_type": "code",
   "execution_count": 14,
   "metadata": {},
   "outputs": [
    {
     "data": {
      "text/plain": [
       "[<matplotlib.lines.Line2D at 0x7fefc3fe3128>]"
      ]
     },
     "execution_count": 14,
     "metadata": {},
     "output_type": "execute_result"
    }
   ],
   "source": [
    "plt.plot(idxFileList, fileList, 'o-')"
   ]
  },
  {
   "cell_type": "code",
   "execution_count": 16,
   "metadata": {},
   "outputs": [],
   "source": [
    "# times recorded by Windows XP\n",
    "t_0    = (11, 49, 9)\n",
    "\n",
    "record0Start = 0\n",
    "record0Stop = 336"
   ]
  },
  {
   "cell_type": "markdown",
   "metadata": {},
   "source": [
    "Look for the time data corresponding to the records"
   ]
  },
  {
   "cell_type": "code",
   "execution_count": 31,
   "metadata": {
    "collapsed": true
   },
   "outputs": [],
   "source": [
    "hourOffset = 2\n",
    "\n",
    "#timeStamp status year month day hour minute second nanoSecond gpsTimeOfWeek\n",
    "idx_h = 5\n",
    "idx_m = 6\n",
    "idx_s = 7\n",
    "idx_nano = 8\n",
    "utc_timeStamp, utc_h, utc_m, utc_s, utc_nano = np.loadtxt( logUtcData, skiprows = 1, \n",
    "                                           usecols = (0, idx_h, idx_m, idx_s, idx_nano), unpack=True )\n",
    "utc_seconds = (utc_h + hourOffset) * 3600 + utc_m * 60 + utc_s + utc_nano * 1e-9"
   ]
  },
  {
   "cell_type": "code",
   "execution_count": 18,
   "metadata": {
    "collapsed": true
   },
   "outputs": [],
   "source": [
    "# compute time of day using the date of block 0 and a computed delta\n",
    "\n",
    "record0_tStart = getTimeOfDay( getSeconds( t_0 ) + record0Start / blocksPerFile * T_files )\n",
    "record0_tStop = getTimeOfDay( getSeconds( t_0 ) + record0Stop / blocksPerFile * T_files )"
   ]
  },
  {
   "cell_type": "code",
   "execution_count": 20,
   "metadata": {},
   "outputs": [],
   "source": [
    "record0_idx = getIndices (record0_tStart, record0_tStop, utc_seconds)"
   ]
  },
  {
   "cell_type": "markdown",
   "metadata": {},
   "source": [
    "### Process timeStamps.data"
   ]
  },
  {
   "cell_type": "code",
   "execution_count": 26,
   "metadata": {},
   "outputs": [],
   "source": [
    "data_dir = \"/home/pleroy/DATA/PoSAR-MC_PIMA_TEST-3/2017_10_10_11_49_09\"\n",
    "timeStampsFile = data_dir + \"/2017_10_10_11_49_09_timeStamps.data\"\n",
    "blockNumber, timeStamp = np.loadtxt( timeStampsFile, skiprows = 1, unpack=True )"
   ]
  },
  {
   "cell_type": "code",
   "execution_count": 27,
   "metadata": {
    "collapsed": true
   },
   "outputs": [],
   "source": [
    "timeStampStart = timeStamp[0]\n",
    "timeStampStop = timeStamp[-1]"
   ]
  },
  {
   "cell_type": "code",
   "execution_count": 42,
   "metadata": {},
   "outputs": [],
   "source": [
    "idxStart = np.where(utc_timeStamp <= timeStampStart)[0][-1]\n",
    "idxStop = np.where(utc_timeStamp <= timeStampStop)[0][-1]\n",
    "record0_idx_alt = (idxStart, idxStop)"
   ]
  },
  {
   "cell_type": "code",
   "execution_count": 41,
   "metadata": {},
   "outputs": [
    {
     "data": {
      "text/plain": [
       "579921"
      ]
     },
     "execution_count": 41,
     "metadata": {},
     "output_type": "execute_result"
    }
   ],
   "source": []
  },
  {
   "cell_type": "markdown",
   "metadata": {},
   "source": [
    "### Plot navigation data and record periods"
   ]
  },
  {
   "cell_type": "code",
   "execution_count": 48,
   "metadata": {},
   "outputs": [],
   "source": [
    "plt.figure()\n",
    "\n",
    "ax = plt.subplot(111)\n",
    "\n",
    "plotLongLatAndTrackReferences( ax, Long[validNav], Lat[validNav] )\n",
    "plotRunaway( ax )\n",
    "\n",
    "addOnPlot( ax, Long, Lat, record0_idx, 'yellow', 'record 0 (time line dated by the MEB)' )\n",
    "addOnPlot( ax, Long, Lat, record0_idx_alt, 'orange', 'record 0 (time line dated by SBG time stamps)' )\n",
    "\n",
    "plt.title(\"Navigation data, track references, record locations\\nFlight 2017_10_10__09h00\")\n",
    "plt.xlabel(\"Longitude\")\n",
    "plt.ylabel(\"Latitude\")\n",
    "plt.legend()\n",
    "plt.grid()"
   ]
  },
  {
   "cell_type": "markdown",
   "metadata": {},
   "source": [
    "## Track 1"
   ]
  },
  {
   "cell_type": "code",
   "execution_count": 45,
   "metadata": {},
   "outputs": [
    {
     "data": {
      "text/plain": [
       "[<matplotlib.lines.Line2D at 0x7fefc3e39630>]"
      ]
     },
     "execution_count": 45,
     "metadata": {},
     "output_type": "execute_result"
    }
   ],
   "source": [
    "plt.figure()\n",
    "ax1 = plt.subplot(211)\n",
    "ax1.plot(Long, '.')\n",
    "ax1.plot(np.ones(Long.shape) * track1_Long_0)\n",
    "ax1.plot(np.ones(Long.shape) * track1_Long_1)\n",
    "ax2 = plt.subplot(212, sharex=ax1)\n",
    "ax2.plot(Lat, '.')\n",
    "ax2.plot(np.ones(Lat.shape) * track1_Lat_0)\n",
    "ax2.plot(np.ones(Lat.shape) * track1_Lat_1)"
   ]
  }
 ],
 "metadata": {
  "kernelspec": {
   "display_name": "Python 3",
   "language": "python",
   "name": "python3"
  },
  "language_info": {
   "codemirror_mode": {
    "name": "ipython",
    "version": 3
   },
   "file_extension": ".py",
   "mimetype": "text/x-python",
   "name": "python",
   "nbconvert_exporter": "python",
   "pygments_lexer": "ipython3",
   "version": "3.6.2"
  }
 },
 "nbformat": 4,
 "nbformat_minor": 2
}
