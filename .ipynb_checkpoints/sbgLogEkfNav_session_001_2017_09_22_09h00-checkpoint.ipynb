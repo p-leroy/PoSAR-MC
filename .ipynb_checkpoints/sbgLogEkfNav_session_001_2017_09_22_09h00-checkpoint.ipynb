{
 "cells": [
  {
   "cell_type": "code",
   "execution_count": 1,
   "metadata": {
    "collapsed": true
   },
   "outputs": [],
   "source": [
    "import io\n",
    "import csv\n",
    "import os.path\n",
    "\n",
    "import numpy as np\n",
    "import numexpr as ne\n",
    "import matplotlib.pyplot as plt\n",
    "\n",
    "%matplotlib qt5"
   ]
  },
  {
   "cell_type": "code",
   "execution_count": 2,
   "metadata": {
    "collapsed": true
   },
   "outputs": [],
   "source": [
    "blocksPerFile = 6\n",
    "samplesPerRamp = 6000\n",
    "rampsPerFile = 1500\n",
    "samplesPerFile = 9000000\n",
    "T_files = samplesPerFile / 10e6"
   ]
  },
  {
   "cell_type": "code",
   "execution_count": 48,
   "metadata": {
    "collapsed": true
   },
   "outputs": [],
   "source": [
    "#EKF NAV\n",
    "idx_timeStamp = 0\n",
    "idx_velNorth = 1\n",
    "idx_velEast = 2\n",
    "idx_velDown = 3\n",
    "idx_velNorth_StdDev = 4\n",
    "idx_velEast_StdDev = 5\n",
    "idx_velDown_StdDev = 6\n",
    "idx_Lat = 7\n",
    "idx_Long = 8\n",
    "idx_Alt = 9\n",
    "idx_undulation = 10\n",
    "idx_Lat_StdDev = 11\n",
    "idx_Long_StdDev = 12\n",
    "idx_Alt_StdDev = 13\n",
    "idx_nav_status = 14\n",
    "\n",
    "Lat_1_0  = 48.06069 \n",
    "Long_1_0 = -1.99354\n",
    "Lat_1_1  = 48.05507 \n",
    "Long_1_1 = -2.02359\n",
    "\n",
    "Lat_2_0  = 48.06249 \n",
    "Long_2_0 = -1.99467\n",
    "Lat_2_1  = 48.05687 \n",
    "Long_2_1 = -2.02434\n",
    "\n",
    "track3_Lat_0  = 48.06555 \n",
    "track3_Long_0 = -1.99619\n",
    "track3_Lat_1  = 48.06007 \n",
    "track3_Long_1 = -2.02550\n",
    "\n",
    "runaway = np.array([ [ 48.057546, -2.010483, 0.0 ],\n",
    "          [ 48.058403, -2.005964, 0.0 ],\n",
    "          [ 48.058191, -2.005869, 0.0 ],\n",
    "          [ 48.057327, -2.010383, 0.0 ],\n",
    "          [ 48.057546, -2.010483, 0.0 ]\n",
    "          ])"
   ]
  },
  {
   "cell_type": "markdown",
   "metadata": {},
   "source": [
    "## Load navigation data SbgLogEkfNav"
   ]
  },
  {
   "cell_type": "code",
   "execution_count": 4,
   "metadata": {
    "collapsed": true
   },
   "outputs": [],
   "source": [
    "prefix = \"/home/pleroy/DATA/PoSAR-MC_PIMA_TEST-2/2017_09_21-22_SBG/dataLogger\"\n",
    "\n",
    "logEkfNav_1  = prefix + \"/session_0001/2017_09_22/09h00/\" + \"sbgLogEkfNav.dat\"\n",
    "logUtcData_1 = prefix + \"/session_0001/2017_09_22/09h00/\" + \"sbgLogUtcData.dat\"\n",
    "\n",
    "logEkfNav_2  = prefix + \"/session_0001/2017_09_22/10h00/\" + \"sbgLogEkfNav.dat\"\n",
    "logUtcData_2 = prefix + \"/session_0001/2017_09_22/10h00/\" + \"sbgLogUtcData.dat\""
   ]
  },
  {
   "cell_type": "markdown",
   "metadata": {},
   "source": [
    "Load logEkfNav data 09h00"
   ]
  },
  {
   "cell_type": "code",
   "execution_count": 5,
   "metadata": {
    "collapsed": true
   },
   "outputs": [],
   "source": [
    "# logEkfNav 09h00\n",
    "timeStamps_1 = np.loadtxt( logEkfNav_1, skiprows = 1, usecols = idx_timeStamp )\n",
    "Long_1 = np.loadtxt( logEkfNav_1, skiprows = 1, usecols = idx_Long )\n",
    "Lat_1 = np.loadtxt( logEkfNav_1, skiprows = 1, usecols = idx_Lat )\n",
    "Alt_1 = np.loadtxt( logEkfNav_1, skiprows = 1, usecols = idx_Alt )\n",
    "vN, vE, vD = np.loadtxt( logEkfNav_1, skiprows = 1, usecols = (idx_velNorth, idx_velEast, idx_velDown), unpack=True )"
   ]
  },
  {
   "cell_type": "code",
   "execution_count": 6,
   "metadata": {
    "collapsed": true
   },
   "outputs": [],
   "source": [
    "Vel_1 = (vN**2 + vE**2 + vD**2)**0.5"
   ]
  },
  {
   "cell_type": "markdown",
   "metadata": {},
   "source": [
    "Load logEkfNav data 10h00"
   ]
  },
  {
   "cell_type": "code",
   "execution_count": 7,
   "metadata": {
    "collapsed": true
   },
   "outputs": [],
   "source": [
    "# logEkfNav 10h00\n",
    "timeStamps_2 = np.loadtxt( logEkfNav_2, skiprows = 1, usecols = idx_timeStamp )\n",
    "Long_2 = np.loadtxt( logEkfNav_2, skiprows = 1, usecols = idx_Long )\n",
    "Lat_2 = np.loadtxt( logEkfNav_2, skiprows = 1, usecols = idx_Lat )\n",
    "Alt_2 = np.loadtxt( logEkfNav_2, skiprows = 1, usecols = idx_Alt )\n",
    "vN_2, vE_2, vD_2 = \\\n",
    "    np.loadtxt( logEkfNav_2, skiprows = 1, usecols = (idx_velNorth, idx_velEast, idx_velDown), unpack=True )"
   ]
  },
  {
   "cell_type": "code",
   "execution_count": 8,
   "metadata": {
    "collapsed": true
   },
   "outputs": [],
   "source": [
    "Vel_2 = (vN_2**2 + vE_2**2 + vD_2**2)**0.5"
   ]
  },
  {
   "cell_type": "code",
   "execution_count": 9,
   "metadata": {
    "collapsed": true
   },
   "outputs": [],
   "source": [
    "# concatenate 09h00 and 10h00 data\n",
    "timeStamps = np.concatenate( (timeStamps_1, timeStamps_2) )\n",
    "Long = np.concatenate( (Long_1, Long_2) )\n",
    "Lat = np.concatenate( (Lat_1, Lat_2) )\n",
    "Alt = np.concatenate( (Alt_1, Alt_2) )\n",
    "Vel = np.concatenate( (Vel_1, Vel_2) )"
   ]
  },
  {
   "cell_type": "markdown",
   "metadata": {},
   "source": [
    "### Plot navigation data jointly with track references"
   ]
  },
  {
   "cell_type": "code",
   "execution_count": 10,
   "metadata": {
    "collapsed": true
   },
   "outputs": [],
   "source": [
    "def plotRunaway( ax ):\n",
    "    ax.plot(runaway[:,1], runaway[:,0], \"og\", markeredgecolor = 'black')"
   ]
  },
  {
   "cell_type": "code",
   "execution_count": 11,
   "metadata": {
    "collapsed": true
   },
   "outputs": [],
   "source": [
    "def plotLongLatAndTrackReferences( ax ):\n",
    "    ax.plot( Long, Lat, 'gray' )\n",
    "    ax.plot( [Long_1_0, Long_1_1], [Lat_1_0, Lat_1_1], \"o-.b\", markeredgecolor = 'black' )\n",
    "    ax.plot( [Long_2_0, Long_2_1], [Lat_2_0, Lat_2_1], \"o-.b\", markeredgecolor = 'black' )\n",
    "    ax.plot( [Long_3_0, Long_3_1], [Lat_3_0, Lat_3_1], \"o-.b\", markeredgecolor = 'black' )"
   ]
  },
  {
   "cell_type": "code",
   "execution_count": 12,
   "metadata": {},
   "outputs": [
    {
     "data": {
      "text/plain": [
       "<matplotlib.text.Text at 0x7ff5166f9a20>"
      ]
     },
     "execution_count": 12,
     "metadata": {},
     "output_type": "execute_result"
    }
   ],
   "source": [
    "plt.figure()\n",
    "ax = plt.subplot(111)\n",
    "\n",
    "plotLongLatAndTrackReferences( ax )\n",
    "\n",
    "plt.title(\"Navigation data and track references 2017_09_22 09h00-10h00\")"
   ]
  },
  {
   "cell_type": "markdown",
   "metadata": {},
   "source": [
    "### Check the existence of record files"
   ]
  },
  {
   "cell_type": "code",
   "execution_count": 13,
   "metadata": {
    "collapsed": true
   },
   "outputs": [],
   "source": [
    "firstRecord = 12\n",
    "lastRecord = 7734\n",
    "aux = np.zeros(7734)\n",
    "fileList = []\n",
    "dataDir = \"/home/pleroy/DATA/PoSAR-MC_PIMA_TEST-2/2017_09_22_11_43_45\"\n",
    "for k in range(firstRecord, lastRecord, blocksPerFile):\n",
    "    filename = dataDir + \"/record\" + str(k) + \".bin\"\n",
    "    ret = os.path.isfile(filename)\n",
    "    if ret == False:\n",
    "        fileList.append(0)\n",
    "    else:\n",
    "        fileList.append(1)\n",
    "idxFileList = np.arange( len( fileList ) ) * blocksPerFile + firstRecord"
   ]
  },
  {
   "cell_type": "code",
   "execution_count": 14,
   "metadata": {},
   "outputs": [
    {
     "data": {
      "text/plain": [
       "[<matplotlib.lines.Line2D at 0x7ff516a9f668>]"
      ]
     },
     "execution_count": 14,
     "metadata": {},
     "output_type": "execute_result"
    }
   ],
   "source": [
    "plt.plot(idxFileList, fileList, 'o-')"
   ]
  },
  {
   "cell_type": "code",
   "execution_count": 15,
   "metadata": {
    "collapsed": true
   },
   "outputs": [],
   "source": [
    "# times recorded by Windows XP\n",
    "t_0    = (11, 43, 45)\n",
    "t_12   = (11, 43, 48)\n",
    "t_18   = (11, 43, 49)\n",
    "t_1686 = (11, 48,  6)\n",
    "t_1818 = (11, 48, 26)\n",
    "t_1866 = (11, 48, 32)\n",
    "t_2034 = (11, 48, 51)\n",
    "t_2052 = (11, 48, 54)\n",
    "t_2106 = (11, 49,  2)\n",
    "t_2448 = (11, 49, 55)\n",
    "t_4140 = (11, 54,  7)\n",
    "t_4710 = (11, 55, 33)\n",
    "t_6684 = (12,  0, 29)\n",
    "t_7734 = (12,  3,  6)\n",
    "\n",
    "record0Start = 12\n",
    "record0Stop = 2052\n",
    "\n",
    "record1Start = 2106\n",
    "record1Stop = 2448\n",
    "\n",
    "record2Start = 4140\n",
    "record2Stop = 4710\n",
    "\n",
    "record3Start = 6684\n",
    "record3Stop = 7734"
   ]
  },
  {
   "cell_type": "markdown",
   "metadata": {},
   "source": [
    "Look for the time data corresponding to the records"
   ]
  },
  {
   "cell_type": "code",
   "execution_count": 16,
   "metadata": {
    "collapsed": true
   },
   "outputs": [],
   "source": [
    "hourOffset = 2\n",
    "\n",
    "#timeStamp status year month day hour minute second nanoSecond gpsTimeOfWeek\n",
    "idx_h = 5\n",
    "idx_m = 6\n",
    "idx_s = 7\n",
    "idx_nano = 8\n",
    "utc_h_1, utc_m_1, utc_s_1, utc_nano_1 = np.loadtxt( logUtcData_1, skiprows = 1, \n",
    "                                           usecols = (idx_h, idx_m, idx_s, idx_nano), unpack=True )\n",
    "utc_h_2, utc_m_2, utc_s_2, utc_nano_2 = np.loadtxt( logUtcData_2, skiprows = 1, \n",
    "                                           usecols = (idx_h, idx_m, idx_s, idx_nano), unpack=True )\n",
    "utc_h = np.concatenate( (utc_h_1, utc_h_2) )\n",
    "utc_m = np.concatenate( (utc_m_1, utc_m_2) )\n",
    "utc_s = np.concatenate( (utc_s_1, utc_s_2) )\n",
    "utc_nano = np.concatenate( (utc_nano_1, utc_nano_2) )\n",
    "utc_seconds = (utc_h + hourOffset) * 3600 + utc_m * 60 + utc_s + utc_nano * 1e-9"
   ]
  },
  {
   "cell_type": "code",
   "execution_count": 20,
   "metadata": {
    "collapsed": true
   },
   "outputs": [],
   "source": [
    "def getTimeOfDay( seconds ):\n",
    "    h = np.floor( seconds / 3600 )\n",
    "    m = np.floor( (seconds - h *3600) / 60 )\n",
    "    s = seconds - h * 3600 - m * 60\n",
    "    return (h, m, s)\n",
    "\n",
    "def getSeconds( timeOfDay ):\n",
    "    return (timeOfDay[0] * 3600 + timeOfDay[1] * 60 + timeOfDay[2])\n",
    "\n",
    "def getIndices( start, stop ):\n",
    "    idx_start = np.amax( np.where( utc_seconds <= getSeconds(start) ) )\n",
    "    idx_stop = np.amax( np.where( utc_seconds <= getSeconds(stop) ) )\n",
    "    return (idx_start, idx_stop)"
   ]
  },
  {
   "cell_type": "code",
   "execution_count": 18,
   "metadata": {
    "collapsed": true
   },
   "outputs": [],
   "source": [
    "# compute time of day using the date of block 0 and a computed delta\n",
    "\n",
    "record0_tStart = getTimeOfDay( getSeconds( t_0 ) + record0Start / blocksPerFile * T_files )\n",
    "record0_tStop = getTimeOfDay( getSeconds( t_0 ) + record0Stop / blocksPerFile * T_files )\n",
    "\n",
    "record1_tStart = getTimeOfDay( getSeconds( t_0 ) + record1Start / blocksPerFile * T_files )\n",
    "record1_tStop = getTimeOfDay( getSeconds( t_0 ) + record1Stop / blocksPerFile * T_files )\n",
    "\n",
    "record2_tStart = getTimeOfDay( getSeconds( t_0 ) + record2Start / blocksPerFile * T_files )\n",
    "record2_tStop = getTimeOfDay( getSeconds( t_0 ) + record2Stop / blocksPerFile * T_files )\n",
    "\n",
    "record3_tStart = getTimeOfDay( getSeconds( t_0 ) + record3Start / blocksPerFile * T_files )\n",
    "record3_tStop = getTimeOfDay( getSeconds( t_0 ) + record3Stop / blocksPerFile * T_files )"
   ]
  },
  {
   "cell_type": "code",
   "execution_count": 19,
   "metadata": {
    "collapsed": true
   },
   "outputs": [],
   "source": [
    "record0_idx = getIndices (record0_tStart, record0_tStop)\n",
    "record1_idx = getIndices (record1_tStart, record1_tStop)\n",
    "record2_idx = getIndices (record2_tStart, record2_tStop)\n",
    "record3_idx = getIndices (record3_tStart, record3_tStop)"
   ]
  },
  {
   "cell_type": "markdown",
   "metadata": {},
   "source": [
    "### Plot navigation data and record periods"
   ]
  },
  {
   "cell_type": "code",
   "execution_count": 21,
   "metadata": {
    "collapsed": true
   },
   "outputs": [],
   "source": [
    "def addOnPlot(ax, idx, color, label=''):\n",
    "    idxStart = idx[0]\n",
    "    idxStop = idx[1]\n",
    "    ax.plot( Long[idxStart:idxStop], Lat[idxStart:idxStop], '--', color=color, label=label )\n",
    "    ax.plot( Long[idxStart], Lat[idxStart], 'D', color=color, markeredgecolor = 'black' )\n",
    "    ax.plot( Long[idxStop], Lat[idxStop], 'D', color=color, markeredgecolor = 'black'  )"
   ]
  },
  {
   "cell_type": "code",
   "execution_count": 22,
   "metadata": {
    "collapsed": true
   },
   "outputs": [],
   "source": [
    "def addSpot(ax, idx, color):\n",
    "    ax.plot( Long[idx], Lat[idx], 'D', color=color, markeredgecolor = 'black' )"
   ]
  },
  {
   "cell_type": "code",
   "execution_count": 23,
   "metadata": {
    "collapsed": true
   },
   "outputs": [],
   "source": [
    "spot0 = getTimeOfDay( getSeconds( t_0 ) + 84 / blocksPerFile * T_files )\n",
    "spot1 = getTimeOfDay( getSeconds( t_0 ) + 144 / blocksPerFile * T_files )\n",
    "idx_spot0 = np.amax( np.where( utc_seconds <= getSeconds(spot0) ) )\n",
    "idx_spot1 = np.amax( np.where( utc_seconds <= getSeconds(spot1) ) )\n",
    "velocity_spot0_spot1 = np.average( Vel[idx_spot0:idx_spot1] )\n",
    "altitude_spot0_spot1 = np.average( Alt[idx_spot0:idx_spot1] )"
   ]
  },
  {
   "cell_type": "code",
   "execution_count": 24,
   "metadata": {},
   "outputs": [
    {
     "data": {
      "text/plain": [
       "(11.0, 43.0, 57.599999999998545)"
      ]
     },
     "execution_count": 24,
     "metadata": {},
     "output_type": "execute_result"
    }
   ],
   "source": [
    "spot0"
   ]
  },
  {
   "cell_type": "code",
   "execution_count": 25,
   "metadata": {},
   "outputs": [
    {
     "name": "stdout",
     "output_type": "stream",
     "text": [
      "39.0054229661\n"
     ]
    }
   ],
   "source": [
    "print(velocity_spot0_spot1)"
   ]
  },
  {
   "cell_type": "code",
   "execution_count": 26,
   "metadata": {},
   "outputs": [
    {
     "name": "stdout",
     "output_type": "stream",
     "text": [
      "239.896377946\n"
     ]
    }
   ],
   "source": [
    "print(altitude_spot0_spot1)"
   ]
  },
  {
   "cell_type": "code",
   "execution_count": 27,
   "metadata": {},
   "outputs": [
    {
     "data": {
      "text/plain": [
       "(11.0, 44.0, 6.5999999999985448)"
      ]
     },
     "execution_count": 27,
     "metadata": {},
     "output_type": "execute_result"
    }
   ],
   "source": [
    "spot1"
   ]
  },
  {
   "cell_type": "code",
   "execution_count": 47,
   "metadata": {
    "collapsed": true
   },
   "outputs": [],
   "source": [
    "plt.figure()\n",
    "\n",
    "ax = plt.subplot(111)\n",
    "\n",
    "plotLongLatAndTrackReferences( ax )\n",
    "plotRunaway( ax )\n",
    "\n",
    "addOnPlot( ax, record0_idx, 'yellow', 'record 0' )\n",
    "addOnPlot( ax, record1_idx, 'red', 'record 1' )\n",
    "addOnPlot( ax, record2_idx, 'magenta', 'record 2' )\n",
    "addOnPlot( ax, record3_idx, 'pink', 'record 3' )\n",
    "\n",
    "addSpot( ax, idx_spot0, 'white' )\n",
    "addSpot( ax, idx_spot1, 'white' )\n",
    "\n",
    "plt.title(\"Navigation data, track references, record locations\\nFlight 2017_09_22 09h00-10h00\")\n",
    "plt.xlabel(\"Longitude\")\n",
    "plt.ylabel(\"Latitude\")\n",
    "plt.legend()\n",
    "plt.grid()"
   ]
  },
  {
   "cell_type": "markdown",
   "metadata": {},
   "source": [
    "## Track 1"
   ]
  },
  {
   "cell_type": "code",
   "execution_count": 29,
   "metadata": {},
   "outputs": [
    {
     "data": {
      "text/plain": [
       "[<matplotlib.lines.Line2D at 0x7ff516846f98>]"
      ]
     },
     "execution_count": 29,
     "metadata": {},
     "output_type": "execute_result"
    }
   ],
   "source": [
    "plt.figure()\n",
    "ax1 = plt.subplot(211)\n",
    "ax1.plot(Long, '.')\n",
    "ax1.plot(np.ones(Long.shape) * runaway[1][1])\n",
    "ax1.plot(np.ones(Long.shape) * runaway[0][1])\n",
    "ax2 = plt.subplot(212, sharex=ax1)\n",
    "ax2.plot(Lat, '.')\n",
    "ax2.plot(np.ones(Lat.shape) * runaway[1][0])\n",
    "ax2.plot(np.ones(Lat.shape) * runaway[0][0])"
   ]
  },
  {
   "cell_type": "markdown",
   "metadata": {},
   "source": [
    "### Flight over 1"
   ]
  },
  {
   "cell_type": "code",
   "execution_count": 33,
   "metadata": {
    "collapsed": true
   },
   "outputs": [],
   "source": [
    "idx_tr1_fo1 = (320146, 322010)"
   ]
  },
  {
   "cell_type": "code",
   "execution_count": 32,
   "metadata": {},
   "outputs": [
    {
     "data": {
      "text/plain": [
       "<matplotlib.text.Text at 0x7ff511031e10>"
      ]
     },
     "execution_count": 32,
     "metadata": {},
     "output_type": "execute_result"
    }
   ],
   "source": [
    "plt.figure()\n",
    "ax = plt.subplot(111)\n",
    "\n",
    "plotLongLatAndTrackReferences( ax )\n",
    "\n",
    "addOnPlot( ax, idx_tr1_fo1, 'red', 'record 0' )\n",
    "\n",
    "plt.title(\"Navigation data and track references 2017_09_22 09h00-10h00\\nTrack 1 Flight over 1\")"
   ]
  },
  {
   "cell_type": "markdown",
   "metadata": {},
   "source": [
    "### Flight over 2"
   ]
  },
  {
   "cell_type": "code",
   "execution_count": 34,
   "metadata": {
    "collapsed": true
   },
   "outputs": [],
   "source": [
    "idx_tr1_fo2 = (373880, 375450)"
   ]
  },
  {
   "cell_type": "code",
   "execution_count": 35,
   "metadata": {},
   "outputs": [
    {
     "data": {
      "text/plain": [
       "<matplotlib.text.Text at 0x7ff510e01898>"
      ]
     },
     "execution_count": 35,
     "metadata": {},
     "output_type": "execute_result"
    }
   ],
   "source": [
    "plt.figure()\n",
    "ax = plt.subplot(111)\n",
    "\n",
    "plotLongLatAndTrackReferences( ax )\n",
    "\n",
    "addOnPlot( ax, idx_tr1_fo2, 'red', 'record 0' )\n",
    "\n",
    "plt.title(\"Navigation data and track references 2017_09_22 09h00-10h00\\nTrack 1 Flight over 2\")"
   ]
  },
  {
   "cell_type": "markdown",
   "metadata": {},
   "source": [
    "### Along track 1 reference"
   ]
  },
  {
   "cell_type": "code",
   "execution_count": null,
   "metadata": {
    "collapsed": true
   },
   "outputs": [],
   "source": [
    "plt.figure()\n",
    "ax1 = plt.subplot(211)\n",
    "ax1.plot(Long, '.')\n",
    "ax1.plot(np.ones(Long.shape) * Long_1_0)\n",
    "ax1.plot(np.ones(Long.shape) * Long_1_1)\n",
    "ax2 = plt.subplot(212, sharex=ax1)\n",
    "ax2.plot(Lat, '.')\n",
    "ax2.plot(np.ones(Lat.shape) * Lat_1_0)\n",
    "ax2.plot(np.ones(Lat.shape) * Lat_1_1)"
   ]
  },
  {
   "cell_type": "code",
   "execution_count": 36,
   "metadata": {
    "collapsed": true
   },
   "outputs": [],
   "source": [
    "idx_allTr1_fo1 = (314883, 327129)"
   ]
  },
  {
   "cell_type": "code",
   "execution_count": 37,
   "metadata": {},
   "outputs": [
    {
     "data": {
      "text/plain": [
       "<matplotlib.text.Text at 0x7ff510bda438>"
      ]
     },
     "execution_count": 37,
     "metadata": {},
     "output_type": "execute_result"
    }
   ],
   "source": [
    "plt.figure()\n",
    "ax = plt.subplot(111)\n",
    "\n",
    "plotLongLatAndTrackReferences( ax )\n",
    "\n",
    "addOnPlot( ax, idx_allTr1_fo1, 'red', 'record 0' )\n",
    "\n",
    "plt.title(\"Navigation data and track references 2017_09_22 09h00-10h00\\nTrack 1 Flight over 1\")"
   ]
  },
  {
   "cell_type": "markdown",
   "metadata": {},
   "source": [
    "### Track 1 reference / Flight over 2"
   ]
  },
  {
   "cell_type": "code",
   "execution_count": 38,
   "metadata": {
    "collapsed": true
   },
   "outputs": [],
   "source": [
    "idx_allTr1_fo2 = (369513, 380159)"
   ]
  },
  {
   "cell_type": "code",
   "execution_count": 39,
   "metadata": {},
   "outputs": [
    {
     "data": {
      "text/plain": [
       "<matplotlib.text.Text at 0x7ff5109b59e8>"
      ]
     },
     "execution_count": 39,
     "metadata": {},
     "output_type": "execute_result"
    }
   ],
   "source": [
    "plt.figure()\n",
    "ax = plt.subplot(111)\n",
    "\n",
    "plotLongLatAndTrackReferences( ax )\n",
    "\n",
    "addOnPlot( ax, idx_allTr1_fo2, 'red', 'record 0' )\n",
    "\n",
    "plt.title(\"Navigation data and track references 2017_09_22 09h00-10h00\\nTrack 1 Flight over 2\")"
   ]
  },
  {
   "cell_type": "markdown",
   "metadata": {},
   "source": [
    "## Track 3"
   ]
  },
  {
   "cell_type": "code",
   "execution_count": 50,
   "metadata": {},
   "outputs": [
    {
     "data": {
      "text/plain": [
       "[<matplotlib.lines.Line2D at 0x7ff5167cb978>]"
      ]
     },
     "execution_count": 50,
     "metadata": {},
     "output_type": "execute_result"
    }
   ],
   "source": [
    "plt.figure()\n",
    "ax1 = plt.subplot(211)\n",
    "ax1.plot(Long, '.')\n",
    "ax1.plot(np.ones(Long.shape) * track3_Long_0)\n",
    "ax1.plot(np.ones(Long.shape) * track3_Long_1)\n",
    "ax2 = plt.subplot(212, sharex=ax1)\n",
    "ax2.plot(Lat, '.')\n",
    "ax2.plot(np.ones(Lat.shape) * track3_Lat_0)\n",
    "ax2.plot(np.ones(Lat.shape) * track3_Lat_1)"
   ]
  },
  {
   "cell_type": "markdown",
   "metadata": {},
   "source": [
    "### Track 3 reference / Flight over 1"
   ]
  },
  {
   "cell_type": "code",
   "execution_count": 51,
   "metadata": {
    "collapsed": true
   },
   "outputs": [],
   "source": [
    "idx_allTr3_fo1 = (515398, 527835)"
   ]
  },
  {
   "cell_type": "code",
   "execution_count": 62,
   "metadata": {
    "collapsed": true
   },
   "outputs": [],
   "source": [
    "# 6684 / 7734\n",
    "start = 6690\n",
    "stop = start + 6 * 15\n",
    "spot3_0 = getTimeOfDay( getSeconds( t_0 ) + start / blocksPerFile * T_files )\n",
    "spot3_1 = getTimeOfDay( getSeconds( t_0 ) + stop / blocksPerFile * T_files )\n",
    "idx_spot3_0 = np.amax( np.where( utc_seconds <= getSeconds(spot3_0) ) )\n",
    "idx_spot3_1 = np.amax( np.where( utc_seconds <= getSeconds(spot3_1) ) )\n",
    "velocity_spot3_0_spot3_1 = np.average( Vel[idx_spot3_0:idx_spot3_1] )\n",
    "altitude_spot3_0_spot3_1 = np.average( Alt[idx_spot3_0:idx_spot3_1] )"
   ]
  },
  {
   "cell_type": "code",
   "execution_count": 60,
   "metadata": {},
   "outputs": [
    {
     "data": {
      "text/plain": [
       "<matplotlib.text.Text at 0x7ff5110e67f0>"
      ]
     },
     "execution_count": 60,
     "metadata": {},
     "output_type": "execute_result"
    }
   ],
   "source": [
    "plt.figure()\n",
    "ax = plt.subplot(111)\n",
    "\n",
    "plotLongLatAndTrackReferences( ax )\n",
    "plotRunaway( ax )\n",
    "\n",
    "addOnPlot( ax, idx_allTr3_fo1, 'red', 'record 0' )\n",
    "\n",
    "addSpot( ax, idx_spot3_0, 'white' )\n",
    "addSpot( ax, idx_spot3_1, 'white' )\n",
    "\n",
    "plt.title(\"Navigation data and track references 2017_09_22 09h00-10h00\\nTrack 1 Flight over 2\")"
   ]
  },
  {
   "cell_type": "markdown",
   "metadata": {},
   "source": [
    "# Data selection"
   ]
  },
  {
   "cell_type": "code",
   "execution_count": 40,
   "metadata": {
    "collapsed": true
   },
   "outputs": [],
   "source": [
    "def getBlockNumberFromUtcSeconds( seconds, t_0 ):\n",
    "    delta = seconds - getSeconds(t_0)\n",
    "    return int( np.floor( delta / T_files ) * blocksPerFile )"
   ]
  },
  {
   "cell_type": "code",
   "execution_count": 41,
   "metadata": {
    "collapsed": true
   },
   "outputs": [],
   "source": [
    "def getAltitudeVelocity( Alt, Vel, idx0, idx1 ):\n",
    "    altitude = np.average( Alt[ idx0 : idx1 ] )\n",
    "    velocity = np.average( Vel[ idx0 : idx1 ] )\n",
    "    print(\"(altitude, velocity) = ({:.3f}, {:.3f})\".format(altitude, velocity) )"
   ]
  },
  {
   "cell_type": "code",
   "execution_count": 42,
   "metadata": {
    "collapsed": true
   },
   "outputs": [],
   "source": [
    "def getSelection(utc_seconds, Alt, Vel, idx):\n",
    "    (idx0, idx1) = idx\n",
    "    \n",
    "    selection0 = getBlockNumberFromUtcSeconds( utc_seconds[idx0], t_0 )\n",
    "    print( \"Data selection starts at file: \" + '{}'.format(selection0) )\n",
    "    \n",
    "    selection1 = getBlockNumberFromUtcSeconds( utc_seconds[idx1], t_0 )\n",
    "    nb = int( np.floor( (selection1 - selection0) / blocksPerFile ) )\n",
    "    print( \"Data selection stops at file: \" + '{}'.format(selection1) \n",
    "          + \", number of files in the selection: \" + '{}'.format(nb+1) )\n",
    "    \n",
    "    getAltitudeVelocity( Alt, Vel, idx0, idx1 )"
   ]
  },
  {
   "cell_type": "markdown",
   "metadata": {},
   "source": [
    "## Track 1"
   ]
  },
  {
   "cell_type": "markdown",
   "metadata": {},
   "source": [
    "### Runaway Flight over 1"
   ]
  },
  {
   "cell_type": "code",
   "execution_count": 43,
   "metadata": {},
   "outputs": [
    {
     "name": "stdout",
     "output_type": "stream",
     "text": [
      "Data selection starts at file: 24\n",
      "Data selection stops at file: 84, number of files in the selection: 11\n",
      "(altitude, velocity) = (239.759, 37.730)\n"
     ]
    }
   ],
   "source": [
    "getSelection(utc_seconds, Alt, Vel, idx_tr1_fo1 )"
   ]
  },
  {
   "cell_type": "markdown",
   "metadata": {},
   "source": [
    "### Runaway Flight over 2"
   ]
  },
  {
   "cell_type": "code",
   "execution_count": 44,
   "metadata": {},
   "outputs": [
    {
     "name": "stdout",
     "output_type": "stream",
     "text": [
      "Data selection starts at file: 1818\n",
      "Data selection stops at file: 1866, number of files in the selection: 9\n",
      "(altitude, velocity) = (227.751, 44.205)\n"
     ]
    }
   ],
   "source": [
    "getSelection(utc_seconds, Alt, Vel, idx_tr1_fo2 )"
   ]
  },
  {
   "cell_type": "markdown",
   "metadata": {},
   "source": [
    "### Track 1 Flight over 1"
   ]
  },
  {
   "cell_type": "code",
   "execution_count": 45,
   "metadata": {},
   "outputs": [
    {
     "name": "stdout",
     "output_type": "stream",
     "text": [
      "Data selection starts at file: -150\n",
      "Data selection stops at file: 258, number of files in the selection: 69\n",
      "(altitude, velocity) = (236.732, 38.151)\n"
     ]
    }
   ],
   "source": [
    "getSelection(utc_seconds, Alt, Vel, idx_allTr1_fo1 )"
   ]
  },
  {
   "cell_type": "markdown",
   "metadata": {},
   "source": [
    "### Track 1 Flight over 2"
   ]
  },
  {
   "cell_type": "code",
   "execution_count": 46,
   "metadata": {},
   "outputs": [
    {
     "name": "stdout",
     "output_type": "stream",
     "text": [
      "Data selection starts at file: 1668\n",
      "Data selection stops at file: 2022, number of files in the selection: 60\n",
      "(altitude, velocity) = (232.441, 43.748)\n"
     ]
    }
   ],
   "source": [
    "getSelection(utc_seconds, Alt, Vel, idx_allTr1_fo2 )"
   ]
  },
  {
   "cell_type": "markdown",
   "metadata": {},
   "source": [
    "### Track 3 Flight over 1"
   ]
  },
  {
   "cell_type": "code",
   "execution_count": 63,
   "metadata": {},
   "outputs": [
    {
     "name": "stdout",
     "output_type": "stream",
     "text": [
      "Data selection starts at file: 6684\n",
      "Data selection stops at file: 6774, number of files in the selection: 16\n",
      "(altitude, velocity) = (801.705, 36.686)\n"
     ]
    }
   ],
   "source": [
    "getSelection(utc_seconds, Alt, Vel, (idx_spot3_0, idx_spot3_1) )"
   ]
  },
  {
   "cell_type": "markdown",
   "metadata": {},
   "source": [
    "# Annexe"
   ]
  },
  {
   "cell_type": "markdown",
   "metadata": {},
   "source": [
    "### Check the dates of the recorded files"
   ]
  },
  {
   "cell_type": "code",
   "execution_count": null,
   "metadata": {
    "collapsed": true
   },
   "outputs": [],
   "source": [
    "def getLastLine( filename ):\n",
    "    with open(filename, newline='') as f:\n",
    "        reader = csv.reader(f)\n",
    "        for row in reader:\n",
    "            last = next(reader)\n",
    "        print(last)"
   ]
  },
  {
   "cell_type": "code",
   "execution_count": null,
   "metadata": {
    "collapsed": true
   },
   "outputs": [],
   "source": [
    "def printUtc( index ):\n",
    "    print( str(utc_h[index]) \n",
    "          + \" : \" + str(utc_m[index]) \n",
    "          + \" : \" + \"{:.3f}\".format(utc_s[index] + utc_nano[index] * 1e-9) )"
   ]
  },
  {
   "cell_type": "code",
   "execution_count": null,
   "metadata": {
    "collapsed": true
   },
   "outputs": [],
   "source": [
    "def getDataAtIndex(filename, index):\n",
    "    with open(filename, newline='') as f:\n",
    "        reader = csv.reader(f)\n",
    "        for r in range(index+1):\n",
    "            next(reader)\n",
    "        val = next(reader)\n",
    "    return val"
   ]
  },
  {
   "cell_type": "code",
   "execution_count": null,
   "metadata": {
    "collapsed": true
   },
   "outputs": [],
   "source": [
    "def getBlockNumber( t, t_0 ):\n",
    "    delta = getSeconds( t ) - getSeconds(t_0)\n",
    "    return int( np.floor( delta / T_files ) * blocksPerFile )\n",
    "\n",
    "def getUtcIndex( tod ):\n",
    "    return np.amax( np.where( utc_seconds <= getSeconds( tod ) ) )\n",
    "\n",
    "def getUtcData( logUtcData, timeOfDay ):\n",
    "    with open( logUtcData, newline='') as f:\n",
    "        reader = csv.reader(f)\n",
    "        next(reader)\n",
    "        utc = np.loadtxt( io.StringIO( next(reader)[0] ))\n",
    "        \n",
    "        while (utc[5] < timeOfDay[0] - hourOffset):\n",
    "            utc = np.loadtxt( io.StringIO( next(reader)[0] ))\n",
    "            \n",
    "        while (utc[6] < timeOfDay[1]):\n",
    "            utc = np.loadtxt( io.StringIO( next(reader)[0] ))\n",
    "            \n",
    "        while (utc[7] < timeOfDay[2]):\n",
    "            utc = np.loadtxt( io.StringIO( next(reader)[0] ))\n",
    "            \n",
    "    return utc"
   ]
  }
 ],
 "metadata": {
  "kernelspec": {
   "display_name": "Python 3",
   "language": "python",
   "name": "python3"
  },
  "language_info": {
   "codemirror_mode": {
    "name": "ipython",
    "version": 3
   },
   "file_extension": ".py",
   "mimetype": "text/x-python",
   "name": "python",
   "nbconvert_exporter": "python",
   "pygments_lexer": "ipython3",
   "version": "3.6.2"
  }
 },
 "nbformat": 4,
 "nbformat_minor": 2
}
