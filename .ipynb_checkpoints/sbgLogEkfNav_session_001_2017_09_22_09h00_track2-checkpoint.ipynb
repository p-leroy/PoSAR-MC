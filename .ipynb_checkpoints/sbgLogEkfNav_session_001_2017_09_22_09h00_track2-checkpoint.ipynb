{
 "cells": [
  {
   "cell_type": "code",
   "execution_count": 1,
   "metadata": {
    "collapsed": true
   },
   "outputs": [],
   "source": [
    "import numpy as np\n",
    "import numexpr as ne\n",
    "import matplotlib.pyplot as plt\n",
    "import io\n",
    "import csv\n",
    "%matplotlib qt5"
   ]
  },
  {
   "cell_type": "code",
   "execution_count": 2,
   "metadata": {
    "collapsed": true
   },
   "outputs": [],
   "source": [
    "blocksPerFile = 6\n",
    "samplesPerRamp = 6000\n",
    "rampsPerFile = 1500\n",
    "samplesPerFile = 9000000\n",
    "T_files = samplesPerFile / 10e6"
   ]
  },
  {
   "cell_type": "code",
   "execution_count": 3,
   "metadata": {
    "collapsed": true
   },
   "outputs": [],
   "source": [
    "#EKF NAV\n",
    "idx_timeStamp = 0\n",
    "idx_velNorth = 1\n",
    "idx_velEast = 2\n",
    "idx_velDown = 3\n",
    "idx_velNorth_StdDev = 4\n",
    "idx_velEast_StdDev = 5\n",
    "idx_velDown_StdDev = 6\n",
    "idx_Lat = 7\n",
    "idx_Long = 8\n",
    "idx_Alt = 9\n",
    "idx_undulation = 10\n",
    "idx_Lat_StdDev = 11\n",
    "idx_Long_StdDev = 12\n",
    "idx_Alt_StdDev = 13\n",
    "idx_nav_status = 14\n",
    "\n",
    "Lat_1_0  = 48.06069 \n",
    "Long_1_0 = -1.99354\n",
    "Lat_1_1  = 48.05507 \n",
    "Long_1_1 = -2.02359\n",
    "\n",
    "Lat_2_0  = 48.06249 \n",
    "Long_2_0 = -1.99467\n",
    "Lat_2_1  = 48.05687 \n",
    "Long_2_1 = -2.02434\n",
    "\n",
    "Lat_3_0  = 48.06555 \n",
    "Long_3_0 = -1.99619\n",
    "Lat_3_1  = 48.06007 \n",
    "Long_3_1 = -2.02550\n",
    "\n",
    "runaway = np.array([ [ 48.057546, -2.010483, 0.0 ],\n",
    "          [ 48.058403, -2.005964, 0.0 ],\n",
    "          [ 48.058191, -2.005869, 0.0 ],\n",
    "          [ 48.057327, -2.010383, 0.0 ],\n",
    "          [ 48.057546, -2.010483, 0.0 ]\n",
    "          ])"
   ]
  },
  {
   "cell_type": "code",
   "execution_count": 4,
   "metadata": {
    "collapsed": true
   },
   "outputs": [],
   "source": [
    "prefix = \"/home/pleroy/DATA/PoSAR-MC_PIMA_TEST-2/2017_09_21-22_SBG/dataLogger\"\n",
    "\n",
    "logEkfNav  = prefix + \"/session_0001/2017_09_22/09h00/\" + \"sbgLogEkfNav.dat\"\n",
    "logUtcData = prefix + \"/session_0001/2017_09_22/09h00/\" + \"sbgLogUtcData.dat\"\n",
    "\n",
    "logEkfNav_2  = prefix + \"/session_0001/2017_09_22/10h00/\" + \"sbgLogEkfNav.dat\"\n",
    "logUtcData_2 = prefix + \"/session_0001/2017_09_22/10h00/\" + \"sbgLogUtcData.dat\""
   ]
  },
  {
   "cell_type": "markdown",
   "metadata": {},
   "source": [
    "## Load navigation data SbgLogEkfNav"
   ]
  },
  {
   "cell_type": "code",
   "execution_count": 5,
   "metadata": {
    "collapsed": true
   },
   "outputs": [],
   "source": [
    "# logEkfNav\n",
    "timeStamps = np.loadtxt( logEkfNav, skiprows = 1, usecols = idx_timeStamp )\n",
    "Long = np.loadtxt( logEkfNav, skiprows = 1, usecols = idx_Long )\n",
    "Lat = np.loadtxt( logEkfNav, skiprows = 1, usecols = idx_Lat )\n",
    "Alt = np.loadtxt( logEkfNav, skiprows = 1, usecols = idx_Alt )\n",
    "vN, vE, vD = np.loadtxt( logEkfNav, skiprows = 1, usecols = (idx_velNorth, idx_velEast, idx_velDown), unpack=True )"
   ]
  },
  {
   "cell_type": "code",
   "execution_count": 6,
   "metadata": {
    "collapsed": true
   },
   "outputs": [],
   "source": [
    "Vel = (vN**2 + vE**2 + vD**2)**0.5"
   ]
  },
  {
   "cell_type": "code",
   "execution_count": 7,
   "metadata": {
    "collapsed": true
   },
   "outputs": [],
   "source": [
    "# logEkfNav\n",
    "timeStamps_2 = np.loadtxt( logEkfNav_2, skiprows = 1, usecols = idx_timeStamp )\n",
    "Long_2 = np.loadtxt( logEkfNav_2, skiprows = 1, usecols = idx_Long )\n",
    "Lat_2 = np.loadtxt( logEkfNav_2, skiprows = 1, usecols = idx_Lat )"
   ]
  },
  {
   "cell_type": "markdown",
   "metadata": {},
   "source": [
    "### Plot navigation data jointly with track references"
   ]
  },
  {
   "cell_type": "code",
   "execution_count": 8,
   "metadata": {
    "collapsed": true
   },
   "outputs": [],
   "source": [
    "idx_track2_0 = 432379\n",
    "idx_track2_1 = 444144"
   ]
  },
  {
   "cell_type": "code",
   "execution_count": 9,
   "metadata": {},
   "outputs": [
    {
     "data": {
      "text/plain": [
       "<matplotlib.text.Text at 0x7f793c06d828>"
      ]
     },
     "execution_count": 9,
     "metadata": {},
     "output_type": "execute_result"
    }
   ],
   "source": [
    "plt.figure()\n",
    "\n",
    "plt.plot( Long, Lat, 'grey' )\n",
    "plt.plot( Long_2, Lat_2, 'black' )\n",
    "\n",
    "plt.plot( [Long_1_0, Long_1_1], [Lat_1_0, Lat_1_1], \"o-b\" )\n",
    "plt.plot( [Long_2_0, Long_2_1], [Lat_2_0, Lat_2_1], \"o-b\" )\n",
    "plt.plot( [Long_3_0, Long_3_1], [Lat_3_0, Lat_3_1], \"o-b\" )\n",
    "\n",
    "plt.plot( Long[idx_track2_0], Lat[idx_track2_0], 'or' )\n",
    "plt.plot( Long[idx_track2_1], Lat[idx_track2_1], 'or' )\n",
    "\n",
    "plt.title(\"Navigation data and track references 2017_09_22 09h00-10h00\")"
   ]
  },
  {
   "cell_type": "code",
   "execution_count": 10,
   "metadata": {},
   "outputs": [
    {
     "data": {
      "text/plain": [
       "[<matplotlib.lines.Line2D at 0x7f793fd1e940>]"
      ]
     },
     "execution_count": 10,
     "metadata": {},
     "output_type": "execute_result"
    }
   ],
   "source": [
    "plt.figure()\n",
    "ax1 = plt.subplot(211)\n",
    "ax1.plot(Long)\n",
    "ax1.plot(np.ones(Long.shape) * Long_2_0)\n",
    "ax1.plot(np.ones(Long.shape) * Long_2_1)\n",
    "ax2 = plt.subplot(212, sharex=ax1)\n",
    "ax2.plot(Lat)\n",
    "ax2.plot(np.ones(Lat.shape) * Lat_2_0)\n",
    "ax2.plot(np.ones(Lat.shape) * Lat_2_1)"
   ]
  },
  {
   "cell_type": "markdown",
   "metadata": {},
   "source": [
    "### Extract UTC data corresponding to the track 2"
   ]
  },
  {
   "cell_type": "code",
   "execution_count": 29,
   "metadata": {
    "collapsed": true
   },
   "outputs": [],
   "source": [
    "def getDataAtIndex(filename, index):\n",
    "    with open(filename, newline='') as f:\n",
    "        reader = csv.reader(f)\n",
    "        for r in range(index+1):\n",
    "            next(reader)\n",
    "        val = next(reader)\n",
    "    return val"
   ]
  },
  {
   "cell_type": "code",
   "execution_count": 31,
   "metadata": {},
   "outputs": [
    {
     "data": {
      "text/plain": [
       "['1366127704 167 2017 9 22 9 53 10 245001000 467608245 ']"
      ]
     },
     "execution_count": 31,
     "metadata": {},
     "output_type": "execute_result"
    }
   ],
   "source": [
    "getDataAtIndex(logUtcData, idx_track2_0)"
   ]
  },
  {
   "cell_type": "code",
   "execution_count": 32,
   "metadata": {},
   "outputs": [
    {
     "data": {
      "text/plain": [
       "['1424952704 167 2017 9 22 9 54 9 70001000 467667070 ']"
      ]
     },
     "execution_count": 32,
     "metadata": {},
     "output_type": "execute_result"
    }
   ],
   "source": [
    "getDataAtIndex(logUtcData, idx_track2_1)"
   ]
  },
  {
   "cell_type": "markdown",
   "metadata": {},
   "source": [
    "### Extract UTC data corresponding to the date of the recorded files"
   ]
  },
  {
   "cell_type": "code",
   "execution_count": null,
   "metadata": {
    "collapsed": true
   },
   "outputs": [],
   "source": [
    "hourOffset = 2\n",
    "\n",
    "def getUtcData( logUtcData, timeOfDay ):\n",
    "    with open( logUtcData, newline='') as f:\n",
    "        reader = csv.reader(f)\n",
    "        next(reader)\n",
    "        utc = np.loadtxt( io.StringIO( next(reader)[0] ))\n",
    "        \n",
    "        while (utc[5] < timeOfDay[0] - hourOffset):\n",
    "            utc = np.loadtxt( io.StringIO( next(reader)[0] ))\n",
    "            \n",
    "        while (utc[6] < timeOfDay[1]):\n",
    "            utc = np.loadtxt( io.StringIO( next(reader)[0] ))\n",
    "            \n",
    "        while (utc[7] < timeOfDay[2]):\n",
    "            utc = np.loadtxt( io.StringIO( next(reader)[0] ))\n",
    "            \n",
    "    return utc"
   ]
  },
  {
   "cell_type": "code",
   "execution_count": null,
   "metadata": {
    "collapsed": true
   },
   "outputs": [],
   "source": [
    "firstStoredBlock = 12\n",
    "t_0    = (11, 43, 45)\n",
    "t_12   = (11, 43, 48)\n",
    "t_18   = (11, 43, 49)\n",
    "t_7734 = (12,  3,  6)"
   ]
  },
  {
   "cell_type": "code",
   "execution_count": null,
   "metadata": {
    "collapsed": true
   },
   "outputs": [],
   "source": [
    "utc_startRecord = getUtcData( logUtcData, t_12 )"
   ]
  },
  {
   "cell_type": "code",
   "execution_count": null,
   "metadata": {
    "collapsed": true
   },
   "outputs": [],
   "source": [
    "idx_startRecord = int(np.where(timeStamps == utc_startRecord[0])[0])"
   ]
  },
  {
   "cell_type": "code",
   "execution_count": null,
   "metadata": {
    "collapsed": true
   },
   "outputs": [],
   "source": [
    "utc_stopRecord = getUtcData( logUtcData_2, t_7734 )"
   ]
  },
  {
   "cell_type": "code",
   "execution_count": null,
   "metadata": {
    "collapsed": true
   },
   "outputs": [],
   "source": [
    "idx_stopRecord = int(np.where(timeStamps_2 == utc_stopRecord[0])[0])"
   ]
  },
  {
   "cell_type": "code",
   "execution_count": null,
   "metadata": {
    "collapsed": true
   },
   "outputs": [],
   "source": [
    "plt.figure()\n",
    "\n",
    "# plot longitude/latitude and track references\n",
    "\n",
    "plt.plot( Long, Lat, 'gray' )\n",
    "plt.plot( Long_2, Lat_2, 'black' )\n",
    "plt.plot( [Long_1_0, Long_1_1], [Lat_1_0, Lat_1_1], \"o-b\" )\n",
    "plt.plot( [Long_2_0, Long_2_1], [Lat_2_0, Lat_2_1], \"o-b\" )\n",
    "plt.plot( [Long_3_0, Long_3_1], [Lat_3_0, Lat_3_1], \"o-b\" )\n",
    "\n",
    "# add on the plot the track during which data are recorded\n",
    "\n",
    "plt.plot( Long[idx_startRecord], Lat[idx_startRecord], 'D', color='orange' )\n",
    "plt.plot( Long_2[idx_stopRecord], Lat_2[idx_stopRecord], 'D', color='red' )\n",
    "\n",
    "plt.plot( Long[idx_startRecord:], Lat[idx_startRecord:], 'orange' )\n",
    "plt.plot( Long_2[:idx_stopRecord], Lat_2[:idx_stopRecord], 'red' )\n",
    "\n",
    "plt.plot(runaway[:,1], runaway[:,0], \"og\")\n",
    "\n",
    "plt.title(\"Navigation data and track references 2017_09_22 09h00-10h00\")"
   ]
  },
  {
   "cell_type": "markdown",
   "metadata": {},
   "source": [
    "### Select data for focalization"
   ]
  },
  {
   "cell_type": "code",
   "execution_count": null,
   "metadata": {
    "collapsed": true
   },
   "outputs": [],
   "source": [
    "def getTimeOfDay( seconds ):\n",
    "    h = np.floor( seconds / 3600 )\n",
    "    m = np.floor( (seconds - h *3600) / 60 )\n",
    "    s = seconds - h * 3600 - m * 60\n",
    "    return (h, m, s)\n",
    "\n",
    "def getSeconds( timeOfDay ):\n",
    "    return (timeOfDay[0] * 3600 + timeOfDay[1] * 60 + timeOfDay[2])\n",
    "\n",
    "def getBlockNumber( t, t_0 ):\n",
    "    delta = getSeconds( t ) - getSeconds(t_0)\n",
    "    return np.floor( delta / T_files * blocksPerFile )"
   ]
  },
  {
   "cell_type": "code",
   "execution_count": null,
   "metadata": {
    "collapsed": true
   },
   "outputs": [],
   "source": [
    "tod = getTimeOfDay( getSeconds(t_18) )\n",
    "utc_val = getTimeCode( logUtcData, tod)\n",
    "idx_startOfSelection = int(np.where(timeStamps == utc_val[0])[0])"
   ]
  },
  {
   "cell_type": "code",
   "execution_count": null,
   "metadata": {
    "collapsed": true
   },
   "outputs": [],
   "source": [
    "# 11 files\n",
    "numberOfFilesToKeep = 10\n",
    "endOfSelection_t = getTimeOfDay( getSeconds(t_18) + numberOfFilesToKeep * T_files )\n",
    "utc_endOfSelection = getTimeCode( logUtcData, endOfSelection_t )\n",
    "idx_endOfSelection = int(np.where(timeStamps == utc_endOfSelection[0])[0])"
   ]
  },
  {
   "cell_type": "code",
   "execution_count": null,
   "metadata": {
    "collapsed": true
   },
   "outputs": [],
   "source": [
    "fig = plt.figure()\n",
    "\n",
    "# plot longitude/latitude and track references\n",
    "\n",
    "plt.plot( Long, Lat, 'gray' )\n",
    "plt.plot( Long_2, Lat_2, 'black' )\n",
    "plt.plot( [Long_1_0, Long_1_1], [Lat_1_0, Lat_1_1], \"o-.b\" )\n",
    "plt.plot( [Long_2_0, Long_2_1], [Lat_2_0, Lat_2_1], \"o-.b\" )\n",
    "plt.plot( [Long_3_0, Long_3_1], [Lat_3_0, Lat_3_1], \"o-.b\" )\n",
    "\n",
    "plt.plot(runaway[:,1], runaway[:,0], \"og\")\n",
    "\n",
    "# add on the plot the track during which data are recorded\n",
    "\n",
    "plt.plot( Long[idx_startOfSelection], Lat[idx_startOfSelection], 'D', color='orange' )\n",
    "plt.plot( Long[idx_endOfSelection], Lat[idx_endOfSelection], 'D', color='orange' )\n",
    "plt.plot( Long[idx_startOfSelection:idx_endOfSelection], Lat[idx_startOfSelection:idx_endOfSelection], color='orange' )\n",
    "\n",
    "plt.title(\"Navigation data and track references 2017_09_22 09h00-10h00\\n Data selection\")"
   ]
  },
  {
   "cell_type": "code",
   "execution_count": null,
   "metadata": {
    "collapsed": true
   },
   "outputs": [],
   "source": [
    "altitude = np.average(Alt[idx_startOfSelection:idx_endOfSelection])\n",
    "velocity = np.average(Vel[idx_startOfSelection:idx_endOfSelection])"
   ]
  },
  {
   "cell_type": "code",
   "execution_count": null,
   "metadata": {
    "collapsed": true
   },
   "outputs": [],
   "source": [
    "altitude"
   ]
  },
  {
   "cell_type": "code",
   "execution_count": null,
   "metadata": {
    "collapsed": true
   },
   "outputs": [],
   "source": [
    "velocity"
   ]
  },
  {
   "cell_type": "code",
   "execution_count": null,
   "metadata": {
    "collapsed": true
   },
   "outputs": [],
   "source": [
    "altitude*2**0.5"
   ]
  },
  {
   "cell_type": "code",
   "execution_count": null,
   "metadata": {
    "collapsed": true
   },
   "outputs": [],
   "source": [
    "velocity * 3600 / 1000"
   ]
  },
  {
   "cell_type": "markdown",
   "metadata": {},
   "source": [
    "# Annexe"
   ]
  },
  {
   "cell_type": "markdown",
   "metadata": {},
   "source": [
    "### Check the dates of the recorded files"
   ]
  },
  {
   "cell_type": "code",
   "execution_count": null,
   "metadata": {
    "collapsed": true
   },
   "outputs": [],
   "source": [
    "def getLastLine( filename ):\n",
    "    with open(filename, newline='') as f:\n",
    "        reader = csv.reader(f)\n",
    "        for row in reader:\n",
    "            last = next(reader)\n",
    "        print(last)"
   ]
  },
  {
   "cell_type": "code",
   "execution_count": null,
   "metadata": {
    "collapsed": true
   },
   "outputs": [],
   "source": [
    "getSeconds(t_0) + 3372 / 6 * T_files"
   ]
  },
  {
   "cell_type": "code",
   "execution_count": null,
   "metadata": {
    "collapsed": true
   },
   "outputs": [],
   "source": [
    "getTimeOfDay( 55816.8 )"
   ]
  },
  {
   "cell_type": "code",
   "execution_count": null,
   "metadata": {
    "collapsed": true
   },
   "outputs": [],
   "source": [
    "getBlockNumber( (13 + hourOffset, 23, 50), t_0)"
   ]
  }
 ],
 "metadata": {
  "kernelspec": {
   "display_name": "Python 3",
   "language": "python",
   "name": "python3"
  },
  "language_info": {
   "codemirror_mode": {
    "name": "ipython",
    "version": 3
   },
   "file_extension": ".py",
   "mimetype": "text/x-python",
   "name": "python",
   "nbconvert_exporter": "python",
   "pygments_lexer": "ipython3",
   "version": "3.6.2"
  }
 },
 "nbformat": 4,
 "nbformat_minor": 2
}
