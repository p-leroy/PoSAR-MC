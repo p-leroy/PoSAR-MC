{
 "cells": [
  {
   "cell_type": "code",
   "execution_count": 1,
   "metadata": {
    "collapsed": true
   },
   "outputs": [],
   "source": [
    "import numpy as np\n",
    "import numexpr as ne\n",
    "import matplotlib.pyplot as plt\n",
    "%matplotlib qt5"
   ]
  },
  {
   "cell_type": "code",
   "execution_count": 2,
   "metadata": {
    "collapsed": true
   },
   "outputs": [],
   "source": [
    "#EKF NAV\n",
    "idx_timeStamp = 0\n",
    "idx_velNorth = 1\n",
    "idx_velEast = 2\n",
    "idx_velDown = 3\n",
    "idx_velNorth_StdDev = 4\n",
    "idx_velEast_StdDev = 5\n",
    "idx_velDown_StdDev = 6\n",
    "idx_Lat = 7\n",
    "idx_Long = 8\n",
    "idx_Alt = 9\n",
    "idx_undulation = 10\n",
    "idx_Lat_StdDev = 11\n",
    "idx_Long_StdDev = 12\n",
    "idx_Alt_StdDev = 13\n",
    "idx_nav_status = 14\n",
    "\n",
    "Lat_1_0  = 48.06069 \n",
    "Long_1_0 = -1.99354\n",
    "Lat_1_1  = 48.05507 \n",
    "Long_1_1 = -2.02359\n",
    "\n",
    "Lat_2_0  = 48.06249 \n",
    "Long_2_0 = -1.99467\n",
    "Lat_2_1  = 48.05687 \n",
    "Long_2_1 = -2.02434\n",
    "\n",
    "Lat_3_0  = 48.06555 \n",
    "Long_3_0 = -1.99619\n",
    "Lat_3_1  = 48.06007 \n",
    "Long_3_1 = -2.02550"
   ]
  },
  {
   "cell_type": "code",
   "execution_count": 11,
   "metadata": {
    "collapsed": true
   },
   "outputs": [],
   "source": [
    "prefix = \"/home/pleroy/DATA/PoSAR-MC_PIMA_TEST-2/2017_09_21-22_SBG/dataLogger\"\n",
    "suffix = \"sbgLogEkfNav.dat\"\n",
    "\n",
    "file_13h00 = prefix + \"/session_0003/2017_09_22/13h00/\" + suffix\n",
    "utc_13h00 = prefix + \"/session_0003/2017_09_22/13h00/\" + \"sbgLogUtcData.dat\""
   ]
  },
  {
   "cell_type": "code",
   "execution_count": 7,
   "metadata": {},
   "outputs": [],
   "source": [
    "# 13h00\n",
    "timeStamps_13h00 = np.loadtxt( file_13h00, skiprows = 1, usecols = idx_timeStamp )\n",
    "Long_13h00 = np.loadtxt( file_13h00, skiprows = 1, usecols = idx_Long )\n",
    "Lat_13h00 = np.loadtxt( file_13h00, skiprows = 1, usecols = idx_Lat )"
   ]
  },
  {
   "cell_type": "code",
   "execution_count": 9,
   "metadata": {},
   "outputs": [
    {
     "data": {
      "text/plain": [
       "[<matplotlib.lines.Line2D at 0x7f89c5037780>]"
      ]
     },
     "execution_count": 9,
     "metadata": {},
     "output_type": "execute_result"
    }
   ],
   "source": [
    "plt.figure()\n",
    "plt.plot(Lat_13h00, '.-')\n",
    "plt.plot(np.ones(Lat_13h00.shape) * Lat_2_0, 'r-')\n",
    "plt.plot(np.ones(Lat_13h00.shape) * Lat_2_1, 'g-')\n",
    "idx_0 = 240968\n",
    "idx_1 = 250915\n",
    "plt.plot(idx_0, Lat_13h00[idx_0], 'or')\n",
    "plt.plot(idx_1, Lat_13h00[idx_1], 'og')"
   ]
  },
  {
   "cell_type": "code",
   "execution_count": null,
   "metadata": {
    "collapsed": true
   },
   "outputs": [],
   "source": [
    "plt.figure()\n",
    "plt.plot( Long_13h00, Lat_13h00 )\n",
    "plt.plot( Long_13h00[idx_0], Lat_13h00[idx_0], 'dk' )\n",
    "plt.plot( Long_13h00[idx_1], Lat_13h00[idx_1], 'dk' )\n",
    "plt.plot( [Long_1_0, Long_1_1], [Lat_1_0, Lat_1_1], \"o-g\" )\n",
    "plt.plot( [Long_2_0, Long_2_1], [Lat_2_0, Lat_2_1], \"o-r\" )\n",
    "plt.plot( [Long_3_0, Long_3_1], [Lat_3_0, Lat_3_1], \"o-y\" )"
   ]
  },
  {
   "cell_type": "code",
   "execution_count": 13,
   "metadata": {},
   "outputs": [],
   "source": [
    "timeStamp0 = int(timeStamps_13h00[idx_0])"
   ]
  },
  {
   "cell_type": "code",
   "execution_count": 14,
   "metadata": {},
   "outputs": [],
   "source": [
    "timeStamp1 = int(timeStamps_13h00[idx_1])"
   ]
  },
  {
   "cell_type": "code",
   "execution_count": 12,
   "metadata": {
    "collapsed": true
   },
   "outputs": [],
   "source": [
    "utc_13h00_timeStamp = np.loadtxt( file_13h00, skiprows = 1, usecols = idx_timeStamp )"
   ]
  },
  {
   "cell_type": "code",
   "execution_count": 17,
   "metadata": {},
   "outputs": [
    {
     "data": {
      "text/plain": [
       "0"
      ]
     },
     "execution_count": 17,
     "metadata": {},
     "output_type": "execute_result"
    }
   ],
   "source": [
    "np.where(utc_13h00_timeStamp > timeStamp0)"
   ]
  },
  {
   "cell_type": "code",
   "execution_count": 24,
   "metadata": {},
   "outputs": [
    {
     "data": {
      "text/plain": [
       "[<matplotlib.lines.Line2D at 0x7f89b7ab19b0>]"
      ]
     },
     "execution_count": 24,
     "metadata": {},
     "output_type": "execute_result"
    }
   ],
   "source": [
    "plt.figure()\n",
    "plt.plot(timeStamps_13h00)\n",
    "plt.plot(utc_13h00_timeStamp)"
   ]
  },
  {
   "cell_type": "code",
   "execution_count": null,
   "metadata": {
    "collapsed": true
   },
   "outputs": [],
   "source": [
    "np.loadtxt( file_13h00, skiprows = 1, usecols = idx_timeStamp )"
   ]
  },
  {
   "cell_type": "code",
   "execution_count": 26,
   "metadata": {
    "collapsed": true
   },
   "outputs": [],
   "source": [
    "import csv"
   ]
  },
  {
   "cell_type": "code",
   "execution_count": 40,
   "metadata": {},
   "outputs": [],
   "source": [
    "def getLine(filename, row):\n",
    "    with open(filename, newline='') as f:\n",
    "        reader = csv.reader(f)\n",
    "        for r in range(row-1):\n",
    "            next(reader)\n",
    "        val = next(reader)\n",
    "    return val"
   ]
  },
  {
   "cell_type": "code",
   "execution_count": 47,
   "metadata": {},
   "outputs": [],
   "source": [
    "# line 2 corresponds to data 0\n",
    "line_0 = getLine(utc_13h00, idx_0 + 2)\n",
    "line_1 = getLine(utc_13h00, idx_1 + 2)"
   ]
  },
  {
   "cell_type": "code",
   "execution_count": 51,
   "metadata": {},
   "outputs": [
    {
     "data": {
      "text/plain": [
       "['939732704 167 2017 9 22 13 23 50 265001000 480248265 ']"
      ]
     },
     "execution_count": 51,
     "metadata": {},
     "output_type": "execute_result"
    }
   ],
   "source": [
    "line_0"
   ]
  },
  {
   "cell_type": "code",
   "execution_count": 52,
   "metadata": {},
   "outputs": [
    {
     "data": {
      "text/plain": [
       "['989467704 167 2017 9 22 13 24 40 1000 480298000 ']"
      ]
     },
     "execution_count": 52,
     "metadata": {},
     "output_type": "execute_result"
    }
   ],
   "source": [
    "line_1"
   ]
  },
  {
   "cell_type": "code",
   "execution_count": null,
   "metadata": {
    "collapsed": true
   },
   "outputs": [],
   "source": []
  }
 ],
 "metadata": {
  "kernelspec": {
   "display_name": "Python 3",
   "language": "python",
   "name": "python3"
  },
  "language_info": {
   "codemirror_mode": {
    "name": "ipython",
    "version": 3
   },
   "file_extension": ".py",
   "mimetype": "text/x-python",
   "name": "python",
   "nbconvert_exporter": "python",
   "pygments_lexer": "ipython3",
   "version": "3.6.2"
  }
 },
 "nbformat": 4,
 "nbformat_minor": 2
}
