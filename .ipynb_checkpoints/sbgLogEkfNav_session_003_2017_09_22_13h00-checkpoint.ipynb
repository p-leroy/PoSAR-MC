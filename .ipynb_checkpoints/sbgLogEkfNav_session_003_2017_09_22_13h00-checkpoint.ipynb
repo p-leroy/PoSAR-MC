{
 "cells": [
  {
   "cell_type": "code",
   "execution_count": 1,
   "metadata": {
    "collapsed": true
   },
   "outputs": [],
   "source": [
    "import numpy as np\n",
    "import numexpr as ne\n",
    "import matplotlib.pyplot as plt\n",
    "import io\n",
    "import csv\n",
    "%matplotlib qt5"
   ]
  },
  {
   "cell_type": "code",
   "execution_count": 2,
   "metadata": {
    "collapsed": true
   },
   "outputs": [],
   "source": [
    "#EKF NAV\n",
    "idx_timeStamp = 0\n",
    "idx_velNorth = 1\n",
    "idx_velEast = 2\n",
    "idx_velDown = 3\n",
    "idx_velNorth_StdDev = 4\n",
    "idx_velEast_StdDev = 5\n",
    "idx_velDown_StdDev = 6\n",
    "idx_Lat = 7\n",
    "idx_Long = 8\n",
    "idx_Alt = 9\n",
    "idx_undulation = 10\n",
    "idx_Lat_StdDev = 11\n",
    "idx_Long_StdDev = 12\n",
    "idx_Alt_StdDev = 13\n",
    "idx_nav_status = 14\n",
    "\n",
    "Lat_1_0  = 48.06069 \n",
    "Long_1_0 = -1.99354\n",
    "Lat_1_1  = 48.05507 \n",
    "Long_1_1 = -2.02359\n",
    "\n",
    "Lat_2_0  = 48.06249 \n",
    "Long_2_0 = -1.99467\n",
    "Lat_2_1  = 48.05687 \n",
    "Long_2_1 = -2.02434\n",
    "\n",
    "Lat_3_0  = 48.06555 \n",
    "Long_3_0 = -1.99619\n",
    "Lat_3_1  = 48.06007 \n",
    "Long_3_1 = -2.02550"
   ]
  },
  {
   "cell_type": "code",
   "execution_count": 3,
   "metadata": {
    "collapsed": true
   },
   "outputs": [],
   "source": [
    "prefix = \"/home/pleroy/DATA/PoSAR-MC_PIMA_TEST-2/2017_09_21-22_SBG/dataLogger\"\n",
    "\n",
    "logEkfNav  = prefix + \"/session_0003/2017_09_22/13h00/\" + \"sbgLogEkfNav.dat\"\n",
    "logUtcData = prefix + \"/session_0003/2017_09_22/13h00/\" + \"sbgLogUtcData.dat\""
   ]
  },
  {
   "cell_type": "markdown",
   "metadata": {},
   "source": [
    "## Load navigation data SbgLogEkfNav"
   ]
  },
  {
   "cell_type": "code",
   "execution_count": 6,
   "metadata": {},
   "outputs": [],
   "source": [
    "# logEkfNav\n",
    "timeStamps = np.loadtxt( logEkfNav, skiprows = 1, usecols = idx_timeStamp )\n",
    "Long = np.loadtxt( logEkfNav, skiprows = 1, usecols = idx_Long )\n",
    "Lat = np.loadtxt( logEkfNav, skiprows = 1, usecols = idx_Lat )"
   ]
  },
  {
   "cell_type": "markdown",
   "metadata": {},
   "source": [
    "### Plot navigation data jointly with track references"
   ]
  },
  {
   "cell_type": "code",
   "execution_count": 131,
   "metadata": {},
   "outputs": [
    {
     "data": {
      "text/plain": [
       "[<matplotlib.lines.Line2D at 0x7f9444f10f98>]"
      ]
     },
     "execution_count": 131,
     "metadata": {},
     "output_type": "execute_result"
    }
   ],
   "source": [
    "plt.figure()\n",
    "plt.plot( Long, Lat )\n",
    "plt.plot( [Long_1_0, Long_1_1], [Lat_1_0, Lat_1_1], \"o-g\" )\n",
    "plt.plot( [Long_2_0, Long_2_1], [Lat_2_0, Lat_2_1], \"o-r\" )\n",
    "plt.plot( [Long_3_0, Long_3_1], [Lat_3_0, Lat_3_1], \"o-y\" )"
   ]
  },
  {
   "cell_type": "markdown",
   "metadata": {},
   "source": [
    "### Look for the indices of the track 2 start and end points"
   ]
  },
  {
   "cell_type": "code",
   "execution_count": 130,
   "metadata": {},
   "outputs": [
    {
     "data": {
      "text/plain": [
       "[<matplotlib.lines.Line2D at 0x7f94450c75c0>]"
      ]
     },
     "execution_count": 130,
     "metadata": {},
     "output_type": "execute_result"
    }
   ],
   "source": [
    "plt.figure()\n",
    "plt.plot(Lat, '.-')\n",
    "plt.plot(np.ones(Lat.shape) * Lat_2_0, 'r-')\n",
    "plt.plot(np.ones(Lat.shape) * Lat_2_1, 'g-')"
   ]
  },
  {
   "cell_type": "code",
   "execution_count": 132,
   "metadata": {
    "collapsed": true
   },
   "outputs": [],
   "source": [
    "track2_0_idx_0 = 240968\n",
    "track2_0_idx_1 = 250915\n",
    "\n",
    "track2_1_idx0 = 166452\n",
    "track2_1_idx1 = 180866"
   ]
  },
  {
   "cell_type": "code",
   "execution_count": 134,
   "metadata": {},
   "outputs": [
    {
     "data": {
      "text/plain": [
       "[<matplotlib.lines.Line2D at 0x7f9446666898>]"
      ]
     },
     "execution_count": 134,
     "metadata": {},
     "output_type": "execute_result"
    }
   ],
   "source": [
    "plt.figure()\n",
    "plt.plot(Lat, '.-')\n",
    "plt.plot(np.ones(Lat.shape) * Lat_2_0, 'r-')\n",
    "plt.plot(np.ones(Lat.shape) * Lat_2_1, 'g-')\n",
    "\n",
    "plt.plot(idx_0, Lat[track2_0_idx_0], 'Hr')\n",
    "plt.plot(idx_1, Lat[track2_0_idx_1], 'Hg')\n",
    "\n",
    "plt.plot(track2_1_idx0, Lat[track2_1_idx0], 'Dr')\n",
    "plt.plot(track2_1_idx1, Lat[track2_1_idx1], 'Dg')"
   ]
  },
  {
   "cell_type": "code",
   "execution_count": null,
   "metadata": {
    "collapsed": true
   },
   "outputs": [],
   "source": [
    "plt.figure()\n",
    "plt.plot( Long, Lat )\n",
    "plt.plot( Long[idx_0], Lat[idx_0], 'dk' )\n",
    "plt.plot( Long[idx_1], Lat[idx_1], 'dk' )\n",
    "plt.plot( [Long_1_0, Long_1_1], [Lat_1_0, Lat_1_1], \"o-g\" )\n",
    "plt.plot( [Long_2_0, Long_2_1], [Lat_2_0, Lat_2_1], \"o-r\" )\n",
    "plt.plot( [Long_3_0, Long_3_1], [Lat_3_0, Lat_3_1], \"o-y\" )"
   ]
  },
  {
   "cell_type": "markdown",
   "metadata": {},
   "source": [
    "### Once the indices are known, look for the corresponding dates in the UTC data"
   ]
  },
  {
   "cell_type": "code",
   "execution_count": null,
   "metadata": {
    "collapsed": true
   },
   "outputs": [],
   "source": [
    "# line 2 corresponds to data 0\n",
    "def getLine(filename, row):\n",
    "    row = row + 2\n",
    "    with open(filename, newline='') as f:\n",
    "        reader = csv.reader(f)\n",
    "        for r in range(row-1):\n",
    "            next(reader)\n",
    "        val = next(reader)[0]\n",
    "    return val"
   ]
  },
  {
   "cell_type": "code",
   "execution_count": null,
   "metadata": {
    "collapsed": true
   },
   "outputs": [],
   "source": [
    "utc_0 = getLine(logUtcData, idx_0)\n",
    "utc_1 = getLine(logUtcData, idx_1)\n",
    "track0_utc0 = getLine(logUtcData, track0_idx0)\n",
    "track0_utc1 = getLine(logUtcData, track0_idx1)"
   ]
  },
  {
   "cell_type": "code",
   "execution_count": 137,
   "metadata": {},
   "outputs": [
    {
     "name": "stdout",
     "output_type": "stream",
     "text": [
      "939732704 167 2017 9 22 13 23 50 265001000 480248265 \n",
      "989467704 167 2017 9 22 13 24 40 1000 480298000 \n"
     ]
    }
   ],
   "source": [
    "print(utc_0)\n",
    "print(utc_1)"
   ]
  },
  {
   "cell_type": "code",
   "execution_count": 138,
   "metadata": {},
   "outputs": [
    {
     "name": "stdout",
     "output_type": "stream",
     "text": [
      "567152704 167 2017 9 22 13 17 37 685001000 479875685 \n",
      "567152704 167 2017 9 22 13 17 37 685001000 479875685 \n"
     ]
    }
   ],
   "source": [
    "print(track0_utc0)\n",
    "print(track0_utc0)"
   ]
  },
  {
   "cell_type": "code",
   "execution_count": 80,
   "metadata": {
    "collapsed": true
   },
   "outputs": [],
   "source": [
    "timeStamp0 = int(timeStamps[idx_0])\n",
    "timeStamp1 = int(timeStamps[idx_1])\n",
    "track0_timeStamp0 = int(timeStamps[track0_idx0])\n",
    "track0_timeStamp1 = int(timeStamps[track0_idx1])"
   ]
  },
  {
   "cell_type": "markdown",
   "metadata": {},
   "source": [
    "### Extract the timecodes corresponding to the date of the recorded files"
   ]
  },
  {
   "cell_type": "code",
   "execution_count": 104,
   "metadata": {
    "collapsed": true
   },
   "outputs": [],
   "source": [
    "def getTimeCode( logUtcData, h, m, s ):\n",
    "    with open( logUtcData, newline='') as f:\n",
    "        reader = csv.reader(f)\n",
    "        next(reader)\n",
    "        utc = np.loadtxt( io.StringIO( next(reader)[0] ))\n",
    "        while (utc[5] < h):\n",
    "            utc = np.loadtxt( io.StringIO( next(reader)[0] ))\n",
    "        while (utc[6] < m):\n",
    "            utc = np.loadtxt( io.StringIO( next(reader)[0] ))\n",
    "        while (utc[7] < s):\n",
    "            utc = np.loadtxt( io.StringIO( next(reader)[0] ))\n",
    "    return utc"
   ]
  },
  {
   "cell_type": "code",
   "execution_count": 68,
   "metadata": {
    "collapsed": true
   },
   "outputs": [],
   "source": [
    "firstStoredBlock = 996\n",
    "t_0    = (15, 21, 51)\n",
    "t_996  = (15, 24, 24)\n",
    "t_3372 = (15, 30, 17)"
   ]
  },
  {
   "cell_type": "code",
   "execution_count": 69,
   "metadata": {},
   "outputs": [
    {
     "data": {
      "text/plain": [
       "55816.8"
      ]
     },
     "execution_count": 69,
     "metadata": {},
     "output_type": "execute_result"
    }
   ],
   "source": [
    "getSeconds(t_0) + 3372 / 6 * T_files"
   ]
  },
  {
   "cell_type": "code",
   "execution_count": 70,
   "metadata": {},
   "outputs": [
    {
     "data": {
      "text/plain": [
       "(15.0, 30.0, 16.80000000000291)"
      ]
     },
     "execution_count": 70,
     "metadata": {},
     "output_type": "execute_result"
    }
   ],
   "source": [
    "getTimeOfDay( 55816.8 )"
   ]
  },
  {
   "cell_type": "code",
   "execution_count": 73,
   "metadata": {},
   "outputs": [
    {
     "data": {
      "text/plain": [
       "793.0"
      ]
     },
     "execution_count": 73,
     "metadata": {},
     "output_type": "execute_result"
    }
   ],
   "source": [
    "getBlockNumber( (13 + hourOffset, 23, 50), t_0)"
   ]
  },
  {
   "cell_type": "code",
   "execution_count": 127,
   "metadata": {},
   "outputs": [],
   "source": [
    "utc_startRecord = getTimeCode( logUtcData, 15-hourOffset, 24, 24 )"
   ]
  },
  {
   "cell_type": "code",
   "execution_count": 128,
   "metadata": {},
   "outputs": [],
   "source": [
    "idx_startRecord = np.where(timeStamps == utc_startRecord[0])"
   ]
  },
  {
   "cell_type": "code",
   "execution_count": 105,
   "metadata": {
    "collapsed": true
   },
   "outputs": [],
   "source": [
    "utc_stopRecord = getTimeCode( logUtcData, 15-hourOffset, 30, 17 )"
   ]
  },
  {
   "cell_type": "code",
   "execution_count": 122,
   "metadata": {},
   "outputs": [],
   "source": [
    "idx_stopRecord = np.where(timeStamps == utc_stopRecord[0])"
   ]
  },
  {
   "cell_type": "code",
   "execution_count": 129,
   "metadata": {},
   "outputs": [
    {
     "data": {
      "text/plain": [
       "[<matplotlib.lines.Line2D at 0x7f94458ecfd0>]"
      ]
     },
     "execution_count": 129,
     "metadata": {},
     "output_type": "execute_result"
    }
   ],
   "source": [
    "plt.figure()\n",
    "plt.plot( Long, Lat )\n",
    "plt.plot( [Long_1_0, Long_1_1], [Lat_1_0, Lat_1_1], \"o-g\" )\n",
    "plt.plot( [Long_2_0, Long_2_1], [Lat_2_0, Lat_2_1], \"o-r\" )\n",
    "plt.plot( [Long_3_0, Long_3_1], [Lat_3_0, Lat_3_1], \"o-y\" )\n",
    "plt.plot( Long[idx_0], Lat[idx_0], 'dk' )\n",
    "plt.plot( Long[idx_1], Lat[idx_1], 'dk' )\n",
    "plt.plot( Long[idx_startRecord], Lat[idx_startRecord], 'Dc' )\n",
    "plt.plot( Long[idx_stopRecord], Lat[idx_stopRecord], 'Dc' )"
   ]
  },
  {
   "cell_type": "markdown",
   "metadata": {},
   "source": [
    "# Annexe"
   ]
  },
  {
   "cell_type": "markdown",
   "metadata": {},
   "source": [
    "### Check the dates of the recorded files"
   ]
  },
  {
   "cell_type": "code",
   "execution_count": null,
   "metadata": {
    "collapsed": true
   },
   "outputs": [],
   "source": [
    "blocksPerFile = 6\n",
    "samplesPerRamp = 6000\n",
    "rampsPerFile = 1500\n",
    "samplesPerFile = 9000000\n",
    "T_files = samplesPerFile / 10e6\n",
    "hourOffset = 2"
   ]
  },
  {
   "cell_type": "code",
   "execution_count": null,
   "metadata": {
    "collapsed": true
   },
   "outputs": [],
   "source": [
    "def getTimeOfDay( seconds ):\n",
    "    h = np.floor( seconds / 3600 )\n",
    "    m = np.floor( (seconds - h *3600) / 60 )\n",
    "    s = seconds - h * 3600 - m * 60\n",
    "    return (h, m, s)\n",
    "\n",
    "def getSeconds( timeOfDay ):\n",
    "    return (timeOfDay[0] * 3600 + timeOfDay[1] * 60 + timeOfDay[2])\n",
    "\n",
    "def getBlockNumber( t, t_0 ):\n",
    "    delta = getSeconds( t ) - getSeconds(t_0)\n",
    "    return np.floor( delta / T_files * blocksPerFile )"
   ]
  }
 ],
 "metadata": {
  "kernelspec": {
   "display_name": "Python 3",
   "language": "python",
   "name": "python3"
  },
  "language_info": {
   "codemirror_mode": {
    "name": "ipython",
    "version": 3
   },
   "file_extension": ".py",
   "mimetype": "text/x-python",
   "name": "python",
   "nbconvert_exporter": "python",
   "pygments_lexer": "ipython3",
   "version": "3.6.2"
  }
 },
 "nbformat": 4,
 "nbformat_minor": 2
}
