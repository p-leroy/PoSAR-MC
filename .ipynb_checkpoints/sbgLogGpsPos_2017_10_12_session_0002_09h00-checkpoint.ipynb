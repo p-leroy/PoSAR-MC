{
 "cells": [
  {
   "cell_type": "code",
   "execution_count": 1,
   "metadata": {
    "collapsed": true
   },
   "outputs": [],
   "source": [
    "import io\n",
    "import csv\n",
    "import os.path\n",
    "\n",
    "import numpy as np\n",
    "import numexpr as ne\n",
    "import matplotlib.pyplot as plt\n",
    "\n",
    "%matplotlib qt5"
   ]
  },
  {
   "cell_type": "code",
   "execution_count": 2,
   "metadata": {
    "collapsed": true
   },
   "outputs": [],
   "source": [
    "from posarmctools.ekfnavtools import *\n",
    "%load_ext autoreload\n",
    "%autoreload 2"
   ]
  },
  {
   "cell_type": "code",
   "execution_count": 143,
   "metadata": {
    "collapsed": true
   },
   "outputs": [],
   "source": [
    "blocksPerFile = 6\n",
    "samplesPerRamp = 6000\n",
    "rampsPerBlock = 250\n",
    "rampsPerFile = 1500\n",
    "samplesPerFile = 9000000\n",
    "T_files = samplesPerFile / 10e6\n",
    "\n",
    "hourOffset = 2"
   ]
  },
  {
   "cell_type": "markdown",
   "metadata": {},
   "source": [
    "## Load navigation data SbgLogEkfNav"
   ]
  },
  {
   "cell_type": "code",
   "execution_count": 4,
   "metadata": {
    "collapsed": true
   },
   "outputs": [],
   "source": [
    "prefix = \"/home/pleroy/DATA/PoSAR-MC_PIMA_TEST-3/dataLogger/session_0002/2017_10_12/09h00/\"\n",
    "\n",
    "logEkfEuler = prefix + \"sbgLogEkfEuler.dat\"\n",
    "logEkfNav  = prefix + \"sbgLogEkfNav.dat\"\n",
    "logUtcData = prefix + \"sbgLogUtcData.dat\"\n",
    "logGpsPos = prefix + \"sbgLogGpsPos.csv\"\n",
    "logGpsVel = prefix + \"sbgLogGpsVel.dat\""
   ]
  },
  {
   "cell_type": "code",
   "execution_count": 5,
   "metadata": {
    "collapsed": true
   },
   "outputs": [],
   "source": [
    "idx_gpsPos_lat = 3\n",
    "idx_gpsPos_long = 4\n",
    "idx_gpsPos_alt = 5\n",
    "idx_gps_lat = 1\n",
    "idx_gps_long = 2\n",
    "idx_gps_alt = 3\n",
    "gps = np.loadtxt( logGpsPos, skiprows = 1, delimiter = ',',\n",
    "                 usecols = (0, idx_gpsPos_lat, idx_gpsPos_long, idx_gpsPos_alt) )"
   ]
  },
  {
   "cell_type": "code",
   "execution_count": 6,
   "metadata": {
    "collapsed": true
   },
   "outputs": [],
   "source": [
    "idx_gpsVel_north = 3\n",
    "idx_gpsVel_east = 4\n",
    "idx_gpsVel_down = 5\n",
    "idx_gpsVel_course = 9\n",
    "vel = np.loadtxt( logGpsVel, skiprows = 1, \n",
    "                 usecols = (0, idx_gpsVel_north, idx_gpsVel_east, idx_gpsVel_down, idx_gpsVel_course) )"
   ]
  },
  {
   "cell_type": "code",
   "execution_count": 45,
   "metadata": {
    "collapsed": true
   },
   "outputs": [],
   "source": [
    "Lat = gps[:,idx_gps_lat]\n",
    "Long = gps[:,idx_gps_long]\n",
    "Alt = gps[:,idx_gps_alt]\n",
    "course = vel[:,4]\n",
    "Vel = ( vel[:,1]**2 + vel[:,2]**2 + vel[:,3]**2) **0.5"
   ]
  },
  {
   "cell_type": "code",
   "execution_count": 7,
   "metadata": {
    "collapsed": true
   },
   "outputs": [],
   "source": [
    "#timeStamp status year month day hour minute second nanoSecond gpsTimeOfWeek\n",
    "idx_h = 5\n",
    "idx_m = 6\n",
    "idx_s = 7\n",
    "idx_nano = 8\n",
    "utc = np.loadtxt( logUtcData, skiprows = 1, usecols = (0, idx_h, idx_m, idx_s, idx_nano) )\n",
    "utc_seconds = (utc[1] + hourOffset) * 3600 + utc[2] * 60 + utc[3] + utc[4] * 1e-9"
   ]
  },
  {
   "cell_type": "code",
   "execution_count": 8,
   "metadata": {},
   "outputs": [
    {
     "name": "stdout",
     "output_type": "stream",
     "text": [
      "8.0 : 59.0 : 59.995\n",
      "9.0 : 22.0 : 46.230\n"
     ]
    }
   ],
   "source": [
    "printUtc( 0, utc )\n",
    "printUtc( -1, utc )"
   ]
  },
  {
   "cell_type": "markdown",
   "metadata": {},
   "source": [
    "### Plot navigation data jointly with track references"
   ]
  },
  {
   "cell_type": "code",
   "execution_count": 11,
   "metadata": {
    "collapsed": true
   },
   "outputs": [],
   "source": [
    "plt.figure()\n",
    "ax = plt.subplot(111)\n",
    "plotLongLatAndTrackReferences( ax, Long, Lat )\n",
    "plotRunaway( ax )\n",
    "plt.title( \"GPS data and track references\\n\" + prefix )\n",
    "plt.grid()"
   ]
  },
  {
   "cell_type": "markdown",
   "metadata": {},
   "source": [
    "### Check the existence of record files"
   ]
  },
  {
   "cell_type": "code",
   "execution_count": 27,
   "metadata": {},
   "outputs": [],
   "source": [
    "data_date = \"2017_10_12_11_16_40\"\n",
    "data_dir = \"/home/pleroy/DATA/PoSAR-MC_PIMA_TEST-3/2017_10_12/\" + data_date\n",
    "firstRecord = 0\n",
    "lastRecord = 444\n",
    "nbRecords = int((lastRecord - firstRecord) / blocksPerFile + 1)"
   ]
  },
  {
   "cell_type": "code",
   "execution_count": 13,
   "metadata": {
    "collapsed": true
   },
   "outputs": [],
   "source": [
    "fileList = []\n",
    "\n",
    "for k in range(firstRecord, lastRecord, blocksPerFile):\n",
    "    filename = data_dir + \"/record\" + str(k) + \".bin\"\n",
    "    ret = os.path.isfile(filename)\n",
    "    if ret == False:\n",
    "        fileList.append(0)\n",
    "    else:\n",
    "        fileList.append(1)\n",
    "\n",
    "idxFileList = np.arange( len( fileList ) ) * blocksPerFile + firstRecord"
   ]
  },
  {
   "cell_type": "code",
   "execution_count": 14,
   "metadata": {},
   "outputs": [
    {
     "data": {
      "text/plain": [
       "[<matplotlib.lines.Line2D at 0x7f4f6509fd68>]"
      ]
     },
     "execution_count": 14,
     "metadata": {},
     "output_type": "execute_result"
    }
   ],
   "source": [
    "plt.plot(idxFileList, fileList, 'o-')\n",
    "plt.grid()"
   ]
  },
  {
   "cell_type": "markdown",
   "metadata": {},
   "source": [
    "### Process timeStamps.data"
   ]
  },
  {
   "cell_type": "code",
   "execution_count": 15,
   "metadata": {
    "collapsed": true
   },
   "outputs": [],
   "source": [
    "timeStampsFile = data_dir + \"/\" + data_date + \"_timeStamps.data\"\n",
    "blockNumber_1, timeStamp_1 = np.loadtxt( timeStampsFile, skiprows = 1, unpack=True )\n",
    "timeStampStart_1 = timeStamp_1[0]\n",
    "timeStampStop_1 = timeStamp_1[-1]"
   ]
  },
  {
   "cell_type": "code",
   "execution_count": 16,
   "metadata": {},
   "outputs": [
    {
     "name": "stdout",
     "output_type": "stream",
     "text": [
      "[4490 4495 4499 4504 4508 4513 4517 4522 4526 4531 4535 4540 4544 4549 4553\n",
      " 4558 4562 4567 4571 4576 4580 4585 4589 4594 4598 4603 4607 4612 4616 4621\n",
      " 4625 4630 4634 4639 4643 4648 4652 4657 4661 4666 4670 4675 4679 4684 4688\n",
      " 4693 4697 4702 4706 4711 4715 4720 4724 4729 4733 4738 4742 4747 4751 4756\n",
      " 4760 4765 4769 4774 4778 4783 4787 4792 4796 4801 4805 4810 4814 4819 4823\n",
      " 4828]\n"
     ]
    }
   ],
   "source": [
    "# find the indices in the gps data related to the timeStamps of the recorded files\n",
    "idx_in_gps = np.zeros(timeStamp_1.shape, dtype = int)\n",
    "for k in range(timeStamp_1.shape[0]):\n",
    "    idx_in_gps[k] = np.where(gps[:,0] <= timeStamp_1[k])[0][-1]\n",
    "print( idx_in_gps )"
   ]
  },
  {
   "cell_type": "code",
   "execution_count": 17,
   "metadata": {},
   "outputs": [
    {
     "name": "stdout",
     "output_type": "stream",
     "text": [
      "(4490, 4828)\n"
     ]
    }
   ],
   "source": [
    "idxStart = np.where(gps[:,0] <= timeStampStart_1)[0][-1]\n",
    "idxStop = np.where(gps[:,0] <= timeStampStop_1)[0][-1]\n",
    "record1_idx_in_gps = (idxStart, idxStop)\n",
    "print( record1_idx_in_gps )"
   ]
  },
  {
   "cell_type": "markdown",
   "metadata": {},
   "source": [
    "### Data selection for focalization"
   ]
  },
  {
   "cell_type": "code",
   "execution_count": 25,
   "metadata": {},
   "outputs": [
    {
     "name": "stdout",
     "output_type": "stream",
     "text": [
      "(4648, 4715)\n"
     ]
    }
   ],
   "source": [
    "firstFile = 35\n",
    "nbFiles = 15\n",
    "lastFile = firstFile + nbFiles"
   ]
  },
  {
   "cell_type": "code",
   "execution_count": null,
   "metadata": {
    "collapsed": true
   },
   "outputs": [],
   "source": [
    "idxStart = np.where(gps[:,0] <= timeStamp_1[aux])[0][-1]\n",
    "idxStop = np.where(gps[:,0] <= timeStamp_1[aux+aux2])[0][-1]\n",
    "selection1_idx_in_gps = (idxStart, idxStop)\n",
    "print( selection1_idx_in_gps )"
   ]
  },
  {
   "cell_type": "markdown",
   "metadata": {},
   "source": [
    "### Plot navigation data and record periods"
   ]
  },
  {
   "cell_type": "code",
   "execution_count": 28,
   "metadata": {},
   "outputs": [],
   "source": [
    "plt.figure()\n",
    "\n",
    "ax = plt.subplot(111)\n",
    "\n",
    "plotLongLatAndTrackReferences( ax, Long, Lat )\n",
    "plotRunaway( ax )\n",
    "\n",
    "addOnPlot( ax, Long, Lat, record1_idx_in_gps, 'orange', data_date + ' (time line dated by SBG time stamps)' )\n",
    "plt.plot( Long[idx_in_gps[firstFile:lastFile]], Lat[idx_in_gps[firstFile:lastFile]], \n",
    "         \"Dy\", markeredgecolor='black', \n",
    "         label=\"files selected for focalization {} / {} to {} / {}\".format(firstFile, nbRecords, lastFile, nbRecords) )\n",
    "\n",
    "plt.title(\"Navigation data, track references, record locations\\n\" + data_dir)\n",
    "plt.xlabel(\"Longitude\")\n",
    "plt.ylabel(\"Latitude\")\n",
    "plt.legend()\n",
    "plt.grid()"
   ]
  },
  {
   "cell_type": "code",
   "execution_count": 29,
   "metadata": {},
   "outputs": [
    {
     "data": {
      "text/plain": [
       "<matplotlib.text.Text at 0x7f4f549283c8>"
      ]
     },
     "execution_count": 29,
     "metadata": {},
     "output_type": "execute_result"
    }
   ],
   "source": [
    "plt.figure()\n",
    "plt.plot( Alt )\n",
    "plt.plot( idx_in_gps[firstFile:lastFile], Alt[idx_in_gps[firstFile:lastFile] ], \"Dy\", markeredgecolor = 'black' )\n",
    "plt.grid()\n",
    "plt.title( \"Altitude - \" + data_date + \" - files {} to {}\".format(firstFile, lastFile) )"
   ]
  },
  {
   "cell_type": "markdown",
   "metadata": {},
   "source": [
    "## Plot attitude data"
   ]
  },
  {
   "cell_type": "code",
   "execution_count": 30,
   "metadata": {
    "collapsed": true
   },
   "outputs": [],
   "source": [
    "idx_timeStamp = 0\n",
    "idx_roll = 1\n",
    "idx_pitch = 2\n",
    "idx_yaw = 3\n",
    "idx_rollStdDev = 4\n",
    "idx_pitchStdDev = 5\n",
    "idx_yawStdDev = 6\n",
    "idx_status = 7"
   ]
  },
  {
   "cell_type": "code",
   "execution_count": 31,
   "metadata": {
    "collapsed": true
   },
   "outputs": [],
   "source": [
    "ekf_timeStamp, roll, pitch, yaw = np.loadtxt( logEkfEuler, skiprows = 1, \n",
    "                                               usecols = (0, idx_roll, idx_pitch, idx_yaw), unpack=True )"
   ]
  },
  {
   "cell_type": "code",
   "execution_count": 32,
   "metadata": {},
   "outputs": [
    {
     "name": "stdout",
     "output_type": "stream",
     "text": [
      "[179625 179805 179985 180165 180345 180525 180705 180885 181065 181245\n",
      " 181425 181605 181785 181965 182145 182325 182505 182685 182865 183045\n",
      " 183225 183405 183585 183765 183945 184125 184305 184485 184665 184845\n",
      " 185025 185205 185385 185565 185745 185925 186105 186285 186465 186645\n",
      " 186825 187005 187185 187365 187545 187725 187905 188085 188265 188445\n",
      " 188625 188805 188985 189165 189345 189525 189705 189885 190065 190245\n",
      " 190425 190605 190785 190965 191145 191325 191505 191685 191865 192045\n",
      " 192225 192405 192585 192765 192945 193125]\n"
     ]
    }
   ],
   "source": [
    "# find the indices in the euler data related to the timeStamps of the recorded files\n",
    "idx_in_ekf = np.zeros(timeStamp_1.shape, dtype = int)\n",
    "for k in range(timeStamp_1.shape[0]):\n",
    "    idx_in_ekf[k] = np.where(ekf_timeStamp <= timeStamp_1[k])[0][-1]\n",
    "print( idx_in_ekf )"
   ]
  },
  {
   "cell_type": "code",
   "execution_count": 33,
   "metadata": {},
   "outputs": [
    {
     "name": "stdout",
     "output_type": "stream",
     "text": [
      "179625 193125\n"
     ]
    }
   ],
   "source": [
    "idxStart_ekf = np.where(ekf_timeStamp <= timeStampStart_1)[0][-1]\n",
    "idxStop_ekf = np.where(ekf_timeStamp <= timeStampStop_1)[0][-1]\n",
    "print( idxStart_ekf, idxStop_ekf )"
   ]
  },
  {
   "cell_type": "code",
   "execution_count": 38,
   "metadata": {},
   "outputs": [
    {
     "name": "stdout",
     "output_type": "stream",
     "text": [
      "(185925, 188625)\n"
     ]
    }
   ],
   "source": [
    "idxStart = np.where(ekf_timeStamp <= timeStamp_1[aux])[0][-1]\n",
    "idxStop = np.where(ekf_timeStamp <= timeStamp_1[aux+aux2])[0][-1]\n",
    "selection1_idx_in_ekf = (idxStart, idxStop)\n",
    "print( selection1_idx_in_ekf )"
   ]
  },
  {
   "cell_type": "markdown",
   "metadata": {},
   "source": [
    "### Track 1"
   ]
  },
  {
   "cell_type": "code",
   "execution_count": 48,
   "metadata": {
    "collapsed": true
   },
   "outputs": [],
   "source": [
    "range_in_gps = range(record1_idx_in_gps[0], record1_idx_in_gps[1])\n",
    "selection_in_gps = range(selection1_idx_in_gps[0], selection1_idx_in_gps[1])\n",
    "\n",
    "plt.figure()\n",
    "\n",
    "plt.subplot(311)\n",
    "plt.title(\"altitude / velocity / course\\nrecord \" + data_date)\n",
    "plt.plot( range_in_gps, Alt[range_in_gps], label=\"altitude (record 1)\" )\n",
    "plt.plot( selection_in_gps, Alt[selection_in_gps], label=\"altitude (selection 1)\" )\n",
    "plt.legend()\n",
    "plt.grid()\n",
    "\n",
    "plt.subplot(312)\n",
    "plt.plot( range_in_gps, Vel[range_in_gps], label=\"velocity (record 1)\" )\n",
    "plt.plot( selection_in_gps, Vel[selection_in_gps], label=\"velocity (selection 1)\" )\n",
    "plt.legend()\n",
    "plt.grid()\n",
    "\n",
    "plt.subplot(313)\n",
    "plt.plot( range_in_gps, vel[range_in_gps, 4], label=\"course (record 1)\" )\n",
    "plt.plot( selection_in_gps, vel[selection_in_gps,4], label=\"course (selection 1)\" )\n",
    "plt.legend()\n",
    "plt.grid()"
   ]
  },
  {
   "cell_type": "code",
   "execution_count": 43,
   "metadata": {},
   "outputs": [],
   "source": [
    "plt.figure()\n",
    "\n",
    "range_in_ekf = range(idxStart_ekf, idxStop_ekf)\n",
    "selection_in_ekf = range(selection1_idx_in_ekf[0], selection1_idx_in_ekf[1])\n",
    "\n",
    "plt.subplot(311)\n",
    "plt.title(\"Pitch roll and yaw\\nrecord \" + data_date)\n",
    "plt.plot( range_in_ekf, pitch[range_in_ekf], label=\"pitch\" )\n",
    "plt.plot( selection_in_ekf, pitch[selection_in_ekf], label=\"pitch\" )\n",
    "plt.legend()\n",
    "plt.grid()\n",
    "\n",
    "plt.subplot(312)\n",
    "plt.plot( range_in_ekf, roll[range_in_ekf], label=\"roll\" )\n",
    "plt.plot( selection_in_ekf, roll[selection_in_ekf], label=\"roll\" )\n",
    "plt.legend()\n",
    "plt.grid()\n",
    "\n",
    "plt.subplot(313)\n",
    "plt.plot( range_in_ekf, yaw[range_in_ekf], label=\"yaw\" )\n",
    "plt.plot( selection_in_ekf, yaw[selection_in_ekf], label=\"yaw\" )\n",
    "plt.legend()\n",
    "plt.grid()"
   ]
  },
  {
   "cell_type": "code",
   "execution_count": 50,
   "metadata": {
    "collapsed": true
   },
   "outputs": [],
   "source": [
    "plt.figure()\n",
    "ax = plt.subplot(111)\n",
    "plotRunaway( ax )\n",
    "plt.title( \"track during the record of the files selection\" )\n",
    "plt.plot( Long[selection_in_gps], Lat[selection_in_gps] )\n",
    "plt.grid()"
   ]
  },
  {
   "cell_type": "markdown",
   "metadata": {},
   "source": [
    "### Track linear approximation"
   ]
  },
  {
   "cell_type": "code",
   "execution_count": 51,
   "metadata": {
    "collapsed": true
   },
   "outputs": [],
   "source": [
    "from scipy.optimize import curve_fit\n",
    "def func(x, a, b):\n",
    "    return a * x + b"
   ]
  },
  {
   "cell_type": "code",
   "execution_count": 52,
   "metadata": {
    "collapsed": true
   },
   "outputs": [],
   "source": [
    "R = 6378137  # approximate radius of earth\n",
    "startingPoint = ( 48.058403, -2.005964, 0.0 )\n",
    "# (latitude, longitude, altitude)\n",
    "\n",
    "def getxy( lat, long, orig ):\n",
    "\n",
    "    x = R * ( (long-orig[1]) * np.pi / 180 ) * np.cos( orig[0] * np.pi / 180 )\n",
    "    y = R * ( (lat-orig[0]) * np.pi / 180)\n",
    "\n",
    "    return x, y"
   ]
  },
  {
   "cell_type": "code",
   "execution_count": 53,
   "metadata": {
    "collapsed": true
   },
   "outputs": [],
   "source": [
    "xdata, ydata = getxy( gps[selection_in_gps,1], gps[selection_in_gps,2], startingPoint )"
   ]
  },
  {
   "cell_type": "code",
   "execution_count": 57,
   "metadata": {},
   "outputs": [
    {
     "name": "stdout",
     "output_type": "stream",
     "text": [
      "a = 0.2917473722644595, b = 31.84960602792856\n"
     ]
    }
   ],
   "source": [
    "popt, pcov = curve_fit(func, xdata, ydata)\n",
    "a = popt[0]\n",
    "b = popt[1]\n",
    "print( \"a = {}, b = {}\".format( a, b ) )"
   ]
  },
  {
   "cell_type": "code",
   "execution_count": 65,
   "metadata": {},
   "outputs": [
    {
     "data": {
      "text/plain": [
       "array([  0.29174737,  31.84960603])"
      ]
     },
     "execution_count": 65,
     "metadata": {},
     "output_type": "execute_result"
    }
   ],
   "source": [
    "popt"
   ]
  },
  {
   "cell_type": "code",
   "execution_count": 59,
   "metadata": {},
   "outputs": [
    {
     "data": {
      "text/plain": [
       "<matplotlib.legend.Legend at 0x7f4faccb9cf8>"
      ]
     },
     "execution_count": 59,
     "metadata": {},
     "output_type": "execute_result"
    }
   ],
   "source": [
    "plt.figure()\n",
    "plt.plot( xdata, ydata, label=\"track\" )\n",
    "plt.plot( xdata, func(xdata, a, b), label=\"linear approximation\" )\n",
    "plt.grid()\n",
    "plt.legend()"
   ]
  },
  {
   "cell_type": "code",
   "execution_count": 60,
   "metadata": {
    "collapsed": true
   },
   "outputs": [],
   "source": [
    "import json"
   ]
  },
  {
   "cell_type": "code",
   "execution_count": 98,
   "metadata": {
    "collapsed": true
   },
   "outputs": [],
   "source": [
    "# unit vector\n",
    "ux = ( 1, a ) / ( 1 + a**2 )**0.5\n",
    "uy = [ -a, 1 ] / ( 1 + a**2 )**0.5\n",
    "track_model = { \"trackModel\" : \"model(x, p) = p[1]*x + p[2]\",\n",
    "               \"p\" : (a, b),\n",
    "               \"ux\" : (-ux[0], -ux[1]),\n",
    "               \"uy\" : (-uy[0], -uy[1]),\n",
    "               \"startingPointLatitude\" : startingPoint[0],\n",
    "               \"startingPointLongitude\" : startingPoint[1]\n",
    "              }"
   ]
  },
  {
   "cell_type": "code",
   "execution_count": 99,
   "metadata": {},
   "outputs": [],
   "source": [
    "trackFilename = data_dir + \"/track_model.json\"\n",
    "with open( trackFilename, 'w' ) as f:\n",
    "    json.dump( track_model, f )"
   ]
  },
  {
   "cell_type": "code",
   "execution_count": 93,
   "metadata": {},
   "outputs": [],
   "source": [
    "def getProjection( coord, proj, startingPoint, trackModel ):\n",
    "    for k in range( coord.shape[0] ):\n",
    "        x, y = getxy( coord[k,0], coord[k,1], startingPoint )\n",
    "        # project x and y in the track model\n",
    "        proj[ k, 0 ] = x * trackModel[\"ux\"][0] + y * trackModel[\"ux\"][1]\n",
    "        proj[ k, 1 ] = x * trackModel[\"uy\"][0] + y * trackModel[\"uy\"][1]"
   ]
  },
  {
   "cell_type": "code",
   "execution_count": 101,
   "metadata": {},
   "outputs": [],
   "source": [
    "runaway_proj = np.zeros( runaway.shape )\n",
    "getProjection( runaway, runaway_proj, startingPoint, track_model )"
   ]
  },
  {
   "cell_type": "code",
   "execution_count": 125,
   "metadata": {},
   "outputs": [],
   "source": [
    "track_proj = np.zeros( (Lat.shape[0],2) )\n",
    "getProjection( np.stack( (Lat, Long), -1 ), track_proj, startingPoint, track_model )"
   ]
  },
  {
   "cell_type": "code",
   "execution_count": 142,
   "metadata": {},
   "outputs": [
    {
     "data": {
      "text/plain": [
       "<matplotlib.legend.Legend at 0x7f4f42559390>"
      ]
     },
     "execution_count": 142,
     "metadata": {},
     "output_type": "execute_result"
    }
   ],
   "source": [
    "plt.figure()\n",
    "plt.plot( runaway_proj[:,0], runaway_proj[:,1] )\n",
    "plt.plot( track_proj[:,0], track_proj[:,1], \"gray\" )\n",
    "plt.plot( track_proj[range_in_gps, 0], track_proj[range_in_gps, 1], 'orange',\n",
    "        label = \"files {} to {}\".format( int(firstRecord/blocksPerFile), int(lastRecord/blocksPerFile) ) )\n",
    "plt.plot( track_proj[selection_in_gps, 0], track_proj[selection_in_gps, 1], 'red',\n",
    "        label = \"files {} to {}\".format( firstFile, lastFile ) )\n",
    "ax = plt.gca()\n",
    "ax.invert_xaxis()\n",
    "ax.invert_yaxis()\n",
    "ax.xaxis.tick_top()\n",
    "ax.yaxis.tick_right()\n",
    "ax.set_aspect(1)\n",
    "plt.xlabel(\"location of the records in the scene coordinate system\\n\" + data_date)\n",
    "plt.grid()\n",
    "plt.legend()"
   ]
  },
  {
   "cell_type": "markdown",
   "metadata": {},
   "source": [
    "## Interpolate navigation data for all ramps"
   ]
  },
  {
   "cell_type": "markdown",
   "metadata": {},
   "source": [
    "### Build timestamp vector\n",
    "Two options: numpy.interp vs scipy.interpolate.interp1d (with kind='linear')"
   ]
  },
  {
   "cell_type": "code",
   "execution_count": 150,
   "metadata": {},
   "outputs": [],
   "source": [
    "ramp = 2\n",
    "rampNumber_1 = blockNumber_1 * rampsPerBlock\n",
    "timeStamp = np.interp(ramp, rampNumber_1[:-1], timeStamp_1[:-1])"
   ]
  },
  {
   "cell_type": "code",
   "execution_count": 151,
   "metadata": {},
   "outputs": [
    {
     "data": {
      "text/plain": [
       "[<matplotlib.lines.Line2D at 0x7f4f419e27f0>]"
      ]
     },
     "execution_count": 151,
     "metadata": {},
     "output_type": "execute_result"
    }
   ],
   "source": [
    "plt.figure()\n",
    "plt.plot( rampNumber_1[:-1], timeStamp_1[:-1] )\n",
    "plt.plot( ramp, timeStamp, 'D', color='yellow', markeredgecolor='k' )"
   ]
  },
  {
   "cell_type": "code",
   "execution_count": 159,
   "metadata": {
    "collapsed": true
   },
   "outputs": [],
   "source": [
    "# rampNumber timeStamp x y z\n",
    "rampNumber = np.arange( rampsPerBlock * blocksPerFile * nbRecords )\n",
    "timeStamp = np.interp( rampNumber, rampNumber_1[:-1], timeStamp_1[:-1])\n",
    "x = np.interp( timeStamp, gps[:,0], track_proj[:,0] )\n",
    "y = np.interp( timeStamp, gps[:,0], track_proj[:,1] )\n",
    "z = np.interp( timeStamp, gps[:,0], gps[:,3] )\n",
    "xyz_proj_allRamps = np.stack( (rampNumber, timeStamp, x, y, z), -1 )"
   ]
  },
  {
   "cell_type": "code",
   "execution_count": 171,
   "metadata": {},
   "outputs": [],
   "source": [
    "plt.figure()\n",
    "plt.plot( timeStamp, x, '.r', label='interpolated values' )\n",
    "plt.plot( gps[range_in_gps,0], track_proj[range_in_gps,0], '.g', label='GPS values' )\n",
    "plt.legend()\n",
    "plt.grid()"
   ]
  },
  {
   "cell_type": "code",
   "execution_count": null,
   "metadata": {},
   "outputs": [],
   "source": [
    "np.save( data_dir + \"/rampNumber_timeStamp_xyz\", xyz_proj_allRamps )"
   ]
  },
  {
   "cell_type": "code",
   "execution_count": 167,
   "metadata": {},
   "outputs": [
    {
     "data": {
      "text/plain": [
       "array([  1.52543500e+09,   1.52563500e+09,   1.52583500e+09, ...,\n",
       "         2.89123500e+09,   2.89143500e+09,   2.89163500e+09])"
      ]
     },
     "execution_count": 167,
     "metadata": {},
     "output_type": "execute_result"
    }
   ],
   "source": [
    "gps[:,0]"
   ]
  }
 ],
 "metadata": {
  "kernelspec": {
   "display_name": "Python 3",
   "language": "python",
   "name": "python3"
  },
  "language_info": {
   "codemirror_mode": {
    "name": "ipython",
    "version": 3
   },
   "file_extension": ".py",
   "mimetype": "text/x-python",
   "name": "python",
   "nbconvert_exporter": "python",
   "pygments_lexer": "ipython3",
   "version": "3.6.2"
  }
 },
 "nbformat": 4,
 "nbformat_minor": 2
}
