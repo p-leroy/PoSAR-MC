{
 "cells": [
  {
   "cell_type": "code",
   "execution_count": 1,
   "metadata": {
    "collapsed": true
   },
   "outputs": [],
   "source": [
    "import io\n",
    "import csv\n",
    "import os.path\n",
    "\n",
    "import numpy as np\n",
    "import numexpr as ne\n",
    "import matplotlib.pyplot as plt\n",
    "\n",
    "%matplotlib qt5"
   ]
  },
  {
   "cell_type": "code",
   "execution_count": 2,
   "metadata": {
    "collapsed": true
   },
   "outputs": [],
   "source": [
    "from posarmctools.ekfnavtools import *\n",
    "%load_ext autoreload\n",
    "%autoreload 2"
   ]
  },
  {
   "cell_type": "code",
   "execution_count": 3,
   "metadata": {
    "collapsed": true
   },
   "outputs": [],
   "source": [
    "blocksPerFile = 6\n",
    "samplesPerRamp = 6000\n",
    "rampsPerBlock = 250\n",
    "rampsPerFile = 1500\n",
    "samplesPerFile = 9000000\n",
    "T_files = samplesPerFile / 10e6\n",
    "\n",
    "hMonterfil = 90\n",
    "hourOffset = 2"
   ]
  },
  {
   "cell_type": "markdown",
   "metadata": {},
   "source": [
    "## Load navigation data SbgLogEkfNav"
   ]
  },
  {
   "cell_type": "code",
   "execution_count": 4,
   "metadata": {
    "collapsed": true
   },
   "outputs": [],
   "source": [
    "prefix = \"/home/pleroy/DATA/PoSAR-MC_PIMA_TEST-3/dataLogger/session_0003/2017_10_12/09h00/\"\n",
    "\n",
    "logEkfEuler = prefix + \"sbgLogEkfEuler.dat\"\n",
    "logEkfNav  = prefix + \"sbgLogEkfNav.dat\"\n",
    "logUtcData = prefix + \"sbgLogUtcData.dat\"\n",
    "logGpsPos = prefix + \"sbgLogGpsPos.csv\"\n",
    "logGpsVel = prefix + \"sbgLogGpsVel.dat\""
   ]
  },
  {
   "cell_type": "markdown",
   "metadata": {},
   "source": [
    "### Load GPS Pos logs"
   ]
  },
  {
   "cell_type": "code",
   "execution_count": 5,
   "metadata": {
    "collapsed": true
   },
   "outputs": [],
   "source": [
    "idx_gpsPos_lat = 3\n",
    "idx_gpsPos_long = 4\n",
    "idx_gpsPos_alt = 5\n",
    "idx_gps_lat = 1\n",
    "idx_gps_long = 2\n",
    "idx_gps_alt = 3\n",
    "gps = np.loadtxt( logGpsPos, skiprows = 1, delimiter = ',',\n",
    "                 usecols = (0, idx_gpsPos_lat, idx_gpsPos_long, idx_gpsPos_alt) )"
   ]
  },
  {
   "cell_type": "markdown",
   "metadata": {},
   "source": [
    "### Load GPS Vel logs"
   ]
  },
  {
   "cell_type": "code",
   "execution_count": 6,
   "metadata": {
    "collapsed": true
   },
   "outputs": [],
   "source": [
    "idx_gpsVel_north = 3\n",
    "idx_gpsVel_east = 4\n",
    "idx_gpsVel_down = 5\n",
    "idx_gpsVel_course = 9\n",
    "vel = np.loadtxt( logGpsVel, skiprows = 1, \n",
    "                 usecols = (0, idx_gpsVel_north, idx_gpsVel_east, idx_gpsVel_down, idx_gpsVel_course) )"
   ]
  },
  {
   "cell_type": "code",
   "execution_count": 7,
   "metadata": {
    "collapsed": true
   },
   "outputs": [],
   "source": [
    "Lat = gps[:,idx_gps_lat]\n",
    "Long = gps[:,idx_gps_long]\n",
    "Alt = gps[:,idx_gps_alt]\n",
    "Vel = ( vel[:,1]**2 + vel[:,2]**2 + vel[:,3]**2) **0.5\n",
    "course = vel[:,4]"
   ]
  },
  {
   "cell_type": "markdown",
   "metadata": {},
   "source": [
    "### Load UTC data logs"
   ]
  },
  {
   "cell_type": "code",
   "execution_count": 8,
   "metadata": {
    "collapsed": true
   },
   "outputs": [],
   "source": [
    "#timeStamp status year month day hour minute second nanoSecond gpsTimeOfWeek\n",
    "idx_h = 5\n",
    "idx_m = 6\n",
    "idx_s = 7\n",
    "idx_nano = 8\n",
    "utc = np.loadtxt( logUtcData, skiprows = 1, usecols = (0, idx_h, idx_m, idx_s, idx_nano) )\n",
    "utc_seconds = (utc[1] + hourOffset) * 3600 + utc[2] * 60 + utc[3] + utc[4] * 1e-9"
   ]
  },
  {
   "cell_type": "code",
   "execution_count": 9,
   "metadata": {},
   "outputs": [
    {
     "name": "stdout",
     "output_type": "stream",
     "text": [
      "9.0 : 34.0 : 9.140\n",
      "9.0 : 59.0 : 59.990\n"
     ]
    }
   ],
   "source": [
    "printUtc( 0, utc )\n",
    "printUtc( -1, utc )"
   ]
  },
  {
   "cell_type": "markdown",
   "metadata": {},
   "source": [
    "## Plot navigation data jointly with track references"
   ]
  },
  {
   "cell_type": "code",
   "execution_count": 10,
   "metadata": {
    "collapsed": true
   },
   "outputs": [],
   "source": [
    "plt.figure()\n",
    "ax = plt.subplot(111)\n",
    "plotLongLatAndTrackReferences( ax, Long, Lat )\n",
    "plotRunaway( ax )\n",
    "plt.title( \"GPS data and track references\\n\" + prefix )\n",
    "plt.grid()"
   ]
  },
  {
   "cell_type": "markdown",
   "metadata": {},
   "source": [
    "## Check the existence of the record files"
   ]
  },
  {
   "cell_type": "code",
   "execution_count": 11,
   "metadata": {
    "collapsed": true
   },
   "outputs": [],
   "source": [
    "data_date = \"2017_10_12_11_52_43\"\n",
    "data_dir = \"/home/pleroy/DATA/PoSAR-MC_PIMA_TEST-3/2017_10_12/\" + data_date\n",
    "firstRecord = 0\n",
    "lastRecord = 600\n",
    "nbRecords = int((lastRecord - firstRecord) / blocksPerFile + 1)"
   ]
  },
  {
   "cell_type": "code",
   "execution_count": 12,
   "metadata": {
    "collapsed": true
   },
   "outputs": [],
   "source": [
    "fileList = []\n",
    "\n",
    "for k in range(firstRecord, lastRecord, blocksPerFile):\n",
    "    filename = data_dir + \"/record\" + str(k) + \".bin\"\n",
    "    ret = os.path.isfile(filename)\n",
    "    if ret == False:\n",
    "        fileList.append(0)\n",
    "    else:\n",
    "        fileList.append(1)\n",
    "\n",
    "idxFileList = np.arange( len( fileList ) ) * blocksPerFile + firstRecord"
   ]
  },
  {
   "cell_type": "code",
   "execution_count": 13,
   "metadata": {
    "collapsed": true
   },
   "outputs": [],
   "source": [
    "plt.plot(idxFileList, fileList, 'o-')\n",
    "plt.grid()"
   ]
  },
  {
   "cell_type": "markdown",
   "metadata": {},
   "source": [
    "### Process timeStamps.data"
   ]
  },
  {
   "cell_type": "code",
   "execution_count": 14,
   "metadata": {
    "collapsed": true
   },
   "outputs": [],
   "source": [
    "timeStampsFile = data_dir + \"/\" + data_date + \"_timeStamps.data\"\n",
    "blockNumber_1, timeStamp_1 = np.loadtxt( timeStampsFile, skiprows = 1, unpack=True )\n",
    "rampNumber_1 = blockNumber_1 * rampsPerBlock\n",
    "#====================================================================\n",
    "# the last value of the file may be erroneous, this should be checked\n",
    "#===================================================================="
   ]
  },
  {
   "cell_type": "code",
   "execution_count": 15,
   "metadata": {},
   "outputs": [
    {
     "data": {
      "text/plain": [
       "<matplotlib.text.Text at 0x7f56b6078c88>"
      ]
     },
     "execution_count": 15,
     "metadata": {},
     "output_type": "execute_result"
    }
   ],
   "source": [
    "plt.figure()\n",
    "plt.subplot(211)\n",
    "plt.plot( timeStamp_1, \".\", label=data_date )\n",
    "plt.grid()\n",
    "plt.legend()\n",
    "plt.title(\"timeStamp wrt fileNumber / \" + data_date)\n",
    "plt.subplot(212)\n",
    "plt.plot( np.diff(timeStamp_1)/1e6, \".\" )\n",
    "plt.grid()\n",
    "plt.title( \"diff(timeStamp) wrt fileNumber / \" + data_date )"
   ]
  },
  {
   "cell_type": "markdown",
   "metadata": {},
   "source": [
    "**Be carefull here, there is a jump in the timeStamp values due to the counter saturation at 2^32. The mitigation is following.**"
   ]
  },
  {
   "cell_type": "code",
   "execution_count": 16,
   "metadata": {
    "collapsed": true
   },
   "outputs": [],
   "source": [
    "timeStamp_1[np.where(timeStamp_1 < 2**31)] +=  2**32\n",
    "gps[np.where(gps[:, 0] < 2**31),0] += 2**32\n",
    "vel[np.where(vel[:, 0] < 2**31),0] += 2**32"
   ]
  },
  {
   "cell_type": "code",
   "execution_count": 17,
   "metadata": {
    "collapsed": true
   },
   "outputs": [],
   "source": [
    "# interpolate GPS data for each record\n",
    "timeStamp_records = timeStamp_1\n",
    "Lat_records = np.interp( timeStamp_records, gps[:,0], Lat )\n",
    "Long_records = np.interp( timeStamp_records, gps[:,0], Long )\n",
    "Alt_records = np.interp( timeStamp_records, gps[:,0], Alt )\n",
    "Vel_records = np.interp( timeStamp_records, vel[:,0], Vel )\n",
    "course_records = np.interp( timeStamp_records, vel[:,0], course )"
   ]
  },
  {
   "cell_type": "code",
   "execution_count": 18,
   "metadata": {},
   "outputs": [
    {
     "name": "stdout",
     "output_type": "stream",
     "text": [
      "(5056, 5506)\n"
     ]
    }
   ],
   "source": [
    "# find indices in GPS data corresponding to the start and stop of the record\n",
    "timeStampStart_1 = timeStamp_1[0]\n",
    "timeStampStop_1 = timeStamp_1[-1]\n",
    "idxStart = np.where(gps[:,0] <= timeStampStart_1)[0][-1]\n",
    "idxStop = np.where(gps[:,0] <= timeStampStop_1)[0][-1]\n",
    "record1_idx_in_gps = (idxStart, idxStop)\n",
    "print( record1_idx_in_gps )"
   ]
  },
  {
   "cell_type": "markdown",
   "metadata": {},
   "source": [
    "### Data selection for focalization"
   ]
  },
  {
   "cell_type": "code",
   "execution_count": 19,
   "metadata": {
    "collapsed": true
   },
   "outputs": [],
   "source": [
    "# 43 selection for hangar and building focalization\n",
    "# 54 just after the track\n",
    "firstFile = 0\n",
    "nbFiles = 100\n",
    "lastFile = firstFile + nbFiles - 1\n",
    "fileRange = np.arange(firstFile, lastFile + 1)\n",
    "timeStamp_selection = timeStamp_1[fileRange]"
   ]
  },
  {
   "cell_type": "code",
   "execution_count": 20,
   "metadata": {},
   "outputs": [
    {
     "name": "stdout",
     "output_type": "stream",
     "text": [
      "(5056, 5501)\n"
     ]
    }
   ],
   "source": [
    "idxStart = np.where(gps[:,0] <= timeStamp_1[firstFile])[0][-1]\n",
    "idxStop = np.where(gps[:,0] <= timeStamp_1[lastFile])[0][-1]\n",
    "selection1_idx_in_gps = (idxStart, idxStop)\n",
    "print( selection1_idx_in_gps )"
   ]
  },
  {
   "cell_type": "code",
   "execution_count": 21,
   "metadata": {
    "collapsed": true
   },
   "outputs": [],
   "source": [
    "# interpolate GPS data for each file of the selection\n",
    "Lat_selection = np.interp( timeStamp_selection, gps[:,0], gps[:,1] )\n",
    "Long_selection = np.interp( timeStamp_selection, gps[:,0], gps[:,2] )\n",
    "Alt_selection = np.interp( timeStamp_selection, gps[:,0], gps[:,3] )\n",
    "Vel_selection = np.interp( timeStamp_selection, vel[:,0], Vel )\n",
    "course_selection = np.interp( timeStamp_selection, vel[:,0], course )"
   ]
  },
  {
   "cell_type": "markdown",
   "metadata": {},
   "source": [
    "### Plot navigation data and record periods"
   ]
  },
  {
   "cell_type": "code",
   "execution_count": 24,
   "metadata": {
    "collapsed": true
   },
   "outputs": [],
   "source": [
    "plt.figure()\n",
    "\n",
    "ax = plt.subplot(111)\n",
    "\n",
    "plotLongLatAndTrackReferences( ax, Long, Lat )\n",
    "plotRunaway( ax )\n",
    "\n",
    "addOnPlot( ax, Long, Lat, record1_idx_in_gps, 'orange', data_date + ' (time line dated by SBG time stamps)' )\n",
    "plt.plot( Long_records, Lat_records, \"Dg\", markeredgecolor='black', \n",
    "         label=data_date )\n",
    "plt.plot( Long_selection, Lat_selection, \"Dy\", markeredgecolor='black', \n",
    "         label=\"files selected for focalization {} to {}\".format(firstFile, lastFile) )\n",
    "\n",
    "plt.title(\"Navigation data, track references, record locations\\n\" + data_date)\n",
    "plt.xlabel(\"Longitude\")\n",
    "plt.ylabel(\"Latitude\")\n",
    "plt.legend()\n",
    "plt.grid()"
   ]
  },
  {
   "cell_type": "code",
   "execution_count": 23,
   "metadata": {},
   "outputs": [
    {
     "data": {
      "text/plain": [
       "<matplotlib.text.Text at 0x7f565e3a2ef0>"
      ]
     },
     "execution_count": 23,
     "metadata": {},
     "output_type": "execute_result"
    }
   ],
   "source": [
    "plt.figure()\n",
    "plt.plot( gps[:,0], Alt )\n",
    "plt.plot( timeStamp_selection, Alt_selection, \"yD\", markeredgecolor = 'black' )\n",
    "plt.grid()\n",
    "plt.title( \"Altitude - \" + data_date + \" - files {} to {}\".format(firstFile, lastFile) )"
   ]
  },
  {
   "cell_type": "markdown",
   "metadata": {},
   "source": [
    "## Load attitude data"
   ]
  },
  {
   "cell_type": "code",
   "execution_count": 25,
   "metadata": {
    "collapsed": true
   },
   "outputs": [],
   "source": [
    "idx_timeStamp = 0\n",
    "idx_roll = 1\n",
    "idx_pitch = 2\n",
    "idx_yaw = 3\n",
    "idx_rollStdDev = 4\n",
    "idx_pitchStdDev = 5\n",
    "idx_yawStdDev = 6\n",
    "idx_status = 7"
   ]
  },
  {
   "cell_type": "code",
   "execution_count": 26,
   "metadata": {
    "collapsed": true
   },
   "outputs": [],
   "source": [
    "euler_timeStamp, roll, pitch, yaw = np.loadtxt( logEkfEuler, skiprows = 1, \n",
    "                                               usecols = (0, idx_roll, idx_pitch, idx_yaw), unpack=True )"
   ]
  },
  {
   "cell_type": "code",
   "execution_count": 27,
   "metadata": {
    "collapsed": true
   },
   "outputs": [],
   "source": [
    "euler_timeStamp[np.where(euler_timeStamp < 2**31)] +=  2**32"
   ]
  },
  {
   "cell_type": "code",
   "execution_count": 28,
   "metadata": {
    "collapsed": true
   },
   "outputs": [],
   "source": [
    "# interpolate euler data for each file of the selection\n",
    "roll_selection = np.interp( timeStamp_selection, euler_timeStamp, roll )\n",
    "pitch_selection = np.interp( timeStamp_selection, euler_timeStamp, pitch )\n",
    "yaw_selection = np.interp( timeStamp_selection, euler_timeStamp, yaw )"
   ]
  },
  {
   "cell_type": "code",
   "execution_count": 29,
   "metadata": {},
   "outputs": [
    {
     "name": "stdout",
     "output_type": "stream",
     "text": [
      "202266 220266\n"
     ]
    }
   ],
   "source": [
    "idxStart_ekf = np.where(euler_timeStamp <= timeStampStart_1)[0][-1]\n",
    "idxStop_ekf = np.where(euler_timeStamp <= timeStampStop_1)[0][-1]\n",
    "print( idxStart_ekf, idxStop_ekf )"
   ]
  },
  {
   "cell_type": "code",
   "execution_count": 30,
   "metadata": {},
   "outputs": [
    {
     "name": "stdout",
     "output_type": "stream",
     "text": [
      "(202266, 220086)\n"
     ]
    }
   ],
   "source": [
    "idxStart = np.where(euler_timeStamp <= timeStamp_1[firstFile])[0][-1]\n",
    "idxStop = np.where(euler_timeStamp <= timeStamp_1[lastFile])[0][-1]\n",
    "selection1_idx_in_ekf = (idxStart, idxStop)\n",
    "print( selection1_idx_in_ekf )"
   ]
  },
  {
   "cell_type": "markdown",
   "metadata": {},
   "source": [
    "### Track 1"
   ]
  },
  {
   "cell_type": "code",
   "execution_count": null,
   "metadata": {
    "collapsed": true
   },
   "outputs": [],
   "source": [
    "files = \"files {} to {}\".format( firstFile, lastFile )"
   ]
  },
  {
   "cell_type": "code",
   "execution_count": 33,
   "metadata": {
    "collapsed": true
   },
   "outputs": [],
   "source": [
    "plt.figure()\n",
    "\n",
    "plt.subplot(311)\n",
    "plt.title(\"altitude / velocity / course\\nrecord \" + data_date)\n",
    "plt.plot( timeStamp_selection, Alt_selection, 'Dy', markeredgecolor = 'k', label=\"altitude \" + files )\n",
    "plt.legend()\n",
    "plt.grid()\n",
    "\n",
    "plt.subplot(312)\n",
    "plt.plot( timeStamp_selection, Vel_selection, 'Dy', markeredgecolor = 'k', label=\"velocity \" + files )\n",
    "plt.legend()\n",
    "plt.grid()\n",
    "\n",
    "plt.subplot(313)\n",
    "plt.plot( timeStamp_selection, course_selection, 'Dy', markeredgecolor = 'k', label=\"course \" + files )\n",
    "plt.legend()\n",
    "plt.grid()"
   ]
  },
  {
   "cell_type": "code",
   "execution_count": 34,
   "metadata": {
    "collapsed": true
   },
   "outputs": [],
   "source": [
    "plt.figure()\n",
    "\n",
    "plt.subplot(311)\n",
    "plt.title(\"pitch roll and yaw\\nrecord \" + data_date)\n",
    "plt.plot( timeStamp_selection, pitch_selection, 'Dy', markeredgecolor = 'k', label=\"pitch \" + files )\n",
    "plt.legend()\n",
    "plt.grid()\n",
    "\n",
    "plt.subplot(312)\n",
    "plt.plot( timeStamp_selection, roll_selection, 'Dy', markeredgecolor = 'k',  label=\"roll \" + files )\n",
    "plt.legend()\n",
    "plt.grid()\n",
    "\n",
    "plt.subplot(313)\n",
    "plt.plot( timeStamp_selection, yaw_selection, 'Dy', markeredgecolor = 'k',  label=\"yaw \" + files )\n",
    "plt.legend()\n",
    "plt.grid()"
   ]
  },
  {
   "cell_type": "code",
   "execution_count": 35,
   "metadata": {
    "collapsed": true
   },
   "outputs": [],
   "source": [
    "plt.figure()\n",
    "ax = plt.subplot(111)\n",
    "plotRunaway( ax )\n",
    "plt.title( \"track during the record of the files selection\" )\n",
    "plt.plot( Long_selection, Lat_selection )\n",
    "plt.grid()"
   ]
  },
  {
   "cell_type": "markdown",
   "metadata": {},
   "source": [
    "### Track linear approximation"
   ]
  },
  {
   "cell_type": "code",
   "execution_count": null,
   "metadata": {
    "collapsed": true
   },
   "outputs": [],
   "source": [
    "from posarmctools.track import *"
   ]
  },
  {
   "cell_type": "code",
   "execution_count": null,
   "metadata": {
    "collapsed": true
   },
   "outputs": [],
   "source": [
    "xdata, ydata = getxy( Lat_selection, Long_selection, startingPoint )"
   ]
  },
  {
   "cell_type": "code",
   "execution_count": null,
   "metadata": {},
   "outputs": [],
   "source": [
    "popt, pcov = curve_fit(func, xdata, ydata)\n",
    "a = popt[0]\n",
    "b = popt[1]\n",
    "print( \"a = {}, b = {}\".format( a, b ) )"
   ]
  },
  {
   "cell_type": "code",
   "execution_count": null,
   "metadata": {},
   "outputs": [],
   "source": [
    "plt.figure()\n",
    "plt.plot( xdata, ydata, label=\"track\" )\n",
    "plt.plot( xdata, func(xdata, a, b), label=\"linear approximation\" )\n",
    "plt.grid()\n",
    "plt.legend()"
   ]
  },
  {
   "cell_type": "code",
   "execution_count": null,
   "metadata": {
    "collapsed": true
   },
   "outputs": [],
   "source": [
    "import json"
   ]
  },
  {
   "cell_type": "code",
   "execution_count": null,
   "metadata": {
    "collapsed": true
   },
   "outputs": [],
   "source": [
    "# unit vector\n",
    "ux = ( 1, a ) / ( 1 + a**2 )**0.5\n",
    "uy = [ -a, 1 ] / ( 1 + a**2 )**0.5\n",
    "track_model = { \"trackModel\" : \"model(x, p) = p[1]*x + p[2]\",\n",
    "               \"p\" : (a, b),\n",
    "               \"ux\" : (-ux[0], -ux[1]),\n",
    "               \"uy\" : (-uy[0], -uy[1]),\n",
    "               \"startingPointLatitude\" : startingPoint[0],\n",
    "               \"startingPointLongitude\" : startingPoint[1]\n",
    "              }"
   ]
  },
  {
   "cell_type": "code",
   "execution_count": null,
   "metadata": {
    "collapsed": true
   },
   "outputs": [],
   "source": [
    "trackFilename = data_dir + \"/track_model.json\"\n",
    "with open( trackFilename, 'w' ) as f:\n",
    "    json.dump( track_model, f )"
   ]
  },
  {
   "cell_type": "code",
   "execution_count": null,
   "metadata": {
    "collapsed": true
   },
   "outputs": [],
   "source": [
    "# runaway projection\n",
    "runaway_proj = np.zeros( runaway.shape )\n",
    "getProjection( runaway, runaway_proj, startingPoint, track_model )\n",
    "np.save( data_dir + \"/runaway_proj\", runaway_proj )\n",
    "# hangar\n",
    "hangar_proj = np.zeros( hangar.shape )\n",
    "getProjection( hangar, hangar_proj, startingPoint, track_model )\n",
    "np.save( data_dir + \"/hangar_proj\", hangar_proj )\n",
    "# building\n",
    "building_proj = np.zeros( building.shape )\n",
    "getProjection( building, building_proj, startingPoint, track_model )\n",
    "np.save( data_dir + \"/building_proj\", building_proj )\n",
    "# corner reflector large\n",
    "cornerReflectorLarge_proj = np.zeros( cornerReflectorLarge.shape )\n",
    "getProjection( cornerReflectorLarge, cornerReflectorLarge_proj, startingPoint, track_model )\n",
    "np.save( data_dir + \"/cornerReflectorLarge_proj\", cornerReflectorLarge_proj )\n",
    "# corner reflector small\n",
    "cornerReflectorSmall_proj = np.zeros( cornerReflectorSmall.shape )\n",
    "getProjection( cornerReflectorSmall, cornerReflectorSmall_proj, startingPoint, track_model )\n",
    "np.save( data_dir + \"/cornerReflectorSmall_proj\", cornerReflectorSmall_proj )"
   ]
  },
  {
   "cell_type": "code",
   "execution_count": null,
   "metadata": {
    "collapsed": true
   },
   "outputs": [],
   "source": [
    "track_proj = np.zeros( (Lat.shape[0],2) )\n",
    "getProjection( np.stack( (Lat, Long), -1 ), track_proj, startingPoint, track_model )\n",
    "np.save( data_dir + \"/track_proj\", track_proj )"
   ]
  },
  {
   "cell_type": "code",
   "execution_count": null,
   "metadata": {
    "collapsed": true
   },
   "outputs": [],
   "source": [
    "x_selection = np.interp( timeStamp_selection, gps[:,0], track_proj[:,0] )\n",
    "y_selection = np.interp( timeStamp_selection, gps[:,0], track_proj[:,1] )\n",
    "np.save( data_dir + \"/track_selection_proj\", np.stack( (x_selection, y_selection ), -1 ) )"
   ]
  },
  {
   "cell_type": "code",
   "execution_count": null,
   "metadata": {},
   "outputs": [],
   "source": [
    "plt.figure()\n",
    "\n",
    "plt.plot( runaway_proj[:,0], runaway_proj[:,1] )\n",
    "plt.plot( hangar_proj[:,0], hangar_proj[:,1] )\n",
    "plt.plot( building_proj[:,0], building_proj[:,1] )\n",
    "\n",
    "plt.plot( track_proj[:,0], track_proj[:,1], \"gray\" )\n",
    "plt.plot( track_proj[range_in_gps, 0], track_proj[range_in_gps, 1], 'orange',\n",
    "        label = \"record location \" + data_date )\n",
    "plt.plot( x_selection, y_selection, 'Dy', markerEdgecolor='k',\n",
    "        label = \"files {} to {}\".format( firstFile, lastFile ) )\n",
    "plt.plot( cornerReflectorLarge_proj[0], cornerReflectorLarge_proj[1], 'o', color='white', markeredgecolor='k' )\n",
    "plt.plot( cornerReflectorSmall_proj[0], cornerReflectorSmall_proj[1], 'o', color='white', markeredgecolor='k' )\n",
    "ax = plt.gca()\n",
    "ax.invert_xaxis()\n",
    "ax.invert_yaxis()\n",
    "ax.xaxis.tick_top()\n",
    "ax.yaxis.tick_right()\n",
    "ax.set_aspect(1)\n",
    "plt.xlabel(\"location of the records in the scene coordinate system\\n\" + data_date)\n",
    "plt.grid()\n",
    "plt.legend()"
   ]
  },
  {
   "cell_type": "markdown",
   "metadata": {},
   "source": [
    "## Interpolate navigation data for all ramps"
   ]
  },
  {
   "cell_type": "markdown",
   "metadata": {},
   "source": [
    "### Build timestamp vector\n",
    "Two options: numpy.interp vs scipy.interpolate.interp1d (with kind='linear')"
   ]
  },
  {
   "cell_type": "code",
   "execution_count": null,
   "metadata": {
    "collapsed": true
   },
   "outputs": [],
   "source": [
    "# rampNumber timeStamp x y z\n",
    "rampNumber = np.arange( rampsPerFile * (nbRecords + 1) )\n",
    "\n",
    "rampNumber_2 = np.concatenate( (rampNumber_1, [ rampNumber_1[-1] + rampsPerFile ] ) )\n",
    "timeStamp_2 = np.concatenate( (timeStamp_1, [ timeStamp_1[-1] + timeStamp_1[-1] - timeStamp_1[-2] ] ) )\n",
    "\n",
    "timeStamp = np.interp( rampNumber, rampNumber_2, timeStamp_2)\n",
    "x = np.interp( timeStamp, gps[:,0], track_proj[:,0] )\n",
    "y = np.interp( timeStamp, gps[:,0], track_proj[:,1] )\n",
    "z = np.interp( timeStamp, gps[:,0], gps[:,3] )\n",
    "xyz_proj_allRamps = np.stack( (rampNumber, timeStamp, x, y, z), -1 )"
   ]
  },
  {
   "cell_type": "code",
   "execution_count": null,
   "metadata": {
    "collapsed": true
   },
   "outputs": [],
   "source": [
    "np.save( data_dir + \"/rampNumber_timeStamp_xyz\", xyz_proj_allRamps )"
   ]
  },
  {
   "cell_type": "code",
   "execution_count": null,
   "metadata": {
    "collapsed": true
   },
   "outputs": [],
   "source": [
    "plt.figure()\n",
    "plt.plot( x_selection, y_selection, 'Dy', markerEdgecolor='k', label = \"files {} to {}\".format( firstFile, lastFile ) )\n",
    "firstRamp = firstFile * rampsPerFile\n",
    "lastRamp = firstRamp + (nbFiles+1) * rampsPerFile\n",
    "plt.plot( x[firstRamp : lastRamp], y[firstRamp : lastRamp], '.b', label = 'ramps' )\n",
    "plt.legend()\n",
    "plt.title(\"xy\")\n",
    "plt.grid()"
   ]
  },
  {
   "cell_type": "code",
   "execution_count": null,
   "metadata": {},
   "outputs": [],
   "source": [
    "plt.figure()\n",
    "plt.plot(rampNumber_1, timeStamp_1)\n",
    "plt.plot(rampNumber_2, timeStamp_2, 'o')"
   ]
  },
  {
   "cell_type": "code",
   "execution_count": null,
   "metadata": {
    "collapsed": true
   },
   "outputs": [],
   "source": []
  }
 ],
 "metadata": {
  "kernelspec": {
   "display_name": "Python 3",
   "language": "python",
   "name": "python3"
  },
  "language_info": {
   "codemirror_mode": {
    "name": "ipython",
    "version": 3
   },
   "file_extension": ".py",
   "mimetype": "text/x-python",
   "name": "python",
   "nbconvert_exporter": "python",
   "pygments_lexer": "ipython3",
   "version": "3.6.3"
  }
 },
 "nbformat": 4,
 "nbformat_minor": 2
}
