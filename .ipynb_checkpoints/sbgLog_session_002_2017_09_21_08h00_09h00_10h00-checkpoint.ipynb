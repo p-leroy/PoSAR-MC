{
 "cells": [
  {
   "cell_type": "code",
   "execution_count": 2,
   "metadata": {
    "collapsed": true
   },
   "outputs": [],
   "source": [
    "import numpy as np\n",
    "import numexpr as ne\n",
    "import matplotlib.pyplot as plt\n",
    "%matplotlib qt5"
   ]
  },
  {
   "cell_type": "code",
   "execution_count": 4,
   "metadata": {
    "collapsed": true
   },
   "outputs": [],
   "source": [
    "prefix = \"/home/pleroy/DATA/PoSAR-MC_PIMA_TEST-2/2017_09_21-22_SBG/dataLogger\"\n",
    "\n",
    "logEkfNav_1   = prefix + \"/session_0002/2017_09_21/08h00/\" + \"sbgLogEkfNav.dat\"\n",
    "logUtcData_1  = prefix + \"/session_0002/2017_09_21/08h00/\" + \"sbgLogUtcData.dat\"\n",
    "\n",
    "logEkfNav_2   = prefix + \"/session_0002/2017_09_21/09h00/\" + \"sbgLogEkfNav.dat\"\n",
    "logUtcData_2  = prefix + \"/session_0002/2017_09_21/09h00/\" + \"sbgLogUtcData.dat\"\n",
    "\n",
    "logEkfNav_3   = prefix + \"/session_0002/2017_09_21/10h00/\" + \"sbgLogEkfNav.dat\"\n",
    "logUtcData_3  = prefix + \"/session_0002/2017_09_21/10h00/\" + \"sbgLogUtcData.dat\""
   ]
  },
  {
   "cell_type": "code",
   "execution_count": 19,
   "metadata": {
    "collapsed": true
   },
   "outputs": [],
   "source": [
    "#EKF NAV\n",
    "idx_timeStamp = 0\n",
    "idx_velNorth = 1\n",
    "idx_velEast = 2\n",
    "idx_velDown = 3\n",
    "idx_velNorth_StdDev = 4\n",
    "idx_velEast_StdDev = 5\n",
    "idx_velDown_StdDev = 6\n",
    "idx_Lat = 7\n",
    "idx_Long = 8\n",
    "idx_Alt = 9\n",
    "idx_undulation = 10\n",
    "idx_Lat_StdDev = 11\n",
    "idx_Long_StdDev = 12\n",
    "idx_Alt_StdDev = 13\n",
    "idx_nav_status = 14\n",
    "\n",
    "track1_Lat_0  = 48.06069 \n",
    "track1_Long_0 = -1.99354\n",
    "track1_Lat_1  = 48.05507 \n",
    "track1_Long_1 = -2.02359\n",
    "\n",
    "track2_Lat_0  = 48.06249 \n",
    "track2_Long_0 = -1.99467\n",
    "track2_Lat_1  = 48.05687 \n",
    "track2_Long_1 = -2.02434\n",
    "\n",
    "track3_Lat_0  = 48.06555 \n",
    "track3_Long_0 = -1.99619\n",
    "track3_Lat_1  = 48.06007 \n",
    "track3_Long_1 = -2.02550\n",
    "\n",
    "runaway = np.array([ [ 48.057546, -2.010483, 0.0 ],\n",
    "          [ 48.058403, -2.005964, 0.0 ],\n",
    "          [ 48.058191, -2.005869, 0.0 ],\n",
    "          [ 48.057327, -2.010383, 0.0 ],\n",
    "          [ 48.057546, -2.010483, 0.0 ]\n",
    "          ])"
   ]
  },
  {
   "cell_type": "code",
   "execution_count": 6,
   "metadata": {},
   "outputs": [],
   "source": [
    "def load_TimeStamp_Long_Lat( file ):\n",
    "    timeStamps = np.loadtxt( file, skiprows = 1, usecols = idx_timeStamp )\n",
    "    Long = np.loadtxt( file, skiprows = 1, usecols = idx_Long )\n",
    "    Lat = np.loadtxt( file, skiprows = 1, usecols = idx_Lat )\n",
    "    return (timeStamps, Long, Lat)"
   ]
  },
  {
   "cell_type": "code",
   "execution_count": 7,
   "metadata": {
    "collapsed": true
   },
   "outputs": [],
   "source": [
    "# 08h00\n",
    "(timeStamps_1, Long_1, Lat_1) = load_TimeStamp_Long_Lat( logEkfNav_1 )"
   ]
  },
  {
   "cell_type": "code",
   "execution_count": 8,
   "metadata": {
    "collapsed": true
   },
   "outputs": [],
   "source": [
    "# 09h00\n",
    "(timeStamps_2, Long_2, Lat_2) = load_TimeStamp_Long_Lat( logEkfNav_2 )"
   ]
  },
  {
   "cell_type": "code",
   "execution_count": 9,
   "metadata": {
    "collapsed": true
   },
   "outputs": [],
   "source": [
    "# 10h00\n",
    "(timeStamps_3, Long_3, Lat_3) = load_TimeStamp_Long_Lat( logEkfNav_3 )"
   ]
  },
  {
   "cell_type": "code",
   "execution_count": 25,
   "metadata": {
    "collapsed": true
   },
   "outputs": [],
   "source": [
    "timeStamps = np.concatenate((timeStamps_1, timeStamps_2, timeStamps_3))\n",
    "Long = np.concatenate((Long_1, Long_2, Long_3))\n",
    "Lat = np.concatenate((Lat_1, Lat_2, Lat_3))"
   ]
  },
  {
   "cell_type": "code",
   "execution_count": 26,
   "metadata": {
    "collapsed": true
   },
   "outputs": [],
   "source": [
    "def plotRunaway( ax ):\n",
    "    ax.plot(runaway[:,1], runaway[:,0], \"og\", markeredgecolor = 'black')"
   ]
  },
  {
   "cell_type": "code",
   "execution_count": 30,
   "metadata": {
    "collapsed": true
   },
   "outputs": [],
   "source": [
    "def plotTrackReferences( ax ):\n",
    "    ax.plot( [track1_Long_0, track1_Long_1], [track1_Lat_0, track1_Lat_1], \"o-.b\", markeredgecolor = 'black' )\n",
    "    ax.plot( [track2_Long_0, track2_Long_1], [track2_Lat_0, track2_Lat_1], \"o-.b\", markeredgecolor = 'black' )\n",
    "    ax.plot( [track3_Long_0, track3_Long_1], [track3_Lat_0, track3_Lat_1], \"o-.b\", markeredgecolor = 'black' )"
   ]
  },
  {
   "cell_type": "code",
   "execution_count": 32,
   "metadata": {},
   "outputs": [],
   "source": [
    "plt.figure()\n",
    "ax = plt.subplot(111)\n",
    "idx_1 = np.where(Long_1 < 0)\n",
    "idx_2 = np.where(Long_2 < 0)\n",
    "idx_3 = np.where(Long_3 < 0)\n",
    "plt.plot( Long_1[idx_1], Lat_1[idx_1], 'r' )\n",
    "plt.plot( Long_2[idx_2], Lat_2[idx_2], 'gray' )\n",
    "plt.plot( Long_3[idx_3], Lat_3[idx_3], 'g' )\n",
    "\n",
    "plotRunaway( ax )\n",
    "plotTrackReferences( ax )"
   ]
  },
  {
   "cell_type": "code",
   "execution_count": 33,
   "metadata": {
    "collapsed": true
   },
   "outputs": [],
   "source": [
    "hourOffset = 2\n",
    "\n",
    "#timeStamp status year month day hour minute second nanoSecond gpsTimeOfWeek\n",
    "idx_h = 5\n",
    "idx_m = 6\n",
    "idx_s = 7\n",
    "idx_nano = 8\n",
    "utc_h_1, utc_m_1, utc_s_1, utc_nano_1 = np.loadtxt( logUtcData_1, skiprows = 1, \n",
    "                                           usecols = (idx_h, idx_m, idx_s, idx_nano), unpack=True )\n",
    "utc_h_2, utc_m_2, utc_s_2, utc_nano_2 = np.loadtxt( logUtcData_2, skiprows = 1, \n",
    "                                           usecols = (idx_h, idx_m, idx_s, idx_nano), unpack=True )\n",
    "utc_h_3, utc_m_3, utc_s_3, utc_nano_3 = np.loadtxt( logUtcData_3, skiprows = 1, \n",
    "                                           usecols = (idx_h, idx_m, idx_s, idx_nano), unpack=True )\n",
    "utc_h = np.concatenate( (utc_h_1, utc_h_2, utc_h_3) )\n",
    "utc_m = np.concatenate( (utc_m_1, utc_m_2, utc_m_3) )\n",
    "utc_s = np.concatenate( (utc_s_1, utc_s_2, utc_s_3) )\n",
    "utc_nano = np.concatenate( (utc_nano_1, utc_nano_2, utc_nano_3) )\n",
    "utc_seconds = (utc_h + hourOffset) * 3600 + utc_m * 60 + utc_s + utc_nano * 1e-9"
   ]
  },
  {
   "cell_type": "code",
   "execution_count": 34,
   "metadata": {
    "collapsed": true
   },
   "outputs": [],
   "source": [
    "def printUtc( index ):\n",
    "    print( str(utc_h[index]) \n",
    "          + \" : \" + str(utc_m[index]) \n",
    "          + \" : \" + \"{:.3f}\".format(utc_s[index] + utc_nano[index] * 1e-9) )"
   ]
  },
  {
   "cell_type": "code",
   "execution_count": 35,
   "metadata": {},
   "outputs": [
    {
     "name": "stdout",
     "output_type": "stream",
     "text": [
      "0.0 : 1.0 : 5.290\n"
     ]
    }
   ],
   "source": [
    "printUtc( 0 )"
   ]
  },
  {
   "cell_type": "code",
   "execution_count": 37,
   "metadata": {},
   "outputs": [
    {
     "name": "stdout",
     "output_type": "stream",
     "text": [
      "10.0 : 5.0 : 52.610\n"
     ]
    }
   ],
   "source": [
    "printUtc(-1)"
   ]
  },
  {
   "cell_type": "code",
   "execution_count": null,
   "metadata": {
    "collapsed": true
   },
   "outputs": [],
   "source": []
  }
 ],
 "metadata": {
  "kernelspec": {
   "display_name": "Python 3",
   "language": "python",
   "name": "python3"
  },
  "language_info": {
   "codemirror_mode": {
    "name": "ipython",
    "version": 3
   },
   "file_extension": ".py",
   "mimetype": "text/x-python",
   "name": "python",
   "nbconvert_exporter": "python",
   "pygments_lexer": "ipython3",
   "version": "3.6.2"
  }
 },
 "nbformat": 4,
 "nbformat_minor": 2
}
