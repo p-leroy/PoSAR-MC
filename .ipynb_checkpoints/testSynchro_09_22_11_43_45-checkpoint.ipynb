{
 "cells": [
  {
   "cell_type": "code",
   "execution_count": 1,
   "metadata": {
    "collapsed": true
   },
   "outputs": [],
   "source": [
    "import numpy as np\n",
    "import matplotlib.pyplot as plt\n",
    "%matplotlib qt5"
   ]
  },
  {
   "cell_type": "code",
   "execution_count": 2,
   "metadata": {
    "collapsed": true
   },
   "outputs": [],
   "source": [
    "prefix = \"/home/pleroy/DATA/PoSAR-MC_PIMA_TEST-2/2017_09_22_\""
   ]
  },
  {
   "cell_type": "code",
   "execution_count": null,
   "metadata": {
    "collapsed": true
   },
   "outputs": [],
   "source": [
    "data_dir = prefix + \"11_43_45\"\n",
    "\n",
    "blocksPerFile = 6\n",
    "numberOfFiles = 1 # 108\n",
    "firstFile = 12 + numberOfFiles * 0 * blocksPerFile # 12\n",
    "lastFile = firstFile + numberOfFiles * blocksPerFile # 672\n",
    "\n",
    "samplesPerRamp = 6000\n",
    "rampsPerFile = 1500\n",
    "samplesPerFile = samplesPerRamp * rampsPerFile\n",
    "\n",
    "numberOfSamplesToRead = 9000000"
   ]
  },
  {
   "cell_type": "code",
   "execution_count": 3,
   "metadata": {},
   "outputs": [
    {
     "name": "stdout",
     "output_type": "stream",
     "text": [
      "12 / 12\n"
     ]
    }
   ],
   "source": [
    "timeSeries_A = np.zeros( (numberOfFiles, numberOfSamplesToRead) )\n",
    "timeSeries_B = np.zeros( (numberOfFiles, numberOfSamplesToRead) )\n",
    "dum = np.zeros( numberOfSamplesToRead * 2 )\n",
    "\n",
    "fileNumber = 0\n",
    "\n",
    "for loop in range (firstFile, lastFile, blocksPerFile ):\n",
    "    print( str(loop) + ' / ' + str(lastFile - blocksPerFile) )\n",
    "    # open the file containing data\n",
    "    stream = data_dir + '/record' + str(loop) + '.bin'\n",
    "    fd = open(stream,'rb')\n",
    "    # get the data contained in the file ramp by ramp\n",
    "    dum = np.fromfile(fd, dtype = np.int16, count = numberOfSamplesToRead * 2)\n",
    "    timeSeries_A[fileNumber, :] = dum[ 0 : 2 * numberOfSamplesToRead : 2 ]\n",
    "    timeSeries_B[fileNumber, :] = dum[ 1 : 2 * numberOfSamplesToRead : 2 ]\n",
    "    \n",
    "    fileNumber = fileNumber + 1\n",
    "    \n",
    "    fd.close()"
   ]
  },
  {
   "cell_type": "code",
   "execution_count": 4,
   "metadata": {
    "collapsed": true
   },
   "outputs": [],
   "source": [
    "plt.figure()\n",
    "for k in range(numberOfFiles):\n",
    "    plt.plot(timeSeries_A[k, :])"
   ]
  },
  {
   "cell_type": "code",
   "execution_count": 5,
   "metadata": {
    "collapsed": true
   },
   "outputs": [],
   "source": [
    "plt.figure()\n",
    "for k in range(numberOfFiles):\n",
    "    plt.plot(timeSeries_B[k, :])"
   ]
  },
  {
   "cell_type": "markdown",
   "metadata": {},
   "source": [
    "## Rebuild the data"
   ]
  },
  {
   "cell_type": "code",
   "execution_count": 10,
   "metadata": {},
   "outputs": [],
   "source": [
    "def readFile( filename, timeSeries_A, timeSeries_B ):\n",
    "    fd = open(filename,'rb')\n",
    "    \n",
    "    dum = np.fromfile(fd, dtype = np.int16)\n",
    "\n",
    "    timeSeries_A[:] = dum[ 0 : 2 * numberOfSamplesToRead : 2 ]\n",
    "    timeSeries_B[:] = dum[ 1 : 2 * numberOfSamplesToRead : 2 ]\n",
    "    \n",
    "    fd.close()"
   ]
  },
  {
   "cell_type": "code",
   "execution_count": 13,
   "metadata": {
    "collapsed": true
   },
   "outputs": [],
   "source": [
    "timeSeries_A = np.zeros( numberOfSamplesToRead )\n",
    "timeSeries_B = np.zeros( numberOfSamplesToRead )"
   ]
  },
  {
   "cell_type": "code",
   "execution_count": 14,
   "metadata": {},
   "outputs": [
    {
     "name": "stdout",
     "output_type": "stream",
     "text": [
      "(18000000,)\n"
     ]
    }
   ],
   "source": [
    "readFile( data_dir + \"/record12.bin\", timeSeries_A, timeSeries_B )"
   ]
  },
  {
   "cell_type": "code",
   "execution_count": 17,
   "metadata": {},
   "outputs": [
    {
     "data": {
      "text/plain": [
       "[<matplotlib.lines.Line2D at 0x7faf3108c6a0>]"
      ]
     },
     "execution_count": 17,
     "metadata": {},
     "output_type": "execute_result"
    }
   ],
   "source": [
    "plt.plot(timeSeries_B)"
   ]
  },
  {
   "cell_type": "code",
   "execution_count": 19,
   "metadata": {},
   "outputs": [],
   "source": [
    "threshold = 6000\n",
    "val = np.where(timeSeries_B > threshold)"
   ]
  },
  {
   "cell_type": "code",
   "execution_count": 22,
   "metadata": {},
   "outputs": [
    {
     "data": {
      "text/plain": [
       "(1058,)"
      ]
     },
     "execution_count": 22,
     "metadata": {},
     "output_type": "execute_result"
    }
   ],
   "source": [
    "for k in range(samplesPerFile):"
   ]
  },
  {
   "cell_type": "code",
   "execution_count": 23,
   "metadata": {
    "collapsed": true
   },
   "outputs": [],
   "source": [
    "samplesPerFile = samplesPerRamp * rampsPerFile"
   ]
  },
  {
   "cell_type": "code",
   "execution_count": 24,
   "metadata": {},
   "outputs": [
    {
     "data": {
      "text/plain": [
       "9000000"
      ]
     },
     "execution_count": 24,
     "metadata": {},
     "output_type": "execute_result"
    }
   ],
   "source": [
    "samplesPerFile"
   ]
  },
  {
   "cell_type": "code",
   "execution_count": null,
   "metadata": {
    "collapsed": true
   },
   "outputs": [],
   "source": []
  }
 ],
 "metadata": {
  "kernelspec": {
   "display_name": "Python 3",
   "language": "python",
   "name": "python3"
  },
  "language_info": {
   "codemirror_mode": {
    "name": "ipython",
    "version": 3
   },
   "file_extension": ".py",
   "mimetype": "text/x-python",
   "name": "python",
   "nbconvert_exporter": "python",
   "pygments_lexer": "ipython3",
   "version": "3.6.2"
  }
 },
 "nbformat": 4,
 "nbformat_minor": 2
}
