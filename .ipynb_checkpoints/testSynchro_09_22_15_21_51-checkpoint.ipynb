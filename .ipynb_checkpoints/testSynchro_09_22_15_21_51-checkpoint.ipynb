{
 "cells": [
  {
   "cell_type": "code",
   "execution_count": 21,
   "metadata": {
    "collapsed": true
   },
   "outputs": [],
   "source": [
    "import numpy as np\n",
    "import matplotlib.pyplot as plt\n",
    "%matplotlib qt5"
   ]
  },
  {
   "cell_type": "code",
   "execution_count": 22,
   "metadata": {
    "collapsed": true
   },
   "outputs": [],
   "source": [
    "prefix = \"/home/pleroy/DATA/PoSAR-MC_PIMA_TEST-2/2017_09_22/2017_09_22_\""
   ]
  },
  {
   "cell_type": "code",
   "execution_count": 25,
   "metadata": {},
   "outputs": [
    {
     "name": "stdout",
     "output_type": "stream",
     "text": [
      "960 / 960\n"
     ]
    }
   ],
   "source": [
    "data_dir = prefix + \"15_21_51\"\n",
    "\n",
    "# 24 - 672\n",
    "blocksPerFile = 6\n",
    "numberOfFiles = 1 # 108\n",
    "firstFile = 960 + numberOfFiles * 0 * blocksPerFile # 960\n",
    "lastFile = firstFile + numberOfFiles * blocksPerFile # 672\n",
    "\n",
    "samplesPerRamp = 6000\n",
    "rampsPerFile = 1500\n",
    "\n",
    "numberOfSamplesToRead = 9000000\n",
    "\n",
    "timeSeries_A = np.zeros( (numberOfFiles, numberOfSamplesToRead) )\n",
    "timeSeries_B = np.zeros( (numberOfFiles, numberOfSamplesToRead) )\n",
    "dum = np.zeros( numberOfSamplesToRead * 2 )\n",
    "\n",
    "fileNumber = 0\n",
    "\n",
    "for loop in range (firstFile, lastFile, blocksPerFile ):\n",
    "    print( str(loop) + ' / ' + str(lastFile - blocksPerFile) )\n",
    "    # open the file containing data\n",
    "    stream = data_dir + '/record' + str(loop) + '.bin'\n",
    "    fd = open(stream,'rb')\n",
    "    # get the data contained in the file ramp by ramp\n",
    "    dum = np.fromfile(fd, dtype = np.int16, count = numberOfSamplesToRead * 2)\n",
    "    timeSeries_A[fileNumber, :] = dum[ 0 : 2 * numberOfSamplesToRead : 2 ]\n",
    "    timeSeries_B[fileNumber, :] = dum[ 1 : 2 * numberOfSamplesToRead : 2 ]\n",
    "    \n",
    "    fileNumber = fileNumber + 1\n",
    "    \n",
    "    fd.close()"
   ]
  },
  {
   "cell_type": "code",
   "execution_count": 28,
   "metadata": {
    "collapsed": true
   },
   "outputs": [],
   "source": [
    "plt.figure()\n",
    "for k in range(numberOfFiles):\n",
    "    plt.plot(timeSeries_A[k, :])"
   ]
  },
  {
   "cell_type": "code",
   "execution_count": 29,
   "metadata": {
    "collapsed": true
   },
   "outputs": [],
   "source": [
    "plt.figure()\n",
    "for k in range(numberOfFiles):\n",
    "    plt.plot(timeSeries_B[k, :])"
   ]
  },
  {
   "cell_type": "code",
   "execution_count": 32,
   "metadata": {
    "collapsed": true
   },
   "outputs": [],
   "source": [
    "import datetime"
   ]
  },
  {
   "cell_type": "code",
   "execution_count": 33,
   "metadata": {
    "collapsed": true
   },
   "outputs": [],
   "source": [
    "epoch = datetime.datetime.utcfromtimestamp(0)"
   ]
  },
  {
   "cell_type": "code",
   "execution_count": 34,
   "metadata": {},
   "outputs": [
    {
     "data": {
      "text/plain": [
       "datetime.datetime(1970, 1, 1, 0, 0)"
      ]
     },
     "execution_count": 34,
     "metadata": {},
     "output_type": "execute_result"
    }
   ],
   "source": [
    "epoch"
   ]
  },
  {
   "cell_type": "code",
   "execution_count": 35,
   "metadata": {
    "collapsed": true
   },
   "outputs": [],
   "source": [
    "tzinfo = datetime.timezone.utc"
   ]
  },
  {
   "cell_type": "code",
   "execution_count": 36,
   "metadata": {},
   "outputs": [
    {
     "data": {
      "text/plain": [
       "datetime.timezone.utc"
      ]
     },
     "execution_count": 36,
     "metadata": {},
     "output_type": "execute_result"
    }
   ],
   "source": [
    "tzinfo"
   ]
  },
  {
   "cell_type": "code",
   "execution_count": null,
   "metadata": {
    "collapsed": true
   },
   "outputs": [],
   "source": []
  }
 ],
 "metadata": {
  "kernelspec": {
   "display_name": "Python 3",
   "language": "python",
   "name": "python3"
  },
  "language_info": {
   "codemirror_mode": {
    "name": "ipython",
    "version": 3
   },
   "file_extension": ".py",
   "mimetype": "text/x-python",
   "name": "python",
   "nbconvert_exporter": "python",
   "pygments_lexer": "ipython3",
   "version": "3.6.2"
  }
 },
 "nbformat": 4,
 "nbformat_minor": 2
}
