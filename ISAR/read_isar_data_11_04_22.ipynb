{
 "cells": [
  {
   "cell_type": "code",
   "execution_count": 2,
   "metadata": {},
   "outputs": [],
   "source": [
    "import numpy as np\n",
    "import matplotlib.pyplot as plt\n",
    "%matplotlib qt5"
   ]
  },
  {
   "cell_type": "code",
   "execution_count": 5,
   "metadata": {},
   "outputs": [],
   "source": [
    "import sys"
   ]
  },
  {
   "cell_type": "code",
   "execution_count": 6,
   "metadata": {},
   "outputs": [],
   "source": [
    "sys.path.insert(0, \"/home/pleroy/DEV/processing/focalization_python\")\n",
    "from posarutils.other.PosarMCParameters import *"
   ]
  },
  {
   "cell_type": "code",
   "execution_count": 3,
   "metadata": {},
   "outputs": [],
   "source": [
    "data_date = \"2018_02_23_11_04_22\"\n",
    "data_dir = \"/home/pleroy/DATA/ISAR/\" + data_date"
   ]
  },
  {
   "cell_type": "code",
   "execution_count": 7,
   "metadata": {},
   "outputs": [],
   "source": [
    "params_filename = data_dir + \"/\" + data_date + \"_parameters.xml\"\n",
    "params = PosarMCParameters_v2( params_filename )"
   ]
  },
  {
   "cell_type": "code",
   "execution_count": 47,
   "metadata": {},
   "outputs": [],
   "source": [
    "samplesPerFile = params.rampsPerFile * params.samplesPerRamp"
   ]
  },
  {
   "cell_type": "code",
   "execution_count": 11,
   "metadata": {},
   "outputs": [
    {
     "name": "stdout",
     "output_type": "stream",
     "text": [
      "36000000\n"
     ]
    }
   ],
   "source": [
    "print(params.rampsPerFile * params.samplesPerRamp * 4)"
   ]
  },
  {
   "cell_type": "code",
   "execution_count": 25,
   "metadata": {},
   "outputs": [],
   "source": [
    "loop = 0\n",
    "filename = data_dir + '/record' + str(loop) + '.bin'\n",
    "fd = open(filename,'rb')\n",
    "vals_0 = np.zeros(params.rampsPerFile * params.samplesPerRamp * 2)\n",
    "\n",
    "vals_0 = np.fromfile(fd, dtype = np.uint16, count = params.rampsPerFile * params.samplesPerRamp * 2)\n",
    "vals_0_0 = vals_0[::2].reshape(int(params.rampsPerFile/2), params.samplesPerRamp)\n",
    "vals_0_1 = vals_0[1::2].reshape(int(params.rampsPerFile/2), params.samplesPerRamp)"
   ]
  },
  {
   "cell_type": "code",
   "execution_count": 48,
   "metadata": {},
   "outputs": [
    {
     "name": "stdout",
     "output_type": "stream",
     "text": [
      "file record2.bin\n",
      "file record4.bin\n",
      "file record6.bin\n",
      "file record8.bin\n",
      "file record10.bin\n",
      "file record12.bin\n",
      "file record14.bin\n",
      "file record16.bin\n",
      "file record18.bin\n",
      "file record20.bin\n",
      "file record22.bin\n",
      "file record24.bin\n",
      "file record26.bin\n",
      "file record28.bin\n"
     ]
    }
   ],
   "source": [
    "idxStart = 2\n",
    "idxStop = 28\n",
    "nbFiles = int( (idxStop - idxStart) / params.buffersPerFile + 1 )\n",
    "data = np.zeros(nbFiles * params.rampsPerFile * params.samplesPerRamp)\n",
    "tmp = np.zeros(params.rampsPerFile * params.samplesPerRamp * 2)\n",
    "idx = idxStart\n",
    "for k in range(nbFiles):\n",
    "    filename = data_dir + \"/record\" + str(idx) + \".bin\"\n",
    "    print(\"file \" + \"record\" + str(idx) + \".bin\")\n",
    "    fd = open(filename,'rb')\n",
    "    tmp = np.fromfile(fd, dtype = np.uint16, count = params.rampsPerFile * params.samplesPerRamp * 2)\n",
    "    data[ k * samplesPerFile : (k+1) * samplesPerFile] = tmp[::2]\n",
    "    idx = idx + params.buffersPerFile"
   ]
  },
  {
   "cell_type": "code",
   "execution_count": 49,
   "metadata": {},
   "outputs": [],
   "source": [
    "data_reshaped = data.reshape(nbFiles * params.rampsPerFile, params.samplesPerRamp)"
   ]
  },
  {
   "cell_type": "code",
   "execution_count": 111,
   "metadata": {},
   "outputs": [],
   "source": [
    "#coupling = np.average(data_reshaped[0:params.rampsPerFile], axis = 0)\n",
    "coupling = np.average(data_reshaped, axis = 0)"
   ]
  },
  {
   "cell_type": "code",
   "execution_count": 112,
   "metadata": {},
   "outputs": [],
   "source": [
    "data_reshaped_without_coupling = data_reshaped - coupling"
   ]
  },
  {
   "cell_type": "code",
   "execution_count": 87,
   "metadata": {},
   "outputs": [],
   "source": [
    "plt.figure()\n",
    "plt.plot(data_reshaped[0,0:6000], label=\"data_reshaped\")\n",
    "plt.plot(coupling, label=\"coupling\")\n",
    "plt.legend()\n",
    "plt.grid()"
   ]
  },
  {
   "cell_type": "markdown",
   "metadata": {},
   "source": [
    "# IFFT"
   ]
  },
  {
   "cell_type": "code",
   "execution_count": 91,
   "metadata": {},
   "outputs": [],
   "source": [
    "ifft = np.fft.ifft( data_reshaped[:,0:3000], axis = 1 )"
   ]
  },
  {
   "cell_type": "code",
   "execution_count": 113,
   "metadata": {},
   "outputs": [],
   "source": [
    "ifft_without_coupling = np.fft.ifft( data_reshaped_without_coupling[:,0:3000], axis = 1 )"
   ]
  },
  {
   "cell_type": "code",
   "execution_count": 114,
   "metadata": {},
   "outputs": [
    {
     "data": {
      "text/plain": [
       "<matplotlib.image.AxesImage at 0x7f0f4c690c50>"
      ]
     },
     "execution_count": 114,
     "metadata": {},
     "output_type": "execute_result"
    }
   ],
   "source": [
    "plt.figure()\n",
    "plt.imshow(20 * np.log10(np.abs(ifft_without_coupling[::, 0:100])), aspect=\"auto\", cmap=\"jet\")"
   ]
  },
  {
   "cell_type": "code",
   "execution_count": 107,
   "metadata": {},
   "outputs": [],
   "source": [
    "def addRampOnPlot(ax, ramp, idxStart, idxStop):\n",
    "    ax.plot(20 * np.log10(np.abs(ifft_without_coupling[ramp, idxStart:idxStop])), label=\"ramp {}\".format(ramp))\n",
    "    \n",
    "def addRampOnPlotAbs(ax, ramp, idxStart, idxStop):\n",
    "    ax.plot(np.abs(ifft_without_coupling[ramp, idxStart:idxStop]), label=\"ramp {}\".format(ramp))"
   ]
  },
  {
   "cell_type": "code",
   "execution_count": 109,
   "metadata": {},
   "outputs": [],
   "source": [
    "plt.figure()\n",
    "ax = plt.gca()\n",
    "idxStart = 0\n",
    "idxStop = 100\n",
    "for ramp in range(12000, 13000,100):\n",
    "    addRampOnPlot(ax, ramp, idxStart, idxStop)\n",
    "plt.legend()\n",
    "plt.grid()"
   ]
  },
  {
   "cell_type": "code",
   "execution_count": 61,
   "metadata": {},
   "outputs": [
    {
     "data": {
      "text/plain": [
       "(21000, 6000)"
      ]
     },
     "execution_count": 61,
     "metadata": {},
     "output_type": "execute_result"
    }
   ],
   "source": [
    "plt.figure()\n",
    "plt.plot(  )"
   ]
  },
  {
   "cell_type": "code",
   "execution_count": 26,
   "metadata": {},
   "outputs": [],
   "source": [
    "loop = 2\n",
    "filename = data_dir + '/record' + str(loop) + '.bin'\n",
    "fd = open(filename,'rb')\n",
    "vals = np.zeros(params.rampsPerFile * params.samplesPerRamp * 2)\n",
    "\n",
    "vals = np.fromfile(fd, dtype = np.uint16, count = params.rampsPerFile * params.samplesPerRamp * 4)\n",
    "vals_0 = vals[::2].reshape(params.rampsPerFile, params.samplesPerRamp)\n",
    "vals_1 = vals[1::2].reshape(params.rampsPerFile, params.samplesPerRamp)"
   ]
  },
  {
   "cell_type": "code",
   "execution_count": null,
   "metadata": {},
   "outputs": [],
   "source": []
  }
 ],
 "metadata": {
  "kernelspec": {
   "display_name": "Python 3",
   "language": "python",
   "name": "python3"
  },
  "language_info": {
   "codemirror_mode": {
    "name": "ipython",
    "version": 3
   },
   "file_extension": ".py",
   "mimetype": "text/x-python",
   "name": "python",
   "nbconvert_exporter": "python",
   "pygments_lexer": "ipython3",
   "version": "3.6.4"
  }
 },
 "nbformat": 4,
 "nbformat_minor": 2
}
