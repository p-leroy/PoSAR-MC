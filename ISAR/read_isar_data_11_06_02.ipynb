{
 "cells": [
  {
   "cell_type": "code",
   "execution_count": 1,
   "metadata": {},
   "outputs": [],
   "source": [
    "import numpy as np\n",
    "import matplotlib.pyplot as plt\n",
    "%matplotlib qt5"
   ]
  },
  {
   "cell_type": "code",
   "execution_count": 2,
   "metadata": {},
   "outputs": [],
   "source": [
    "import sys"
   ]
  },
  {
   "cell_type": "code",
   "execution_count": 3,
   "metadata": {},
   "outputs": [],
   "source": [
    "sys.path.insert(0, \"/home/pleroy/DEV/processing/focalization_python\")\n",
    "from posarutils.other.PosarMCParameters import *"
   ]
  },
  {
   "cell_type": "code",
   "execution_count": 4,
   "metadata": {},
   "outputs": [],
   "source": [
    "data_date = \"2018_02_23_11_06_02\"\n",
    "data_dir = \"/home/pleroy/DATA/ISAR/\" + data_date"
   ]
  },
  {
   "cell_type": "code",
   "execution_count": 5,
   "metadata": {},
   "outputs": [],
   "source": [
    "params_filename = data_dir + \"/\" + data_date + \"_parameters.xml\"\n",
    "params = PosarMCParameters_v2( params_filename )"
   ]
  },
  {
   "cell_type": "code",
   "execution_count": 6,
   "metadata": {},
   "outputs": [],
   "source": [
    "samplesPerFile = params.rampsPerFile * params.samplesPerRamp"
   ]
  },
  {
   "cell_type": "code",
   "execution_count": 8,
   "metadata": {},
   "outputs": [
    {
     "name": "stdout",
     "output_type": "stream",
     "text": [
      "samplesPerFile 9000000\n"
     ]
    }
   ],
   "source": [
    "print(\"samplesPerFile {}\".format(samplesPerFile))"
   ]
  },
  {
   "cell_type": "code",
   "execution_count": 9,
   "metadata": {},
   "outputs": [
    {
     "name": "stdout",
     "output_type": "stream",
     "text": [
      "file record0.bin\n",
      "file record2.bin\n",
      "file record4.bin\n",
      "file record6.bin\n",
      "file record8.bin\n",
      "file record10.bin\n",
      "file record12.bin\n",
      "file record14.bin\n",
      "file record16.bin\n",
      "file record18.bin\n",
      "file record20.bin\n"
     ]
    }
   ],
   "source": [
    "idxStart = 0\n",
    "idxStop = 20\n",
    "nbFiles = int( (idxStop - idxStart) / params.buffersPerFile + 1 )\n",
    "data = np.zeros(nbFiles * params.rampsPerFile * params.samplesPerRamp)\n",
    "tmp = np.zeros(params.rampsPerFile * params.samplesPerRamp * 2)\n",
    "idx = idxStart\n",
    "for k in range(nbFiles):\n",
    "    filename = data_dir + \"/record\" + str(idx) + \".bin\"\n",
    "    print(\"file \" + \"record\" + str(idx) + \".bin\")\n",
    "    fd = open(filename,'rb')\n",
    "    tmp = np.fromfile(fd, dtype = np.uint16, count = params.rampsPerFile * params.samplesPerRamp * 2)\n",
    "    data[ k * samplesPerFile : (k+1) * samplesPerFile] = tmp[::2]\n",
    "    idx = idx + params.buffersPerFile"
   ]
  },
  {
   "cell_type": "code",
   "execution_count": 10,
   "metadata": {},
   "outputs": [],
   "source": [
    "data_reshaped = data.reshape(nbFiles * params.rampsPerFile, params.samplesPerRamp)"
   ]
  },
  {
   "cell_type": "code",
   "execution_count": 17,
   "metadata": {},
   "outputs": [],
   "source": [
    "coupling = np.average(data_reshaped[0:params.rampsPerFile,:], axis = 0)"
   ]
  },
  {
   "cell_type": "code",
   "execution_count": 18,
   "metadata": {},
   "outputs": [],
   "source": [
    "data_reshaped_without_coupling = data_reshaped - coupling"
   ]
  },
  {
   "cell_type": "code",
   "execution_count": 19,
   "metadata": {},
   "outputs": [],
   "source": [
    "plt.figure()\n",
    "plt.plot(data_reshaped[0,0:6000], label=\"data_reshaped\")\n",
    "plt.plot(coupling, label=\"coupling\")\n",
    "plt.legend()\n",
    "plt.grid()"
   ]
  },
  {
   "cell_type": "code",
   "execution_count": 20,
   "metadata": {},
   "outputs": [],
   "source": [
    "#fft = np.fft.ifft( data_reshaped[:,0:3000], axis = 1 )"
   ]
  },
  {
   "cell_type": "code",
   "execution_count": 21,
   "metadata": {},
   "outputs": [],
   "source": [
    "fft_without_coupling = np.fft.ifft( data_reshaped_without_coupling[:,0:3000], axis = 1 )"
   ]
  },
  {
   "cell_type": "code",
   "execution_count": 24,
   "metadata": {},
   "outputs": [
    {
     "data": {
      "text/plain": [
       "<matplotlib.colorbar.Colorbar at 0x7f46c381fd68>"
      ]
     },
     "execution_count": 24,
     "metadata": {},
     "output_type": "execute_result"
    }
   ],
   "source": [
    "plt.figure()\n",
    "plt.imshow(20 * np.log10(np.abs(fft_without_coupling[::, 0:200])), aspect=\"auto\", cmap=\"jet\")\n",
    "plt.colorbar()"
   ]
  },
  {
   "cell_type": "code",
   "execution_count": 27,
   "metadata": {},
   "outputs": [
    {
     "data": {
      "text/plain": [
       "<matplotlib.colorbar.Colorbar at 0x7f46c4c87630>"
      ]
     },
     "execution_count": 27,
     "metadata": {},
     "output_type": "execute_result"
    }
   ],
   "source": [
    "plt.figure()\n",
    "plt.imshow(np.angle(fft_without_coupling[::, 0:200]), aspect=\"auto\", cmap=\"jet\")\n",
    "plt.colorbar()"
   ]
  },
  {
   "cell_type": "code",
   "execution_count": null,
   "metadata": {},
   "outputs": [],
   "source": [
    "plt.figure()\n",
    "plt.plot(20 * np.log10(np.abs(fft[10500, :])))\n",
    "plt.plot(20 * np.log10(np.abs(fft[0, :])))"
   ]
  },
  {
   "cell_type": "code",
   "execution_count": null,
   "metadata": {},
   "outputs": [],
   "source": [
    "fft.shape"
   ]
  },
  {
   "cell_type": "code",
   "execution_count": null,
   "metadata": {},
   "outputs": [],
   "source": [
    "loop = 2\n",
    "filename = data_dir + '/record' + str(loop) + '.bin'\n",
    "fd = open(filename,'rb')\n",
    "vals = np.zeros(params.rampsPerFile * params.samplesPerRamp * 2)\n",
    "\n",
    "vals = np.fromfile(fd, dtype = np.uint16, count = params.rampsPerFile * params.samplesPerRamp * 4)\n",
    "vals_0 = vals[::2].reshape(params.rampsPerFile, params.samplesPerRamp)\n",
    "vals_1 = vals[1::2].reshape(params.rampsPerFile, params.samplesPerRamp)"
   ]
  },
  {
   "cell_type": "code",
   "execution_count": null,
   "metadata": {},
   "outputs": [],
   "source": []
  }
 ],
 "metadata": {
  "kernelspec": {
   "display_name": "Python 3",
   "language": "python",
   "name": "python3"
  },
  "language_info": {
   "codemirror_mode": {
    "name": "ipython",
    "version": 3
   },
   "file_extension": ".py",
   "mimetype": "text/x-python",
   "name": "python",
   "nbconvert_exporter": "python",
   "pygments_lexer": "ipython3",
   "version": "3.6.4"
  }
 },
 "nbformat": 4,
 "nbformat_minor": 2
}
