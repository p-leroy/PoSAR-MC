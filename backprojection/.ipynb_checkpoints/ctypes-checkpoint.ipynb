{
 "cells": [
  {
   "cell_type": "code",
   "execution_count": 1,
   "metadata": {},
   "outputs": [],
   "source": [
    "from ctypes import *\n",
    "from ctypes import pointer\n",
    "import numpy as np\n",
    "from numpy import ctypeslib\n",
    "import scipy.signal as signal\n",
    "\n",
    "import matplotlib.pyplot as plt\n",
    "%matplotlib qt5"
   ]
  },
  {
   "cell_type": "code",
   "execution_count": 17,
   "metadata": {},
   "outputs": [],
   "source": [
    "mydll = cdll.LoadLibrary(\"ccpp/libbackprojection/liblibbackprojection.so\")"
   ]
  },
  {
   "cell_type": "code",
   "execution_count": null,
   "metadata": {},
   "outputs": [],
   "source": [
    "a = np.arange(10) + 1j * np.arange(10)\n",
    "#a = np.ascontiguousarray(a)\n",
    "b = np.zeros( a.size, dtype=complex )"
   ]
  },
  {
   "cell_type": "code",
   "execution_count": 18,
   "metadata": {},
   "outputs": [
    {
     "ename": "AttributeError",
     "evalue": "ccpp/libbackprojection/liblibbackprojection.so: undefined symbol: computeAndSavePlans",
     "output_type": "error",
     "traceback": [
      "\u001b[0;31m---------------------------------------------------------------------------\u001b[0m",
      "\u001b[0;31mAttributeError\u001b[0m                            Traceback (most recent call last)",
      "\u001b[0;32m<ipython-input-18-af939f405281>\u001b[0m in \u001b[0;36m<module>\u001b[0;34m()\u001b[0m\n\u001b[1;32m     14\u001b[0m                            \u001b[0mctypeslib\u001b[0m\u001b[0;34m.\u001b[0m\u001b[0mndpointer\u001b[0m\u001b[0;34m(\u001b[0m\u001b[0mcomplex\u001b[0m\u001b[0;34m,\u001b[0m \u001b[0mndim\u001b[0m\u001b[0;34m=\u001b[0m\u001b[0;36m1\u001b[0m\u001b[0;34m,\u001b[0m \u001b[0mflags\u001b[0m\u001b[0;34m=\u001b[0m\u001b[0;34m'C'\u001b[0m\u001b[0;34m)\u001b[0m\u001b[0;34m,\u001b[0m\u001b[0;34m\u001b[0m\u001b[0m\n\u001b[1;32m     15\u001b[0m                            \u001b[0mctypeslib\u001b[0m\u001b[0;34m.\u001b[0m\u001b[0mndpointer\u001b[0m\u001b[0;34m(\u001b[0m\u001b[0mcomplex\u001b[0m\u001b[0;34m,\u001b[0m \u001b[0mndim\u001b[0m\u001b[0;34m=\u001b[0m\u001b[0;36m1\u001b[0m\u001b[0;34m,\u001b[0m \u001b[0mflags\u001b[0m\u001b[0;34m=\u001b[0m\u001b[0;34m'C'\u001b[0m\u001b[0;34m)\u001b[0m\u001b[0;34m,\u001b[0m\u001b[0;34m\u001b[0m\u001b[0m\n\u001b[0;32m---> 16\u001b[0;31m                            \u001b[0mc_int\u001b[0m\u001b[0;34m\u001b[0m\u001b[0m\n\u001b[0m\u001b[1;32m     17\u001b[0m                           ]\n",
      "\u001b[0;32m/usr/lib64/python3.6/ctypes/__init__.py\u001b[0m in \u001b[0;36m__getattr__\u001b[0;34m(self, name)\u001b[0m\n\u001b[1;32m    354\u001b[0m         \u001b[0;32mif\u001b[0m \u001b[0mname\u001b[0m\u001b[0;34m.\u001b[0m\u001b[0mstartswith\u001b[0m\u001b[0;34m(\u001b[0m\u001b[0;34m'__'\u001b[0m\u001b[0;34m)\u001b[0m \u001b[0;32mand\u001b[0m \u001b[0mname\u001b[0m\u001b[0;34m.\u001b[0m\u001b[0mendswith\u001b[0m\u001b[0;34m(\u001b[0m\u001b[0;34m'__'\u001b[0m\u001b[0;34m)\u001b[0m\u001b[0;34m:\u001b[0m\u001b[0;34m\u001b[0m\u001b[0m\n\u001b[1;32m    355\u001b[0m             \u001b[0;32mraise\u001b[0m \u001b[0mAttributeError\u001b[0m\u001b[0;34m(\u001b[0m\u001b[0mname\u001b[0m\u001b[0;34m)\u001b[0m\u001b[0;34m\u001b[0m\u001b[0m\n\u001b[0;32m--> 356\u001b[0;31m         \u001b[0mfunc\u001b[0m \u001b[0;34m=\u001b[0m \u001b[0mself\u001b[0m\u001b[0;34m.\u001b[0m\u001b[0m__getitem__\u001b[0m\u001b[0;34m(\u001b[0m\u001b[0mname\u001b[0m\u001b[0;34m)\u001b[0m\u001b[0;34m\u001b[0m\u001b[0m\n\u001b[0m\u001b[1;32m    357\u001b[0m         \u001b[0msetattr\u001b[0m\u001b[0;34m(\u001b[0m\u001b[0mself\u001b[0m\u001b[0;34m,\u001b[0m \u001b[0mname\u001b[0m\u001b[0;34m,\u001b[0m \u001b[0mfunc\u001b[0m\u001b[0;34m)\u001b[0m\u001b[0;34m\u001b[0m\u001b[0m\n\u001b[1;32m    358\u001b[0m         \u001b[0;32mreturn\u001b[0m \u001b[0mfunc\u001b[0m\u001b[0;34m\u001b[0m\u001b[0m\n",
      "\u001b[0;32m/usr/lib64/python3.6/ctypes/__init__.py\u001b[0m in \u001b[0;36m__getitem__\u001b[0;34m(self, name_or_ordinal)\u001b[0m\n\u001b[1;32m    359\u001b[0m \u001b[0;34m\u001b[0m\u001b[0m\n\u001b[1;32m    360\u001b[0m     \u001b[0;32mdef\u001b[0m \u001b[0m__getitem__\u001b[0m\u001b[0;34m(\u001b[0m\u001b[0mself\u001b[0m\u001b[0;34m,\u001b[0m \u001b[0mname_or_ordinal\u001b[0m\u001b[0;34m)\u001b[0m\u001b[0;34m:\u001b[0m\u001b[0;34m\u001b[0m\u001b[0m\n\u001b[0;32m--> 361\u001b[0;31m         \u001b[0mfunc\u001b[0m \u001b[0;34m=\u001b[0m \u001b[0mself\u001b[0m\u001b[0;34m.\u001b[0m\u001b[0m_FuncPtr\u001b[0m\u001b[0;34m(\u001b[0m\u001b[0;34m(\u001b[0m\u001b[0mname_or_ordinal\u001b[0m\u001b[0;34m,\u001b[0m \u001b[0mself\u001b[0m\u001b[0;34m)\u001b[0m\u001b[0;34m)\u001b[0m\u001b[0;34m\u001b[0m\u001b[0m\n\u001b[0m\u001b[1;32m    362\u001b[0m         \u001b[0;32mif\u001b[0m \u001b[0;32mnot\u001b[0m \u001b[0misinstance\u001b[0m\u001b[0;34m(\u001b[0m\u001b[0mname_or_ordinal\u001b[0m\u001b[0;34m,\u001b[0m \u001b[0mint\u001b[0m\u001b[0;34m)\u001b[0m\u001b[0;34m:\u001b[0m\u001b[0;34m\u001b[0m\u001b[0m\n\u001b[1;32m    363\u001b[0m             \u001b[0mfunc\u001b[0m\u001b[0;34m.\u001b[0m\u001b[0m__name__\u001b[0m \u001b[0;34m=\u001b[0m \u001b[0mname_or_ordinal\u001b[0m\u001b[0;34m\u001b[0m\u001b[0m\n",
      "\u001b[0;31mAttributeError\u001b[0m: ccpp/libbackprojection/liblibbackprojection.so: undefined symbol: computeAndSavePlans"
     ]
    }
   ],
   "source": [
    "mydll.backProjection.argtypes = [ctypeslib.ndpointer(complex, ndim=1, flags='C'), \n",
    "                                 ctypeslib.ndpointer(complex, ndim=1, flags='C'),\n",
    "                                 c_int]\n",
    "mydll.resample.argtypes = [ctypeslib.ndpointer(complex, ndim=1, flags='C'), \n",
    "                           ctypeslib.ndpointer(complex, ndim=1, flags='C'),\n",
    "                           c_int,\n",
    "                           ctypeslib.ndpointer(complex, ndim=1, flags='C'), \n",
    "                           ctypeslib.ndpointer(complex, ndim=1, flags='C'),\n",
    "                           c_int\n",
    "                          ]\n",
    "mydll.measureAndSavePlans.argtypes = [ctypeslib.ndpointer(complex, ndim=1, flags='C'), \n",
    "                           ctypeslib.ndpointer(complex, ndim=1, flags='C'),\n",
    "                           c_int,\n",
    "                           ctypeslib.ndpointer(complex, ndim=1, flags='C'), \n",
    "                           ctypeslib.ndpointer(complex, ndim=1, flags='C'),\n",
    "                           c_int\n",
    "                          ]"
   ]
  },
  {
   "cell_type": "code",
   "execution_count": null,
   "metadata": {},
   "outputs": [],
   "source": [
    "a"
   ]
  },
  {
   "cell_type": "code",
   "execution_count": null,
   "metadata": {},
   "outputs": [],
   "source": [
    "mydll.backProjection( a, b, a.size )"
   ]
  },
  {
   "cell_type": "code",
   "execution_count": null,
   "metadata": {},
   "outputs": [],
   "source": [
    "b"
   ]
  },
  {
   "cell_type": "code",
   "execution_count": null,
   "metadata": {},
   "outputs": [],
   "source": [
    "mydll_cpp = cdll.LoadLibrary(\"ccpp/test_cpp.so\")"
   ]
  },
  {
   "cell_type": "code",
   "execution_count": null,
   "metadata": {},
   "outputs": [],
   "source": [
    "mydll_cpp.sum(5,3)"
   ]
  },
  {
   "cell_type": "markdown",
   "metadata": {},
   "source": [
    "# Resampling"
   ]
  },
  {
   "cell_type": "markdown",
   "metadata": {},
   "source": [
    "## With numpy"
   ]
  },
  {
   "cell_type": "code",
   "execution_count": null,
   "metadata": {},
   "outputs": [],
   "source": [
    "nbPoints = 1000\n",
    "teta = np.linspace(-10*np.pi, 10*np.pi, nbPoints)\n",
    "a = nbPoints * np.sin(teta) + 1j * np.arange(nbPoints)"
   ]
  },
  {
   "cell_type": "code",
   "execution_count": null,
   "metadata": {},
   "outputs": [],
   "source": [
    "plt.figure()\n",
    "plt.plot(np.real(a), label=\"real\")\n",
    "plt.plot(np.imag(a), label=\"imag\")\n",
    "plt.plot(np.abs(a), label=\"abs\")\n",
    "plt.legend()"
   ]
  },
  {
   "cell_type": "code",
   "execution_count": null,
   "metadata": {},
   "outputs": [],
   "source": [
    "fft_a = np.fft.fft(a)\n",
    "upSampling = 4"
   ]
  },
  {
   "cell_type": "code",
   "execution_count": null,
   "metadata": {},
   "outputs": [],
   "source": [
    "fft_b = np.zeros(fft_a.shape[0]*upSampling, dtype=complex)\n",
    "nbPoints2 = int( nbPoints / 2 ) + nbPoints%2\n",
    "fft_b[0:nbPoints2] = fft_a[0:nbPoints2]\n",
    "fft_b[-nbPoints2:] = fft_a[-nbPoints2:]\n",
    "b = np.fft.ifft( fft_b ) * 4"
   ]
  },
  {
   "cell_type": "code",
   "execution_count": null,
   "metadata": {},
   "outputs": [],
   "source": [
    "ta = np.arange(nbPoints)\n",
    "tb = np.arange(nbPoints*upSampling)/upSampling\n",
    "\n",
    "plt.figure()\n",
    "\n",
    "plt.plot(tb, np.real(b), '.', label=\"b real\")\n",
    "plt.plot(tb, np.imag(b), '.', label=\"b imag\")\n",
    "plt.plot(tb, np.abs(b), '.',label=\"b abs\")\n",
    "\n",
    "plt.plot(ta, np.real(a), 'o-', label=\"a real\")\n",
    "plt.plot(ta, np.imag(a), 'o-', label=\"a imag\")\n",
    "plt.plot(ta, np.abs(a), 'o-', label=\"a abs\")\n",
    "\n",
    "plt.legend()"
   ]
  },
  {
   "cell_type": "markdown",
   "metadata": {},
   "source": [
    "## With ctypes"
   ]
  },
  {
   "cell_type": "code",
   "execution_count": 14,
   "metadata": {},
   "outputs": [
    {
     "data": {
      "text/plain": [
       "30000"
      ]
     },
     "execution_count": 14,
     "metadata": {},
     "output_type": "execute_result"
    }
   ],
   "source": [
    "Nx = 3000\n",
    "upSampling = 10\n",
    "Ny = Nx * upSampling\n",
    "\n",
    "teta = np.linspace(-10*np.pi, 10*np.pi, Nx)\n",
    "x = Nx * np.sin(teta) + 1j * np.arange(Nx)\n",
    "fftx = np.zeros( Nx, dtype=complex )\n",
    "y = np.zeros( Ny, dtype=complex )\n",
    "ffty = np.zeros( y.shape, dtype=complex )\n",
    "\n",
    "mydll.resample(x, fftx, Nx, y, ffty, Ny )"
   ]
  },
  {
   "cell_type": "code",
   "execution_count": 11,
   "metadata": {},
   "outputs": [
    {
     "data": {
      "text/plain": [
       "<matplotlib.legend.Legend at 0x7f3cec02bba8>"
      ]
     },
     "execution_count": 11,
     "metadata": {},
     "output_type": "execute_result"
    }
   ],
   "source": [
    "tx = np.arange(Nx)\n",
    "ty = np.arange(Ny)/upSampling\n",
    "\n",
    "plt.figure()\n",
    "\n",
    "plt.plot(tx, np.real(x), 'o-', label=\"x real\")\n",
    "plt.plot(tx, np.imag(x), 'o-', label=\"x imag\")\n",
    "plt.plot(tx, np.abs(x), 'o-',label=\"x abs\")\n",
    "\n",
    "plt.plot(ty, np.real(y/Nx), '.-', label=\"y real\")\n",
    "plt.plot(ty, np.imag(y/Nx), '.-', label=\"y imag\")\n",
    "plt.plot(ty, np.abs(y/Nx), '.-', label=\"y abs\")\n",
    "\n",
    "plt.legend()"
   ]
  },
  {
   "cell_type": "code",
   "execution_count": 7,
   "metadata": {},
   "outputs": [],
   "source": [
    "import timeit"
   ]
  },
  {
   "cell_type": "code",
   "execution_count": 15,
   "metadata": {},
   "outputs": [
    {
     "name": "stdout",
     "output_type": "stream",
     "text": [
      "1.23 ms ± 827 ns per loop (mean ± std. dev. of 7 runs, 1000 loops each)\n"
     ]
    }
   ],
   "source": [
    "%timeit signal.resample( x, Ny )"
   ]
  },
  {
   "cell_type": "code",
   "execution_count": 16,
   "metadata": {},
   "outputs": [
    {
     "name": "stdout",
     "output_type": "stream",
     "text": [
      "910 µs ± 707 ns per loop (mean ± std. dev. of 7 runs, 1000 loops each)\n"
     ]
    }
   ],
   "source": [
    "%timeit mydll.resample(x, fftx, Nx, y, ffty, Ny )"
   ]
  },
  {
   "cell_type": "code",
   "execution_count": null,
   "metadata": {},
   "outputs": [],
   "source": []
  }
 ],
 "metadata": {
  "kernelspec": {
   "display_name": "Python 3",
   "language": "python",
   "name": "python3"
  },
  "language_info": {
   "codemirror_mode": {
    "name": "ipython",
    "version": 3
   },
   "file_extension": ".py",
   "mimetype": "text/x-python",
   "name": "python",
   "nbconvert_exporter": "python",
   "pygments_lexer": "ipython3",
   "version": "3.6.3"
  }
 },
 "nbformat": 4,
 "nbformat_minor": 2
}
