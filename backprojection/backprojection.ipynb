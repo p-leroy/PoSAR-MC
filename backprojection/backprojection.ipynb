{
 "cells": [
  {
   "cell_type": "code",
   "execution_count": 1,
   "metadata": {},
   "outputs": [],
   "source": [
    "import numpy as np\n",
    "import matplotlib.pyplot as plt\n",
    "import numexpr as ne\n",
    "import scipy.signal as signal\n",
    "%matplotlib qt5"
   ]
  },
  {
   "cell_type": "code",
   "execution_count": 2,
   "metadata": {},
   "outputs": [
    {
     "name": "stdout",
     "output_type": "stream",
     "text": [
      "kc = 242.95, B = 150000000.0\n"
     ]
    }
   ],
   "source": [
    "rampsPerFile = 1500\n",
    "samplesPerRamp = 6000\n",
    "samplesPerUpRamp = 3000\n",
    "nbFiles = 10\n",
    "\n",
    "fmin = 5.725e9\n",
    "fMAX = 5.875e9\n",
    "fc = 5.8e9\n",
    "B = fMAX - fmin\n",
    "T = 600e-6\n",
    "alpha = (fMAX - fmin) / T\n",
    "c = 3e8\n",
    "kc = 4 * np.pi * fc / c\n",
    "\n",
    "V = 40\n",
    "\n",
    "print( \"kc = {:.2f}, B = {}\".format(kc, B) )"
   ]
  },
  {
   "cell_type": "code",
   "execution_count": 3,
   "metadata": {},
   "outputs": [],
   "source": [
    "Naz = nbFiles * rampsPerFile\n",
    "xa_vec = np.arange( Naz ) * T * V"
   ]
  },
  {
   "cell_type": "markdown",
   "metadata": {},
   "source": [
    "### Image geometry"
   ]
  },
  {
   "cell_type": "code",
   "execution_count": 29,
   "metadata": {},
   "outputs": [],
   "source": [
    "x_min = 180\n",
    "x_max = 192\n",
    "r_min = 50\n",
    "r_max = 150\n",
    "\n",
    "#extent=[horizontal_min,horizontal_max,vertical_min,vertical_max]\n",
    "extent=[r_min,r_max,x_max,x_min]\n",
    "\n",
    "d_x = 0.1\n",
    "d_r = 0.1\n",
    "\n",
    "x = np.arange( x_min, x_max, d_x )\n",
    "x = x.reshape( x.size, 1 )\n",
    "r = np.arange( r_min, r_max, d_r )\n",
    "r = r.reshape( 1, r.size )"
   ]
  },
  {
   "cell_type": "markdown",
   "metadata": {},
   "source": [
    "### Read samples"
   ]
  },
  {
   "cell_type": "code",
   "execution_count": 23,
   "metadata": {},
   "outputs": [],
   "source": [
    "data_dir = \"/home/pleroy/DATA/SIMU\""
   ]
  },
  {
   "cell_type": "code",
   "execution_count": 57,
   "metadata": {},
   "outputs": [
    {
     "name": "stdout",
     "output_type": "stream",
     "text": [
      "adc.shape = (15000, 3000)\n"
     ]
    }
   ],
   "source": [
    "firstFile = 0\n",
    "lastFile = 9\n",
    "adc = np.load(data_dir + '/adc_files_{}_{}.npy'.format(firstFile, lastFile) ) \n",
    "print( \"adc.shape = {}\".format( adc.shape ) )"
   ]
  },
  {
   "cell_type": "code",
   "execution_count": 58,
   "metadata": {},
   "outputs": [
    {
     "name": "stdout",
     "output_type": "stream",
     "text": [
      "ramp_corner = 6250\n"
     ]
    }
   ],
   "source": [
    "# conversion to analytic signal\n",
    "az_corner = 150\n",
    "ramp_corner = int( az_corner / (V * T) )\n",
    "adc0 = np.real(adc[ramp_corner, :])\n",
    "ifft_adc0 = np.fft.ifft(adc0)\n",
    "print(\"ramp_corner = {}\".format(ramp_corner))"
   ]
  },
  {
   "cell_type": "code",
   "execution_count": 59,
   "metadata": {},
   "outputs": [],
   "source": [
    "plt.figure()\n",
    "\n",
    "plt.subplot(221)\n",
    "plt.plot(adc0)\n",
    "plt.grid()\n",
    "\n",
    "plt.subplot(222)\n",
    "plt.plot(20 * np.log10(np.abs(ifft_adc0)))\n",
    "plt.grid()\n",
    "\n",
    "plt.subplot(223)\n",
    "plt.plot(np.real(ifft_adc0))\n",
    "plt.grid()\n",
    "\n",
    "plt.subplot(224)\n",
    "plt.plot(np.imag(ifft_adc0))\n",
    "plt.grid()"
   ]
  },
  {
   "cell_type": "code",
   "execution_count": 52,
   "metadata": {},
   "outputs": [],
   "source": [
    "srf = np.fft.ifft( adc, axis=1 )"
   ]
  },
  {
   "cell_type": "code",
   "execution_count": 53,
   "metadata": {},
   "outputs": [
    {
     "name": "stdout",
     "output_type": "stream",
     "text": [
      "rangeResolution = 1.0, 0.00 to 2999.75\n"
     ]
    }
   ],
   "source": [
    "overSamplingRatio = 4\n",
    "nbPointsResampled = overSamplingRatio * srf.shape[1]\n",
    "rangeResolution = c / (2 * B)\n",
    "r_oversampled = np.arange( 0, nbPointsResampled ) * rangeResolution / overSamplingRatio\n",
    "print( \"rangeResolution = {}, {:.2f} to {:.2f}\".format( rangeResolution, r_oversampled[0], r_oversampled[-1] ) )"
   ]
  },
  {
   "cell_type": "markdown",
   "metadata": {},
   "source": [
    "### Backprojection"
   ]
  },
  {
   "cell_type": "code",
   "execution_count": 38,
   "metadata": {},
   "outputs": [
    {
     "name": "stdout",
     "output_type": "stream",
     "text": [
      "img.shape = (120, 1000), x.shape = (120, 1), r.shape = (1, 1000)\n",
      "0 / 15000\n",
      "1000 / 15000\n",
      "2000 / 15000\n",
      "3000 / 15000\n",
      "4000 / 15000\n",
      "5000 / 15000\n",
      "6000 / 15000\n",
      "7000 / 15000\n",
      "8000 / 15000\n",
      "9000 / 15000\n",
      "10000 / 15000\n",
      "11000 / 15000\n",
      "12000 / 15000\n",
      "13000 / 15000\n",
      "14000 / 15000\n"
     ]
    }
   ],
   "source": [
    "nbLoops = xa_vec.size\n",
    "loop = 0\n",
    "img  = np.zeros( (x.size, r.size), dtype=complex )\n",
    "print( \"img.shape = {}, x.shape = {}, r.shape = {}\".format( img.shape, x.shape, r.shape ) )\n",
    "#ne.set_num_threads(8)\n",
    "for xa in xa_vec:\n",
    "    if loop%1000 == 0:\n",
    "        print( \"{} / {}\".format(loop, nbLoops ) )\n",
    "    img += np.exp( 1j * kc * (r**2 + (xa-x)**2 )**0.5 ) \\\n",
    "            * np.interp( (r**2 + (xa-x)**2 )**0.5, r_oversampled, signal.resample( srf[loop,:], nbPointsResampled  ) )\n",
    "    loop += 1\n",
    "# np.exp( -1j * kc * r) \\"
   ]
  },
  {
   "cell_type": "code",
   "execution_count": 39,
   "metadata": {},
   "outputs": [
    {
     "data": {
      "text/plain": [
       "<matplotlib.colorbar.Colorbar at 0x7f44667fdfd0>"
      ]
     },
     "execution_count": 39,
     "metadata": {},
     "output_type": "execute_result"
    }
   ],
   "source": [
    "plt.figure()\n",
    "plt.imshow( 20 * np.log10( np.abs( img ) ), cmap='jet', extent=extent )\n",
    "plt.grid()\n",
    "plt.colorbar(orientation=\"horizontal\")"
   ]
  },
  {
   "cell_type": "code",
   "execution_count": 16,
   "metadata": {},
   "outputs": [
    {
     "data": {
      "text/plain": [
       "<matplotlib.colorbar.Colorbar at 0x7f4436c4e748>"
      ]
     },
     "execution_count": 16,
     "metadata": {},
     "output_type": "execute_result"
    }
   ],
   "source": [
    "plt.figure()\n",
    "plt.imshow( ((r**2 + (175-x)**2 )**0.5) )\n",
    "plt.colorbar()"
   ]
  },
  {
   "cell_type": "code",
   "execution_count": 17,
   "metadata": {},
   "outputs": [],
   "source": [
    "plt.figure()\n",
    "plt.plot( ((r**2 + (175-x)**2 )**0.5)[:,0] )\n",
    "plt.grid()"
   ]
  },
  {
   "cell_type": "code",
   "execution_count": 19,
   "metadata": {},
   "outputs": [
    {
     "data": {
      "text/plain": [
       "(100, 200)"
      ]
     },
     "execution_count": 19,
     "metadata": {},
     "output_type": "execute_result"
    }
   ],
   "source": [
    "img.shape"
   ]
  },
  {
   "cell_type": "markdown",
   "metadata": {},
   "source": [
    "### Resample"
   ]
  },
  {
   "cell_type": "code",
   "execution_count": 56,
   "metadata": {},
   "outputs": [
    {
     "data": {
      "text/plain": [
       "<matplotlib.image.AxesImage at 0x7f4464845828>"
      ]
     },
     "execution_count": 56,
     "metadata": {},
     "output_type": "execute_result"
    }
   ],
   "source": [
    "plt.imshow( 20 * np.log10( np.abs( srf[::10, :] ) ) )"
   ]
  },
  {
   "cell_type": "code",
   "execution_count": null,
   "metadata": {},
   "outputs": [],
   "source": [
    "nbPointsResampled = 4 * srf.shape[1]\n",
    "srf_resampled = signal.resample( srf[0,:], nbPointsResampled  )\n",
    "print( \"srf.shape = {}, srf_resamples.shape = {}\".format( srf.shape, srf_resampled.shape ) )"
   ]
  },
  {
   "cell_type": "code",
   "execution_count": null,
   "metadata": {},
   "outputs": [],
   "source": [
    "up_vec  = np.zeros( nbPointsResampled, dtype = complex )\n",
    "vec_RD  = np.zeros( nbPointsResampled, dtype = complex  )\n",
    "\n",
    "Nf = srf.shape[1]\n",
    "\n",
    "vec_ind = int( np.ceil( ( Nf + 1 ) / 2 ) )\n",
    "\n",
    "pos = 0\n",
    "#upsample raw data\n",
    "vec_RD[ 0 : vec_ind ] = adc[ pos, 0 : vec_ind ]\n",
    "vec_RD[ - ( Nf - vec_ind ) : ] = adc[ pos, vec_ind : ]\n",
    "# vec_RD contains RD(pos,:) and zeros: up-sampling\n",
    "\n",
    "up_vec = np.fft.ifft( vec_RD ) # Transformation to time domain\n",
    "\n",
    "print( \"adc.shape = {}, vec_ind = {}, vec_RD.shape = {}\".format( adc.shape, vec_ind, vec_RD.shape ) )"
   ]
  },
  {
   "cell_type": "code",
   "execution_count": null,
   "metadata": {},
   "outputs": [],
   "source": [
    "plt.figure()\n",
    "plt.subplot(211)\n",
    "plt.plot( np.arange( srf.shape[1] ), np.real( srf[0,:] ), 'go-' )\n",
    "plt.plot( np.arange( nbPointsResampled ) / 4, np.real( srf_resampled ), 'b.-' )\n",
    "plt.plot( np.arange( nbPointsResampled ) / 4, np.real( up_vec ) * 4, '.-', color=\"pink\" )\n",
    "ax = plt.gca()\n",
    "plt.subplot(212, sharex=ax)\n",
    "plt.plot( np.arange( srf.shape[1] ), np.imag( srf[0,:] ), 'go-' )\n",
    "plt.plot( np.arange( nbPointsResampled ) / 4, np.imag( srf_resampled ), 'b.-' )\n",
    "plt.plot( np.arange( nbPointsResampled ) / 4, np.imag( up_vec ) * 4, '.-', color=\"pink\" )"
   ]
  },
  {
   "cell_type": "code",
   "execution_count": null,
   "metadata": {},
   "outputs": [],
   "source": []
  }
 ],
 "metadata": {
  "kernelspec": {
   "display_name": "Python 3",
   "language": "python",
   "name": "python3"
  },
  "language_info": {
   "codemirror_mode": {
    "name": "ipython",
    "version": 3
   },
   "file_extension": ".py",
   "mimetype": "text/x-python",
   "name": "python",
   "nbconvert_exporter": "python",
   "pygments_lexer": "ipython3",
   "version": "3.6.3"
  }
 },
 "nbformat": 4,
 "nbformat_minor": 2
}
