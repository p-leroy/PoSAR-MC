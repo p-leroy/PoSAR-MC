{
 "cells": [
  {
   "cell_type": "code",
   "execution_count": 1,
   "metadata": {
    "collapsed": true
   },
   "outputs": [],
   "source": [
    "import numpy as np\n",
    "import matplotlib.pyplot as plt\n",
    "%matplotlib qt5"
   ]
  },
  {
   "cell_type": "code",
   "execution_count": 2,
   "metadata": {
    "collapsed": true
   },
   "outputs": [],
   "source": [
    "import sys"
   ]
  },
  {
   "cell_type": "code",
   "execution_count": 3,
   "metadata": {
    "collapsed": true
   },
   "outputs": [],
   "source": [
    "%load_ext autoreload\n",
    "%autoreload 2"
   ]
  },
  {
   "cell_type": "code",
   "execution_count": 4,
   "metadata": {
    "collapsed": true
   },
   "outputs": [],
   "source": [
    "sys.path.insert(0, \"/home/pleroy/DEV/processing/focalization_python\")\n",
    "from posarutils.other.read_data_and_build_rd import *"
   ]
  },
  {
   "cell_type": "code",
   "execution_count": 78,
   "metadata": {
    "collapsed": true
   },
   "outputs": [],
   "source": [
    "fmin = 5.725e9\n",
    "fMAX = 5.875e9\n",
    "f0 = 5.8e9\n",
    "B = fMAX - fmin\n",
    "T = 600e-6\n",
    "alpha = 2 * (fMAX - fmin) / T\n",
    "c = 3e8"
   ]
  },
  {
   "cell_type": "code",
   "execution_count": 79,
   "metadata": {
    "collapsed": true
   },
   "outputs": [],
   "source": [
    "t = np.arange( 0, T, 100e-9)"
   ]
  },
  {
   "cell_type": "code",
   "execution_count": 80,
   "metadata": {
    "collapsed": true
   },
   "outputs": [],
   "source": [
    "def sr( t, r, n ):\n",
    "    \n",
    "    tau = 2 * r / c\n",
    "    \n",
    "    y = np.zeros( t.shape, dtype=complex )\n",
    "    \n",
    "    # up ramp\n",
    "    idx = np.where( t <= T/2  )\n",
    "    y[0:3000] = np.exp( -1j * 2  * np.pi * f0 * tau ) \\\n",
    "    * np.exp( 1j * np.pi * alpha * tau**2 ) \\\n",
    "    * np.exp(  -1j * 2 * np.pi * alpha * (t[0:3000] + n*T) * tau )\n",
    "    \n",
    "    # down ramp\n",
    "    idx = np.where( T/2 < t )\n",
    "    y[3000:6000] = np.exp( -1j * 2  * np.pi * f0 * tau ) \\\n",
    "    * np.exp( 1j * np.pi * (-alpha) * tau**2 ) \\\n",
    "    * np.exp(  -1j * 2 * np.pi * (-alpha) * (t[3000:6000] + n*T) * tau )\n",
    "    \n",
    "    return np.real( y )"
   ]
  },
  {
   "cell_type": "markdown",
   "metadata": {},
   "source": [
    "Let us build the equivalent of 10 files of data"
   ]
  },
  {
   "cell_type": "code",
   "execution_count": 43,
   "metadata": {
    "collapsed": true
   },
   "outputs": [],
   "source": [
    "rampsPerFile = 1500\n",
    "samplesPerRamp = 6000\n",
    "nbFiles = 20\n",
    "adc = np.zeros( nbFiles * rampsPerFile * samplesPerRamp )"
   ]
  },
  {
   "cell_type": "code",
   "execution_count": 44,
   "metadata": {},
   "outputs": [
    {
     "name": "stdout",
     "output_type": "stream",
     "text": [
      "Laz = 720, phi = 56.26408665659793\n"
     ]
    }
   ],
   "source": [
    "Laz = V * nbFiles * rampsPerFile * T\n",
    "phi = np.arctan( (Laz/2) / rg_corner )\n",
    "print( \"Laz = {:.0f}, phi = {}\".format( Laz, phi * 180 / np.pi ) )"
   ]
  },
  {
   "cell_type": "code",
   "execution_count": 45,
   "metadata": {
    "collapsed": true
   },
   "outputs": [],
   "source": [
    "a = 0.603354564402\n",
    "b = a * 180 / (30 * np.pi) # see the Newton method at the bottom of the notebook\n",
    "def wa( az, rg0 ):\n",
    "    Rn = ( rg0**2 + az**2 )**0.5\n",
    "    wa = np.sinc( b * np.arccos( rg0 / Rn ) )**2\n",
    "    return wa"
   ]
  },
  {
   "cell_type": "code",
   "execution_count": 87,
   "metadata": {},
   "outputs": [
    {
     "name": "stdout",
     "output_type": "stream",
     "text": [
      "0, wa = 0.5, phi = 21.1\n",
      "1000, wa = 0.6, phi = 18.6\n",
      "2000, wa = 0.7, phi = 16.0\n",
      "3000, wa = 0.8, phi = 13.3\n",
      "4000, wa = 0.9, phi = 10.6\n",
      "5000, wa = 0.9, phi = 7.8\n",
      "6000, wa = 1.0, phi = 5.0\n",
      "7000, wa = 1.0, phi = 2.1\n",
      "8000, wa = 1.0, phi = 0.7\n",
      "9000, wa = 1.0, phi = 3.6\n",
      "10000, wa = 0.9, phi = 6.4\n",
      "11000, wa = 0.9, phi = 9.2\n",
      "12000, wa = 0.8, phi = 12.0\n",
      "13000, wa = 0.7, phi = 14.7\n",
      "14000, wa = 0.7, phi = 17.3\n",
      "15000, wa = 0.6, phi = 19.9\n",
      "16000, wa = 0.5, phi = 22.4\n",
      "17000, wa = 0.4, phi = 24.8\n",
      "18000, wa = 0.3, phi = 27.1\n",
      "19000, wa = 0.3, phi = 29.3\n",
      "20000, wa = 0.2, phi = 31.4\n",
      "21000, wa = 0.2, phi = 33.5\n",
      "22000, wa = 0.1, phi = 35.4\n",
      "23000, wa = 0.1, phi = 37.3\n",
      "24000, wa = 0.1, phi = 39.0\n",
      "25000, wa = 0.0, phi = 40.7\n",
      "26000, wa = 0.0, phi = 42.3\n",
      "27000, wa = 0.0, phi = 43.9\n",
      "28000, wa = 0.0, phi = 45.3\n",
      "29000, wa = 0.0, phi = 46.7\n"
     ]
    }
   ],
   "source": [
    "V = 40\n",
    "hPlane = 430\n",
    "hCorner = 90\n",
    "rg_corner = ( hPlane - hCorner ) * 2**0.5\n",
    "gr_corner = hPlane - hCorner\n",
    "az_corner = 186\n",
    "noise = 1\n",
    "\n",
    "for n in range( nbFiles * rampsPerFile):\n",
    "    az = n * V * T\n",
    "    Rn = ( rg_corner**2 + (az - az_corner)**2 )**0.5\n",
    "    # azmimuth beam pattern effect + \n",
    "    adc[ n * samplesPerRamp : (n+1) * samplesPerRamp ] = sr( t, Rn, n ) * wa( az - az_corner, rg_corner ) \\\n",
    "    + np.random.randn( 6000 ) * noise\n",
    "    if n%1000 == 0:\n",
    "        phi = np.arccos( rg_corner / Rn ) * 180 / np.pi\n",
    "        print( \"{}, wa = {:.1f}, phi = {:.1f}\".format( n, wa( az - az_corner, rg_corner ), phi ) )"
   ]
  },
  {
   "cell_type": "code",
   "execution_count": 88,
   "metadata": {
    "collapsed": true
   },
   "outputs": [],
   "source": [
    "adc_reshaped = adc.reshape( (nbFiles * rampsPerFile, samplesPerRamp) )"
   ]
  },
  {
   "cell_type": "code",
   "execution_count": 89,
   "metadata": {},
   "outputs": [
    {
     "name": "stdout",
     "output_type": "stream",
     "text": [
      "shape of the samples matrix = (30000, 6000)\n",
      "Data are NOT shifted\n"
     ]
    }
   ],
   "source": [
    "RD = build_rd_from_data_sim( adc_reshaped, samplesPerRamp )"
   ]
  },
  {
   "cell_type": "code",
   "execution_count": 90,
   "metadata": {
    "collapsed": true
   },
   "outputs": [],
   "source": [
    "ifft_RD = np.fft.ifft( RD, axis=1 )"
   ]
  },
  {
   "cell_type": "code",
   "execution_count": 91,
   "metadata": {},
   "outputs": [
    {
     "data": {
      "text/plain": [
       "<matplotlib.image.AxesImage at 0x7f286a964b00>"
      ]
     },
     "execution_count": 91,
     "metadata": {},
     "output_type": "execute_result"
    }
   ],
   "source": [
    "plt.figure()\n",
    "plt.imshow( 20 * np.log10( np.abs( ifft_RD[::10,:] ) ) )"
   ]
  },
  {
   "cell_type": "code",
   "execution_count": 92,
   "metadata": {},
   "outputs": [
    {
     "data": {
      "text/plain": [
       "[<matplotlib.lines.Line2D at 0x7f286b124630>]"
      ]
     },
     "execution_count": 92,
     "metadata": {},
     "output_type": "execute_result"
    }
   ],
   "source": [
    "plt.figure()\n",
    "plt.plot( 20 * np.log10( np.abs( ifft_RD[::10,500] ) ))\n",
    "plt.plot( 20 * np.log10( np.abs( ifft_RD[::10,501] ) ))"
   ]
  },
  {
   "cell_type": "markdown",
   "metadata": {},
   "source": [
    "# Save simulated data"
   ]
  },
  {
   "cell_type": "code",
   "execution_count": 93,
   "metadata": {
    "collapsed": true
   },
   "outputs": [],
   "source": [
    "firstFile = 0\n",
    "lastFile = nbFiles - 1\n",
    "data_dir = \"/home/pleroy/DATA/SIMU\""
   ]
  },
  {
   "cell_type": "code",
   "execution_count": 94,
   "metadata": {
    "collapsed": true
   },
   "outputs": [],
   "source": [
    "coupling_RD = np.average(RD, 0)\n",
    "np.save( data_dir + \"/coupling_RD_files_{}_{}\".format(firstFile, lastFile), coupling_RD )"
   ]
  },
  {
   "cell_type": "code",
   "execution_count": 95,
   "metadata": {},
   "outputs": [],
   "source": [
    "np.save(data_dir + '/RD_files_{}_{}'.format(firstFile, lastFile), RD)"
   ]
  },
  {
   "cell_type": "code",
   "execution_count": null,
   "metadata": {
    "collapsed": true
   },
   "outputs": [],
   "source": [
    "V * rampsPerFile * nbFiles * T / 2"
   ]
  },
  {
   "cell_type": "code",
   "execution_count": null,
   "metadata": {
    "collapsed": true
   },
   "outputs": [],
   "source": [
    "340*2**0.5"
   ]
  },
  {
   "cell_type": "markdown",
   "metadata": {},
   "source": [
    "### Newton's method\n",
    "f(x) = sin(x) / x\n",
    "\n",
    "f'(x) = cos(x) / x - sin(x) / x^2\n",
    "\n",
    "x(n+1) = x(n) - f(x(n)) / f'(x(n))\n",
    "\n",
    "x(n+1) = x(n) - [f(x(n)) - y0] / f'(x(n))"
   ]
  },
  {
   "cell_type": "code",
   "execution_count": 14,
   "metadata": {
    "collapsed": true
   },
   "outputs": [],
   "source": [
    "y0 = 0.5\n",
    "def newton( xn ):\n",
    "    f_xn = np.sinc( xn )\n",
    "    #f_prime_xn = np.cos(xn) / xn - np.sin(xn) / xn**2\n",
    "    f_prime_xn = np.cos(np.pi * xn) / xn - np.sin(np.pi*xn) / (np.pi*xn**2)\n",
    "    xn_plus_1 = xn - ( f_xn - y0 ) / f_prime_xn\n",
    "    return xn_plus_1"
   ]
  },
  {
   "cell_type": "code",
   "execution_count": 15,
   "metadata": {},
   "outputs": [
    {
     "name": "stdout",
     "output_type": "stream",
     "text": [
      "0.5\n",
      "0.607300918301\n",
      "0.603356946177\n",
      "0.603354564403\n",
      "0.603354564402\n",
      "0.603354564402\n",
      "0.603354564402\n",
      "0.603354564402\n",
      "0.603354564402\n",
      "0.603354564402\n"
     ]
    }
   ],
   "source": [
    "x = 1\n",
    "for k in range( 10 ):\n",
    "    x = newton( x )\n",
    "    print( x )"
   ]
  },
  {
   "cell_type": "code",
   "execution_count": 35,
   "metadata": {},
   "outputs": [],
   "source": [
    "a = 0.603354564402\n",
    "b = a * 180 / (30 * np.pi)"
   ]
  },
  {
   "cell_type": "code",
   "execution_count": 36,
   "metadata": {},
   "outputs": [
    {
     "data": {
      "text/plain": [
       "0.49999999999947636"
      ]
     },
     "execution_count": 36,
     "metadata": {},
     "output_type": "execute_result"
    }
   ],
   "source": [
    "x = 30 * np.pi / 180\n",
    "np.sinc( b * x )"
   ]
  },
  {
   "cell_type": "code",
   "execution_count": null,
   "metadata": {
    "collapsed": true
   },
   "outputs": [],
   "source": []
  }
 ],
 "metadata": {
  "kernelspec": {
   "display_name": "Python 3",
   "language": "python",
   "name": "python3"
  },
  "language_info": {
   "codemirror_mode": {
    "name": "ipython",
    "version": 3
   },
   "file_extension": ".py",
   "mimetype": "text/x-python",
   "name": "python",
   "nbconvert_exporter": "python",
   "pygments_lexer": "ipython3",
   "version": "3.6.2"
  }
 },
 "nbformat": 4,
 "nbformat_minor": 2
}
