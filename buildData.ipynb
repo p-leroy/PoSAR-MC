{
 "cells": [
  {
   "cell_type": "code",
   "execution_count": 1,
   "metadata": {},
   "outputs": [],
   "source": [
    "import numpy as np\n",
    "import matplotlib.pyplot as plt\n",
    "%matplotlib qt5"
   ]
  },
  {
   "cell_type": "code",
   "execution_count": 57,
   "metadata": {},
   "outputs": [],
   "source": [
    "import sys"
   ]
  },
  {
   "cell_type": "code",
   "execution_count": 59,
   "metadata": {},
   "outputs": [],
   "source": [
    "%load_ext autoreload\n",
    "%autoreload 2"
   ]
  },
  {
   "cell_type": "code",
   "execution_count": 62,
   "metadata": {},
   "outputs": [],
   "source": [
    "sys.path.insert(0, \"/home/pleroy/DEV/processing/focalization_python\")\n",
    "from posarutils.other.read_data_and_build_rd import *"
   ]
  },
  {
   "cell_type": "code",
   "execution_count": 11,
   "metadata": {},
   "outputs": [],
   "source": [
    "fmin = 5.725e9\n",
    "fMAX = 5.875e9\n",
    "f0 = 5.8e9\n",
    "B = fMAX - fmin\n",
    "T = 600e-6\n",
    "alpha = 2 * (fMAX - fmin) / T\n",
    "c = 3e8"
   ]
  },
  {
   "cell_type": "code",
   "execution_count": 47,
   "metadata": {},
   "outputs": [],
   "source": [
    "def sr( t, r ):\n",
    "    \n",
    "    tau = 2 * r / c\n",
    "    \n",
    "    y = np.zeros( t.shape, dtype=complex )\n",
    "    \n",
    "    # up ramp\n",
    "    idx = np.where( t <= T/2  )\n",
    "    y[idx] = np.exp( -1j * 2  * np.pi * f0 * tau ) \\\n",
    "    * np.exp( 1j * np.pi * alpha * tau**2 ) \\\n",
    "    * np.exp(  -1j * 2 * np.pi * alpha * t[idx] * tau )\n",
    "    \n",
    "    # down ramp\n",
    "    idx = np.where( T/2 < t )\n",
    "    y[idx] = np.exp( -1j * 2  * np.pi * f0 * tau ) \\\n",
    "    * np.exp( 1j * np.pi * (-alpha) * tau**2 ) \\\n",
    "    * np.exp(  -1j * 2 * np.pi * (-alpha) * t[idx] * tau )\n",
    "    \n",
    "    return np.real( y )"
   ]
  },
  {
   "cell_type": "code",
   "execution_count": 139,
   "metadata": {},
   "outputs": [],
   "source": [
    "t = np.arange( 0, T, 100e-9)"
   ]
  },
  {
   "cell_type": "markdown",
   "metadata": {},
   "source": [
    "Let us build the equivalent of 10 files of data"
   ]
  },
  {
   "cell_type": "code",
   "execution_count": 140,
   "metadata": {},
   "outputs": [],
   "source": [
    "rampsPerFile = 1500\n",
    "samplesPerRamp = 6000\n",
    "nbFiles = 10\n",
    "adc = np.zeros( nbFiles * rampsPerFile * samplesPerRamp )"
   ]
  },
  {
   "cell_type": "code",
   "execution_count": 154,
   "metadata": {},
   "outputs": [
    {
     "name": "stdout",
     "output_type": "stream",
     "text": [
      "0\n",
      "1000\n",
      "2000\n",
      "3000\n",
      "4000\n",
      "5000\n",
      "6000\n",
      "7000\n",
      "8000\n",
      "9000\n",
      "10000\n",
      "11000\n",
      "12000\n",
      "13000\n",
      "14000\n"
     ]
    }
   ],
   "source": [
    "V = 40\n",
    "rg_corner = 480 # 430m, hMontefil 90m\n",
    "az_corner = 186\n",
    "\n",
    "for n in range( nbFiles * rampsPerFile):\n",
    "    if n%1000 == 0:\n",
    "        print(n)\n",
    "    az = n * V * T\n",
    "    Rn = ( rg_corner**2 + (az - az_corner)**2 )**0.5\n",
    "    # azmimuth beam pattern effect\n",
    "    wa = np.sinc( np.arccos( rg_corner / Rn ) )**2\n",
    "    adc[ n * samplesPerRamp : (n+1) * samplesPerRamp ] = sr( t, Rn ) * wa"
   ]
  },
  {
   "cell_type": "code",
   "execution_count": 155,
   "metadata": {},
   "outputs": [],
   "source": [
    "adc_reshaped = adc.reshape( (nbFiles * rampsPerFile, samplesPerRamp) )"
   ]
  },
  {
   "cell_type": "code",
   "execution_count": 156,
   "metadata": {},
   "outputs": [
    {
     "name": "stdout",
     "output_type": "stream",
     "text": [
      "shape of the samples matrix = (15000, 6000)\n",
      "Data are NOT shifted\n"
     ]
    }
   ],
   "source": [
    "RD = build_rd_from_data_sim( adc_reshaped, samplesPerRamp )"
   ]
  },
  {
   "cell_type": "code",
   "execution_count": 157,
   "metadata": {},
   "outputs": [],
   "source": [
    "ifft_RD = np.fft.ifft( RD, axis=1 )"
   ]
  },
  {
   "cell_type": "code",
   "execution_count": 158,
   "metadata": {},
   "outputs": [
    {
     "data": {
      "text/plain": [
       "<matplotlib.image.AxesImage at 0x7f384ae41a20>"
      ]
     },
     "execution_count": 158,
     "metadata": {},
     "output_type": "execute_result"
    }
   ],
   "source": [
    "plt.figure()\n",
    "plt.imshow( 20 * np.log10( np.abs( ifft_RD[::10,:] ) ) )"
   ]
  },
  {
   "cell_type": "code",
   "execution_count": 146,
   "metadata": {},
   "outputs": [
    {
     "data": {
      "text/plain": [
       "[<matplotlib.lines.Line2D at 0x7f384bd7e748>]"
      ]
     },
     "execution_count": 146,
     "metadata": {},
     "output_type": "execute_result"
    }
   ],
   "source": [
    "plt.figure()\n",
    "plt.plot( 20 * np.log10( np.abs( ifft_RD[::10,500] ) ))\n",
    "plt.plot( 20 * np.log10( np.abs( ifft_RD[::10,501] ) ))"
   ]
  },
  {
   "cell_type": "code",
   "execution_count": 147,
   "metadata": {},
   "outputs": [
    {
     "data": {
      "text/plain": [
       "179.99999999999997"
      ]
     },
     "execution_count": 147,
     "metadata": {},
     "output_type": "execute_result"
    }
   ],
   "source": [
    "V * rampsPerFile * nbFiles * T / 2"
   ]
  },
  {
   "cell_type": "code",
   "execution_count": 148,
   "metadata": {},
   "outputs": [
    {
     "data": {
      "text/plain": [
       "480.83261120685233"
      ]
     },
     "execution_count": 148,
     "metadata": {},
     "output_type": "execute_result"
    }
   ],
   "source": [
    "340*2**0.5"
   ]
  },
  {
   "cell_type": "code",
   "execution_count": null,
   "metadata": {},
   "outputs": [],
   "source": []
  }
 ],
 "metadata": {
  "kernelspec": {
   "display_name": "Python 3",
   "language": "python",
   "name": "python3"
  },
  "language_info": {
   "codemirror_mode": {
    "name": "ipython",
    "version": 3
   },
   "file_extension": ".py",
   "mimetype": "text/x-python",
   "name": "python",
   "nbconvert_exporter": "python",
   "pygments_lexer": "ipython3",
   "version": "3.6.2"
  }
 },
 "nbformat": 4,
 "nbformat_minor": 2
}
