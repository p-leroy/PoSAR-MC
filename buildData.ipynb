{
 "cells": [
  {
   "cell_type": "code",
   "execution_count": 1,
   "metadata": {},
   "outputs": [],
   "source": [
    "import numpy as np\n",
    "import matplotlib.pyplot as plt\n",
    "%matplotlib qt5"
   ]
  },
  {
   "cell_type": "code",
   "execution_count": 2,
   "metadata": {},
   "outputs": [],
   "source": [
    "import sys"
   ]
  },
  {
   "cell_type": "code",
   "execution_count": 3,
   "metadata": {},
   "outputs": [],
   "source": [
    "%load_ext autoreload\n",
    "%autoreload 2"
   ]
  },
  {
   "cell_type": "code",
   "execution_count": 4,
   "metadata": {},
   "outputs": [],
   "source": [
    "sys.path.insert(0, \"/home/pleroy/DEV/processing/focalization_python\")\n",
    "from posarutils.other.read_data_and_build_rd import *"
   ]
  },
  {
   "cell_type": "code",
   "execution_count": 88,
   "metadata": {},
   "outputs": [],
   "source": [
    "fmin = 5.725e9\n",
    "fMAX = 5.875e9\n",
    "f0 = 5.8e9\n",
    "B = fMAX - fmin\n",
    "T = 600e-6\n",
    "alpha = 2 * (fMAX - fmin) / T\n",
    "c = 3e8"
   ]
  },
  {
   "cell_type": "code",
   "execution_count": 7,
   "metadata": {},
   "outputs": [],
   "source": [
    "t = np.arange( 0, T, 100e-9)"
   ]
  },
  {
   "cell_type": "code",
   "execution_count": 101,
   "metadata": {},
   "outputs": [],
   "source": [
    "rampsPerFile = 1500\n",
    "samplesPerRamp = 6000\n",
    "samplesPerUpRamp = 3000\n",
    "nbFiles = 10\n",
    "adc = np.zeros( nbFiles * rampsPerFile * samplesPerRamp, dtype=complex )"
   ]
  },
  {
   "cell_type": "code",
   "execution_count": null,
   "metadata": {},
   "outputs": [],
   "source": []
  },
  {
   "cell_type": "code",
   "execution_count": 112,
   "metadata": {},
   "outputs": [],
   "source": [
    "def sr( t, r ):\n",
    "    \n",
    "    tau = 2 * r / c\n",
    "    \n",
    "    y = np.zeros( t.shape, dtype=complex )\n",
    "    \n",
    "    # up ramp\n",
    "    y[0:samplesPerUpRamp] = np.exp( -1j * 2  * np.pi * f0 * tau ) \\\n",
    "    * np.exp( 1j * np.pi * alpha * tau**2 ) \\\n",
    "    * np.exp(  -1j * 2 * np.pi * alpha * t[0:samplesPerUpRamp] * tau )\n",
    "    \n",
    "    # down ramp\n",
    "    y[samplesPerUpRamp:2*samplesPerUpRamp] = np.exp( -1j * 2  * np.pi * f0 * tau ) \\\n",
    "    * np.exp( 1j * np.pi * (-alpha) * tau**2 ) \\\n",
    "    * np.exp(  -1j * 2 * np.pi * (-alpha) * t[samplesPerUpRamp:2*samplesPerUpRamp] * tau )\n",
    "    \n",
    "    return y"
   ]
  },
  {
   "cell_type": "code",
   "execution_count": 126,
   "metadata": {},
   "outputs": [],
   "source": [
    "def srn( t, r, n ):\n",
    "    \n",
    "    tau = 2 * r / c\n",
    "    \n",
    "    y = np.zeros( t.shape, dtype=complex )\n",
    "    \n",
    "    # up ramp\n",
    "    y[0:samplesPerUpRamp] = np.exp( -1j * 2  * np.pi * f0 * tau ) \\\n",
    "    * np.exp( 1j * np.pi * alpha * tau**2 ) \\\n",
    "    * np.exp(  -1j * 2 * np.pi * alpha * (t[0:samplesPerUpRamp] + n*T) * tau )\n",
    "    \n",
    "    # down ramp\n",
    "    y[samplesPerUpRamp:2*samplesPerUpRamp] = np.exp( -1j * 2  * np.pi * f0 * tau ) \\\n",
    "    * np.exp( 1j * np.pi * (-alpha) * tau**2 ) \\\n",
    "    * np.exp(  -1j * 2 * np.pi * (-alpha) * (t[samplesPerUpRamp:2*samplesPerUpRamp] + n*T) * tau )\n",
    "    \n",
    "    return y"
   ]
  },
  {
   "cell_type": "markdown",
   "metadata": {},
   "source": [
    "Let us build the equivalent of 10 files of data"
   ]
  },
  {
   "cell_type": "code",
   "execution_count": 113,
   "metadata": {},
   "outputs": [],
   "source": [
    "a = 0.603354564402\n",
    "b = a * 180 / (30 * np.pi) # see the Newton method at the bottom of the notebook\n",
    "def wa( az, rg0 ):\n",
    "    Rn = ( rg0**2 + az**2 )**0.5\n",
    "    wa = np.sinc( b * np.arccos( rg0 / Rn ) )**2\n",
    "    return wa"
   ]
  },
  {
   "cell_type": "code",
   "execution_count": 114,
   "metadata": {},
   "outputs": [
    {
     "name": "stdout",
     "output_type": "stream",
     "text": [
      "rg_corner = 354.40, gr_corner = 100.00\n"
     ]
    }
   ],
   "source": [
    "V = 40\n",
    "hPlane = 430\n",
    "hCorner = 90\n",
    "gr_corner = 100\n",
    "rg_corner = ( (hPlane - hCorner)**2 + gr_corner**2 )**0.5\n",
    "az_corner = 186\n",
    "noise = 0\n",
    "print(\"rg_corner = {:.2f}, gr_corner = {:.2f}\".format(rg_corner, gr_corner))"
   ]
  },
  {
   "cell_type": "code",
   "execution_count": 115,
   "metadata": {},
   "outputs": [
    {
     "data": {
      "text/plain": [
       "354.400902933387"
      ]
     },
     "execution_count": 115,
     "metadata": {},
     "output_type": "execute_result"
    }
   ],
   "source": [
    "(340**2+100**2)**0.5"
   ]
  },
  {
   "cell_type": "code",
   "execution_count": 116,
   "metadata": {},
   "outputs": [
    {
     "name": "stdout",
     "output_type": "stream",
     "text": [
      "Laz = 360, phi = 26.9°\n"
     ]
    }
   ],
   "source": [
    "Laz = nbFiles * rampsPerFile * T * V\n",
    "phi = np.arctan( (Laz/2) / rg_corner )\n",
    "print( \"Laz = {:.0f}, phi = {:.1f}°\".format( Laz, phi * 180 / np.pi ) )"
   ]
  },
  {
   "cell_type": "code",
   "execution_count": 127,
   "metadata": {},
   "outputs": [
    {
     "name": "stdout",
     "output_type": "stream",
     "text": [
      "0, wa = 0.3, phi = 27.7\n",
      "1000, wa = 0.4, phi = 24.6\n",
      "2000, wa = 0.5, phi = 21.3\n",
      "3000, wa = 0.6, phi = 17.8\n",
      "4000, wa = 0.8, phi = 14.2\n",
      "5000, wa = 0.9, phi = 10.5\n",
      "6000, wa = 0.9, phi = 6.8\n",
      "7000, wa = 1.0, phi = 2.9\n",
      "8000, wa = 1.0, phi = 1.0\n",
      "9000, wa = 1.0, phi = 4.8\n",
      "10000, wa = 0.9, phi = 8.7\n",
      "11000, wa = 0.8, phi = 12.4\n",
      "12000, wa = 0.7, phi = 16.1\n",
      "13000, wa = 0.6, phi = 19.6\n",
      "14000, wa = 0.5, phi = 22.9\n"
     ]
    }
   ],
   "source": [
    "for n in range( nbFiles * rampsPerFile):\n",
    "    azn = n * T * V\n",
    "    Rn = ( rg_corner**2 + (azn - az_corner)**2 )**0.5\n",
    "    # azmimuth beam pattern effect + \n",
    "    adc[ n * samplesPerRamp : (n+1) * samplesPerRamp ] = srn( t, Rn, n ) * wa( azn - az_corner, rg_corner ) \\\n",
    "    + np.random.randn( 6000 ) * noise\n",
    "    if n%1000 == 0:\n",
    "        phi = np.arccos( rg_corner / Rn ) * 180 / np.pi\n",
    "        print( \"{}, wa = {:.1f}, phi = {:.1f}\".format( n, wa( azn - az_corner, rg_corner ), phi ) )"
   ]
  },
  {
   "cell_type": "code",
   "execution_count": 128,
   "metadata": {},
   "outputs": [],
   "source": [
    "adc_reshaped = adc.reshape( (nbFiles * rampsPerFile, samplesPerRamp) )"
   ]
  },
  {
   "cell_type": "code",
   "execution_count": 129,
   "metadata": {},
   "outputs": [
    {
     "data": {
      "text/plain": [
       "array([-0.19722575-0.2473064j , -0.31576392-0.01875101j,\n",
       "       -0.22510805+0.22222695j, ..., -0.24191734+0.27197895j,\n",
       "       -0.36394840+0.00617323j, -0.25100205-0.26361813j])"
      ]
     },
     "execution_count": 129,
     "metadata": {},
     "output_type": "execute_result"
    }
   ],
   "source": [
    "adc"
   ]
  },
  {
   "cell_type": "code",
   "execution_count": 130,
   "metadata": {},
   "outputs": [
    {
     "name": "stdout",
     "output_type": "stream",
     "text": [
      "shape of the samples matrix = (15000, 6000)\n",
      "Data are NOT shifted\n"
     ]
    }
   ],
   "source": [
    "RD = build_rd_from_data_sim( adc_reshaped, samplesPerRamp )"
   ]
  },
  {
   "cell_type": "code",
   "execution_count": 140,
   "metadata": {},
   "outputs": [
    {
     "data": {
      "text/plain": [
       "6000"
      ]
     },
     "execution_count": 140,
     "metadata": {},
     "output_type": "execute_result"
    }
   ],
   "source": [
    "samplesPerRamp"
   ]
  },
  {
   "cell_type": "code",
   "execution_count": 131,
   "metadata": {},
   "outputs": [],
   "source": [
    "ifft_RD = np.fft.ifft( RD, axis=1 )"
   ]
  },
  {
   "cell_type": "code",
   "execution_count": 132,
   "metadata": {},
   "outputs": [
    {
     "data": {
      "text/plain": [
       "<matplotlib.colorbar.Colorbar at 0x7f72d03702b0>"
      ]
     },
     "execution_count": 132,
     "metadata": {},
     "output_type": "execute_result"
    }
   ],
   "source": [
    "plt.figure()\n",
    "plt.imshow( 20 * np.log10( np.abs( ifft_RD[::10,:] ) ) )\n",
    "plt.colorbar()"
   ]
  },
  {
   "cell_type": "code",
   "execution_count": 143,
   "metadata": {},
   "outputs": [
    {
     "name": "stdout",
     "output_type": "stream",
     "text": [
      "adc_reshaped.shape = (15000, 6000), ifft_adc.shape = (15000, 6000)\n"
     ]
    }
   ],
   "source": [
    "ifft_adc = np.fft.ifft( adc_reshaped, axis=1 )\n",
    "print( \"adc_reshaped.shape = {}, ifft_adc.shape = {}\".format( adc_reshaped.shape, ifft_adc.shape ) )"
   ]
  },
  {
   "cell_type": "code",
   "execution_count": 144,
   "metadata": {},
   "outputs": [
    {
     "data": {
      "text/plain": [
       "<matplotlib.colorbar.Colorbar at 0x7f727b6182b0>"
      ]
     },
     "execution_count": 144,
     "metadata": {},
     "output_type": "execute_result"
    }
   ],
   "source": [
    "plt.figure()\n",
    "plt.imshow( 20 * np.log10( np.abs( ifft_adc[::10,:] ) ) )\n",
    "plt.colorbar()"
   ]
  },
  {
   "cell_type": "code",
   "execution_count": 57,
   "metadata": {},
   "outputs": [
    {
     "data": {
      "text/plain": [
       "7750.000000000001"
      ]
     },
     "execution_count": 57,
     "metadata": {},
     "output_type": "execute_result"
    }
   ],
   "source": [
    "az_corner / V / T"
   ]
  },
  {
   "cell_type": "code",
   "execution_count": 58,
   "metadata": {},
   "outputs": [
    {
     "data": {
      "text/plain": [
       "[<matplotlib.lines.Line2D at 0x7f7225bfe1d0>]"
      ]
     },
     "execution_count": 58,
     "metadata": {},
     "output_type": "execute_result"
    }
   ],
   "source": [
    "plt.figure()\n",
    "plt.plot( 20 * np.log10( np.abs( ifft_RD[7750,:] ) ) )\n",
    "plt.plot( 20 * np.log10( np.abs( ifft_RD[25000,:] ) ) )"
   ]
  },
  {
   "cell_type": "code",
   "execution_count": 59,
   "metadata": {},
   "outputs": [
    {
     "data": {
      "text/plain": [
       "[<matplotlib.lines.Line2D at 0x7f7225a21eb8>]"
      ]
     },
     "execution_count": 59,
     "metadata": {},
     "output_type": "execute_result"
    }
   ],
   "source": [
    "plt.figure()\n",
    "plt.plot( 20 * np.log10( np.abs( ifft_RD[::10,500] ) ))\n",
    "plt.plot( 20 * np.log10( np.abs( ifft_RD[::10,501] ) ))"
   ]
  },
  {
   "cell_type": "markdown",
   "metadata": {},
   "source": [
    "# Save simulated data"
   ]
  },
  {
   "cell_type": "code",
   "execution_count": 133,
   "metadata": {},
   "outputs": [],
   "source": [
    "firstFile = 0\n",
    "lastFile = nbFiles - 1\n",
    "data_dir = \"/home/pleroy/DATA/SIMU\""
   ]
  },
  {
   "cell_type": "code",
   "execution_count": 134,
   "metadata": {},
   "outputs": [],
   "source": [
    "coupling_RD = np.average(RD, 0)\n",
    "np.save( data_dir + \"/coupling_RD_files_{}_{}\".format(firstFile, lastFile), coupling_RD )"
   ]
  },
  {
   "cell_type": "code",
   "execution_count": 146,
   "metadata": {},
   "outputs": [],
   "source": [
    "np.save(data_dir + '/RD_files_{}_{}'.format(firstFile, lastFile), adc_reshaped[:, 0:3000]) "
   ]
  },
  {
   "cell_type": "code",
   "execution_count": 138,
   "metadata": {},
   "outputs": [
    {
     "data": {
      "text/plain": [
       "1500"
      ]
     },
     "execution_count": 138,
     "metadata": {},
     "output_type": "execute_result"
    }
   ],
   "source": [
    "RD[100, 0:3000].size"
   ]
  },
  {
   "cell_type": "code",
   "execution_count": 139,
   "metadata": {},
   "outputs": [
    {
     "data": {
      "text/plain": [
       "(15000, 1500)"
      ]
     },
     "execution_count": 139,
     "metadata": {},
     "output_type": "execute_result"
    }
   ],
   "source": [
    "RD.shape"
   ]
  },
  {
   "cell_type": "markdown",
   "metadata": {},
   "source": [
    "### Newton's method\n",
    "f(x) = sin(x) / x\n",
    "\n",
    "f'(x) = cos(x) / x - sin(x) / x^2\n",
    "\n",
    "x(n+1) = x(n) - f(x(n)) / f'(x(n))\n",
    "\n",
    "x(n+1) = x(n) - [f(x(n)) - y0] / f'(x(n))"
   ]
  },
  {
   "cell_type": "code",
   "execution_count": null,
   "metadata": {},
   "outputs": [],
   "source": [
    "y0 = 0.5\n",
    "def newton( xn ):\n",
    "    f_xn = np.sinc( xn )\n",
    "    #f_prime_xn = np.cos(xn) / xn - np.sin(xn) / xn**2\n",
    "    f_prime_xn = np.cos(np.pi * xn) / xn - np.sin(np.pi*xn) / (np.pi*xn**2)\n",
    "    xn_plus_1 = xn - ( f_xn - y0 ) / f_prime_xn\n",
    "    return xn_plus_1"
   ]
  },
  {
   "cell_type": "code",
   "execution_count": null,
   "metadata": {},
   "outputs": [],
   "source": [
    "x = 1\n",
    "for k in range( 10 ):\n",
    "    x = newton( x )\n",
    "    print( x )"
   ]
  },
  {
   "cell_type": "code",
   "execution_count": null,
   "metadata": {},
   "outputs": [],
   "source": [
    "a = 0.603354564402\n",
    "b = a * 180 / (30 * np.pi)"
   ]
  },
  {
   "cell_type": "code",
   "execution_count": null,
   "metadata": {},
   "outputs": [],
   "source": [
    "x = 30 * np.pi / 180\n",
    "np.sinc( b * x )"
   ]
  },
  {
   "cell_type": "code",
   "execution_count": null,
   "metadata": {},
   "outputs": [],
   "source": []
  }
 ],
 "metadata": {
  "kernelspec": {
   "display_name": "Python 3",
   "language": "python",
   "name": "python3"
  },
  "language_info": {
   "codemirror_mode": {
    "name": "ipython",
    "version": 3
   },
   "file_extension": ".py",
   "mimetype": "text/x-python",
   "name": "python",
   "nbconvert_exporter": "python",
   "pygments_lexer": "ipython3",
   "version": "3.6.2"
  }
 },
 "nbformat": 4,
 "nbformat_minor": 2
}
