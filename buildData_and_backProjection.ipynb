{
 "cells": [
  {
   "cell_type": "code",
   "execution_count": 1,
   "metadata": {
    "collapsed": true
   },
   "outputs": [],
   "source": [
    "import numpy as np\n",
    "import matplotlib.pyplot as plt\n",
    "import scipy.signal as signal\n",
    "%matplotlib qt5"
   ]
  },
  {
   "cell_type": "code",
   "execution_count": 2,
   "metadata": {
    "collapsed": true
   },
   "outputs": [],
   "source": [
    "import sys\n",
    "import time"
   ]
  },
  {
   "cell_type": "code",
   "execution_count": 3,
   "metadata": {
    "collapsed": true
   },
   "outputs": [],
   "source": [
    "%load_ext autoreload\n",
    "%autoreload 2"
   ]
  },
  {
   "cell_type": "code",
   "execution_count": 4,
   "metadata": {
    "collapsed": true
   },
   "outputs": [],
   "source": [
    "sys.path.insert(0, \"/home/pleroy/DEV/processing/focalization_python\")\n",
    "from posarutils.other.read_data_and_build_rd import *"
   ]
  },
  {
   "cell_type": "code",
   "execution_count": 31,
   "metadata": {},
   "outputs": [],
   "source": [
    "def pulse( x ):\n",
    "    y = np.zeros( x.shape )\n",
    "    y[ np.where( (-1/2<x) & (x<1/2) ) ] = 1\n",
    "    return y\n",
    "\n",
    "def pulse2( x ):\n",
    "    if (-1/2<x) and (x<1/2):\n",
    "        y = 1\n",
    "    else:\n",
    "        y = 0\n",
    "    return y"
   ]
  },
  {
   "cell_type": "code",
   "execution_count": 5,
   "metadata": {},
   "outputs": [
    {
     "name": "stdout",
     "output_type": "stream",
     "text": [
      "T = 0.005, samplesPerRamp = 50000.00, samplesPerFile = 10000000.00\n"
     ]
    }
   ],
   "source": [
    "fmin = 5.725e9\n",
    "fMAX = 5.875e9\n",
    "fc = 5.8e9\n",
    "B = fMAX - fmin\n",
    "c = 3e8\n",
    "kc = 4 * np.pi * fc / c\n",
    "fs = 10e6\n",
    "\n",
    "rail = 0\n",
    "truck = 1\n",
    "plane = 2\n",
    "vehicule = rail\n",
    "\n",
    "if vehicule == rail:\n",
    "    T = 5e-3\n",
    "    rampsPerFile = 200\n",
    "    V = 0.1\n",
    "if vehicule == truck:\n",
    "    T = 5e-3\n",
    "    rampsPerFile = 200\n",
    "    V = 3\n",
    "if vehicule == plane:\n",
    "    T = 600e-6\n",
    "    rampsPerFile = 1500\n",
    "    V = 40\n",
    "\n",
    "alpha = 2 * (fMAX - fmin) / T\n",
    "samplesPerRamp = int( T * fs )\n",
    "samplesPerFile = rampsPerFile * samplesPerRamp\n",
    "samplesPerUpRamp = int( samplesPerRamp / 2 )\n",
    "\n",
    "print(\"T = {}, samplesPerRamp = {:.2f}, samplesPerFile = {:.2f}\".format(T, samplesPerRamp, samplesPerFile))\n",
    "\n",
    "t1 = np.arange( 0, T, 1/fs)\n",
    "t2 = np.arange( -T/2, T/2, 1/fs)"
   ]
  },
  {
   "cell_type": "code",
   "execution_count": 6,
   "metadata": {
    "collapsed": true
   },
   "outputs": [],
   "source": [
    "def sb1( t, r ):\n",
    "    tau = 2 * r / c\n",
    "    y = np.exp( -1j * 2  * np.pi * fc * tau ) \\\n",
    "            * np.exp( 1j * np.pi * alpha * tau**2 ) \\\n",
    "            * np.exp(  -1j * 2 * np.pi * alpha * t * tau )\n",
    "    return y\n",
    "\n",
    "def sb2( t, r ):\n",
    "    y = np.zeros( t.shape, dtype=complex )\n",
    "    tau = 2 * r / c\n",
    "    idx = np.where( t < tau )\n",
    "    y[idx] = np.exp( -1j * 2  * np.pi * fc * (T-tau) ) \\\n",
    "            * np.exp( 1j * np.pi * alpha * (T-tau)**2 ) \\\n",
    "            * np.exp(  -1j * 2 * np.pi * alpha * t[idx] * (T-tau) )\n",
    "    idx = np.where( t > tau )\n",
    "    y[idx] = np.exp( -1j * 2  * np.pi * fc * tau ) \\\n",
    "            * np.exp( 1j * np.pi * alpha * tau**2 ) \\\n",
    "            * np.exp(  -1j * 2 * np.pi * alpha * (t[idx]-tau) * tau )\n",
    "    return y"
   ]
  },
  {
   "cell_type": "code",
   "execution_count": 7,
   "metadata": {},
   "outputs": [
    {
     "name": "stdout",
     "output_type": "stream",
     "text": [
      "tau = 3.34e-07, f = 20040.0\n"
     ]
    },
    {
     "data": {
      "text/plain": [
       "(0, 100)"
      ]
     },
     "execution_count": 7,
     "metadata": {},
     "output_type": "execute_result"
    }
   ],
   "source": [
    "plt.figure()\n",
    "r0 = 50.1\n",
    "tau0 = 2 * r0 / c\n",
    "print( \"tau = {}, f = {}\".format(tau0, alpha*tau0) )\n",
    "plt.subplot( 211 )\n",
    "plt.plot( np.real( sb1( t1[0:3000], r0 ) ), '.' )\n",
    "plt.plot( np.real( sb2( t1[0:3000], r0 ) ) )\n",
    "ax = plt.gca()\n",
    "plt.subplot( 212, sharex=ax )\n",
    "plt.plot( np.imag( sb1( t1[0:3000], r0 ) ) )\n",
    "plt.plot( np.imag( sb2( t1[0:3000], r0 ) ) )\n",
    "ax = plt.gca()\n",
    "ax.set_xlim(0, 100)"
   ]
  },
  {
   "cell_type": "code",
   "execution_count": 8,
   "metadata": {},
   "outputs": [
    {
     "name": "stdout",
     "output_type": "stream",
     "text": [
      "tau = 3.34e-07, f = 20040.0\n"
     ]
    },
    {
     "data": {
      "text/plain": [
       "[<matplotlib.lines.Line2D at 0x7fe78c0d1a20>]"
      ]
     },
     "execution_count": 8,
     "metadata": {},
     "output_type": "execute_result"
    }
   ],
   "source": [
    "plt.figure()\n",
    "r0 = 50.1\n",
    "tau0 = 2 * r0 / c\n",
    "print( \"tau = {}, f = {}\".format(tau0, alpha*tau0) )\n",
    "sb1_t1 = np.real( sb1( t1[0:3000], r0 ) )\n",
    "sb2_t1 = np.real( sb2( t1[0:3000], r0 ) )\n",
    "plt.subplot(311)\n",
    "plt.plot( 20 * np.log10(np.abs(np.fft.ifft( sb1_t1 ) ) ) )\n",
    "plt.plot( 20 * np.log10(np.abs(np.fft.ifft( sb2_t1 ) ) ) )\n",
    "plt.subplot(312)\n",
    "plt.plot( np.real(np.fft.ifft( sb1_t1 ) ) )\n",
    "plt.plot( np.real(np.fft.ifft( sb2_t1 ) ) )\n",
    "plt.subplot(313)\n",
    "plt.plot( np.imag(np.fft.ifft( sb1_t1 ) ) )\n",
    "plt.plot( np.imag(np.fft.ifft( sb2_t1 ) ) )"
   ]
  },
  {
   "cell_type": "code",
   "execution_count": 9,
   "metadata": {
    "collapsed": true
   },
   "outputs": [],
   "source": [
    "def sr( t, r ):\n",
    "    \n",
    "    tau = 2 * r / c\n",
    "    \n",
    "    y = np.zeros( t.shape, dtype=complex )\n",
    "    \n",
    "    # up ramp\n",
    "    y[0:samplesPerUpRamp] = np.exp( -1j * 2  * np.pi * f0 * tau ) \\\n",
    "    * np.exp( 1j * np.pi * alpha * tau**2 ) \\\n",
    "    * np.exp(  -1j * 2 * np.pi * alpha * (t[0:samplesPerUpRamp]) * tau )\n",
    "    \n",
    "    # down ramp\n",
    "    y[samplesPerUpRamp:2*samplesPerUpRamp] = np.exp( -1j * 2  * np.pi * f0 * tau ) \\\n",
    "    * np.exp( 1j * np.pi * (-alpha) * tau**2 ) \\\n",
    "    * np.exp(  -1j * 2 * np.pi * (-alpha) * (t[samplesPerUpRamp:2*samplesPerUpRamp]) * tau )\n",
    "    \n",
    "    return y"
   ]
  },
  {
   "cell_type": "code",
   "execution_count": 10,
   "metadata": {
    "collapsed": true
   },
   "outputs": [],
   "source": [
    "def srn( t, r, n ):\n",
    "    \n",
    "    tau = 2 * r / c\n",
    "    \n",
    "    y = np.zeros( t.shape, dtype=complex )\n",
    "    \n",
    "    # up ramp\n",
    "    y[0:samplesPerUpRamp] = np.exp( -1j * 2  * np.pi * f0 * tau ) \\\n",
    "    * np.exp( 1j * np.pi * alpha * tau**2 ) \\\n",
    "    * np.exp(  -1j * 2 * np.pi * alpha * (t[0:samplesPerUpRamp] + n*T + tau) * tau )\n",
    "    \n",
    "    # down ramp\n",
    "    y[samplesPerUpRamp:2*samplesPerUpRamp] = np.exp( -1j * 2  * np.pi * f0 * tau ) \\\n",
    "    * np.exp( 1j * np.pi * (-alpha) * tau**2 ) \\\n",
    "    * np.exp(  -1j * 2 * np.pi * (-alpha) * (t[samplesPerUpRamp:2*samplesPerUpRamp] + n*T + tau) * tau )\n",
    "    \n",
    "    return y"
   ]
  },
  {
   "cell_type": "markdown",
   "metadata": {},
   "source": [
    "# Build data"
   ]
  },
  {
   "cell_type": "code",
   "execution_count": 11,
   "metadata": {
    "collapsed": true
   },
   "outputs": [],
   "source": [
    "a = 0.603354564402\n",
    "b = a * 180 / (30 * np.pi) # see the Newton method at the bottom of the notebook\n",
    "def wa( az, rg0 ):\n",
    "    Rn = ( rg0**2 + az**2 )**0.5\n",
    "    wa = np.sinc( b * np.arccos( rg0 / Rn ) )**2\n",
    "    return wa"
   ]
  },
  {
   "cell_type": "code",
   "execution_count": 27,
   "metadata": {},
   "outputs": [
    {
     "data": {
      "text/plain": [
       "[<matplotlib.lines.Line2D at 0x7fe6c12ecf98>]"
      ]
     },
     "execution_count": 27,
     "metadata": {},
     "output_type": "execute_result"
    }
   ],
   "source": [
    "plt.figure()\n",
    "az = np.arange( -100, 100, 0.1 )\n",
    "rg0 = 100\n",
    "plt.plot( az, wa( az, rg0 ) )"
   ]
  },
  {
   "cell_type": "code",
   "execution_count": 12,
   "metadata": {
    "collapsed": true
   },
   "outputs": [],
   "source": [
    "nbFiles = 20"
   ]
  },
  {
   "cell_type": "code",
   "execution_count": 13,
   "metadata": {},
   "outputs": [
    {
     "name": "stdout",
     "output_type": "stream",
     "text": [
      "rg_corner = 100.00, gr_corner = 100.00, az_corner = 1.00\n"
     ]
    }
   ],
   "source": [
    "hPlane = 90\n",
    "hCorner = 90\n",
    "gr_corner = 100\n",
    "rg_corner = ( (hPlane - hCorner)**2 + gr_corner**2 )**0.5\n",
    "az_corner = V * T * nbFiles * rampsPerFile / 2\n",
    "noise = 1\n",
    "print(\"rg_corner = {:.2f}, gr_corner = {:.2f}, az_corner = {:.2f}\".format(rg_corner, gr_corner, az_corner))"
   ]
  },
  {
   "cell_type": "code",
   "execution_count": 14,
   "metadata": {},
   "outputs": [
    {
     "name": "stdout",
     "output_type": "stream",
     "text": [
      "Laz = 2, phi = 0.6°\n"
     ]
    }
   ],
   "source": [
    "Laz = nbFiles * rampsPerFile * T * V\n",
    "phi = np.arctan( (Laz/2) / rg_corner )\n",
    "print( \"Laz = {:.0f}, phi = {:.1f}°\".format( Laz, phi * 180 / np.pi ) )"
   ]
  },
  {
   "cell_type": "code",
   "execution_count": 33,
   "metadata": {},
   "outputs": [
    {
     "name": "stdout",
     "output_type": "stream",
     "text": [
      "0.0, azn = 0.00, wa = 1.0, phi = 0.6, Rn = 100.0\n",
      "1.0, azn = 0.10, wa = 1.0, phi = 0.5, Rn = 100.0\n",
      "2.0, azn = 0.20, wa = 1.0, phi = 0.5, Rn = 100.0\n",
      "3.0, azn = 0.30, wa = 1.0, phi = 0.4, Rn = 100.0\n",
      "4.0, azn = 0.40, wa = 1.0, phi = 0.3, Rn = 100.0\n",
      "5.0, azn = 0.50, wa = 1.0, phi = 0.3, Rn = 100.0\n",
      "6.0, azn = 0.60, wa = 1.0, phi = 0.2, Rn = 100.0\n",
      "7.0, azn = 0.70, wa = 1.0, phi = 0.2, Rn = 100.0\n",
      "8.0, azn = 0.80, wa = 1.0, phi = 0.1, Rn = 100.0\n",
      "9.0, azn = 0.90, wa = 1.0, phi = 0.1, Rn = 100.0\n",
      "10.0, azn = 1.00, wa = 1.0, phi = 0.0, Rn = 100.0\n",
      "11.0, azn = 1.10, wa = 1.0, phi = 0.1, Rn = 100.0\n",
      "12.0, azn = 1.20, wa = 1.0, phi = 0.1, Rn = 100.0\n",
      "13.0, azn = 1.30, wa = 1.0, phi = 0.2, Rn = 100.0\n",
      "14.0, azn = 1.40, wa = 1.0, phi = 0.2, Rn = 100.0\n",
      "15.0, azn = 1.50, wa = 1.0, phi = 0.3, Rn = 100.0\n",
      "16.0, azn = 1.60, wa = 1.0, phi = 0.3, Rn = 100.0\n",
      "17.0, azn = 1.70, wa = 1.0, phi = 0.4, Rn = 100.0\n",
      "18.0, azn = 1.80, wa = 1.0, phi = 0.5, Rn = 100.0\n",
      "19.0, azn = 1.90, wa = 1.0, phi = 0.5, Rn = 100.0\n"
     ]
    }
   ],
   "source": [
    "adc = np.zeros( (nbFiles * rampsPerFile, samplesPerRamp), dtype=complex )\n",
    "for ramp in range( nbFiles * rampsPerFile):\n",
    "    azn = ramp * T * V\n",
    "    Rn = ( rg_corner**2 + (azn - az_corner)**2 )**0.5\n",
    "    adc[ ramp,  0 : samplesPerRamp ] = sb1( t1, Rn ) * wa( azn - az_corner, rg_corner ) \\\n",
    "    + np.random.randn( samplesPerRamp ) * noise / (Rn**2)\n",
    "    file = ramp/rampsPerFile\n",
    "    if file == np.floor(file):\n",
    "        phi = np.arccos( rg_corner / Rn ) * 180 / np.pi\n",
    "        print( \"{}, azn = {:.2f}, wa = {:.1f}, phi = {:.1f}, Rn = {:.1f}\".format( \n",
    "            file, azn, wa( azn - az_corner, rg_corner ), phi, Rn ) )"
   ]
  },
  {
   "cell_type": "markdown",
   "metadata": {},
   "source": [
    "# Backprojection"
   ]
  },
  {
   "cell_type": "code",
   "execution_count": 16,
   "metadata": {},
   "outputs": [
    {
     "name": "stdout",
     "output_type": "stream",
     "text": [
      "srf.shape = (4000, 25000)\n"
     ]
    }
   ],
   "source": [
    "srf = np.fft.ifft( adc[:, 0:samplesPerUpRamp], axis=1 )\n",
    "print( \"srf.shape = {}\".format(srf.shape))"
   ]
  },
  {
   "cell_type": "markdown",
   "metadata": {},
   "source": [
    "## Image geometry"
   ]
  },
  {
   "cell_type": "code",
   "execution_count": 45,
   "metadata": {
    "collapsed": true
   },
   "outputs": [],
   "source": [
    "x_min = -6\n",
    "x_max = 8\n",
    "r_min = 95\n",
    "r_max = 105\n",
    "\n",
    "#extent=[horizontal_min,horizontal_max,vertical_min,vertical_max]\n",
    "extent=[r_min,r_max,x_max,x_min]\n",
    "\n",
    "d_x = 0.01\n",
    "d_r = 0.1\n",
    "\n",
    "x = np.arange( x_min, x_max, d_x )\n",
    "x = x.reshape( x.size, 1 )\n",
    "r = np.arange( r_min, r_max, d_r )\n",
    "r = r.reshape( 1, r.size )"
   ]
  },
  {
   "cell_type": "markdown",
   "metadata": {},
   "source": [
    "## Range focalization"
   ]
  },
  {
   "cell_type": "code",
   "execution_count": 46,
   "metadata": {},
   "outputs": [
    {
     "name": "stdout",
     "output_type": "stream",
     "text": [
      "range from 0.00m to 24999.75m, resolution = 1.0m, oversampled = 0.25m, \n"
     ]
    }
   ],
   "source": [
    "overSamplingRatio = 4\n",
    "Nf = srf.shape[1]\n",
    "nbPointsResampled = overSamplingRatio * Nf\n",
    "rangeResolution = c / (2 * B)\n",
    "r_base = np.arange( 0, Nf ) * rangeResolution\n",
    "r_over = np.arange( 0, nbPointsResampled ) * rangeResolution / overSamplingRatio\n",
    "print( \"range from {:.2f}m to {:.2f}m, resolution = {}m, oversampled = {}m, \".format(\n",
    "    r_over[0], r_over[-1], rangeResolution, rangeResolution / overSamplingRatio ) )"
   ]
  },
  {
   "cell_type": "code",
   "execution_count": 47,
   "metadata": {},
   "outputs": [
    {
     "name": "stdout",
     "output_type": "stream",
     "text": [
      "img.shape = (1400, 100), x.shape = (1400, 1), r.shape = (1, 100)\n",
      "x from -6.0 to 7.989999999999702, r from 95.0 to 104.89999999999944\n",
      "Wx_r0 = 10.00\n",
      "0 / 4000\n",
      "1000 / 4000\n",
      "2000 / 4000\n",
      "3000 / 4000\n",
      "execution time = 53.66207575798035\n"
     ]
    }
   ],
   "source": [
    "Naz = nbFiles * rampsPerFile\n",
    "xa_vec = np.arange( Naz ) * T * V\n",
    "nbLoops = xa_vec.size\n",
    "loop = 0\n",
    "img  = np.zeros( (x.size, r.size), dtype=complex )\n",
    "print( \"img.shape = {}, x.shape = {}, r.shape = {}\".format( img.shape, x.shape, r.shape ) )\n",
    "print( \"x from {} to {}, r from {} to {}\".format(x[0,0], x[-1,0], r[0,0], r[0,-1]) )\n",
    "\n",
    "phi = 30 * np.pi / 180\n",
    "r0 = rg_corner\n",
    "Wx_r0 = r0 * np.tan(phi) * 2\n",
    "Wx_r0 = 10\n",
    "print(\"Wx_r0 = {:.2f}\".format(Wx_r0))\n",
    "\n",
    "t = time.time()\n",
    "\n",
    "for xa in xa_vec:\n",
    "    if loop%1000 == 0:\n",
    "        print( \"{} / {}\".format(loop, nbLoops ) )\n",
    "    img += np.exp( 1j * kc * (r**2 + (xa-x)**2 )**0.5 ) \\\n",
    "    * np.interp( (r**2 + (xa-x)**2 )**0.5, r_over, signal.resample( srf[loop,:], nbPointsResampled  ) ) \\\n",
    "    * pulse( (xa-x) / Wx_r0 )\n",
    "    #img += np.exp( 1j * kc * (r**2 + (xa-x)**2 )**0.5 ) \\\n",
    "    #* np.interp( (r**2 + (xa-x)**2 )**0.5, r_base, srf[loop,:] )\n",
    "    loop += 1\n",
    "# np.exp( -1j * kc * r)\n",
    "\n",
    "elapsed = time.time() - t\n",
    "print(\"execution time = \" + str(elapsed))"
   ]
  },
  {
   "cell_type": "code",
   "execution_count": 48,
   "metadata": {},
   "outputs": [
    {
     "name": "stderr",
     "output_type": "stream",
     "text": [
      "/opt/Py3Venv/lib/python3.6/site-packages/ipykernel_launcher.py:2: RuntimeWarning: divide by zero encountered in log10\n",
      "  \n"
     ]
    },
    {
     "data": {
      "text/plain": [
       "<matplotlib.colorbar.Colorbar at 0x7fe77bc8dcf8>"
      ]
     },
     "execution_count": 48,
     "metadata": {},
     "output_type": "execute_result"
    }
   ],
   "source": [
    "plt.figure()\n",
    "plt.imshow( 20 * np.log10( np.abs( img ) ), cmap='jet', extent=extent )\n",
    "plt.grid()\n",
    "plt.colorbar(orientation=\"horizontal\")"
   ]
  },
  {
   "cell_type": "markdown",
   "metadata": {},
   "source": [
    "# Newton's method\n",
    "f(x) = sin(x) / x\n",
    "\n",
    "f'(x) = cos(x) / x - sin(x) / x^2\n",
    "\n",
    "x(n+1) = x(n) - f(x(n)) / f'(x(n))\n",
    "\n",
    "x(n+1) = x(n) - [f(x(n)) - y0] / f'(x(n))"
   ]
  },
  {
   "cell_type": "code",
   "execution_count": null,
   "metadata": {
    "collapsed": true
   },
   "outputs": [],
   "source": [
    "y0 = 0.1\n",
    "def newton( xn ):\n",
    "    f_xn = np.sinc( xn )\n",
    "    #f_prime_xn = np.cos(xn) / xn - np.sin(xn) / xn**2\n",
    "    f_prime_xn = np.cos(np.pi * xn) / xn - np.sin(np.pi*xn) / (np.pi*xn**2)\n",
    "    xn_plus_1 = xn - ( f_xn - y0 ) / f_prime_xn\n",
    "    return xn_plus_1"
   ]
  },
  {
   "cell_type": "code",
   "execution_count": null,
   "metadata": {
    "collapsed": true
   },
   "outputs": [],
   "source": [
    "x = 1\n",
    "for k in range( 10 ):\n",
    "    x = newton( x )\n",
    "    print( x )"
   ]
  },
  {
   "cell_type": "code",
   "execution_count": null,
   "metadata": {
    "collapsed": true
   },
   "outputs": [],
   "source": [
    "a = 0.603354564402 # y0 = 0.5\n",
    "a = 0.90792862378 # y0 = 0.1\n",
    "b = a * 180 / (30 * np.pi)"
   ]
  },
  {
   "cell_type": "code",
   "execution_count": null,
   "metadata": {
    "collapsed": true
   },
   "outputs": [],
   "source": [
    "x = 30 * np.pi / 180\n",
    "np.sinc( b * x )"
   ]
  }
 ],
 "metadata": {
  "kernelspec": {
   "display_name": "Python 3",
   "language": "python",
   "name": "python3"
  },
  "language_info": {
   "codemirror_mode": {
    "name": "ipython",
    "version": 3
   },
   "file_extension": ".py",
   "mimetype": "text/x-python",
   "name": "python",
   "nbconvert_exporter": "python",
   "pygments_lexer": "ipython3",
   "version": "3.6.3"
  }
 },
 "nbformat": 4,
 "nbformat_minor": 2
}
