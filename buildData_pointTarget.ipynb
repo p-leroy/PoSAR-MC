{
 "cells": [
  {
   "cell_type": "code",
   "execution_count": 1,
   "metadata": {},
   "outputs": [],
   "source": [
    "import numpy as np\n",
    "import matplotlib.pyplot as plt\n",
    "import scipy.signal as signal\n",
    "%matplotlib qt5"
   ]
  },
  {
   "cell_type": "code",
   "execution_count": 2,
   "metadata": {},
   "outputs": [],
   "source": [
    "%load_ext autoreload\n",
    "%autoreload 2"
   ]
  },
  {
   "cell_type": "code",
   "execution_count": 3,
   "metadata": {},
   "outputs": [],
   "source": [
    "from backprojection.tools import sb1, sb1_r, sb1_tri, sb1_tri_r, sb2, wa"
   ]
  },
  {
   "cell_type": "code",
   "execution_count": 4,
   "metadata": {},
   "outputs": [],
   "source": [
    "import sys"
   ]
  },
  {
   "cell_type": "code",
   "execution_count": 5,
   "metadata": {},
   "outputs": [],
   "source": [
    "sys.path.insert(0, \"/home/pleroy/DEV/processing/focalization_python\")\n",
    "from posarutils.other.read_data_and_build_rd import *"
   ]
  },
  {
   "cell_type": "code",
   "execution_count": 6,
   "metadata": {},
   "outputs": [],
   "source": [
    "withPlots = 0"
   ]
  },
  {
   "cell_type": "code",
   "execution_count": 8,
   "metadata": {},
   "outputs": [
    {
     "name": "stdout",
     "output_type": "stream",
     "text": [
      "T = 0.0006, samplesPerRamp = 6000.00, samplesPerFile = 9000000.00\n"
     ]
    }
   ],
   "source": [
    "fmin = 5.725e9\n",
    "fMAX = 5.875e9\n",
    "fc = 5.8e9\n",
    "B = fMAX - fmin\n",
    "c = 3e8\n",
    "kc = 4 * np.pi * fc / c\n",
    "fs = 10e6\n",
    "\n",
    "rail = 0\n",
    "truck = 1\n",
    "plane = 2\n",
    "vehicule = plane\n",
    "\n",
    "if vehicule == rail: \n",
    "    # the objective is to have about 250 positions with an azimuth range of 3m, i.e. 0.012m steps\n",
    "    # with T = 30e-3, this yields to V = 0.012 / 30e-3 = 0.4\n",
    "    # 10 files correspond to 3m\n",
    "    T = 30e-3\n",
    "    rampsPerFile = 25\n",
    "    V = 0.4 # 0.1\n",
    "if vehicule == truck:\n",
    "    T = 5e-3\n",
    "    rampsPerFile = 200\n",
    "    V = 3\n",
    "if vehicule == plane:\n",
    "    T = 600e-6\n",
    "    rampsPerFile = 1500\n",
    "    V = 40\n",
    "\n",
    "alpha = 2 * (fMAX - fmin) / T\n",
    "samplesPerRamp = int( np.ceil( T * fs ) )\n",
    "samplesPerFile = rampsPerFile * samplesPerRamp\n",
    "samplesPerUpRamp = int( samplesPerRamp / 2 )\n",
    "\n",
    "print(\"T = {}, samplesPerRamp = {:.2f}, samplesPerFile = {:.2f}\".format(T, samplesPerRamp, samplesPerFile))\n",
    "\n",
    "t1 = np.arange( 0, T, 1/fs)\n",
    "t2 = np.arange( -T/2, T/2, 1/fs)"
   ]
  },
  {
   "cell_type": "markdown",
   "metadata": {},
   "source": [
    "# Build data"
   ]
  },
  {
   "cell_type": "code",
   "execution_count": 9,
   "metadata": {},
   "outputs": [],
   "source": [
    "nbFiles = 20"
   ]
  },
  {
   "cell_type": "code",
   "execution_count": 10,
   "metadata": {},
   "outputs": [],
   "source": [
    "a = 0.603354564402 # sinc(a) = 0.5\n",
    "b = a * 180 / (30 * np.pi) # see the newton notebook for further details about the calculation"
   ]
  },
  {
   "cell_type": "code",
   "execution_count": 11,
   "metadata": {},
   "outputs": [
    {
     "name": "stdout",
     "output_type": "stream",
     "text": [
      "d0_corner = 494.97, gr_corner = 350.00, az_corner = 360.00\n"
     ]
    }
   ],
   "source": [
    "hPlane = 440\n",
    "hCorner = 90\n",
    "gr_corner = 350\n",
    "d0_corner = ( (hPlane - hCorner)**2 + gr_corner**2 )**0.5 # range of closest approach\n",
    "az_corner = V * T * nbFiles * rampsPerFile / 2\n",
    "noise = 1\n",
    "print(\"d0_corner = {:.2f}, gr_corner = {:.2f}, az_corner = {:.2f}\".format(d0_corner, gr_corner, az_corner))"
   ]
  },
  {
   "cell_type": "code",
   "execution_count": 12,
   "metadata": {},
   "outputs": [
    {
     "name": "stdout",
     "output_type": "stream",
     "text": [
      "Laz = 720, phi = 36.0°\n"
     ]
    }
   ],
   "source": [
    "Laz = nbFiles * rampsPerFile * T * V\n",
    "phi = np.arctan( (Laz/2) / d0_corner )\n",
    "print( \"Laz = {:.0f}, phi = {:.1f}°\".format( Laz, phi * 180 / np.pi ) )"
   ]
  },
  {
   "cell_type": "code",
   "execution_count": 14,
   "metadata": {},
   "outputs": [
    {
     "name": "stdout",
     "output_type": "stream",
     "text": [
      "0.0, azn = 0.00, wa = 0.2, phi = 36.0, dn = 612.0\n",
      "1.0, azn = 36.00, wa = 0.3, phi = 33.2, dn = 591.6\n",
      "2.0, azn = 72.00, wa = 0.4, phi = 30.2, dn = 572.7\n",
      "3.0, azn = 108.00, wa = 0.5, phi = 27.0, dn = 555.4\n",
      "4.0, azn = 144.00, wa = 0.6, phi = 23.6, dn = 540.1\n",
      "5.0, azn = 180.00, wa = 0.7, phi = 20.0, dn = 526.7\n",
      "6.0, azn = 216.00, wa = 0.8, phi = 16.2, dn = 515.5\n",
      "7.0, azn = 252.00, wa = 0.9, phi = 12.3, dn = 506.6\n",
      "8.0, azn = 288.00, wa = 0.9, phi = 8.3, dn = 500.2\n",
      "9.0, azn = 324.00, wa = 1.0, phi = 4.2, dn = 496.3\n",
      "10.0, azn = 360.00, wa = 1.0, phi = 0.0, dn = 495.0\n",
      "11.0, azn = 396.00, wa = 1.0, phi = 4.2, dn = 496.3\n",
      "12.0, azn = 432.00, wa = 0.9, phi = 8.3, dn = 500.2\n",
      "13.0, azn = 468.00, wa = 0.9, phi = 12.3, dn = 506.6\n",
      "14.0, azn = 504.00, wa = 0.8, phi = 16.2, dn = 515.5\n",
      "15.0, azn = 540.00, wa = 0.7, phi = 20.0, dn = 526.7\n",
      "16.0, azn = 576.00, wa = 0.6, phi = 23.6, dn = 540.1\n",
      "17.0, azn = 612.00, wa = 0.5, phi = 27.0, dn = 555.4\n",
      "18.0, azn = 648.00, wa = 0.4, phi = 30.2, dn = 572.7\n",
      "19.0, azn = 684.00, wa = 0.3, phi = 33.2, dn = 591.6\n"
     ]
    }
   ],
   "source": [
    "sr_c = np.zeros( (nbFiles * rampsPerFile, samplesPerRamp), dtype=complex )\n",
    "sr_r = np.zeros( (nbFiles * rampsPerFile, samplesPerRamp) )\n",
    "for ramp in range( nbFiles * rampsPerFile):\n",
    "    azn = ramp * T * V\n",
    "    dn = ( d0_corner**2 + (azn - az_corner)**2 )**0.5\n",
    "    noisen = np.random.randn( samplesPerRamp ) * noise / (dn**2)\n",
    "    sr_c[ ramp,  0 : samplesPerRamp ] = sb1_tri( t2, dn, alpha, fc ) * wa( azn - az_corner, d0_corner, b ) \\\n",
    "    + noisen\n",
    "    sr_r[ ramp,  0 : samplesPerRamp ] = sb1_tri_r( t2, dn, alpha, fc ) * wa( azn - az_corner, d0_corner, b ) \\\n",
    "    + noisen\n",
    "    file = ramp/rampsPerFile\n",
    "    if file == np.floor(file):\n",
    "        phi = np.arccos( d0_corner / dn ) * 180 / np.pi\n",
    "        print( \"{}, azn = {:.2f}, wa = {:.1f}, phi = {:.1f}, dn = {:.1f}\".format( \n",
    "            file, azn, wa( azn - az_corner, d0_corner ), phi, dn ) )"
   ]
  },
  {
   "cell_type": "code",
   "execution_count": 15,
   "metadata": {},
   "outputs": [],
   "source": [
    "sr_r0 = sr_r[0,:] * 2\n",
    "sr_c0 = sr_c[0,:]\n",
    "sr_r_b = np.real( sr_c ) * 2\n",
    "sr_r0_b = sr_r_b[0,:]\n",
    "if withPlots == 1:\n",
    "    plt.figure()\n",
    "    plt.plot( np.real( sr_r0 ), 'd-', label=\"sr_r0\" )\n",
    "    plt.plot( np.real( sr_r0_b ), '.-', label=\"sr_r0_b\" )\n",
    "    plt.grid()\n",
    "    plt.legend()"
   ]
  },
  {
   "cell_type": "markdown",
   "metadata": {},
   "source": [
    "Compare two ways of computing the real signal, by taking the real part of the complex signal $ sr_{rb} = real( sr_c ) * 2 $ or by computing directly in real $ sr_r $.\n",
    "\n",
    "**Conclusion:** results are the same."
   ]
  },
  {
   "cell_type": "code",
   "execution_count": 16,
   "metadata": {},
   "outputs": [],
   "source": [
    "if withPlots == 1:\n",
    "    plt.figure()\n",
    "    plt.suptitle(\"ifft\")\n",
    "    plt.subplot(211)\n",
    "    plt.plot( np.real( np.fft.ifft( sr_r0 ) ), label=\"sr_r0\" )\n",
    "    plt.plot( np.real( np.fft.ifft( sr_c0 ) ), 'd', label=\"sr_c0\" )\n",
    "    plt.plot( np.real( np.fft.ifft( sr_r0_b ) ), '.', label=\"sr_r0_b\" )\n",
    "    plt.grid()\n",
    "    plt.legend()\n",
    "    plt.subplot(212)\n",
    "    plt.plot( np.imag( np.fft.ifft( sr_r0 ) ), label=\"sr_r0\" )\n",
    "    plt.plot( np.imag( np.fft.ifft( sr_c0 ) ), 'd', label=\"sr_c0\" )\n",
    "    plt.plot( np.imag( np.fft.ifft( sr_r0_b ) ), '.', label=\"sr_r0_b\" )\n",
    "    plt.grid()\n",
    "    plt.legend()"
   ]
  },
  {
   "cell_type": "code",
   "execution_count": 17,
   "metadata": {},
   "outputs": [
    {
     "data": {
      "text/plain": [
       "(-0.17994937614073112,\n",
       " (-0.17994937614072545+0.13278479064592102j),\n",
       " -0.17994937614072545)"
      ]
     },
     "execution_count": 17,
     "metadata": {},
     "output_type": "execute_result"
    }
   ],
   "source": [
    "sr_r0[10], sr_c0[10]*2, sr_r0_b[10]"
   ]
  },
  {
   "cell_type": "code",
   "execution_count": 18,
   "metadata": {},
   "outputs": [],
   "source": [
    "sa_r0 = signal.hilbert( sr_r0 ) / 2\n",
    "if withPlots == 1:\n",
    "    plt.figure()\n",
    "    plt.suptitle(\"fft\")\n",
    "    plt.subplot(211)\n",
    "    plt.plot( np.real( np.fft.fft( sr_r0 ) ), label=\"sr_r0\" )\n",
    "    plt.plot( np.real( np.fft.fft( sr_c0 ) ), 'd', label=\"sr_c0\" )\n",
    "    plt.plot( np.real( np.fft.fft( sa_r0 ) ), '.', label=\"sa_r0\" )\n",
    "    plt.grid()\n",
    "    plt.legend()\n",
    "    plt.subplot(212)\n",
    "    plt.plot( np.imag( np.fft.fft( sr_r0 ) ), label=\"sr_r0\" )\n",
    "    plt.plot( np.imag( np.fft.fft( sr_c0 ) ), 'd', label=\"sr_c0\" )\n",
    "    plt.plot( np.imag( np.fft.fft( sa_r0 ) ), '.', label=\"sa_r0\" )\n",
    "    plt.grid()\n",
    "    plt.legend()"
   ]
  },
  {
   "cell_type": "markdown",
   "metadata": {},
   "source": [
    "Compare the complex signal computed using RD_realtocomp and the scipy hilbert complex conjugate.\n",
    "\n",
    "**Conclusion:** results are the same."
   ]
  },
  {
   "cell_type": "code",
   "execution_count": 19,
   "metadata": {},
   "outputs": [],
   "source": [
    "sa_r0 = np.conjugate( signal.hilbert( sr_r0 ) )[::2]\n",
    "RDc0 = RD_realtocomp( sr_r0 )\n",
    "#RDc0 = RDc[0,:] * 2"
   ]
  },
  {
   "cell_type": "code",
   "execution_count": 20,
   "metadata": {},
   "outputs": [],
   "source": [
    "if withPlots == 1:\n",
    "    plt.figure()\n",
    "    plt.suptitle(\"timeseries and ifft\")\n",
    "    ax1 = plt.subplot(221)\n",
    "    plt.plot( np.real( sa_r0 ), 'd-', label=\"sa_r0\" )\n",
    "    plt.plot( np.real( RDc0 ), '.', label=\"RDc\" )\n",
    "    plt.grid()\n",
    "    plt.legend()\n",
    "    plt.subplot(222, sharex=ax1)\n",
    "    plt.plot( np.imag( sa_r0 ), 'd-', label=\"sa_r0\" )\n",
    "    plt.plot( np.imag( RDc0 ), '.', label=\"RDc\" )\n",
    "    plt.grid()\n",
    "    plt.legend()\n",
    "    ax2 = plt.subplot(223)\n",
    "    plt.plot( np.real( np.fft.ifft( sa_r0 ) ), 'd-', label=\"sa_r0\" )\n",
    "    plt.plot( np.real( np.fft.ifft( RDc0 ) ), '.', label=\"RDc\" )\n",
    "    plt.grid()\n",
    "    plt.legend()\n",
    "    plt.subplot(224, sharex=ax2)\n",
    "    plt.plot( np.imag( np.fft.ifft( sa_r0 ) ), 'd-', label=\"sa_r0\" )\n",
    "    plt.plot( np.imag( np.fft.ifft( RDc0 ) ), '.', label=\"RDc\" )\n",
    "    plt.grid()"
   ]
  },
  {
   "cell_type": "markdown",
   "metadata": {},
   "source": [
    "Compare the analytic signal computed with scipy hilbert complex conjugate and the complex signal $sr_c$.\n",
    "\n",
    "**Conclusion:** little differences at the beginning of the series."
   ]
  },
  {
   "cell_type": "code",
   "execution_count": 21,
   "metadata": {},
   "outputs": [],
   "source": [
    "sa_r0 = np.conjugate( signal.hilbert( sr_r0 ) )\n",
    "sr_c0 = sr_c[0,:]"
   ]
  },
  {
   "cell_type": "code",
   "execution_count": 22,
   "metadata": {},
   "outputs": [],
   "source": [
    "if withPlots == 1:\n",
    "    plt.figure()\n",
    "    ax1 = plt.subplot(221)\n",
    "    plt.plot( np.real( sa_r0 ), 'd-', label=\"sa_r0\" )\n",
    "    plt.plot( np.real( sr_c0*2 ), '.', label=\"sr_c0\" )\n",
    "    plt.grid()\n",
    "    plt.legend()\n",
    "    plt.subplot(222, sharex=ax1)\n",
    "    plt.plot( np.imag( sa_r0 ), 'd-', label=\"sa_r0\" )\n",
    "    plt.plot( np.imag( sr_c0*2 ), '.', label=\"sr_c0\" )\n",
    "    plt.grid()\n",
    "    plt.legend()\n",
    "    ax2 = plt.subplot(223)\n",
    "    plt.plot( np.real( np.fft.ifft( sa_r0 ) ), 'd-', label=\"sa_r0\" )\n",
    "    plt.plot( np.real( np.fft.ifft( sr_c0*2 ) ), '.', label=\"RDc\" )\n",
    "    plt.grid()\n",
    "    plt.legend()\n",
    "    plt.subplot(224, sharex=ax2)\n",
    "    plt.plot( np.imag( np.fft.ifft( sa_r0 ) ), 'd-', label=\"sa_r0\" )\n",
    "    plt.plot( np.imag( np.fft.ifft( sr_c0*2 ) ), '.', label=\"RDc\" )\n",
    "    plt.grid()"
   ]
  },
  {
   "cell_type": "code",
   "execution_count": 23,
   "metadata": {},
   "outputs": [],
   "source": [
    "if withPlots == 1:\n",
    "    plt.figure()\n",
    "    ax1 = plt.subplot(211)\n",
    "    plt.plot( 20 * np.log10( np.abs( sa_r0 ) ), 'd-', label=\"sa_r0\" )\n",
    "    plt.plot( 20 * np.log10( np.abs( sr_c0*2 ) ), 'xy', label=\"sr_c0\" )\n",
    "    plt.grid()\n",
    "    plt.legend()\n",
    "    plt.subplot(212, sharex=ax1)\n",
    "    plt.plot( np.unwrap( np.angle( sa_r0 ) ), 'd-', label=\"sa_r0\" )\n",
    "    plt.plot( np.unwrap( np.angle( sr_c0*2 ) ), 'xy', label=\"sr_c0\" )\n",
    "    plt.grid()\n",
    "    plt.legend()"
   ]
  },
  {
   "cell_type": "markdown",
   "metadata": {},
   "source": [
    "# Save data"
   ]
  },
  {
   "cell_type": "markdown",
   "metadata": {},
   "source": [
    "Keep only up ramps to build the complex incoming signal with numpy hilbert complex conjugate."
   ]
  },
  {
   "cell_type": "code",
   "execution_count": 24,
   "metadata": {},
   "outputs": [],
   "source": [
    "#complexSignal = np.conjugate(\n",
    "#    signal.hilbert( sr_r[:, 0:samplesPerUpRamp], axis=1 )[:, ::2]\n",
    "#)\n",
    "complexSignal = sr_c[:, 0:samplesPerUpRamp:2]"
   ]
  },
  {
   "cell_type": "code",
   "execution_count": 25,
   "metadata": {},
   "outputs": [
    {
     "name": "stdout",
     "output_type": "stream",
     "text": [
      "srf.shape = (30000, 1500)\n"
     ]
    }
   ],
   "source": [
    "srf = np.fft.ifft( complexSignal, axis=1 )\n",
    "print( \"srf.shape = {}\".format(srf.shape))"
   ]
  },
  {
   "cell_type": "code",
   "execution_count": 26,
   "metadata": {},
   "outputs": [],
   "source": [
    "srf_dB = 20 * np.log10( np.abs( srf ) )"
   ]
  },
  {
   "cell_type": "code",
   "execution_count": 27,
   "metadata": {},
   "outputs": [
    {
     "name": "stdout",
     "output_type": "stream",
     "text": [
      "srf_min = -186.47, srf_max = -0.00, srf_med = -69.78\n"
     ]
    }
   ],
   "source": [
    "srf_min = np.amin(srf_dB)\n",
    "srf_max = np.amax(srf_dB)\n",
    "srf_med = np.median(srf_dB)\n",
    "print(\"srf_min = {:.2f}, srf_max = {:.2f}, srf_med = {:.2f}\".format(srf_min, srf_max, srf_med))"
   ]
  },
  {
   "cell_type": "code",
   "execution_count": 28,
   "metadata": {},
   "outputs": [],
   "source": [
    "if withPlots == 1:\n",
    "    plt.figure()\n",
    "    plt.imshow( srf_dB[::10, 0:2000], cmap='jet' )"
   ]
  },
  {
   "cell_type": "code",
   "execution_count": 29,
   "metadata": {},
   "outputs": [],
   "source": [
    "data_dir = \"/home/pleroy/DATA/SIMU\"\n",
    "np.save( data_dir + \"/complexSignalFrom_sr_c_nb{}_gr{}_T{}_rpf{}_V{}\".format(\n",
    "    nbFiles, gr_corner, T, rampsPerFile, V), complexSignal )"
   ]
  },
  {
   "cell_type": "markdown",
   "metadata": {},
   "source": [
    "# Time series"
   ]
  },
  {
   "cell_type": "code",
   "execution_count": null,
   "metadata": {},
   "outputs": [],
   "source": [
    "plt.figure()\n",
    "r = 2\n",
    "tau = 2 * r / c\n",
    "print( \"tau = {}, f = {}\".format(tau, alpha*tau) )\n",
    "\n",
    "ax = plt.subplot( 211 )\n",
    "plt.plot( np.real( sb1( t1, r, alpha, fc ) ) )\n",
    "plt.plot( np.real( sb1_tri( t1, r, alpha, fc ) ) )\n",
    "plt.grid()\n",
    "\n",
    "plt.subplot( 212, sharex=ax )\n",
    "plt.plot( np.imag( sb1( t1, r, alpha, fc ) ) )\n",
    "plt.plot( np.imag( sb1_tri( t1, r, alpha, fc ) ) )\n",
    "plt.grid()"
   ]
  },
  {
   "cell_type": "code",
   "execution_count": null,
   "metadata": {},
   "outputs": [],
   "source": [
    "t1.shape"
   ]
  },
  {
   "cell_type": "code",
   "execution_count": null,
   "metadata": {},
   "outputs": [],
   "source": [
    "plt.figure()\n",
    "r = 1000.5\n",
    "tau = 2 * r / c\n",
    "print( \"tau = {}, f = {}\".format(tau, alpha*tau) )\n",
    "sb1_t1 = np.real( sb1( t1[0:3000], r ) )\n",
    "sb2_t1 = np.real( sb2( t1[0:3000], r ) )\n",
    "plt.subplot(311)\n",
    "plt.plot( 20 * np.log10(np.abs(np.fft.ifft( sb1_t1 ) ) ) )\n",
    "plt.plot( 20 * np.log10(np.abs(np.fft.ifft( sb2_t1 ) ) ) )\n",
    "plt.subplot(312)\n",
    "plt.plot( np.real(np.fft.ifft( sb1_t1 ) ) )\n",
    "plt.plot( np.real(np.fft.ifft( sb2_t1 ) ) )\n",
    "plt.subplot(313)\n",
    "plt.plot( np.imag(np.fft.ifft( sb1_t1 ) ) )\n",
    "plt.plot( np.imag(np.fft.ifft( sb2_t1 ) ) )"
   ]
  }
 ],
 "metadata": {
  "kernelspec": {
   "display_name": "Python 3",
   "language": "python",
   "name": "python3"
  },
  "language_info": {
   "codemirror_mode": {
    "name": "ipython",
    "version": 3
   },
   "file_extension": ".py",
   "mimetype": "text/x-python",
   "name": "python",
   "nbconvert_exporter": "python",
   "pygments_lexer": "ipython3",
   "version": "3.6.3"
  }
 },
 "nbformat": 4,
 "nbformat_minor": 2
}
