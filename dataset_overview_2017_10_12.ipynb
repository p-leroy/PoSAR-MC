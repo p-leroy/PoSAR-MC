{
 "cells": [
  {
   "cell_type": "code",
   "execution_count": 1,
   "metadata": {
    "collapsed": true
   },
   "outputs": [],
   "source": [
    "import numpy as np\n",
    "import matplotlib.pyplot as plt\n",
    "%matplotlib qt5"
   ]
  },
  {
   "cell_type": "code",
   "execution_count": 2,
   "metadata": {
    "collapsed": true
   },
   "outputs": [],
   "source": [
    "prefix = \"/home/pleroy/DATA/PoSAR-MC_PIMA_TEST-3/2017_10_12_\"\n",
    "data_dir = prefix + \"11_16_40\""
   ]
  },
  {
   "cell_type": "code",
   "execution_count": 5,
   "metadata": {
    "collapsed": true
   },
   "outputs": [],
   "source": [
    "blocksPerFile = 6\n",
    "firstFile = 0\n",
    "lastFile = 444\n",
    "numberOfFiles = int( (lastFile-firstFile) / blocksPerFile ) + 1\n",
    "\n",
    "samplesPerRamp = 6000\n",
    "rampsPerFile = 1500\n",
    "\n",
    "numberOfSamplesToRead = 2000"
   ]
  },
  {
   "cell_type": "code",
   "execution_count": 8,
   "metadata": {},
   "outputs": [
    {
     "data": {
      "text/plain": [
       "75"
      ]
     },
     "execution_count": 8,
     "metadata": {},
     "output_type": "execute_result"
    }
   ],
   "source": [
    "numberOfFiles"
   ]
  },
  {
   "cell_type": "code",
   "execution_count": 6,
   "metadata": {},
   "outputs": [
    {
     "name": "stdout",
     "output_type": "stream",
     "text": [
      "0 / 444\n",
      "6 / 444\n",
      "12 / 444\n",
      "18 / 444\n",
      "24 / 444\n",
      "30 / 444\n",
      "36 / 444\n",
      "42 / 444\n",
      "48 / 444\n",
      "54 / 444\n",
      "60 / 444\n",
      "66 / 444\n",
      "72 / 444\n",
      "78 / 444\n",
      "84 / 444\n",
      "90 / 444\n",
      "96 / 444\n",
      "102 / 444\n",
      "108 / 444\n",
      "114 / 444\n",
      "120 / 444\n",
      "126 / 444\n",
      "132 / 444\n",
      "138 / 444\n",
      "144 / 444\n",
      "150 / 444\n",
      "156 / 444\n",
      "162 / 444\n",
      "168 / 444\n",
      "174 / 444\n",
      "180 / 444\n",
      "186 / 444\n",
      "192 / 444\n",
      "198 / 444\n",
      "204 / 444\n",
      "210 / 444\n",
      "216 / 444\n",
      "222 / 444\n",
      "228 / 444\n",
      "234 / 444\n",
      "240 / 444\n",
      "246 / 444\n",
      "252 / 444\n",
      "258 / 444\n",
      "264 / 444\n",
      "270 / 444\n",
      "276 / 444\n",
      "282 / 444\n",
      "288 / 444\n",
      "294 / 444\n",
      "300 / 444\n",
      "306 / 444\n",
      "312 / 444\n",
      "318 / 444\n",
      "324 / 444\n",
      "330 / 444\n",
      "336 / 444\n",
      "342 / 444\n",
      "348 / 444\n",
      "354 / 444\n",
      "360 / 444\n",
      "366 / 444\n",
      "372 / 444\n",
      "378 / 444\n",
      "384 / 444\n",
      "390 / 444\n",
      "396 / 444\n",
      "402 / 444\n",
      "408 / 444\n",
      "414 / 444\n",
      "420 / 444\n",
      "426 / 444\n",
      "432 / 444\n",
      "438 / 444\n",
      "444 / 444\n"
     ]
    }
   ],
   "source": [
    "timeSeries_A = np.zeros( (numberOfFiles, numberOfSamplesToRead) )\n",
    "timeSeries_B = np.zeros( (numberOfFiles, numberOfSamplesToRead) )\n",
    "dum = np.zeros( numberOfSamplesToRead * 2 )\n",
    "\n",
    "fileNumber = 0\n",
    "\n",
    "for loop in range (firstFile, lastFile+1, blocksPerFile ):\n",
    "    print( str(loop) + ' / ' + str(lastFile) )\n",
    "    # open the file containing data\n",
    "    stream = data_dir + '/record' + str(loop) + '.bin'\n",
    "    fd = open(stream,'rb')\n",
    "    # get the data contained in the file ramp by ramp\n",
    "    dum = np.fromfile(fd, dtype = np.int16, count = numberOfSamplesToRead * 2)\n",
    "    timeSeries_A[fileNumber, :] = dum[ 0 : 2 * numberOfSamplesToRead : 2 ]\n",
    "    timeSeries_B[fileNumber, :] = dum[ 1 : 2 * numberOfSamplesToRead : 2 ]\n",
    "    \n",
    "    fileNumber = fileNumber + 1\n",
    "    \n",
    "    fd.close()"
   ]
  },
  {
   "cell_type": "code",
   "execution_count": 10,
   "metadata": {},
   "outputs": [
    {
     "data": {
      "text/plain": [
       "<matplotlib.legend.Legend at 0x7f1637d2db70>"
      ]
     },
     "execution_count": 10,
     "metadata": {},
     "output_type": "execute_result"
    }
   ],
   "source": [
    "plt.figure()\n",
    "for k in range(70,75):\n",
    "    plt.plot(timeSeries_B[k,0:6000], label=str(k) )\n",
    "plt.legend()"
   ]
  },
  {
   "cell_type": "code",
   "execution_count": 23,
   "metadata": {},
   "outputs": [
    {
     "data": {
      "text/plain": [
       "<matplotlib.legend.Legend at 0x7f25df819f98>"
      ]
     },
     "execution_count": 23,
     "metadata": {},
     "output_type": "execute_result"
    }
   ],
   "source": [
    "plt.figure()\n",
    "for k in range(18,20):\n",
    "    plt.plot(timeSeries_B[k,0:6000], label=str(k) )\n",
    "plt.legend()"
   ]
  },
  {
   "cell_type": "code",
   "execution_count": 11,
   "metadata": {
    "collapsed": true
   },
   "outputs": [],
   "source": [
    "plt.figure()\n",
    "for k in range(2):\n",
    "    plt.plot(timeSeries_A[k,0:6000])"
   ]
  },
  {
   "cell_type": "code",
   "execution_count": 19,
   "metadata": {},
   "outputs": [
    {
     "data": {
      "text/plain": [
       "[<matplotlib.lines.Line2D at 0x7f25ed37e208>]"
      ]
     },
     "execution_count": 19,
     "metadata": {},
     "output_type": "execute_result"
    }
   ],
   "source": [
    "plt.plot(timeSeries_B[19,:])"
   ]
  },
  {
   "cell_type": "code",
   "execution_count": 26,
   "metadata": {
    "collapsed": true
   },
   "outputs": [],
   "source": [
    "A_reshaped = timeSeries_A.reshape(numberOfFiles * rampsPerFile, samplesPerRamp)"
   ]
  }
 ],
 "metadata": {
  "kernelspec": {
   "display_name": "Python 3",
   "language": "python",
   "name": "python3"
  },
  "language_info": {
   "codemirror_mode": {
    "name": "ipython",
    "version": 3
   },
   "file_extension": ".py",
   "mimetype": "text/x-python",
   "name": "python",
   "nbconvert_exporter": "python",
   "pygments_lexer": "ipython3",
   "version": "3.6.2"
  }
 },
 "nbformat": 4,
 "nbformat_minor": 2
}
