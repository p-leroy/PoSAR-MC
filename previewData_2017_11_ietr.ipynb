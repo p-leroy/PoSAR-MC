{
 "cells": [
  {
   "cell_type": "code",
   "execution_count": 1,
   "metadata": {
    "collapsed": true
   },
   "outputs": [],
   "source": [
    "import numpy as np\n",
    "import matplotlib.pyplot as plt\n",
    "%matplotlib qt5"
   ]
  },
  {
   "cell_type": "code",
   "execution_count": 2,
   "metadata": {
    "collapsed": true
   },
   "outputs": [],
   "source": [
    "from posarmctools.readdata import *\n",
    "%load_ext autoreload\n",
    "%autoreload 2"
   ]
  },
  {
   "cell_type": "code",
   "execution_count": 3,
   "metadata": {
    "collapsed": true
   },
   "outputs": [],
   "source": [
    "import sys"
   ]
  },
  {
   "cell_type": "code",
   "execution_count": 4,
   "metadata": {
    "collapsed": true
   },
   "outputs": [],
   "source": [
    "sys.path.insert(0, \"/home/pleroy/DEV/processing/focalization_python\")\n",
    "from posarutils.other.read_data_and_build_rd import *\n",
    "from posarutils.other.PosarMCParameters import *"
   ]
  },
  {
   "cell_type": "code",
   "execution_count": 5,
   "metadata": {},
   "outputs": [
    {
     "data": {
      "text/plain": [
       "0.2"
      ]
     },
     "execution_count": 5,
     "metadata": {},
     "output_type": "execute_result"
    }
   ],
   "source": [
    "600/3000"
   ]
  },
  {
   "cell_type": "code",
   "execution_count": null,
   "metadata": {
    "collapsed": true
   },
   "outputs": [],
   "source": [
    "data_date = \"2017_11_09_07_27_46\"\n",
    "data_dir = \"/home/pleroy/DATA/2017_11_ietr/\" + data_date\n",
    "params_filename = data_dir + \"/\" + data_date + \"_parameters.xml\"\n",
    "\n",
    "data_date2 = \"2017_11_09_07_30_38\"\n",
    "data_dir2 = \"/home/pleroy/DATA/2017_11_ietr/\" + data_date2\n",
    "params_filename2 = data_dir2 + \"/\" + data_date2 + \"_parameters.xml\"\n",
    "\n",
    "data_date3 = \"2017_11_08_07_36_38\"\n",
    "data_dir3 = \"/home/pleroy/DATA/2017_11_ietr/\" + data_date3\n",
    "params_filename3 = data_dir3 + \"/\" + data_date3 + \"_parameters.xml\"\n",
    "\n",
    "data_date4 = \"2017_10_12_10_39_23\"\n",
    "data_dir4 = \"/home/pleroy/DATA/PoSAR-MC_PIMA_TEST-3/2017_10_12/\" + data_date4\n",
    "params_filename4 = data_dir4 + \"/\" + data_date4 + \"_parameters.xml\"\n",
    "\n",
    "data_date40 = \"2017_10_12_11_47_05\"\n",
    "data_dir40 = \"/home/pleroy/DATA/PoSAR-MC_PIMA_TEST-3/2017_10_12/\" + data_date40\n",
    "params_filename40 = data_dir40 + \"/\" + data_date40 + \"_parameters.xml\"\n",
    "\n",
    "data_date41 = \"2017_10_12_11_16_40\"\n",
    "data_dir41 = \"/home/pleroy/DATA/PoSAR-MC_PIMA_TEST-3/2017_10_12/\" + data_date41\n",
    "params_filename41 = data_dir41 + \"/\" + data_date41 + \"_parameters.xml\"\n",
    "\n",
    "data_date5 = \"2017_10_12_13_40_43\"\n",
    "data_dir5 = \"/home/pleroy/DATA/PoSAR-MC_PIMA_TEST-3/2017_10_12/\" + data_date5\n",
    "params_filename5 = data_dir5 + \"/\" + data_date5 + \"_parameters.xml\""
   ]
  },
  {
   "cell_type": "code",
   "execution_count": null,
   "metadata": {
    "collapsed": true
   },
   "outputs": [],
   "source": [
    "params = PosarMCParameters( params_filename )\n",
    "params2 = PosarMCParameters( params_filename2 )\n",
    "params3 = PosarMCParameters( params_filename3 )\n",
    "params4 = PosarMCParameters( params_filename4 )\n",
    "params40 = PosarMCParameters( params_filename40 )\n",
    "params41 = PosarMCParameters( params_filename41 )\n",
    "params5 = PosarMCParameters( params_filename5 )"
   ]
  },
  {
   "cell_type": "code",
   "execution_count": null,
   "metadata": {
    "collapsed": true
   },
   "outputs": [],
   "source": [
    "nbFiles = 1"
   ]
  },
  {
   "cell_type": "markdown",
   "metadata": {},
   "source": [
    "### Read the data"
   ]
  },
  {
   "cell_type": "code",
   "execution_count": null,
   "metadata": {
    "collapsed": true
   },
   "outputs": [],
   "source": [
    "def readAdcA( data_dir, nbFiles, params ):\n",
    "    blocksPerFile = params.blocksPerFile\n",
    "    samplesPerFile = params.rampsPerFile * params.samplesPerRamp\n",
    "    timeSerie_A = np.zeros( samplesPerFile )\n",
    "    timeSerie_B = np.zeros( samplesPerFile )\n",
    "    lastBlock = (nbFiles-1) * blocksPerFile\n",
    "    \n",
    "    print( \"blocksPerFile = {}, samplesPerRamps = {}, rampsPerFile = {}, samplesPerFile = {}\".format(\n",
    "        params.blocksPerFile, params.samplesPerRamp, params.rampsPerFile, samplesPerRamp * rampsPerFile) \n",
    "     )\n",
    "    \n",
    "    adc = np.zeros( (nbFiles, samplesPerFile) )\n",
    "    \n",
    "    for k in range( nbFiles ):\n",
    "    \n",
    "        # read the data\n",
    "        nb = str( int( k * blocksPerFile ) )\n",
    "        filename = data_dir + \"/record\" + nb + \".bin\"\n",
    "        readFile( filename, samplesPerFile, timeSerie_A, timeSerie_B )\n",
    "    \n",
    "        print(\"k = {}, block = {} / {}\".format(k, nb, lastBlock ))\n",
    "    \n",
    "        adc[ k, : ] = timeSerie_A\n",
    "        \n",
    "    return adc"
   ]
  },
  {
   "cell_type": "code",
   "execution_count": null,
   "metadata": {},
   "outputs": [],
   "source": [
    "adc_A = readAdcA( data_dir, nbFiles, params )"
   ]
  },
  {
   "cell_type": "code",
   "execution_count": null,
   "metadata": {},
   "outputs": [],
   "source": [
    "adc_A2 = readAdcA( data_dir2, nbFiles, params2 )"
   ]
  },
  {
   "cell_type": "code",
   "execution_count": null,
   "metadata": {},
   "outputs": [],
   "source": [
    "adc_A3 = readAdcA( data_dir3, nbFiles, params3 )"
   ]
  },
  {
   "cell_type": "code",
   "execution_count": null,
   "metadata": {},
   "outputs": [],
   "source": [
    "adc_A4 = readAdcA( data_dir4, nbFiles, params4 )"
   ]
  },
  {
   "cell_type": "code",
   "execution_count": null,
   "metadata": {},
   "outputs": [],
   "source": [
    "adc_A5 = readAdcA( data_dir5, nbFiles, params5 )"
   ]
  },
  {
   "cell_type": "code",
   "execution_count": null,
   "metadata": {},
   "outputs": [],
   "source": [
    "adc_A40 = readAdcA( data_dir40, nbFiles, params40 )"
   ]
  },
  {
   "cell_type": "code",
   "execution_count": null,
   "metadata": {},
   "outputs": [],
   "source": [
    "adc_A41 = readAdcA( data_dir41, nbFiles, params41 )"
   ]
  },
  {
   "cell_type": "code",
   "execution_count": null,
   "metadata": {
    "collapsed": true
   },
   "outputs": [],
   "source": [
    "A_reshaped  = adc_A.reshape( nbFiles * params.rampsPerFile,  params.samplesPerRamp )\n",
    "A_reshaped2 = adc_A2.reshape(nbFiles * params2.rampsPerFile, params2.samplesPerRamp)\n",
    "A_reshaped3 = adc_A3.reshape(nbFiles * params3.rampsPerFile, params3.samplesPerRamp)\n",
    "A_reshaped4 = adc_A4.reshape(nbFiles * params4.rampsPerFile, params4.samplesPerRamp)\n",
    "A_reshaped40 = adc_A40.reshape(nbFiles * params40.rampsPerFile, params40.samplesPerRamp)\n",
    "A_reshaped41 = adc_A41.reshape(nbFiles * params41.rampsPerFile, params41.samplesPerRamp)\n",
    "A_reshaped5 = adc_A5.reshape(nbFiles * params5.rampsPerFile, params5.samplesPerRamp)"
   ]
  },
  {
   "cell_type": "markdown",
   "metadata": {},
   "source": [
    "**Check that the first ramp is an up ramp**"
   ]
  },
  {
   "cell_type": "code",
   "execution_count": null,
   "metadata": {},
   "outputs": [],
   "source": [
    "plt.figure()\n",
    "plt.plot( A_reshaped[0, :], label=\"A_reshaped\" )\n",
    "plt.plot( A_reshaped2[0, :], label=\"A_reshaped2\" )\n",
    "plt.plot( adc_A2[0, 3000:9000], label=\"A_reshaped2 shifted (3000 samples)\" )\n",
    "plt.plot( A_reshaped3[0, :], label=\"A_reshaped3\" )\n",
    "plt.plot( A_reshaped4[0, :], label=\"A_reshaped4 pre flight \" + data_date4 )\n",
    "plt.plot( A_reshaped40[0, :], label=\"A_reshaped40 flight \" + data_date40 )\n",
    "plt.plot( A_reshaped41[0, :], label=\"A_reshaped41 flight \" + data_date41 )\n",
    "\n",
    "plt.title(\"first acquisition\\n\" + data_date)\n",
    "plt.grid()\n",
    "plt.legend()"
   ]
  },
  {
   "cell_type": "code",
   "execution_count": null,
   "metadata": {},
   "outputs": [],
   "source": [
    "plt.figure()\n",
    "plt.plot( A_reshaped[0, :], label=\"A_reshaped\" )\n",
    "plt.plot( np.flipud( A_reshaped[0, 3000:6000] ), label=\"A_reshaped flipped\" )\n",
    "plt.title(\"first acquisition\\n\" + data_date)\n",
    "plt.grid()\n",
    "plt.legend()"
   ]
  },
  {
   "cell_type": "code",
   "execution_count": null,
   "metadata": {},
   "outputs": [],
   "source": [
    "plt.figure()\n",
    "plt.plot( A_reshaped41[0, 0:3000], label=\"A_reshape41\" )\n",
    "plt.plot( np.flipud( A_reshaped41[0, 3000:6000] ), label=\"A_reshape41 flipped\" )\n",
    "plt.title(\"first acquisition\\n\" + data_date41)\n",
    "plt.grid()\n",
    "plt.legend()"
   ]
  },
  {
   "cell_type": "code",
   "execution_count": null,
   "metadata": {
    "collapsed": true
   },
   "outputs": [],
   "source": [
    "plt.figure()\n",
    "\n",
    "window = np.hamming( 3000 )\n",
    "ifft41 = np.fft.ifft( A_reshaped41[0, 0:3000] * window )\n",
    "ifft41_flipped = np.fft.ifft( np.flipud( A_reshaped41[0, 3000:6000] ) * window )\n",
    "ifft41_notFlipped = np.fft.ifft( A_reshaped41[0, 3000:6000] * window )\n",
    "\n",
    "ax1 = plt.subplot(221)\n",
    "plt.plot( 20 * np.log( np.abs(  ifft41 ) ), label='ifft41' )\n",
    "plt.plot( 20 * np.log( np.abs(  ifft41_flipped ) ), label='ifft41_flipped' )\n",
    "#plt.plot( 20 * np.log( np.abs(  ifft41_notFlipped ) ) )\n",
    "plt.legend()\n",
    "plt.grid()\n",
    "\n",
    "plt.subplot(222, sharex = ax1)\n",
    "plt.plot( np.unwrap(  np.angle( ifft41 ) ) )\n",
    "plt.plot( np.unwrap(  np.angle( ifft41_flipped  ) ) )\n",
    "#plt.plot( np.unwrap(  np.angle( ifft41_notFlipped ) ) )\n",
    "plt.grid()\n",
    "\n",
    "plt.subplot(223, sharex = ax1)\n",
    "plt.plot( np.real(  ifft41 ) )\n",
    "plt.plot( np.real(  ifft41_flipped ) )\n",
    "#plt.plot( np.real(  ifft41_notFlipped) )\n",
    "plt.grid()\n",
    "\n",
    "plt.subplot(224, sharex = ax1)\n",
    "plt.plot( np.imag(  ifft41 ) )\n",
    "plt.plot( np.imag(  ifft41_flipped ) )\n",
    "#plt.plot( np.imag(  ifft41_notFlipped ) )\n",
    "plt.grid()"
   ]
  },
  {
   "cell_type": "code",
   "execution_count": null,
   "metadata": {},
   "outputs": [],
   "source": [
    "plt.plot(window)"
   ]
  },
  {
   "cell_type": "code",
   "execution_count": null,
   "metadata": {},
   "outputs": [],
   "source": [
    "teta = np.linspace(0, 2 * np.pi, 100)\n",
    "phi0 = 20 * np.pi / 180\n",
    "\n",
    "f0 = np.cos(teta + phi0)\n",
    "f1 = np.cos(-teta + phi0)\n",
    "flipped = np.fft.ifft( np.conjugate( np.fft.fft( f1 ) ) )\n",
    "\n",
    "plt.figure()\n",
    "plt.plot( f0, label='+teta' )\n",
    "plt.plot( f1, label = '-teta' )\n",
    "plt.plot( np.flipud( f1 ), '.' , label = '-teta flipped')\n",
    "plt.plot( flipped[1:], 'or', label='flipped by conjugate' )\n",
    "plt.legend()\n",
    "plt.grid()"
   ]
  },
  {
   "cell_type": "code",
   "execution_count": null,
   "metadata": {
    "collapsed": true
   },
   "outputs": [],
   "source": [
    "plt.figure()\n",
    "\n",
    "plt.plot()"
   ]
  },
  {
   "cell_type": "markdown",
   "metadata": {},
   "source": [
    "**Set the shifted flag properly**"
   ]
  },
  {
   "cell_type": "code",
   "execution_count": null,
   "metadata": {
    "collapsed": true
   },
   "outputs": [],
   "source": [
    "shifted = 0"
   ]
  },
  {
   "cell_type": "code",
   "execution_count": null,
   "metadata": {
    "collapsed": true
   },
   "outputs": [],
   "source": [
    "ifft_a = np.fft.ifft( (A_reshaped[::,0:3000]), axis = 1 )"
   ]
  },
  {
   "cell_type": "code",
   "execution_count": null,
   "metadata": {
    "collapsed": true
   },
   "outputs": [],
   "source": [
    "plt.figure()\n",
    "vmin = -15\n",
    "vmax = 7\n",
    "nbPointsInRange = 500\n",
    "plt.plot(  20 * np.log10( np.abs( ifft_a[2500,0:nbPointsInRange] ) ) )\n",
    "plt.plot( np.ones( nbPointsInRange ) * vmin, \"b\" )\n",
    "plt.plot( np.ones( nbPointsInRange ) * vmax, \"r\" )"
   ]
  },
  {
   "cell_type": "code",
   "execution_count": null,
   "metadata": {
    "collapsed": true
   },
   "outputs": [],
   "source": [
    "plt.matshow( 20 * np.log10( np.abs( ifft_a[:,100:500] ) ), \n",
    "            aspect='auto', vmin=-15, vmax=7, cmap='jet' )\n",
    "plt.title(\"Track 1 - record 2017_10_12_11_47_05\\nFiles {} to {}\".format(firstFile, lastFile) )"
   ]
  },
  {
   "cell_type": "markdown",
   "metadata": {},
   "source": [
    "## Remove coupling from raw data"
   ]
  },
  {
   "cell_type": "code",
   "execution_count": null,
   "metadata": {
    "collapsed": true
   },
   "outputs": [],
   "source": [
    "coupling_A = np.average( A_reshaped, 0 )\n",
    "A2 = A_reshaped - coupling_A"
   ]
  },
  {
   "cell_type": "markdown",
   "metadata": {},
   "source": [
    "## Build RD"
   ]
  },
  {
   "cell_type": "code",
   "execution_count": null,
   "metadata": {
    "collapsed": true
   },
   "outputs": [],
   "source": [
    "RDc = build_rd_from_data_upNdown( params, A_reshaped )"
   ]
  },
  {
   "cell_type": "code",
   "execution_count": null,
   "metadata": {
    "collapsed": true
   },
   "outputs": [],
   "source": [
    "coupling_RD = np.average(RDc, 0)\n",
    "coupling_up = np.average(RDc[::2,:], 0)\n",
    "coupling_down = np.average(RDc[1::2,:], 0)\n",
    "np.save( data_dir + \"/coupling_RD_files_{}_{}\".format(firstFile, lastFile), coupling_RD )"
   ]
  },
  {
   "cell_type": "code",
   "execution_count": null,
   "metadata": {
    "collapsed": true
   },
   "outputs": [],
   "source": [
    "#RD2[::2,:] = RD2[::2,:] - coupling_up\n",
    "#RD2[1::2,:] = RD2[::2,:] - coupling_down\n",
    "RD2 = RDc - coupling_RD"
   ]
  },
  {
   "cell_type": "code",
   "execution_count": null,
   "metadata": {
    "collapsed": true
   },
   "outputs": [],
   "source": [
    "plt.figure()\n",
    "plt.plot(np.abs(coupling_RD), 'k', label='coupling')\n",
    "plt.plot(np.abs(coupling_up), label='coupling_up')\n",
    "plt.plot(np.abs(coupling_down), label='coupling_down')\n",
    "plt.legend()\n",
    "plt.grid()"
   ]
  },
  {
   "cell_type": "code",
   "execution_count": null,
   "metadata": {
    "collapsed": true
   },
   "outputs": [],
   "source": [
    "ifft_RD = np.fft.ifft(RDc, axis = 1)\n",
    "print('ifft_RD done')\n",
    "ifft_RD_0 = np.fft.ifft(RDc[::2,:], axis = 1)\n",
    "print('ifft_RD_0 done')\n",
    "ifft_RD_1 = np.fft.ifft(RDc[1::2,:], axis = 1)\n",
    "print('ifft_RD_1 done')"
   ]
  },
  {
   "cell_type": "code",
   "execution_count": null,
   "metadata": {
    "collapsed": true
   },
   "outputs": [],
   "source": [
    "nbPointsInRange = 300\n",
    "x0 = 0\n",
    "x1 = nbPointsInRange\n",
    "y0 = 0\n",
    "y1 = 0\n",
    "extent = [ x0, x1, y0, y1 ]\n",
    "rangeStart = 0\n",
    "rangeStop = 500\n",
    "azStart = 6000\n",
    "azStop = 15000"
   ]
  },
  {
   "cell_type": "code",
   "execution_count": null,
   "metadata": {
    "collapsed": true
   },
   "outputs": [],
   "source": [
    "plt.figure()\n",
    "\n",
    "ax1 = plt.subplot(121)\n",
    "\n",
    "plt.imshow( 20 * np.log10( np.abs( ifft_RD_0[:, rangeStart:rangeStop] ) ), aspect='auto')\n",
    "plt.title(data_date)\n",
    "ax = plt.gca()\n",
    "plt.colorbar()\n",
    "\n",
    "plt.subplot(122, sharex=ax1, sharey = ax1)\n",
    "\n",
    "plt.imshow( 20 * np.log10( np.abs( ifft_RD_1[:, rangeStart:rangeStop] ) ), aspect='auto')\n",
    "plt.title(data_date)\n",
    "ax = plt.gca()\n",
    "plt.colorbar()"
   ]
  },
  {
   "cell_type": "code",
   "execution_count": null,
   "metadata": {
    "collapsed": true
   },
   "outputs": [],
   "source": [
    "plt.figure()\n",
    "\n",
    "val = 189\n",
    "plt.plot( np.unwrap( np.angle( ifft_RD_0[ :, val ] ) ), label=\"RD_0 {}\".format(val) )\n",
    "plt.plot( np.unwrap( np.angle( ifft_RD_1[ :, val ] ) ), label=\"RD_1 {}\".format(val) )\n",
    "\n",
    "val = 190\n",
    "plt.plot( np.unwrap( np.angle( ifft_RD_0[ :, val ] ) ), label=\"RD_0 {}\".format(val) )\n",
    "plt.plot( np.unwrap( np.angle( ifft_RD_1[ :, val ] ) ), label=\"RD_1 {}\".format(val) )\n",
    "\n",
    "plt.legend()\n",
    "plt.grid()"
   ]
  },
  {
   "cell_type": "code",
   "execution_count": null,
   "metadata": {
    "collapsed": true
   },
   "outputs": [],
   "source": [
    "plt.figure()\n",
    "\n",
    "val = 189\n",
    "plt.plot( 20 * np.log10( np.abs( ifft_RD_0[ :, val ] ) ), label=\"RD_0 {}\".format(val) )\n",
    "plt.plot( 20 * np.log10( np.abs( ifft_RD_1[ :, val ] ) ), label=\"RD_1 {}\".format(val) )\n",
    "\n",
    "val = 190\n",
    "plt.plot( 20 * np.log10( np.abs( ifft_RD_0[ :, val ] ) ), label=\"RD_0 {}\".format(val) )\n",
    "plt.plot( 20 * np.log10( np.abs( ifft_RD_1[ :, val ] ) ), label=\"RD_1 {}\".format(val) )\n",
    "\n",
    "plt.legend()\n",
    "plt.grid()"
   ]
  },
  {
   "cell_type": "code",
   "execution_count": null,
   "metadata": {
    "collapsed": true
   },
   "outputs": [],
   "source": [
    "fft2d = np.fft.fftshift( np.fft.fft( ifft_RD, axis = 0 ) , axes = 0)\n",
    "print('fft2d done')\n",
    "fft2d_0 = np.fft.fftshift( np.fft.fft( ifft_RD_0, axis = 0 ) , axes = 0)\n",
    "print('fft2d_0 done')\n",
    "fft2d_1 = np.fft.fftshift( np.fft.fft( ifft_RD_1, axis = 0 ) , axes = 0)\n",
    "print('fft2d_1 done')"
   ]
  },
  {
   "cell_type": "code",
   "execution_count": null,
   "metadata": {
    "collapsed": true
   },
   "outputs": [],
   "source": [
    "plt.matshow( 20 * np.log( np.abs( fft2d[:, rangeStart:rangeStop] ) ), aspect='auto', cmap='jet', vmin=-60, vmax=50)\n",
    "plt.title(data_date)\n",
    "ax = plt.gca()\n",
    "plt.colorbar()"
   ]
  },
  {
   "cell_type": "code",
   "execution_count": null,
   "metadata": {
    "collapsed": true
   },
   "outputs": [],
   "source": [
    "plt.figure()\n",
    "\n",
    "plt.subplot(121)\n",
    "plt.imshow( 20 * np.log( np.abs( fft2d_0[:, rangeStart:rangeStop] ) ), aspect='auto', cmap='jet', vmin=-60, vmax=50)\n",
    "\n",
    "plt.subplot(122)\n",
    "plt.imshow( 20 * np.log( np.abs( fft2d_1[:, rangeStart:rangeStop] ) ), aspect='auto', cmap='jet', vmin=-60, vmax=50)"
   ]
  },
  {
   "cell_type": "code",
   "execution_count": null,
   "metadata": {
    "collapsed": true
   },
   "outputs": [],
   "source": [
    "adc_A_all = adc_A.reshape( rampsPerFile * nbFiles * samplesPerRamp )"
   ]
  },
  {
   "cell_type": "code",
   "execution_count": null,
   "metadata": {
    "collapsed": true
   },
   "outputs": [],
   "source": [
    "plt.figure()\n",
    "ramp = 10\n",
    "shift = 38\n",
    "sampleStart = ramp * samplesPerRamp\n",
    "plt.plot( adc_A_all[sampleStart : sampleStart+6000 ], 'k',\n",
    "         label='both ramps' )\n",
    "plt.plot( adc_A_all[sampleStart : sampleStart+3000 ],\n",
    "         label='up ramp' )\n",
    "plt.plot( np.flipud( adc_A_all[ sampleStart+3000 : sampleStart+6000 ] ),\n",
    "         label='flipped down ramp' )\n",
    "plt.plot( np.flipud( adc_A_all[ (sampleStart+3000+shift) : (sampleStart+6000+shift) ] ),\n",
    "         label='flipped down ramp SHIFTED' )\n",
    "plt.grid()\n",
    "plt.legend()"
   ]
  },
  {
   "cell_type": "code",
   "execution_count": null,
   "metadata": {
    "collapsed": true
   },
   "outputs": [],
   "source": [
    "plt.figure()\n",
    "ramp = 0\n",
    "plt.plot( A2[ramp, 0 : 6000 ], 'k', label='both ramps' )\n",
    "plt.plot( A2[ramp, 0 : 3000 ], label='up ramp' )\n",
    "plt.plot( np.flipud( A2[ramp, 3000 : 6000 ] ), label='flipped down ramp' )\n",
    "plt.grid()\n",
    "plt.legend()\n",
    "plt.title('A2')"
   ]
  },
  {
   "cell_type": "code",
   "execution_count": null,
   "metadata": {
    "collapsed": true
   },
   "outputs": [],
   "source": [
    "params.samplesPerRamp"
   ]
  },
  {
   "cell_type": "code",
   "execution_count": null,
   "metadata": {
    "collapsed": true
   },
   "outputs": [],
   "source": [
    "shifted"
   ]
  },
  {
   "cell_type": "code",
   "execution_count": null,
   "metadata": {
    "collapsed": true
   },
   "outputs": [],
   "source": [
    "import scipy.signal as signal"
   ]
  },
  {
   "cell_type": "code",
   "execution_count": null,
   "metadata": {
    "collapsed": true
   },
   "outputs": [],
   "source": [
    "s1 = A_reshaped[ramp, 0 : 3000 ]\n",
    "s2 = np.flipud( A_reshaped[ramp, 4000 : 5500 ] )\n",
    "\n",
    "corr = signal.correlate( s1, s2, mode='valid' )\n",
    "\n",
    "plt.figure()\n",
    "\n",
    "plt.subplot(211)\n",
    "plt.plot( corr, '.' )\n",
    "plt.grid()\n",
    "\n",
    "plt.subplot(212)\n",
    "plt.plot( s1 )\n",
    "plt.plot( s2 )\n",
    "plt.plot( np.arange(1500) + 538, s2 )\n",
    "plt.grid()\n",
    "\n",
    "plt.suptitle( 'max = {}'.format( np.where( corr == np.max(corr) )[0] ) )"
   ]
  },
  {
   "cell_type": "code",
   "execution_count": null,
   "metadata": {
    "collapsed": true
   },
   "outputs": [],
   "source": [
    "plt.plot(s1)"
   ]
  },
  {
   "cell_type": "code",
   "execution_count": null,
   "metadata": {
    "collapsed": true
   },
   "outputs": [],
   "source": []
  }
 ],
 "metadata": {
  "kernelspec": {
   "display_name": "Python 3",
   "language": "python",
   "name": "python3"
  },
  "language_info": {
   "codemirror_mode": {
    "name": "ipython",
    "version": 3
   },
   "file_extension": ".py",
   "mimetype": "text/x-python",
   "name": "python",
   "nbconvert_exporter": "python",
   "pygments_lexer": "ipython3",
   "version": "3.6.2"
  }
 },
 "nbformat": 4,
 "nbformat_minor": 2
}
