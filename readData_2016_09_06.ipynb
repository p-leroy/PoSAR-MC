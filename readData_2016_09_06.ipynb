{
 "cells": [
  {
   "cell_type": "code",
   "execution_count": 1,
   "metadata": {},
   "outputs": [],
   "source": [
    "import numpy as np\n",
    "import matplotlib.pyplot as plt\n",
    "%matplotlib qt5"
   ]
  },
  {
   "cell_type": "code",
   "execution_count": 2,
   "metadata": {},
   "outputs": [],
   "source": [
    "from posarmctools.readdata import *\n",
    "%load_ext autoreload\n",
    "%autoreload 2"
   ]
  },
  {
   "cell_type": "code",
   "execution_count": 3,
   "metadata": {},
   "outputs": [],
   "source": [
    "import sys"
   ]
  },
  {
   "cell_type": "code",
   "execution_count": 4,
   "metadata": {},
   "outputs": [],
   "source": [
    "sys.path.insert(0, \"/home/pleroy/DEV/processing/focalization_python\")\n",
    "from posarutils.other.read_data_and_build_rd import *\n",
    "from posarutils.other.PosarMCParameters import *"
   ]
  },
  {
   "cell_type": "code",
   "execution_count": 9,
   "metadata": {},
   "outputs": [],
   "source": [
    "data_date = \"2016_09_06_11_38_23\"\n",
    "data_dir = \"/home/pleroy/DATA/2016/\" + data_date"
   ]
  },
  {
   "cell_type": "code",
   "execution_count": 10,
   "metadata": {},
   "outputs": [],
   "source": [
    "params_filename = data_dir + \"/\" + data_date + \"_parameters.xml\"\n",
    "params = PosarMCParameters( params_filename )"
   ]
  },
  {
   "cell_type": "code",
   "execution_count": 15,
   "metadata": {},
   "outputs": [
    {
     "name": "stdout",
     "output_type": "stream",
     "text": [
      "blocksPerFile = 6, samplesPerRamp = 54000, rampsPerFile = 180\n"
     ]
    }
   ],
   "source": [
    "blocksPerFile = params.blocksPerFile\n",
    "samplesPerRamp = params.samplesPerRamp\n",
    "rampsPerFile = params.rampsPerFile\n",
    "samplesPerFile = samplesPerRamp * rampsPerFile\n",
    "\n",
    "print( \"blocksPerFile = {}, samplesPerRamp = {}, rampsPerFile = {}\".format(\n",
    "    blocksPerFile, samplesPerRamp, rampsPerFile )\n",
    "     )\n",
    "\n",
    "# selection in record\n",
    "firstFile = 36\n",
    "nbFiles = 48\n",
    "lastFile = firstFile + nbFiles - 1\n",
    "firstBlock = firstFile * blocksPerFile"
   ]
  },
  {
   "cell_type": "markdown",
   "metadata": {},
   "source": [
    "### Read the data"
   ]
  },
  {
   "cell_type": "code",
   "execution_count": 16,
   "metadata": {},
   "outputs": [],
   "source": [
    "timeSerie_A = np.zeros( samplesPerFile )\n",
    "timeSerie_B = np.zeros( samplesPerFile )\n",
    "\n",
    "adc_A = np.zeros( (nbFiles, samplesPerFile) )\n",
    "adc_B = np.zeros( (nbFiles, samplesPerFile) )"
   ]
  },
  {
   "cell_type": "code",
   "execution_count": 17,
   "metadata": {},
   "outputs": [
    {
     "name": "stdout",
     "output_type": "stream",
     "text": [
      "k = 0, block = 216 / 498\n",
      "k = 1, block = 222 / 498\n",
      "k = 2, block = 228 / 498\n",
      "k = 3, block = 234 / 498\n",
      "k = 4, block = 240 / 498\n",
      "k = 5, block = 246 / 498\n",
      "k = 6, block = 252 / 498\n",
      "k = 7, block = 258 / 498\n",
      "k = 8, block = 264 / 498\n",
      "k = 9, block = 270 / 498\n",
      "k = 10, block = 276 / 498\n",
      "k = 11, block = 282 / 498\n",
      "k = 12, block = 288 / 498\n",
      "k = 13, block = 294 / 498\n",
      "k = 14, block = 300 / 498\n",
      "k = 15, block = 306 / 498\n",
      "k = 16, block = 312 / 498\n",
      "k = 17, block = 318 / 498\n",
      "k = 18, block = 324 / 498\n",
      "k = 19, block = 330 / 498\n",
      "k = 20, block = 336 / 498\n",
      "k = 21, block = 342 / 498\n",
      "k = 22, block = 348 / 498\n",
      "k = 23, block = 354 / 498\n",
      "k = 24, block = 360 / 498\n",
      "k = 25, block = 366 / 498\n",
      "k = 26, block = 372 / 498\n",
      "k = 27, block = 378 / 498\n",
      "k = 28, block = 384 / 498\n",
      "k = 29, block = 390 / 498\n",
      "k = 30, block = 396 / 498\n",
      "k = 31, block = 402 / 498\n",
      "k = 32, block = 408 / 498\n",
      "k = 33, block = 414 / 498\n",
      "k = 34, block = 420 / 498\n",
      "k = 35, block = 426 / 498\n",
      "k = 36, block = 432 / 498\n",
      "k = 37, block = 438 / 498\n",
      "k = 38, block = 444 / 498\n",
      "k = 39, block = 450 / 498\n",
      "k = 40, block = 456 / 498\n",
      "k = 41, block = 462 / 498\n",
      "k = 42, block = 468 / 498\n",
      "k = 43, block = 474 / 498\n",
      "k = 44, block = 480 / 498\n",
      "k = 45, block = 486 / 498\n",
      "k = 46, block = 492 / 498\n",
      "k = 47, block = 498 / 498\n"
     ]
    }
   ],
   "source": [
    "lastBlock = (nbFiles-1) * blocksPerFile + firstBlock\n",
    "for k in range( nbFiles ):\n",
    "    \n",
    "    # read the data\n",
    "    nb = str( int( k * blocksPerFile + firstBlock) )\n",
    "    filename = data_dir + \"/record\" + nb + \".bin\"\n",
    "    readFile( filename, samplesPerFile, timeSerie_A, timeSerie_B )\n",
    "    \n",
    "    print(\"k = {}, block = {} / {}\".format(k, nb, lastBlock ))\n",
    "    \n",
    "    adc_A[ k, : ] = timeSerie_A\n",
    "    adc_B[ k, : ] = timeSerie_B"
   ]
  },
  {
   "cell_type": "code",
   "execution_count": 18,
   "metadata": {},
   "outputs": [],
   "source": [
    "A_reshaped = adc_A.reshape(nbFiles * rampsPerFile, samplesPerRamp)\n",
    "B_reshaped = adc_B.reshape(nbFiles * rampsPerFile, samplesPerRamp)"
   ]
  },
  {
   "cell_type": "markdown",
   "metadata": {},
   "source": [
    "**Check that the first ramp is an up ramp**"
   ]
  },
  {
   "cell_type": "code",
   "execution_count": 19,
   "metadata": {},
   "outputs": [],
   "source": [
    "plt.figure()\n",
    "plt.plot( A_reshaped[0, :] )\n",
    "plt.title(\"first acquisition\\n\" + data_date)\n",
    "plt.grid()"
   ]
  },
  {
   "cell_type": "markdown",
   "metadata": {},
   "source": [
    "**Set the shifted flag properly**"
   ]
  },
  {
   "cell_type": "code",
   "execution_count": 20,
   "metadata": {},
   "outputs": [],
   "source": [
    "shifted = 0"
   ]
  },
  {
   "cell_type": "code",
   "execution_count": 21,
   "metadata": {},
   "outputs": [],
   "source": [
    "ifft_a = np.fft.ifft( (A_reshaped[::,0:3000]), axis = 1 )"
   ]
  },
  {
   "cell_type": "code",
   "execution_count": 22,
   "metadata": {},
   "outputs": [
    {
     "data": {
      "text/plain": [
       "[<matplotlib.lines.Line2D at 0x7fc0ea23fe48>]"
      ]
     },
     "execution_count": 22,
     "metadata": {},
     "output_type": "execute_result"
    }
   ],
   "source": [
    "plt.figure()\n",
    "vmin = -15\n",
    "vmax = 0\n",
    "nbPointsInRange = 500\n",
    "plt.plot(  20 * np.log10( np.abs( ifft_a[2500,:] ) ) )\n",
    "plt.plot( np.ones( nbPointsInRange ) * vmin, \"b\" )\n",
    "plt.plot( np.ones( nbPointsInRange ) * vmax, \"r\" )"
   ]
  },
  {
   "cell_type": "code",
   "execution_count": 23,
   "metadata": {},
   "outputs": [
    {
     "data": {
      "text/plain": [
       "<matplotlib.text.Text at 0x7fc0ea1d4630>"
      ]
     },
     "execution_count": 23,
     "metadata": {},
     "output_type": "execute_result"
    }
   ],
   "source": [
    "plt.matshow( 20 * np.log10( np.abs( ifft_a[:,:] ) ), \n",
    "            aspect='auto', vmin=-15, vmax=0, cmap='jet' )\n",
    "plt.title(\"Track 1 - record 2017_10_12_11_47_05\\nFiles {} to {}\".format(firstFile, lastFile) )"
   ]
  },
  {
   "cell_type": "markdown",
   "metadata": {},
   "source": [
    "## Remove coupling from raw data"
   ]
  },
  {
   "cell_type": "code",
   "execution_count": 40,
   "metadata": {},
   "outputs": [],
   "source": [
    "coupling_A = np.average( A_reshaped, 0 )\n",
    "A2 = A_reshaped - coupling_A"
   ]
  },
  {
   "cell_type": "markdown",
   "metadata": {},
   "source": [
    "## Build RD"
   ]
  },
  {
   "cell_type": "code",
   "execution_count": 24,
   "metadata": {},
   "outputs": [
    {
     "name": "stdout",
     "output_type": "stream",
     "text": [
      "shape of the samples matrix = (8640, 54000)\n",
      "Data are NOT shifted\n"
     ]
    }
   ],
   "source": [
    "RDc = build_rd_from_data( params, A_reshaped, shifted )"
   ]
  },
  {
   "cell_type": "code",
   "execution_count": 25,
   "metadata": {},
   "outputs": [],
   "source": [
    "coupling_RD = np.average(RDc, 0)\n",
    "np.save( data_dir + \"/coupling_RD_files_{}_{}\".format(firstFile, lastFile), coupling_RD )"
   ]
  },
  {
   "cell_type": "code",
   "execution_count": 28,
   "metadata": {},
   "outputs": [],
   "source": [
    "RD2 = RDc - coupling_RD"
   ]
  },
  {
   "cell_type": "code",
   "execution_count": 29,
   "metadata": {},
   "outputs": [],
   "source": [
    "plt.figure()\n",
    "plt.plot(np.abs(coupling_RD), 'k', label='coupling')\n",
    "plt.legend()\n",
    "plt.grid()"
   ]
  },
  {
   "cell_type": "code",
   "execution_count": 26,
   "metadata": {},
   "outputs": [],
   "source": [
    "np.save(data_dir + '/RD_files_{}_{}'.format(firstFile, lastFile), RDc)"
   ]
  },
  {
   "cell_type": "code",
   "execution_count": 27,
   "metadata": {},
   "outputs": [
    {
     "name": "stdout",
     "output_type": "stream",
     "text": [
      "ifft_RD done\n"
     ]
    }
   ],
   "source": [
    "ifft_RD = np.fft.ifft(RDc, axis = 1)\n",
    "print('ifft_RD done')"
   ]
  },
  {
   "cell_type": "code",
   "execution_count": 30,
   "metadata": {},
   "outputs": [],
   "source": [
    "nbPointsInRange = 300\n",
    "x0 = 0\n",
    "x1 = x0 + nbPointsInRange\n",
    "y0 = 0\n",
    "y1 = 0\n",
    "extent = [ x0, x1, y0, y1 ]\n",
    "rangeStart = 0\n",
    "rangeStop = 500\n",
    "azStart = 6000\n",
    "azStop = 15000"
   ]
  },
  {
   "cell_type": "code",
   "execution_count": 31,
   "metadata": {},
   "outputs": [
    {
     "data": {
      "text/plain": [
       "<matplotlib.colorbar.Colorbar at 0x7fbfa9a34748>"
      ]
     },
     "execution_count": 31,
     "metadata": {},
     "output_type": "execute_result"
    }
   ],
   "source": [
    "plt.matshow( 20 * np.log10( np.abs( ifft_RD[:, rangeStart:rangeStop] ) ), aspect='auto')\n",
    "plt.title(data_date)\n",
    "ax = plt.gca()\n",
    "plt.colorbar()"
   ]
  },
  {
   "cell_type": "code",
   "execution_count": 32,
   "metadata": {},
   "outputs": [
    {
     "name": "stdout",
     "output_type": "stream",
     "text": [
      "fft2d done\n"
     ]
    }
   ],
   "source": [
    "fft2d = np.fft.fftshift( np.fft.fft( ifft_RD, axis = 0 ) , axes = 0)\n",
    "print('fft2d done')"
   ]
  },
  {
   "cell_type": "code",
   "execution_count": 33,
   "metadata": {},
   "outputs": [
    {
     "data": {
      "text/plain": [
       "<matplotlib.colorbar.Colorbar at 0x7fbfab1df240>"
      ]
     },
     "execution_count": 33,
     "metadata": {},
     "output_type": "execute_result"
    }
   ],
   "source": [
    "plt.matshow( 20 * np.log( np.abs( fft2d[:, rangeStart:rangeStop] ) ), aspect='auto', cmap='jet', vmin=-60, vmax=50)\n",
    "plt.title(data_date)\n",
    "ax = plt.gca()\n",
    "plt.colorbar()"
   ]
  },
  {
   "cell_type": "code",
   "execution_count": 35,
   "metadata": {},
   "outputs": [],
   "source": [
    "adc_A_all = adc_A.reshape( rampsPerFile * nbFiles * samplesPerRamp )"
   ]
  },
  {
   "cell_type": "code",
   "execution_count": 39,
   "metadata": {},
   "outputs": [
    {
     "data": {
      "text/plain": [
       "<matplotlib.legend.Legend at 0x7fc0972a1b70>"
      ]
     },
     "execution_count": 39,
     "metadata": {},
     "output_type": "execute_result"
    }
   ],
   "source": [
    "plt.figure()\n",
    "ramp = 10\n",
    "shift = 38\n",
    "sampleStart = ramp * samplesPerRamp\n",
    "plt.plot( adc_A_all[sampleStart : sampleStart+6000 ], 'k',\n",
    "         label='both ramps' )\n",
    "plt.plot( adc_A_all[sampleStart : sampleStart+3000 ],\n",
    "         label='up ramp' )\n",
    "plt.plot( np.flipud( adc_A_all[ sampleStart+3000 : sampleStart+6000 ] ),\n",
    "         label='flipped down ramp' )\n",
    "plt.plot( np.flipud( adc_A_all[ (sampleStart+3000+shift) : (sampleStart+6000+shift) ] ),\n",
    "         label='flipped down ramp SHIFTED' )\n",
    "plt.grid()\n",
    "plt.legend()"
   ]
  },
  {
   "cell_type": "code",
   "execution_count": 43,
   "metadata": {},
   "outputs": [
    {
     "data": {
      "text/plain": [
       "<matplotlib.text.Text at 0x7fc0967e5be0>"
      ]
     },
     "execution_count": 43,
     "metadata": {},
     "output_type": "execute_result"
    }
   ],
   "source": [
    "plt.figure()\n",
    "ramp = 0\n",
    "plt.plot( A2[ramp, 0 : 6000 ], 'k', label='both ramps' )\n",
    "plt.plot( A2[ramp, 0 : 3000 ], label='up ramp' )\n",
    "plt.plot( np.flipud( A2[ramp, 3000 : 6000 ] ), label='flipped down ramp' )\n",
    "plt.grid()\n",
    "plt.legend()\n",
    "plt.title('A2')"
   ]
  },
  {
   "cell_type": "code",
   "execution_count": 42,
   "metadata": {},
   "outputs": [
    {
     "data": {
      "text/plain": [
       "54000"
      ]
     },
     "execution_count": 42,
     "metadata": {},
     "output_type": "execute_result"
    }
   ],
   "source": [
    "params.samplesPerRamp"
   ]
  },
  {
   "cell_type": "code",
   "execution_count": null,
   "metadata": {},
   "outputs": [],
   "source": [
    "shifted"
   ]
  },
  {
   "cell_type": "code",
   "execution_count": null,
   "metadata": {},
   "outputs": [],
   "source": [
    "import scipy.signal as signal"
   ]
  },
  {
   "cell_type": "code",
   "execution_count": null,
   "metadata": {},
   "outputs": [],
   "source": [
    "s1 = A_reshaped[ramp, 0 : 3000 ]\n",
    "s2 = np.flipud( A_reshaped[ramp, 4000 : 5500 ] )\n",
    "\n",
    "corr = signal.correlate( s1, s2, mode='valid' )\n",
    "\n",
    "plt.figure()\n",
    "\n",
    "plt.subplot(211)\n",
    "plt.plot( corr, '.' )\n",
    "plt.grid()\n",
    "\n",
    "plt.subplot(212)\n",
    "plt.plot( s1 )\n",
    "plt.plot( s2 )\n",
    "plt.plot( np.arange(1500) + 538, s2 )\n",
    "plt.grid()\n",
    "\n",
    "plt.suptitle( 'max = {}'.format( np.where( corr == np.max(corr) )[0] ) )"
   ]
  },
  {
   "cell_type": "code",
   "execution_count": null,
   "metadata": {},
   "outputs": [],
   "source": [
    "plt.plot(s1)"
   ]
  },
  {
   "cell_type": "code",
   "execution_count": null,
   "metadata": {},
   "outputs": [],
   "source": []
  }
 ],
 "metadata": {
  "kernelspec": {
   "display_name": "Python 3",
   "language": "python",
   "name": "python3"
  },
  "language_info": {
   "codemirror_mode": {
    "name": "ipython",
    "version": 3
   },
   "file_extension": ".py",
   "mimetype": "text/x-python",
   "name": "python",
   "nbconvert_exporter": "python",
   "pygments_lexer": "ipython3",
   "version": "3.6.2"
  }
 },
 "nbformat": 4,
 "nbformat_minor": 2
}
