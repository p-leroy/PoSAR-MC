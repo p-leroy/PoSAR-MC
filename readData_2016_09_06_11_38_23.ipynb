{
 "cells": [
  {
   "cell_type": "code",
   "execution_count": 1,
   "metadata": {
    "collapsed": true
   },
   "outputs": [],
   "source": [
    "import numpy as np\n",
    "import matplotlib.pyplot as plt\n",
    "%matplotlib qt5"
   ]
  },
  {
   "cell_type": "code",
   "execution_count": 2,
   "metadata": {
    "collapsed": true
   },
   "outputs": [],
   "source": [
    "prefix = \"/home/pleroy/DATA/2016/2016_09_06_\"\n",
    "data_dir = prefix + \"11_38_23\""
   ]
  },
  {
   "cell_type": "code",
   "execution_count": 3,
   "metadata": {
    "collapsed": true
   },
   "outputs": [],
   "source": [
    "blocksPerFile = 6\n",
    "samplesPerRamp = 54000\n",
    "rampsPerFile = 180\n",
    "samplesPerFile = samplesPerRamp * rampsPerFile\n",
    "\n",
    "numberOfFiles = 48\n",
    "firstFile = 216\n",
    "lastFile = firstFile + numberOfFiles * blocksPerFile\n",
    "nbFilesToCheck = numberOfFiles\n",
    "nbFilesToRebuild = numberOfFiles"
   ]
  },
  {
   "cell_type": "markdown",
   "metadata": {},
   "source": [
    "### Read the data"
   ]
  },
  {
   "cell_type": "code",
   "execution_count": 4,
   "metadata": {
    "collapsed": true
   },
   "outputs": [],
   "source": [
    "def readFile( filename, timeSerie_A, timeSerie_B ):\n",
    "    fd = open(filename,'rb')\n",
    "    \n",
    "    dum = np.fromfile(fd, dtype = np.int16)\n",
    "\n",
    "    timeSerie_A[:] = dum[ 0 : 2 * samplesPerFile : 2 ]\n",
    "    timeSerie_B[:] = dum[ 1 : 2 * samplesPerFile : 2 ]\n",
    "    \n",
    "    fd.close()"
   ]
  },
  {
   "cell_type": "code",
   "execution_count": 5,
   "metadata": {
    "collapsed": true
   },
   "outputs": [],
   "source": [
    "timeSerie_A = np.zeros( samplesPerFile )\n",
    "timeSerie_B = np.zeros( samplesPerFile )"
   ]
  },
  {
   "cell_type": "markdown",
   "metadata": {},
   "source": [
    "### Read the data files without modifications"
   ]
  },
  {
   "cell_type": "code",
   "execution_count": 7,
   "metadata": {},
   "outputs": [
    {
     "name": "stdout",
     "output_type": "stream",
     "text": [
      "read file 216\n",
      "read file 222\n",
      "read file 228\n",
      "read file 234\n",
      "read file 240\n",
      "read file 246\n",
      "read file 252\n",
      "read file 258\n",
      "read file 264\n",
      "read file 270\n",
      "read file 276\n",
      "read file 282\n",
      "read file 288\n",
      "read file 294\n",
      "read file 300\n",
      "read file 306\n",
      "read file 312\n",
      "read file 318\n",
      "read file 324\n",
      "read file 330\n",
      "read file 336\n",
      "read file 342\n",
      "read file 348\n",
      "read file 354\n",
      "read file 360\n",
      "read file 366\n",
      "read file 372\n",
      "read file 378\n",
      "read file 384\n",
      "read file 390\n",
      "read file 396\n",
      "read file 402\n",
      "read file 408\n",
      "read file 414\n",
      "read file 420\n",
      "read file 426\n",
      "read file 432\n",
      "read file 438\n",
      "read file 444\n",
      "read file 450\n",
      "read file 456\n",
      "read file 462\n",
      "read file 468\n",
      "read file 474\n",
      "read file 480\n",
      "read file 486\n",
      "read file 492\n",
      "read file 498\n"
     ]
    }
   ],
   "source": [
    "samples_A = np.zeros((nbFilesToRebuild, samplesPerFile))\n",
    "samples_B = np.zeros((nbFilesToRebuild, samplesPerFile))\n",
    "for k in range(numberOfFiles):\n",
    "    nb        = str( int( k     * blocksPerFile + firstFile) )\n",
    "    print( 'read file {}'.format( nb ) )\n",
    "    readFile( data_dir + \"/record\" + nb        +\".bin\", timeSerie_A, timeSerie_B )\n",
    "    samples_A[ k, : ] = timeSerie_A\n",
    "    samples_B[ k, : ] = timeSerie_B"
   ]
  },
  {
   "cell_type": "code",
   "execution_count": 8,
   "metadata": {
    "collapsed": true
   },
   "outputs": [],
   "source": [
    "A_reshaped = samples_A.reshape(nbFilesToRebuild * rampsPerFile, samplesPerRamp)\n",
    "B_reshaped = samples_B.reshape(nbFilesToRebuild * rampsPerFile, samplesPerRamp)"
   ]
  },
  {
   "cell_type": "code",
   "execution_count": 10,
   "metadata": {},
   "outputs": [
    {
     "data": {
      "text/plain": [
       "(8640, 54000)"
      ]
     },
     "execution_count": 10,
     "metadata": {},
     "output_type": "execute_result"
    }
   ],
   "source": [
    "A_reshaped.shape"
   ]
  },
  {
   "cell_type": "code",
   "execution_count": 11,
   "metadata": {
    "collapsed": true
   },
   "outputs": [],
   "source": [
    "coupling_A = np.average(A_reshaped, 0)\n",
    "A_reshaped -= coupling_A"
   ]
  },
  {
   "cell_type": "code",
   "execution_count": 12,
   "metadata": {
    "collapsed": true
   },
   "outputs": [],
   "source": [
    "ifft_a = np.fft.ifft( ( A_reshaped[::10,0:int(samplesPerRamp/2)] ), axis = 1 )"
   ]
  },
  {
   "cell_type": "code",
   "execution_count": 13,
   "metadata": {},
   "outputs": [
    {
     "data": {
      "text/plain": [
       "<matplotlib.text.Text at 0x7f05d4592320>"
      ]
     },
     "execution_count": 13,
     "metadata": {},
     "output_type": "execute_result"
    }
   ],
   "source": [
    "plt.matshow( 20 * np.log10( np.abs( ifft_a[:,100:500] ) ), aspect='auto' )\n",
    "plt.title(\"Track 1 / Flight over 1\\nFiles {} to {}\".format(firstFile, lastFile) )"
   ]
  }
 ],
 "metadata": {
  "kernelspec": {
   "display_name": "Python 3",
   "language": "python",
   "name": "python3"
  },
  "language_info": {
   "codemirror_mode": {
    "name": "ipython",
    "version": 3
   },
   "file_extension": ".py",
   "mimetype": "text/x-python",
   "name": "python",
   "nbconvert_exporter": "python",
   "pygments_lexer": "ipython3",
   "version": "3.6.2"
  }
 },
 "nbformat": 4,
 "nbformat_minor": 2
}
