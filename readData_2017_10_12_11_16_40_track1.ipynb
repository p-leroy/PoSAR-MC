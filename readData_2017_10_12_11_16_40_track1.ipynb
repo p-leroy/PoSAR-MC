{
 "cells": [
  {
   "cell_type": "code",
   "execution_count": 1,
   "metadata": {
    "collapsed": true
   },
   "outputs": [],
   "source": [
    "import numpy as np\n",
    "import matplotlib.pyplot as plt\n",
    "%matplotlib qt5"
   ]
  },
  {
   "cell_type": "code",
   "execution_count": 2,
   "metadata": {
    "collapsed": true
   },
   "outputs": [],
   "source": [
    "from posarmctools.readdata import *\n",
    "%load_ext autoreload\n",
    "%autoreload 2"
   ]
  },
  {
   "cell_type": "code",
   "execution_count": 3,
   "metadata": {
    "collapsed": true
   },
   "outputs": [],
   "source": [
    "data_date = \"2017_10_12_11_16_40\"\n",
    "data_dir = \"/home/pleroy/DATA/PoSAR-MC_PIMA_TEST-3/2017_10_12/\" + data_date"
   ]
  },
  {
   "cell_type": "code",
   "execution_count": 4,
   "metadata": {
    "collapsed": true
   },
   "outputs": [],
   "source": [
    "blocksPerFile = 6\n",
    "samplesPerRamp = 6000\n",
    "rampsPerFile = 1500\n",
    "samplesPerFile = samplesPerRamp * rampsPerFile\n",
    "\n",
    "# selection in record\n",
    "firstFile = 35\n",
    "nbFiles = 14\n",
    "lastFile = firstFile + nbFiles - 1\n",
    "firstBlock = firstFile * blocksPerFile"
   ]
  },
  {
   "cell_type": "markdown",
   "metadata": {},
   "source": [
    "### Read the data"
   ]
  },
  {
   "cell_type": "code",
   "execution_count": 5,
   "metadata": {
    "collapsed": true
   },
   "outputs": [],
   "source": [
    "timeSerie_A = np.zeros( samplesPerFile )\n",
    "timeSerie_B = np.zeros( samplesPerFile )\n",
    "\n",
    "adc_A = np.zeros( (nbFiles, samplesPerFile) )\n",
    "adc_B = np.zeros( (nbFiles, samplesPerFile) )"
   ]
  },
  {
   "cell_type": "code",
   "execution_count": 6,
   "metadata": {},
   "outputs": [
    {
     "name": "stdout",
     "output_type": "stream",
     "text": [
      "k = 0, block = 210 / 288\n",
      "k = 1, block = 216 / 288\n",
      "k = 2, block = 222 / 288\n",
      "k = 3, block = 228 / 288\n",
      "k = 4, block = 234 / 288\n",
      "k = 5, block = 240 / 288\n",
      "k = 6, block = 246 / 288\n",
      "k = 7, block = 252 / 288\n",
      "k = 8, block = 258 / 288\n",
      "k = 9, block = 264 / 288\n",
      "k = 10, block = 270 / 288\n",
      "k = 11, block = 276 / 288\n",
      "k = 12, block = 282 / 288\n",
      "k = 13, block = 288 / 288\n"
     ]
    }
   ],
   "source": [
    "lastBlock = (nbFiles-1) * blocksPerFile + firstBlock\n",
    "for k in range( nbFiles ):\n",
    "    \n",
    "    # read the data\n",
    "    nb = str( int( k * blocksPerFile + firstBlock) )\n",
    "    filename = data_dir + \"/record\" + nb + \".bin\"\n",
    "    readFile( filename, samplesPerFile, timeSerie_A, timeSerie_B )\n",
    "    \n",
    "    print(\"k = {}, block = {} / {}\".format(k, nb, lastBlock ))\n",
    "    \n",
    "    adc_A[ k, : ] = timeSerie_A\n",
    "    adc_B[ k, : ] = timeSerie_B"
   ]
  },
  {
   "cell_type": "code",
   "execution_count": 7,
   "metadata": {
    "collapsed": true
   },
   "outputs": [],
   "source": [
    "A_reshaped = adc_A.reshape(nbFiles * rampsPerFile, samplesPerRamp)\n",
    "B_reshaped = adc_B.reshape(nbFiles * rampsPerFile, samplesPerRamp)"
   ]
  },
  {
   "cell_type": "markdown",
   "metadata": {},
   "source": [
    "**Check that the first ramp is an up ramp**"
   ]
  },
  {
   "cell_type": "code",
   "execution_count": 8,
   "metadata": {
    "collapsed": true
   },
   "outputs": [],
   "source": [
    "plt.figure()\n",
    "plt.plot( A_reshaped[0, :] )\n",
    "plt.title(\"first acquisition\\n\" + data_date)\n",
    "plt.grid()"
   ]
  },
  {
   "cell_type": "markdown",
   "metadata": {},
   "source": [
    "**Set the shifted flag properly**"
   ]
  },
  {
   "cell_type": "code",
   "execution_count": null,
   "metadata": {
    "collapsed": true
   },
   "outputs": [],
   "source": [
    "shifted = 1"
   ]
  },
  {
   "cell_type": "code",
   "execution_count": null,
   "metadata": {
    "collapsed": true
   },
   "outputs": [],
   "source": [
    "coupling_A = np.average(A_reshaped, 0)\n",
    "#A_reshaped -= coupling_A"
   ]
  },
  {
   "cell_type": "code",
   "execution_count": null,
   "metadata": {
    "collapsed": true
   },
   "outputs": [],
   "source": [
    "plt.figure()\n",
    "plt.plot( coupling_A )\n",
    "plt.title(\"coupling\\n\" + data_date)\n",
    "plt.grid()"
   ]
  },
  {
   "cell_type": "code",
   "execution_count": null,
   "metadata": {
    "collapsed": true
   },
   "outputs": [],
   "source": [
    "ifft_a = np.fft.ifft( (A_reshaped[::,0:3000]), axis = 1 )"
   ]
  },
  {
   "cell_type": "code",
   "execution_count": null,
   "metadata": {},
   "outputs": [],
   "source": [
    "plt.figure()\n",
    "vmin = -10\n",
    "vmax = 10\n",
    "nbPointsInRange = 500\n",
    "plt.plot(  20 * np.log10( np.abs( ifft_a[2500,0:nbPointsInRange] ) ) )\n",
    "plt.plot( np.ones( nbPointsInRange ) * vmin, \"b\" )\n",
    "plt.plot( np.ones( nbPointsInRange ) * vmax, \"r\" )"
   ]
  },
  {
   "cell_type": "code",
   "execution_count": null,
   "metadata": {},
   "outputs": [],
   "source": [
    "plt.matshow( 20 * np.log10( np.abs( ifft_a[:,100:500] ) ), \n",
    "            aspect='auto', vmin=-20, vmax=20, cmap='jet' )\n",
    "plt.title(\"Track 1 - record 2017_10_12_11_16_40\\nFiles {} to {}\".format(firstFile, lastFile) )"
   ]
  },
  {
   "cell_type": "code",
   "execution_count": null,
   "metadata": {},
   "outputs": [],
   "source": [
    "plt.figure()\n",
    "azStart = 10000\n",
    "azStop = 11000\n",
    "rangeCell = 192\n",
    "plt.plot( np.angle( ifft_a[azStart:azStop,rangeCell] ) )\n",
    "plt.title(\"ifft angle, az = [ {}, {} ], range cell = {}\\n\".format( azStart, azStop, rangeCell ) + data_date)"
   ]
  },
  {
   "cell_type": "code",
   "execution_count": null,
   "metadata": {
    "collapsed": true
   },
   "outputs": [],
   "source": [
    "np.save( data_dir + \"/selection_files_{}_{}\".format(firstFile, lastFile), A_reshaped )\n",
    "np.save( data_dir + \"/selection_files_{}_{}_shifted\".format(firstFile, lastFile), shifted )"
   ]
  },
  {
   "cell_type": "markdown",
   "metadata": {},
   "source": [
    "## Compute RD"
   ]
  },
  {
   "cell_type": "code",
   "execution_count": null,
   "metadata": {
    "collapsed": true
   },
   "outputs": [],
   "source": [
    "import sys"
   ]
  },
  {
   "cell_type": "code",
   "execution_count": null,
   "metadata": {
    "collapsed": true
   },
   "outputs": [],
   "source": [
    "sys.path.insert(0, \"/home/pleroy/DEV/processing/focalization_python\")\n",
    "from posarutils.other.read_data_and_build_rd import *\n",
    "from posarutils.other.PosarMCParameters import *"
   ]
  },
  {
   "cell_type": "code",
   "execution_count": null,
   "metadata": {
    "collapsed": true
   },
   "outputs": [],
   "source": [
    "params_filename = data_dir + \"/\" + data_date + \"_parameters.xml\"\n",
    "params = PosarMCParameters( params_filename )"
   ]
  },
  {
   "cell_type": "code",
   "execution_count": null,
   "metadata": {},
   "outputs": [],
   "source": [
    "RDc = build_rd_from_data( params, A_reshaped, shifted )"
   ]
  },
  {
   "cell_type": "code",
   "execution_count": null,
   "metadata": {},
   "outputs": [],
   "source": [
    "RDc_0 = build_rd_from_data( params, A_reshaped, 0 )"
   ]
  },
  {
   "cell_type": "code",
   "execution_count": null,
   "metadata": {
    "collapsed": true
   },
   "outputs": [],
   "source": [
    "coupling_RD_local = np.average(RDc, 0)\n",
    "np.save( data_dir + \"/coupling_RD_files_{}_{}\".format(firstFile, lastFile), coupling_RD_local )"
   ]
  },
  {
   "cell_type": "code",
   "execution_count": null,
   "metadata": {
    "collapsed": true
   },
   "outputs": [],
   "source": [
    "plt.figure()\n",
    "plt.plot(np.abs(coupling_RD_local))\n",
    "plt.grid()"
   ]
  },
  {
   "cell_type": "code",
   "execution_count": null,
   "metadata": {
    "collapsed": true
   },
   "outputs": [],
   "source": [
    "np.save(data_dir + '/RD_files_{}_{}'.format(firstFile, lastFile), RDc)"
   ]
  },
  {
   "cell_type": "code",
   "execution_count": null,
   "metadata": {
    "collapsed": true
   },
   "outputs": [],
   "source": [
    "ifft_RD = np.fft.ifft(RDc, axis = 1)"
   ]
  },
  {
   "cell_type": "code",
   "execution_count": null,
   "metadata": {
    "collapsed": true
   },
   "outputs": [],
   "source": [
    "nbPointsInRange = 300\n",
    "x0 = 0\n",
    "x1 = nbPointsInRange\n",
    "y0 = 0\n",
    "y1 = 0\n",
    "extent = [ x0, x1, y0, y1 ]\n",
    "rangeStart = 135\n",
    "rangeStop = 250\n",
    "azStart = 6000\n",
    "azStop = 15000"
   ]
  },
  {
   "cell_type": "code",
   "execution_count": null,
   "metadata": {},
   "outputs": [],
   "source": [
    "plt.figure()\n",
    "plt.matshow( 20 * np.log10( np.abs( ifft_RD[azStart:azStop, rangeStart:rangeStop] ) ),\n",
    "            aspect='auto')\n",
    "plt.title(data_date)\n",
    "ax = plt.gca()\n",
    "#ax.axes.set_xlim(130,170)\n",
    "#ax.axes.set_ylim(280,376)\n",
    "plt.colorbar()"
   ]
  },
  {
   "cell_type": "code",
   "execution_count": null,
   "metadata": {
    "collapsed": true
   },
   "outputs": [],
   "source": [
    "ifft_RD_0 = np.fft.ifft(RDc_0, axis = 1)"
   ]
  },
  {
   "cell_type": "code",
   "execution_count": null,
   "metadata": {},
   "outputs": [],
   "source": [
    "plt.figure()\n",
    "plt.matshow( 20 * np.log10( np.abs( ifft_RD_0[azStart:azStop, rangeStart:rangeStop] ) ),\n",
    "            aspect='auto')\n",
    "plt.title(data_date)\n",
    "ax = plt.gca()\n",
    "#ax.axes.set_xlim(130,170)\n",
    "#ax.axes.set_ylim(280,376)\n",
    "plt.colorbar()"
   ]
  },
  {
   "cell_type": "code",
   "execution_count": null,
   "metadata": {
    "collapsed": true
   },
   "outputs": [],
   "source": [
    "rangeToPlot = rangeStart + 57\n",
    "azStart = 9500\n",
    "azStop = 11500\n",
    "\n",
    "plt.figure()\n",
    "plt.suptitle( \"angle / real / imag (range, azimut) up ramp and down ramp\\n\" + data_date )\n",
    "\n",
    "plt.subplot(311)\n",
    "plt.plot( np.angle( ifft_RD[azStart:azStop, rangeToPlot] ), label='up ramp' )\n",
    "plt.plot( np.angle( ifft_RD_0[azStart:azStop, rangeToPlot] ), label='down ramp' )\n",
    "plt.legend()\n",
    "plt.grid()\n",
    "\n",
    "plt.subplot(312)\n",
    "plt.plot( np.real( ifft_RD[azStart:azStop, rangeToPlot] ), label='up_ramp' )\n",
    "plt.plot( np.real( ifft_RD_0[azStart:azStop, rangeToPlot] ), label='down ramp' )\n",
    "plt.legend()\n",
    "plt.grid()\n",
    "\n",
    "plt.subplot(313)\n",
    "plt.plot( np.imag( ifft_RD[azStart:azStop, rangeToPlot] ), label='up ramp' )\n",
    "plt.plot( -np.imag( ifft_RD_0[azStart:azStop, rangeToPlot] ), label='down ramp' )\n",
    "plt.legend()\n",
    "plt.grid()"
   ]
  },
  {
   "cell_type": "code",
   "execution_count": null,
   "metadata": {
    "collapsed": true
   },
   "outputs": [],
   "source": [
    "plt.figure()\n",
    "plt.suptitle( \"unwrapped angle (range, azimut) up ramp and down ramp\\n\" + data_date )\n",
    "\n",
    "plt.subplot(211)\n",
    "plt.plot( np.unwrap( np.angle( ifft_RD[azStart:azStop, rangeToPlot] ) ), label='up ramp' )\n",
    "plt.plot( np.unwrap( np.angle( ifft_RD_0[azStart:azStop, rangeToPlot] ) ), label='down ramp' )\n",
    "plt.legend()\n",
    "plt.grid()\n",
    "\n",
    "plt.subplot(212)\n",
    "plt.plot( np.unwrap( np.angle( ifft_RD[azStart:azStop, rangeToPlot] ) ), label='up ramp' )\n",
    "plt.plot( np.unwrap( np.angle( np.conjugate( ifft_RD_0[azStart:azStop, rangeToPlot] ) ) ), label='down ramp (conjugate)' )\n",
    "plt.legend()\n",
    "plt.grid()"
   ]
  },
  {
   "cell_type": "code",
   "execution_count": null,
   "metadata": {},
   "outputs": [],
   "source": [
    "RD_upNdown = build_rd_from_data_upNDown( params, A_reshaped, shifted=1 )"
   ]
  },
  {
   "cell_type": "code",
   "execution_count": null,
   "metadata": {
    "collapsed": true
   },
   "outputs": [],
   "source": [
    "ifft_RD_upNdown = np.fft.ifft(RD_upNdown, axis = 1)"
   ]
  },
  {
   "cell_type": "code",
   "execution_count": null,
   "metadata": {},
   "outputs": [],
   "source": [
    "plt.figure()\n",
    "plt.matshow( 20 * np.log10( np.abs( ifft_RD[azStart:azStop, rangeStart:rangeStop] ) ),\n",
    "            aspect='auto')\n",
    "plt.title(data_date)\n",
    "ax = plt.gca()\n",
    "#ax.axes.set_xlim(130,170)\n",
    "#ax.axes.set_ylim(280,376)\n",
    "plt.colorbar()"
   ]
  },
  {
   "cell_type": "code",
   "execution_count": null,
   "metadata": {
    "collapsed": true
   },
   "outputs": [],
   "source": [
    "np.save(data_dir + '/RD_files_{}_{}_upNdown'.format(firstFile, lastFile), RD_upNdown)"
   ]
  },
  {
   "cell_type": "code",
   "execution_count": null,
   "metadata": {
    "collapsed": true
   },
   "outputs": [],
   "source": [
    "coupling_RD_upNdown = np.average(RD_upNdown, 0)\n",
    "np.save( data_dir + \"/coupling_RD_files_{}_{}_upNdown\".format(firstFile, lastFile), coupling_RD_upNdown )"
   ]
  }
 ],
 "metadata": {
  "kernelspec": {
   "display_name": "Python 3",
   "language": "python",
   "name": "python3"
  },
  "language_info": {
   "codemirror_mode": {
    "name": "ipython",
    "version": 3
   },
   "file_extension": ".py",
   "mimetype": "text/x-python",
   "name": "python",
   "nbconvert_exporter": "python",
   "pygments_lexer": "ipython3",
   "version": "3.6.2"
  }
 },
 "nbformat": 4,
 "nbformat_minor": 2
}
