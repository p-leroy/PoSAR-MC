{
 "cells": [
  {
   "cell_type": "code",
   "execution_count": 2,
   "metadata": {
    "collapsed": true
   },
   "outputs": [],
   "source": [
    "import numpy as np\n",
    "import matplotlib.pyplot as plt\n",
    "%matplotlib qt5"
   ]
  },
  {
   "cell_type": "code",
   "execution_count": 3,
   "metadata": {
    "collapsed": true
   },
   "outputs": [],
   "source": [
    "from posarmctools.readdata import *\n",
    "%load_ext autoreload\n",
    "%autoreload 2"
   ]
  },
  {
   "cell_type": "code",
   "execution_count": 9,
   "metadata": {
    "collapsed": true
   },
   "outputs": [],
   "source": [
    "data_date = \"2017_10_12_11_52_43\"\n",
    "data_dir = \"/home/pleroy/DATA/PoSAR-MC_PIMA_TEST-3/2017_10_12/\" + data_date"
   ]
  },
  {
   "cell_type": "code",
   "execution_count": 10,
   "metadata": {},
   "outputs": [
    {
     "data": {
      "text/plain": [
       "99.0"
      ]
     },
     "execution_count": 10,
     "metadata": {},
     "output_type": "execute_result"
    }
   ],
   "source": [
    "594/6"
   ]
  },
  {
   "cell_type": "code",
   "execution_count": 22,
   "metadata": {
    "collapsed": true
   },
   "outputs": [],
   "source": [
    "blocksPerFile = 6\n",
    "samplesPerRamp = 6000\n",
    "rampsPerFile = 1500\n",
    "samplesPerFile = samplesPerRamp * rampsPerFile\n",
    "\n",
    "# selection in record (0 to 594)\n",
    "firstFile = 0\n",
    "nbFiles = 99\n",
    "firstBlock = firstFile * blocksPerFile\n",
    "lastFile = firstFile + nbFiles"
   ]
  },
  {
   "cell_type": "markdown",
   "metadata": {},
   "source": [
    "### Read the data"
   ]
  },
  {
   "cell_type": "code",
   "execution_count": 23,
   "metadata": {
    "collapsed": true
   },
   "outputs": [],
   "source": [
    "timeSerie_A = np.zeros( samplesPerFile )\n",
    "timeSerie_B = np.zeros( samplesPerFile )\n",
    "\n",
    "adc_A = np.zeros( (nbFiles, samplesPerFile) )\n",
    "adc_B = np.zeros( (nbFiles, samplesPerFile) )"
   ]
  },
  {
   "cell_type": "code",
   "execution_count": 49,
   "metadata": {},
   "outputs": [
    {
     "name": "stdout",
     "output_type": "stream",
     "text": [
      "k = 0, block = 0 / 588\n",
      "k = 1, block = 6 / 588\n",
      "k = 2, block = 12 / 588\n",
      "k = 3, block = 18 / 588\n",
      "k = 4, block = 24 / 588\n",
      "k = 5, block = 30 / 588\n",
      "k = 6, block = 36 / 588\n",
      "k = 7, block = 42 / 588\n",
      "k = 8, block = 48 / 588\n",
      "k = 9, block = 54 / 588\n",
      "k = 10, block = 60 / 588\n",
      "k = 11, block = 66 / 588\n",
      "k = 12, block = 72 / 588\n",
      "k = 13, block = 78 / 588\n",
      "k = 14, block = 84 / 588\n",
      "k = 15, block = 90 / 588\n",
      "k = 16, block = 96 / 588\n",
      "k = 17, block = 102 / 588\n",
      "k = 18, block = 108 / 588\n",
      "k = 19, block = 114 / 588\n",
      "k = 20, block = 120 / 588\n",
      "k = 21, block = 126 / 588\n",
      "k = 22, block = 132 / 588\n",
      "k = 23, block = 138 / 588\n",
      "k = 24, block = 144 / 588\n",
      "k = 25, block = 150 / 588\n",
      "k = 26, block = 156 / 588\n",
      "k = 27, block = 162 / 588\n",
      "k = 28, block = 168 / 588\n",
      "k = 29, block = 174 / 588\n",
      "k = 30, block = 180 / 588\n",
      "k = 31, block = 186 / 588\n",
      "k = 32, block = 192 / 588\n",
      "k = 33, block = 198 / 588\n",
      "k = 34, block = 204 / 588\n",
      "k = 35, block = 210 / 588\n",
      "k = 36, block = 216 / 588\n",
      "k = 37, block = 222 / 588\n",
      "k = 38, block = 228 / 588\n",
      "k = 39, block = 234 / 588\n",
      "k = 40, block = 240 / 588\n",
      "k = 41, block = 246 / 588\n",
      "k = 42, block = 252 / 588\n",
      "k = 43, block = 258 / 588\n",
      "k = 44, block = 264 / 588\n",
      "k = 45, block = 270 / 588\n",
      "k = 46, block = 276 / 588\n",
      "k = 47, block = 282 / 588\n",
      "k = 48, block = 288 / 588\n",
      "k = 49, block = 294 / 588\n",
      "k = 50, block = 300 / 588\n",
      "k = 51, block = 306 / 588\n",
      "k = 52, block = 312 / 588\n",
      "k = 53, block = 318 / 588\n",
      "k = 54, block = 324 / 588\n",
      "k = 55, block = 330 / 588\n",
      "k = 56, block = 336 / 588\n",
      "k = 57, block = 342 / 588\n",
      "k = 58, block = 348 / 588\n",
      "k = 59, block = 354 / 588\n",
      "k = 60, block = 360 / 588\n",
      "k = 61, block = 366 / 588\n",
      "k = 62, block = 372 / 588\n",
      "k = 63, block = 378 / 588\n",
      "k = 64, block = 384 / 588\n",
      "k = 65, block = 390 / 588\n",
      "k = 66, block = 396 / 588\n",
      "k = 67, block = 402 / 588\n",
      "k = 68, block = 408 / 588\n",
      "k = 69, block = 414 / 588\n",
      "k = 70, block = 420 / 588\n",
      "k = 71, block = 426 / 588\n",
      "k = 72, block = 432 / 588\n",
      "k = 73, block = 438 / 588\n",
      "k = 74, block = 444 / 588\n",
      "k = 75, block = 450 / 588\n",
      "k = 76, block = 456 / 588\n",
      "k = 77, block = 462 / 588\n",
      "k = 78, block = 468 / 588\n",
      "k = 79, block = 474 / 588\n",
      "k = 80, block = 480 / 588\n",
      "k = 81, block = 486 / 588\n",
      "k = 82, block = 492 / 588\n",
      "k = 83, block = 498 / 588\n",
      "k = 84, block = 504 / 588\n",
      "k = 85, block = 510 / 588\n",
      "k = 86, block = 516 / 588\n",
      "k = 87, block = 522 / 588\n",
      "k = 88, block = 528 / 588\n",
      "k = 89, block = 534 / 588\n",
      "k = 90, block = 540 / 588\n",
      "k = 91, block = 546 / 588\n",
      "k = 92, block = 552 / 588\n",
      "k = 93, block = 558 / 588\n",
      "k = 94, block = 564 / 588\n",
      "k = 95, block = 570 / 588\n",
      "k = 96, block = 576 / 588\n",
      "k = 97, block = 582 / 588\n",
      "k = 98, block = 588 / 588\n"
     ]
    }
   ],
   "source": [
    "lastBlock = (nbFiles-1) * blocksPerFile + firstBlock\n",
    "for k in range( nbFiles ):\n",
    "    \n",
    "    # read the data\n",
    "    nb = str( int( k * blocksPerFile + firstBlock) )\n",
    "    filename = data_dir + \"/record\" + nb + \".bin\"\n",
    "    readFile( filename, samplesPerFile, timeSerie_A, timeSerie_B )\n",
    "    \n",
    "    print(\"k = {}, block = {} / {}\".format(k, nb, lastBlock ))\n",
    "    \n",
    "    adc_A[ k, : ] = timeSerie_A\n",
    "    adc_B[ k, : ] = timeSerie_B"
   ]
  },
  {
   "cell_type": "code",
   "execution_count": 50,
   "metadata": {
    "collapsed": true
   },
   "outputs": [],
   "source": [
    "A_reshaped = adc_A.reshape(nbFiles * rampsPerFile, samplesPerRamp)\n",
    "B_reshaped = adc_B.reshape(nbFiles * rampsPerFile, samplesPerRamp)"
   ]
  },
  {
   "cell_type": "code",
   "execution_count": 26,
   "metadata": {
    "collapsed": true
   },
   "outputs": [],
   "source": [
    "plt.figure()\n",
    "plt.plot( A_reshaped[0, :] )\n",
    "plt.title(\"first acquisition\\n\" + data_date)\n",
    "plt.grid()"
   ]
  },
  {
   "cell_type": "code",
   "execution_count": 51,
   "metadata": {
    "collapsed": true
   },
   "outputs": [],
   "source": [
    "coupling_A = np.average(A_reshaped, 0)\n",
    "#A_reshaped -= coupling_A"
   ]
  },
  {
   "cell_type": "code",
   "execution_count": 48,
   "metadata": {
    "collapsed": true
   },
   "outputs": [],
   "source": [
    "plt.figure()\n",
    "plt.plot( coupling_A )\n",
    "plt.title(\"coupling\\n\" + data_dir)\n",
    "plt.grid()"
   ]
  },
  {
   "cell_type": "code",
   "execution_count": 29,
   "metadata": {
    "collapsed": true
   },
   "outputs": [],
   "source": [
    "ifft_a = np.fft.ifft( (A_reshaped[::10,0:3000]), axis = 1 )"
   ]
  },
  {
   "cell_type": "code",
   "execution_count": 30,
   "metadata": {},
   "outputs": [
    {
     "data": {
      "text/plain": [
       "[<matplotlib.lines.Line2D at 0x7fa2ab6a3a58>]"
      ]
     },
     "execution_count": 30,
     "metadata": {},
     "output_type": "execute_result"
    }
   ],
   "source": [
    "plt.figure()\n",
    "vmin = -30\n",
    "vmax = 0\n",
    "nbPointsInRange = 2000\n",
    "plt.plot(  20 * np.log10( np.abs( ifft_a[2500,0:nbPointsInRange] ) ) )\n",
    "plt.plot( np.ones( nbPointsInRange ) * vmin, \"b\" )\n",
    "plt.plot( np.ones( nbPointsInRange ) * vmax, \"r\" )"
   ]
  },
  {
   "cell_type": "code",
   "execution_count": 31,
   "metadata": {},
   "outputs": [
    {
     "data": {
      "text/plain": [
       "<matplotlib.text.Text at 0x7fa1a3a3cc18>"
      ]
     },
     "execution_count": 31,
     "metadata": {},
     "output_type": "execute_result"
    }
   ],
   "source": [
    "plt.matshow( 20 * np.log10( np.abs( ifft_a[:,0:1000] ) ), \n",
    "            aspect='auto', vmin=-30, vmax=0, cmap='jet' )\n",
    "plt.title(\"Track 1 - record 2017_10_12_11_47_05\\nFiles {} to {}\".format(firstFile, lastFile) )"
   ]
  },
  {
   "cell_type": "code",
   "execution_count": 33,
   "metadata": {},
   "outputs": [
    {
     "data": {
      "text/plain": [
       "<matplotlib.text.Text at 0x7fa1a35eff28>"
      ]
     },
     "execution_count": 33,
     "metadata": {},
     "output_type": "execute_result"
    }
   ],
   "source": [
    "plt.matshow( 20 * np.log10( np.abs( ifft_a[:,300:1000] ) ), \n",
    "            aspect='auto', cmap='jet' )\n",
    "plt.title(\"Track 1 - record 2017_10_12_11_47_05\\nFiles {} to {}\".format(firstFile, lastFile) )"
   ]
  },
  {
   "cell_type": "code",
   "execution_count": 32,
   "metadata": {},
   "outputs": [
    {
     "data": {
      "text/plain": [
       "[<matplotlib.lines.Line2D at 0x7fd68db79ac8>]"
      ]
     },
     "execution_count": 32,
     "metadata": {},
     "output_type": "execute_result"
    }
   ],
   "source": [
    "plt.figure()\n",
    "plt.plot( np.angle( ifft_a[9500:11500,192] ) )"
   ]
  },
  {
   "cell_type": "code",
   "execution_count": 27,
   "metadata": {
    "collapsed": true
   },
   "outputs": [],
   "source": [
    "np.save( data_dir + \"/selection_files_{}_{}\".format(firstFile, lastFile), A_reshaped )"
   ]
  },
  {
   "cell_type": "code",
   "execution_count": 41,
   "metadata": {
    "collapsed": true
   },
   "outputs": [],
   "source": [
    "sys.path.insert(0, \"/home/pleroy/DEV/processing/focalization_python\")\n",
    "from posarutils.other.read_data_and_build_rd import *\n",
    "from posarutils.other.PosarMCParameters import *"
   ]
  },
  {
   "cell_type": "code",
   "execution_count": 45,
   "metadata": {},
   "outputs": [
    {
     "name": "stdout",
     "output_type": "stream",
     "text": [
      "shape of the samples matrix = (148500, 6000)\n"
     ]
    }
   ],
   "source": [
    "params_filename = data_dir + \"/\" + data_date + \"_parameters.xml\"\n",
    "params = PosarMCParameters( params_filename )"
   ]
  },
  {
   "cell_type": "code",
   "execution_count": 52,
   "metadata": {},
   "outputs": [
    {
     "name": "stdout",
     "output_type": "stream",
     "text": [
      "shape of the samples matrix = (148500, 6000)\n"
     ]
    }
   ],
   "source": [
    "RDc = build_rd_from_data( params, A_reshaped )"
   ]
  },
  {
   "cell_type": "code",
   "execution_count": 53,
   "metadata": {},
   "outputs": [],
   "source": [
    "coupling_RD_local = np.average(RDc, 0)\n",
    "np.save( data_dir + \"/coupling_RD\", coupling_RD_local )"
   ]
  },
  {
   "cell_type": "code",
   "execution_count": 54,
   "metadata": {},
   "outputs": [],
   "source": [
    "plt.figure()\n",
    "plt.plot(np.abs(coupling_RD_local))\n",
    "plt.grid()"
   ]
  },
  {
   "cell_type": "code",
   "execution_count": null,
   "metadata": {
    "collapsed": true
   },
   "outputs": [],
   "source": []
  }
 ],
 "metadata": {
  "kernelspec": {
   "display_name": "Python 3",
   "language": "python",
   "name": "python3"
  },
  "language_info": {
   "codemirror_mode": {
    "name": "ipython",
    "version": 3
   },
   "file_extension": ".py",
   "mimetype": "text/x-python",
   "name": "python",
   "nbconvert_exporter": "python",
   "pygments_lexer": "ipython3",
   "version": "3.6.2"
  }
 },
 "nbformat": 4,
 "nbformat_minor": 2
}
