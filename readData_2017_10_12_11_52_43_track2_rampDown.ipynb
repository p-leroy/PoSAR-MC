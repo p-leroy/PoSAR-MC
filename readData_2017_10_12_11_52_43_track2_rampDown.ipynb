{
 "cells": [
  {
   "cell_type": "code",
   "execution_count": 1,
   "metadata": {},
   "outputs": [],
   "source": [
    "import numpy as np\n",
    "import matplotlib.pyplot as plt\n",
    "%matplotlib qt5"
   ]
  },
  {
   "cell_type": "code",
   "execution_count": 2,
   "metadata": {},
   "outputs": [],
   "source": [
    "from posarmctools.readdata import *\n",
    "%load_ext autoreload\n",
    "%autoreload 2"
   ]
  },
  {
   "cell_type": "code",
   "execution_count": 3,
   "metadata": {},
   "outputs": [],
   "source": [
    "import sys"
   ]
  },
  {
   "cell_type": "code",
   "execution_count": 4,
   "metadata": {},
   "outputs": [],
   "source": [
    "sys.path.insert(0, \"/home/pleroy/DEV/processing/focalization_python\")\n",
    "from posarutils.other.read_data_and_build_rd import *\n",
    "from posarutils.other.PosarMCParameters import *"
   ]
  },
  {
   "cell_type": "code",
   "execution_count": 5,
   "metadata": {},
   "outputs": [],
   "source": [
    "data_date = \"2017_10_12_11_52_43\"\n",
    "data_dir = \"/home/pleroy/DATA/PoSAR-MC_PIMA_TEST-3/2017_10_12/\" + data_date"
   ]
  },
  {
   "cell_type": "code",
   "execution_count": 6,
   "metadata": {},
   "outputs": [],
   "source": [
    "params_filename = data_dir + \"/\" + data_date + \"_parameters.xml\"\n",
    "params = PosarMCParameters( params_filename )"
   ]
  },
  {
   "cell_type": "code",
   "execution_count": 7,
   "metadata": {},
   "outputs": [
    {
     "name": "stdout",
     "output_type": "stream",
     "text": [
      "blocksPerFile = 6, samplesPerRamp = 6000, rampsPerFile = 1500\n"
     ]
    }
   ],
   "source": [
    "blocksPerFile = params.blocksPerFile\n",
    "samplesPerRamp = params.samplesPerRamp\n",
    "rampsPerFile = params.rampsPerFile\n",
    "samplesPerFile = samplesPerRamp * rampsPerFile\n",
    "\n",
    "print( \"blocksPerFile = {}, samplesPerRamp = {}, rampsPerFile = {}\".format(\n",
    "    blocksPerFile, samplesPerRamp, rampsPerFile )\n",
    "     )\n",
    "\n",
    "# selection in record\n",
    "firstFile = 0\n",
    "nbFiles = 100\n",
    "lastFile = firstFile + nbFiles - 1\n",
    "firstBlock = firstFile * blocksPerFile"
   ]
  },
  {
   "cell_type": "markdown",
   "metadata": {},
   "source": [
    "### Read the data"
   ]
  },
  {
   "cell_type": "code",
   "execution_count": 8,
   "metadata": {},
   "outputs": [],
   "source": [
    "timeSerie_A = np.zeros( samplesPerFile )\n",
    "timeSerie_B = np.zeros( samplesPerFile )\n",
    "\n",
    "adc_A = np.zeros( (nbFiles, samplesPerFile) )\n",
    "adc_B = np.zeros( (nbFiles, samplesPerFile) )"
   ]
  },
  {
   "cell_type": "code",
   "execution_count": 9,
   "metadata": {},
   "outputs": [
    {
     "name": "stdout",
     "output_type": "stream",
     "text": [
      "k = 0, block = 0 / 594\n",
      "k = 1, block = 6 / 594\n",
      "k = 2, block = 12 / 594\n",
      "k = 3, block = 18 / 594\n",
      "k = 4, block = 24 / 594\n",
      "k = 5, block = 30 / 594\n",
      "k = 6, block = 36 / 594\n",
      "k = 7, block = 42 / 594\n",
      "k = 8, block = 48 / 594\n",
      "k = 9, block = 54 / 594\n",
      "k = 10, block = 60 / 594\n",
      "k = 11, block = 66 / 594\n",
      "k = 12, block = 72 / 594\n",
      "k = 13, block = 78 / 594\n",
      "k = 14, block = 84 / 594\n",
      "k = 15, block = 90 / 594\n",
      "k = 16, block = 96 / 594\n",
      "k = 17, block = 102 / 594\n",
      "k = 18, block = 108 / 594\n",
      "k = 19, block = 114 / 594\n",
      "k = 20, block = 120 / 594\n",
      "k = 21, block = 126 / 594\n",
      "k = 22, block = 132 / 594\n",
      "k = 23, block = 138 / 594\n",
      "k = 24, block = 144 / 594\n",
      "k = 25, block = 150 / 594\n",
      "k = 26, block = 156 / 594\n",
      "k = 27, block = 162 / 594\n",
      "k = 28, block = 168 / 594\n",
      "k = 29, block = 174 / 594\n",
      "k = 30, block = 180 / 594\n",
      "k = 31, block = 186 / 594\n",
      "k = 32, block = 192 / 594\n",
      "k = 33, block = 198 / 594\n",
      "k = 34, block = 204 / 594\n",
      "k = 35, block = 210 / 594\n",
      "k = 36, block = 216 / 594\n",
      "k = 37, block = 222 / 594\n",
      "k = 38, block = 228 / 594\n",
      "k = 39, block = 234 / 594\n",
      "k = 40, block = 240 / 594\n",
      "k = 41, block = 246 / 594\n",
      "k = 42, block = 252 / 594\n",
      "k = 43, block = 258 / 594\n",
      "k = 44, block = 264 / 594\n",
      "k = 45, block = 270 / 594\n",
      "k = 46, block = 276 / 594\n",
      "k = 47, block = 282 / 594\n",
      "k = 48, block = 288 / 594\n",
      "k = 49, block = 294 / 594\n",
      "k = 50, block = 300 / 594\n",
      "k = 51, block = 306 / 594\n",
      "k = 52, block = 312 / 594\n",
      "k = 53, block = 318 / 594\n",
      "k = 54, block = 324 / 594\n",
      "k = 55, block = 330 / 594\n",
      "k = 56, block = 336 / 594\n",
      "k = 57, block = 342 / 594\n",
      "k = 58, block = 348 / 594\n",
      "k = 59, block = 354 / 594\n",
      "k = 60, block = 360 / 594\n",
      "k = 61, block = 366 / 594\n",
      "k = 62, block = 372 / 594\n",
      "k = 63, block = 378 / 594\n",
      "k = 64, block = 384 / 594\n",
      "k = 65, block = 390 / 594\n",
      "k = 66, block = 396 / 594\n",
      "k = 67, block = 402 / 594\n",
      "k = 68, block = 408 / 594\n",
      "k = 69, block = 414 / 594\n",
      "k = 70, block = 420 / 594\n",
      "k = 71, block = 426 / 594\n",
      "k = 72, block = 432 / 594\n",
      "k = 73, block = 438 / 594\n",
      "k = 74, block = 444 / 594\n",
      "k = 75, block = 450 / 594\n",
      "k = 76, block = 456 / 594\n",
      "k = 77, block = 462 / 594\n",
      "k = 78, block = 468 / 594\n",
      "k = 79, block = 474 / 594\n",
      "k = 80, block = 480 / 594\n",
      "k = 81, block = 486 / 594\n",
      "k = 82, block = 492 / 594\n",
      "k = 83, block = 498 / 594\n",
      "k = 84, block = 504 / 594\n",
      "k = 85, block = 510 / 594\n",
      "k = 86, block = 516 / 594\n",
      "k = 87, block = 522 / 594\n",
      "k = 88, block = 528 / 594\n",
      "k = 89, block = 534 / 594\n",
      "k = 90, block = 540 / 594\n",
      "k = 91, block = 546 / 594\n",
      "k = 92, block = 552 / 594\n",
      "k = 93, block = 558 / 594\n",
      "k = 94, block = 564 / 594\n",
      "k = 95, block = 570 / 594\n",
      "k = 96, block = 576 / 594\n",
      "k = 97, block = 582 / 594\n",
      "k = 98, block = 588 / 594\n",
      "k = 99, block = 594 / 594\n"
     ]
    }
   ],
   "source": [
    "lastBlock = (nbFiles-1) * blocksPerFile + firstBlock\n",
    "for k in range( nbFiles ):\n",
    "    \n",
    "    # read the data\n",
    "    nb = str( int( k * blocksPerFile + firstBlock) )\n",
    "    filename = data_dir + \"/record\" + nb + \".bin\"\n",
    "    readFile( filename, samplesPerFile, timeSerie_A, timeSerie_B )\n",
    "    \n",
    "    print(\"k = {}, block = {} / {}\".format(k, nb, lastBlock ))\n",
    "    \n",
    "    adc_A[ k, : ] = timeSerie_A\n",
    "    adc_B[ k, : ] = timeSerie_B"
   ]
  },
  {
   "cell_type": "code",
   "execution_count": 10,
   "metadata": {},
   "outputs": [],
   "source": [
    "A_reshaped = adc_A.reshape(nbFiles * rampsPerFile, samplesPerRamp)\n",
    "B_reshaped = adc_B.reshape(nbFiles * rampsPerFile, samplesPerRamp)"
   ]
  },
  {
   "cell_type": "markdown",
   "metadata": {},
   "source": [
    "**Check that the first ramp is an up ramp**"
   ]
  },
  {
   "cell_type": "code",
   "execution_count": 11,
   "metadata": {},
   "outputs": [],
   "source": [
    "plt.figure()\n",
    "plt.plot( A_reshaped[0, :] )\n",
    "plt.title(\"first acquisition\\n\" + data_date)\n",
    "plt.grid()"
   ]
  },
  {
   "cell_type": "markdown",
   "metadata": {},
   "source": [
    "**Set the shifted flag properly**"
   ]
  },
  {
   "cell_type": "code",
   "execution_count": 18,
   "metadata": {},
   "outputs": [],
   "source": [
    "rampDownFirst = 1"
   ]
  },
  {
   "cell_type": "markdown",
   "metadata": {},
   "source": [
    "## Build RD"
   ]
  },
  {
   "cell_type": "code",
   "execution_count": 19,
   "metadata": {},
   "outputs": [
    {
     "name": "stdout",
     "output_type": "stream",
     "text": [
      "shape of the samples matrix = (150000, 6000)\n",
      "ramp down first in the data files\n"
     ]
    }
   ],
   "source": [
    "RDc = build_rd_from_data_rampDown( params, A_reshaped, rampDownFirst )"
   ]
  },
  {
   "cell_type": "markdown",
   "metadata": {},
   "source": [
    "**Compute coupling**"
   ]
  },
  {
   "cell_type": "code",
   "execution_count": 20,
   "metadata": {},
   "outputs": [],
   "source": [
    "coupling_RD = np.average(RDc, 0)\n",
    "np.save( data_dir + \"/coupling_RD_files_{}_{}_rampDown\".format(firstFile, lastFile), coupling_RD )"
   ]
  },
  {
   "cell_type": "code",
   "execution_count": 21,
   "metadata": {},
   "outputs": [],
   "source": [
    "plt.figure()\n",
    "plt.plot(np.abs(coupling_RD), 'k', label='coupling')\n",
    "plt.legend()\n",
    "plt.grid()"
   ]
  },
  {
   "cell_type": "code",
   "execution_count": 22,
   "metadata": {},
   "outputs": [],
   "source": [
    "np.save(data_dir + '/RD_files_{}_{}_rampDown'.format(firstFile, lastFile), RDc)"
   ]
  },
  {
   "cell_type": "code",
   "execution_count": null,
   "metadata": {},
   "outputs": [],
   "source": []
  }
 ],
 "metadata": {
  "kernelspec": {
   "display_name": "Python 3",
   "language": "python",
   "name": "python3"
  },
  "language_info": {
   "codemirror_mode": {
    "name": "ipython",
    "version": 3
   },
   "file_extension": ".py",
   "mimetype": "text/x-python",
   "name": "python",
   "nbconvert_exporter": "python",
   "pygments_lexer": "ipython3",
   "version": "3.6.3"
  }
 },
 "nbformat": 4,
 "nbformat_minor": 2
}
