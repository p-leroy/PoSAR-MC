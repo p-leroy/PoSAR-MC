{
 "cells": [
  {
   "cell_type": "code",
   "execution_count": 1,
   "metadata": {
    "collapsed": true
   },
   "outputs": [],
   "source": [
    "import numpy as np\n",
    "import matplotlib.pyplot as plt\n",
    "%matplotlib qt5"
   ]
  },
  {
   "cell_type": "code",
   "execution_count": 2,
   "metadata": {
    "collapsed": true
   },
   "outputs": [],
   "source": [
    "from posarmctools.readdata import *\n",
    "%load_ext autoreload\n",
    "%autoreload 2"
   ]
  },
  {
   "cell_type": "code",
   "execution_count": 3,
   "metadata": {
    "collapsed": true
   },
   "outputs": [],
   "source": [
    "data_date = \"2017_10_12_12_01_02\"\n",
    "data_dir = \"/home/pleroy/DATA/PoSAR-MC_PIMA_TEST-3/2017_10_12/\" + data_date"
   ]
  },
  {
   "cell_type": "code",
   "execution_count": 4,
   "metadata": {},
   "outputs": [
    {
     "data": {
      "text/plain": [
       "65.0"
      ]
     },
     "execution_count": 4,
     "metadata": {},
     "output_type": "execute_result"
    }
   ],
   "source": [
    "390/6"
   ]
  },
  {
   "cell_type": "code",
   "execution_count": 11,
   "metadata": {
    "collapsed": true
   },
   "outputs": [],
   "source": [
    "blocksPerFile = 6\n",
    "samplesPerRamp = 6000\n",
    "rampsPerFile = 1500\n",
    "samplesPerFile = samplesPerRamp * rampsPerFile\n",
    "\n",
    "# selection in record\n",
    "firstFile = 0\n",
    "nbFiles = 66\n",
    "firstBlock = firstFile * blocksPerFile\n",
    "lastFile = firstFile + nbFiles"
   ]
  },
  {
   "cell_type": "markdown",
   "metadata": {},
   "source": [
    "### Read the data"
   ]
  },
  {
   "cell_type": "code",
   "execution_count": 12,
   "metadata": {
    "collapsed": true
   },
   "outputs": [],
   "source": [
    "timeSerie_A = np.zeros( samplesPerFile )\n",
    "timeSerie_B = np.zeros( samplesPerFile )\n",
    "\n",
    "adc_A = np.zeros( (nbFiles, samplesPerFile) )\n",
    "adc_B = np.zeros( (nbFiles, samplesPerFile) )"
   ]
  },
  {
   "cell_type": "code",
   "execution_count": 35,
   "metadata": {},
   "outputs": [
    {
     "name": "stdout",
     "output_type": "stream",
     "text": [
      "k = 0, block = 0 / 390\n",
      "k = 1, block = 6 / 390\n",
      "k = 2, block = 12 / 390\n",
      "k = 3, block = 18 / 390\n",
      "k = 4, block = 24 / 390\n",
      "k = 5, block = 30 / 390\n",
      "k = 6, block = 36 / 390\n",
      "k = 7, block = 42 / 390\n",
      "k = 8, block = 48 / 390\n",
      "k = 9, block = 54 / 390\n",
      "k = 10, block = 60 / 390\n",
      "k = 11, block = 66 / 390\n",
      "k = 12, block = 72 / 390\n",
      "k = 13, block = 78 / 390\n",
      "k = 14, block = 84 / 390\n",
      "k = 15, block = 90 / 390\n",
      "k = 16, block = 96 / 390\n",
      "k = 17, block = 102 / 390\n",
      "k = 18, block = 108 / 390\n",
      "k = 19, block = 114 / 390\n",
      "k = 20, block = 120 / 390\n",
      "k = 21, block = 126 / 390\n",
      "k = 22, block = 132 / 390\n",
      "k = 23, block = 138 / 390\n",
      "k = 24, block = 144 / 390\n",
      "k = 25, block = 150 / 390\n",
      "k = 26, block = 156 / 390\n",
      "k = 27, block = 162 / 390\n",
      "k = 28, block = 168 / 390\n",
      "k = 29, block = 174 / 390\n",
      "k = 30, block = 180 / 390\n",
      "k = 31, block = 186 / 390\n",
      "k = 32, block = 192 / 390\n",
      "k = 33, block = 198 / 390\n",
      "k = 34, block = 204 / 390\n",
      "k = 35, block = 210 / 390\n",
      "k = 36, block = 216 / 390\n",
      "k = 37, block = 222 / 390\n",
      "k = 38, block = 228 / 390\n",
      "k = 39, block = 234 / 390\n",
      "k = 40, block = 240 / 390\n",
      "k = 41, block = 246 / 390\n",
      "k = 42, block = 252 / 390\n",
      "k = 43, block = 258 / 390\n",
      "k = 44, block = 264 / 390\n",
      "k = 45, block = 270 / 390\n",
      "k = 46, block = 276 / 390\n",
      "k = 47, block = 282 / 390\n",
      "k = 48, block = 288 / 390\n",
      "k = 49, block = 294 / 390\n",
      "k = 50, block = 300 / 390\n",
      "k = 51, block = 306 / 390\n",
      "k = 52, block = 312 / 390\n",
      "k = 53, block = 318 / 390\n",
      "k = 54, block = 324 / 390\n",
      "k = 55, block = 330 / 390\n",
      "k = 56, block = 336 / 390\n",
      "k = 57, block = 342 / 390\n",
      "k = 58, block = 348 / 390\n",
      "k = 59, block = 354 / 390\n",
      "k = 60, block = 360 / 390\n",
      "k = 61, block = 366 / 390\n",
      "k = 62, block = 372 / 390\n",
      "k = 63, block = 378 / 390\n",
      "k = 64, block = 384 / 390\n",
      "k = 65, block = 390 / 390\n"
     ]
    }
   ],
   "source": [
    "lastBlock = (nbFiles-1) * blocksPerFile + firstBlock\n",
    "for k in range( nbFiles ):\n",
    "    \n",
    "    # read the data\n",
    "    nb = str( int( k * blocksPerFile + firstBlock) )\n",
    "    filename = data_dir + \"/record\" + nb + \".bin\"\n",
    "    readFile( filename, samplesPerFile, timeSerie_A, timeSerie_B )\n",
    "    \n",
    "    print(\"k = {}, block = {} / {}\".format(k, nb, lastBlock ))\n",
    "    \n",
    "    adc_A[ k, : ] = timeSerie_A\n",
    "    adc_B[ k, : ] = timeSerie_B"
   ]
  },
  {
   "cell_type": "code",
   "execution_count": 36,
   "metadata": {
    "collapsed": true
   },
   "outputs": [],
   "source": [
    "A_reshaped = adc_A.reshape(nbFiles * rampsPerFile, samplesPerRamp)\n",
    "B_reshaped = adc_B.reshape(nbFiles * rampsPerFile, samplesPerRamp)"
   ]
  },
  {
   "cell_type": "code",
   "execution_count": 15,
   "metadata": {
    "collapsed": true
   },
   "outputs": [],
   "source": [
    "plt.figure()\n",
    "plt.plot( A_reshaped[0, :] )\n",
    "plt.title(\"first acquisition\\n\" + data_dir)\n",
    "plt.grid()"
   ]
  },
  {
   "cell_type": "code",
   "execution_count": 21,
   "metadata": {
    "collapsed": true
   },
   "outputs": [],
   "source": [
    "coupling_A = np.average(A_reshaped, 0)\n",
    "A_reshaped -= coupling_A"
   ]
  },
  {
   "cell_type": "code",
   "execution_count": 17,
   "metadata": {
    "collapsed": true
   },
   "outputs": [],
   "source": [
    "plt.figure()\n",
    "plt.plot( coupling_A )\n",
    "plt.title(\"coupling\\n\" + data_dir)\n",
    "plt.grid()"
   ]
  },
  {
   "cell_type": "code",
   "execution_count": 22,
   "metadata": {
    "collapsed": true
   },
   "outputs": [],
   "source": [
    "ifft_a = np.fft.ifft( (A_reshaped[::10,0:3000]), axis = 1 )"
   ]
  },
  {
   "cell_type": "code",
   "execution_count": 30,
   "metadata": {},
   "outputs": [
    {
     "data": {
      "text/plain": [
       "[<matplotlib.lines.Line2D at 0x7fd7b4e2dc18>]"
      ]
     },
     "execution_count": 30,
     "metadata": {},
     "output_type": "execute_result"
    }
   ],
   "source": [
    "plt.figure()\n",
    "vmin = -30\n",
    "vmax = 0\n",
    "plt.plot(  20 * np.log10( np.abs( ifft_a[2500,0:2000] ) ) )\n",
    "plt.plot( np.ones( nbPointsInRange ) * vmin, \"b\" )\n",
    "plt.plot( np.ones( nbPointsInRange ) * vmax, \"r\" )"
   ]
  },
  {
   "cell_type": "code",
   "execution_count": 34,
   "metadata": {},
   "outputs": [
    {
     "data": {
      "text/plain": [
       "<matplotlib.text.Text at 0x7fd68d0974a8>"
      ]
     },
     "execution_count": 34,
     "metadata": {},
     "output_type": "execute_result"
    }
   ],
   "source": [
    "plt.matshow( 20 * np.log10( np.abs( ifft_a[:,0:1000] ) ), \n",
    "            aspect='auto', vmin=-30, vmax=0, cmap='jet' )\n",
    "plt.title(\"Track 1 - record 2017_10_12_11_47_05\\nFiles {} to {}\".format(firstFile, lastFile) )"
   ]
  },
  {
   "cell_type": "code",
   "execution_count": 32,
   "metadata": {},
   "outputs": [
    {
     "data": {
      "text/plain": [
       "[<matplotlib.lines.Line2D at 0x7fd68db79ac8>]"
      ]
     },
     "execution_count": 32,
     "metadata": {},
     "output_type": "execute_result"
    }
   ],
   "source": [
    "plt.figure()\n",
    "plt.plot( np.angle( ifft_a[9500:11500,192] ) )"
   ]
  },
  {
   "cell_type": "code",
   "execution_count": 37,
   "metadata": {
    "collapsed": true
   },
   "outputs": [],
   "source": [
    "np.save( data_dir + \"/selection_files_{}_{}\".format(firstFile, lastFile), A_reshaped )"
   ]
  },
  {
   "cell_type": "code",
   "execution_count": 28,
   "metadata": {},
   "outputs": [
    {
     "data": {
      "text/plain": [
       "(21000, 6000)"
      ]
     },
     "execution_count": 28,
     "metadata": {},
     "output_type": "execute_result"
    }
   ],
   "source": [
    "A_reshaped.shape"
   ]
  },
  {
   "cell_type": "code",
   "execution_count": 38,
   "metadata": {},
   "outputs": [
    {
     "data": {
      "text/plain": [
       "4.0"
      ]
     },
     "execution_count": 38,
     "metadata": {},
     "output_type": "execute_result"
    }
   ],
   "source": [
    "6000/rampsPerFile"
   ]
  },
  {
   "cell_type": "code",
   "execution_count": 39,
   "metadata": {},
   "outputs": [
    {
     "data": {
      "text/plain": [
       "10.0"
      ]
     },
     "execution_count": 39,
     "metadata": {},
     "output_type": "execute_result"
    }
   ],
   "source": [
    "15000/rampsPerFile"
   ]
  },
  {
   "cell_type": "code",
   "execution_count": null,
   "metadata": {
    "collapsed": true
   },
   "outputs": [],
   "source": []
  }
 ],
 "metadata": {
  "kernelspec": {
   "display_name": "Python 3",
   "language": "python",
   "name": "python3"
  },
  "language_info": {
   "codemirror_mode": {
    "name": "ipython",
    "version": 3
   },
   "file_extension": ".py",
   "mimetype": "text/x-python",
   "name": "python",
   "nbconvert_exporter": "python",
   "pygments_lexer": "ipython3",
   "version": "3.6.2"
  }
 },
 "nbformat": 4,
 "nbformat_minor": 2
}
