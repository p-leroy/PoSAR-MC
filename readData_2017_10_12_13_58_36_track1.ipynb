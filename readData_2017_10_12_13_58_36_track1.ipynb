{
 "cells": [
  {
   "cell_type": "code",
   "execution_count": 1,
   "metadata": {
    "collapsed": true
   },
   "outputs": [],
   "source": [
    "import numpy as np\n",
    "import matplotlib.pyplot as plt\n",
    "%matplotlib qt5"
   ]
  },
  {
   "cell_type": "code",
   "execution_count": 2,
   "metadata": {
    "collapsed": true
   },
   "outputs": [],
   "source": [
    "from posarmctools.readdata import *\n",
    "%load_ext autoreload\n",
    "%autoreload 2"
   ]
  },
  {
   "cell_type": "code",
   "execution_count": 3,
   "metadata": {
    "collapsed": true
   },
   "outputs": [],
   "source": [
    "import sys\n",
    "sys.path.insert(0, \"../focalization_python\")\n",
    "from posarutils.other.PosarMCParameters import *"
   ]
  },
  {
   "cell_type": "code",
   "execution_count": 4,
   "metadata": {
    "collapsed": true
   },
   "outputs": [],
   "source": [
    "data_date = \"2017_10_12_13_58_36\"\n",
    "data_dir = \"/home/pleroy/DATA/PoSAR-MC_PIMA_TEST-3/2017_10_12/\" + data_date\n",
    "params_filename = data_dir + \"/\" + data_date + \"_parameters.xml\""
   ]
  },
  {
   "cell_type": "code",
   "execution_count": 5,
   "metadata": {
    "collapsed": true
   },
   "outputs": [],
   "source": [
    "params = PosarMCParameters( params_filename )"
   ]
  },
  {
   "cell_type": "code",
   "execution_count": 6,
   "metadata": {},
   "outputs": [
    {
     "name": "stdout",
     "output_type": "stream",
     "text": [
      "number of files = 70\n"
     ]
    }
   ],
   "source": [
    "blocksPerFile = params.blocksPerFile\n",
    "samplesPerRamp = params.samplesPerRamp\n",
    "rampsPerFile = params.rampsPerFile\n",
    "samplesPerFile = samplesPerRamp * rampsPerFile\n",
    "\n",
    "firstFile = 0\n",
    "lastFile = 414\n",
    "numberOfFiles = int( (lastFile - firstFile) / blocksPerFile + 1 )\n",
    "#numberOfFiles = 60\n",
    "\n",
    "threshold = 6000\n",
    "\n",
    "print( \"number of files = {}\".format(numberOfFiles) )"
   ]
  },
  {
   "cell_type": "markdown",
   "metadata": {},
   "source": [
    "### Read the data"
   ]
  },
  {
   "cell_type": "code",
   "execution_count": 7,
   "metadata": {
    "collapsed": true
   },
   "outputs": [],
   "source": [
    "timeSerie_A = np.zeros( samplesPerFile )\n",
    "timeSerie_B = np.zeros( samplesPerFile )\n",
    "\n",
    "adc_A = np.zeros( (numberOfFiles, samplesPerFile) )\n",
    "adc_B = np.zeros( (numberOfFiles, samplesPerFile) )"
   ]
  },
  {
   "cell_type": "code",
   "execution_count": 8,
   "metadata": {},
   "outputs": [
    {
     "name": "stdout",
     "output_type": "stream",
     "text": [
      "k = 0, file = 0 / 70\n",
      "k = 1, file = 6 / 70\n",
      "k = 2, file = 12 / 70\n",
      "k = 3, file = 18 / 70\n",
      "k = 4, file = 24 / 70\n",
      "k = 5, file = 30 / 70\n",
      "k = 6, file = 36 / 70\n",
      "k = 7, file = 42 / 70\n",
      "k = 8, file = 48 / 70\n",
      "k = 9, file = 54 / 70\n",
      "k = 10, file = 60 / 70\n",
      "k = 11, file = 66 / 70\n",
      "k = 12, file = 72 / 70\n",
      "k = 13, file = 78 / 70\n",
      "k = 14, file = 84 / 70\n",
      "k = 15, file = 90 / 70\n",
      "k = 16, file = 96 / 70\n",
      "k = 17, file = 102 / 70\n",
      "k = 18, file = 108 / 70\n",
      "k = 19, file = 114 / 70\n",
      "k = 20, file = 120 / 70\n",
      "k = 21, file = 126 / 70\n",
      "k = 22, file = 132 / 70\n",
      "k = 23, file = 138 / 70\n",
      "k = 24, file = 144 / 70\n",
      "k = 25, file = 150 / 70\n",
      "k = 26, file = 156 / 70\n",
      "k = 27, file = 162 / 70\n",
      "k = 28, file = 168 / 70\n",
      "k = 29, file = 174 / 70\n",
      "k = 30, file = 180 / 70\n",
      "k = 31, file = 186 / 70\n",
      "k = 32, file = 192 / 70\n",
      "k = 33, file = 198 / 70\n",
      "k = 34, file = 204 / 70\n",
      "k = 35, file = 210 / 70\n",
      "k = 36, file = 216 / 70\n",
      "k = 37, file = 222 / 70\n",
      "k = 38, file = 228 / 70\n",
      "k = 39, file = 234 / 70\n",
      "k = 40, file = 240 / 70\n",
      "k = 41, file = 246 / 70\n",
      "k = 42, file = 252 / 70\n",
      "k = 43, file = 258 / 70\n",
      "k = 44, file = 264 / 70\n",
      "k = 45, file = 270 / 70\n",
      "k = 46, file = 276 / 70\n",
      "k = 47, file = 282 / 70\n",
      "k = 48, file = 288 / 70\n",
      "k = 49, file = 294 / 70\n",
      "k = 50, file = 300 / 70\n",
      "k = 51, file = 306 / 70\n",
      "k = 52, file = 312 / 70\n",
      "k = 53, file = 318 / 70\n",
      "k = 54, file = 324 / 70\n",
      "k = 55, file = 330 / 70\n",
      "k = 56, file = 336 / 70\n",
      "k = 57, file = 342 / 70\n",
      "k = 58, file = 348 / 70\n",
      "k = 59, file = 354 / 70\n",
      "k = 60, file = 360 / 70\n",
      "k = 61, file = 366 / 70\n",
      "k = 62, file = 372 / 70\n",
      "k = 63, file = 378 / 70\n",
      "k = 64, file = 384 / 70\n",
      "k = 65, file = 390 / 70\n",
      "k = 66, file = 396 / 70\n",
      "k = 67, file = 402 / 70\n",
      "k = 68, file = 408 / 70\n",
      "k = 69, file = 414 / 70\n"
     ]
    }
   ],
   "source": [
    "for k in range( numberOfFiles ):\n",
    "    \n",
    "    # read the data\n",
    "    nb = str( int( k * blocksPerFile + firstFile) )\n",
    "    filename = data_dir + \"/record\" + nb + \".bin\"\n",
    "    readFile( filename, samplesPerFile, timeSerie_A, timeSerie_B )\n",
    "    \n",
    "    print(\"k = {}, file = {} / {}\".format(k, nb, numberOfFiles))\n",
    "    \n",
    "    adc_A[ k, : ] = timeSerie_A\n",
    "    adc_B[ k, : ] = timeSerie_B"
   ]
  },
  {
   "cell_type": "code",
   "execution_count": 9,
   "metadata": {
    "collapsed": true
   },
   "outputs": [],
   "source": [
    "A_reshaped = adc_A.reshape(numberOfFiles * rampsPerFile, samplesPerRamp)\n",
    "B_reshaped = adc_B.reshape(numberOfFiles * rampsPerFile, samplesPerRamp)"
   ]
  },
  {
   "cell_type": "code",
   "execution_count": 10,
   "metadata": {
    "collapsed": true
   },
   "outputs": [],
   "source": [
    "plt.figure()\n",
    "plt.plot( A_reshaped[0, :] )\n",
    "plt.title( \"first acquisition \" + data_date )\n",
    "plt.grid()"
   ]
  },
  {
   "cell_type": "markdown",
   "metadata": {},
   "source": [
    "**Set the shifted flag properly**"
   ]
  },
  {
   "cell_type": "code",
   "execution_count": 11,
   "metadata": {
    "collapsed": true
   },
   "outputs": [],
   "source": [
    "shifted = 1"
   ]
  },
  {
   "cell_type": "code",
   "execution_count": 11,
   "metadata": {
    "collapsed": true
   },
   "outputs": [],
   "source": [
    "coupling_A = np.average(A_reshaped, 0)\n",
    "#A_reshaped -= coupling_A"
   ]
  },
  {
   "cell_type": "code",
   "execution_count": 12,
   "metadata": {
    "collapsed": true
   },
   "outputs": [],
   "source": [
    "plt.figure()\n",
    "plt.plot( coupling_A )\n",
    "plt.title( \"coupling \" + data_date )\n",
    "plt.grid()"
   ]
  },
  {
   "cell_type": "code",
   "execution_count": 16,
   "metadata": {
    "collapsed": true
   },
   "outputs": [],
   "source": [
    "ifft_a = np.fft.ifft( (A_reshaped[::10,3000:6000]), axis = 1 )"
   ]
  },
  {
   "cell_type": "code",
   "execution_count": 18,
   "metadata": {
    "collapsed": true
   },
   "outputs": [],
   "source": [
    "plt.matshow( 20 * np.log10( np.abs( ifft_a[:,50:500] ) ), aspect='auto' )\n",
    "plt.title(data_date + \" Track 1\\nFiles {} to {}\".format(firstFile, lastFile) )\n",
    "plt.grid(color=\"w\")"
   ]
  },
  {
   "cell_type": "markdown",
   "metadata": {},
   "source": [
    "## Save the data"
   ]
  },
  {
   "cell_type": "code",
   "execution_count": null,
   "metadata": {
    "collapsed": true
   },
   "outputs": [],
   "source": [
    "np.save(data_dir + '/samplesA_track1_flightover1.npy', A_reshaped)"
   ]
  },
  {
   "cell_type": "markdown",
   "metadata": {},
   "source": [
    "## Compute RD"
   ]
  },
  {
   "cell_type": "code",
   "execution_count": 12,
   "metadata": {
    "collapsed": true
   },
   "outputs": [],
   "source": [
    "import sys"
   ]
  },
  {
   "cell_type": "code",
   "execution_count": 13,
   "metadata": {
    "collapsed": true
   },
   "outputs": [],
   "source": [
    "sys.path.insert(0, \"/home/pleroy/DEV/processing/focalization_python\")\n",
    "from posarutils.other.read_data_and_build_rd import *\n",
    "from posarutils.other.PosarMCParameters import *"
   ]
  },
  {
   "cell_type": "code",
   "execution_count": 14,
   "metadata": {
    "collapsed": true
   },
   "outputs": [],
   "source": [
    "params_filename = data_dir + \"/\" + data_date + \"_parameters.xml\"\n",
    "params = PosarMCParameters( params_filename )"
   ]
  },
  {
   "cell_type": "code",
   "execution_count": 15,
   "metadata": {},
   "outputs": [
    {
     "name": "stdout",
     "output_type": "stream",
     "text": [
      "shape of the samples matrix = (52500, 12000)\n",
      "Data are shifted\n"
     ]
    }
   ],
   "source": [
    "RDc = build_rd_from_data( params, A_reshaped, shifted )"
   ]
  },
  {
   "cell_type": "code",
   "execution_count": 16,
   "metadata": {
    "collapsed": true
   },
   "outputs": [],
   "source": [
    "coupling_RD_local = np.average(RDc, 0)\n",
    "np.save( data_dir + \"/coupling_RD_files_{}_{}\".format(firstFile, lastFile), coupling_RD_local )"
   ]
  },
  {
   "cell_type": "code",
   "execution_count": 19,
   "metadata": {
    "collapsed": true
   },
   "outputs": [],
   "source": [
    "RD2 = RDc - coupling_RD_local"
   ]
  },
  {
   "cell_type": "code",
   "execution_count": 20,
   "metadata": {
    "collapsed": true
   },
   "outputs": [],
   "source": [
    "ifft_RD = np.fft.ifft(RD2, axis = 1)"
   ]
  },
  {
   "cell_type": "code",
   "execution_count": null,
   "metadata": {
    "collapsed": true
   },
   "outputs": [],
   "source": [
    "nbPointsInRange = 300\n",
    "x0 = 0\n",
    "x1 = nbPointsInRange\n",
    "y0 = 0\n",
    "y1 = 0\n",
    "extent = [ x0, x1, y0, y1 ]\n",
    "rangeStart = 135\n",
    "rangeStop = 250\n",
    "azStart = 6000\n",
    "azStop = 15000"
   ]
  },
  {
   "cell_type": "code",
   "execution_count": 22,
   "metadata": {},
   "outputs": [
    {
     "data": {
      "text/plain": [
       "<matplotlib.colorbar.Colorbar at 0x7fdb0467f2b0>"
      ]
     },
     "execution_count": 22,
     "metadata": {},
     "output_type": "execute_result"
    }
   ],
   "source": [
    "plt.matshow( 20 * np.log10( np.abs( ifft_RD[::10, 0:500] ) ),\n",
    "            aspect='auto')\n",
    "plt.title(data_date)\n",
    "ax = plt.gca()\n",
    "#ax.axes.set_xlim(130,170)\n",
    "#ax.axes.set_ylim(280,376)\n",
    "plt.colorbar()"
   ]
  },
  {
   "cell_type": "code",
   "execution_count": null,
   "metadata": {
    "collapsed": true
   },
   "outputs": [],
   "source": []
  }
 ],
 "metadata": {
  "kernelspec": {
   "display_name": "Python 3",
   "language": "python",
   "name": "python3"
  },
  "language_info": {
   "codemirror_mode": {
    "name": "ipython",
    "version": 3
   },
   "file_extension": ".py",
   "mimetype": "text/x-python",
   "name": "python",
   "nbconvert_exporter": "python",
   "pygments_lexer": "ipython3",
   "version": "3.6.2"
  }
 },
 "nbformat": 4,
 "nbformat_minor": 2
}
