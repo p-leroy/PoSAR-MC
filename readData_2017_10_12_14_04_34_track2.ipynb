{
 "cells": [
  {
   "cell_type": "code",
   "execution_count": 1,
   "metadata": {
    "collapsed": true
   },
   "outputs": [],
   "source": [
    "import numpy as np\n",
    "import matplotlib.pyplot as plt\n",
    "%matplotlib qt5"
   ]
  },
  {
   "cell_type": "code",
   "execution_count": 2,
   "metadata": {
    "collapsed": true
   },
   "outputs": [],
   "source": [
    "from posarmctools.readdata import *\n",
    "%load_ext autoreload\n",
    "%autoreload 2"
   ]
  },
  {
   "cell_type": "code",
   "execution_count": 3,
   "metadata": {
    "collapsed": true
   },
   "outputs": [],
   "source": [
    "import sys\n",
    "sys.path.insert(0, \"../focalization_python\")\n",
    "from posarutils.other.PosarMCParameters import *"
   ]
  },
  {
   "cell_type": "code",
   "execution_count": 4,
   "metadata": {
    "collapsed": true
   },
   "outputs": [],
   "source": [
    "data_date = \"2017_10_12_14_04_34\"\n",
    "data_dir = \"/home/pleroy/DATA/PoSAR-MC_PIMA_TEST-3/2017_10_12/\" + data_date\n",
    "params_filename = data_dir + \"/\" + data_date + \"_parameters.xml\""
   ]
  },
  {
   "cell_type": "code",
   "execution_count": 5,
   "metadata": {},
   "outputs": [],
   "source": [
    "params = PosarMCParameters( params_filename )"
   ]
  },
  {
   "cell_type": "code",
   "execution_count": 6,
   "metadata": {},
   "outputs": [
    {
     "name": "stdout",
     "output_type": "stream",
     "text": [
      "number of files = 83\n"
     ]
    }
   ],
   "source": [
    "blocksPerFile = params.blocksPerFile\n",
    "samplesPerRamp = params.samplesPerRamp\n",
    "rampsPerFile = params.rampsPerFile\n",
    "samplesPerFile = samplesPerRamp * rampsPerFile\n",
    "\n",
    "firstFile = 0\n",
    "lastFile = 492\n",
    "numberOfFiles = int( (lastFile - firstFile) / blocksPerFile + 1 )\n",
    "#numberOfFiles = 60\n",
    "\n",
    "threshold = 6000\n",
    "\n",
    "print( \"number of files = {}\".format(numberOfFiles) )"
   ]
  },
  {
   "cell_type": "markdown",
   "metadata": {},
   "source": [
    "### Read the data"
   ]
  },
  {
   "cell_type": "code",
   "execution_count": 7,
   "metadata": {},
   "outputs": [],
   "source": [
    "timeSerie_A = np.zeros( samplesPerFile )\n",
    "timeSerie_B = np.zeros( samplesPerFile )\n",
    "\n",
    "adc_A = np.zeros( (numberOfFiles, samplesPerFile) )\n",
    "adc_B = np.zeros( (numberOfFiles, samplesPerFile) )"
   ]
  },
  {
   "cell_type": "code",
   "execution_count": 8,
   "metadata": {},
   "outputs": [
    {
     "name": "stdout",
     "output_type": "stream",
     "text": [
      "k = 0, file = 0 / 83\n",
      "k = 1, file = 6 / 83\n",
      "k = 2, file = 12 / 83\n",
      "k = 3, file = 18 / 83\n",
      "k = 4, file = 24 / 83\n",
      "k = 5, file = 30 / 83\n",
      "k = 6, file = 36 / 83\n",
      "k = 7, file = 42 / 83\n",
      "k = 8, file = 48 / 83\n",
      "k = 9, file = 54 / 83\n",
      "k = 10, file = 60 / 83\n",
      "k = 11, file = 66 / 83\n",
      "k = 12, file = 72 / 83\n",
      "k = 13, file = 78 / 83\n",
      "k = 14, file = 84 / 83\n",
      "k = 15, file = 90 / 83\n",
      "k = 16, file = 96 / 83\n",
      "k = 17, file = 102 / 83\n",
      "k = 18, file = 108 / 83\n",
      "k = 19, file = 114 / 83\n",
      "k = 20, file = 120 / 83\n",
      "k = 21, file = 126 / 83\n",
      "k = 22, file = 132 / 83\n",
      "k = 23, file = 138 / 83\n",
      "k = 24, file = 144 / 83\n",
      "k = 25, file = 150 / 83\n",
      "k = 26, file = 156 / 83\n",
      "k = 27, file = 162 / 83\n",
      "k = 28, file = 168 / 83\n",
      "k = 29, file = 174 / 83\n",
      "k = 30, file = 180 / 83\n",
      "k = 31, file = 186 / 83\n",
      "k = 32, file = 192 / 83\n",
      "k = 33, file = 198 / 83\n",
      "k = 34, file = 204 / 83\n",
      "k = 35, file = 210 / 83\n",
      "k = 36, file = 216 / 83\n",
      "k = 37, file = 222 / 83\n",
      "k = 38, file = 228 / 83\n",
      "k = 39, file = 234 / 83\n",
      "k = 40, file = 240 / 83\n",
      "k = 41, file = 246 / 83\n",
      "k = 42, file = 252 / 83\n",
      "k = 43, file = 258 / 83\n",
      "k = 44, file = 264 / 83\n",
      "k = 45, file = 270 / 83\n",
      "k = 46, file = 276 / 83\n",
      "k = 47, file = 282 / 83\n",
      "k = 48, file = 288 / 83\n",
      "k = 49, file = 294 / 83\n",
      "k = 50, file = 300 / 83\n",
      "k = 51, file = 306 / 83\n",
      "k = 52, file = 312 / 83\n",
      "k = 53, file = 318 / 83\n",
      "k = 54, file = 324 / 83\n",
      "k = 55, file = 330 / 83\n",
      "k = 56, file = 336 / 83\n",
      "k = 57, file = 342 / 83\n",
      "k = 58, file = 348 / 83\n",
      "k = 59, file = 354 / 83\n",
      "k = 60, file = 360 / 83\n",
      "k = 61, file = 366 / 83\n",
      "k = 62, file = 372 / 83\n",
      "k = 63, file = 378 / 83\n",
      "k = 64, file = 384 / 83\n",
      "k = 65, file = 390 / 83\n",
      "k = 66, file = 396 / 83\n",
      "k = 67, file = 402 / 83\n",
      "k = 68, file = 408 / 83\n",
      "k = 69, file = 414 / 83\n",
      "k = 70, file = 420 / 83\n",
      "k = 71, file = 426 / 83\n",
      "k = 72, file = 432 / 83\n",
      "k = 73, file = 438 / 83\n",
      "k = 74, file = 444 / 83\n",
      "k = 75, file = 450 / 83\n",
      "k = 76, file = 456 / 83\n",
      "k = 77, file = 462 / 83\n",
      "k = 78, file = 468 / 83\n",
      "k = 79, file = 474 / 83\n",
      "k = 80, file = 480 / 83\n",
      "k = 81, file = 486 / 83\n",
      "k = 82, file = 492 / 83\n"
     ]
    }
   ],
   "source": [
    "for k in range( numberOfFiles ):\n",
    "    \n",
    "    # read the data\n",
    "    nb = str( int( k * blocksPerFile + firstFile) )\n",
    "    filename = data_dir + \"/record\" + nb + \".bin\"\n",
    "    readFile( filename, samplesPerFile, timeSerie_A, timeSerie_B )\n",
    "    \n",
    "    print(\"k = {}, file = {} / {}\".format(k, nb, numberOfFiles))\n",
    "    \n",
    "    adc_A[ k, : ] = timeSerie_A\n",
    "    adc_B[ k, : ] = timeSerie_B"
   ]
  },
  {
   "cell_type": "code",
   "execution_count": 11,
   "metadata": {},
   "outputs": [],
   "source": [
    "A_reshaped = adc_A.reshape(numberOfFiles * rampsPerFile, samplesPerRamp)\n",
    "B_reshaped = adc_B.reshape(numberOfFiles * rampsPerFile, samplesPerRamp)"
   ]
  },
  {
   "cell_type": "code",
   "execution_count": 14,
   "metadata": {},
   "outputs": [],
   "source": [
    "plt.figure()\n",
    "plt.plot( A_reshaped[0, :] )\n",
    "plt.title( \"first acquisition \" + data_date )\n",
    "plt.grid()"
   ]
  },
  {
   "cell_type": "code",
   "execution_count": 18,
   "metadata": {
    "collapsed": true
   },
   "outputs": [],
   "source": [
    "coupling_A = np.average(A_reshaped, 0)\n",
    "A_reshaped -= coupling_A"
   ]
  },
  {
   "cell_type": "code",
   "execution_count": 15,
   "metadata": {
    "collapsed": true
   },
   "outputs": [],
   "source": [
    "plt.figure()\n",
    "plt.plot( coupling_A )\n",
    "plt.title( \"coupling \" + data_date )\n",
    "plt.grid()"
   ]
  },
  {
   "cell_type": "code",
   "execution_count": 19,
   "metadata": {
    "collapsed": true
   },
   "outputs": [],
   "source": [
    "ifft_a = np.fft.ifft( (A_reshaped[::10,0:3000]), axis = 1 )"
   ]
  },
  {
   "cell_type": "code",
   "execution_count": 23,
   "metadata": {
    "collapsed": true
   },
   "outputs": [],
   "source": [
    "plt.matshow( 20 * np.log10( np.abs( ifft_a[:,50:500] ) ), aspect='auto' )\n",
    "plt.title(data_date + \" Track 2\\nFiles {} to {}\".format(firstFile, lastFile) )\n",
    "plt.grid(color=\"w\")"
   ]
  },
  {
   "cell_type": "markdown",
   "metadata": {},
   "source": [
    "## Save the data"
   ]
  },
  {
   "cell_type": "code",
   "execution_count": null,
   "metadata": {
    "collapsed": true
   },
   "outputs": [],
   "source": [
    "np.save(data_dir + '/samplesA_track1_flightover1.npy', A_reshaped)"
   ]
  }
 ],
 "metadata": {
  "kernelspec": {
   "display_name": "Python 3",
   "language": "python",
   "name": "python3"
  },
  "language_info": {
   "codemirror_mode": {
    "name": "ipython",
    "version": 3
   },
   "file_extension": ".py",
   "mimetype": "text/x-python",
   "name": "python",
   "nbconvert_exporter": "python",
   "pygments_lexer": "ipython3",
   "version": "3.6.2"
  }
 },
 "nbformat": 4,
 "nbformat_minor": 2
}
