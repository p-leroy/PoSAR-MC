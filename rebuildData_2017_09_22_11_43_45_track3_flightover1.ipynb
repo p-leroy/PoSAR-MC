{
 "cells": [
  {
   "cell_type": "code",
   "execution_count": 1,
   "metadata": {
    "collapsed": true
   },
   "outputs": [],
   "source": [
    "import numpy as np\n",
    "import matplotlib.pyplot as plt\n",
    "%matplotlib qt5"
   ]
  },
  {
   "cell_type": "code",
   "execution_count": 2,
   "metadata": {
    "collapsed": true
   },
   "outputs": [],
   "source": [
    "prefix = \"/home/pleroy/DATA/PoSAR-MC_PIMA_TEST-2/2017_09_22_\"\n",
    "data_dir = prefix + \"11_43_45\""
   ]
  },
  {
   "cell_type": "code",
   "execution_count": 41,
   "metadata": {
    "collapsed": true
   },
   "outputs": [],
   "source": [
    "blocksPerFile = 6\n",
    "samplesPerRamp = 6000\n",
    "rampsPerFile = 1500\n",
    "samplesPerFile = samplesPerRamp * rampsPerFile\n",
    "\n",
    "numberOfFiles = 15\n",
    "firstFile = 6690 # 6684\n",
    "lastFile = firstFile + numberOfFiles * blocksPerFile\n",
    "nbFilesToCheck = numberOfFiles\n",
    "nbFilesToRebuild = numberOfFiles"
   ]
  },
  {
   "cell_type": "markdown",
   "metadata": {},
   "source": [
    "### Read the data"
   ]
  },
  {
   "cell_type": "code",
   "execution_count": 4,
   "metadata": {
    "collapsed": true
   },
   "outputs": [],
   "source": [
    "def readFile( filename, timeSerie_A, timeSerie_B ):\n",
    "    fd = open(filename,'rb')\n",
    "    \n",
    "    dum = np.fromfile(fd, dtype = np.int16)\n",
    "\n",
    "    timeSerie_A[:] = dum[ 0 : 2 * samplesPerFile : 2 ]\n",
    "    timeSerie_B[:] = dum[ 1 : 2 * samplesPerFile : 2 ]\n",
    "    \n",
    "    fd.close()"
   ]
  },
  {
   "cell_type": "code",
   "execution_count": 5,
   "metadata": {
    "collapsed": true
   },
   "outputs": [],
   "source": [
    "timeSerie_A = np.zeros( samplesPerFile )\n",
    "timeSerie_B = np.zeros( samplesPerFile )"
   ]
  },
  {
   "cell_type": "markdown",
   "metadata": {},
   "source": [
    "### Check pulse duration in B channel data"
   ]
  },
  {
   "cell_type": "code",
   "execution_count": 42,
   "metadata": {
    "collapsed": true
   },
   "outputs": [],
   "source": [
    "threshold = 6000"
   ]
  },
  {
   "cell_type": "code",
   "execution_count": 43,
   "metadata": {},
   "outputs": [
    {
     "name": "stdout",
     "output_type": "stream",
     "text": [
      "file 6690, pulseDuration =  1000\n",
      "file 6696, pulseDuration =  1000\n",
      "file 6702, pulseDuration =  1000\n",
      "file 6708, pulseDuration =  1000\n",
      "file 6714, pulseDuration =  1000\n",
      "file 6720, pulseDuration =  1000\n",
      "file 6726, pulseDuration =  1000\n",
      "file 6732, pulseDuration =  1000\n",
      "file 6738, pulseDuration =  1000\n",
      "file 6744, pulseDuration =  1000\n",
      "file 6750, pulseDuration =  1000\n",
      "file 6756, pulseDuration =  1000\n",
      "file 6762, pulseDuration =  1000\n",
      "file 6768, pulseDuration =  1000\n",
      "file 6774, pulseDuration =  1000\n"
     ]
    }
   ],
   "source": [
    "for k in range(nbFilesToCheck):\n",
    "    nb = str(int(k * blocksPerFile + firstFile))\n",
    "    readFile( data_dir + \"/record\" + nb +\".bin\", timeSerie_A, timeSerie_B )\n",
    "    pulseDuration = np.where(timeSerie_B > threshold)[0].shape[0]\n",
    "    print(\"file \" + str(nb) + \", pulseDuration =  \" + str(pulseDuration))"
   ]
  },
  {
   "cell_type": "markdown",
   "metadata": {},
   "source": [
    "### Check the triggers in the B channel data"
   ]
  },
  {
   "cell_type": "code",
   "execution_count": 44,
   "metadata": {},
   "outputs": [
    {
     "name": "stdout",
     "output_type": "stream",
     "text": [
      "file 6690, threshold = [8990808]\n",
      "file 6696, threshold = [8993680]\n",
      "file 6702, threshold = [8993551]\n",
      "file 6708, threshold = [8993442]\n",
      "file 6714, threshold = [8993275]\n",
      "file 6720, threshold = [8993160]\n",
      "file 6726, threshold = [8993080]\n",
      "file 6732, threshold = [8992970]\n",
      "file 6738, threshold = [8992865]\n",
      "file 6744, threshold = [8992774]\n",
      "file 6750, threshold = [8992559]\n",
      "file 6756, threshold = [8992449]\n",
      "file 6762, threshold = [8992350]\n",
      "file 6768, threshold = [8992211]\n",
      "file 6774, threshold = [8992113]\n"
     ]
    }
   ],
   "source": [
    "for k in range(nbFilesToCheck):\n",
    "    nb = str(int(k * blocksPerFile + firstFile))\n",
    "    readFile( data_dir + \"/record\" + nb +\".bin\", timeSerie_A, timeSerie_B )\n",
    "    triggers = np.where( np.diff(timeSerie_B) > threshold )[0]\n",
    "    print(\"file \" + str(nb) + \", threshold = \" + str(triggers))"
   ]
  },
  {
   "cell_type": "markdown",
   "metadata": {},
   "source": [
    "# Rebuild the data files"
   ]
  },
  {
   "cell_type": "code",
   "execution_count": 45,
   "metadata": {
    "collapsed": true
   },
   "outputs": [],
   "source": [
    "timeSerie_C = np.zeros( samplesPerFile )\n",
    "timeSerie_D = np.zeros( samplesPerFile )"
   ]
  },
  {
   "cell_type": "code",
   "execution_count": 46,
   "metadata": {},
   "outputs": [
    {
     "name": "stdout",
     "output_type": "stream",
     "text": [
      "file 6690, trigs = [8990808]\n",
      "file 6696, trigs = [8993680]\n",
      "file 6702, trigs = [8993551]\n",
      "file 6708, trigs = [8993442]\n",
      "file 6714, trigs = [8993275]\n",
      "file 6720, trigs = [8993160]\n",
      "file 6726, trigs = [8993080]\n",
      "file 6732, trigs = [8992970]\n",
      "file 6738, trigs = [8992865]\n",
      "file 6744, trigs = [8992774]\n",
      "file 6750, trigs = [8992559]\n",
      "file 6756, trigs = [8992449]\n",
      "file 6762, trigs = [8992350]\n",
      "file 6768, trigs = [8992211]\n",
      "file 6774, trigs = [8992113]\n"
     ]
    }
   ],
   "source": [
    "rebuilt_A = np.zeros((nbFilesToRebuild, samplesPerFile))\n",
    "rebuilt_B = np.zeros((nbFilesToRebuild, samplesPerFile))\n",
    "for k in range(nbFilesToRebuild):\n",
    "    nb        = str( int( k     * blocksPerFile + firstFile) )\n",
    "    nb_plus_1 = str( int( (k+1) * blocksPerFile + firstFile) )\n",
    "    readFile( data_dir + \"/record\" + nb        +\".bin\", timeSerie_A, timeSerie_B )\n",
    "    readFile( data_dir + \"/record\" + nb_plus_1 +\".bin\", timeSerie_C, timeSerie_D )\n",
    "    trigs = np.where( np.diff(timeSerie_B) > threshold )[0]\n",
    "    trig = trigs[0] + 1\n",
    "\n",
    "    rebuilt_B[ k, 0 : samplesPerFile - trig ] = timeSerie_B[ trig : ]\n",
    "    rebuilt_B[ k, samplesPerFile - trig : ] = timeSerie_D[ 0 : trig ]\n",
    "    \n",
    "    rebuilt_A[ k, 0 : samplesPerFile - trig ] = timeSerie_A[ trig : ]\n",
    "    rebuilt_A[ k, samplesPerFile - trig : ] = timeSerie_C[ 0 : trig ]\n",
    "    \n",
    "    print(\"file \" + str(nb) + \", trigs = \" + str(trigs))"
   ]
  },
  {
   "cell_type": "code",
   "execution_count": 27,
   "metadata": {},
   "outputs": [
    {
     "data": {
      "text/plain": [
       "[<matplotlib.lines.Line2D at 0x7feb8b187a90>]"
      ]
     },
     "execution_count": 27,
     "metadata": {},
     "output_type": "execute_result"
    }
   ],
   "source": [
    "plt.plot(rebuilt_B[1,:])"
   ]
  },
  {
   "cell_type": "code",
   "execution_count": 47,
   "metadata": {
    "collapsed": true
   },
   "outputs": [],
   "source": [
    "A_reshaped = rebuilt_A.reshape(nbFilesToRebuild * rampsPerFile, samplesPerRamp)\n",
    "B_reshaped = rebuilt_B.reshape(nbFilesToRebuild * rampsPerFile, samplesPerRamp)"
   ]
  },
  {
   "cell_type": "code",
   "execution_count": 48,
   "metadata": {
    "collapsed": true
   },
   "outputs": [],
   "source": [
    "coupling_A = np.average(A_reshaped, 0)\n",
    "A_reshaped -= coupling_A"
   ]
  },
  {
   "cell_type": "code",
   "execution_count": 16,
   "metadata": {
    "collapsed": true
   },
   "outputs": [],
   "source": [
    "for k in range(nbFilesToRebuild):\n",
    "    plt.plot(A_reshaped[k,0:6000])"
   ]
  },
  {
   "cell_type": "code",
   "execution_count": 49,
   "metadata": {
    "collapsed": true
   },
   "outputs": [],
   "source": [
    "ifft_a = np.fft.ifft( (A_reshaped[::,0:3000]), axis = 1 )"
   ]
  },
  {
   "cell_type": "code",
   "execution_count": 56,
   "metadata": {},
   "outputs": [
    {
     "data": {
      "text/plain": [
       "<matplotlib.text.Text at 0x7feb8dbcdd68>"
      ]
     },
     "execution_count": 56,
     "metadata": {},
     "output_type": "execute_result"
    }
   ],
   "source": [
    "azMax = 0\n",
    "azMin = ifft_a.shape[1]\n",
    "rangeMin = 500\n",
    "rangeMax = 2000\n",
    "plt.imshow( 20 * np.log10( np.abs( ifft_a[:,500:2000] ) ),\n",
    "           aspect='auto', extent=(rangeMin, rangeMax, azMin, azMax) )\n",
    "plt.title(\"Track 1 / Flight over 2\\nFiles {} to {}\".format(firstFile, lastFile) )"
   ]
  },
  {
   "cell_type": "code",
   "execution_count": 54,
   "metadata": {},
   "outputs": [],
   "source": [
    "np.save(data_dir + '/samplesA_track3_flightover1.npy', A_reshaped)"
   ]
  },
  {
   "cell_type": "markdown",
   "metadata": {},
   "source": [
    "# Annexe"
   ]
  },
  {
   "cell_type": "code",
   "execution_count": null,
   "metadata": {
    "collapsed": true
   },
   "outputs": [],
   "source": [
    "rd_a = np.fft.fft( ifft_a, axis = 0 )"
   ]
  },
  {
   "cell_type": "code",
   "execution_count": null,
   "metadata": {},
   "outputs": [],
   "source": [
    "plt.matshow( 20 * np.log10( np.abs( rd_a[:, 0:500] ) ), aspect='auto' )"
   ]
  },
  {
   "cell_type": "markdown",
   "metadata": {},
   "source": [
    "Track 1 Flight over 2, average altitude = 227.281, velocity = 44.250"
   ]
  },
  {
   "cell_type": "code",
   "execution_count": 53,
   "metadata": {
    "collapsed": true
   },
   "outputs": [],
   "source": [
    "np.save('A_reshaped_tr3_fo1.npy', A_reshaped)"
   ]
  },
  {
   "cell_type": "code",
   "execution_count": null,
   "metadata": {
    "collapsed": true
   },
   "outputs": [],
   "source": [
    "plt.figure()\n",
    "plt.plot(A_reshaped[0,0:3000])\n",
    "plt.plot(A_reshaped[0,3000:6000])\n",
    "plt.plot(A_reshaped[1,0:3000])\n",
    "plt.plot(A_reshaped[1,3000:6000])"
   ]
  },
  {
   "cell_type": "code",
   "execution_count": null,
   "metadata": {
    "collapsed": true
   },
   "outputs": [],
   "source": [
    "plt.figure()\n",
    "ax1 = plt.subplot(211)\n",
    "plt.plot( np.real( np.fft.fft( A_reshaped[0,0:3000] ) ) )\n",
    "plt.plot( np.real( np.conjugate( np.fft.fft( A_reshaped[0,3000:6000] ) ) ) )\n",
    "plt.subplot(212, sharex = ax1)\n",
    "plt.plot( np.imag( np.fft.fft( A_reshaped[0,0:3000] ) ) )\n",
    "plt.plot( np.imag( np.conjugate( np.fft.fft( A_reshaped[0,3000:6000] ) ) ) )"
   ]
  },
  {
   "cell_type": "code",
   "execution_count": null,
   "metadata": {
    "collapsed": true
   },
   "outputs": [],
   "source": [
    "plt.plot( np.fft.ifft( np.conjugate( np.fft.fft( A_reshaped[0,3000:6000] ) ) ) )"
   ]
  },
  {
   "cell_type": "code",
   "execution_count": null,
   "metadata": {
    "collapsed": true
   },
   "outputs": [],
   "source": [
    "alpha = 150e6 / 300e-6\n",
    "c = 3e8\n",
    "fs = 10e6"
   ]
  },
  {
   "cell_type": "code",
   "execution_count": null,
   "metadata": {
    "collapsed": true
   },
   "outputs": [],
   "source": [
    "fs * c / ( 2 * alpha )"
   ]
  },
  {
   "cell_type": "code",
   "execution_count": null,
   "metadata": {
    "collapsed": true
   },
   "outputs": [],
   "source": [
    "3000*2/c*0.5e12"
   ]
  },
  {
   "cell_type": "code",
   "execution_count": null,
   "metadata": {
    "collapsed": true
   },
   "outputs": [],
   "source": [
    "np.fft.fft( A_reshaped[0,0:3000] )"
   ]
  },
  {
   "cell_type": "code",
   "execution_count": null,
   "metadata": {
    "collapsed": true
   },
   "outputs": [],
   "source": []
  }
 ],
 "metadata": {
  "kernelspec": {
   "display_name": "Python 3",
   "language": "python",
   "name": "python3"
  },
  "language_info": {
   "codemirror_mode": {
    "name": "ipython",
    "version": 3
   },
   "file_extension": ".py",
   "mimetype": "text/x-python",
   "name": "python",
   "nbconvert_exporter": "python",
   "pygments_lexer": "ipython3",
   "version": "3.6.2"
  }
 },
 "nbformat": 4,
 "nbformat_minor": 2
}
