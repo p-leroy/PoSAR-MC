{
 "cells": [
  {
   "cell_type": "code",
   "execution_count": 1,
   "metadata": {
    "collapsed": true
   },
   "outputs": [],
   "source": [
    "import numpy as np\n",
    "import matplotlib.pyplot as plt\n",
    "%matplotlib qt5"
   ]
  },
  {
   "cell_type": "code",
   "execution_count": 2,
   "metadata": {
    "collapsed": true
   },
   "outputs": [],
   "source": [
    "prefix = \"/home/pleroy/DATA/PoSAR-MC_PIMA_TEST-2/2017_09_22_\"\n",
    "data_dir = prefix + \"15_21_51\""
   ]
  },
  {
   "cell_type": "code",
   "execution_count": 3,
   "metadata": {
    "collapsed": true
   },
   "outputs": [],
   "source": [
    "blocksPerFile = 6\n",
    "samplesPerRamp = 6000\n",
    "rampsPerFile = 1500\n",
    "samplesPerFile = samplesPerRamp * rampsPerFile\n",
    "\n",
    "numberOfFiles = 15\n",
    "firstFile = 960 # 6684\n",
    "lastFile = firstFile + numberOfFiles * blocksPerFile\n",
    "nbFilesToCheck = numberOfFiles\n",
    "nbFilesToRebuild = numberOfFiles"
   ]
  },
  {
   "cell_type": "markdown",
   "metadata": {},
   "source": [
    "### Read the data"
   ]
  },
  {
   "cell_type": "code",
   "execution_count": 4,
   "metadata": {
    "collapsed": true
   },
   "outputs": [],
   "source": [
    "def readFile( filename, timeSerie_A, timeSerie_B ):\n",
    "    fd = open(filename,'rb')\n",
    "    \n",
    "    dum = np.fromfile(fd, dtype = np.int16)\n",
    "\n",
    "    timeSerie_A[:] = dum[ 0 : 2 * samplesPerFile : 2 ]\n",
    "    timeSerie_B[:] = dum[ 1 : 2 * samplesPerFile : 2 ]\n",
    "    \n",
    "    fd.close()"
   ]
  },
  {
   "cell_type": "code",
   "execution_count": 5,
   "metadata": {
    "collapsed": true
   },
   "outputs": [],
   "source": [
    "timeSerie_A = np.zeros( samplesPerFile )\n",
    "timeSerie_B = np.zeros( samplesPerFile )"
   ]
  },
  {
   "cell_type": "code",
   "execution_count": 6,
   "metadata": {
    "collapsed": true
   },
   "outputs": [],
   "source": [
    "filename = data_dir + \"/record960.bin\"\n",
    "readFile( filename, timeSerie_A, timeSerie_B )"
   ]
  },
  {
   "cell_type": "code",
   "execution_count": null,
   "metadata": {},
   "outputs": [],
   "source": [
    "plt.plot(timeSerie_B)"
   ]
  },
  {
   "cell_type": "code",
   "execution_count": null,
   "metadata": {
    "collapsed": true
   },
   "outputs": [],
   "source": [
    "indices_B = np.where( (timeSerie_B > maxValue) | (timeSerie_B < -maxValue) )"
   ]
  },
  {
   "cell_type": "code",
   "execution_count": null,
   "metadata": {},
   "outputs": [],
   "source": [
    "timeSerie_B[indices_B] = 0"
   ]
  },
  {
   "cell_type": "code",
   "execution_count": null,
   "metadata": {},
   "outputs": [],
   "source": [
    "plt.plot(timeSerie_B)"
   ]
  },
  {
   "cell_type": "markdown",
   "metadata": {},
   "source": [
    "### Check pulse duration in B channel data"
   ]
  },
  {
   "cell_type": "code",
   "execution_count": 10,
   "metadata": {
    "collapsed": true
   },
   "outputs": [],
   "source": [
    "threshold = 6000"
   ]
  },
  {
   "cell_type": "code",
   "execution_count": null,
   "metadata": {},
   "outputs": [],
   "source": [
    "for k in range(nbFilesToCheck):\n",
    "    nb = str(int(k * blocksPerFile + firstFile))\n",
    "    readFile( data_dir + \"/record\" + nb +\".bin\", timeSerie_A, timeSerie_B )\n",
    "    pulseDuration = np.where(timeSerie_B > threshold)[0].shape[0]\n",
    "    print(\"file \" + str(nb) + \", pulseDuration =  \" + str(pulseDuration))"
   ]
  },
  {
   "cell_type": "markdown",
   "metadata": {},
   "source": [
    "### Check the triggers in the B channel data"
   ]
  },
  {
   "cell_type": "code",
   "execution_count": null,
   "metadata": {},
   "outputs": [],
   "source": [
    "for k in range(nbFilesToCheck):\n",
    "    nb = str(int(k * blocksPerFile + firstFile))\n",
    "    readFile( data_dir + \"/record\" + nb +\".bin\", timeSerie_A, timeSerie_B )\n",
    "    triggers = np.where( np.diff(timeSerie_B) > threshold )[0]\n",
    "    print(\"file \" + str(nb) + \", threshold = \" + str(triggers))"
   ]
  },
  {
   "cell_type": "markdown",
   "metadata": {},
   "source": [
    "# Rebuild the data files"
   ]
  },
  {
   "cell_type": "markdown",
   "metadata": {},
   "source": [
    "There are strange values in the data files, above 8192, what is impossible.\n",
    "Such points are set to zero."
   ]
  },
  {
   "cell_type": "code",
   "execution_count": 7,
   "metadata": {},
   "outputs": [],
   "source": [
    "maxValue = 2**14/2"
   ]
  },
  {
   "cell_type": "code",
   "execution_count": 8,
   "metadata": {
    "collapsed": true
   },
   "outputs": [],
   "source": [
    "timeSerie_C = np.zeros( samplesPerFile )\n",
    "timeSerie_D = np.zeros( samplesPerFile )"
   ]
  },
  {
   "cell_type": "code",
   "execution_count": 11,
   "metadata": {},
   "outputs": [
    {
     "name": "stdout",
     "output_type": "stream",
     "text": [
      "file 960, trigs = [8997136]\n",
      "file 966, trigs = [8997104]\n",
      "file 972, trigs = [8997074]\n",
      "file 978, trigs = [8997051]\n",
      "file 984, trigs = [8997030]\n",
      "file 990, trigs = [8996995]\n",
      "file 996, trigs = [8996977]\n",
      "file 1002, trigs = [8996941]\n",
      "file 1008, trigs = [8996918]\n",
      "file 1014, trigs = [8996892]\n",
      "file 1020, trigs = [8996869]\n",
      "file 1026, trigs = [8996835]\n",
      "file 1032, trigs = [8996808]\n",
      "file 1038, trigs = [8996783]\n",
      "file 1044, trigs = [8996755]\n"
     ]
    }
   ],
   "source": [
    "rebuilt_A = np.zeros((nbFilesToRebuild, samplesPerFile))\n",
    "rebuilt_B = np.zeros((nbFilesToRebuild, samplesPerFile))\n",
    "for k in range(nbFilesToRebuild):\n",
    "    nb        = str( int( k     * blocksPerFile + firstFile) )\n",
    "    nb_plus_1 = str( int( (k+1) * blocksPerFile + firstFile) )\n",
    "    readFile( data_dir + \"/record\" + nb        +\".bin\", timeSerie_A, timeSerie_B )\n",
    "    readFile( data_dir + \"/record\" + nb_plus_1 +\".bin\", timeSerie_C, timeSerie_D )\n",
    "    \n",
    "    # set uncoherent points to zero\n",
    "    indices_A = np.where( (timeSerie_A > maxValue) | (timeSerie_A < -maxValue) )\n",
    "    timeSerie_A[indices_A] = 0\n",
    "    indices_B = np.where( (timeSerie_B > maxValue) | (timeSerie_B < -maxValue) )\n",
    "    timeSerie_B[indices_B] = 0\n",
    "    indices_C = np.where( (timeSerie_C > maxValue) | (timeSerie_C < -maxValue) )\n",
    "    timeSerie_C[indices_C] = 0\n",
    "    indices_D = np.where( (timeSerie_D > maxValue) | (timeSerie_D < -maxValue) )\n",
    "    timeSerie_D[indices_D] = 0\n",
    "    \n",
    "    trigs = np.where( np.diff(timeSerie_B) > threshold )[0]\n",
    "    trig = trigs[0] + 1\n",
    "\n",
    "    rebuilt_A[ k, 0 : samplesPerFile - trig ] = timeSerie_A[ trig : ]\n",
    "    rebuilt_A[ k, samplesPerFile - trig : ] = timeSerie_C[ 0 : trig ]\n",
    "    \n",
    "    rebuilt_B[ k, 0 : samplesPerFile - trig ] = timeSerie_B[ trig : ]\n",
    "    rebuilt_B[ k, samplesPerFile - trig : ] = timeSerie_D[ 0 : trig ]\n",
    "    \n",
    "    print(\"file \" + str(nb) + \", trigs = \" + str(trigs))"
   ]
  },
  {
   "cell_type": "code",
   "execution_count": null,
   "metadata": {},
   "outputs": [],
   "source": [
    "np.where( (timeSerie_B > maxValue) )"
   ]
  },
  {
   "cell_type": "code",
   "execution_count": null,
   "metadata": {},
   "outputs": [],
   "source": [
    "plt.plot(rebuilt_B[0,:])"
   ]
  },
  {
   "cell_type": "code",
   "execution_count": 12,
   "metadata": {
    "collapsed": true
   },
   "outputs": [],
   "source": [
    "A_reshaped = rebuilt_A.reshape(nbFilesToRebuild * rampsPerFile, samplesPerRamp)\n",
    "B_reshaped = rebuilt_B.reshape(nbFilesToRebuild * rampsPerFile, samplesPerRamp)"
   ]
  },
  {
   "cell_type": "code",
   "execution_count": 13,
   "metadata": {
    "collapsed": true
   },
   "outputs": [],
   "source": [
    "coupling_A = np.average(A_reshaped, 0)\n",
    "A_reshaped -= coupling_A"
   ]
  },
  {
   "cell_type": "code",
   "execution_count": null,
   "metadata": {
    "collapsed": true
   },
   "outputs": [],
   "source": [
    "for k in range(nbFilesToRebuild):\n",
    "    plt.plot(A_reshaped[k,0:6000])"
   ]
  },
  {
   "cell_type": "code",
   "execution_count": 14,
   "metadata": {
    "collapsed": true
   },
   "outputs": [],
   "source": [
    "ifft_a = np.fft.ifft( (A_reshaped[::,0:3000]), axis = 1 )"
   ]
  },
  {
   "cell_type": "code",
   "execution_count": 16,
   "metadata": {},
   "outputs": [
    {
     "data": {
      "text/plain": [
       "<matplotlib.text.Text at 0x7fa5affdab38>"
      ]
     },
     "execution_count": 16,
     "metadata": {},
     "output_type": "execute_result"
    }
   ],
   "source": [
    "azMax = 0\n",
    "azMin = ifft_a.shape[1]\n",
    "rangeMin = 100\n",
    "rangeMax = 1000\n",
    "plt.imshow( 20 * np.log10( np.abs( ifft_a[:,rangeMin:rangeMax] ) ),\n",
    "           aspect='auto', extent=(rangeMin, rangeMax, azMin, azMax) )\n",
    "plt.title(\"Track 1 / Flight over 2\\nFiles {} to {}\".format(firstFile, lastFile) )"
   ]
  },
  {
   "cell_type": "code",
   "execution_count": null,
   "metadata": {
    "collapsed": true
   },
   "outputs": [],
   "source": [
    "np.save(data_dir + '/samplesA_track3_flightover1.npy', A_reshaped)"
   ]
  },
  {
   "cell_type": "markdown",
   "metadata": {},
   "source": [
    "# Annexe"
   ]
  },
  {
   "cell_type": "code",
   "execution_count": null,
   "metadata": {
    "collapsed": true
   },
   "outputs": [],
   "source": [
    "rd_a = np.fft.fft( ifft_a, axis = 0 )"
   ]
  },
  {
   "cell_type": "code",
   "execution_count": null,
   "metadata": {
    "collapsed": true
   },
   "outputs": [],
   "source": [
    "plt.matshow( 20 * np.log10( np.abs( rd_a[:, 0:500] ) ), aspect='auto' )"
   ]
  },
  {
   "cell_type": "markdown",
   "metadata": {},
   "source": [
    "Track 1 Flight over 2, average altitude = 227.281, velocity = 44.250"
   ]
  },
  {
   "cell_type": "code",
   "execution_count": null,
   "metadata": {
    "collapsed": true
   },
   "outputs": [],
   "source": [
    "np.save('A_reshaped_tr3_fo1.npy', A_reshaped)"
   ]
  },
  {
   "cell_type": "code",
   "execution_count": null,
   "metadata": {
    "collapsed": true
   },
   "outputs": [],
   "source": [
    "plt.figure()\n",
    "plt.plot(A_reshaped[0,0:3000])\n",
    "plt.plot(A_reshaped[0,3000:6000])\n",
    "plt.plot(A_reshaped[1,0:3000])\n",
    "plt.plot(A_reshaped[1,3000:6000])"
   ]
  },
  {
   "cell_type": "code",
   "execution_count": null,
   "metadata": {
    "collapsed": true
   },
   "outputs": [],
   "source": [
    "plt.figure()\n",
    "ax1 = plt.subplot(211)\n",
    "plt.plot( np.real( np.fft.fft( A_reshaped[0,0:3000] ) ) )\n",
    "plt.plot( np.real( np.conjugate( np.fft.fft( A_reshaped[0,3000:6000] ) ) ) )\n",
    "plt.subplot(212, sharex = ax1)\n",
    "plt.plot( np.imag( np.fft.fft( A_reshaped[0,0:3000] ) ) )\n",
    "plt.plot( np.imag( np.conjugate( np.fft.fft( A_reshaped[0,3000:6000] ) ) ) )"
   ]
  },
  {
   "cell_type": "code",
   "execution_count": null,
   "metadata": {
    "collapsed": true
   },
   "outputs": [],
   "source": [
    "plt.plot( np.fft.ifft( np.conjugate( np.fft.fft( A_reshaped[0,3000:6000] ) ) ) )"
   ]
  },
  {
   "cell_type": "code",
   "execution_count": null,
   "metadata": {
    "collapsed": true
   },
   "outputs": [],
   "source": [
    "alpha = 150e6 / 300e-6\n",
    "c = 3e8\n",
    "fs = 10e6"
   ]
  },
  {
   "cell_type": "code",
   "execution_count": null,
   "metadata": {
    "collapsed": true
   },
   "outputs": [],
   "source": [
    "fs * c / ( 2 * alpha )"
   ]
  },
  {
   "cell_type": "code",
   "execution_count": null,
   "metadata": {
    "collapsed": true
   },
   "outputs": [],
   "source": [
    "3000*2/c*0.5e12"
   ]
  },
  {
   "cell_type": "code",
   "execution_count": null,
   "metadata": {
    "collapsed": true
   },
   "outputs": [],
   "source": [
    "np.fft.fft( A_reshaped[0,0:3000] )"
   ]
  },
  {
   "cell_type": "code",
   "execution_count": null,
   "metadata": {
    "collapsed": true
   },
   "outputs": [],
   "source": []
  }
 ],
 "metadata": {
  "kernelspec": {
   "display_name": "Python 3",
   "language": "python",
   "name": "python3"
  },
  "language_info": {
   "codemirror_mode": {
    "name": "ipython",
    "version": 3
   },
   "file_extension": ".py",
   "mimetype": "text/x-python",
   "name": "python",
   "nbconvert_exporter": "python",
   "pygments_lexer": "ipython3",
   "version": "3.6.2"
  }
 },
 "nbformat": 4,
 "nbformat_minor": 2
}
