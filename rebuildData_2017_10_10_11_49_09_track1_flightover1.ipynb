{
 "cells": [
  {
   "cell_type": "code",
   "execution_count": 2,
   "metadata": {
    "collapsed": true
   },
   "outputs": [],
   "source": [
    "import numpy as np\n",
    "import matplotlib.pyplot as plt\n",
    "%matplotlib qt5"
   ]
  },
  {
   "cell_type": "code",
   "execution_count": 5,
   "metadata": {
    "collapsed": true
   },
   "outputs": [],
   "source": [
    "from posarmctools.readdata import *\n",
    "%load_ext autoreload\n",
    "%autoreload 2"
   ]
  },
  {
   "cell_type": "code",
   "execution_count": 3,
   "metadata": {
    "collapsed": true
   },
   "outputs": [],
   "source": [
    "data_dir = \"/home/pleroy/DATA/PoSAR-MC_PIMA_TEST-3/2017_10_10_11_49_09\""
   ]
  },
  {
   "cell_type": "code",
   "execution_count": 13,
   "metadata": {
    "collapsed": true
   },
   "outputs": [],
   "source": [
    "blocksPerFile = 6\n",
    "samplesPerRamp = 6000\n",
    "rampsPerFile = 1500\n",
    "samplesPerFile = samplesPerRamp * rampsPerFile\n",
    "\n",
    "firstFile = 0\n",
    "lastFile = 336\n",
    "numberOfFiles = int( (lastFile - firstFile) / blocksPerFile + 1 )\n",
    "nbFilesToCheck = numberOfFiles - 1 # file 336 is not complete\n",
    "nbFilesToRebuild = numberOfFiles - 1 # file 336 is not complete"
   ]
  },
  {
   "cell_type": "markdown",
   "metadata": {},
   "source": [
    "### Read the data"
   ]
  },
  {
   "cell_type": "code",
   "execution_count": 6,
   "metadata": {
    "collapsed": true
   },
   "outputs": [],
   "source": [
    "timeSerie_A = np.zeros( samplesPerFile )\n",
    "timeSerie_B = np.zeros( samplesPerFile )"
   ]
  },
  {
   "cell_type": "markdown",
   "metadata": {},
   "source": [
    "### Check pulse duration in B channel data"
   ]
  },
  {
   "cell_type": "code",
   "execution_count": 7,
   "metadata": {
    "collapsed": true
   },
   "outputs": [],
   "source": [
    "threshold = 6000"
   ]
  },
  {
   "cell_type": "code",
   "execution_count": 14,
   "metadata": {},
   "outputs": [
    {
     "name": "stdout",
     "output_type": "stream",
     "text": [
      "file 0, pulseDuration =  1068\n",
      "file 6, pulseDuration =  1120\n",
      "file 12, pulseDuration =  1106\n",
      "file 18, pulseDuration =  706\n",
      "file 24, pulseDuration =  1000\n",
      "file 30, pulseDuration =  1000\n",
      "file 36, pulseDuration =  1002\n",
      "file 42, pulseDuration =  1000\n",
      "file 48, pulseDuration =  1000\n",
      "file 54, pulseDuration =  1000\n",
      "file 60, pulseDuration =  1000\n",
      "file 66, pulseDuration =  1000\n",
      "file 72, pulseDuration =  1000\n",
      "file 78, pulseDuration =  1000\n",
      "file 84, pulseDuration =  1000\n",
      "file 90, pulseDuration =  1000\n",
      "file 96, pulseDuration =  1000\n",
      "file 102, pulseDuration =  1000\n",
      "file 108, pulseDuration =  1000\n",
      "file 114, pulseDuration =  1000\n",
      "file 120, pulseDuration =  1000\n",
      "file 126, pulseDuration =  1000\n",
      "file 132, pulseDuration =  1000\n",
      "file 138, pulseDuration =  1000\n",
      "file 144, pulseDuration =  1000\n",
      "file 150, pulseDuration =  1000\n",
      "file 156, pulseDuration =  1000\n",
      "file 162, pulseDuration =  1000\n",
      "file 168, pulseDuration =  1000\n",
      "file 174, pulseDuration =  1000\n",
      "file 180, pulseDuration =  1000\n",
      "file 186, pulseDuration =  1000\n",
      "file 192, pulseDuration =  1000\n",
      "file 198, pulseDuration =  1000\n",
      "file 204, pulseDuration =  1000\n",
      "file 210, pulseDuration =  1000\n",
      "file 216, pulseDuration =  1000\n",
      "file 222, pulseDuration =  1000\n",
      "file 228, pulseDuration =  1000\n",
      "file 234, pulseDuration =  1000\n",
      "file 240, pulseDuration =  1000\n",
      "file 246, pulseDuration =  1000\n",
      "file 252, pulseDuration =  1000\n",
      "file 258, pulseDuration =  1002\n",
      "file 264, pulseDuration =  1000\n",
      "file 270, pulseDuration =  1000\n",
      "file 276, pulseDuration =  1000\n",
      "file 282, pulseDuration =  1003\n",
      "file 288, pulseDuration =  1000\n",
      "file 294, pulseDuration =  1002\n",
      "file 300, pulseDuration =  1002\n",
      "file 306, pulseDuration =  1000\n",
      "file 312, pulseDuration =  1000\n",
      "file 318, pulseDuration =  1000\n",
      "file 324, pulseDuration =  1000\n",
      "file 330, pulseDuration =  1000\n"
     ]
    }
   ],
   "source": [
    "for k in range(nbFilesToCheck):\n",
    "    nb = str(int(k * blocksPerFile + firstFile))\n",
    "    filename = data_dir + \"/record\" + nb +\".bin\"\n",
    "    readFile( filename, samplesPerFile, timeSerie_A, timeSerie_B )\n",
    "    pulseDuration = np.where(timeSerie_B > threshold)[0].shape[0]\n",
    "    print(\"file \" + str(nb) + \", pulseDuration =  \" + str(pulseDuration))"
   ]
  },
  {
   "cell_type": "markdown",
   "metadata": {},
   "source": [
    "### Check the triggers in the B channel data"
   ]
  },
  {
   "cell_type": "code",
   "execution_count": 16,
   "metadata": {},
   "outputs": [
    {
     "name": "stdout",
     "output_type": "stream",
     "text": [
      "file 0, threshold = [     11 8999931]\n",
      "file 6, threshold = [8999811]\n",
      "file 12, threshold = [8999705]\n",
      "file 18, threshold = []\n",
      "file 24, threshold = [2568]\n",
      "file 30, threshold = [2475]\n",
      "file 36, threshold = [   2373 7404416]\n",
      "file 42, threshold = [2257]\n",
      "file 48, threshold = [2146]\n",
      "file 54, threshold = [1996]\n",
      "file 60, threshold = [1918]\n",
      "file 66, threshold = [1774]\n",
      "file 72, threshold = [1657]\n",
      "file 78, threshold = [1543]\n",
      "file 84, threshold = [1460]\n",
      "file 90, threshold = [1367]\n",
      "file 96, threshold = [1249]\n",
      "file 102, threshold = [1117]\n",
      "file 108, threshold = [3994]\n",
      "file 114, threshold = [3904]\n",
      "file 120, threshold = [3835]\n",
      "file 126, threshold = [6743]\n",
      "file 132, threshold = [6606]\n",
      "file 138, threshold = [6524]\n",
      "file 144, threshold = [6423]\n",
      "file 150, threshold = [6338]\n",
      "file 156, threshold = [6202]\n",
      "file 162, threshold = [6051]\n",
      "file 168, threshold = [5972]\n",
      "file 174, threshold = [5888]\n",
      "file 180, threshold = [5756]\n",
      "file 186, threshold = [5669]\n",
      "file 192, threshold = [5588]\n",
      "file 198, threshold = [5455]\n",
      "file 204, threshold = [5340]\n",
      "file 210, threshold = [5245]\n",
      "file 216, threshold = [5142]\n",
      "file 222, threshold = [5015]\n",
      "file 228, threshold = [4932]\n",
      "file 234, threshold = [4813]\n",
      "file 240, threshold = [4685]\n",
      "file 246, threshold = [4563]\n",
      "file 252, threshold = [4446]\n",
      "file 258, threshold = [  4349 596879]\n",
      "file 264, threshold = [4221]\n",
      "file 270, threshold = [4134]\n",
      "file 276, threshold = [4043]\n",
      "file 282, threshold = [   3964 1295945 1295949]\n",
      "file 288, threshold = [3824]\n",
      "file 294, threshold = [   3736 2997250]\n",
      "file 300, threshold = [   3618 4095921]\n",
      "file 306, threshold = [3543]\n",
      "file 312, threshold = [3401]\n",
      "file 318, threshold = [3314]\n",
      "file 324, threshold = [3197]\n",
      "file 330, threshold = [3107]\n"
     ]
    }
   ],
   "source": [
    "for k in range(nbFilesToCheck):\n",
    "    nb = str(int(k * blocksPerFile + firstFile))\n",
    "    filename = data_dir + \"/record\" + nb +\".bin\"\n",
    "    readFile( filename, samplesPerFile, timeSerie_A, timeSerie_B )\n",
    "    triggers = np.where( np.diff(timeSerie_B) > threshold )[0]\n",
    "    print(\"file \" + str(nb) + \", threshold = \" + str(triggers))"
   ]
  },
  {
   "cell_type": "code",
   "execution_count": 35,
   "metadata": {},
   "outputs": [
    {
     "data": {
      "text/plain": [
       "[<matplotlib.lines.Line2D at 0x7f3051800dd8>]"
      ]
     },
     "execution_count": 35,
     "metadata": {},
     "output_type": "execute_result"
    }
   ],
   "source": [
    "filename = data_dir + \"/record282.bin\"\n",
    "readFile( filename, samplesPerFile, timeSerie_A, timeSerie_B )\n",
    "plt.plot( timeSerie_A )"
   ]
  },
  {
   "cell_type": "markdown",
   "metadata": {},
   "source": [
    "### Rebuild the data files"
   ]
  },
  {
   "cell_type": "code",
   "execution_count": 42,
   "metadata": {
    "collapsed": true
   },
   "outputs": [],
   "source": [
    "tmp_A = np.zeros( 2 * samplesPerFile )\n",
    "tmp_B = np.zeros( 2 * samplesPerFile )\n",
    "\n",
    "rebuilt_A = np.zeros( (nbFilesToRebuild, samplesPerFile) )\n",
    "rebuilt_B = np.zeros( (nbFilesToRebuild, samplesPerFile) )"
   ]
  },
  {
   "cell_type": "code",
   "execution_count": 55,
   "metadata": {},
   "outputs": [
    {
     "name": "stdout",
     "output_type": "stream",
     "text": [
      "triggers 8999811\n",
      "file 12\n",
      "triggers 8999705\n",
      "file 18\n",
      "triggers 9002568\n",
      "file 24\n"
     ]
    }
   ],
   "source": [
    "readFile( data_dir + \"/record0.bin\", samplesPerFile,  timeSerie_A, timeSerie_B )\n",
    "tmp_A[ 0 : samplesPerFile ] = timeSerie_A\n",
    "tmp_B[ 0 : samplesPerFile ] = timeSerie_B\n",
    "\n",
    "readFile( data_dir + \"/record6.bin\", samplesPerFile, timeSerie_A, timeSerie_B )\n",
    "tmp_A[ samplesPerFile : 2 * samplesPerFile ] = timeSerie_A\n",
    "tmp_B[ samplesPerFile : 2 * samplesPerFile ] = timeSerie_B\n",
    "    \n",
    "triggers = np.where( np.diff(tmp_B) > threshold )[0]\n",
    "print(\"triggers {}\".format(triggers[0]))\n",
    "\n",
    "initialTrig = triggers[0] + 1\n",
    "print(\"initialtrigger {}\".format(initialTrig))\n",
    "\n",
    "rebuilt_A[0, :] = tmp_A[ initialTrig : initialTrig + samplesPerFile ]\n",
    "rebuilt_B[0, :] = tmp_B[ initialTrig : initialTrig + samplesPerFile ]\n",
    "    \n",
    "for file in range(1, 5):\n",
    "    \n",
    "    # read the data\n",
    "    nb = str( int( k * blocksPerFile + firstFile) )\n",
    "    filename = data_dir + \"/record\" + nb + \".bin\"\n",
    "    readFile( filename, samplesPerFile, timeSerie_A, timeSerie_B )\n",
    "    \n",
    "    tmp_A[ 0 : samplesPerFile ] = tmp_A[ samplesPerFile : 2 * samplesPerFile ]\n",
    "    tmp_A[ samplesPerFile : 2 * samplesPerFile ] = timeSerie_A\n",
    "    \n",
    "    tmp_B[ 0 : samplesPerFile ] = tmp_B[ samplesPerFile : 2 * samplesPerFile ]\n",
    "    tmp_B[ samplesPerFile : 2 * samplesPerFile ] = timeSerie_B\n",
    "    \n",
    "    triggers = np.where( np.diff(tmp_B) > threshold )[0]\n",
    "    print(\"triggers {}\".format(triggers[0]))\n",
    "    \n",
    "    trigOK = 0\n",
    "    for trig in triggers:\n",
    "        if trigOK == 0:\n",
    "            if (tmp_B[trig+1] > threshold and tmp_B[trig+20] > threshold and tmp_B[trig+30] > threshold):\n",
    "                # ok, this is a trigger, copy the data\n",
    "                trigOK = 1\n",
    "                pass\n",
    "            else:\n",
    "                # this was not a trigger, check the next trigger\n",
    "                pass\n",
    "                \n",
    "    if trigOK !=1:\n",
    "        print( \"error, no trigger detected, current nb is {}\".format(nb) )\n",
    "    \n",
    "    # look for the trigger\n",
    "    if ( timeSerie_B[0] > threshold ): # the file starts during a trigger pulse\n",
    "        pass\n",
    "    else:\n",
    "        pass\n",
    "    \n",
    "    print(\"file \" + str(nb))"
   ]
  },
  {
   "cell_type": "code",
   "execution_count": 54,
   "metadata": {},
   "outputs": [
    {
     "data": {
      "text/plain": [
       "8191.0"
      ]
     },
     "execution_count": 54,
     "metadata": {},
     "output_type": "execute_result"
    }
   ],
   "source": [
    "tmp_B[9002569]"
   ]
  },
  {
   "cell_type": "code",
   "execution_count": null,
   "metadata": {
    "collapsed": true
   },
   "outputs": [],
   "source": [
    "A_reshaped = rebuilt_A.reshape(nbFilesToRebuild * rampsPerFile, samplesPerRamp)\n",
    "B_reshaped = rebuilt_B.reshape(nbFilesToRebuild * rampsPerFile, samplesPerRamp)"
   ]
  },
  {
   "cell_type": "code",
   "execution_count": null,
   "metadata": {
    "collapsed": true
   },
   "outputs": [],
   "source": [
    "coupling_A = np.average(A_reshaped, 0)\n",
    "A_reshaped -= coupling_A"
   ]
  },
  {
   "cell_type": "code",
   "execution_count": null,
   "metadata": {
    "collapsed": true
   },
   "outputs": [],
   "source": [
    "for k in range(nbFilesToRebuild):\n",
    "    plt.plot(A_reshaped[k,0:6000])"
   ]
  },
  {
   "cell_type": "code",
   "execution_count": null,
   "metadata": {
    "collapsed": true
   },
   "outputs": [],
   "source": [
    "ifft_a = np.fft.ifft( (A_reshaped[::,0:3000]), axis = 1 )"
   ]
  },
  {
   "cell_type": "code",
   "execution_count": null,
   "metadata": {},
   "outputs": [],
   "source": [
    "plt.matshow( 20 * np.log10( np.abs( ifft_a[:,100:500] ) ), aspect='auto' )\n",
    "plt.title(\"Track 1 / Flight over 1\\nFiles {} to {}\".format(firstFile, lastFile) )"
   ]
  },
  {
   "cell_type": "code",
   "execution_count": null,
   "metadata": {
    "collapsed": true
   },
   "outputs": [],
   "source": [
    "np.save(data_dir + '/samplesA_track1_flightover1.npy', A_reshaped)"
   ]
  },
  {
   "cell_type": "code",
   "execution_count": null,
   "metadata": {
    "collapsed": true
   },
   "outputs": [],
   "source": []
  }
 ],
 "metadata": {
  "kernelspec": {
   "display_name": "Python 3",
   "language": "python",
   "name": "python3"
  },
  "language_info": {
   "codemirror_mode": {
    "name": "ipython",
    "version": 3
   },
   "file_extension": ".py",
   "mimetype": "text/x-python",
   "name": "python",
   "nbconvert_exporter": "python",
   "pygments_lexer": "ipython3",
   "version": "3.6.2"
  }
 },
 "nbformat": 4,
 "nbformat_minor": 2
}
