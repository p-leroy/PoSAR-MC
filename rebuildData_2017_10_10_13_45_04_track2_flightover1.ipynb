{
 "cells": [
  {
   "cell_type": "code",
   "execution_count": null,
   "metadata": {
    "collapsed": true
   },
   "outputs": [],
   "source": [
    "import numpy as np\n",
    "import matplotlib.pyplot as plt\n",
    "%matplotlib qt5"
   ]
  },
  {
   "cell_type": "code",
   "execution_count": null,
   "metadata": {
    "collapsed": true
   },
   "outputs": [],
   "source": [
    "from posarmctools.readdata import *\n",
    "%load_ext autoreload\n",
    "%autoreload 2"
   ]
  },
  {
   "cell_type": "code",
   "execution_count": null,
   "metadata": {
    "collapsed": true
   },
   "outputs": [],
   "source": [
    "data_dir = \"/home/pleroy/DATA/PoSAR-MC_PIMA_TEST-3/2017_10_10_13_45_04\""
   ]
  },
  {
   "cell_type": "code",
   "execution_count": null,
   "metadata": {
    "collapsed": true
   },
   "outputs": [],
   "source": [
    "blocksPerFile = 6\n",
    "samplesPerRamp = 6000\n",
    "rampsPerFile = 1500\n",
    "samplesPerFile = samplesPerRamp * rampsPerFile\n",
    "\n",
    "firstFile = 0\n",
    "lastFile = 396\n",
    "numberOfFiles = int( (lastFile - firstFile) / blocksPerFile + 1 )\n",
    "nbFilesToCheck = numberOfFiles - 1 # file 336 is not complete\n",
    "nbFilesToRebuild = numberOfFiles - 1 # file 336 is not complete"
   ]
  },
  {
   "cell_type": "markdown",
   "metadata": {},
   "source": [
    "### Read the data"
   ]
  },
  {
   "cell_type": "code",
   "execution_count": null,
   "metadata": {
    "collapsed": true
   },
   "outputs": [],
   "source": [
    "timeSerie_A = np.zeros( samplesPerFile )\n",
    "timeSerie_B = np.zeros( samplesPerFile )"
   ]
  },
  {
   "cell_type": "markdown",
   "metadata": {},
   "source": [
    "### Check pulse duration in B channel data"
   ]
  },
  {
   "cell_type": "code",
   "execution_count": null,
   "metadata": {
    "collapsed": true
   },
   "outputs": [],
   "source": [
    "threshold = 6000"
   ]
  },
  {
   "cell_type": "code",
   "execution_count": null,
   "metadata": {
    "collapsed": true
   },
   "outputs": [],
   "source": [
    "for k in range(nbFilesToCheck):\n",
    "    nb = str(int(k * blocksPerFile + firstFile))\n",
    "    filename = data_dir + \"/record\" + nb +\".bin\"\n",
    "    readFile( filename, samplesPerFile, timeSerie_A, timeSerie_B )\n",
    "    pulseDuration = np.where(timeSerie_B > threshold)[0].shape[0]\n",
    "    print(\"file \" + str(nb) + \", pulseDuration =  \" + str(pulseDuration))"
   ]
  },
  {
   "cell_type": "markdown",
   "metadata": {},
   "source": [
    "### Check the triggers in the B channel data"
   ]
  },
  {
   "cell_type": "code",
   "execution_count": null,
   "metadata": {
    "collapsed": true
   },
   "outputs": [],
   "source": [
    "for k in range(nbFilesToCheck):\n",
    "    nb = str(int(k * blocksPerFile + firstFile))\n",
    "    filename = data_dir + \"/record\" + nb +\".bin\"\n",
    "    readFile( filename, samplesPerFile, timeSerie_A, timeSerie_B )\n",
    "    triggers = np.where( np.diff(timeSerie_B) > threshold )[0]\n",
    "    print(\"file \" + str(nb) + \", threshold = \" + str(triggers))"
   ]
  },
  {
   "cell_type": "code",
   "execution_count": null,
   "metadata": {
    "collapsed": true
   },
   "outputs": [],
   "source": [
    "filename = data_dir + \"/record282.bin\"\n",
    "readFile( filename, samplesPerFile, timeSerie_A, timeSerie_B )\n",
    "plt.plot( timeSerie_A )"
   ]
  },
  {
   "cell_type": "markdown",
   "metadata": {},
   "source": [
    "### Rebuild the data files"
   ]
  },
  {
   "cell_type": "code",
   "execution_count": null,
   "metadata": {
    "collapsed": true
   },
   "outputs": [],
   "source": [
    "tmp_A = np.zeros( 3 * samplesPerFile )\n",
    "tmp_B = np.zeros( 3 * samplesPerFile )\n",
    "\n",
    "rebuilt_A = np.zeros( (nbFilesToRebuild, samplesPerFile) )\n",
    "rebuilt_B = np.zeros( (nbFilesToRebuild, samplesPerFile) )"
   ]
  },
  {
   "cell_type": "code",
   "execution_count": null,
   "metadata": {},
   "outputs": [],
   "source": [
    "readFile( data_dir + \"/record0.bin\", samplesPerFile,  timeSerie_A, timeSerie_B )\n",
    "tmp_A[ 0 : samplesPerFile ] = timeSerie_A\n",
    "tmp_B[ 0 : samplesPerFile ] = timeSerie_B\n",
    "\n",
    "readFile( data_dir + \"/record6.bin\", samplesPerFile, timeSerie_A, timeSerie_B )\n",
    "tmp_A[ samplesPerFile : 2 * samplesPerFile ] = timeSerie_A\n",
    "tmp_B[ samplesPerFile : 2 * samplesPerFile ] = timeSerie_B\n",
    "    \n",
    "readFile( data_dir + \"/record12.bin\", samplesPerFile, timeSerie_A, timeSerie_B )\n",
    "tmp_A[ 2 * samplesPerFile : 3 * samplesPerFile ] = timeSerie_A\n",
    "tmp_B[ 2 * samplesPerFile : 3 * samplesPerFile ] = timeSerie_B\n",
    "    \n",
    "triggers = np.where( np.diff(tmp_B) > threshold )[0]\n",
    "print(\"triggers {}\".format(triggers[0]))\n",
    "\n",
    "initialTrig = triggers[0] + 1\n",
    "print(\"initialtrigger {}\".format(initialTrig))\n",
    "\n",
    "rebuilt_A[0, :] = tmp_A[ initialTrig : initialTrig + samplesPerFile ]\n",
    "rebuilt_B[0, :] = tmp_B[ initialTrig : initialTrig + samplesPerFile ]\n",
    "    \n",
    "for k in range(2, nbFilesToRebuild):\n",
    "    \n",
    "    # read the data\n",
    "    nb = str( int( k * blocksPerFile + firstFile) )\n",
    "    filename = data_dir + \"/record\" + nb + \".bin\"\n",
    "    readFile( filename, samplesPerFile, timeSerie_A, timeSerie_B )\n",
    "    \n",
    "    # shift the data\n",
    "    tmp_A[ 0 : samplesPerFile ] = tmp_A[ samplesPerFile : 2 * samplesPerFile ]\n",
    "    tmp_A[ samplesPerFile : 2 * samplesPerFile ] = tmp_A[ 2 * samplesPerFile : 3 * samplesPerFile ]\n",
    "    tmp_A[ 2 * samplesPerFile : 3 * samplesPerFile ] = timeSerie_A\n",
    "    \n",
    "    tmp_B[ 0 : samplesPerFile ] = tmp_B[ samplesPerFile : 2 * samplesPerFile ]\n",
    "    tmp_B[ samplesPerFile : 2 * samplesPerFile ] = tmp_B[ 2 * samplesPerFile : 3 * samplesPerFile ]\n",
    "    tmp_B[ 2 * samplesPerFile : 3 * samplesPerFile ] = timeSerie_B\n",
    "    \n",
    "    triggers = np.where( np.diff(tmp_B) > threshold )[0]\n",
    "    \n",
    "    trigOK = 0\n",
    "    whichTrig = 0\n",
    "    for trig in triggers:\n",
    "        if trigOK == 0:\n",
    "            if (tmp_B[trig+1] > threshold and tmp_B[trig+20] > threshold and tmp_B[trig+30] > threshold):\n",
    "                # ok, this is a trigger, copy the data\n",
    "                trigOK = 1\n",
    "            else:\n",
    "                # this was not a trigger, check the next trigger\n",
    "                print(\"trigger dropped\")\n",
    "                whichTrig += 1\n",
    "                pass\n",
    "                \n",
    "    if trigOK !=1:\n",
    "        trig = 0\n",
    "        print( \"error, no trigger detected, current nb is {}, trigger set to {}\".format(nb, trig) )\n",
    "    else:\n",
    "        trig = triggers[whichTrig] + 1\n",
    "        print(\"k = {}, file = {}, triggers =  {}, selected trigger = {}\".format(k, nb, triggers[0], trig))\n",
    "    \n",
    "    rebuilt_A[ k, : ] = tmp_A[ trig : trig + samplesPerFile ]\n",
    "    rebuilt_B[ k, : ] = tmp_B[ trig : trig + samplesPerFile ]"
   ]
  },
  {
   "cell_type": "code",
   "execution_count": null,
   "metadata": {
    "collapsed": true
   },
   "outputs": [],
   "source": [
    "A_reshaped = rebuilt_A.reshape(nbFilesToRebuild * rampsPerFile, samplesPerRamp)\n",
    "B_reshaped = rebuilt_B.reshape(nbFilesToRebuild * rampsPerFile, samplesPerRamp)"
   ]
  },
  {
   "cell_type": "code",
   "execution_count": null,
   "metadata": {
    "collapsed": true
   },
   "outputs": [],
   "source": [
    "coupling_A = np.average(A_reshaped, 0)\n",
    "A_reshaped -= coupling_A"
   ]
  },
  {
   "cell_type": "code",
   "execution_count": null,
   "metadata": {
    "collapsed": true
   },
   "outputs": [],
   "source": [
    "#ifft_a = np.fft.ifft( (A_reshaped[60000:80000,0:3000]), axis = 1 )\n",
    "ifft_a = np.fft.ifft( (A_reshaped[::10,0:3000]), axis = 1 )"
   ]
  },
  {
   "cell_type": "code",
   "execution_count": null,
   "metadata": {},
   "outputs": [],
   "source": [
    "plt.matshow( 20 * np.log10( np.abs( ifft_a[:,300:700] ) ), aspect='auto' )\n",
    "plt.title(\"Track 1 / Flight over 1\\nFiles {} to {}\".format(firstFile, lastFile) )"
   ]
  },
  {
   "cell_type": "code",
   "execution_count": null,
   "metadata": {
    "collapsed": true
   },
   "outputs": [],
   "source": [
    "np.save(data_dir + '/samplesA_track1_flightover1.npy', A_reshaped)"
   ]
  },
  {
   "cell_type": "code",
   "execution_count": null,
   "metadata": {
    "collapsed": true
   },
   "outputs": [],
   "source": [
    "A_reshaped.shape"
   ]
  },
  {
   "cell_type": "code",
   "execution_count": null,
   "metadata": {
    "collapsed": true
   },
   "outputs": [],
   "source": [
    "plt.matshow( np.abs( ifft_a[:,50:250] ), aspect='auto' )\n",
    "plt.title(\"Track 1 / Flight over 1\\nFiles {} to {}\".format(firstFile, lastFile) )"
   ]
  },
  {
   "cell_type": "code",
   "execution_count": null,
   "metadata": {
    "collapsed": true
   },
   "outputs": [],
   "source": [
    "plt.plot( 20 * np.log10( np.abs( ifft_a[10000,1:500] ) ) )"
   ]
  },
  {
   "cell_type": "code",
   "execution_count": null,
   "metadata": {
    "collapsed": true
   },
   "outputs": [],
   "source": []
  }
 ],
 "metadata": {
  "kernelspec": {
   "display_name": "Python 3",
   "language": "python",
   "name": "python3"
  },
  "language_info": {
   "codemirror_mode": {
    "name": "ipython",
    "version": 3
   },
   "file_extension": ".py",
   "mimetype": "text/x-python",
   "name": "python",
   "nbconvert_exporter": "python",
   "pygments_lexer": "ipython3",
   "version": "3.6.2"
  }
 },
 "nbformat": 4,
 "nbformat_minor": 2
}
