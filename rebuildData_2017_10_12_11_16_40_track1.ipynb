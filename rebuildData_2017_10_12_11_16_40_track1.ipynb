{
 "cells": [
  {
   "cell_type": "code",
   "execution_count": 1,
   "metadata": {
    "collapsed": true
   },
   "outputs": [],
   "source": [
    "import numpy as np\n",
    "import matplotlib.pyplot as plt\n",
    "%matplotlib qt5"
   ]
  },
  {
   "cell_type": "code",
   "execution_count": 2,
   "metadata": {
    "collapsed": true
   },
   "outputs": [],
   "source": [
    "from posarmctools.readdata import *\n",
    "%load_ext autoreload\n",
    "%autoreload 2"
   ]
  },
  {
   "cell_type": "code",
   "execution_count": 3,
   "metadata": {
    "collapsed": true
   },
   "outputs": [],
   "source": [
    "data_dir = \"/home/pleroy/DATA/PoSAR-MC_PIMA_TEST-3/2017_10_12_11_16_40\""
   ]
  },
  {
   "cell_type": "code",
   "execution_count": 4,
   "metadata": {},
   "outputs": [
    {
     "name": "stdout",
     "output_type": "stream",
     "text": [
      "number of files = 60\n"
     ]
    }
   ],
   "source": [
    "blocksPerFile = 6\n",
    "samplesPerRamp = 6000\n",
    "rampsPerFile = 1500\n",
    "samplesPerFile = samplesPerRamp * rampsPerFile\n",
    "\n",
    "firstFile = 0\n",
    "lastFile = 402\n",
    "#numberOfFiles = int( (lastFile - firstFile) / blocksPerFile + 1 )\n",
    "numberOfFiles = 60\n",
    "nbFilesToCheck = numberOfFiles\n",
    "nbFilesToRebuild = numberOfFiles\n",
    "\n",
    "threshold = 6000\n",
    "\n",
    "print( \"number of files = {}\".format(numberOfFiles) )"
   ]
  },
  {
   "cell_type": "markdown",
   "metadata": {},
   "source": [
    "### Read the data"
   ]
  },
  {
   "cell_type": "code",
   "execution_count": 5,
   "metadata": {
    "collapsed": true
   },
   "outputs": [],
   "source": [
    "timeSerie_A = np.zeros( samplesPerFile )\n",
    "timeSerie_B = np.zeros( samplesPerFile )\n",
    "\n",
    "adc_A = np.zeros( (numberOfFiles, samplesPerFile) )\n",
    "adc_B = np.zeros( (numberOfFiles, samplesPerFile) )"
   ]
  },
  {
   "cell_type": "code",
   "execution_count": 7,
   "metadata": {},
   "outputs": [
    {
     "name": "stdout",
     "output_type": "stream",
     "text": [
      "k = 0, file = 0 / 60\n",
      "k = 1, file = 6 / 60\n",
      "k = 2, file = 12 / 60\n",
      "k = 3, file = 18 / 60\n",
      "k = 4, file = 24 / 60\n",
      "k = 5, file = 30 / 60\n",
      "k = 6, file = 36 / 60\n",
      "k = 7, file = 42 / 60\n",
      "k = 8, file = 48 / 60\n",
      "k = 9, file = 54 / 60\n",
      "k = 10, file = 60 / 60\n",
      "k = 11, file = 66 / 60\n",
      "k = 12, file = 72 / 60\n",
      "k = 13, file = 78 / 60\n",
      "k = 14, file = 84 / 60\n",
      "k = 15, file = 90 / 60\n",
      "k = 16, file = 96 / 60\n",
      "k = 17, file = 102 / 60\n",
      "k = 18, file = 108 / 60\n",
      "k = 19, file = 114 / 60\n",
      "k = 20, file = 120 / 60\n",
      "k = 21, file = 126 / 60\n",
      "k = 22, file = 132 / 60\n",
      "k = 23, file = 138 / 60\n",
      "k = 24, file = 144 / 60\n",
      "k = 25, file = 150 / 60\n",
      "k = 26, file = 156 / 60\n",
      "k = 27, file = 162 / 60\n",
      "k = 28, file = 168 / 60\n",
      "k = 29, file = 174 / 60\n",
      "k = 30, file = 180 / 60\n",
      "k = 31, file = 186 / 60\n",
      "k = 32, file = 192 / 60\n",
      "k = 33, file = 198 / 60\n",
      "k = 34, file = 204 / 60\n",
      "k = 35, file = 210 / 60\n",
      "k = 36, file = 216 / 60\n",
      "k = 37, file = 222 / 60\n",
      "k = 38, file = 228 / 60\n",
      "k = 39, file = 234 / 60\n",
      "k = 40, file = 240 / 60\n",
      "k = 41, file = 246 / 60\n",
      "k = 42, file = 252 / 60\n",
      "k = 43, file = 258 / 60\n",
      "k = 44, file = 264 / 60\n",
      "k = 45, file = 270 / 60\n",
      "k = 46, file = 276 / 60\n",
      "k = 47, file = 282 / 60\n",
      "k = 48, file = 288 / 60\n",
      "k = 49, file = 294 / 60\n",
      "k = 50, file = 300 / 60\n",
      "k = 51, file = 306 / 60\n",
      "k = 52, file = 312 / 60\n",
      "k = 53, file = 318 / 60\n",
      "k = 54, file = 324 / 60\n",
      "k = 55, file = 330 / 60\n",
      "k = 56, file = 336 / 60\n",
      "k = 57, file = 342 / 60\n",
      "k = 58, file = 348 / 60\n",
      "k = 59, file = 354 / 60\n"
     ]
    }
   ],
   "source": [
    "for k in range( numberOfFiles ):\n",
    "    \n",
    "    # read the data\n",
    "    nb = str( int( k * blocksPerFile + firstFile) )\n",
    "    filename = data_dir + \"/record\" + nb + \".bin\"\n",
    "    readFile( filename, samplesPerFile, timeSerie_A, timeSerie_B )\n",
    "    \n",
    "    print(\"k = {}, file = {} / {}\".format(k, nb, numberOfFiles))\n",
    "    \n",
    "    adc_A[ k, : ] = timeSerie_A\n",
    "    adc_B[ k, : ] = timeSerie_B"
   ]
  },
  {
   "cell_type": "code",
   "execution_count": 9,
   "metadata": {},
   "outputs": [],
   "source": [
    "A_reshaped = adc_A.reshape(nbFilesToRebuild * rampsPerFile, samplesPerRamp)\n",
    "B_reshaped = adc_B.reshape(nbFilesToRebuild * rampsPerFile, samplesPerRamp)"
   ]
  },
  {
   "cell_type": "code",
   "execution_count": 10,
   "metadata": {
    "collapsed": true
   },
   "outputs": [],
   "source": [
    "coupling_A = np.average(A_reshaped, 0)\n",
    "A_reshaped -= coupling_A"
   ]
  },
  {
   "cell_type": "code",
   "execution_count": 11,
   "metadata": {
    "collapsed": true
   },
   "outputs": [],
   "source": [
    "ifft_a = np.fft.ifft( (A_reshaped[::10,0:3000]), axis = 1 )"
   ]
  },
  {
   "cell_type": "code",
   "execution_count": 13,
   "metadata": {},
   "outputs": [
    {
     "data": {
      "text/plain": [
       "<matplotlib.text.Text at 0x7f124294c4e0>"
      ]
     },
     "execution_count": 13,
     "metadata": {},
     "output_type": "execute_result"
    }
   ],
   "source": [
    "plt.matshow( 20 * np.log10( np.abs( ifft_a[:,0:500] ) ), aspect='auto' )\n",
    "plt.title(\"Track 1 / Flight over 1\\nFiles {} to {}\".format(firstFile, lastFile) )"
   ]
  },
  {
   "cell_type": "code",
   "execution_count": null,
   "metadata": {
    "collapsed": true
   },
   "outputs": [],
   "source": []
  },
  {
   "cell_type": "code",
   "execution_count": null,
   "metadata": {
    "collapsed": true
   },
   "outputs": [],
   "source": []
  },
  {
   "cell_type": "markdown",
   "metadata": {},
   "source": [
    "# ANNEXE"
   ]
  },
  {
   "cell_type": "markdown",
   "metadata": {},
   "source": [
    "### Check pulse duration in B channel data"
   ]
  },
  {
   "cell_type": "code",
   "execution_count": null,
   "metadata": {
    "collapsed": true
   },
   "outputs": [],
   "source": [
    "for k in range(nbFilesToCheck):\n",
    "    nb = str(int(k * blocksPerFile + firstFile))\n",
    "    filename = data_dir + \"/record\" + nb +\".bin\"\n",
    "    readFile( filename, samplesPerFile, timeSerie_A, timeSerie_B )\n",
    "    pulseDuration = np.where(timeSerie_B > threshold)[0].shape[0]\n",
    "    print(\"file \" + str(nb) + \", pulseDuration =  \" + str(pulseDuration))"
   ]
  },
  {
   "cell_type": "markdown",
   "metadata": {},
   "source": [
    "### Check the triggers in the B channel data"
   ]
  },
  {
   "cell_type": "code",
   "execution_count": null,
   "metadata": {
    "collapsed": true
   },
   "outputs": [],
   "source": [
    "for k in range(nbFilesToCheck):\n",
    "    nb = str(int(k * blocksPerFile + firstFile))\n",
    "    filename = data_dir + \"/record\" + nb +\".bin\"\n",
    "    readFile( filename, samplesPerFile, timeSerie_A, timeSerie_B )\n",
    "    triggers = np.where( np.diff(timeSerie_B) > threshold )[0]\n",
    "    print(\"file \" + str(nb) + \", threshold = \" + str(triggers))"
   ]
  },
  {
   "cell_type": "code",
   "execution_count": null,
   "metadata": {
    "collapsed": true
   },
   "outputs": [],
   "source": [
    "filename = data_dir + \"/record282.bin\"\n",
    "readFile( filename, samplesPerFile, timeSerie_A, timeSerie_B )\n",
    "plt.plot( timeSerie_A[0:12000] )"
   ]
  },
  {
   "cell_type": "code",
   "execution_count": null,
   "metadata": {},
   "outputs": [],
   "source": [
    "filename = data_dir + \"/record0.bin\"\n",
    "readFile( filename, samplesPerFile, timeSerie_A, timeSerie_B )\n",
    "plt.figure()\n",
    "plt.plot( timeSerie_A[0:12000] )\n",
    "plt.title(\"2017_10_10_13_37_22 record0.bin\")\n",
    "plt.grid()"
   ]
  },
  {
   "cell_type": "markdown",
   "metadata": {},
   "source": [
    "### Rebuild the data files"
   ]
  },
  {
   "cell_type": "code",
   "execution_count": null,
   "metadata": {
    "collapsed": true
   },
   "outputs": [],
   "source": [
    "tmp_A = np.zeros( 3 * samplesPerFile )\n",
    "tmp_B = np.zeros( 3 * samplesPerFile )\n",
    "\n",
    "rebuilt_A = np.zeros( (nbFilesToRebuild, samplesPerFile) )\n",
    "rebuilt_B = np.zeros( (nbFilesToRebuild, samplesPerFile) )"
   ]
  },
  {
   "cell_type": "code",
   "execution_count": null,
   "metadata": {
    "collapsed": true
   },
   "outputs": [],
   "source": [
    "readFile( data_dir + \"/record0.bin\", samplesPerFile,  timeSerie_A, timeSerie_B )\n",
    "tmp_A[ 0 : samplesPerFile ] = timeSerie_A\n",
    "tmp_B[ 0 : samplesPerFile ] = timeSerie_B\n",
    "\n",
    "readFile( data_dir + \"/record6.bin\", samplesPerFile, timeSerie_A, timeSerie_B )\n",
    "tmp_A[ samplesPerFile : 2 * samplesPerFile ] = timeSerie_A\n",
    "tmp_B[ samplesPerFile : 2 * samplesPerFile ] = timeSerie_B\n",
    "    \n",
    "readFile( data_dir + \"/record12.bin\", samplesPerFile, timeSerie_A, timeSerie_B )\n",
    "tmp_A[ 2 * samplesPerFile : 3 * samplesPerFile ] = timeSerie_A\n",
    "tmp_B[ 2 * samplesPerFile : 3 * samplesPerFile ] = timeSerie_B\n",
    "    \n",
    "triggers = np.where( np.diff(tmp_B) > threshold )[0]\n",
    "print(\"triggers {}\".format(triggers[0]))\n",
    "\n",
    "initialTrig = triggers[0] + 1\n",
    "print(\"initialtrigger {}\".format(initialTrig))\n",
    "\n",
    "rebuilt_A[0, :] = tmp_A[ initialTrig : initialTrig + samplesPerFile ]\n",
    "rebuilt_B[0, :] = tmp_B[ initialTrig : initialTrig + samplesPerFile ]\n",
    "    \n",
    "for k in range(2, nbFilesToRebuild):\n",
    "    \n",
    "    # read the data\n",
    "    nb = str( int( k * blocksPerFile + firstFile) )\n",
    "    filename = data_dir + \"/record\" + nb + \".bin\"\n",
    "    readFile( filename, samplesPerFile, timeSerie_A, timeSerie_B )\n",
    "    \n",
    "    # shift the data\n",
    "    tmp_A[ 0 : samplesPerFile ] = tmp_A[ samplesPerFile : 2 * samplesPerFile ]\n",
    "    tmp_A[ samplesPerFile : 2 * samplesPerFile ] = tmp_A[ 2 * samplesPerFile : 3 * samplesPerFile ]\n",
    "    tmp_A[ 2 * samplesPerFile : 3 * samplesPerFile ] = timeSerie_A\n",
    "    \n",
    "    tmp_B[ 0 : samplesPerFile ] = tmp_B[ samplesPerFile : 2 * samplesPerFile ]\n",
    "    tmp_B[ samplesPerFile : 2 * samplesPerFile ] = tmp_B[ 2 * samplesPerFile : 3 * samplesPerFile ]\n",
    "    tmp_B[ 2 * samplesPerFile : 3 * samplesPerFile ] = timeSerie_B\n",
    "    \n",
    "    triggers = np.where( np.diff(tmp_B) > threshold )[0]\n",
    "    \n",
    "    trigOK = 0\n",
    "    whichTrig = 0\n",
    "    for trig in triggers:\n",
    "        if trigOK == 0:\n",
    "            if (tmp_B[trig+1] > threshold and tmp_B[trig+20] > threshold and tmp_B[trig+30] > threshold):\n",
    "                # ok, this is a trigger, copy the data\n",
    "                trigOK = 1\n",
    "            else:\n",
    "                # this was not a trigger, check the next trigger\n",
    "                print(\"trigger dropped\")\n",
    "                whichTrig += 1\n",
    "                pass\n",
    "                \n",
    "    if trigOK !=1:\n",
    "        trig = 0\n",
    "        print( \"error, no trigger detected, current nb is {}, trigger set to {}\".format(nb, trig) )\n",
    "    else:\n",
    "        trig = triggers[whichTrig] + 1\n",
    "        print(\"k = {}, file = {}, triggers =  {}, selected trigger = {}\".format(k, nb, triggers[0], trig))\n",
    "    \n",
    "    rebuilt_A[ k, : ] = tmp_A[ trig : trig + samplesPerFile ]\n",
    "    rebuilt_B[ k, : ] = tmp_B[ trig : trig + samplesPerFile ]"
   ]
  },
  {
   "cell_type": "code",
   "execution_count": null,
   "metadata": {
    "collapsed": true
   },
   "outputs": [],
   "source": [
    "A_reshaped = rebuilt_A.reshape(nbFilesToRebuild * rampsPerFile, samplesPerRamp)\n",
    "B_reshaped = rebuilt_B.reshape(nbFilesToRebuild * rampsPerFile, samplesPerRamp)"
   ]
  },
  {
   "cell_type": "code",
   "execution_count": null,
   "metadata": {
    "collapsed": true
   },
   "outputs": [],
   "source": [
    "coupling_A = np.average(A_reshaped, 0)\n",
    "A_reshaped -= coupling_A"
   ]
  },
  {
   "cell_type": "code",
   "execution_count": null,
   "metadata": {
    "collapsed": true
   },
   "outputs": [],
   "source": [
    "plt.figure()\n",
    "plt.plot(coupling_A)\n",
    "plt.title(\"coupling 20 files 2017_10_10_13_37_22\")\n",
    "plt.grid()"
   ]
  },
  {
   "cell_type": "code",
   "execution_count": null,
   "metadata": {
    "collapsed": true
   },
   "outputs": [],
   "source": [
    "#A_reshaped += coupling_A"
   ]
  },
  {
   "cell_type": "code",
   "execution_count": null,
   "metadata": {
    "collapsed": true
   },
   "outputs": [],
   "source": [
    "ifft_a = np.fft.ifft( (A_reshaped[55000:65000,0:3000]), axis = 1 )"
   ]
  },
  {
   "cell_type": "code",
   "execution_count": null,
   "metadata": {
    "collapsed": true
   },
   "outputs": [],
   "source": [
    "plt.matshow( 20 * np.log10( np.abs( ifft_a[:,50:500] ) ), aspect='auto' )\n",
    "plt.title(\"Track 1 / Flight over 1\\nFiles {} to {}\".format(firstFile, lastFile) )"
   ]
  },
  {
   "cell_type": "code",
   "execution_count": null,
   "metadata": {
    "collapsed": true
   },
   "outputs": [],
   "source": [
    "np.save(data_dir + '/samplesA_track1_flightover1.npy', A_reshaped)"
   ]
  },
  {
   "cell_type": "code",
   "execution_count": null,
   "metadata": {
    "collapsed": true
   },
   "outputs": [],
   "source": [
    "A_reshaped.shape"
   ]
  },
  {
   "cell_type": "code",
   "execution_count": null,
   "metadata": {
    "collapsed": true
   },
   "outputs": [],
   "source": [
    "plt.matshow( np.abs( ifft_a[:,50:250] ), aspect='auto' )\n",
    "plt.title(\"Track 1 / Flight over 1\\nFiles {} to {}\".format(firstFile, lastFile) )"
   ]
  },
  {
   "cell_type": "code",
   "execution_count": null,
   "metadata": {
    "collapsed": true
   },
   "outputs": [],
   "source": [
    "plt.plot( 20 * np.log10( np.abs( ifft_a[10000,1:500] ) ) )"
   ]
  },
  {
   "cell_type": "code",
   "execution_count": null,
   "metadata": {
    "collapsed": true
   },
   "outputs": [],
   "source": []
  }
 ],
 "metadata": {
  "kernelspec": {
   "display_name": "Python 3",
   "language": "python",
   "name": "python3"
  },
  "language_info": {
   "codemirror_mode": {
    "name": "ipython",
    "version": 3
   },
   "file_extension": ".py",
   "mimetype": "text/x-python",
   "name": "python",
   "nbconvert_exporter": "python",
   "pygments_lexer": "ipython3",
   "version": "3.6.2"
  }
 },
 "nbformat": 4,
 "nbformat_minor": 2
}
