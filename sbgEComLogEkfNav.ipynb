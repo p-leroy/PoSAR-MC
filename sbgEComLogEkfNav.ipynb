{
 "cells": [
  {
   "cell_type": "markdown",
   "metadata": {},
   "source": [
    "2 0000 0000 0010\n",
    "\n",
    "4 0000 0000 0100\n",
    "\n",
    "258 0001 0000 0010\n",
    "\n",
    "260 0001 0000 0100\n",
    "\n",
    "1028 0100 0000 0100\n",
    "\n",
    "1092 0100 0100 0100\n",
    "\n",
    "2052 1000 0000 0100\n",
    "\n",
    "3076 1100 0000 0100\n",
    "\n",
    "3204 1100 1000 0100\n",
    "\n",
    "3332 1101 0000 0100"
   ]
  },
  {
   "cell_type": "code",
   "execution_count": null,
   "metadata": {
    "collapsed": true
   },
   "outputs": [],
   "source": []
  }
 ],
 "metadata": {
  "kernelspec": {
   "display_name": "Python 3",
   "language": "python",
   "name": "python3"
  },
  "language_info": {
   "codemirror_mode": {
    "name": "ipython",
    "version": 3
   },
   "file_extension": ".py",
   "mimetype": "text/x-python",
   "name": "python",
   "nbconvert_exporter": "python",
   "pygments_lexer": "ipython3",
   "version": "3.6.2"
  }
 },
 "nbformat": 4,
 "nbformat_minor": 2
}
