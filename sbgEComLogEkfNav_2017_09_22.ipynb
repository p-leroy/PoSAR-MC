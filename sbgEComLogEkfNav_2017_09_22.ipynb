{
 "cells": [
  {
   "cell_type": "code",
   "execution_count": 1,
   "metadata": {
    "collapsed": true
   },
   "outputs": [],
   "source": [
    "import numpy as np\n",
    "import numexpr as ne\n",
    "import matplotlib.pyplot as plt\n",
    "%matplotlib qt5"
   ]
  },
  {
   "cell_type": "code",
   "execution_count": 16,
   "metadata": {
    "collapsed": true
   },
   "outputs": [],
   "source": [
    "data_dir = \"/home/pleroy/DATA/TEST\"\n",
    "#meb = data_dir + \"/2017_09_07_14_51_54_timeStamps.data\"\n",
    "meb = data_dir + \"/2017_09_07_15_12_44_timeStamps.data\"\n",
    "\n",
    "prefix = \"/home/pleroy/DATA/PoSAR-MC_PIMA_TEST-2/2017_09_21/207_09_21_SBG\"\n",
    "hour_08h00 = \"/08h00/\"\n",
    "hour_09h00 = \"/09h00/\"\n",
    "hour_10h00 = \"/10h00/\"\n",
    "\n",
    "file_08h00 = prefix + hour_08h00 + \"sbgEComLogEkfNav.dat\"\n",
    "file_09h00 = prefix + hour_09h00 + \"sbgEComLogEkfNav.dat\"\n",
    "file_10h00 = prefix + hour_10h00 + \"sbgEComLogEkfNav.dat\"\n",
    "\n",
    "#EKF NAV\n",
    "idx_timeStamp = 0\n",
    "idx_velNorth = 1\n",
    "idx_velEast = 2\n",
    "idx_velDown = 3\n",
    "idx_velNorth_StdDev = 4\n",
    "idx_velEast_StdDev = 5\n",
    "idx_velDown_StdDev = 6\n",
    "idx_Lat = 7\n",
    "idx_Long = 8\n",
    "idx_Alt = 9\n",
    "idx_undulation = 10\n",
    "idx_Lat_StdDev = 11\n",
    "idx_Long_StdDev = 12\n",
    "idx_Alt_StdDev = 13\n",
    "idx_nav_status = 14\n",
    "\n",
    "Lat_1_0  = 48.06069 \n",
    "Long_1_0 = -1.99354\n",
    "Lat_1_1  = 48.05507 \n",
    "Long_1_1 = -2.02359\n",
    "\n",
    "Lat_2_0  = 48.06249 \n",
    "Long_2_0 = -1.99467\n",
    "Lat_2_1  = 48.05687 \n",
    "Long_2_1 = -2.02434\n",
    "\n",
    "Lat_3_0  = 48.06555 \n",
    "Long_3_0 = -1.99619\n",
    "Lat_3_1  = 48.06007 \n",
    "Long_3_1 = -2.02550"
   ]
  },
  {
   "cell_type": "code",
   "execution_count": 7,
   "metadata": {},
   "outputs": [],
   "source": [
    "timeStamps_09h00 = np.loadtxt( file_09h00, skiprows = 1, usecols = idx_timeStamp )\n",
    "Long_09h00 = np.loadtxt( file_09h00, skiprows = 1, usecols = idx_Long )\n",
    "Lat_09h00 = np.loadtxt( file_09h00, skiprows = 1, usecols = idx_Lat )"
   ]
  },
  {
   "cell_type": "code",
   "execution_count": 17,
   "metadata": {},
   "outputs": [
    {
     "data": {
      "text/plain": [
       "[<matplotlib.lines.Line2D at 0x7f8718316320>]"
      ]
     },
     "execution_count": 17,
     "metadata": {},
     "output_type": "execute_result"
    }
   ],
   "source": [
    "idx = 205970\n",
    "plt.plot(Long_09h00[idx:], Lat_09h00[idx:])\n",
    "plt.plot([Long_1_0, Long_1_1], [Lat_1_0, Lat_1_1], \"o-g\")\n",
    "plt.plot([Long_2_0, Long_2_1], [Lat_2_0, Lat_2_1], \"o-r\")\n",
    "plt.plot([Long_3_0, Long_3_1], [Lat_3_0, Lat_3_1], \"o-y\")"
   ]
  },
  {
   "cell_type": "code",
   "execution_count": 13,
   "metadata": {},
   "outputs": [
    {
     "data": {
      "text/plain": [
       "[<matplotlib.lines.Line2D at 0x7f87240fa278>]"
      ]
     },
     "execution_count": 13,
     "metadata": {},
     "output_type": "execute_result"
    }
   ],
   "source": [
    "plt.plot(Long_09h00)"
   ]
  },
  {
   "cell_type": "code",
   "execution_count": null,
   "metadata": {
    "collapsed": true
   },
   "outputs": [],
   "source": []
  }
 ],
 "metadata": {
  "kernelspec": {
   "display_name": "Python 3",
   "language": "python",
   "name": "python3"
  },
  "language_info": {
   "codemirror_mode": {
    "name": "ipython",
    "version": 3
   },
   "file_extension": ".py",
   "mimetype": "text/x-python",
   "name": "python",
   "nbconvert_exporter": "python",
   "pygments_lexer": "ipython3",
   "version": "3.6.2"
  }
 },
 "nbformat": 4,
 "nbformat_minor": 2
}
