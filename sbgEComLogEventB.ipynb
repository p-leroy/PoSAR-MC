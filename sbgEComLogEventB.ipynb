{
 "cells": [
  {
   "cell_type": "code",
   "execution_count": 1,
   "metadata": {
    "collapsed": true
   },
   "outputs": [],
   "source": [
    "import numpy as np\n",
    "import matplotlib.pyplot as plt\n",
    "%matplotlib qt4"
   ]
  },
  {
   "cell_type": "code",
   "execution_count": 2,
   "metadata": {
    "collapsed": true
   },
   "outputs": [],
   "source": [
    "# STATION IETR\n",
    "#prefix = \"/home/pleroy/DATA/PoSAR-MC_PIMA_TEST#1\"\n",
    "#sbg = prefix + \"/2017_07_13_SBG/dataLogger/session_0001/2017_07_13/log_11h00/sbgEComLogEventB.dat\"\n",
    "#meb = prefix + \"/2017_07_13_13_23_55/2017_07_13_13_23_55_timeStamps.data\"\n",
    "\n",
    "# HP\n",
    "prefix = \"/opt/DATA/PoSAR-MC_PIMA_TEST#1\"\n",
    "sbg = prefix + \"/log_11h00/sbgEComLogEventB.dat\"\n",
    "meb = prefix + \"/2017_07_13_13_23_55/2017_07_13_13_23_55_timeStamps.data\""
   ]
  },
  {
   "cell_type": "code",
   "execution_count": 3,
   "metadata": {
    "collapsed": true
   },
   "outputs": [],
   "source": [
    "sbg_eventB = np.loadtxt( sbg, skiprows = 1, usecols = (0,) )"
   ]
  },
  {
   "cell_type": "code",
   "execution_count": 8,
   "metadata": {},
   "outputs": [],
   "source": [
    "f1, (ax11, ax12) = plt.subplots( 2, 1, sharex = True )\n",
    "\n",
    "ax11.plot(sbg_eventB, '.b')\n",
    "ax11.set_title('sbg_eventB')\n",
    "ax11.grid('on')\n",
    "\n",
    "ax12.plot(np.diff(sbg_eventB), '.b')\n",
    "ax12.set_title('np.diff(sbg_eventB)')\n",
    "ax12.grid('on')"
   ]
  },
  {
   "cell_type": "code",
   "execution_count": 6,
   "metadata": {
    "collapsed": true
   },
   "outputs": [],
   "source": [
    "meb_blockNumber, meb_timeStamp = np.loadtxt( meb, skiprows = 1, unpack = True )"
   ]
  },
  {
   "cell_type": "code",
   "execution_count": 7,
   "metadata": {},
   "outputs": [
    {
     "data": {
      "text/plain": [
       "<matplotlib.text.Text at 0x7f0ae43797f0>"
      ]
     },
     "execution_count": 7,
     "metadata": {},
     "output_type": "execute_result"
    }
   ],
   "source": [
    "plt.plot( meb_timeStamp, '.g' )\n",
    "f2, (ax21, ax22) = plt.subplots( 2, 1, sharex = True )\n",
    "\n",
    "ax21.plot(meb_timeStamp, '.g')\n",
    "ax21.set_title('meb_timeStamp')\n",
    "ax21.grid('on')\n",
    "\n",
    "ax22.plot(np.diff(meb_timeStamp), '.b')\n",
    "ax22.set_title('np.diff(meb_timeStamp)')\n",
    "ax22.grid('on')"
   ]
  },
  {
   "cell_type": "markdown",
   "metadata": {},
   "source": [
    "Comparaison des timestamps enregistrés dans la centrale et ceux utilisés par le radar pour dater les blocs de données. "
   ]
  },
  {
   "cell_type": "code",
   "execution_count": 12,
   "metadata": {},
   "outputs": [
    {
     "data": {
      "text/plain": [
       "[<matplotlib.lines.Line2D at 0x7f0ae43446a0>]"
      ]
     },
     "execution_count": 12,
     "metadata": {},
     "output_type": "execute_result"
    }
   ],
   "source": [
    "plt.plot( sbg_eventB, sbg_eventB, '.b' )\n",
    "plt.plot( meb_timeStamp, meb_timeStamp, 'or' )"
   ]
  },
  {
   "cell_type": "code",
   "execution_count": 39,
   "metadata": {},
   "outputs": [
    {
     "data": {
      "text/plain": [
       "[<matplotlib.lines.Line2D at 0x7fc0a4b663c8>]"
      ]
     },
     "execution_count": 39,
     "metadata": {},
     "output_type": "execute_result"
    }
   ],
   "source": [
    "plt.plot( meb_blockNumber[:-1], np.diff(meb_blockNumber), '.g')"
   ]
  },
  {
   "cell_type": "code",
   "execution_count": 26,
   "metadata": {},
   "outputs": [
    {
     "data": {
      "text/plain": [
       "(249,)"
      ]
     },
     "execution_count": 26,
     "metadata": {},
     "output_type": "execute_result"
    }
   ],
   "source": [
    "np.diff(meb_blockNumber).shape"
   ]
  },
  {
   "cell_type": "code",
   "execution_count": 35,
   "metadata": {},
   "outputs": [
    {
     "data": {
      "text/plain": [
       "(249,)"
      ]
     },
     "execution_count": 35,
     "metadata": {},
     "output_type": "execute_result"
    }
   ],
   "source": [
    "meb_blockNumber[:-1].shape"
   ]
  },
  {
   "cell_type": "code",
   "execution_count": null,
   "metadata": {
    "collapsed": true
   },
   "outputs": [],
   "source": []
  }
 ],
 "metadata": {
  "kernelspec": {
   "display_name": "Python 3",
   "language": "python",
   "name": "python3"
  },
  "language_info": {
   "codemirror_mode": {
    "name": "ipython",
    "version": 3
   },
   "file_extension": ".py",
   "mimetype": "text/x-python",
   "name": "python",
   "nbconvert_exporter": "python",
   "pygments_lexer": "ipython3",
   "version": "3.5.3"
  }
 },
 "nbformat": 4,
 "nbformat_minor": 2
}
