{
 "cells": [
  {
   "cell_type": "code",
   "execution_count": 13,
   "metadata": {
    "collapsed": true
   },
   "outputs": [],
   "source": [
    "import numpy as np\n",
    "import numexpr as ne\n",
    "import matplotlib.pyplot as plt\n",
    "%matplotlib qt5"
   ]
  },
  {
   "cell_type": "code",
   "execution_count": 27,
   "metadata": {},
   "outputs": [],
   "source": [
    "data_dir = \"/home/pleroy/DATA/TEST\"\n",
    "#meb = data_dir + \"/2017_09_07_14_51_54_timeStamps.data\"\n",
    "meb = data_dir + \"/2017_09_07_15_12_44_timeStamps.data\""
   ]
  },
  {
   "cell_type": "code",
   "execution_count": 28,
   "metadata": {
    "collapsed": true
   },
   "outputs": [],
   "source": [
    "meb_blockNumber, meb_timestamp = np.loadtxt( meb, skiprows = 1, unpack = True )"
   ]
  },
  {
   "cell_type": "code",
   "execution_count": 29,
   "metadata": {
    "collapsed": true
   },
   "outputs": [],
   "source": [
    "f2, (ax21, ax22) = plt.subplots( 2, 1, sharex = True )\n",
    "\n",
    "ax21.plot(meb_timeStamp, '.g')\n",
    "ax21.set_title('meb_timeStamp')\n",
    "ax21.grid('on')\n",
    "\n",
    "ax22.plot(np.diff(meb_timeStamp), '.b')\n",
    "ax22.set_title('np.diff(meb_timeStamp)')\n",
    "ax22.grid('on')"
   ]
  },
  {
   "cell_type": "code",
   "execution_count": 30,
   "metadata": {},
   "outputs": [],
   "source": [
    "blockNumber = meb_blockNumber[ne.evaluate(\"(meb_blockNumber != 0xffffffff) & (meb_timestamp != 0xffffffff)\")]\n",
    "timestamp = meb_timestamp[ne.evaluate(\"(meb_blockNumber != 0xffffffff) & (meb_timestamp != 0xffffffff)\")]"
   ]
  },
  {
   "cell_type": "code",
   "execution_count": 31,
   "metadata": {},
   "outputs": [],
   "source": [
    "f2, (ax21, ax22) = plt.subplots( 2, 1, sharex = True )\n",
    "\n",
    "ax21.plot(timestamp, '.g')\n",
    "ax21.set_title('timestamp')\n",
    "ax21.grid('on')\n",
    "\n",
    "ax22.plot(np.diff(timestamp), '.b')\n",
    "ax22.set_title('np.diff(timestamp)')\n",
    "ax22.grid('on')"
   ]
  },
  {
   "cell_type": "code",
   "execution_count": null,
   "metadata": {
    "collapsed": true
   },
   "outputs": [],
   "source": []
  }
 ],
 "metadata": {
  "kernelspec": {
   "display_name": "Python 3",
   "language": "python",
   "name": "python3"
  },
  "language_info": {
   "codemirror_mode": {
    "name": "ipython",
    "version": 3
   },
   "file_extension": ".py",
   "mimetype": "text/x-python",
   "name": "python",
   "nbconvert_exporter": "python",
   "pygments_lexer": "ipython3",
   "version": "3.6.2"
  }
 },
 "nbformat": 4,
 "nbformat_minor": 2
}
