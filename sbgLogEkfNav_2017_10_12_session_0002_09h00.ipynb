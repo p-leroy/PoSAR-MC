{
 "cells": [
  {
   "cell_type": "code",
   "execution_count": 2,
   "metadata": {
    "collapsed": true
   },
   "outputs": [],
   "source": [
    "import io\n",
    "import csv\n",
    "import os.path\n",
    "\n",
    "import numpy as np\n",
    "import numexpr as ne\n",
    "import matplotlib.pyplot as plt\n",
    "\n",
    "%matplotlib qt5"
   ]
  },
  {
   "cell_type": "code",
   "execution_count": 3,
   "metadata": {
    "collapsed": true
   },
   "outputs": [],
   "source": [
    "from posarmctools.ekfnavtools import *\n",
    "%load_ext autoreload\n",
    "%autoreload 2"
   ]
  },
  {
   "cell_type": "code",
   "execution_count": 4,
   "metadata": {
    "collapsed": true
   },
   "outputs": [],
   "source": [
    "blocksPerFile = 6\n",
    "samplesPerRamp = 6000\n",
    "rampsPerFile = 1500\n",
    "samplesPerFile = 9000000\n",
    "T_files = samplesPerFile / 10e6\n",
    "\n",
    "hourOffset = 2"
   ]
  },
  {
   "cell_type": "markdown",
   "metadata": {},
   "source": [
    "## Load navigation data SbgLogEkfNav"
   ]
  },
  {
   "cell_type": "code",
   "execution_count": 5,
   "metadata": {
    "collapsed": true
   },
   "outputs": [],
   "source": [
    "prefix = \"/home/pleroy/DATA/PoSAR-MC_PIMA_TEST-3/dataLogger/session_0002/2017_10_12/09h00/\"\n",
    "\n",
    "logEkfEuler = prefix + \"sbgLogEkfEuler.dat\"\n",
    "logEkfNav  = prefix + \"sbgLogEkfNav.dat\"\n",
    "logUtcData = prefix + \"sbgLogUtcData.dat\"\n",
    "logGpsPos = prefix + \"sbgLogGpsPos.dat\""
   ]
  },
  {
   "cell_type": "code",
   "execution_count": 6,
   "metadata": {
    "collapsed": true
   },
   "outputs": [],
   "source": [
    "# logEkfNav\n",
    "timeStamps = np.loadtxt( logEkfNav, skiprows = 1, usecols = idx_timeStamp )\n",
    "Long = np.loadtxt( logEkfNav, skiprows = 1, usecols = idx_Long )\n",
    "Lat = np.loadtxt( logEkfNav, skiprows = 1, usecols = idx_Lat )\n",
    "Alt = np.loadtxt( logEkfNav, skiprows = 1, usecols = idx_Alt )\n",
    "vN, vE, vD = np.loadtxt( logEkfNav, skiprows = 1, usecols = (idx_velNorth, idx_velEast, idx_velDown), unpack=True )"
   ]
  },
  {
   "cell_type": "code",
   "execution_count": 7,
   "metadata": {
    "collapsed": true
   },
   "outputs": [],
   "source": [
    "Vel = (vN**2 + vE**2 + vD**2)**0.5"
   ]
  },
  {
   "cell_type": "code",
   "execution_count": 8,
   "metadata": {
    "collapsed": true
   },
   "outputs": [],
   "source": [
    "#timeStamp status year month day hour minute second nanoSecond gpsTimeOfWeek\n",
    "idx_h = 5\n",
    "idx_m = 6\n",
    "idx_s = 7\n",
    "idx_nano = 8\n",
    "utc = np.loadtxt( logUtcData, skiprows = 1, usecols = (0, idx_h, idx_m, idx_s, idx_nano) )\n",
    "utc_seconds = (utc[1] + hourOffset) * 3600 + utc[2] * 60 + utc[3] + utc[4] * 1e-9"
   ]
  },
  {
   "cell_type": "code",
   "execution_count": 9,
   "metadata": {
    "collapsed": true
   },
   "outputs": [],
   "source": [
    "idx_gpsPos_lat = 3\n",
    "idx_gpsPos_long = 4\n",
    "idx_gpsPos_alt = 5\n",
    "idx_gps_lat = 1\n",
    "idx_gps_long = 2\n",
    "idx_gps_alt = 3\n",
    "gps = np.loadtxt( logGpsPos, skiprows = 1, usecols = (0, idx_gpsPos_lat, idx_gpsPos_long, idx_gpsPos_alt) )"
   ]
  },
  {
   "cell_type": "code",
   "execution_count": 11,
   "metadata": {},
   "outputs": [
    {
     "name": "stdout",
     "output_type": "stream",
     "text": [
      "8.0 : 59.0 : 59.995\n",
      "9.0 : 22.0 : 46.230\n"
     ]
    }
   ],
   "source": [
    "printUtc( 0, utc )\n",
    "printUtc( -1, utc )"
   ]
  },
  {
   "cell_type": "code",
   "execution_count": 12,
   "metadata": {},
   "outputs": [
    {
     "data": {
      "text/plain": [
       "(273248, 5)"
      ]
     },
     "execution_count": 12,
     "metadata": {},
     "output_type": "execute_result"
    }
   ],
   "source": [
    "utc.shape"
   ]
  },
  {
   "cell_type": "markdown",
   "metadata": {},
   "source": [
    "### Plot navigation data jointly with track references"
   ]
  },
  {
   "cell_type": "code",
   "execution_count": 13,
   "metadata": {},
   "outputs": [],
   "source": [
    "plt.figure()\n",
    "ax = plt.subplot(111)\n",
    "plotLongLatAndTrackReferences( ax, Long, Lat )\n",
    "plt.title( \"Navigation data and track references\\n\" + prefix )\n",
    "plt.grid()"
   ]
  },
  {
   "cell_type": "code",
   "execution_count": 13,
   "metadata": {
    "collapsed": true
   },
   "outputs": [],
   "source": [
    "validNav = np.where(Long < 0)"
   ]
  },
  {
   "cell_type": "code",
   "execution_count": 19,
   "metadata": {
    "collapsed": true
   },
   "outputs": [],
   "source": [
    "plt.figure()\n",
    "ax = plt.subplot(111)\n",
    "plotLongLatAndTrackReferences( ax, Long[validNav], Lat[validNav] )\n",
    "plt.plot( gps[:,idx_gps_long], gps[:,idx_gps_lat], 'lime' )\n",
    "plt.title( \"Navigation data and track references\\n\" + prefix )\n",
    "plt.grid()"
   ]
  },
  {
   "cell_type": "markdown",
   "metadata": {},
   "source": [
    "### Check the existence of record files"
   ]
  },
  {
   "cell_type": "code",
   "execution_count": null,
   "metadata": {
    "collapsed": true
   },
   "outputs": [],
   "source": [
    "firstRecord = 0\n",
    "lastRecord = 390\n",
    "aux = np.zeros(3372)\n",
    "fileList = []\n",
    "data_dir = \"/home/pleroy/DATA/PoSAR-MC_PIMA_TEST-3/2017_10_10_13_52_12\"\n",
    "for k in range(firstRecord, lastRecord, blocksPerFile):\n",
    "    filename = data_dir + \"/record\" + str(k) + \".bin\"\n",
    "    ret = os.path.isfile(filename)\n",
    "    if ret == False:\n",
    "        fileList.append(0)\n",
    "    else:\n",
    "        fileList.append(1)\n",
    "idxFileList = np.arange( len( fileList ) ) * blocksPerFile + firstRecord"
   ]
  },
  {
   "cell_type": "code",
   "execution_count": null,
   "metadata": {
    "collapsed": true
   },
   "outputs": [],
   "source": [
    "plt.plot(idxFileList, fileList, 'o-')"
   ]
  },
  {
   "cell_type": "code",
   "execution_count": null,
   "metadata": {
    "collapsed": true
   },
   "outputs": [],
   "source": [
    "# times recorded by Windows XP\n",
    "t_0    = (13, 52, 12)\n",
    "\n",
    "record0Start = firstRecord\n",
    "record0Stop = lastRecord"
   ]
  },
  {
   "cell_type": "markdown",
   "metadata": {},
   "source": [
    "Look for the time data corresponding to the records"
   ]
  },
  {
   "cell_type": "code",
   "execution_count": null,
   "metadata": {
    "collapsed": true
   },
   "outputs": [],
   "source": [
    "# compute time of day using the date of block 0 and a computed delta\n",
    "record0_tStart = getTimeOfDay( getSeconds( t_0 ) + record0Start / blocksPerFile * T_files )\n",
    "record0_tStop = getTimeOfDay( getSeconds( t_0 ) + record0Stop / blocksPerFile * T_files )"
   ]
  },
  {
   "cell_type": "code",
   "execution_count": null,
   "metadata": {
    "collapsed": true
   },
   "outputs": [],
   "source": [
    "record0_idx = getIndices (record0_tStart, record0_tStop, utc_seconds)"
   ]
  },
  {
   "cell_type": "markdown",
   "metadata": {},
   "source": [
    "### Process timeStamps.data"
   ]
  },
  {
   "cell_type": "code",
   "execution_count": null,
   "metadata": {
    "collapsed": true
   },
   "outputs": [],
   "source": [
    "data_dir = \"/home/pleroy/DATA/PoSAR-MC_PIMA_TEST-3/2017_10_10_13_37_22\"\n",
    "timeStampsFile = data_dir + \"/2017_10_10_13_37_22_timeStamps.data\"\n",
    "blockNumber_1, timeStamp_1 = np.loadtxt( timeStampsFile, skiprows = 1, unpack=True )"
   ]
  },
  {
   "cell_type": "code",
   "execution_count": null,
   "metadata": {
    "collapsed": true
   },
   "outputs": [],
   "source": [
    "data_dir = \"/home/pleroy/DATA/PoSAR-MC_PIMA_TEST-3/2017_10_10_13_45_04\"\n",
    "timeStampsFile = data_dir + \"/2017_10_10_13_45_04_timeStamps.data\"\n",
    "blockNumber_2, timeStamp_2 = np.loadtxt( timeStampsFile, skiprows = 1, unpack=True )"
   ]
  },
  {
   "cell_type": "code",
   "execution_count": null,
   "metadata": {
    "collapsed": true
   },
   "outputs": [],
   "source": [
    "data_dir = \"/home/pleroy/DATA/PoSAR-MC_PIMA_TEST-3/2017_10_10_13_52_12\"\n",
    "timeStampsFile = data_dir + \"/2017_10_10_13_52_12_timeStamps.data\"\n",
    "blockNumber_3, timeStamp_3 = np.loadtxt( timeStampsFile, skiprows = 1, unpack=True )"
   ]
  },
  {
   "cell_type": "code",
   "execution_count": null,
   "metadata": {
    "collapsed": true
   },
   "outputs": [],
   "source": [
    "timeStampStart_1 = timeStamp_1[0]\n",
    "timeStampStop_1 = timeStamp_1[-1]\n",
    "\n",
    "timeStampStart_2 = timeStamp_2[0]\n",
    "timeStampStop_2 = timeStamp_2[-1]\n",
    "\n",
    "timeStampStart_3 = timeStamp_3[0]\n",
    "timeStampStop_3 = timeStamp_3[-1]"
   ]
  },
  {
   "cell_type": "code",
   "execution_count": null,
   "metadata": {
    "collapsed": true
   },
   "outputs": [],
   "source": [
    "idxStart = np.where(utc_timeStamp <= timeStampStart_1)[0][-1]\n",
    "idxStop = np.where(utc_timeStamp <= timeStampStop_1)[0][-1]\n",
    "record1_idx_alt = (idxStart, idxStop)\n",
    "\n",
    "idxStart = np.where(utc_timeStamp <= timeStampStart_2)[0][-1]\n",
    "idxStop = np.where(utc_timeStamp <= timeStampStop_2)[0][-1]\n",
    "record2_idx_alt = (idxStart, idxStop)\n",
    "\n",
    "idxStart = np.where(utc_timeStamp <= timeStampStart_3)[0][-1]\n",
    "idxStop = np.where(utc_timeStamp <= timeStampStop_3)[0][-1]\n",
    "record3_idx_alt = (idxStart, idxStop)"
   ]
  },
  {
   "cell_type": "markdown",
   "metadata": {},
   "source": [
    "### Plot navigation data and record periods"
   ]
  },
  {
   "cell_type": "code",
   "execution_count": null,
   "metadata": {
    "collapsed": true
   },
   "outputs": [],
   "source": [
    "plt.figure()\n",
    "\n",
    "ax = plt.subplot(111)\n",
    "\n",
    "plotLongLatAndTrackReferences( ax, Long[validNav], Lat[validNav] )\n",
    "plotRunaway( ax )\n",
    "\n",
    "#addOnPlot( ax, Long, Lat, record0_idx, 'yellow', 'record 13_37_22 (time line dated by the MEB)' )\n",
    "addOnPlot( ax, Long, Lat, record1_idx_alt, 'orange', 'record 13_37_22 (time line dated by SBG time stamps)' )\n",
    "addOnPlot( ax, Long, Lat, record2_idx_alt, 'red', 'record 13_45_04 (time line dated by SBG time stamps)' )\n",
    "addOnPlot( ax, Long, Lat, record3_idx_alt, 'green', 'record 13_52_12 (time line dated by SBG time stamps)' )\n",
    "\n",
    "plt.title(\"Navigation data, track references, record locations\\nFlight 2017_10_10_11h00\")\n",
    "plt.xlabel(\"Longitude\")\n",
    "plt.ylabel(\"Latitude\")\n",
    "plt.legend()\n",
    "plt.grid()"
   ]
  },
  {
   "cell_type": "markdown",
   "metadata": {},
   "source": [
    "## Plot attitude data"
   ]
  },
  {
   "cell_type": "code",
   "execution_count": null,
   "metadata": {
    "collapsed": true
   },
   "outputs": [],
   "source": [
    "idx_timeStamp = 0\n",
    "idx_roll = 1\n",
    "idx_pitch = 2\n",
    "idx_yaw = 3\n",
    "idx_rollStdDev = 4\n",
    "idx_pitchStdDev = 5\n",
    "idx_yawStdDev = 6\n",
    "idx_status = 7"
   ]
  },
  {
   "cell_type": "code",
   "execution_count": null,
   "metadata": {
    "collapsed": true
   },
   "outputs": [],
   "source": [
    "euler_timeStamp, roll, pitch, yaw = np.loadtxt( logEkfEuler, skiprows = 1, \n",
    "                                               usecols = (0, idx_roll, idx_pitch, idx_yaw), unpack=True )"
   ]
  },
  {
   "cell_type": "markdown",
   "metadata": {},
   "source": [
    "### Track 1"
   ]
  },
  {
   "cell_type": "code",
   "execution_count": null,
   "metadata": {
    "collapsed": true
   },
   "outputs": [],
   "source": [
    "idxRange = range(record1_idx_alt[0], record1_idx_alt[1])\n",
    "\n",
    "plt.figure()\n",
    "\n",
    "plt.subplot(211)\n",
    "plt.title(\"Altitude and velocity during record record 13_37_22\")\n",
    "plt.plot( Alt[idxRange], label=\"altitude\" )\n",
    "plt.legend()\n",
    "plt.grid()\n",
    "plt.subplot(212)\n",
    "plt.plot( Vel[idxRange], label=\"velocity\" )\n",
    "plt.legend()\n",
    "plt.grid()"
   ]
  },
  {
   "cell_type": "code",
   "execution_count": null,
   "metadata": {
    "collapsed": true
   },
   "outputs": [],
   "source": [
    "plt.figure()\n",
    "\n",
    "plt.subplot(311)\n",
    "plt.title(\"Pitch roll and yaw during record record 13_37_22\")\n",
    "plt.plot( pitch[idxRange], label=\"pitch\" )\n",
    "plt.legend()\n",
    "plt.grid()\n",
    "\n",
    "plt.subplot(312)\n",
    "plt.plot( roll[idxRange], label=\"roll\" )\n",
    "plt.legend()\n",
    "plt.grid()\n",
    "\n",
    "plt.subplot(313)\n",
    "plt.plot( yaw[idxRange], label=\"yaw\" )\n",
    "plt.legend()\n",
    "plt.grid()"
   ]
  },
  {
   "cell_type": "code",
   "execution_count": null,
   "metadata": {
    "collapsed": true
   },
   "outputs": [],
   "source": []
  }
 ],
 "metadata": {
  "kernelspec": {
   "display_name": "Python 3",
   "language": "python",
   "name": "python3"
  },
  "language_info": {
   "codemirror_mode": {
    "name": "ipython",
    "version": 3
   },
   "file_extension": ".py",
   "mimetype": "text/x-python",
   "name": "python",
   "nbconvert_exporter": "python",
   "pygments_lexer": "ipython3",
   "version": "3.6.2"
  }
 },
 "nbformat": 4,
 "nbformat_minor": 2
}
