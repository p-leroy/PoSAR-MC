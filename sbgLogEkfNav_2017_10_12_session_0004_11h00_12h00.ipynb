{
 "cells": [
  {
   "cell_type": "code",
   "execution_count": 1,
   "metadata": {
    "collapsed": true
   },
   "outputs": [],
   "source": [
    "import io\n",
    "import csv\n",
    "import os.path\n",
    "\n",
    "import numpy as np\n",
    "import numexpr as ne\n",
    "import matplotlib.pyplot as plt\n",
    "\n",
    "%matplotlib qt5"
   ]
  },
  {
   "cell_type": "code",
   "execution_count": 2,
   "metadata": {
    "collapsed": true
   },
   "outputs": [],
   "source": [
    "from posarmctools.ekfnavtools import *\n",
    "%load_ext autoreload\n",
    "%autoreload 2"
   ]
  },
  {
   "cell_type": "code",
   "execution_count": 3,
   "metadata": {
    "collapsed": true
   },
   "outputs": [],
   "source": [
    "blocksPerFile = 6\n",
    "samplesPerRamp = 6000\n",
    "rampsPerFile = 1500\n",
    "samplesPerFile = 9000000\n",
    "T_files = samplesPerFile / 10e6"
   ]
  },
  {
   "cell_type": "markdown",
   "metadata": {},
   "source": [
    "## Load navigation data SbgLogEkfNav"
   ]
  },
  {
   "cell_type": "code",
   "execution_count": 11,
   "metadata": {
    "collapsed": true
   },
   "outputs": [],
   "source": [
    "prefix = \"/home/pleroy/DATA/PoSAR-MC_PIMA_TEST-3/dataLogger/session_0004/2017_10_12/11h00/\"\n",
    "prefix_2 = \"/home/pleroy/DATA/PoSAR-MC_PIMA_TEST-3/dataLogger/session_0004/2017_10_12/12h00/\"\n",
    "\n",
    "logEkfEuler = prefix + \"sbgLogEkfEuler.dat\"\n",
    "logEkfNav  = prefix + \"sbgLogEkfNav.dat\"\n",
    "logUtcData = prefix + \"sbgLogUtcData.dat\"\n",
    "\n",
    "logEkfEuler_2 = prefix_2 + \"sbgLogEkfEuler.dat\"\n",
    "logEkfNav_2  = prefix_2 + \"sbgLogEkfNav.dat\"\n",
    "logUtcData_2 = prefix_2 + \"sbgLogUtcData.dat\""
   ]
  },
  {
   "cell_type": "code",
   "execution_count": 14,
   "metadata": {
    "collapsed": true
   },
   "outputs": [],
   "source": [
    "# logEkfNav 11h00\n",
    "timeStamps_1 = np.loadtxt( logEkfNav, skiprows = 1, usecols = idx_timeStamp )\n",
    "Long_1 = np.loadtxt( logEkfNav, skiprows = 1, usecols = idx_Long )\n",
    "Lat_1 = np.loadtxt( logEkfNav, skiprows = 1, usecols = idx_Lat )\n",
    "Alt_1 = np.loadtxt( logEkfNav, skiprows = 1, usecols = idx_Alt )\n",
    "vN_1, vE_1, vD_1 = np.loadtxt( logEkfNav, skiprows = 1, usecols = (idx_velNorth, idx_velEast, idx_velDown), unpack=True )"
   ]
  },
  {
   "cell_type": "code",
   "execution_count": 12,
   "metadata": {},
   "outputs": [],
   "source": [
    "# logEkfNav 12h00\n",
    "timeStamps_2 = np.loadtxt( logEkfNav_2, skiprows = 1, usecols = idx_timeStamp )\n",
    "Long_2 = np.loadtxt( logEkfNav_2, skiprows = 1, usecols = idx_Long )\n",
    "Lat_2 = np.loadtxt( logEkfNav_2, skiprows = 1, usecols = idx_Lat )\n",
    "Alt_2 = np.loadtxt( logEkfNav_2, skiprows = 1, usecols = idx_Alt )\n",
    "vN_2, vE_2, vD_2 = np.loadtxt( logEkfNav, skiprows = 1, usecols = (idx_velNorth, idx_velEast, idx_velDown), unpack=True )"
   ]
  },
  {
   "cell_type": "code",
   "execution_count": 15,
   "metadata": {},
   "outputs": [],
   "source": [
    "Long = np.concatenate((Long_1, Long_2))\n",
    "Lat = np.concatenate((Lat_1, Lat_2))\n",
    "Alt = np.concatenate((Alt_1, Alt_2))\n",
    "timeStamps = np.concatenate((timeStamps_1, timeStamps_2))"
   ]
  },
  {
   "cell_type": "code",
   "execution_count": 16,
   "metadata": {
    "collapsed": true
   },
   "outputs": [],
   "source": [
    "Vel_1 = (vN_1**2 + vE_1**2 + vD_1**2)**0.5\n",
    "Vel_2 = (vN_2**2 + vE_2**2 + vD_2**2)**0.5"
   ]
  },
  {
   "cell_type": "code",
   "execution_count": 17,
   "metadata": {
    "collapsed": true
   },
   "outputs": [],
   "source": [
    "Vel = np.concatenate((Vel_1, Vel_2))"
   ]
  },
  {
   "cell_type": "markdown",
   "metadata": {},
   "source": [
    "### Plot navigation data jointly with track references"
   ]
  },
  {
   "cell_type": "code",
   "execution_count": 18,
   "metadata": {
    "collapsed": true
   },
   "outputs": [],
   "source": [
    "plt.figure()\n",
    "ax = plt.subplot(111)\n",
    "plotLongLatAndTrackReferences( ax, Long, Lat )\n",
    "plt.title( \"Navigation data and track references\\n\" + prefix )\n",
    "plt.grid()"
   ]
  },
  {
   "cell_type": "code",
   "execution_count": 19,
   "metadata": {
    "collapsed": true
   },
   "outputs": [],
   "source": [
    "validNav = np.where(Long < 0)"
   ]
  },
  {
   "cell_type": "code",
   "execution_count": 20,
   "metadata": {
    "collapsed": true
   },
   "outputs": [],
   "source": [
    "plt.figure()\n",
    "ax = plt.subplot(111)\n",
    "plotLongLatAndTrackReferences( ax, Long[validNav], Lat[validNav] )\n",
    "plt.title( \"Navigation data and track references\\n\" + prefix )\n",
    "plt.grid()"
   ]
  },
  {
   "cell_type": "markdown",
   "metadata": {},
   "source": [
    "## Look for the time data corresponding to the records"
   ]
  },
  {
   "cell_type": "code",
   "execution_count": 21,
   "metadata": {
    "collapsed": true
   },
   "outputs": [],
   "source": [
    "hourOffset = 2\n",
    "\n",
    "#timeStamp status year month day hour minute second nanoSecond gpsTimeOfWeek\n",
    "utc_timeStamp_1 = np.loadtxt( logUtcData, skiprows = 1, usecols = 0, unpack=True )"
   ]
  },
  {
   "cell_type": "code",
   "execution_count": 63,
   "metadata": {},
   "outputs": [],
   "source": [
    "#timeStamp status year month day hour minute second nanoSecond gpsTimeOfWeek\n",
    "utc_timeStamp_2 = np.loadtxt( logUtcData_2, skiprows = 1, usecols = 0, unpack=True )"
   ]
  },
  {
   "cell_type": "code",
   "execution_count": 64,
   "metadata": {},
   "outputs": [],
   "source": [
    "utc_timeStamp = np.concatenate((utc_timeStamp_1, utc_timeStamp_2))"
   ]
  },
  {
   "cell_type": "markdown",
   "metadata": {},
   "source": [
    "### Process timeStamps.data"
   ]
  },
  {
   "cell_type": "code",
   "execution_count": 72,
   "metadata": {
    "collapsed": true
   },
   "outputs": [],
   "source": [
    "data_dir = \"/home/pleroy/DATA/PoSAR-MC_PIMA_TEST-3/2017_10_12/2017_10_12_13_58_36\"\n",
    "timeStampsFile = data_dir + \"/2017_10_12_13_58_36_timeStamps.data\"\n",
    "blockNumber_1, timeStamp_1 = np.loadtxt( timeStampsFile, skiprows = 1, unpack=True )"
   ]
  },
  {
   "cell_type": "code",
   "execution_count": 73,
   "metadata": {},
   "outputs": [],
   "source": [
    "data_dir = \"/home/pleroy/DATA/PoSAR-MC_PIMA_TEST-3/2017_10_12/2017_10_12_14_04_34\"\n",
    "timeStampsFile = data_dir + \"/2017_10_12_14_04_34_timeStamps.data\"\n",
    "blockNumber_2, timeStamp_2 = np.loadtxt( timeStampsFile, skiprows = 1, unpack=True )"
   ]
  },
  {
   "cell_type": "code",
   "execution_count": 74,
   "metadata": {
    "collapsed": true
   },
   "outputs": [],
   "source": [
    "data_dir = \"/home/pleroy/DATA/PoSAR-MC_PIMA_TEST-3/2017_10_12/2017_10_12_14_17_27\"\n",
    "timeStampsFile = data_dir + \"/2017_10_12_14_17_27_timeStamps.data\"\n",
    "blockNumber_3, timeStamp_3 = np.loadtxt( timeStampsFile, skiprows = 1, unpack=True )"
   ]
  },
  {
   "cell_type": "code",
   "execution_count": 75,
   "metadata": {},
   "outputs": [],
   "source": [
    "timeStampStart_1 = timeStamp_1[0]\n",
    "timeStampStop_1 = timeStamp_1[-1]\n",
    "\n",
    "timeStampStart_2 = timeStamp_2[0]\n",
    "timeStampStop_2 = timeStamp_2[-1]\n",
    "\n",
    "timeStampStart_3 = timeStamp_3[0]\n",
    "timeStampStop_3 = timeStamp_3[-1]"
   ]
  },
  {
   "cell_type": "code",
   "execution_count": 76,
   "metadata": {},
   "outputs": [
    {
     "name": "stdout",
     "output_type": "stream",
     "text": [
      "idxStart = 184526, idxStop = 197306\n"
     ]
    }
   ],
   "source": [
    "idxStart = np.where(utc_timeStamp <= timeStampStart_1)[0][-1]\n",
    "idxStop = np.where(utc_timeStamp <= timeStampStop_1)[0][-1]\n",
    "record1_idx_alt = (idxStart, idxStop)\n",
    "print( \"idxStart = {}, idxStop = {}\".format(idxStart, idxStop) )"
   ]
  },
  {
   "cell_type": "code",
   "execution_count": 77,
   "metadata": {},
   "outputs": [
    {
     "name": "stdout",
     "output_type": "stream",
     "text": [
      "idxStart = 256130, idxStop = 271070\n"
     ]
    }
   ],
   "source": [
    "idxStart = np.where(utc_timeStamp <= timeStampStart_2)[0][-1]\n",
    "idxStop = np.where(utc_timeStamp <= timeStampStop_2)[0][-1]\n",
    "record2_idx_alt = (idxStart, idxStop)\n",
    "print( \"idxStart = {}, idxStop = {}\".format(idxStart, idxStop) )"
   ]
  },
  {
   "cell_type": "code",
   "execution_count": 78,
   "metadata": {},
   "outputs": [
    {
     "name": "stdout",
     "output_type": "stream",
     "text": [
      "idxStart = 410887, idxStop = 426187\n"
     ]
    }
   ],
   "source": [
    "idxStart = np.where(utc_timeStamp <= timeStampStart_3)[0][-1]\n",
    "idxStop = np.where(utc_timeStamp <= timeStampStop_3)[0][-1]\n",
    "record3_idx_alt = (idxStart, idxStop)\n",
    "print( \"idxStart = {}, idxStop = {}\".format(idxStart, idxStop) )"
   ]
  },
  {
   "cell_type": "code",
   "execution_count": 79,
   "metadata": {},
   "outputs": [
    {
     "data": {
      "text/plain": [
       "[<matplotlib.lines.Line2D at 0x7fa91d450f28>]"
      ]
     },
     "execution_count": 79,
     "metadata": {},
     "output_type": "execute_result"
    }
   ],
   "source": [
    "plt.plot(timeStamps)"
   ]
  },
  {
   "cell_type": "markdown",
   "metadata": {},
   "source": [
    "### Plot navigation data and record periods"
   ]
  },
  {
   "cell_type": "code",
   "execution_count": 81,
   "metadata": {
    "collapsed": true
   },
   "outputs": [],
   "source": [
    "plt.figure()\n",
    "\n",
    "ax = plt.subplot(111)\n",
    "\n",
    "plotLongLatAndTrackReferences( ax, Long[validNav], Lat[validNav] )\n",
    "plotRunaway( ax )\n",
    "\n",
    "addOnPlot( ax, Long, Lat, record1_idx_alt, 'orange', 'record 13_58_36 (time line dated by SBG time stamps)' )\n",
    "addOnPlot( ax, Long, Lat, record2_idx_alt, 'red', 'record 14_04_34 (time line dated by SBG time stamps)' )\n",
    "addOnPlot( ax, Long, Lat, record3_idx_alt, 'green', 'record 14_17_27 (time line dated by SBG time stamps)' )\n",
    "\n",
    "plt.title(\"Navigation data, track references, record locations\\nFlight 2017_10_12\")\n",
    "plt.xlabel(\"Longitude\")\n",
    "plt.ylabel(\"Latitude\")\n",
    "plt.legend()\n",
    "plt.grid()"
   ]
  },
  {
   "cell_type": "markdown",
   "metadata": {},
   "source": [
    "## Plot attitude data"
   ]
  },
  {
   "cell_type": "code",
   "execution_count": null,
   "metadata": {
    "collapsed": true
   },
   "outputs": [],
   "source": [
    "idx_timeStamp = 0\n",
    "idx_roll = 1\n",
    "idx_pitch = 2\n",
    "idx_yaw = 3\n",
    "idx_rollStdDev = 4\n",
    "idx_pitchStdDev = 5\n",
    "idx_yawStdDev = 6\n",
    "idx_status = 7"
   ]
  },
  {
   "cell_type": "code",
   "execution_count": null,
   "metadata": {
    "collapsed": true
   },
   "outputs": [],
   "source": [
    "euler_timeStamp, roll, pitch, yaw = np.loadtxt( logEkfEuler, skiprows = 1, \n",
    "                                               usecols = (0, idx_roll, idx_pitch, idx_yaw), unpack=True )"
   ]
  },
  {
   "cell_type": "markdown",
   "metadata": {},
   "source": [
    "### Track 1"
   ]
  },
  {
   "cell_type": "code",
   "execution_count": null,
   "metadata": {
    "collapsed": true
   },
   "outputs": [],
   "source": [
    "idxRange = range(record1_idx_alt[0], record1_idx_alt[1])\n",
    "\n",
    "plt.figure()\n",
    "\n",
    "plt.subplot(211)\n",
    "plt.title(\"Altitude and velocity during record record 13_37_22\")\n",
    "plt.plot( Alt[idxRange], label=\"altitude\" )\n",
    "plt.legend()\n",
    "plt.grid()\n",
    "plt.subplot(212)\n",
    "plt.plot( Vel[idxRange], label=\"velocity\" )\n",
    "plt.legend()\n",
    "plt.grid()"
   ]
  },
  {
   "cell_type": "code",
   "execution_count": null,
   "metadata": {
    "collapsed": true
   },
   "outputs": [],
   "source": [
    "plt.figure()\n",
    "\n",
    "plt.subplot(311)\n",
    "plt.title(\"Pitch roll and yaw during record record 13_37_22\")\n",
    "plt.plot( pitch[idxRange], label=\"pitch\" )\n",
    "plt.legend()\n",
    "plt.grid()\n",
    "\n",
    "plt.subplot(312)\n",
    "plt.plot( roll[idxRange], label=\"roll\" )\n",
    "plt.legend()\n",
    "plt.grid()\n",
    "\n",
    "plt.subplot(313)\n",
    "plt.plot( yaw[idxRange], label=\"yaw\" )\n",
    "plt.legend()\n",
    "plt.grid()"
   ]
  },
  {
   "cell_type": "code",
   "execution_count": null,
   "metadata": {
    "collapsed": true
   },
   "outputs": [],
   "source": []
  }
 ],
 "metadata": {
  "kernelspec": {
   "display_name": "Python 3",
   "language": "python",
   "name": "python3"
  },
  "language_info": {
   "codemirror_mode": {
    "name": "ipython",
    "version": 3
   },
   "file_extension": ".py",
   "mimetype": "text/x-python",
   "name": "python",
   "nbconvert_exporter": "python",
   "pygments_lexer": "ipython3",
   "version": "3.6.2"
  }
 },
 "nbformat": 4,
 "nbformat_minor": 2
}
