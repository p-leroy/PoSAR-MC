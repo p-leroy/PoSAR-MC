{
 "cells": [
  {
   "cell_type": "code",
   "execution_count": 1,
   "metadata": {
    "collapsed": true
   },
   "outputs": [],
   "source": [
    "import io\n",
    "import csv\n",
    "import os.path\n",
    "\n",
    "import numpy as np\n",
    "import numexpr as ne\n",
    "import matplotlib.pyplot as plt\n",
    "\n",
    "%matplotlib qt5"
   ]
  },
  {
   "cell_type": "code",
   "execution_count": 2,
   "metadata": {
    "collapsed": true
   },
   "outputs": [],
   "source": [
    "blocksPerFile = 6\n",
    "samplesPerRamp = 6000\n",
    "rampsPerFile = 1500\n",
    "samplesPerFile = 9000000\n",
    "T_files = samplesPerFile / 10e6"
   ]
  },
  {
   "cell_type": "code",
   "execution_count": 10,
   "metadata": {
    "collapsed": true
   },
   "outputs": [],
   "source": [
    "#EKF NAV\n",
    "idx_timeStamp = 0\n",
    "idx_velNorth = 1\n",
    "idx_velEast = 2\n",
    "idx_velDown = 3\n",
    "idx_velNorth_StdDev = 4\n",
    "idx_velEast_StdDev = 5\n",
    "idx_velDown_StdDev = 6\n",
    "idx_Lat = 7\n",
    "idx_Long = 8\n",
    "idx_Alt = 9\n",
    "idx_undulation = 10\n",
    "idx_Lat_StdDev = 11\n",
    "idx_Long_StdDev = 12\n",
    "idx_Alt_StdDev = 13\n",
    "idx_nav_status = 14\n",
    "\n",
    "track1_Lat_0  = 48.06069 \n",
    "track1_Long_0 = -1.99354\n",
    "track1_Lat_1  = 48.05507 \n",
    "track1_Long_1 = -2.02359\n",
    "\n",
    "track2_Lat_0  = 48.06249 \n",
    "track2_Long_0 = -1.99467\n",
    "track2_Lat_1  = 48.05687 \n",
    "track2_Long_1 = -2.02434\n",
    "\n",
    "track3_Lat_0  = 48.06555 \n",
    "track3_Long_0 = -1.99619\n",
    "track3_Lat_1  = 48.06007 \n",
    "track3_Long_1 = -2.02550\n",
    "\n",
    "runaway = np.array([ [ 48.057546, -2.010483, 0.0 ],\n",
    "          [ 48.058403, -2.005964, 0.0 ],\n",
    "          [ 48.058191, -2.005869, 0.0 ],\n",
    "          [ 48.057327, -2.010383, 0.0 ],\n",
    "          [ 48.057546, -2.010483, 0.0 ]\n",
    "          ])"
   ]
  },
  {
   "cell_type": "markdown",
   "metadata": {},
   "source": [
    "## Load navigation data SbgLogEkfNav"
   ]
  },
  {
   "cell_type": "code",
   "execution_count": 4,
   "metadata": {
    "collapsed": true
   },
   "outputs": [],
   "source": [
    "prefix = \"/home/pleroy/DATA/PoSAR-MC_PIMA_TEST-2/2017_09_21-22_SBG/dataLogger\"\n",
    "\n",
    "logEkfNav  = prefix + \"/session_0003/2017_09_22/13h00/\" + \"sbgLogEkfNav.dat\"\n",
    "logUtcData = prefix + \"/session_0003/2017_09_22/13h00/\" + \"sbgLogUtcData.dat\""
   ]
  },
  {
   "cell_type": "markdown",
   "metadata": {},
   "source": [
    "Load logEkfNav data 13h00"
   ]
  },
  {
   "cell_type": "code",
   "execution_count": 5,
   "metadata": {
    "collapsed": true
   },
   "outputs": [],
   "source": [
    "# logEkfNav\n",
    "timeStamps = np.loadtxt( logEkfNav, skiprows = 1, usecols = idx_timeStamp )\n",
    "Long = np.loadtxt( logEkfNav, skiprows = 1, usecols = idx_Long )\n",
    "Lat = np.loadtxt( logEkfNav, skiprows = 1, usecols = idx_Lat )\n",
    "Alt = np.loadtxt( logEkfNav, skiprows = 1, usecols = idx_Alt )\n",
    "vN, vE, vD = np.loadtxt( logEkfNav, skiprows = 1, usecols = (idx_velNorth, idx_velEast, idx_velDown), unpack=True )"
   ]
  },
  {
   "cell_type": "code",
   "execution_count": 6,
   "metadata": {
    "collapsed": true
   },
   "outputs": [],
   "source": [
    "Vel = (vN**2 + vE**2 + vD**2)**0.5"
   ]
  },
  {
   "cell_type": "markdown",
   "metadata": {},
   "source": [
    "### Plot navigation data jointly with track references"
   ]
  },
  {
   "cell_type": "code",
   "execution_count": 7,
   "metadata": {
    "collapsed": true
   },
   "outputs": [],
   "source": [
    "def plotRunaway( ax ):\n",
    "    ax.plot(runaway[:,1], runaway[:,0], \"og\", markeredgecolor = 'black')"
   ]
  },
  {
   "cell_type": "code",
   "execution_count": 11,
   "metadata": {
    "collapsed": true
   },
   "outputs": [],
   "source": [
    "def plotLongLatAndTrackReferences( ax ):\n",
    "    ax.plot( Long, Lat, 'gray' )\n",
    "    ax.plot( [track1_Long_0, track1_Long_1], [track1_Lat_0, track1_Lat_1], \"o-.b\", markeredgecolor = 'black' )\n",
    "    ax.plot( [track2_Long_0, track2_Long_1], [track2_Lat_0, track2_Lat_1], \"o-.b\", markeredgecolor = 'black' )\n",
    "    ax.plot( [track3_Long_0, track3_Long_1], [track3_Lat_0, track3_Lat_1], \"o-.b\", markeredgecolor = 'black' )"
   ]
  },
  {
   "cell_type": "code",
   "execution_count": 12,
   "metadata": {},
   "outputs": [
    {
     "data": {
      "text/plain": [
       "<matplotlib.text.Text at 0x7fd3fc0abb38>"
      ]
     },
     "execution_count": 12,
     "metadata": {},
     "output_type": "execute_result"
    }
   ],
   "source": [
    "plt.figure()\n",
    "ax = plt.subplot(111)\n",
    "\n",
    "plotLongLatAndTrackReferences( ax )\n",
    "\n",
    "plt.title(\"Navigation data and track references 2017_09_22 13h00\")"
   ]
  },
  {
   "cell_type": "markdown",
   "metadata": {},
   "source": [
    "### Check the existence of record files"
   ]
  },
  {
   "cell_type": "code",
   "execution_count": 13,
   "metadata": {
    "collapsed": true
   },
   "outputs": [],
   "source": [
    "firstRecord = 960\n",
    "lastRecord = 3372\n",
    "aux = np.zeros(3372)\n",
    "fileList = []\n",
    "dataDir = \"/home/pleroy/DATA/PoSAR-MC_PIMA_TEST-2/2017_09_22_15_21_51\"\n",
    "for k in range(firstRecord, lastRecord, blocksPerFile):\n",
    "    filename = dataDir + \"/record\" + str(k) + \".bin\"\n",
    "    ret = os.path.isfile(filename)\n",
    "    if ret == False:\n",
    "        fileList.append(0)\n",
    "    else:\n",
    "        fileList.append(1)\n",
    "idxFileList = np.arange( len( fileList ) ) * blocksPerFile + firstRecord"
   ]
  },
  {
   "cell_type": "code",
   "execution_count": 14,
   "metadata": {},
   "outputs": [
    {
     "data": {
      "text/plain": [
       "[<matplotlib.lines.Line2D at 0x7fd3ed2f09e8>]"
      ]
     },
     "execution_count": 14,
     "metadata": {},
     "output_type": "execute_result"
    }
   ],
   "source": [
    "plt.plot(idxFileList, fileList, 'o-')"
   ]
  },
  {
   "cell_type": "code",
   "execution_count": 15,
   "metadata": {
    "collapsed": true
   },
   "outputs": [],
   "source": [
    "# times recorded by Windows XP\n",
    "t_0    = (15, 21, 51)\n",
    "\n",
    "record0Start = 960\n",
    "record0Stop = 1866\n",
    "\n",
    "record1Start = 1944\n",
    "record1Stop = 2082\n",
    "\n",
    "record2Start = 2190\n",
    "record2Stop = 3372"
   ]
  },
  {
   "cell_type": "markdown",
   "metadata": {},
   "source": [
    "Look for the time data corresponding to the records"
   ]
  },
  {
   "cell_type": "code",
   "execution_count": 16,
   "metadata": {
    "collapsed": true
   },
   "outputs": [],
   "source": [
    "hourOffset = 2\n",
    "\n",
    "#timeStamp status year month day hour minute second nanoSecond gpsTimeOfWeek\n",
    "idx_h = 5\n",
    "idx_m = 6\n",
    "idx_s = 7\n",
    "idx_nano = 8\n",
    "utc_h, utc_m, utc_s, utc_nano = np.loadtxt( logUtcData, skiprows = 1, \n",
    "                                           usecols = (idx_h, idx_m, idx_s, idx_nano), unpack=True )\n",
    "utc_seconds = (utc_h + hourOffset) * 3600 + utc_m * 60 + utc_s + utc_nano * 1e-9"
   ]
  },
  {
   "cell_type": "code",
   "execution_count": 17,
   "metadata": {
    "collapsed": true
   },
   "outputs": [],
   "source": [
    "def getTimeOfDay( seconds ):\n",
    "    h = np.floor( seconds / 3600 )\n",
    "    m = np.floor( (seconds - h *3600) / 60 )\n",
    "    s = seconds - h * 3600 - m * 60\n",
    "    return (h, m, s)\n",
    "\n",
    "def getSeconds( timeOfDay ):\n",
    "    return (timeOfDay[0] * 3600 + timeOfDay[1] * 60 + timeOfDay[2])\n",
    "\n",
    "def getIndices( start, stop ):\n",
    "    idx_start = np.amax( np.where( utc_seconds <= getSeconds(start) ) )\n",
    "    idx_stop = np.amax( np.where( utc_seconds <= getSeconds(stop) ) )\n",
    "    return (idx_start, idx_stop)"
   ]
  },
  {
   "cell_type": "code",
   "execution_count": 18,
   "metadata": {
    "collapsed": true
   },
   "outputs": [],
   "source": [
    "# compute time of day using the date of block 0 and a computed delta\n",
    "\n",
    "record0_tStart = getTimeOfDay( getSeconds( t_0 ) + record0Start / blocksPerFile * T_files )\n",
    "record0_tStop = getTimeOfDay( getSeconds( t_0 ) + record0Stop / blocksPerFile * T_files )\n",
    "\n",
    "record1_tStart = getTimeOfDay( getSeconds( t_0 ) + record1Start / blocksPerFile * T_files )\n",
    "record1_tStop = getTimeOfDay( getSeconds( t_0 ) + record1Stop / blocksPerFile * T_files )\n",
    "\n",
    "record2_tStart = getTimeOfDay( getSeconds( t_0 ) + record2Start / blocksPerFile * T_files )\n",
    "record2_tStop = getTimeOfDay( getSeconds( t_0 ) + record2Stop / blocksPerFile * T_files )"
   ]
  },
  {
   "cell_type": "code",
   "execution_count": 20,
   "metadata": {
    "collapsed": true
   },
   "outputs": [],
   "source": [
    "record0_idx = getIndices (record0_tStart, record0_tStop)\n",
    "record1_idx = getIndices (record1_tStart, record1_tStop)\n",
    "record2_idx = getIndices (record2_tStart, record2_tStop)"
   ]
  },
  {
   "cell_type": "markdown",
   "metadata": {},
   "source": [
    "### Plot navigation data and record periods"
   ]
  },
  {
   "cell_type": "code",
   "execution_count": 21,
   "metadata": {
    "collapsed": true
   },
   "outputs": [],
   "source": [
    "def addOnPlot(ax, idx, color, label=''):\n",
    "    idxStart = idx[0]\n",
    "    idxStop = idx[1]\n",
    "    ax.plot( Long[idxStart:idxStop], Lat[idxStart:idxStop], '--', color=color, label=label )\n",
    "    ax.plot( Long[idxStart], Lat[idxStart], 'D', color=color, markeredgecolor = 'black' )\n",
    "    ax.plot( Long[idxStop], Lat[idxStop], 'D', color=color, markeredgecolor = 'black'  )"
   ]
  },
  {
   "cell_type": "code",
   "execution_count": 22,
   "metadata": {
    "collapsed": true
   },
   "outputs": [],
   "source": [
    "def addSpot(ax, idx, color):\n",
    "    ax.plot( Long[idx], Lat[idx], 'D', color=color, markeredgecolor = 'black' )"
   ]
  },
  {
   "cell_type": "code",
   "execution_count": 25,
   "metadata": {
    "collapsed": true
   },
   "outputs": [],
   "source": [
    "plt.figure()\n",
    "\n",
    "ax = plt.subplot(111)\n",
    "\n",
    "plotLongLatAndTrackReferences( ax )\n",
    "plotRunaway( ax )\n",
    "\n",
    "addOnPlot( ax, record0_idx, 'yellow', 'record 0' )\n",
    "addOnPlot( ax, record1_idx, 'red', 'record 1' )\n",
    "addOnPlot( ax, record2_idx, 'magenta', 'record 2' )\n",
    "\n",
    "plt.title(\"Navigation data, track references, record locations\\nFlight 2017_09_22 13h00\")\n",
    "plt.xlabel(\"Longitude\")\n",
    "plt.ylabel(\"Latitude\")\n",
    "plt.legend()\n",
    "plt.grid()"
   ]
  },
  {
   "cell_type": "markdown",
   "metadata": {},
   "source": [
    "## Track 1"
   ]
  },
  {
   "cell_type": "code",
   "execution_count": 26,
   "metadata": {},
   "outputs": [
    {
     "data": {
      "text/plain": [
       "[<matplotlib.lines.Line2D at 0x7fd3ed270978>]"
      ]
     },
     "execution_count": 26,
     "metadata": {},
     "output_type": "execute_result"
    }
   ],
   "source": [
    "plt.figure()\n",
    "ax1 = plt.subplot(211)\n",
    "ax1.plot(Long, '.')\n",
    "ax1.plot(np.ones(Long.shape) * track1_Long_0)\n",
    "ax1.plot(np.ones(Long.shape) * track1_Long_1)\n",
    "ax2 = plt.subplot(212, sharex=ax1)\n",
    "ax2.plot(Lat, '.')\n",
    "ax2.plot(np.ones(Lat.shape) * track1_Lat_0)\n",
    "ax2.plot(np.ones(Lat.shape) * track1_Lat_1)"
   ]
  },
  {
   "cell_type": "markdown",
   "metadata": {},
   "source": [
    "### Track 1 reference / Flight over 1"
   ]
  },
  {
   "cell_type": "code",
   "execution_count": null,
   "metadata": {
    "collapsed": true
   },
   "outputs": [],
   "source": [
    "idx_allTr3_fo1 = (515398, 527835)"
   ]
  },
  {
   "cell_type": "code",
   "execution_count": 31,
   "metadata": {
    "collapsed": true
   },
   "outputs": [],
   "source": [
    "# 960\n",
    "start = 960\n",
    "stop = start + 6 * 15\n",
    "spot1_0 = getTimeOfDay( getSeconds( t_0 ) + start / blocksPerFile * T_files )\n",
    "spot1_1 = getTimeOfDay( getSeconds( t_0 ) + stop / blocksPerFile * T_files )\n",
    "idx_spot1_0 = np.amax( np.where( utc_seconds <= getSeconds(spot1_0) ) )\n",
    "idx_spot1_1 = np.amax( np.where( utc_seconds <= getSeconds(spot1_1) ) )\n",
    "idx_spot1 = (idx_spot1_0, idx_spot1_1)\n",
    "velocity_spot1_0_spot1_1 = np.average( Vel[idx_spot1_0:idx_spot1_1] )\n",
    "altitude_spot1_0_spot1_1 = np.average( Alt[idx_spot1_0:idx_spot1_1] )"
   ]
  },
  {
   "cell_type": "code",
   "execution_count": 34,
   "metadata": {
    "collapsed": true
   },
   "outputs": [],
   "source": [
    "plt.figure()\n",
    "ax = plt.subplot(111)\n",
    "\n",
    "plotLongLatAndTrackReferences( ax )\n",
    "plotRunaway( ax )\n",
    "\n",
    "addOnPlot( ax, idx_spot1, 'red', 'selection' )\n",
    "addSpot( ax, idx_spot1_0, 'white' )\n",
    "addSpot( ax, idx_spot1_1, 'white' )\n",
    "\n",
    "plt.title(\"Navigation data and track references 2017_09_22 13h00\\nTrack 1 Flight over 1\")\n",
    "plt.legend()\n",
    "plt.grid()"
   ]
  },
  {
   "cell_type": "markdown",
   "metadata": {},
   "source": [
    "# Data selection"
   ]
  },
  {
   "cell_type": "code",
   "execution_count": null,
   "metadata": {
    "collapsed": true
   },
   "outputs": [],
   "source": [
    "def getBlockNumberFromUtcSeconds( seconds, t_0 ):\n",
    "    delta = seconds - getSeconds(t_0)\n",
    "    return int( np.floor( delta / T_files ) * blocksPerFile )"
   ]
  },
  {
   "cell_type": "code",
   "execution_count": null,
   "metadata": {
    "collapsed": true
   },
   "outputs": [],
   "source": [
    "def getAltitudeVelocity( Alt, Vel, idx0, idx1 ):\n",
    "    altitude = np.average( Alt[ idx0 : idx1 ] )\n",
    "    velocity = np.average( Vel[ idx0 : idx1 ] )\n",
    "    print(\"(altitude, velocity) = ({:.3f}, {:.3f})\".format(altitude, velocity) )"
   ]
  },
  {
   "cell_type": "code",
   "execution_count": null,
   "metadata": {
    "collapsed": true
   },
   "outputs": [],
   "source": [
    "def getSelection(utc_seconds, Alt, Vel, idx):\n",
    "    (idx0, idx1) = idx\n",
    "    \n",
    "    selection0 = getBlockNumberFromUtcSeconds( utc_seconds[idx0], t_0 )\n",
    "    print( \"Data selection starts at file: \" + '{}'.format(selection0) )\n",
    "    \n",
    "    selection1 = getBlockNumberFromUtcSeconds( utc_seconds[idx1], t_0 )\n",
    "    nb = int( np.floor( (selection1 - selection0) / blocksPerFile ) )\n",
    "    print( \"Data selection stops at file: \" + '{}'.format(selection1) \n",
    "          + \", number of files in the selection: \" + '{}'.format(nb+1) )\n",
    "    \n",
    "    getAltitudeVelocity( Alt, Vel, idx0, idx1 )"
   ]
  },
  {
   "cell_type": "markdown",
   "metadata": {},
   "source": [
    "## Track 1"
   ]
  },
  {
   "cell_type": "markdown",
   "metadata": {},
   "source": [
    "### Runaway Flight over 1"
   ]
  },
  {
   "cell_type": "code",
   "execution_count": null,
   "metadata": {
    "collapsed": true
   },
   "outputs": [],
   "source": [
    "getSelection(utc_seconds, Alt, Vel, idx_tr1_fo1 )"
   ]
  },
  {
   "cell_type": "markdown",
   "metadata": {},
   "source": [
    "### Runaway Flight over 2"
   ]
  },
  {
   "cell_type": "code",
   "execution_count": null,
   "metadata": {
    "collapsed": true
   },
   "outputs": [],
   "source": [
    "getSelection(utc_seconds, Alt, Vel, idx_tr1_fo2 )"
   ]
  },
  {
   "cell_type": "markdown",
   "metadata": {},
   "source": [
    "### Track 1 Flight over 1"
   ]
  },
  {
   "cell_type": "code",
   "execution_count": null,
   "metadata": {
    "collapsed": true
   },
   "outputs": [],
   "source": [
    "getSelection(utc_seconds, Alt, Vel, idx_allTr1_fo1 )"
   ]
  },
  {
   "cell_type": "markdown",
   "metadata": {},
   "source": [
    "### Track 1 Flight over 2"
   ]
  },
  {
   "cell_type": "code",
   "execution_count": null,
   "metadata": {
    "collapsed": true
   },
   "outputs": [],
   "source": [
    "getSelection(utc_seconds, Alt, Vel, idx_allTr1_fo2 )"
   ]
  },
  {
   "cell_type": "markdown",
   "metadata": {},
   "source": [
    "### Track 3 Flight over 1"
   ]
  },
  {
   "cell_type": "code",
   "execution_count": null,
   "metadata": {
    "collapsed": true
   },
   "outputs": [],
   "source": [
    "getSelection(utc_seconds, Alt, Vel, (idx_spot3_0, idx_spot3_1) )"
   ]
  },
  {
   "cell_type": "markdown",
   "metadata": {},
   "source": [
    "# Annexe"
   ]
  },
  {
   "cell_type": "markdown",
   "metadata": {},
   "source": [
    "### Check the dates of the recorded files"
   ]
  },
  {
   "cell_type": "code",
   "execution_count": null,
   "metadata": {
    "collapsed": true
   },
   "outputs": [],
   "source": [
    "def getLastLine( filename ):\n",
    "    with open(filename, newline='') as f:\n",
    "        reader = csv.reader(f)\n",
    "        for row in reader:\n",
    "            last = next(reader)\n",
    "        print(last)"
   ]
  },
  {
   "cell_type": "code",
   "execution_count": null,
   "metadata": {
    "collapsed": true
   },
   "outputs": [],
   "source": [
    "def printUtc( index ):\n",
    "    print( str(utc_h[index]) \n",
    "          + \" : \" + str(utc_m[index]) \n",
    "          + \" : \" + \"{:.3f}\".format(utc_s[index] + utc_nano[index] * 1e-9) )"
   ]
  },
  {
   "cell_type": "code",
   "execution_count": null,
   "metadata": {
    "collapsed": true
   },
   "outputs": [],
   "source": [
    "def getDataAtIndex(filename, index):\n",
    "    with open(filename, newline='') as f:\n",
    "        reader = csv.reader(f)\n",
    "        for r in range(index+1):\n",
    "            next(reader)\n",
    "        val = next(reader)\n",
    "    return val"
   ]
  },
  {
   "cell_type": "code",
   "execution_count": null,
   "metadata": {
    "collapsed": true
   },
   "outputs": [],
   "source": [
    "def getBlockNumber( t, t_0 ):\n",
    "    delta = getSeconds( t ) - getSeconds(t_0)\n",
    "    return int( np.floor( delta / T_files ) * blocksPerFile )\n",
    "\n",
    "def getUtcIndex( tod ):\n",
    "    return np.amax( np.where( utc_seconds <= getSeconds( tod ) ) )\n",
    "\n",
    "def getUtcData( logUtcData, timeOfDay ):\n",
    "    with open( logUtcData, newline='') as f:\n",
    "        reader = csv.reader(f)\n",
    "        next(reader)\n",
    "        utc = np.loadtxt( io.StringIO( next(reader)[0] ))\n",
    "        \n",
    "        while (utc[5] < timeOfDay[0] - hourOffset):\n",
    "            utc = np.loadtxt( io.StringIO( next(reader)[0] ))\n",
    "            \n",
    "        while (utc[6] < timeOfDay[1]):\n",
    "            utc = np.loadtxt( io.StringIO( next(reader)[0] ))\n",
    "            \n",
    "        while (utc[7] < timeOfDay[2]):\n",
    "            utc = np.loadtxt( io.StringIO( next(reader)[0] ))\n",
    "            \n",
    "    return utc"
   ]
  }
 ],
 "metadata": {
  "kernelspec": {
   "display_name": "Python 3",
   "language": "python",
   "name": "python3"
  },
  "language_info": {
   "codemirror_mode": {
    "name": "ipython",
    "version": 3
   },
   "file_extension": ".py",
   "mimetype": "text/x-python",
   "name": "python",
   "nbconvert_exporter": "python",
   "pygments_lexer": "ipython3",
   "version": "3.6.2"
  }
 },
 "nbformat": 4,
 "nbformat_minor": 2
}
