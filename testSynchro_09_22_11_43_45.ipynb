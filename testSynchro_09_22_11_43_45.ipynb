{
 "cells": [
  {
   "cell_type": "code",
   "execution_count": 1,
   "metadata": {
    "collapsed": true
   },
   "outputs": [],
   "source": [
    "import numpy as np\n",
    "import matplotlib.pyplot as plt\n",
    "%matplotlib qt5"
   ]
  },
  {
   "cell_type": "code",
   "execution_count": 2,
   "metadata": {
    "collapsed": true
   },
   "outputs": [],
   "source": [
    "prefix = \"/home/pleroy/DATA/PoSAR-MC_PIMA_TEST-2/2017_09_22_\""
   ]
  },
  {
   "cell_type": "code",
   "execution_count": 121,
   "metadata": {
    "collapsed": true
   },
   "outputs": [],
   "source": [
    "data_dir = prefix + \"11_43_45\"\n",
    "\n",
    "blocksPerFile = 6\n",
    "numberOfFiles = 1 # 108\n",
    "firstFile = 84\n",
    "lastFile = firstFile + numberOfFiles * blocksPerFile # 672\n",
    "\n",
    "samplesPerRamp = 6000\n",
    "rampsPerFile = 1500\n",
    "samplesPerFile = samplesPerRamp * rampsPerFile\n",
    "\n",
    "numberOfSamplesToRead = 9000000"
   ]
  },
  {
   "cell_type": "code",
   "execution_count": 122,
   "metadata": {},
   "outputs": [
    {
     "name": "stdout",
     "output_type": "stream",
     "text": [
      "84 / 84\n"
     ]
    }
   ],
   "source": [
    "timeSeries_A = np.zeros( (numberOfFiles, numberOfSamplesToRead) )\n",
    "timeSeries_B = np.zeros( (numberOfFiles, numberOfSamplesToRead) )\n",
    "dum = np.zeros( numberOfSamplesToRead * 2 )\n",
    "\n",
    "fileNumber = 0\n",
    "\n",
    "for loop in range (firstFile, lastFile, blocksPerFile ):\n",
    "    print( str(loop) + ' / ' + str(lastFile - blocksPerFile) )\n",
    "    # open the file containing data\n",
    "    stream = data_dir + '/record' + str(loop) + '.bin'\n",
    "    fd = open(stream,'rb')\n",
    "    # get the data contained in the file ramp by ramp\n",
    "    dum = np.fromfile(fd, dtype = np.int16, count = numberOfSamplesToRead * 2)\n",
    "    timeSeries_A[fileNumber, :] = dum[ 0 : 2 * numberOfSamplesToRead : 2 ]\n",
    "    timeSeries_B[fileNumber, :] = dum[ 1 : 2 * numberOfSamplesToRead : 2 ]\n",
    "    \n",
    "    fileNumber = fileNumber + 1\n",
    "    \n",
    "    fd.close()"
   ]
  },
  {
   "cell_type": "code",
   "execution_count": 89,
   "metadata": {
    "collapsed": true
   },
   "outputs": [],
   "source": [
    "plt.figure()\n",
    "for k in range(numberOfFiles):\n",
    "    plt.plot(timeSeries_A[k, :])"
   ]
  },
  {
   "cell_type": "code",
   "execution_count": 90,
   "metadata": {
    "collapsed": true
   },
   "outputs": [],
   "source": [
    "plt.figure()\n",
    "for k in range(numberOfFiles):\n",
    "    plt.plot(timeSeries_B[k, :])"
   ]
  },
  {
   "cell_type": "markdown",
   "metadata": {},
   "source": [
    "## Rebuild the data"
   ]
  },
  {
   "cell_type": "code",
   "execution_count": 123,
   "metadata": {},
   "outputs": [],
   "source": [
    "def readFile( filename, timeSerie_A, timeSerie_B ):\n",
    "    fd = open(filename,'rb')\n",
    "    \n",
    "    dum = np.fromfile(fd, dtype = np.int16)\n",
    "\n",
    "    timeSerie_A[:] = dum[ 0 : 2 * numberOfSamplesToRead : 2 ]\n",
    "    timeSerie_B[:] = dum[ 1 : 2 * numberOfSamplesToRead : 2 ]\n",
    "    \n",
    "    fd.close()"
   ]
  },
  {
   "cell_type": "markdown",
   "metadata": {},
   "source": [
    "### Check pulse duration in B channel data"
   ]
  },
  {
   "cell_type": "code",
   "execution_count": 124,
   "metadata": {
    "collapsed": true
   },
   "outputs": [],
   "source": [
    "timeSerie_A = np.zeros( numberOfSamplesToRead )\n",
    "timeSerie_B = np.zeros( numberOfSamplesToRead )"
   ]
  },
  {
   "cell_type": "code",
   "execution_count": 125,
   "metadata": {
    "collapsed": true
   },
   "outputs": [],
   "source": [
    "nbFilesToCheck = 11\n",
    "nbFilesToRebuild = 11\n",
    "threshold = 6000"
   ]
  },
  {
   "cell_type": "code",
   "execution_count": 126,
   "metadata": {},
   "outputs": [
    {
     "name": "stdout",
     "output_type": "stream",
     "text": [
      "file 84, pulseDuration =  1000\n",
      "file 90, pulseDuration =  1000\n",
      "file 96, pulseDuration =  1000\n",
      "file 102, pulseDuration =  1000\n",
      "file 108, pulseDuration =  1000\n",
      "file 114, pulseDuration =  1000\n",
      "file 120, pulseDuration =  1000\n",
      "file 126, pulseDuration =  1000\n",
      "file 132, pulseDuration =  1000\n",
      "file 138, pulseDuration =  1000\n",
      "file 144, pulseDuration =  1000\n"
     ]
    }
   ],
   "source": [
    "for k in range(nbFilesToCheck):\n",
    "    nb = str(int(k * blocksPerFile + firstFile))\n",
    "    readFile( data_dir + \"/record\" + nb +\".bin\", timeSerie_A, timeSerie_B )\n",
    "    pulseDuration = np.where(timeSerie_B > threshold)[0].shape[0]\n",
    "    print(\"file \" + str(nb) + \", pulseDuration =  \" + str(pulseDuration))"
   ]
  },
  {
   "cell_type": "markdown",
   "metadata": {},
   "source": [
    "### Check the triggers in the B channel data"
   ]
  },
  {
   "cell_type": "code",
   "execution_count": 127,
   "metadata": {},
   "outputs": [
    {
     "name": "stdout",
     "output_type": "stream",
     "text": [
      "file 84, threshold = [8998690]\n",
      "file 90, threshold = [8998606]\n",
      "file 96, threshold = [8998533]\n",
      "file 102, threshold = [8998465]\n",
      "file 108, threshold = [8998383]\n",
      "file 114, threshold = [8998290]\n",
      "file 120, threshold = [8998216]\n",
      "file 126, threshold = [8998130]\n",
      "file 132, threshold = [8998059]\n",
      "file 138, threshold = [8997974]\n",
      "file 144, threshold = [8997929]\n"
     ]
    }
   ],
   "source": [
    "for k in range(nbFilesToCheck):\n",
    "    nb = str(int(k * blocksPerFile + firstFile))\n",
    "    readFile( data_dir + \"/record\" + nb +\".bin\", timeSerie_A, timeSerie_B )\n",
    "    triggers = np.where( np.diff(timeSerie_B) > threshold )[0]\n",
    "    print(\"file \" + str(nb) + \", threshold = \" + str(triggers))"
   ]
  },
  {
   "cell_type": "markdown",
   "metadata": {},
   "source": [
    "### Rebuild the data files"
   ]
  },
  {
   "cell_type": "code",
   "execution_count": 128,
   "metadata": {
    "collapsed": true
   },
   "outputs": [],
   "source": [
    "timeSerie_C = np.zeros( samplesPerFile )\n",
    "timeSerie_D = np.zeros( samplesPerFile )"
   ]
  },
  {
   "cell_type": "code",
   "execution_count": 129,
   "metadata": {},
   "outputs": [
    {
     "name": "stdout",
     "output_type": "stream",
     "text": [
      "file 84, trigs = [8998690]\n",
      "file 90, trigs = [8998606]\n",
      "file 96, trigs = [8998533]\n",
      "file 102, trigs = [8998465]\n",
      "file 108, trigs = [8998383]\n",
      "file 114, trigs = [8998290]\n",
      "file 120, trigs = [8998216]\n",
      "file 126, trigs = [8998130]\n",
      "file 132, trigs = [8998059]\n",
      "file 138, trigs = [8997974]\n",
      "file 144, trigs = [8997929]\n"
     ]
    }
   ],
   "source": [
    "rebuilt_A = np.zeros((nbFilesToRebuild, samplesPerFile))\n",
    "rebuilt_B = np.zeros((nbFilesToRebuild, samplesPerFile))\n",
    "for k in range(11):\n",
    "    nb        = str( int( k     * blocksPerFile + firstFile) )\n",
    "    nb_plus_1 = str( int( (k+1) * blocksPerFile + firstFile) )\n",
    "    readFile( data_dir + \"/record\" + nb        +\".bin\", timeSerie_A, timeSerie_B )\n",
    "    readFile( data_dir + \"/record\" + nb_plus_1 +\".bin\", timeSerie_C, timeSerie_D )\n",
    "    trigs = np.where( np.diff(timeSerie_B) > threshold )[0]\n",
    "    trig = trigs[0] + 1\n",
    "\n",
    "    rebuilt_B[ k, 0 : samplesPerFile - trig ] = timeSerie_B[ trig : ]\n",
    "    rebuilt_B[ k, samplesPerFile - trig : ] = timeSerie_D[ 0 : trig ]\n",
    "    \n",
    "    rebuilt_A[ k, 0 : samplesPerFile - trig ] = timeSerie_A[ trig : ]\n",
    "    rebuilt_A[ k, samplesPerFile - trig : ] = timeSerie_C[ 0 : trig ]\n",
    "    \n",
    "    print(\"file \" + str(nb) + \", trigs = \" + str(trigs))"
   ]
  },
  {
   "cell_type": "code",
   "execution_count": 130,
   "metadata": {},
   "outputs": [],
   "source": [
    "for k in range(10):\n",
    "    plt.plot(rebuilt_A[k,0:6000])"
   ]
  },
  {
   "cell_type": "code",
   "execution_count": 131,
   "metadata": {},
   "outputs": [],
   "source": [
    "A_reshaped = rebuilt_A.reshape(nbFilesToRebuild * rampsPerFile, samplesPerRamp)\n",
    "B_reshaped = rebuilt_B.reshape(nbFilesToRebuild * rampsPerFile, samplesPerRamp)"
   ]
  },
  {
   "cell_type": "code",
   "execution_count": 132,
   "metadata": {},
   "outputs": [],
   "source": [
    "coupling_A = np.average(A_reshaped, 0)\n",
    "A_reshaped -= coupling_A"
   ]
  },
  {
   "cell_type": "code",
   "execution_count": 133,
   "metadata": {},
   "outputs": [],
   "source": [
    "for k in range(10):\n",
    "    plt.plot(A_reshaped[k,:])"
   ]
  },
  {
   "cell_type": "code",
   "execution_count": 134,
   "metadata": {
    "collapsed": true
   },
   "outputs": [],
   "source": [
    "ifft_a = np.fft.ifft( (A_reshaped[:,0:3000]), axis = 1 )"
   ]
  },
  {
   "cell_type": "code",
   "execution_count": 136,
   "metadata": {},
   "outputs": [
    {
     "data": {
      "text/plain": [
       "<matplotlib.image.AxesImage at 0x7f4b0d6e39e8>"
      ]
     },
     "execution_count": 136,
     "metadata": {},
     "output_type": "execute_result"
    }
   ],
   "source": [
    "plt.matshow( 20 * np.log10( np.abs( ifft_a[:,0:500] ) ), aspect='auto' )"
   ]
  },
  {
   "cell_type": "code",
   "execution_count": null,
   "metadata": {},
   "outputs": [],
   "source": [
    "plt.plot((A_reshaped - coupling_A)[:,0:3000])"
   ]
  },
  {
   "cell_type": "code",
   "execution_count": 137,
   "metadata": {},
   "outputs": [],
   "source": [
    "rd_a = np.fft.fft( ifft_a[:,0:500], axis = 0 )"
   ]
  },
  {
   "cell_type": "code",
   "execution_count": 139,
   "metadata": {},
   "outputs": [
    {
     "data": {
      "text/plain": [
       "<matplotlib.image.AxesImage at 0x7f4b23d8b4a8>"
      ]
     },
     "execution_count": 139,
     "metadata": {},
     "output_type": "execute_result"
    }
   ],
   "source": [
    "plt.matshow( 20 * np.log10( np.abs( rd_a ) ), aspect='auto' )"
   ]
  },
  {
   "cell_type": "code",
   "execution_count": 31,
   "metadata": {},
   "outputs": [
    {
     "data": {
      "text/plain": [
       "7.5"
      ]
     },
     "execution_count": 31,
     "metadata": {},
     "output_type": "execute_result"
    }
   ],
   "source": [
    "22500/3000"
   ]
  },
  {
   "cell_type": "code",
   "execution_count": 140,
   "metadata": {
    "collapsed": true
   },
   "outputs": [],
   "source": [
    "np.save('A_reshaped.npy', A_reshaped)"
   ]
  },
  {
   "cell_type": "code",
   "execution_count": null,
   "metadata": {
    "collapsed": true
   },
   "outputs": [],
   "source": []
  }
 ],
 "metadata": {
  "kernelspec": {
   "display_name": "Python 3",
   "language": "python",
   "name": "python3"
  },
  "language_info": {
   "codemirror_mode": {
    "name": "ipython",
    "version": 3
   },
   "file_extension": ".py",
   "mimetype": "text/x-python",
   "name": "python",
   "nbconvert_exporter": "python",
   "pygments_lexer": "ipython3",
   "version": "3.6.2"
  }
 },
 "nbformat": 4,
 "nbformat_minor": 2
}
