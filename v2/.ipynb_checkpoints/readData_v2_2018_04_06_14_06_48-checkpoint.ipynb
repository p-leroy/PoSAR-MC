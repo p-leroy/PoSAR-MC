{
 "cells": [
  {
   "cell_type": "code",
   "execution_count": 1,
   "metadata": {
    "collapsed": true
   },
   "outputs": [],
   "source": [
    "import numpy as np\n",
    "import matplotlib.pyplot as plt\n",
    "import matplotlib\n",
    "%matplotlib qt5"
   ]
  },
  {
   "cell_type": "code",
   "execution_count": 2,
   "metadata": {
    "collapsed": true
   },
   "outputs": [],
   "source": [
    "import sys"
   ]
  },
  {
   "cell_type": "code",
   "execution_count": 3,
   "metadata": {
    "collapsed": true
   },
   "outputs": [],
   "source": [
    "sys.path.insert(0, \"/home/pleroy/DEV/processing/focalization_python\")\n",
    "from posarutils.other.PosarMCParameters import *"
   ]
  },
  {
   "cell_type": "code",
   "execution_count": 4,
   "metadata": {
    "collapsed": true
   },
   "outputs": [],
   "source": [
    "data_date = \"2018_03_29_16_39_48\"\n",
    "data_dir = \"/home/pleroy/DATA/2018_03_mesures_de_couplage_v2/2018_03_28-29/\" + data_date"
   ]
  },
  {
   "cell_type": "code",
   "execution_count": 5,
   "metadata": {
    "collapsed": true
   },
   "outputs": [],
   "source": [
    "params_filename = data_dir + \"/\" + data_date + \"_parameters.xml\"\n",
    "params = PosarMCParameters_v2( params_filename )"
   ]
  },
  {
   "cell_type": "code",
   "execution_count": 6,
   "metadata": {
    "collapsed": true
   },
   "outputs": [],
   "source": [
    "samplesPerFile = params.rampsPerFile * params.samplesPerRamp"
   ]
  },
  {
   "cell_type": "code",
   "execution_count": 7,
   "metadata": {},
   "outputs": [
    {
     "name": "stdout",
     "output_type": "stream",
     "text": [
      "36000000\n"
     ]
    }
   ],
   "source": [
    "print(params.rampsPerFile * params.samplesPerRamp * 4)"
   ]
  },
  {
   "cell_type": "code",
   "execution_count": 8,
   "metadata": {
    "collapsed": true
   },
   "outputs": [],
   "source": [
    "loop = 0\n",
    "filename = data_dir + '/record' + str(loop) + '.bin'\n",
    "fd = open(filename,'rb')\n",
    "record_0 = np.fromfile(fd, dtype = np.uint16, count = params.rampsPerFile * params.samplesPerRamp * 2)\n",
    "record_0_0 = record_0[::2].reshape(int(params.rampsPerFile), params.samplesPerRamp)\n",
    "record_0_1 = record_0[1::2].reshape(int(params.rampsPerFile), params.samplesPerRamp)"
   ]
  },
  {
   "cell_type": "code",
   "execution_count": 9,
   "metadata": {
    "collapsed": true
   },
   "outputs": [],
   "source": [
    "data_reshaped = record_0_0.reshape(params.rampsPerFile, params.samplesPerRamp)"
   ]
  },
  {
   "cell_type": "code",
   "execution_count": 10,
   "metadata": {
    "collapsed": true
   },
   "outputs": [],
   "source": [
    "scalingFactor = 2 / 65535\n",
    "offset = -1"
   ]
  },
  {
   "cell_type": "code",
   "execution_count": 11,
   "metadata": {
    "collapsed": true
   },
   "outputs": [],
   "source": [
    "data_scaled = data_reshaped * scalingFactor + offset"
   ]
  },
  {
   "cell_type": "code",
   "execution_count": 13,
   "metadata": {
    "collapsed": true
   },
   "outputs": [],
   "source": [
    "font = { 'family' : 'sans-serif',\n",
    "        'weight' : 'bold',\n",
    "        'size'   : 12}\n",
    "\n",
    "matplotlib.rc('font', **font)"
   ]
  },
  {
   "cell_type": "code",
   "execution_count": 14,
   "metadata": {
    "collapsed": true
   },
   "outputs": [],
   "source": [
    "nbSamplesPerHalfRamp = int(params.samplesPerRamp/2)"
   ]
  },
  {
   "cell_type": "code",
   "execution_count": 15,
   "metadata": {
    "collapsed": true
   },
   "outputs": [],
   "source": [
    "fig, ax1 = plt.subplots()\n",
    "ax2 = ax1.twinx()\n",
    "\n",
    "ax1.plot(data_reshaped[0,:], color='b', label=data_date)\n",
    "ax1.set_ylabel('raw')\n",
    "ax1.legend()\n",
    "\n",
    "ax2.plot(data_scaled[0,:], color='b')\n",
    "ax2.set_ylabel('scaled [V]')\n",
    "    \n",
    "ax1.grid()"
   ]
  },
  {
   "cell_type": "code",
   "execution_count": 16,
   "metadata": {
    "collapsed": true
   },
   "outputs": [],
   "source": [
    "firstRamp = data_reshaped[0, 0:nbSamplesPerHalfRamp]\n",
    "firstRampScaled = firstRamp * scalingFactor + offset\n",
    "fft = np.fft.fft(firstRampScaled)"
   ]
  },
  {
   "cell_type": "code",
   "execution_count": 17,
   "metadata": {
    "collapsed": true
   },
   "outputs": [],
   "source": [
    "plt.figure()\n",
    "plt.plot(firstRampScaled, label=data_date)\n",
    "plt.legend()\n",
    "plt.grid()"
   ]
  },
  {
   "cell_type": "code",
   "execution_count": 18,
   "metadata": {},
   "outputs": [
    {
     "name": "stdout",
     "output_type": "stream",
     "text": [
      "max fft = 36.08 dB\n"
     ]
    }
   ],
   "source": [
    "max_fft = 20 * np.log10( np.abs( np.max(np.abs(fft)) ) )\n",
    "print(\"max fft = {:.2f} dB\".format(max_fft))"
   ]
  },
  {
   "cell_type": "code",
   "execution_count": 19,
   "metadata": {},
   "outputs": [
    {
     "data": {
      "text/plain": [
       "<matplotlib.legend.Legend at 0x7f8c7fefa208>"
      ]
     },
     "execution_count": 19,
     "metadata": {},
     "output_type": "execute_result"
    }
   ],
   "source": [
    "plt.figure()\n",
    "plt.plot(20*np.log10(np.abs(fft)), label=data_date)\n",
    "plt.grid()\n",
    "plt.legend()"
   ]
  },
  {
   "cell_type": "code",
   "execution_count": null,
   "metadata": {
    "collapsed": true
   },
   "outputs": [],
   "source": [
    "fft_cut = np.zeros(nbSamplesPerHalfRamp, dtype=complex)\n",
    "nbPointsToKeep = 10\n",
    "fft_cut[0:nbPointsToKeep] = fft[0:nbPointsToKeep]\n",
    "firstRampCut = np.real(np.fft.ifft(fft_cut))\n",
    "firstRampCutScaled = firstRampCut * scalingFactor + offset"
   ]
  },
  {
   "cell_type": "code",
   "execution_count": null,
   "metadata": {
    "collapsed": true
   },
   "outputs": [],
   "source": [
    "fig1, ax1 = plt.subplots()\n",
    "two_scales(ax1, firstRampCut, firstRampCutScaled, 'r', 'b')"
   ]
  },
  {
   "cell_type": "code",
   "execution_count": null,
   "metadata": {
    "collapsed": true
   },
   "outputs": [],
   "source": [
    "V = np.mean(firstRampScaled[0:]**2)**0.5\n",
    "print(\"V = {}\".format(V))"
   ]
  },
  {
   "cell_type": "code",
   "execution_count": null,
   "metadata": {
    "collapsed": true
   },
   "outputs": [],
   "source": [
    "P_mixerOut = 10 * np.log10(np.abs( V**2 / 50 ) ) + 30\n",
    "P_mixerIn = P_mixerOut + 5.5\n",
    "P_lnaIn = P_mixerIn - 28\n",
    "P_RFOut = 20\n",
    "coupling = P_lnaIn - P_RFOut\n",
    "print(\"P_mixerOut = {0:.2f} dBm\".format(P_mixerOut))\n",
    "print(\"P_mixerIn = {0:.2f} dBm\".format(P_mixerIn))\n",
    "print(\"P_lnaIn = {0:.2f} dBm\".format(P_lnaIn))\n",
    "print(\"P_RFOut = {0:.2f} dBm\".format(P_RFOut))\n",
    "print(\"coupling = {0:.2f} dB\".format(coupling))"
   ]
  },
  {
   "cell_type": "markdown",
   "metadata": {},
   "source": [
    "### Process timeStamps.data"
   ]
  },
  {
   "cell_type": "code",
   "execution_count": null,
   "metadata": {
    "collapsed": true
   },
   "outputs": [],
   "source": [
    "timeStampsFile = data_dir + \"/2017_10_10_11_49_09_timeStamps.data\"\n",
    "blockNumber, timeStamp = np.loadtxt( timeStampsFile, skiprows = 1, unpack=True )"
   ]
  }
 ],
 "metadata": {
  "kernelspec": {
   "display_name": "Python 3",
   "language": "python",
   "name": "python3"
  },
  "language_info": {
   "codemirror_mode": {
    "name": "ipython",
    "version": 3
   },
   "file_extension": ".py",
   "mimetype": "text/x-python",
   "name": "python",
   "nbconvert_exporter": "python",
   "pygments_lexer": "ipython3",
   "version": "3.6.4"
  }
 },
 "nbformat": 4,
 "nbformat_minor": 2
}
