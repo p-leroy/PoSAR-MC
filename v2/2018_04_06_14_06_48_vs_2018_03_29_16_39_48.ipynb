{
 "cells": [
  {
   "cell_type": "code",
   "execution_count": 2,
   "metadata": {
    "collapsed": true
   },
   "outputs": [],
   "source": [
    "import numpy as np\n",
    "import matplotlib.pyplot as plt\n",
    "import matplotlib\n",
    "%matplotlib qt5"
   ]
  },
  {
   "cell_type": "code",
   "execution_count": 3,
   "metadata": {
    "collapsed": true
   },
   "outputs": [],
   "source": [
    "import sys"
   ]
  },
  {
   "cell_type": "code",
   "execution_count": 4,
   "metadata": {
    "collapsed": true
   },
   "outputs": [],
   "source": [
    "sys.path.insert(0, \"/home/pleroy/DEV/processing/focalization_python\")\n",
    "from posarutils.other.PosarMCParameters import *"
   ]
  },
  {
   "cell_type": "code",
   "execution_count": 9,
   "metadata": {
    "collapsed": true
   },
   "outputs": [],
   "source": [
    "scalingFactor = 2 / 65535\n",
    "offset = -1"
   ]
  },
  {
   "cell_type": "markdown",
   "metadata": {},
   "source": [
    "### Read first set of data"
   ]
  },
  {
   "cell_type": "code",
   "execution_count": 31,
   "metadata": {},
   "outputs": [],
   "source": [
    "data_date_c = \"2018_03_29_16_39_48\"\n",
    "data_dir = \"/home/pleroy/DATA/PoSAR-MC_v2/2018_03_28-29/\" + data_date_c\n",
    "\n",
    "params_filename = data_dir + \"/\" + data_date_c + \"_parameters.xml\"\n",
    "params = PosarMCParameters_v2( params_filename )\n",
    "buffer_c = 0\n",
    "filename = data_dir + '/record' + str(buffer_c) + '.bin'\n",
    "fd = open(filename,'rb')\n",
    "record = np.fromfile(fd, dtype = np.uint16, count = params.rampsPerFile * params.samplesPerRamp * 2)\n",
    "record_0 = record[::2].reshape(int(params.rampsPerFile), params.samplesPerRamp)\n",
    "record_1 = record[1::2].reshape(int(params.rampsPerFile), params.samplesPerRamp)\n",
    "\n",
    "raw_c = record_0.reshape(params.rampsPerFile, params.samplesPerRamp)\n",
    "scaled_c = raw_c * scalingFactor + offset"
   ]
  },
  {
   "cell_type": "markdown",
   "metadata": {},
   "source": [
    "### Read parameters.xml"
   ]
  },
  {
   "cell_type": "code",
   "execution_count": 14,
   "metadata": {
    "collapsed": true
   },
   "outputs": [],
   "source": [
    "data_date = \"2018_04_06_14_06_48\"\n",
    "data_dir = \"/home/pleroy/DATA/PoSAR-v2_PIMA_TEST-1/\" + data_date"
   ]
  },
  {
   "cell_type": "code",
   "execution_count": 15,
   "metadata": {
    "collapsed": true
   },
   "outputs": [],
   "source": [
    "params_filename = data_dir + \"/\" + data_date + \"_parameters.xml\"\n",
    "params = PosarMCParameters_v2( params_filename )"
   ]
  },
  {
   "cell_type": "code",
   "execution_count": 16,
   "metadata": {
    "collapsed": true
   },
   "outputs": [],
   "source": [
    "samplesPerFile = params.rampsPerFile * params.samplesPerRamp"
   ]
  },
  {
   "cell_type": "code",
   "execution_count": 17,
   "metadata": {},
   "outputs": [
    {
     "name": "stdout",
     "output_type": "stream",
     "text": [
      "36000000\n"
     ]
    }
   ],
   "source": [
    "print(params.rampsPerFile * params.samplesPerRamp * 4)"
   ]
  },
  {
   "cell_type": "markdown",
   "metadata": {},
   "source": [
    "### Process timeStamps.data"
   ]
  },
  {
   "cell_type": "code",
   "execution_count": 18,
   "metadata": {
    "collapsed": true
   },
   "outputs": [],
   "source": [
    "timeStampsFile = data_dir + \"/\" + data_date + \"_timeStamps.data\"\n",
    "blockNumber, timeStamp = np.loadtxt( timeStampsFile, skiprows = 1, unpack=True )"
   ]
  },
  {
   "cell_type": "code",
   "execution_count": 19,
   "metadata": {},
   "outputs": [
    {
     "data": {
      "text/plain": [
       "<matplotlib.legend.Legend at 0x7fc7f408b668>"
      ]
     },
     "execution_count": 19,
     "metadata": {},
     "output_type": "execute_result"
    }
   ],
   "source": [
    "plt.figure()\n",
    "plt.suptitle(data_date)\n",
    "\n",
    "plt.subplot(211)\n",
    "plt.plot( blockNumber, timeStamp, '.', label=\"timeStamps\" )\n",
    "plt.grid()\n",
    "plt.legend()\n",
    "\n",
    "plt.subplot(212)\n",
    "plt.plot( np.diff(timeStamp[1:]/1000), '.', label=\"diff timeStamps\" )\n",
    "plt.grid()\n",
    "plt.legend()"
   ]
  },
  {
   "cell_type": "markdown",
   "metadata": {},
   "source": [
    "### Read second set of data"
   ]
  },
  {
   "cell_type": "code",
   "execution_count": 20,
   "metadata": {
    "collapsed": true
   },
   "outputs": [],
   "source": [
    "firstFileIsFull = 1"
   ]
  },
  {
   "cell_type": "code",
   "execution_count": 21,
   "metadata": {},
   "outputs": [],
   "source": [
    "buffer_a = 0\n",
    "filename_a = data_dir + '/record' + str(buffer_a) + '.bin'\n",
    "fd_a = open(filename_a,'rb')\n",
    "if firstFileIsFull == 1:\n",
    "    rampsToRead = params.rampsPerFile\n",
    "else:\n",
    "    rampsToRead = int(params.rampsPerFile / 2)\n",
    "record_a = np.fromfile(fd_a, dtype = np.uint16, count = rampsToRead * params.samplesPerRamp * 2)\n",
    "record_a_0 = record_a[::2].reshape(rampsToRead, params.samplesPerRamp)\n",
    "record_a_1 = record_a[1::2].reshape(rampsToRead, params.samplesPerRamp)\n",
    "\n",
    "buffer_b = 442\n",
    "filename_b = data_dir + '/record' + str(buffer_b) + '.bin'\n",
    "fd_b = open(filename_b,'rb')\n",
    "record_b = np.fromfile(fd_b, dtype = np.uint16, count = params.rampsPerFile * params.samplesPerRamp * 2)\n",
    "record_b_0 = record_b[::2].reshape(params.rampsPerFile, params.samplesPerRamp)\n",
    "record_b_1 = record_b[1::2].reshape(params.rampsPerFile, params.samplesPerRamp)"
   ]
  },
  {
   "cell_type": "code",
   "execution_count": 22,
   "metadata": {
    "collapsed": true
   },
   "outputs": [],
   "source": [
    "raw_a = record_a_0.reshape(rampsToRead, params.samplesPerRamp)\n",
    "raw_b = record_b_0.reshape(params.rampsPerFile, params.samplesPerRamp)"
   ]
  },
  {
   "cell_type": "code",
   "execution_count": 24,
   "metadata": {},
   "outputs": [],
   "source": [
    "scaled_a = raw_a * scalingFactor + offset\n",
    "scaled_b = raw_b * scalingFactor + offset"
   ]
  },
  {
   "cell_type": "markdown",
   "metadata": {},
   "source": [
    "### Plot data"
   ]
  },
  {
   "cell_type": "code",
   "execution_count": 25,
   "metadata": {
    "collapsed": true
   },
   "outputs": [],
   "source": [
    "font = { 'family' : 'sans-serif',\n",
    "        'weight' : 'bold',\n",
    "        'size'   : 12}\n",
    "\n",
    "matplotlib.rc('font', **font)"
   ]
  },
  {
   "cell_type": "code",
   "execution_count": 32,
   "metadata": {},
   "outputs": [],
   "source": [
    "fig, ax1 = plt.subplots()\n",
    "ax2 = ax1.twinx()\n",
    "\n",
    "ax1.plot(raw_a[0,:], color='b', label = str(buffer_a) + ' ' + data_date)\n",
    "ax1.plot(raw_c[0,:], color='g', label = str(buffer_c) + ' ' + data_date_c)\n",
    "ax1.set_ylabel('raw')\n",
    "ax1.legend()\n",
    "\n",
    "ax2.plot(scaled_a[0,:], color='b', label = str(buffer_a) + ' ' + data_date)\n",
    "ax2.plot(scaled_c[0,:], color='g', label = str(buffer_c) + ' ' + data_date_c)\n",
    "ax2.set_ylabel('scaled [V]')\n",
    "    \n",
    "ax1.grid()"
   ]
  },
  {
   "cell_type": "markdown",
   "metadata": {},
   "source": [
    "### Plot spectrum"
   ]
  },
  {
   "cell_type": "code",
   "execution_count": 35,
   "metadata": {
    "collapsed": true
   },
   "outputs": [],
   "source": [
    "nbSamplesPerHalfRamp = int(params.samplesPerRamp/2)"
   ]
  },
  {
   "cell_type": "code",
   "execution_count": 36,
   "metadata": {},
   "outputs": [],
   "source": [
    "firstRamp = raw_a[0, 0:nbSamplesPerHalfRamp]\n",
    "firstRampScaled = firstRamp * scalingFactor + offset\n",
    "fft = np.fft.fft(firstRampScaled)\n",
    "\n",
    "firstRamp_b = raw_b[0, 0:nbSamplesPerHalfRamp]\n",
    "firstRampScaled_b = firstRamp_b * scalingFactor + offset\n",
    "fft_b = np.fft.fft(firstRampScaled_b)\n",
    "\n",
    "firstRamp_c = raw_c[0, 0:nbSamplesPerHalfRamp]\n",
    "firstRampScaled_c = firstRamp_c * scalingFactor + offset\n",
    "fft_c = np.fft.fft(firstRampScaled_c)"
   ]
  },
  {
   "cell_type": "code",
   "execution_count": 37,
   "metadata": {
    "collapsed": true
   },
   "outputs": [],
   "source": [
    "plt.figure()\n",
    "plt.plot(firstRampScaled, label=data_date)\n",
    "plt.plot(firstRampScaled_b, label=data_date)\n",
    "plt.plot(firstRampScaled_c, label=data_date)\n",
    "plt.legend()\n",
    "plt.grid()"
   ]
  },
  {
   "cell_type": "code",
   "execution_count": 38,
   "metadata": {},
   "outputs": [
    {
     "name": "stdout",
     "output_type": "stream",
     "text": [
      "max fft = 35.78 dB\n"
     ]
    }
   ],
   "source": [
    "max_fft = 20 * np.log10( np.abs( np.max(np.abs(fft)) ) )\n",
    "print(\"max fft = {:.2f} dB\".format(max_fft))"
   ]
  },
  {
   "cell_type": "code",
   "execution_count": 39,
   "metadata": {},
   "outputs": [
    {
     "data": {
      "text/plain": [
       "<matplotlib.legend.Legend at 0x7fc7c3ea76d8>"
      ]
     },
     "execution_count": 39,
     "metadata": {},
     "output_type": "execute_result"
    }
   ],
   "source": [
    "plt.figure()\n",
    "plt.plot(20*np.log10(np.abs(fft)), label=data_date)\n",
    "plt.plot(20*np.log10(np.abs(fft_b)), label=data_date)\n",
    "plt.plot(20*np.log10(np.abs(fft_c)), label=data_date_c)\n",
    "plt.grid()\n",
    "plt.legend()"
   ]
  },
  {
   "cell_type": "code",
   "execution_count": null,
   "metadata": {
    "collapsed": true
   },
   "outputs": [],
   "source": []
  }
 ],
 "metadata": {
  "kernelspec": {
   "display_name": "Python 3",
   "language": "python",
   "name": "python3"
  },
  "language_info": {
   "codemirror_mode": {
    "name": "ipython",
    "version": 3
   },
   "file_extension": ".py",
   "mimetype": "text/x-python",
   "name": "python",
   "nbconvert_exporter": "python",
   "pygments_lexer": "ipython3",
   "version": "3.6.4"
  }
 },
 "nbformat": 4,
 "nbformat_minor": 2
}
