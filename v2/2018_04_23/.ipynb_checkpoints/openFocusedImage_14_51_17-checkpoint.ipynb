{
 "cells": [
  {
   "cell_type": "code",
   "execution_count": null,
   "metadata": {},
   "outputs": [],
   "source": [
    "import numpy as np\n",
    "import matplotlib.pyplot as plt\n",
    "%matplotlib qt5"
   ]
  },
  {
   "cell_type": "code",
   "execution_count": null,
   "metadata": {},
   "outputs": [],
   "source": [
    "import posarutils.process.disp_PoSAR_img as disp\n",
    "from posarutils.process.disp_PoSAR_img import OPTt\n",
    "from posarutils.process.filtering import box_filter"
   ]
  },
  {
   "cell_type": "code",
   "execution_count": null,
   "metadata": {},
   "outputs": [],
   "source": [
    "def lineFromImExtent( imExtent ):\n",
    "    x0 = imExtent[0]\n",
    "    x1 = imExtent[1]\n",
    "    y0 = imExtent[2]\n",
    "    y1 = imExtent[3]\n",
    "    x = [x0, x1, x1, x0, x0]\n",
    "    y = [y0, y0, y1, y1, y0]\n",
    "    return (x, y)"
   ]
  },
  {
   "cell_type": "code",
   "execution_count": null,
   "metadata": {},
   "outputs": [],
   "source": [
    "def loadImageAndImExtent( data_dir, name, oldNaming=0 ):\n",
    "    imageFilename = data_dir + \"/\" + name\n",
    "    focusedImage = np.load( imageFilename )\n",
    "    \n",
    "    aux = imageFilename.split()\n",
    "    imExtent = [ float(aux[8]), float(aux[9]), float(aux[5]), float(aux[4]) ]\n",
    "    \n",
    "    return focusedImage, imExtent"
   ]
  },
  {
   "cell_type": "code",
   "execution_count": null,
   "metadata": {},
   "outputs": [],
   "source": [
    "data_dir = \"/home/pleroy/DATA/PoSAR-v2_PIMA_TEST-2/\"\n",
    "data_date = \"2018_04_23_14_51_17\"\n",
    "\n",
    "imageFilename0 = data_date + \" 0 149 GR -100.00 400.00 1.0 AZ -2000.0 1500.0 1.0 EL 90 PHI 5.93.npy\"\n",
    "image0, imExtent0 = loadImageAndImExtent( data_dir, imageFilename0 )\n",
    "imageFilename1 = data_date + \" 0 149 GR -100.00 400.00 1.0 AZ -2000.0 1500.0 1.0 EL 50 PHI 5.93.npy\"\n",
    "image1, imExtent1 = loadImageAndImExtent( data_dir, imageFilename1 )"
   ]
  },
  {
   "cell_type": "code",
   "execution_count": null,
   "metadata": {},
   "outputs": [],
   "source": [
    "track_proj = np.load( data_dir + \"/track_proj.npy\" )"
   ]
  },
  {
   "cell_type": "code",
   "execution_count": null,
   "metadata": {},
   "outputs": [],
   "source": [
    "def addFocusedImage( ax, image, imExtent, vmin, vmax , contourColor=\"w\", cmap=\"jet\" ):\n",
    "    plt.imshow( 20 * np.log10( box_filter( np.abs( image.T ), 2 ) ),\n",
    "           cmap=cmap, vmin=vmin, vmax=vmax, extent=imExtent )\n",
    "    contour = lineFromImExtent( imExtent )\n",
    "    plt.plot( contour[0], contour[1], contourColor )"
   ]
  },
  {
   "cell_type": "code",
   "execution_count": null,
   "metadata": {},
   "outputs": [],
   "source": [
    "idx = np.where( image0 != 0 )\n",
    "\n",
    "med_dyn = 10\n",
    "\n",
    "eps = np.finfo(dtype=float).eps\n",
    "dispIm = 20 * np.log10( np.abs( image0 ) + eps )\n",
    "med = np.median( dispIm[idx] )\n",
    "vmin = np.amin( dispIm[idx] )\n",
    "vmax = np.amax( dispIm[idx] )\n",
    "\n",
    "#dispIm = np.minimum( np.maximum( dispIm, med - med_dyn / 2 ), med + med_dyn / 2 )\n",
    "\n",
    "print( \"vmin = {:.2f}, vmax = {:.2f}, med = {:.2f}\".format( vmin, vmax, med ) )\n",
    "\n",
    "posMin = np.where( dispIm == vmin )\n",
    "posMax = np.where( dispIm == vmax )\n",
    "\n",
    "print( \"posMin = {}, posMax = {}\".format( posMin, posMax) )"
   ]
  },
  {
   "cell_type": "code",
   "execution_count": null,
   "metadata": {},
   "outputs": [],
   "source": [
    "vmin = -10\n",
    "vmax = 10\n",
    "                \n",
    "cmap = 'jet'\n",
    "labelsize = 15\n",
    "\n",
    "fig = plt.figure()\n",
    "\n",
    "#plt.imshow( 20 * np.log10( box_filter( np.abs( image0.T ), 1 ) ),\n",
    "#           cmap=cmap, vmin=vmin, vmax=vmax, extent=imExtent0 )\n",
    "\n",
    "vmin_lin = 0\n",
    "vmax_lin = 5\n",
    "\n",
    "################\n",
    "################\n",
    "plt.subplot(211)\n",
    "\n",
    "plt.imshow( box_filter( np.abs( image0.T ), 2 ),\n",
    "           cmap=cmap, vmin=vmin_lin, vmax=vmax_lin, extent=imExtent0 )\n",
    "\n",
    "ax = plt.gca()\n",
    "\n",
    "xlim, ylim = plt.xlim(), plt.ylim()\n",
    "\n",
    "#addFocusedImage( ax, image7, imExtent7, vmin, vmax, cmap=cmap )\n",
    "\n",
    "plt.plot( track_proj[:,0], track_proj[:,1], '-k' )\n",
    "\n",
    "ax.set_xlim( xlim )\n",
    "ax.set_ylim( ylim )\n",
    "ax.invert_xaxis()\n",
    "ax.xaxis.tick_top()\n",
    "ax.yaxis.tick_right()\n",
    "ax.tick_params(labelsize=labelsize)\n",
    "\n",
    "#plt.grid()\n",
    "cbar = plt.colorbar(orientation=\"horizontal\")\n",
    "ax = plt.gca()\n",
    "cbar.ax.tick_params(labelsize=labelsize) \n",
    "\n",
    "################\n",
    "################\n",
    "plt.subplot(212)\n",
    "\n",
    "plt.imshow( box_filter( np.abs( image1.T ), 2 ),\n",
    "           cmap=cmap, vmin=vmin_lin, vmax=vmax_lin, extent=imExtent0 )\n",
    "\n",
    "ax = plt.gca()\n",
    "\n",
    "xlim, ylim = plt.xlim(), plt.ylim()\n",
    "\n",
    "#addFocusedImage( ax, image7, imExtent7, vmin, vmax, cmap=cmap )\n",
    "\n",
    "plt.plot( track_proj[:,0], track_proj[:,1], '-k' )\n",
    "\n",
    "ax.set_xlim( xlim )\n",
    "ax.set_ylim( ylim )\n",
    "ax.invert_xaxis()\n",
    "ax.xaxis.tick_top()\n",
    "ax.yaxis.tick_right()\n",
    "ax.tick_params(labelsize=labelsize)\n",
    "\n",
    "#plt.grid()\n",
    "cbar = plt.colorbar(orientation=\"horizontal\")\n",
    "ax = plt.gca()\n",
    "cbar.ax.tick_params(labelsize=labelsize) \n",
    "\n",
    "fig.tight_layout()"
   ]
  },
  {
   "cell_type": "code",
   "execution_count": null,
   "metadata": {},
   "outputs": [],
   "source": [
    "dispIm.shape"
   ]
  },
  {
   "cell_type": "code",
   "execution_count": null,
   "metadata": {},
   "outputs": [],
   "source": [
    "plt.figure()\n",
    "plt.plot( dispIm[250, :] )"
   ]
  },
  {
   "cell_type": "code",
   "execution_count": null,
   "metadata": {},
   "outputs": [],
   "source": []
  }
 ],
 "metadata": {
  "kernelspec": {
   "display_name": "Python 3",
   "language": "python",
   "name": "python3"
  },
  "language_info": {
   "codemirror_mode": {
    "name": "ipython",
    "version": 3
   },
   "file_extension": ".py",
   "mimetype": "text/x-python",
   "name": "python",
   "nbconvert_exporter": "python",
   "pygments_lexer": "ipython3",
   "version": "3.6.4"
  }
 },
 "nbformat": 4,
 "nbformat_minor": 2
}
