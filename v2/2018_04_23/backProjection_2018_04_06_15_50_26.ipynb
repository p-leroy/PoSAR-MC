{
 "cells": [
  {
   "cell_type": "code",
   "execution_count": 1,
   "metadata": {},
   "outputs": [],
   "source": [
    "import numpy as np\n",
    "import matplotlib.pyplot as plt\n",
    "import scipy.signal as signal\n",
    "%matplotlib qt5\n",
    "eps = np.finfo(float).eps"
   ]
  },
  {
   "cell_type": "code",
   "execution_count": 2,
   "metadata": {},
   "outputs": [],
   "source": [
    "import sys\n",
    "import time"
   ]
  },
  {
   "cell_type": "markdown",
   "metadata": {},
   "source": [
    "### Load backprojection library"
   ]
  },
  {
   "cell_type": "code",
   "execution_count": 3,
   "metadata": {},
   "outputs": [],
   "source": [
    "sys.path.insert(0, \"/home/pleroy/DEV/processing/PoSAR-MC/backprojection\")"
   ]
  },
  {
   "cell_type": "code",
   "execution_count": 4,
   "metadata": {},
   "outputs": [],
   "source": [
    "from loadbackprojection import *"
   ]
  },
  {
   "cell_type": "code",
   "execution_count": 5,
   "metadata": {},
   "outputs": [],
   "source": [
    "libraryFilename = \"/home/pleroy/DEV/processing/PoSAR-MC/backprojection/ccpp/libbackprojection/liblibbackprojection.so\""
   ]
  },
  {
   "cell_type": "code",
   "execution_count": 6,
   "metadata": {},
   "outputs": [],
   "source": [
    "lib = LibBackProjection( libraryFilename )"
   ]
  },
  {
   "cell_type": "markdown",
   "metadata": {},
   "source": [
    "### Load other tools"
   ]
  },
  {
   "cell_type": "code",
   "execution_count": 7,
   "metadata": {},
   "outputs": [],
   "source": [
    "sys.path.insert(0, \"/home/pleroy/DEV/processing/focalization_python\")"
   ]
  },
  {
   "cell_type": "code",
   "execution_count": 8,
   "metadata": {},
   "outputs": [],
   "source": [
    "import posarutils.process.disp_PoSAR_img as disp\n",
    "from posarutils.process.disp_PoSAR_img import OPTt\n",
    "from posarutils.process.filtering import box_filter"
   ]
  },
  {
   "cell_type": "markdown",
   "metadata": {},
   "source": [
    "### Load parameters specific to the dataset"
   ]
  },
  {
   "cell_type": "code",
   "execution_count": 9,
   "metadata": {},
   "outputs": [],
   "source": [
    "from rsc.datasetconfig import *\n",
    "#from rsc.datasetconfig_2018_04_06_14_59_14 import *\n",
    "\n",
    "%load_ext autoreload\n",
    "%autoreload 2"
   ]
  },
  {
   "cell_type": "code",
   "execution_count": 10,
   "metadata": {},
   "outputs": [],
   "source": [
    "withPlots = 0"
   ]
  },
  {
   "cell_type": "markdown",
   "metadata": {},
   "source": [
    "## Read parameters from the XML file"
   ]
  },
  {
   "cell_type": "code",
   "execution_count": 11,
   "metadata": {},
   "outputs": [],
   "source": [
    "from posarutils.other.PosarMCParameters import *"
   ]
  },
  {
   "cell_type": "code",
   "execution_count": 13,
   "metadata": {},
   "outputs": [],
   "source": [
    "data_date = \"2018_04_23_15_50_26\"\n",
    "data_dir = \"/home/pleroy/DATA/PoSAR-v2_PIMA_TEST-2/\" + data_date"
   ]
  },
  {
   "cell_type": "code",
   "execution_count": 14,
   "metadata": {},
   "outputs": [],
   "source": [
    "params_filename = data_dir + \"/\" + data_date + \"_parameters.xml\"\n",
    "params = PosarMCParameters_v2( params_filename )\n",
    "Tp = params.configuredTRamp / 1e6\n",
    "B0 = params.frequencyBand\n",
    "fs = params.samplingFrequency\n",
    "c = 3e8"
   ]
  },
  {
   "cell_type": "markdown",
   "metadata": {},
   "source": [
    "## Load the analytic signal"
   ]
  },
  {
   "cell_type": "code",
   "execution_count": 15,
   "metadata": {},
   "outputs": [],
   "source": [
    "firstFile = 0\n",
    "nbFiles = 181\n",
    "firstFile = 88\n",
    "nbFiles = 75\n",
    "lastFile = firstFile + nbFiles - 1\n",
    "firstRamp = firstFile * params.rampsPerFile\n",
    "lastRamp = lastFile * params.rampsPerFile\n",
    "RD1 = np.load( data_dir + '/RD_files_{}_{}.npy'.format( firstFile, lastFile ) )\n",
    "coupling = np.load( data_dir + '/coupling_RD_files_{}_{}.npy'.format( firstFile, lastFile ) )\n",
    "\n",
    "# remove coupling from RD1 to build RD2\n",
    "RD2 = RD1 - coupling\n",
    "nbPos = params.rampsPerFile * nbFiles"
   ]
  },
  {
   "cell_type": "code",
   "execution_count": 16,
   "metadata": {},
   "outputs": [],
   "source": [
    "if withPlots == 1:\n",
    "    plt.figure()\n",
    "    plt.plot(np.abs(coupling))\n",
    "    plt.grid()"
   ]
  },
  {
   "cell_type": "markdown",
   "metadata": {},
   "source": [
    "## Load antenna positions"
   ]
  },
  {
   "cell_type": "code",
   "execution_count": 17,
   "metadata": {},
   "outputs": [
    {
     "name": "stdout",
     "output_type": "stream",
     "text": [
      "xa_mean = -1170.31, ya_mean = -206.35, za_mean = 390.95\n"
     ]
    }
   ],
   "source": [
    "# load positions for all ramps\n",
    "filename = data_dir + \"/rampNumber_timeStamp_xyz.npy\"\n",
    "xyz = np.load( filename )\n",
    "xa = xyz[:,2]\n",
    "ya = xyz[:,3]\n",
    "za = xyz[:,4]\n",
    "xa_mean = np.mean(xa)\n",
    "ya_mean = np.mean(ya)\n",
    "za_mean = np.mean(za)\n",
    "print( \"xa_mean = {:.2f}, ya_mean = {:.2f}, za_mean = {:.2f}\".format( xa_mean, ya_mean, za_mean ) )\n",
    "\n",
    "# load scene elements coordinates\n",
    "runaway_proj = np.load( data_dir + \"/runaway_proj.npy\" )\n",
    "hangar_proj = np.load( data_dir + \"/hangar_proj.npy\" )\n",
    "building_proj = np.load( data_dir + \"/building_proj.npy\" )\n",
    "track_proj = np.load( data_dir + \"/track_proj.npy\" )\n",
    "track_selection_proj = np.load( data_dir + \"/track_selection_proj.npy\" )\n",
    "cornerReflectorLarge_proj = np.load( data_dir + \"/cornerReflectorLarge_proj.npy\" )\n",
    "cornerReflectorSmall_proj = np.load( data_dir + \"/cornerReflectorSmall_proj.npy\" )"
   ]
  },
  {
   "cell_type": "code",
   "execution_count": 18,
   "metadata": {},
   "outputs": [
    {
     "name": "stdout",
     "output_type": "stream",
     "text": [
      "RD1.shape = (112500, 1500), xyz.shape = (246000, 5)\n"
     ]
    }
   ],
   "source": [
    "print( \"RD1.shape = {}, xyz.shape = {}\".format( RD1.shape, xyz.shape ) )"
   ]
  },
  {
   "cell_type": "code",
   "execution_count": 19,
   "metadata": {
    "scrolled": true
   },
   "outputs": [],
   "source": [
    "if withPlots == 1:\n",
    "    plt.figure()\n",
    "\n",
    "    title = data_date + \" selection {} to {}\".format( firstFile, lastFile )\n",
    "    \n",
    "    plt.suptitle( title )\n",
    "\n",
    "    plt.subplot(221)\n",
    "    plt.plot(xyz[:, 1], xyz[:, 2], label=\"x \")\n",
    "    plt.plot(xyz[firstRamp:lastRamp, 1], xyz[firstRamp:lastRamp, 2], 'orange', label=\"x selection\")\n",
    "    plt.grid()\n",
    "    plt.legend()\n",
    "\n",
    "    plt.subplot(222)\n",
    "    plt.plot(xyz[:, 1], xyz[:, 3], label=\"y \")\n",
    "    plt.plot(xyz[firstRamp:lastRamp, 1], xyz[firstRamp:lastRamp, 3], 'orange', label=\"y selection\")\n",
    "    plt.grid()\n",
    "    plt.legend()\n",
    "\n",
    "    plt.subplot(223)\n",
    "    plt.plot(xyz[:, 1], xyz[:, 4], label=\"z \")\n",
    "    plt.plot(xyz[firstRamp:lastRamp, 1], xyz[firstRamp:lastRamp, 4], 'orange', label=\"z selection\")\n",
    "    plt.grid()\n",
    "    plt.legend()\n",
    "\n",
    "    plt.subplot(224)\n",
    "    plt.plot(xyz[:, 2], xyz[:, 3], label=\"xy \")\n",
    "    plt.plot(xyz[firstRamp:lastRamp, 2], xyz[firstRamp:lastRamp, 3], 'orange', label=\"xy (selection)\")\n",
    "    ax = plt.gca()\n",
    "    ax.invert_xaxis()\n",
    "    ax.invert_yaxis()\n",
    "    ax.xaxis.tick_top()\n",
    "    ax.yaxis.tick_right()\n",
    "    plt.grid()\n",
    "    plt.legend()\n",
    "    \n",
    "    plt.savefig( data_dir + \"/\" + title + \".png\", bbox_inches='tight')"
   ]
  },
  {
   "cell_type": "markdown",
   "metadata": {},
   "source": [
    "## Focalization"
   ]
  },
  {
   "cell_type": "code",
   "execution_count": 20,
   "metadata": {},
   "outputs": [],
   "source": [
    "RD = np.fft.ifftshift(RD2, 1)"
   ]
  },
  {
   "cell_type": "markdown",
   "metadata": {},
   "source": [
    "### Compute the aperture angle to have a specified resolution in azimuth"
   ]
  },
  {
   "cell_type": "code",
   "execution_count": 21,
   "metadata": {},
   "outputs": [
    {
     "name": "stdout",
     "output_type": "stream",
     "text": [
      "phi_a = 60.000, dx = 0.026\n",
      "phi_a = 20.000, dx = 0.074\n",
      "phi_a2 = 1.482, dx2 = 1.000\n",
      "phi_a3 = 5.930, dx3 = 0.250\n"
     ]
    }
   ],
   "source": [
    "# dx = lambda_c / (4 * sin( phi_a / 2 )) => phi_a = 2 * asin( lambda_c / (4 * dx))\n",
    "lambda_c = 3e8 / 5.8e9\n",
    "\n",
    "phi_a = 60 * np.pi / 180\n",
    "dx = lambda_c / (4 * np.sin( phi_a / 2 ))\n",
    "print( \"phi_a = {:.3f}, dx = {:.3f}\".format(phi_a * 180 / np.pi, dx) )\n",
    "\n",
    "phi = 20 * np.pi / 180\n",
    "dx = lambda_c / (4 * np.sin( phi / 2 ))\n",
    "print( \"phi_a = {:.3f}, dx = {:.3f}\".format(phi * 180 / np.pi, dx) )\n",
    "\n",
    "dx2 = 1\n",
    "phi_a2 = 2 * np.arcsin( lambda_c / (4 * dx2) )\n",
    "print( \"phi_a2 = {:.3f}, dx2 = {:.3f}\".format(phi_a2 * 180 / np.pi, dx2) )\n",
    "\n",
    "dx3 = 0.25\n",
    "phi_a3 = 2 * np.arcsin( lambda_c / (4 * dx3) )\n",
    "print( \"phi_a3 = {:.3f}, dx3 = {:.3f}\".format(phi_a3 * 180 / np.pi, dx3) )"
   ]
  },
  {
   "cell_type": "markdown",
   "metadata": {},
   "source": [
    "### Define the geometry of the scene"
   ]
  },
  {
   "cell_type": "code",
   "execution_count": 22,
   "metadata": {},
   "outputs": [
    {
     "name": "stdout",
     "output_type": "stream",
     "text": [
      "d.shape = (717,), d_min = 319.19, d_max = 677.19\n",
      "Ground range\n"
     ]
    }
   ],
   "source": [
    "groundRange = 1 # 0 => slant range, 1 => ground range\n",
    "\n",
    "# building\n",
    "x_min = -750\n",
    "x_max = -700\n",
    "r_min = -40\n",
    "r_max = 40\n",
    "\n",
    "# corners\n",
    "x_min = 180\n",
    "x_max = 195\n",
    "r_min = 90\n",
    "r_max = 130\n",
    "\n",
    "# corners\n",
    "x_min = 180\n",
    "x_max = 195\n",
    "y_min = 90\n",
    "y_max = 130\n",
    "\n",
    "# pools\n",
    "x_min = -2000\n",
    "x_max = -1700\n",
    "y_min = -100\n",
    "y_max = 250\n",
    "\n",
    "# whole scene\n",
    "x_min = -2000\n",
    "x_max = 1500\n",
    "y_min = -100\n",
    "y_max = 400\n",
    "\n",
    "# runaway\n",
    "x_min = -100\n",
    "x_max = 500\n",
    "y_min = -100\n",
    "y_max = 400\n",
    "\n",
    "hScene = 90\n",
    "\n",
    "d_x = 0.5 # 0.1\n",
    "d_y = 0.5 # 0.1\n",
    "\n",
    "x = np.arange( x_min, x_max + d_x, d_x )\n",
    "x = x.reshape( x.size )\n",
    "\n",
    "# compute the distance from the scene\n",
    "d_min = ( (ya_mean - y_min)**2 + (za_mean - hScene)**2 )**0.5\n",
    "d_max = ( (ya_mean - y_max)**2 + (za_mean - hScene)**2 )**0.5\n",
    "d = np.arange( d_min, d_max + d_y, d_y )\n",
    "print(\"d.shape = {}, d_min = {:.2f}, d_max = {:.2f}\".format(d.shape, np.amin(d), np.amax(d)))\n",
    "\n",
    "#extent=[horizontal_min,horizontal_max,vertical_min,vertical_max]\n",
    "if groundRange == 1:\n",
    "    print(\"Ground range\")\n",
    "    extent = [ y_min, y_max, x_max, x_min ]\n",
    "    im_extent = [ x_min, x_max, y_max, y_min ]\n",
    "    y = np.arange( y_min, y_max + d_y, d_y )\n",
    "else:\n",
    "    print(\"Slant range\")\n",
    "    extent = [ d_min, d_max, x_max, x_min ]\n",
    "    im_extent = [ x_min, x_max, d_max, d_min ]\n",
    "    y = ya_mean + ( d**2 - (za_mean-hScene)**2 )**0.5\n",
    "    \n",
    "y = y.reshape( y.size )"
   ]
  },
  {
   "cell_type": "code",
   "execution_count": 23,
   "metadata": {},
   "outputs": [
    {
     "data": {
      "text/plain": [
       "(1201, 1001)"
      ]
     },
     "execution_count": 23,
     "metadata": {},
     "output_type": "execute_result"
    }
   ],
   "source": [
    "x.size, y.size"
   ]
  },
  {
   "cell_type": "code",
   "execution_count": 24,
   "metadata": {},
   "outputs": [
    {
     "name": "stdout",
     "output_type": "stream",
     "text": [
      "Nf = 1500, Naz = 112500\n",
      "range from 0.00m to 1499.90m, resolution = 1.0m, oversampled = 0.1m, \n"
     ]
    }
   ],
   "source": [
    "sr = RD\n",
    "Naz = sr.shape[0]\n",
    "Nf = sr.shape[1]\n",
    "overSamplingRatio = 10\n",
    "Nover = overSamplingRatio * Nf\n",
    "rangeResolution = c / (2 * B0)\n",
    "r_base = np.arange( Nf ) * rangeResolution\n",
    "r_over = np.arange( Nover ) * rangeResolution / overSamplingRatio\n",
    "dr_over = r_over[1] - r_over[0]\n",
    "\n",
    "print( \"Nf = {}, Naz = {}\".format( Nf, Naz ) )\n",
    "print( \"range from {:.2f}m to {:.2f}m, resolution = {}m, oversampled = {}m, \".format(\n",
    "    r_over[0], r_over[-1], rangeResolution, rangeResolution / overSamplingRatio ) )"
   ]
  },
  {
   "cell_type": "code",
   "execution_count": 25,
   "metadata": {},
   "outputs": [],
   "source": [
    "lib.reload()"
   ]
  },
  {
   "cell_type": "code",
   "execution_count": 26,
   "metadata": {},
   "outputs": [],
   "source": [
    "myParameters = MyParameters()\n",
    "myParameters.Nx = x.size\n",
    "myParameters.Ny = y.size\n",
    "myParameters.Nover = r_over.size\n",
    "myParameters.dx = dr_over\n",
    "myParameters.Naz = Naz\n",
    "myParameters.Nf = Nf\n",
    "myParameters.hScene = hScene\n",
    "\n",
    "# resolution in azimuth\n",
    "# 1.482° => 1m\n",
    "# 60° => 2.6cm\n",
    "# 20° => 7.4cm\n",
    "# 5.930° => 25cm\n",
    "myParameters.phi_a_deg = 20"
   ]
  },
  {
   "cell_type": "code",
   "execution_count": 27,
   "metadata": {},
   "outputs": [
    {
     "name": "stdout",
     "output_type": "stream",
     "text": [
      "img.shape = (1201, 1001)\n",
      "execution time = 4602.620374917984\n"
     ]
    }
   ],
   "source": [
    "t = time.time()\n",
    "\n",
    "imgGroundRange  = np.zeros( (x.size, y.size), dtype=complex )\n",
    "print( \"img.shape = {}\".format( imgGroundRange.shape ) )\n",
    "\n",
    "xyz_alt = xyz[firstRamp:, :]\n",
    "\n",
    "lib.so.backProjectionOmpGroundRange( x, y, r_over,\n",
    "                                    sr.reshape(sr.size),\n",
    "                                    xyz_alt.reshape(xyz_alt.size), \n",
    "                                    imgGroundRange.reshape(imgGroundRange.size),\n",
    "                                    myParameters)\n",
    "\n",
    "elapsed = time.time() - t\n",
    "print(\"execution time = \" + str(elapsed))"
   ]
  },
  {
   "cell_type": "code",
   "execution_count": 28,
   "metadata": {},
   "outputs": [
    {
     "name": "stdout",
     "output_type": "stream",
     "text": [
      "min_dB = -28.08, max_dB = 59.66, med_dB = 33.22\n"
     ]
    }
   ],
   "source": [
    "min_dB = np.amin( 20 * np.log10(np.abs(imgGroundRange)) )\n",
    "max_dB = np.amax( 20 * np.log10(np.abs(imgGroundRange)) )\n",
    "med_dB = np.median( 20 * np.log10(np.abs(imgGroundRange)) )\n",
    "print(\"min_dB = {:.2f}, max_dB = {:.2f}, med_dB = {:.2f}\".format(min_dB, max_dB, med_dB))"
   ]
  },
  {
   "cell_type": "code",
   "execution_count": 29,
   "metadata": {},
   "outputs": [
    {
     "name": "stdout",
     "output_type": "stream",
     "text": [
      "db 1\n",
      "mod 0\n",
      "med_dyn 30\n",
      "cmap jet\n",
      "title 2018_04_23_15_50_26\n",
      "d_x = 0.5, d_y = 0.5, elevation = 90, \\phi = 20.0\n",
      "\n"
     ]
    }
   ],
   "source": [
    "opt = OPTt()\n",
    "\n",
    "opt.db = 1\n",
    "opt.mod = 0\n",
    "opt.med_dyn = 30\n",
    "opt.title = data_date + \\\n",
    "\"\\nd_x = {}, d_y = {}, elevation = {}, \\phi = {}\\n\".format( d_x, d_y, hScene, myParameters.phi_a_deg )\n",
    "\n",
    "disp.disp_PoSAR_img( imgGroundRange.T, opt, x, 0, im_extent, cmap = 'jet' )\n",
    "\n",
    "plt.plot( runaway_proj[:,0], runaway_proj[:,1], 'k' )\n",
    "plt.plot( hangar_proj[:,0], hangar_proj[:,1], 'k' )\n",
    "plt.plot( building_proj[:,0], building_proj[:,1], 'k' )\n",
    "\n",
    "plt.plot( track_selection_proj[:,0], track_selection_proj[:,1], 'Dy', markeredgecolor='k' )\n",
    "\n",
    "plt.grid()"
   ]
  },
  {
   "cell_type": "code",
   "execution_count": 30,
   "metadata": {},
   "outputs": [],
   "source": [
    "cmap = 'gray'"
   ]
  },
  {
   "cell_type": "code",
   "execution_count": 37,
   "metadata": {},
   "outputs": [
    {
     "name": "stdout",
     "output_type": "stream",
     "text": [
      "im.shape = (1001, 1201)\n"
     ]
    }
   ],
   "source": [
    "plt.figure()\n",
    "\n",
    "plt.imshow( 20 * np.log10( box_filter( np.abs( imgGroundRange.T ), 1 ) ), extent = im_extent, cmap=cmap )\n",
    "#plt.plot( x[2195], y[258], 'Dr', markeredgecolor='k' )\n",
    "#plt.plot( x[2357], y[211], 'Dg', markeredgecolor='k' )\n",
    "\n",
    "plt.colorbar()\n",
    "ax = plt.gca()\n",
    "ax.invert_xaxis()\n",
    "ax.xaxis.tick_top()\n",
    "ax.yaxis.tick_right()"
   ]
  },
  {
   "cell_type": "code",
   "execution_count": 43,
   "metadata": {},
   "outputs": [
    {
     "name": "stdout",
     "output_type": "stream",
     "text": [
      "im.shape = (1001, 1201)\n"
     ]
    }
   ],
   "source": [
    "vmin = 20\n",
    "vmax = 50\n",
    "                \n",
    "labelsize = 15\n",
    "\n",
    "fig = plt.figure()\n",
    "\n",
    "plt.imshow( 20 * np.log10( box_filter( np.abs( imgGroundRange.T ), 2 ) ), \n",
    "           extent=im_extent, cmap=cmap, vmin=vmin, vmax=vmax  )\n",
    "#plt.plot( x[2195], y[258], 'Dr', markeredgecolor='k' )\n",
    "#plt.plot( x[2357], y[211], 'Dg', markeredgecolor='k' )\n",
    "\n",
    "plt.colorbar()\n",
    "ax = plt.gca()\n",
    "ax.invert_xaxis()\n",
    "ax.xaxis.tick_top()\n",
    "ax.yaxis.tick_right()"
   ]
  },
  {
   "cell_type": "markdown",
   "metadata": {},
   "source": [
    "# Save focused image"
   ]
  },
  {
   "cell_type": "code",
   "execution_count": 33,
   "metadata": {},
   "outputs": [
    {
     "name": "stdout",
     "output_type": "stream",
     "text": [
      "/2018_04_23_15_50_26 88 162 GR -100.00 400.00 0.5 AZ -100.0 500.0 0.5 EL 90 PHI 20.0\n"
     ]
    }
   ],
   "source": [
    "if groundRange == 1: # [0] ground range, [1] slant range\n",
    "    focusedImageFilename = \"/\" + data_date \\\n",
    "    + \" {} {} GR {:.2f} {:.2f} {} AZ {} {} {} EL {} PHI {}\".format( \n",
    "        firstFile, lastFile,\n",
    "        y[0], y[-1], d_y, \n",
    "        x[0], x[-1], d_x, \n",
    "        hScene,\n",
    "        myParameters.phi_a_deg)\n",
    "else:\n",
    "    focusedImageFilename = \"/\" + data_date \\\n",
    "    + \" {} {} SR {:.2f} {:.2f} {} AZ {} {} {} EL {} PHI {}\".format( \n",
    "        firstFile, lastFile,\n",
    "        y[0], y[-1], d_y, \n",
    "        x[0], x[-1], d_x, \n",
    "        hScene,\n",
    "        myParameters.phi_a_deg)\n",
    "    \n",
    "print( focusedImageFilename )"
   ]
  },
  {
   "cell_type": "code",
   "execution_count": 34,
   "metadata": {},
   "outputs": [],
   "source": [
    "np.save( data_dir + focusedImageFilename, imgGroundRange )"
   ]
  },
  {
   "cell_type": "markdown",
   "metadata": {},
   "source": [
    "# Save image as png"
   ]
  },
  {
   "cell_type": "code",
   "execution_count": 35,
   "metadata": {},
   "outputs": [
    {
     "name": "stdout",
     "output_type": "stream",
     "text": [
      "im.shape = (1001, 1201)\n"
     ]
    }
   ],
   "source": [
    "plt.imsave( data_dir + focusedImageFilename + \".png\",\n",
    "           20 * np.log10( box_filter( np.abs( np.flip( imgGroundRange.T, 1 ) ), 2 ) ), \n",
    "           cmap=\"gray\" )"
   ]
  },
  {
   "cell_type": "code",
   "execution_count": null,
   "metadata": {},
   "outputs": [],
   "source": []
  }
 ],
 "metadata": {
  "kernelspec": {
   "display_name": "Python 3",
   "language": "python",
   "name": "python3"
  },
  "language_info": {
   "codemirror_mode": {
    "name": "ipython",
    "version": 3
   },
   "file_extension": ".py",
   "mimetype": "text/x-python",
   "name": "python",
   "nbconvert_exporter": "python",
   "pygments_lexer": "ipython3",
   "version": "3.6.4"
  }
 },
 "nbformat": 4,
 "nbformat_minor": 2
}
