{
 "cells": [
  {
   "cell_type": "code",
   "execution_count": 1,
   "metadata": {},
   "outputs": [],
   "source": [
    "import numpy as np\n",
    "import matplotlib.pyplot as plt\n",
    "%matplotlib qt5"
   ]
  },
  {
   "cell_type": "code",
   "execution_count": 2,
   "metadata": {},
   "outputs": [],
   "source": [
    "import sys"
   ]
  },
  {
   "cell_type": "code",
   "execution_count": 3,
   "metadata": {},
   "outputs": [],
   "source": [
    "sys.path.insert(0, \"/home/pleroy/DEV/processing/focalization_python\")\n",
    "from posarutils.other.PosarMCParameters import *"
   ]
  },
  {
   "cell_type": "code",
   "execution_count": 4,
   "metadata": {},
   "outputs": [],
   "source": [
    "import posarutils.process.disp_PoSAR_img as disp\n",
    "from posarutils.process.disp_PoSAR_img import OPTt\n",
    "from posarutils.process.filtering import box_filter"
   ]
  },
  {
   "cell_type": "code",
   "execution_count": 5,
   "metadata": {},
   "outputs": [],
   "source": [
    "def lineFromImExtent( imExtent ):\n",
    "    x0 = imExtent[0]\n",
    "    x1 = imExtent[1]\n",
    "    y0 = imExtent[2]\n",
    "    y1 = imExtent[3]\n",
    "    x = [x0, x1, x1, x0, x0]\n",
    "    y = [y0, y0, y1, y1, y0]\n",
    "    return (x, y)"
   ]
  },
  {
   "cell_type": "code",
   "execution_count": 6,
   "metadata": {},
   "outputs": [],
   "source": [
    "def loadImageAndImExtent( data_dir, name, oldNaming=0 ):\n",
    "    imageFilename = data_dir + \"/\" + name\n",
    "    focusedImage = np.load( imageFilename )\n",
    "    \n",
    "    aux = imageFilename.split()\n",
    "    imExtent = [ float(aux[8]), float(aux[9]), float(aux[5]), float(aux[4]) ]\n",
    "    \n",
    "    return focusedImage, imExtent"
   ]
  },
  {
   "cell_type": "code",
   "execution_count": 7,
   "metadata": {},
   "outputs": [],
   "source": [
    "##########\n",
    "# 14_51_17\n",
    "data_dir = \"/home/pleroy/DATA/PoSAR-v2_PIMA_TEST-2/2018_04_23_14_51_17\"\n",
    "data_date_a = \"2018_04_23_14_51_17\"\n",
    "\n",
    "imageFilename0 = data_date_a + \" 0 180 GR -100.00 400.00 0.5 AZ -2000.0 1500.0 0.5 EL 90 PHI 20.0.npy\"\n",
    "image0, imExtent0 = loadImageAndImExtent( data_dir, imageFilename0 )\n",
    "\n",
    "imageFilename1 = data_date_a + \" 82 172 GR -100.00 400.00 0.5 AZ -100.0 500.0 0.5 EL 90 PHI 20.0.npy\"\n",
    "image1, imExtent1 = loadImageAndImExtent( data_dir, imageFilename1 )\n",
    "\n",
    "##########\n",
    "# 15_33_03\n",
    "data_dir = \"/home/pleroy/DATA/PoSAR-v2_PIMA_TEST-2/2018_04_23_15_33_03\"\n",
    "data_date_b = \"2018_04_23_15_33_03\"\n",
    "\n",
    "imageFilename3 = data_date_b + \" 37 69 GR -100.00 400.00 0.5 AZ -100.0 500.0 0.5 EL 90 PHI 20.0.npy\"\n",
    "image3, imExtent3 = loadImageAndImExtent( data_dir, imageFilename3 )\n",
    "\n",
    "imageFilename4 = data_date_b + \" 0 70 GR -100.00 400.00 0.5 AZ -2500.0 1000.0 0.5 EL 90 PHI 20.0.npy\"\n",
    "image4, imExtent4 = loadImageAndImExtent( data_dir, imageFilename4 )"
   ]
  },
  {
   "cell_type": "code",
   "execution_count": 8,
   "metadata": {},
   "outputs": [],
   "source": [
    "track_proj = np.load( data_dir + \"/track_proj.npy\" )"
   ]
  },
  {
   "cell_type": "code",
   "execution_count": 9,
   "metadata": {},
   "outputs": [],
   "source": [
    "def addFocusedImage( ax, image, imExtent, vmin, vmax , contourColor=\"w\", cmap=\"jet\" ):\n",
    "    plt.imshow( 20 * np.log10( box_filter( np.abs( image.T ), 2 ) ),\n",
    "           cmap=cmap, vmin=vmin, vmax=vmax, extent=imExtent )\n",
    "    contour = lineFromImExtent( imExtent )\n",
    "    plt.plot( contour[0], contour[1], contourColor )"
   ]
  },
  {
   "cell_type": "code",
   "execution_count": 10,
   "metadata": {},
   "outputs": [
    {
     "name": "stdout",
     "output_type": "stream",
     "text": [
      "vmin = -51.68, vmax = 48.63, med = 12.39\n",
      "posMin = (array([2342]), array([670])), posMax = (array([2568]), array([241]))\n"
     ]
    }
   ],
   "source": [
    "idx = np.where( image0 != 0 )\n",
    "\n",
    "med_dyn = 10\n",
    "\n",
    "eps = np.finfo(dtype=float).eps\n",
    "dispIm = 20 * np.log10( np.abs( image0 ) + eps )\n",
    "med = np.median( dispIm[idx] )\n",
    "vmin = np.amin( dispIm[idx] )\n",
    "vmax = np.amax( dispIm[idx] )\n",
    "\n",
    "#dispIm = np.minimum( np.maximum( dispIm, med - med_dyn / 2 ), med + med_dyn / 2 )\n",
    "\n",
    "print( \"vmin = {:.2f}, vmax = {:.2f}, med = {:.2f}\".format( vmin, vmax, med ) )\n",
    "\n",
    "posMin = np.where( dispIm == vmin )\n",
    "posMax = np.where( dispIm == vmax )\n",
    "\n",
    "print( \"posMin = {}, posMax = {}\".format( posMin, posMax) )"
   ]
  },
  {
   "cell_type": "code",
   "execution_count": 12,
   "metadata": {},
   "outputs": [
    {
     "name": "stdout",
     "output_type": "stream",
     "text": [
      "im.shape = (1001, 7001)\n",
      "im.shape = (1001, 7001)\n"
     ]
    }
   ],
   "source": [
    "cmap = 'gray'\n",
    "labelsize = 15\n",
    "\n",
    "fig = plt.figure()\n",
    "\n",
    "#===============\n",
    "plt.subplot(121, title=data_date_a+\" Tramp = 600us\")\n",
    "\n",
    "plt.imshow( 20 * np.log10( box_filter( np.abs( image1.T ), 2 ) ),\n",
    "           cmap=cmap, extent=imExtent1 )\n",
    "\n",
    "ax = plt.gca()\n",
    "\n",
    "xlim, ylim = plt.xlim(), plt.ylim()\n",
    "\n",
    "#ax.set_xlim( xlim )\n",
    "#ax.set_ylim( ylim )\n",
    "#ax.invert_xaxis()\n",
    "#ax.xaxis.tick_top()\n",
    "#ax.yaxis.tick_right()\n",
    "ax.tick_params(labelsize=labelsize)\n",
    "\n",
    "#plt.grid()\n",
    "cbar = plt.colorbar(orientation=\"horizontal\")\n",
    "ax = plt.gca()\n",
    "cbar.ax.tick_params(labelsize=labelsize) \n",
    "\n",
    "#===============\n",
    "plt.subplot(122, sharex=ax, sharey=ax, title=data_date_b+\" Tramp = 1200us\")\n",
    "\n",
    "plt.imshow( 20 * np.log10( box_filter( np.abs( image3.T ), 2 ) ),\n",
    "           cmap=cmap, extent=imExtent3 )\n",
    "\n",
    "ax = plt.gca()\n",
    "ax.set_xlim( xlim )\n",
    "ax.set_ylim( ylim )\n",
    "ax.invert_xaxis()\n",
    "#ax.xaxis.tick_top()\n",
    "#ax.yaxis.tick_right()\n",
    "ax.tick_params(labelsize=labelsize)\n",
    "\n",
    "cbar = plt.colorbar(orientation=\"horizontal\")\n",
    "ax = plt.gca()\n",
    "cbar.ax.tick_params(labelsize=labelsize) \n",
    "\n",
    "fig.tight_layout()"
   ]
  },
  {
   "cell_type": "markdown",
   "metadata": {},
   "source": [
    "### Compare 14_51_17  and 15_33_03"
   ]
  },
  {
   "cell_type": "code",
   "execution_count": 18,
   "metadata": {},
   "outputs": [
    {
     "name": "stdout",
     "output_type": "stream",
     "text": [
      "im.shape = (1001, 7001)\n",
      "im.shape = (1001, 7001)\n"
     ]
    }
   ],
   "source": [
    "cmap = 'gray'\n",
    "labelsize = 15\n",
    "\n",
    "fig = plt.figure()\n",
    "\n",
    "#===============\n",
    "plt.subplot(211, title=data_date_a+\" Tramp = 600us\")\n",
    "\n",
    "plt.imshow( 20 * np.log10( box_filter( np.abs( image0.T ), 2 ) ),\n",
    "           cmap=cmap, extent=imExtent0 )\n",
    "\n",
    "ax = plt.gca()\n",
    "\n",
    "xlim, ylim = plt.xlim(), plt.ylim()\n",
    "\n",
    "#ax.set_xlim( xlim )\n",
    "#ax.set_ylim( ylim )\n",
    "#ax.invert_xaxis()\n",
    "#ax.xaxis.tick_top()\n",
    "#ax.yaxis.tick_right()\n",
    "ax.tick_params(labelsize=labelsize)\n",
    "\n",
    "#plt.grid()\n",
    "cbar = plt.colorbar(orientation=\"horizontal\")\n",
    "ax = plt.gca()\n",
    "cbar.ax.tick_params(labelsize=labelsize) \n",
    "\n",
    "#===============\n",
    "plt.subplot(212, sharex=ax, sharey=ax, title=data_date_b+\" Tramp = 1200us\")\n",
    "\n",
    "plt.imshow( 20 * np.log10( box_filter( np.abs( image4.T ), 2 ) ),\n",
    "           cmap=cmap, extent=imExtent4 )\n",
    "\n",
    "ax = plt.gca()\n",
    "ax.set_xlim( -2000.0, 1000.0 )\n",
    "ax.set_ylim( ylim )\n",
    "ax.invert_xaxis()\n",
    "#ax.xaxis.tick_top()\n",
    "#ax.yaxis.tick_right()\n",
    "ax.tick_params(labelsize=labelsize)\n",
    "\n",
    "cbar = plt.colorbar(orientation=\"horizontal\")\n",
    "ax = plt.gca()\n",
    "cbar.ax.tick_params(labelsize=labelsize) \n",
    "\n",
    "fig.tight_layout()"
   ]
  },
  {
   "cell_type": "code",
   "execution_count": 21,
   "metadata": {},
   "outputs": [
    {
     "name": "stdout",
     "output_type": "stream",
     "text": [
      "im.shape = (1001, 7001)\n"
     ]
    },
    {
     "data": {
      "text/plain": [
       "[<matplotlib.lines.Line2D at 0x7fdae0d87780>]"
      ]
     },
     "execution_count": 21,
     "metadata": {},
     "output_type": "execute_result"
    }
   ],
   "source": [
    "plt.figure()\n",
    "plt.plot( 20 * np.log10( box_filter( np.abs( image4.T ), 2 ) )[500,:] )"
   ]
  },
  {
   "cell_type": "code",
   "execution_count": 15,
   "metadata": {},
   "outputs": [
    {
     "data": {
      "text/plain": [
       "(-2000.0, 1500.0)"
      ]
     },
     "execution_count": 15,
     "metadata": {},
     "output_type": "execute_result"
    }
   ],
   "source": [
    "xlim"
   ]
  },
  {
   "cell_type": "code",
   "execution_count": null,
   "metadata": {},
   "outputs": [],
   "source": []
  }
 ],
 "metadata": {
  "kernelspec": {
   "display_name": "Python 3",
   "language": "python",
   "name": "python3"
  },
  "language_info": {
   "codemirror_mode": {
    "name": "ipython",
    "version": 3
   },
   "file_extension": ".py",
   "mimetype": "text/x-python",
   "name": "python",
   "nbconvert_exporter": "python",
   "pygments_lexer": "ipython3",
   "version": "3.6.4"
  }
 },
 "nbformat": 4,
 "nbformat_minor": 2
}
