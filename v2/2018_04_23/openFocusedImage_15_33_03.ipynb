{
 "cells": [
  {
   "cell_type": "code",
   "execution_count": 1,
   "metadata": {},
   "outputs": [],
   "source": [
    "import numpy as np\n",
    "import matplotlib.pyplot as plt\n",
    "%matplotlib qt5"
   ]
  },
  {
   "cell_type": "code",
   "execution_count": 2,
   "metadata": {},
   "outputs": [],
   "source": [
    "import sys"
   ]
  },
  {
   "cell_type": "code",
   "execution_count": 3,
   "metadata": {},
   "outputs": [],
   "source": [
    "sys.path.insert(0, \"/home/pleroy/DEV/processing/focalization_python\")\n",
    "from posarutils.other.PosarMCParameters import *"
   ]
  },
  {
   "cell_type": "code",
   "execution_count": 4,
   "metadata": {},
   "outputs": [],
   "source": [
    "import posarutils.process.disp_PoSAR_img as disp\n",
    "from posarutils.process.disp_PoSAR_img import OPTt\n",
    "from posarutils.process.filtering import box_filter"
   ]
  },
  {
   "cell_type": "code",
   "execution_count": 5,
   "metadata": {},
   "outputs": [],
   "source": [
    "def lineFromImExtent( imExtent ):\n",
    "    x0 = imExtent[0]\n",
    "    x1 = imExtent[1]\n",
    "    y0 = imExtent[2]\n",
    "    y1 = imExtent[3]\n",
    "    x = [x0, x1, x1, x0, x0]\n",
    "    y = [y0, y0, y1, y1, y0]\n",
    "    return (x, y)"
   ]
  },
  {
   "cell_type": "code",
   "execution_count": 6,
   "metadata": {},
   "outputs": [],
   "source": [
    "def loadImageAndImExtent( data_dir, name, oldNaming=0 ):\n",
    "    imageFilename = data_dir + \"/\" + name\n",
    "    focusedImage = np.load( imageFilename )\n",
    "    \n",
    "    aux = imageFilename.split()\n",
    "    imExtent = [ float(aux[8]), float(aux[9]), float(aux[5]), float(aux[4]) ]\n",
    "    \n",
    "    return focusedImage, imExtent"
   ]
  },
  {
   "cell_type": "code",
   "execution_count": 80,
   "metadata": {},
   "outputs": [],
   "source": [
    "##########\n",
    "# 15_33_03\n",
    "data_dir = \"/home/pleroy/DATA/PoSAR-v2_PIMA_TEST-2/2018_04_23_15_33_03\"\n",
    "data_date = \"2018_04_23_15_33_03\"\n",
    "\n",
    "imageFilename0 = data_date + \" 0 70 GR -100.00 400.00 0.5 AZ -100.0 500.0 0.5 EL 90 PHI 20.0 rampUp.npy\"\n",
    "image0, imExtent0 = loadImageAndImExtent( data_dir, imageFilename0 )\n",
    "\n",
    "imageFilename1 = data_date + \" 0 70 GR -100.00 400.00 0.5 AZ -100.0 500.0 0.5 EL 90 PHI 20.0 rampDown.npy\"\n",
    "image1, imExtent1 = loadImageAndImExtent( data_dir, imageFilename1 )\n",
    "\n",
    "imageFilename2 = data_date + \" 0 70 GR -100.00 400.00 0.5 AZ -100.0 500.0 0.5 EL 90 PHI 20.0 rampUp alt xyz.npy\"\n",
    "image2, imExtent2 = loadImageAndImExtent( data_dir, imageFilename2 )"
   ]
  },
  {
   "cell_type": "code",
   "execution_count": 16,
   "metadata": {},
   "outputs": [],
   "source": [
    "track_proj = np.load( data_dir + \"/track_proj.npy\" )"
   ]
  },
  {
   "cell_type": "code",
   "execution_count": 17,
   "metadata": {},
   "outputs": [],
   "source": [
    "def addFocusedImage( ax, image, imExtent, vmin, vmax , contourColor=\"w\", cmap=\"jet\" ):\n",
    "    plt.imshow( 20 * np.log10( box_filter( np.abs( image.T ), 2 ) ),\n",
    "           cmap=cmap, vmin=vmin, vmax=vmax, extent=imExtent )\n",
    "    contour = lineFromImExtent( imExtent )\n",
    "    plt.plot( contour[0], contour[1], contourColor )"
   ]
  },
  {
   "cell_type": "code",
   "execution_count": 18,
   "metadata": {},
   "outputs": [
    {
     "name": "stdout",
     "output_type": "stream",
     "text": [
      "vmin = -46.97, vmax = 43.91, med = 11.32\n",
      "posMin = (array([471]), array([923])), posMax = (array([593]), array([516]))\n"
     ]
    }
   ],
   "source": [
    "idx = np.where( image0 != 0 )\n",
    "\n",
    "med_dyn = 10\n",
    "\n",
    "eps = np.finfo(dtype=float).eps\n",
    "dispIm = 20 * np.log10( np.abs( image0 ) + eps )\n",
    "med = np.median( dispIm[idx] )\n",
    "vmin = np.amin( dispIm[idx] )\n",
    "vmax = np.amax( dispIm[idx] )\n",
    "\n",
    "#dispIm = np.minimum( np.maximum( dispIm, med - med_dyn / 2 ), med + med_dyn / 2 )\n",
    "\n",
    "print( \"vmin = {:.2f}, vmax = {:.2f}, med = {:.2f}\".format( vmin, vmax, med ) )\n",
    "\n",
    "posMin = np.where( dispIm == vmin )\n",
    "posMax = np.where( dispIm == vmax )\n",
    "\n",
    "print( \"posMin = {}, posMax = {}\".format( posMin, posMax) )"
   ]
  },
  {
   "cell_type": "code",
   "execution_count": 36,
   "metadata": {},
   "outputs": [],
   "source": [
    "cmap='gray'\n",
    "lablsize = 15"
   ]
  },
  {
   "cell_type": "markdown",
   "metadata": {},
   "source": [
    "## Compare rampUp rampDown"
   ]
  },
  {
   "cell_type": "code",
   "execution_count": 30,
   "metadata": {},
   "outputs": [
    {
     "name": "stdout",
     "output_type": "stream",
     "text": [
      "im.shape = (1001, 1201)\n",
      "im.shape = (1001, 1201)\n"
     ]
    }
   ],
   "source": [
    "fig = plt.figure()\n",
    "\n",
    "#===============\n",
    "plt.subplot(121, title = data_date + \"\\nTramp = 1200us rampUp\")\n",
    "\n",
    "plt.imshow( 20 * np.log10( box_filter( np.abs( image0.T ), 2 ) ),\n",
    "           cmap=cmap, extent=imExtent0 )\n",
    "\n",
    "ax = plt.gca()\n",
    "\n",
    "xlim, ylim = plt.xlim(), plt.ylim()\n",
    "\n",
    "#ax.set_xlim( xlim )\n",
    "#ax.set_ylim( ylim )\n",
    "#ax.invert_xaxis()\n",
    "#ax.xaxis.tick_top()\n",
    "#ax.yaxis.tick_right()\n",
    "ax.tick_params(labelsize=labelsize)\n",
    "\n",
    "#plt.grid()\n",
    "cbar = plt.colorbar(orientation=\"horizontal\")\n",
    "ax = plt.gca()\n",
    "cbar.ax.tick_params(labelsize=labelsize) \n",
    "\n",
    "#===============\n",
    "plt.subplot(122, sharex=ax, sharey=ax, title = data_date + \"\\nTramp = 1200us rampDown\")\n",
    "\n",
    "plt.imshow( 20 * np.log10( box_filter( np.abs( image1.T ), 2 ) ),\n",
    "           cmap=cmap, extent=imExtent1 )\n",
    "\n",
    "ax = plt.gca()\n",
    "ax.set_xlim( xlim )\n",
    "ax.set_ylim( ylim )\n",
    "ax.invert_xaxis()\n",
    "#ax.xaxis.tick_top()\n",
    "#ax.yaxis.tick_right()\n",
    "ax.tick_params(labelsize=labelsize)\n",
    "\n",
    "cbar = plt.colorbar(orientation=\"horizontal\")\n",
    "ax = plt.gca()\n",
    "cbar.ax.tick_params(labelsize=labelsize) \n",
    "\n",
    "fig.tight_layout()"
   ]
  },
  {
   "cell_type": "markdown",
   "metadata": {},
   "source": [
    "## Compare rampUp and rampUp with modified xyz"
   ]
  },
  {
   "cell_type": "code",
   "execution_count": 31,
   "metadata": {},
   "outputs": [
    {
     "name": "stdout",
     "output_type": "stream",
     "text": [
      "im.shape = (1001, 1201)\n",
      "im.shape = (1001, 1201)\n"
     ]
    }
   ],
   "source": [
    "fig = plt.figure()\n",
    "\n",
    "#===============\n",
    "plt.subplot(121, title = data_date + \"\\nTramp = 1200us rampUp\")\n",
    "\n",
    "plt.imshow( 20 * np.log10( box_filter( np.abs( image0.T ), 2 ) ),\n",
    "           cmap=cmap, extent=imExtent0 )\n",
    "\n",
    "ax = plt.gca()\n",
    "\n",
    "xlim, ylim = plt.xlim(), plt.ylim()\n",
    "\n",
    "#ax.set_xlim( xlim )\n",
    "#ax.set_ylim( ylim )\n",
    "#ax.invert_xaxis()\n",
    "#ax.xaxis.tick_top()\n",
    "#ax.yaxis.tick_right()\n",
    "ax.tick_params(labelsize=labelsize)\n",
    "\n",
    "#plt.grid()\n",
    "cbar = plt.colorbar(orientation=\"horizontal\")\n",
    "ax = plt.gca()\n",
    "cbar.ax.tick_params(labelsize=labelsize) \n",
    "\n",
    "#===============\n",
    "plt.subplot(122, sharex=ax, sharey=ax, title = data_date + \"\\nTramp = 1200us rampUp modified xyz\")\n",
    "\n",
    "plt.imshow( 20 * np.log10( box_filter( np.abs( image2.T ), 2 ) ),\n",
    "           cmap=cmap, extent=imExtent2 )\n",
    "\n",
    "ax = plt.gca()\n",
    "ax.set_xlim( xlim )\n",
    "ax.set_ylim( ylim )\n",
    "ax.invert_xaxis()\n",
    "#ax.xaxis.tick_top()\n",
    "#ax.yaxis.tick_right()\n",
    "ax.tick_params(labelsize=labelsize)\n",
    "\n",
    "cbar = plt.colorbar(orientation=\"horizontal\")\n",
    "ax = plt.gca()\n",
    "cbar.ax.tick_params(labelsize=labelsize) \n",
    "\n",
    "plt.tight_layout()"
   ]
  },
  {
   "cell_type": "markdown",
   "metadata": {},
   "source": [
    "## Compare rampDown and rampUp with modified xyz"
   ]
  },
  {
   "cell_type": "code",
   "execution_count": 33,
   "metadata": {},
   "outputs": [
    {
     "name": "stdout",
     "output_type": "stream",
     "text": [
      "im.shape = (1001, 1201)\n",
      "im.shape = (1001, 1201)\n"
     ]
    }
   ],
   "source": [
    "fig = plt.figure()\n",
    "\n",
    "#===============\n",
    "plt.subplot(121, title = data_date + \"\\nTramp = 1200us rampUp modified xyz\")\n",
    "\n",
    "plt.imshow( 20 * np.log10( box_filter( np.abs( image2.T ), 2 ) ),\n",
    "           cmap=cmap, extent=imExtent2 )\n",
    "\n",
    "ax = plt.gca()\n",
    "\n",
    "xlim, ylim = plt.xlim(), plt.ylim()\n",
    "\n",
    "#ax.set_xlim( xlim )\n",
    "#ax.set_ylim( ylim )\n",
    "#ax.invert_xaxis()\n",
    "#ax.xaxis.tick_top()\n",
    "#ax.yaxis.tick_right()\n",
    "ax.tick_params(labelsize=labelsize)\n",
    "\n",
    "#plt.grid()\n",
    "cbar = plt.colorbar(orientation=\"horizontal\")\n",
    "ax = plt.gca()\n",
    "cbar.ax.tick_params(labelsize=labelsize) \n",
    "\n",
    "#===============\n",
    "plt.subplot(122, sharex=ax, sharey=ax, title = data_date + \"\\nTramp = 1200us rampDown\")\n",
    "\n",
    "plt.imshow( 20 * np.log10( box_filter( np.abs( image1.T ), 2 ) ),\n",
    "           cmap=cmap, extent=imExtent1 )\n",
    "\n",
    "ax = plt.gca()\n",
    "ax.set_xlim( xlim )\n",
    "ax.set_ylim( ylim )\n",
    "ax.invert_xaxis()\n",
    "#ax.xaxis.tick_top()\n",
    "#ax.yaxis.tick_right()\n",
    "ax.tick_params(labelsize=labelsize)\n",
    "\n",
    "cbar = plt.colorbar(orientation=\"horizontal\")\n",
    "ax = plt.gca()\n",
    "cbar.ax.tick_params(labelsize=labelsize) \n",
    "\n",
    "plt.tight_layout()"
   ]
  },
  {
   "cell_type": "code",
   "execution_count": 81,
   "metadata": {},
   "outputs": [
    {
     "name": "stdout",
     "output_type": "stream",
     "text": [
      "im.shape = (1001, 1201)\n",
      "im.shape = (1001, 1201)\n"
     ]
    }
   ],
   "source": [
    "plt.figure()\n",
    "plt.plot( 20 * np.log10( box_filter( np.abs( image1.T ), 2 ) )[500,:], label=\"image0\" )\n",
    "plt.plot( 20 * np.log10( box_filter( np.abs( image2.T ), 2 ) )[500,:], label=\"image2\" )\n",
    "plt.legend()\n",
    "plt.grid()"
   ]
  },
  {
   "cell_type": "markdown",
   "metadata": {},
   "source": [
    "## Along Track Interferometry"
   ]
  },
  {
   "cell_type": "code",
   "execution_count": 100,
   "metadata": {},
   "outputs": [],
   "source": [
    "abs_upNDown = np.sqrt( np.square(np.abs(image1.T)) + np.square(np.abs( image2.T)) )\n",
    "gamma_upNDown = image1.T * np.conj(image2.T)"
   ]
  },
  {
   "cell_type": "code",
   "execution_count": 74,
   "metadata": {},
   "outputs": [
    {
     "name": "stdout",
     "output_type": "stream",
     "text": [
      "im.shape = (1001, 1201)\n"
     ]
    }
   ],
   "source": [
    "plt.figure()\n",
    "plt.imshow( 20 * np.log10( box_filter( abs_upNDown,2 ) ), cmap=cmap, extent=imExtent1 )\n",
    "ax = plt.gca()\n",
    "ax.invert_xaxis()"
   ]
  },
  {
   "cell_type": "code",
   "execution_count": 91,
   "metadata": {},
   "outputs": [],
   "source": [
    "plt.figure()\n",
    "plt.imshow( 20 * np.log10( np.abs(gamma_upNDown) ), cmap='gray', extent=imExtent1 )\n",
    "ax = plt.gca()\n",
    "plt.colorbar()\n",
    "ax.invert_xaxis()"
   ]
  },
  {
   "cell_type": "code",
   "execution_count": 101,
   "metadata": {},
   "outputs": [],
   "source": [
    "plt.figure()\n",
    "plt.imshow( np.angle(gamma_upNDown), cmap='jet', extent=imExtent1 )\n",
    "ax = plt.gca()\n",
    "plt.colorbar()\n",
    "ax.invert_xaxis()"
   ]
  },
  {
   "cell_type": "code",
   "execution_count": 85,
   "metadata": {},
   "outputs": [
    {
     "data": {
      "text/plain": [
       "[<matplotlib.lines.Line2D at 0x7f14d433ad30>]"
      ]
     },
     "execution_count": 85,
     "metadata": {},
     "output_type": "execute_result"
    }
   ],
   "source": [
    "plt.figure()\n",
    "plt.plot(np.abs(gamma_upNDown[500,:]))"
   ]
  },
  {
   "cell_type": "code",
   "execution_count": 82,
   "metadata": {},
   "outputs": [
    {
     "data": {
      "text/plain": [
       "(1001, 1201)"
      ]
     },
     "execution_count": 82,
     "metadata": {},
     "output_type": "execute_result"
    }
   ],
   "source": [
    "gamma_upNDown.shape"
   ]
  },
  {
   "cell_type": "markdown",
   "metadata": {},
   "source": [
    "## Compare rampDown and rampUp + rampDown"
   ]
  },
  {
   "cell_type": "code",
   "execution_count": 53,
   "metadata": {},
   "outputs": [
    {
     "name": "stdout",
     "output_type": "stream",
     "text": [
      "im.shape = (1001, 1201)\n",
      "im.shape = (1001, 1201)\n"
     ]
    }
   ],
   "source": [
    "cmap = 'gray'\n",
    "labelsize = 15\n",
    "\n",
    "fig = plt.figure()\n",
    "\n",
    "#===============\n",
    "plt.subplot(121, title = data_date + \"\\nTramp = 1200us up and Down\")\n",
    "\n",
    "plt.imshow( 20 * np.log10( box_filter( abs_upNDown, 2 ) ),\n",
    "           cmap=cmap, extent=imExtent2 )\n",
    "\n",
    "ax = plt.gca()\n",
    "\n",
    "xlim, ylim = plt.xlim(), plt.ylim()\n",
    "\n",
    "#ax.set_xlim( xlim )\n",
    "#ax.set_ylim( ylim )\n",
    "#ax.invert_xaxis()\n",
    "#ax.xaxis.tick_top()\n",
    "#ax.yaxis.tick_right()\n",
    "ax.tick_params(labelsize=labelsize)\n",
    "\n",
    "#plt.grid()\n",
    "cbar = plt.colorbar(orientation=\"horizontal\")\n",
    "ax = plt.gca()\n",
    "cbar.ax.tick_params(labelsize=labelsize) \n",
    "\n",
    "#===============\n",
    "plt.subplot(122, sharex=ax, sharey=ax, title = data_date + \"\\nTramp = 1200us rampDown\")\n",
    "\n",
    "plt.imshow( 20 * np.log10( box_filter( np.abs( image1.T ), 2 ) ),\n",
    "           cmap=cmap, extent=imExtent1 )\n",
    "\n",
    "ax = plt.gca()\n",
    "ax.set_xlim( xlim )\n",
    "ax.set_ylim( ylim )\n",
    "ax.invert_xaxis()\n",
    "#ax.xaxis.tick_top()\n",
    "#ax.yaxis.tick_right()\n",
    "ax.tick_params(labelsize=labelsize)\n",
    "\n",
    "cbar = plt.colorbar(orientation=\"horizontal\")\n",
    "ax = plt.gca()\n",
    "cbar.ax.tick_params(labelsize=labelsize) \n",
    "\n",
    "plt.tight_layout()"
   ]
  },
  {
   "cell_type": "markdown",
   "metadata": {},
   "source": [
    "# FFT2"
   ]
  },
  {
   "cell_type": "code",
   "execution_count": 118,
   "metadata": {},
   "outputs": [],
   "source": [
    "window = np.hamming(image1.shape[1])"
   ]
  },
  {
   "cell_type": "code",
   "execution_count": 120,
   "metadata": {},
   "outputs": [],
   "source": [
    "fft1 = np.fft.fftshift( np.fft.fft(image1 * window, axis = 1), axes = 1 )"
   ]
  },
  {
   "cell_type": "code",
   "execution_count": 125,
   "metadata": {},
   "outputs": [
    {
     "data": {
      "text/plain": [
       "<matplotlib.colorbar.Colorbar at 0x7f14d45d1400>"
      ]
     },
     "execution_count": 125,
     "metadata": {},
     "output_type": "execute_result"
    }
   ],
   "source": [
    "plt.figure()\n",
    "vmin = 10\n",
    "vmax = 40\n",
    "plt.imshow( 20 * np.log10(np.abs(fft)), cmap='jet', extent=imExtent1, vmin=vmin, vmax=vmax )\n",
    "plt.colorbar()"
   ]
  },
  {
   "cell_type": "code",
   "execution_count": null,
   "metadata": {},
   "outputs": [],
   "source": []
  }
 ],
 "metadata": {
  "kernelspec": {
   "display_name": "Python 3",
   "language": "python",
   "name": "python3"
  },
  "language_info": {
   "codemirror_mode": {
    "name": "ipython",
    "version": 3
   },
   "file_extension": ".py",
   "mimetype": "text/x-python",
   "name": "python",
   "nbconvert_exporter": "python",
   "pygments_lexer": "ipython3",
   "version": "3.6.4"
  }
 },
 "nbformat": 4,
 "nbformat_minor": 2
}
