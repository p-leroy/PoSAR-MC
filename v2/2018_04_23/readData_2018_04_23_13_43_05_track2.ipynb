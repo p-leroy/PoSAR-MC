{
 "cells": [
  {
   "cell_type": "code",
   "execution_count": 1,
   "metadata": {},
   "outputs": [],
   "source": [
    "import numpy as np\n",
    "import matplotlib.pyplot as plt\n",
    "%matplotlib qt5"
   ]
  },
  {
   "cell_type": "code",
   "execution_count": 3,
   "metadata": {},
   "outputs": [],
   "source": [
    "import sys"
   ]
  },
  {
   "cell_type": "code",
   "execution_count": 4,
   "metadata": {},
   "outputs": [],
   "source": [
    "sys.path.insert(0, \"/home/pleroy/DEV/processing/PoSAR-MC\")\n",
    "from posarmctools.readdata import *"
   ]
  },
  {
   "cell_type": "code",
   "execution_count": 5,
   "metadata": {},
   "outputs": [],
   "source": [
    "%load_ext autoreload\n",
    "%autoreload 2"
   ]
  },
  {
   "cell_type": "code",
   "execution_count": 6,
   "metadata": {},
   "outputs": [],
   "source": [
    "sys.path.insert(0, \"/home/pleroy/DEV/processing/focalization_python\")\n",
    "from posarutils.other.read_data_and_build_rd import *\n",
    "from posarutils.other.PosarMCParameters import *"
   ]
  },
  {
   "cell_type": "code",
   "execution_count": 7,
   "metadata": {},
   "outputs": [],
   "source": [
    "data_date = \"2018_04_23_13_43_05\"\n",
    "data_dir = \"/home/pleroy/DATA/PoSAR-v2_PIMA_TEST-2/\" + data_date"
   ]
  },
  {
   "cell_type": "code",
   "execution_count": 8,
   "metadata": {},
   "outputs": [],
   "source": [
    "params_filename = data_dir + \"/\" + data_date + \"_parameters.xml\"\n",
    "params = PosarMCParameters_v2( params_filename )"
   ]
  },
  {
   "cell_type": "code",
   "execution_count": 9,
   "metadata": {},
   "outputs": [
    {
     "name": "stdout",
     "output_type": "stream",
     "text": [
      "buffersPerFile = 2, samplesPerRamp = 6000, rampsPerFile = 1500\n"
     ]
    }
   ],
   "source": [
    "buffersPerFile = params.buffersPerFile\n",
    "samplesPerRamp = params.samplesPerRamp\n",
    "rampsPerFile = params.rampsPerFile\n",
    "samplesPerFile = samplesPerRamp * rampsPerFile\n",
    "\n",
    "print( \"buffersPerFile = {}, samplesPerRamp = {}, rampsPerFile = {}\".format(\n",
    "    buffersPerFile, samplesPerRamp, rampsPerFile )\n",
    "     )\n",
    "\n",
    "# selection in record\n",
    "firstFile = 82\n",
    "nbFiles = 83\n",
    "lastFile = firstFile + nbFiles - 1\n",
    "firstBuffer = firstFile * buffersPerFile"
   ]
  },
  {
   "cell_type": "markdown",
   "metadata": {},
   "source": [
    "### Read the data"
   ]
  },
  {
   "cell_type": "code",
   "execution_count": 10,
   "metadata": {},
   "outputs": [],
   "source": [
    "scalingFactor = 2 / 65535\n",
    "offset = -32768"
   ]
  },
  {
   "cell_type": "code",
   "execution_count": 11,
   "metadata": {},
   "outputs": [],
   "source": [
    "timeSerie_A = np.zeros( samplesPerFile )\n",
    "timeSerie_B = np.zeros( samplesPerFile )\n",
    "\n",
    "adc_A = np.zeros( (nbFiles, samplesPerFile) )"
   ]
  },
  {
   "cell_type": "code",
   "execution_count": 12,
   "metadata": {},
   "outputs": [
    {
     "name": "stdout",
     "output_type": "stream",
     "text": [
      "k = 0, block = 164 / 328\n",
      "k = 1, block = 166 / 328\n",
      "k = 2, block = 168 / 328\n",
      "k = 3, block = 170 / 328\n",
      "k = 4, block = 172 / 328\n",
      "k = 5, block = 174 / 328\n",
      "k = 6, block = 176 / 328\n",
      "k = 7, block = 178 / 328\n",
      "k = 8, block = 180 / 328\n",
      "k = 9, block = 182 / 328\n",
      "k = 10, block = 184 / 328\n",
      "k = 11, block = 186 / 328\n",
      "k = 12, block = 188 / 328\n",
      "k = 13, block = 190 / 328\n",
      "k = 14, block = 192 / 328\n",
      "k = 15, block = 194 / 328\n",
      "k = 16, block = 196 / 328\n",
      "k = 17, block = 198 / 328\n",
      "k = 18, block = 200 / 328\n",
      "k = 19, block = 202 / 328\n",
      "k = 20, block = 204 / 328\n",
      "k = 21, block = 206 / 328\n",
      "k = 22, block = 208 / 328\n",
      "k = 23, block = 210 / 328\n",
      "k = 24, block = 212 / 328\n",
      "k = 25, block = 214 / 328\n",
      "k = 26, block = 216 / 328\n",
      "k = 27, block = 218 / 328\n",
      "k = 28, block = 220 / 328\n",
      "k = 29, block = 222 / 328\n",
      "k = 30, block = 224 / 328\n",
      "k = 31, block = 226 / 328\n",
      "k = 32, block = 228 / 328\n",
      "k = 33, block = 230 / 328\n",
      "k = 34, block = 232 / 328\n",
      "k = 35, block = 234 / 328\n",
      "k = 36, block = 236 / 328\n",
      "k = 37, block = 238 / 328\n",
      "k = 38, block = 240 / 328\n",
      "k = 39, block = 242 / 328\n",
      "k = 40, block = 244 / 328\n",
      "k = 41, block = 246 / 328\n",
      "k = 42, block = 248 / 328\n",
      "k = 43, block = 250 / 328\n",
      "k = 44, block = 252 / 328\n",
      "k = 45, block = 254 / 328\n",
      "k = 46, block = 256 / 328\n",
      "k = 47, block = 258 / 328\n",
      "k = 48, block = 260 / 328\n",
      "k = 49, block = 262 / 328\n",
      "k = 50, block = 264 / 328\n",
      "k = 51, block = 266 / 328\n",
      "k = 52, block = 268 / 328\n",
      "k = 53, block = 270 / 328\n",
      "k = 54, block = 272 / 328\n",
      "k = 55, block = 274 / 328\n",
      "k = 56, block = 276 / 328\n",
      "k = 57, block = 278 / 328\n",
      "k = 58, block = 280 / 328\n",
      "k = 59, block = 282 / 328\n",
      "k = 60, block = 284 / 328\n",
      "k = 61, block = 286 / 328\n",
      "k = 62, block = 288 / 328\n",
      "k = 63, block = 290 / 328\n",
      "k = 64, block = 292 / 328\n",
      "k = 65, block = 294 / 328\n",
      "k = 66, block = 296 / 328\n",
      "k = 67, block = 298 / 328\n",
      "k = 68, block = 300 / 328\n",
      "k = 69, block = 302 / 328\n",
      "k = 70, block = 304 / 328\n",
      "k = 71, block = 306 / 328\n",
      "k = 72, block = 308 / 328\n",
      "k = 73, block = 310 / 328\n",
      "k = 74, block = 312 / 328\n",
      "k = 75, block = 314 / 328\n",
      "k = 76, block = 316 / 328\n",
      "k = 77, block = 318 / 328\n",
      "k = 78, block = 320 / 328\n",
      "k = 79, block = 322 / 328\n",
      "k = 80, block = 324 / 328\n",
      "k = 81, block = 326 / 328\n",
      "k = 82, block = 328 / 328\n"
     ]
    }
   ],
   "source": [
    "lastBuffer = (nbFiles-1) * buffersPerFile + firstBuffer\n",
    "for k in range( nbFiles ):\n",
    "    \n",
    "    # read the data\n",
    "    nb = str( int( k * buffersPerFile + firstBuffer) )\n",
    "    filename = data_dir + \"/record\" + nb + \".bin\"\n",
    "    readFileADLINK( filename, samplesPerFile, timeSerie_A, timeSerie_B )\n",
    "    \n",
    "    print(\"k = {}, block = {} / {}\".format(k, nb, lastBuffer))\n",
    "    \n",
    "    adc_A[ k, : ] = (timeSerie_A + offset) * scalingFactor"
   ]
  },
  {
   "cell_type": "code",
   "execution_count": 13,
   "metadata": {},
   "outputs": [],
   "source": [
    "A_reshaped = adc_A.reshape(nbFiles * rampsPerFile, samplesPerRamp)"
   ]
  },
  {
   "cell_type": "markdown",
   "metadata": {},
   "source": [
    "**Check that the first ramp is an up ramp**"
   ]
  },
  {
   "cell_type": "code",
   "execution_count": 14,
   "metadata": {},
   "outputs": [],
   "source": [
    "plt.figure()\n",
    "plt.plot( A_reshaped[0, :] )\n",
    "plt.title(\"first acquisition\\n\" + data_date)\n",
    "plt.grid()"
   ]
  },
  {
   "cell_type": "markdown",
   "metadata": {},
   "source": [
    "**Set the shifted flag properly**"
   ]
  },
  {
   "cell_type": "code",
   "execution_count": 15,
   "metadata": {},
   "outputs": [],
   "source": [
    "shifted = 1"
   ]
  },
  {
   "cell_type": "markdown",
   "metadata": {},
   "source": [
    "## Build RD"
   ]
  },
  {
   "cell_type": "code",
   "execution_count": 16,
   "metadata": {},
   "outputs": [
    {
     "name": "stdout",
     "output_type": "stream",
     "text": [
      "shape of the samples matrix = (124500, 6000)\n",
      "Data are shifted\n"
     ]
    }
   ],
   "source": [
    "RDc = build_rd_from_data( params, A_reshaped, shifted )"
   ]
  },
  {
   "cell_type": "code",
   "execution_count": 17,
   "metadata": {},
   "outputs": [],
   "source": [
    "coupling_RD = np.average(RDc, 0)\n",
    "np.save( data_dir + \"/coupling_RD_files_{}_{}\".format(firstFile, lastFile), coupling_RD )"
   ]
  },
  {
   "cell_type": "code",
   "execution_count": 18,
   "metadata": {},
   "outputs": [],
   "source": [
    "plt.figure()\n",
    "plt.plot(np.abs(coupling_RD), 'k', label='coupling')\n",
    "plt.legend()\n",
    "plt.grid()"
   ]
  },
  {
   "cell_type": "code",
   "execution_count": 19,
   "metadata": {},
   "outputs": [],
   "source": [
    "np.save(data_dir + '/RD_files_{}_{}'.format(firstFile, lastFile), RDc)"
   ]
  },
  {
   "cell_type": "code",
   "execution_count": null,
   "metadata": {},
   "outputs": [],
   "source": []
  }
 ],
 "metadata": {
  "kernelspec": {
   "display_name": "Python 3",
   "language": "python",
   "name": "python3"
  },
  "language_info": {
   "codemirror_mode": {
    "name": "ipython",
    "version": 3
   },
   "file_extension": ".py",
   "mimetype": "text/x-python",
   "name": "python",
   "nbconvert_exporter": "python",
   "pygments_lexer": "ipython3",
   "version": "3.6.4"
  }
 },
 "nbformat": 4,
 "nbformat_minor": 2
}
