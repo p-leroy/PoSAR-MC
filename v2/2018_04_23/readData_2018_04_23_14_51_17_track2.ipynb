{
 "cells": [
  {
   "cell_type": "code",
   "execution_count": 1,
   "metadata": {},
   "outputs": [],
   "source": [
    "import numpy as np\n",
    "import matplotlib.pyplot as plt\n",
    "%matplotlib qt5"
   ]
  },
  {
   "cell_type": "code",
   "execution_count": 2,
   "metadata": {},
   "outputs": [],
   "source": [
    "import sys"
   ]
  },
  {
   "cell_type": "code",
   "execution_count": 3,
   "metadata": {},
   "outputs": [],
   "source": [
    "sys.path.insert(0, \"/home/pleroy/DEV/processing/PoSAR-MC\")\n",
    "from posarmctools.readdata import *"
   ]
  },
  {
   "cell_type": "code",
   "execution_count": 4,
   "metadata": {},
   "outputs": [],
   "source": [
    "%load_ext autoreload\n",
    "%autoreload 2"
   ]
  },
  {
   "cell_type": "code",
   "execution_count": 5,
   "metadata": {},
   "outputs": [],
   "source": [
    "sys.path.insert(0, \"/home/pleroy/DEV/processing/focalization_python\")\n",
    "from posarutils.other.read_data_and_build_rd import *\n",
    "from posarutils.other.PosarMCParameters import *"
   ]
  },
  {
   "cell_type": "code",
   "execution_count": 6,
   "metadata": {},
   "outputs": [],
   "source": [
    "data_date = \"2018_04_23_14_51_17\"\n",
    "data_dir = \"/home/pleroy/DATA/PoSAR-v2_PIMA_TEST-2/\" + data_date"
   ]
  },
  {
   "cell_type": "code",
   "execution_count": 7,
   "metadata": {},
   "outputs": [],
   "source": [
    "params_filename = data_dir + \"/\" + data_date + \"_parameters.xml\"\n",
    "params = PosarMCParameters_v2( params_filename )"
   ]
  },
  {
   "cell_type": "code",
   "execution_count": 8,
   "metadata": {},
   "outputs": [
    {
     "name": "stdout",
     "output_type": "stream",
     "text": [
      "buffersPerFile = 2, samplesPerRamp = 6000, rampsPerFile = 1500\n"
     ]
    }
   ],
   "source": [
    "buffersPerFile = params.buffersPerFile\n",
    "samplesPerRamp = params.samplesPerRamp\n",
    "rampsPerFile = params.rampsPerFile\n",
    "samplesPerFile = samplesPerRamp * rampsPerFile\n",
    "\n",
    "print( \"buffersPerFile = {}, samplesPerRamp = {}, rampsPerFile = {}\".format(\n",
    "    buffersPerFile, samplesPerRamp, rampsPerFile )\n",
    "     )\n",
    "\n",
    "# selection in record\n",
    "firstFile = 82\n",
    "nbFiles = 91\n",
    "firstFile = 0\n",
    "nbFiles = 181\n",
    "lastFile = firstFile + nbFiles - 1\n",
    "firstBuffer = firstFile * buffersPerFile"
   ]
  },
  {
   "cell_type": "markdown",
   "metadata": {},
   "source": [
    "### Read the data"
   ]
  },
  {
   "cell_type": "code",
   "execution_count": 9,
   "metadata": {},
   "outputs": [],
   "source": [
    "scalingFactor = 2 / 65535\n",
    "offset = -32768"
   ]
  },
  {
   "cell_type": "code",
   "execution_count": 10,
   "metadata": {},
   "outputs": [],
   "source": [
    "timeSerie_A = np.zeros( samplesPerFile )\n",
    "timeSerie_B = np.zeros( samplesPerFile )\n",
    "\n",
    "adc_A = np.zeros( (nbFiles, samplesPerFile) )"
   ]
  },
  {
   "cell_type": "code",
   "execution_count": 11,
   "metadata": {},
   "outputs": [
    {
     "name": "stdout",
     "output_type": "stream",
     "text": [
      "k = 0, block = 0 / 360\n",
      "k = 1, block = 2 / 360\n",
      "k = 2, block = 4 / 360\n",
      "k = 3, block = 6 / 360\n",
      "k = 4, block = 8 / 360\n",
      "k = 5, block = 10 / 360\n",
      "k = 6, block = 12 / 360\n",
      "k = 7, block = 14 / 360\n",
      "k = 8, block = 16 / 360\n",
      "k = 9, block = 18 / 360\n",
      "k = 10, block = 20 / 360\n",
      "k = 11, block = 22 / 360\n",
      "k = 12, block = 24 / 360\n",
      "k = 13, block = 26 / 360\n",
      "k = 14, block = 28 / 360\n",
      "k = 15, block = 30 / 360\n",
      "k = 16, block = 32 / 360\n",
      "k = 17, block = 34 / 360\n",
      "k = 18, block = 36 / 360\n",
      "k = 19, block = 38 / 360\n",
      "k = 20, block = 40 / 360\n",
      "k = 21, block = 42 / 360\n",
      "k = 22, block = 44 / 360\n",
      "k = 23, block = 46 / 360\n",
      "k = 24, block = 48 / 360\n",
      "k = 25, block = 50 / 360\n",
      "k = 26, block = 52 / 360\n",
      "k = 27, block = 54 / 360\n",
      "k = 28, block = 56 / 360\n",
      "k = 29, block = 58 / 360\n",
      "k = 30, block = 60 / 360\n",
      "k = 31, block = 62 / 360\n",
      "k = 32, block = 64 / 360\n",
      "k = 33, block = 66 / 360\n",
      "k = 34, block = 68 / 360\n",
      "k = 35, block = 70 / 360\n",
      "k = 36, block = 72 / 360\n",
      "k = 37, block = 74 / 360\n",
      "k = 38, block = 76 / 360\n",
      "k = 39, block = 78 / 360\n",
      "k = 40, block = 80 / 360\n",
      "k = 41, block = 82 / 360\n",
      "k = 42, block = 84 / 360\n",
      "k = 43, block = 86 / 360\n",
      "k = 44, block = 88 / 360\n",
      "k = 45, block = 90 / 360\n",
      "k = 46, block = 92 / 360\n",
      "k = 47, block = 94 / 360\n",
      "k = 48, block = 96 / 360\n",
      "k = 49, block = 98 / 360\n",
      "k = 50, block = 100 / 360\n",
      "k = 51, block = 102 / 360\n",
      "k = 52, block = 104 / 360\n",
      "k = 53, block = 106 / 360\n",
      "k = 54, block = 108 / 360\n",
      "k = 55, block = 110 / 360\n",
      "k = 56, block = 112 / 360\n",
      "k = 57, block = 114 / 360\n",
      "k = 58, block = 116 / 360\n",
      "k = 59, block = 118 / 360\n",
      "k = 60, block = 120 / 360\n",
      "k = 61, block = 122 / 360\n",
      "k = 62, block = 124 / 360\n",
      "k = 63, block = 126 / 360\n",
      "k = 64, block = 128 / 360\n",
      "k = 65, block = 130 / 360\n",
      "k = 66, block = 132 / 360\n",
      "k = 67, block = 134 / 360\n",
      "k = 68, block = 136 / 360\n",
      "k = 69, block = 138 / 360\n",
      "k = 70, block = 140 / 360\n",
      "k = 71, block = 142 / 360\n",
      "k = 72, block = 144 / 360\n",
      "k = 73, block = 146 / 360\n",
      "k = 74, block = 148 / 360\n",
      "k = 75, block = 150 / 360\n",
      "k = 76, block = 152 / 360\n",
      "k = 77, block = 154 / 360\n",
      "k = 78, block = 156 / 360\n",
      "k = 79, block = 158 / 360\n",
      "k = 80, block = 160 / 360\n",
      "k = 81, block = 162 / 360\n",
      "k = 82, block = 164 / 360\n",
      "k = 83, block = 166 / 360\n",
      "k = 84, block = 168 / 360\n",
      "k = 85, block = 170 / 360\n",
      "k = 86, block = 172 / 360\n",
      "k = 87, block = 174 / 360\n",
      "k = 88, block = 176 / 360\n",
      "k = 89, block = 178 / 360\n",
      "k = 90, block = 180 / 360\n",
      "k = 91, block = 182 / 360\n",
      "k = 92, block = 184 / 360\n",
      "k = 93, block = 186 / 360\n",
      "k = 94, block = 188 / 360\n",
      "k = 95, block = 190 / 360\n",
      "k = 96, block = 192 / 360\n",
      "k = 97, block = 194 / 360\n",
      "k = 98, block = 196 / 360\n",
      "k = 99, block = 198 / 360\n",
      "k = 100, block = 200 / 360\n",
      "k = 101, block = 202 / 360\n",
      "k = 102, block = 204 / 360\n",
      "k = 103, block = 206 / 360\n",
      "k = 104, block = 208 / 360\n",
      "k = 105, block = 210 / 360\n",
      "k = 106, block = 212 / 360\n",
      "k = 107, block = 214 / 360\n",
      "k = 108, block = 216 / 360\n",
      "k = 109, block = 218 / 360\n",
      "k = 110, block = 220 / 360\n",
      "k = 111, block = 222 / 360\n",
      "k = 112, block = 224 / 360\n",
      "k = 113, block = 226 / 360\n",
      "k = 114, block = 228 / 360\n",
      "k = 115, block = 230 / 360\n",
      "k = 116, block = 232 / 360\n",
      "k = 117, block = 234 / 360\n",
      "k = 118, block = 236 / 360\n",
      "k = 119, block = 238 / 360\n",
      "k = 120, block = 240 / 360\n",
      "k = 121, block = 242 / 360\n",
      "k = 122, block = 244 / 360\n",
      "k = 123, block = 246 / 360\n",
      "k = 124, block = 248 / 360\n",
      "k = 125, block = 250 / 360\n",
      "k = 126, block = 252 / 360\n",
      "k = 127, block = 254 / 360\n",
      "k = 128, block = 256 / 360\n",
      "k = 129, block = 258 / 360\n",
      "k = 130, block = 260 / 360\n",
      "k = 131, block = 262 / 360\n",
      "k = 132, block = 264 / 360\n",
      "k = 133, block = 266 / 360\n",
      "k = 134, block = 268 / 360\n",
      "k = 135, block = 270 / 360\n",
      "k = 136, block = 272 / 360\n",
      "k = 137, block = 274 / 360\n",
      "k = 138, block = 276 / 360\n",
      "k = 139, block = 278 / 360\n",
      "k = 140, block = 280 / 360\n",
      "k = 141, block = 282 / 360\n",
      "k = 142, block = 284 / 360\n",
      "k = 143, block = 286 / 360\n",
      "k = 144, block = 288 / 360\n",
      "k = 145, block = 290 / 360\n",
      "k = 146, block = 292 / 360\n",
      "k = 147, block = 294 / 360\n",
      "k = 148, block = 296 / 360\n",
      "k = 149, block = 298 / 360\n",
      "k = 150, block = 300 / 360\n",
      "k = 151, block = 302 / 360\n",
      "k = 152, block = 304 / 360\n",
      "k = 153, block = 306 / 360\n",
      "k = 154, block = 308 / 360\n",
      "k = 155, block = 310 / 360\n",
      "k = 156, block = 312 / 360\n",
      "k = 157, block = 314 / 360\n",
      "k = 158, block = 316 / 360\n",
      "k = 159, block = 318 / 360\n",
      "k = 160, block = 320 / 360\n",
      "k = 161, block = 322 / 360\n",
      "k = 162, block = 324 / 360\n",
      "k = 163, block = 326 / 360\n",
      "k = 164, block = 328 / 360\n",
      "k = 165, block = 330 / 360\n",
      "k = 166, block = 332 / 360\n",
      "k = 167, block = 334 / 360\n",
      "k = 168, block = 336 / 360\n",
      "k = 169, block = 338 / 360\n",
      "k = 170, block = 340 / 360\n",
      "k = 171, block = 342 / 360\n",
      "k = 172, block = 344 / 360\n",
      "k = 173, block = 346 / 360\n",
      "k = 174, block = 348 / 360\n",
      "k = 175, block = 350 / 360\n",
      "k = 176, block = 352 / 360\n",
      "k = 177, block = 354 / 360\n",
      "k = 178, block = 356 / 360\n",
      "k = 179, block = 358 / 360\n",
      "k = 180, block = 360 / 360\n"
     ]
    }
   ],
   "source": [
    "lastBuffer = (nbFiles-1) * buffersPerFile + firstBuffer\n",
    "for k in range( nbFiles ):\n",
    "    \n",
    "    # read the data\n",
    "    nb = str( int( k * buffersPerFile + firstBuffer) )\n",
    "    filename = data_dir + \"/record\" + nb + \".bin\"\n",
    "    readFileADLINK( filename, samplesPerFile, timeSerie_A, timeSerie_B )\n",
    "    \n",
    "    print(\"k = {}, block = {} / {}\".format(k, nb, lastBuffer))\n",
    "    \n",
    "    adc_A[ k, : ] = (timeSerie_A + offset) * scalingFactor"
   ]
  },
  {
   "cell_type": "code",
   "execution_count": 12,
   "metadata": {},
   "outputs": [],
   "source": [
    "A_reshaped = adc_A.reshape(nbFiles * rampsPerFile, samplesPerRamp)"
   ]
  },
  {
   "cell_type": "markdown",
   "metadata": {},
   "source": [
    "**Check that the first ramp is an up ramp**"
   ]
  },
  {
   "cell_type": "code",
   "execution_count": 13,
   "metadata": {},
   "outputs": [],
   "source": [
    "plt.figure()\n",
    "plt.plot( A_reshaped[0, :] )\n",
    "plt.title(\"first acquisition\\n\" + data_date)\n",
    "plt.grid()"
   ]
  },
  {
   "cell_type": "markdown",
   "metadata": {},
   "source": [
    "**Set the shifted flag properly**"
   ]
  },
  {
   "cell_type": "code",
   "execution_count": 14,
   "metadata": {},
   "outputs": [],
   "source": [
    "shifted = 1"
   ]
  },
  {
   "cell_type": "markdown",
   "metadata": {},
   "source": [
    "## Build RD"
   ]
  },
  {
   "cell_type": "code",
   "execution_count": 15,
   "metadata": {},
   "outputs": [
    {
     "name": "stdout",
     "output_type": "stream",
     "text": [
      "shape of the samples matrix = (271500, 6000)\n",
      "Data are shifted\n"
     ]
    }
   ],
   "source": [
    "RDc = build_rd_from_data( params, A_reshaped, shifted )"
   ]
  },
  {
   "cell_type": "code",
   "execution_count": 16,
   "metadata": {},
   "outputs": [],
   "source": [
    "coupling_RD = np.average(RDc, 0)\n",
    "np.save( data_dir + \"/coupling_RD_files_{}_{}\".format(firstFile, lastFile), coupling_RD )"
   ]
  },
  {
   "cell_type": "code",
   "execution_count": 17,
   "metadata": {},
   "outputs": [],
   "source": [
    "plt.figure()\n",
    "plt.plot(np.abs(coupling_RD), 'k', label='coupling')\n",
    "plt.legend()\n",
    "plt.grid()"
   ]
  },
  {
   "cell_type": "code",
   "execution_count": 18,
   "metadata": {},
   "outputs": [],
   "source": [
    "np.save(data_dir + '/RD_files_{}_{}'.format(firstFile, lastFile), RDc)"
   ]
  },
  {
   "cell_type": "code",
   "execution_count": null,
   "metadata": {},
   "outputs": [],
   "source": []
  }
 ],
 "metadata": {
  "kernelspec": {
   "display_name": "Python 3",
   "language": "python",
   "name": "python3"
  },
  "language_info": {
   "codemirror_mode": {
    "name": "ipython",
    "version": 3
   },
   "file_extension": ".py",
   "mimetype": "text/x-python",
   "name": "python",
   "nbconvert_exporter": "python",
   "pygments_lexer": "ipython3",
   "version": "3.6.4"
  }
 },
 "nbformat": 4,
 "nbformat_minor": 2
}
