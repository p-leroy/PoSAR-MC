{
 "cells": [
  {
   "cell_type": "code",
   "execution_count": 1,
   "metadata": {},
   "outputs": [],
   "source": [
    "import numpy as np\n",
    "import matplotlib.pyplot as plt\n",
    "%matplotlib qt5"
   ]
  },
  {
   "cell_type": "code",
   "execution_count": 2,
   "metadata": {},
   "outputs": [],
   "source": [
    "import sys"
   ]
  },
  {
   "cell_type": "code",
   "execution_count": 3,
   "metadata": {},
   "outputs": [],
   "source": [
    "sys.path.insert(0, \"/home/pleroy/DEV/processing/PoSAR-MC\")\n",
    "from posarmctools.readdata import *"
   ]
  },
  {
   "cell_type": "code",
   "execution_count": 4,
   "metadata": {},
   "outputs": [],
   "source": [
    "%load_ext autoreload\n",
    "%autoreload 2"
   ]
  },
  {
   "cell_type": "code",
   "execution_count": 5,
   "metadata": {},
   "outputs": [],
   "source": [
    "sys.path.insert(0, \"/home/pleroy/DEV/processing/focalization_python\")\n",
    "from posarutils.other.read_data_and_build_rd import *\n",
    "from posarutils.other.PosarMCParameters import *"
   ]
  },
  {
   "cell_type": "code",
   "execution_count": 6,
   "metadata": {},
   "outputs": [],
   "source": [
    "data_date = \"2018_04_23_15_50_26\"\n",
    "data_dir = \"/home/pleroy/DATA/PoSAR-v2_PIMA_TEST-2/\" + data_date"
   ]
  },
  {
   "cell_type": "code",
   "execution_count": 7,
   "metadata": {},
   "outputs": [],
   "source": [
    "params_filename = data_dir + \"/\" + data_date + \"_parameters.xml\"\n",
    "params = PosarMCParameters_v2( params_filename )"
   ]
  },
  {
   "cell_type": "code",
   "execution_count": 12,
   "metadata": {},
   "outputs": [
    {
     "name": "stdout",
     "output_type": "stream",
     "text": [
      "buffersPerFile = 2, samplesPerRamp = 6000, rampsPerFile = 1500\n"
     ]
    }
   ],
   "source": [
    "buffersPerFile = params.buffersPerFile\n",
    "samplesPerRamp = params.samplesPerRamp\n",
    "rampsPerFile = params.rampsPerFile\n",
    "samplesPerFile = samplesPerRamp * rampsPerFile\n",
    "\n",
    "print( \"buffersPerFile = {}, samplesPerRamp = {}, rampsPerFile = {}\".format(\n",
    "    buffersPerFile, samplesPerRamp, rampsPerFile )\n",
    "     )\n",
    "\n",
    "# selection in record\n",
    "firstFile = 0\n",
    "nbFiles = 163\n",
    "firstFile = 88\n",
    "nbFiles = 75\n",
    "lastFile = firstFile + nbFiles - 1\n",
    "firstBuffer = firstFile * buffersPerFile"
   ]
  },
  {
   "cell_type": "markdown",
   "metadata": {},
   "source": [
    "### Read the data"
   ]
  },
  {
   "cell_type": "code",
   "execution_count": 13,
   "metadata": {},
   "outputs": [],
   "source": [
    "scalingFactor = 2 / 65535\n",
    "offset = -32768"
   ]
  },
  {
   "cell_type": "code",
   "execution_count": 14,
   "metadata": {},
   "outputs": [],
   "source": [
    "timeSerie_A = np.zeros( samplesPerFile )\n",
    "timeSerie_B = np.zeros( samplesPerFile )\n",
    "\n",
    "adc_A = np.zeros( (nbFiles, samplesPerFile) )"
   ]
  },
  {
   "cell_type": "code",
   "execution_count": 15,
   "metadata": {},
   "outputs": [
    {
     "name": "stdout",
     "output_type": "stream",
     "text": [
      "k = 0, block = 176 / 324\n",
      "k = 1, block = 178 / 324\n",
      "k = 2, block = 180 / 324\n",
      "k = 3, block = 182 / 324\n",
      "k = 4, block = 184 / 324\n",
      "k = 5, block = 186 / 324\n",
      "k = 6, block = 188 / 324\n",
      "k = 7, block = 190 / 324\n",
      "k = 8, block = 192 / 324\n",
      "k = 9, block = 194 / 324\n",
      "k = 10, block = 196 / 324\n",
      "k = 11, block = 198 / 324\n",
      "k = 12, block = 200 / 324\n",
      "k = 13, block = 202 / 324\n",
      "k = 14, block = 204 / 324\n",
      "k = 15, block = 206 / 324\n",
      "k = 16, block = 208 / 324\n",
      "k = 17, block = 210 / 324\n",
      "k = 18, block = 212 / 324\n",
      "k = 19, block = 214 / 324\n",
      "k = 20, block = 216 / 324\n",
      "k = 21, block = 218 / 324\n",
      "k = 22, block = 220 / 324\n",
      "k = 23, block = 222 / 324\n",
      "k = 24, block = 224 / 324\n",
      "k = 25, block = 226 / 324\n",
      "k = 26, block = 228 / 324\n",
      "k = 27, block = 230 / 324\n",
      "k = 28, block = 232 / 324\n",
      "k = 29, block = 234 / 324\n",
      "k = 30, block = 236 / 324\n",
      "k = 31, block = 238 / 324\n",
      "k = 32, block = 240 / 324\n",
      "k = 33, block = 242 / 324\n",
      "k = 34, block = 244 / 324\n",
      "k = 35, block = 246 / 324\n",
      "k = 36, block = 248 / 324\n",
      "k = 37, block = 250 / 324\n",
      "k = 38, block = 252 / 324\n",
      "k = 39, block = 254 / 324\n",
      "k = 40, block = 256 / 324\n",
      "k = 41, block = 258 / 324\n",
      "k = 42, block = 260 / 324\n",
      "k = 43, block = 262 / 324\n",
      "k = 44, block = 264 / 324\n",
      "k = 45, block = 266 / 324\n",
      "k = 46, block = 268 / 324\n",
      "k = 47, block = 270 / 324\n",
      "k = 48, block = 272 / 324\n",
      "k = 49, block = 274 / 324\n",
      "k = 50, block = 276 / 324\n",
      "k = 51, block = 278 / 324\n",
      "k = 52, block = 280 / 324\n",
      "k = 53, block = 282 / 324\n",
      "k = 54, block = 284 / 324\n",
      "k = 55, block = 286 / 324\n",
      "k = 56, block = 288 / 324\n",
      "k = 57, block = 290 / 324\n",
      "k = 58, block = 292 / 324\n",
      "k = 59, block = 294 / 324\n",
      "k = 60, block = 296 / 324\n",
      "k = 61, block = 298 / 324\n",
      "k = 62, block = 300 / 324\n",
      "k = 63, block = 302 / 324\n",
      "k = 64, block = 304 / 324\n",
      "k = 65, block = 306 / 324\n",
      "k = 66, block = 308 / 324\n",
      "k = 67, block = 310 / 324\n",
      "k = 68, block = 312 / 324\n",
      "k = 69, block = 314 / 324\n",
      "k = 70, block = 316 / 324\n",
      "k = 71, block = 318 / 324\n",
      "k = 72, block = 320 / 324\n",
      "k = 73, block = 322 / 324\n",
      "k = 74, block = 324 / 324\n"
     ]
    }
   ],
   "source": [
    "lastBuffer = (nbFiles-1) * buffersPerFile + firstBuffer\n",
    "for k in range( nbFiles ):\n",
    "    \n",
    "    # read the data\n",
    "    nb = str( int( k * buffersPerFile + firstBuffer) )\n",
    "    filename = data_dir + \"/record\" + nb + \".bin\"\n",
    "    readFileADLINK( filename, samplesPerFile, timeSerie_A, timeSerie_B )\n",
    "    \n",
    "    print(\"k = {}, block = {} / {}\".format(k, nb, lastBuffer))\n",
    "    \n",
    "    adc_A[ k, : ] = (timeSerie_A + offset) * scalingFactor"
   ]
  },
  {
   "cell_type": "code",
   "execution_count": 16,
   "metadata": {},
   "outputs": [],
   "source": [
    "A_reshaped = adc_A.reshape(nbFiles * rampsPerFile, samplesPerRamp)"
   ]
  },
  {
   "cell_type": "markdown",
   "metadata": {},
   "source": [
    "**Check that the first ramp is an up ramp**"
   ]
  },
  {
   "cell_type": "code",
   "execution_count": 17,
   "metadata": {},
   "outputs": [],
   "source": [
    "plt.figure()\n",
    "plt.plot( A_reshaped[0, :] )\n",
    "plt.title(\"first acquisition\\n\" + data_date)\n",
    "plt.grid()"
   ]
  },
  {
   "cell_type": "markdown",
   "metadata": {},
   "source": [
    "**Set the shifted flag properly**"
   ]
  },
  {
   "cell_type": "code",
   "execution_count": 18,
   "metadata": {},
   "outputs": [],
   "source": [
    "shifted = 1"
   ]
  },
  {
   "cell_type": "markdown",
   "metadata": {},
   "source": [
    "## Build RD"
   ]
  },
  {
   "cell_type": "code",
   "execution_count": 19,
   "metadata": {},
   "outputs": [
    {
     "name": "stdout",
     "output_type": "stream",
     "text": [
      "shape of the samples matrix = (112500, 6000)\n",
      "Data are shifted\n"
     ]
    }
   ],
   "source": [
    "RDc = build_rd_from_data( params, A_reshaped, shifted )"
   ]
  },
  {
   "cell_type": "code",
   "execution_count": 20,
   "metadata": {},
   "outputs": [],
   "source": [
    "coupling_RD = np.average(RDc, 0)\n",
    "np.save( data_dir + \"/coupling_RD_files_{}_{}\".format(firstFile, lastFile), coupling_RD )"
   ]
  },
  {
   "cell_type": "code",
   "execution_count": 21,
   "metadata": {},
   "outputs": [],
   "source": [
    "plt.figure()\n",
    "plt.plot(np.abs(coupling_RD), 'k', label='coupling')\n",
    "plt.legend()\n",
    "plt.grid()"
   ]
  },
  {
   "cell_type": "code",
   "execution_count": 22,
   "metadata": {},
   "outputs": [],
   "source": [
    "np.save(data_dir + '/RD_files_{}_{}'.format(firstFile, lastFile), RDc)"
   ]
  },
  {
   "cell_type": "code",
   "execution_count": null,
   "metadata": {},
   "outputs": [],
   "source": []
  }
 ],
 "metadata": {
  "kernelspec": {
   "display_name": "Python 3",
   "language": "python",
   "name": "python3"
  },
  "language_info": {
   "codemirror_mode": {
    "name": "ipython",
    "version": 3
   },
   "file_extension": ".py",
   "mimetype": "text/x-python",
   "name": "python",
   "nbconvert_exporter": "python",
   "pygments_lexer": "ipython3",
   "version": "3.6.4"
  }
 },
 "nbformat": 4,
 "nbformat_minor": 2
}
