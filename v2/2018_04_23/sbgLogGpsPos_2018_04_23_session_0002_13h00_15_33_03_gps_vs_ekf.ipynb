{
 "cells": [
  {
   "cell_type": "code",
   "execution_count": 1,
   "metadata": {},
   "outputs": [],
   "source": [
    "import io\n",
    "import csv\n",
    "import os.path\n",
    "\n",
    "import numpy as np\n",
    "import numexpr as ne\n",
    "import matplotlib.pyplot as plt\n",
    "\n",
    "%matplotlib qt5"
   ]
  },
  {
   "cell_type": "code",
   "execution_count": 2,
   "metadata": {},
   "outputs": [],
   "source": [
    "import sys"
   ]
  },
  {
   "cell_type": "code",
   "execution_count": 3,
   "metadata": {},
   "outputs": [],
   "source": [
    "sys.path.insert(0, \"/home/pleroy/DEV/processing/PoSAR-MC\")\n",
    "from posarmctools.ekfnavtools import *"
   ]
  },
  {
   "cell_type": "code",
   "execution_count": 4,
   "metadata": {},
   "outputs": [],
   "source": [
    "sys.path.insert(0, \"/home/pleroy/DEV/processing/focalization_python\")\n",
    "from posarutils.other.PosarMCParameters import *"
   ]
  },
  {
   "cell_type": "code",
   "execution_count": 5,
   "metadata": {},
   "outputs": [],
   "source": [
    "%load_ext autoreload\n",
    "%autoreload 2"
   ]
  },
  {
   "cell_type": "markdown",
   "metadata": {},
   "source": [
    "## Load navigation data SbgLogEkfNav"
   ]
  },
  {
   "cell_type": "code",
   "execution_count": 6,
   "metadata": {},
   "outputs": [],
   "source": [
    "prefix = \"/home/pleroy/DATA/PoSAR-v2_PIMA_TEST-2/dataLogger/session_0002/2018_04_23/13h00/\"\n",
    "\n",
    "logEkfEuler_13h00 = prefix+ \"sbgLogEkfEuler.dat\"\n",
    "logEkfNav_13h00  = prefix + \"sbgLogEkfNav.dat\"\n",
    "logUtcData_13h00 = prefix + \"sbgLogUtcData.dat\"\n",
    "logGpsPos_13h00 = prefix + \"sbgLogGpsPos.csv\"\n",
    "logGpsVel_13h00 = prefix + \"sbgLogGpsVel.dat\""
   ]
  },
  {
   "cell_type": "markdown",
   "metadata": {},
   "source": [
    "### Load GPS Pos logs"
   ]
  },
  {
   "cell_type": "code",
   "execution_count": 7,
   "metadata": {},
   "outputs": [],
   "source": [
    "idx_gpsPos_lat = 3\n",
    "idx_gpsPos_long = 4\n",
    "idx_gpsPos_alt = 5\n",
    "idx_gps_lat = 1\n",
    "idx_gps_long = 2\n",
    "idx_gps_alt = 3\n",
    "\n",
    "gps_13h00 = np.loadtxt( logGpsPos_13h00, skiprows = 1, delimiter = ',',\n",
    "                 usecols = (0, idx_gpsPos_lat, idx_gpsPos_long, idx_gpsPos_alt) )\n",
    "\n",
    "gps = gps_13h00"
   ]
  },
  {
   "cell_type": "markdown",
   "metadata": {},
   "source": [
    "### Load GPS Vel logs"
   ]
  },
  {
   "cell_type": "code",
   "execution_count": 8,
   "metadata": {},
   "outputs": [],
   "source": [
    "idx_gpsVel_north = 3\n",
    "idx_gpsVel_east = 4\n",
    "idx_gpsVel_down = 5\n",
    "idx_gpsVel_course = 9\n",
    "\n",
    "vel_13h00 = np.loadtxt( logGpsVel_13h00, skiprows = 1, \n",
    "                 usecols = (0, idx_gpsVel_north, idx_gpsVel_east, idx_gpsVel_down, idx_gpsVel_course) )\n",
    "\n",
    "vel = vel_13h00"
   ]
  },
  {
   "cell_type": "code",
   "execution_count": 9,
   "metadata": {},
   "outputs": [],
   "source": [
    "Lat = gps[:,idx_gps_lat]\n",
    "Long = gps[:,idx_gps_long]\n",
    "Alt = gps[:,idx_gps_alt]\n",
    "Vel = ( vel[:,1]**2 + vel[:,2]**2 + vel[:,3]**2) **0.5\n",
    "course = vel[:,4]"
   ]
  },
  {
   "cell_type": "markdown",
   "metadata": {},
   "source": [
    "### Load UTC data logs"
   ]
  },
  {
   "cell_type": "code",
   "execution_count": 10,
   "metadata": {},
   "outputs": [],
   "source": [
    "#timeStamp status year month day hour minute second nanoSecond gpsTimeOfWeek\n",
    "idx_h = 5\n",
    "idx_m = 6\n",
    "idx_s = 7\n",
    "idx_nano = 8\n",
    "\n",
    "utc_13h00 = np.loadtxt( logUtcData_13h00, skiprows = 1, usecols = (0, idx_h, idx_m, idx_s, idx_nano) )\n",
    "\n",
    "utc = utc_13h00"
   ]
  },
  {
   "cell_type": "code",
   "execution_count": 11,
   "metadata": {},
   "outputs": [
    {
     "name": "stdout",
     "output_type": "stream",
     "text": [
      "12.0 : 59.0 : 59.995\n",
      "13.0 : 59.0 : 59.990\n"
     ]
    }
   ],
   "source": [
    "printUtc( 0, utc )\n",
    "printUtc( -1, utc )"
   ]
  },
  {
   "cell_type": "markdown",
   "metadata": {},
   "source": [
    "## Plot navigation data jointly with track references"
   ]
  },
  {
   "cell_type": "code",
   "execution_count": 12,
   "metadata": {},
   "outputs": [],
   "source": [
    "plt.figure()\n",
    "ax = plt.subplot(111)\n",
    "plotLongLatAndTrackReferences( ax, Long, Lat )\n",
    "plotRunaway( ax )\n",
    "plt.title( \"GPS data and track references\\n\" + prefix )\n",
    "plt.grid()"
   ]
  },
  {
   "cell_type": "markdown",
   "metadata": {},
   "source": [
    "## Check the existence of the record files"
   ]
  },
  {
   "cell_type": "code",
   "execution_count": 13,
   "metadata": {},
   "outputs": [],
   "source": [
    "data_date = \"2018_04_23_15_33_03\"\n",
    "data_dir = \"/home/pleroy/DATA/PoSAR-v2_PIMA_TEST-2/\" + data_date\n",
    "firstRecord = 0\n",
    "lastRecord = 140"
   ]
  },
  {
   "cell_type": "code",
   "execution_count": 14,
   "metadata": {},
   "outputs": [],
   "source": [
    "params_filename = data_dir + \"/\" + data_date + \"_parameters.xml\"\n",
    "params = PosarMCParameters_v2( params_filename )"
   ]
  },
  {
   "cell_type": "code",
   "execution_count": 15,
   "metadata": {},
   "outputs": [
    {
     "name": "stdout",
     "output_type": "stream",
     "text": [
      "nbRecords = 71\n"
     ]
    }
   ],
   "source": [
    "samplesPerRamp = params.samplesPerRamp\n",
    "rampsPerFile = params.rampsPerFile\n",
    "rampsPerBuffer = params.rampsPerBuffer\n",
    "samplesPerFile = params.samplesPerRamp * params.rampsPerFile\n",
    "buffersPerFile = params.buffersPerFile\n",
    "T_files = samplesPerFile / 10e6\n",
    "nbRecords = int((lastRecord - firstRecord) / params.buffersPerFile + 1)\n",
    "print( \"nbRecords = {}\".format(nbRecords) )"
   ]
  },
  {
   "cell_type": "code",
   "execution_count": 16,
   "metadata": {},
   "outputs": [],
   "source": [
    "fileList = []\n",
    "\n",
    "for k in range(firstRecord, lastRecord, buffersPerFile):\n",
    "    filename = data_dir + \"/record\" + str(k) + \".bin\"\n",
    "    ret = os.path.isfile(filename)\n",
    "    if ret == False:\n",
    "        fileList.append(0)\n",
    "    else:\n",
    "        fileList.append(1)\n",
    "\n",
    "idxFileList = np.arange( len( fileList ) ) * buffersPerFile + firstRecord"
   ]
  },
  {
   "cell_type": "code",
   "execution_count": 17,
   "metadata": {},
   "outputs": [],
   "source": [
    "plt.figure()\n",
    "plt.plot(idxFileList, fileList, 'o-')\n",
    "plt.grid()"
   ]
  },
  {
   "cell_type": "markdown",
   "metadata": {},
   "source": [
    "### Process timeStamps.data"
   ]
  },
  {
   "cell_type": "code",
   "execution_count": 18,
   "metadata": {},
   "outputs": [],
   "source": [
    "timeStampsFile = data_dir + \"/\" + data_date + \"_timeStamps.data\"\n",
    "bufferNumber_0, timeStamp_0 = np.loadtxt( timeStampsFile, skiprows = 1, unpack=True )\n",
    "rampNumber_0 = bufferNumber_0 * rampsPerBuffer\n",
    "\n",
    "#====================================================================\n",
    "# the last value of the file may be erroneous, this should be checked\n",
    "#====================================================================\n",
    "\n",
    "#===================================================================\n",
    "# the first value may be erroneous, one may have to shift all values\n",
    "#===================================================================\n",
    "\n",
    "timeStamp_1 = timeStamp_0\n",
    "bufferNumber_1 = bufferNumber_0\n",
    "rampNumber_1 = bufferNumber_1 * rampsPerBuffer"
   ]
  },
  {
   "cell_type": "code",
   "execution_count": 19,
   "metadata": {},
   "outputs": [
    {
     "data": {
      "text/plain": [
       "<matplotlib.text.Text at 0x7fcb54e2c080>"
      ]
     },
     "execution_count": 19,
     "metadata": {},
     "output_type": "execute_result"
    }
   ],
   "source": [
    "plt.figure()\n",
    "plt.subplot(211)\n",
    "plt.plot( timeStamp_1, \".\", label=data_date )\n",
    "plt.grid()\n",
    "plt.legend()\n",
    "plt.title(\"timeStamp wrt fileNumber / \" + data_date)\n",
    "plt.subplot(212)\n",
    "plt.plot( np.diff(timeStamp_1)/1e6, \".\" )\n",
    "plt.grid()\n",
    "plt.title( \"diff(timeStamp) wrt fileNumber / \" + data_date )"
   ]
  },
  {
   "cell_type": "markdown",
   "metadata": {},
   "source": [
    "**Be carefull here, there could be a jump in the timeStamp values due to the counter saturation at 2^32. The mitigation is following.**"
   ]
  },
  {
   "cell_type": "code",
   "execution_count": null,
   "metadata": {},
   "outputs": [],
   "source": [
    "timeStamp_1[np.where(timeStamp_1 < 2**31)] +=  2**32\n",
    "gps[np.where(gps[:, 0] < 2**31),0] += 2**32\n",
    "vel[np.where(vel[:, 0] < 2**31),0] += 2**32"
   ]
  },
  {
   "cell_type": "code",
   "execution_count": null,
   "metadata": {},
   "outputs": [],
   "source": [
    "plt.figure()\n",
    "plt.plot( gps[:, 0] )"
   ]
  },
  {
   "cell_type": "code",
   "execution_count": null,
   "metadata": {},
   "outputs": [],
   "source": [
    "# interpolate GPS data for each record\n",
    "timeStamp_records = timeStamp_1\n",
    "Lat_records = np.interp( timeStamp_records, gps[:,0], Lat )\n",
    "Long_records = np.interp( timeStamp_records, gps[:,0], Long )\n",
    "Alt_records = np.interp( timeStamp_records, gps[:,0], Alt )\n",
    "Vel_records = np.interp( timeStamp_records, vel[:,0], Vel )\n",
    "course_records = np.interp( timeStamp_records, vel[:,0], course )"
   ]
  },
  {
   "cell_type": "markdown",
   "metadata": {},
   "source": [
    "### Data selection for focalization"
   ]
  },
  {
   "cell_type": "code",
   "execution_count": null,
   "metadata": {},
   "outputs": [],
   "source": [
    "firstFile = 0\n",
    "nbFiles = 71\n",
    "lastFile = firstFile + nbFiles - 1\n",
    "fileRange = np.arange(firstFile, lastFile + 1)\n",
    "timeStamp_selection = timeStamp_1[fileRange]"
   ]
  },
  {
   "cell_type": "code",
   "execution_count": null,
   "metadata": {},
   "outputs": [],
   "source": [
    "# interpolate GPS data for each file of the selection\n",
    "Lat_selection = np.interp( timeStamp_selection, gps[:,0], gps[:,1] )\n",
    "Long_selection = np.interp( timeStamp_selection, gps[:,0], gps[:,2] )\n",
    "Alt_selection = np.interp( timeStamp_selection, gps[:,0], gps[:,3] )\n",
    "Vel_selection = np.interp( timeStamp_selection, vel[:,0], Vel )\n",
    "course_selection = np.interp( timeStamp_selection, vel[:,0], course )"
   ]
  },
  {
   "cell_type": "markdown",
   "metadata": {},
   "source": [
    "### Plot navigation data and record periods"
   ]
  },
  {
   "cell_type": "code",
   "execution_count": null,
   "metadata": {},
   "outputs": [],
   "source": [
    "plt.figure()\n",
    "\n",
    "ax = plt.subplot(111)\n",
    "\n",
    "plotLongLatAndTrackReferences( ax, Long, Lat )\n",
    "plotRunaway( ax )\n",
    "\n",
    "plt.plot( Long_records, Lat_records, \"Dg\", markeredgecolor='black', \n",
    "         label=data_date )\n",
    "plt.plot( Long_selection, Lat_selection, \"Dy\", markeredgecolor='black', \n",
    "         label=\"files selected for focalization {} to {}\".format(firstFile, lastFile) )\n",
    "\n",
    "title = \"Navigation data-track references-record locations-\" + data_date\n",
    "plt.title(\"Navigation data, track references, record locations\\n\" + data_date)\n",
    "plt.xlabel(\"Longitude\")\n",
    "plt.ylabel(\"Latitude\")\n",
    "plt.legend()\n",
    "plt.grid()\n",
    "\n",
    "plt.savefig( data_dir + \"/\" + title + \".png\", bbox_inches='tight')"
   ]
  },
  {
   "cell_type": "code",
   "execution_count": null,
   "metadata": {},
   "outputs": [],
   "source": [
    "plt.figure()\n",
    "plt.plot( gps[:,0], Alt )\n",
    "plt.plot( timeStamp_selection, Alt_selection, \"yD\", markeredgecolor = 'black' )\n",
    "plt.grid()\n",
    "plt.title( \"Altitude - \" + data_date + \" - files {} to {}\".format(firstFile, lastFile) )"
   ]
  },
  {
   "cell_type": "markdown",
   "metadata": {},
   "source": [
    "## Load attitude data logEkfEuler"
   ]
  },
  {
   "cell_type": "code",
   "execution_count": null,
   "metadata": {},
   "outputs": [],
   "source": [
    "idx_timeStamp = 0\n",
    "idx_roll = 1\n",
    "idx_pitch = 2\n",
    "idx_yaw = 3\n",
    "idx_rollStdDev = 4\n",
    "idx_pitchStdDev = 5\n",
    "idx_yawStdDev = 6\n",
    "idx_status = 7"
   ]
  },
  {
   "cell_type": "code",
   "execution_count": null,
   "metadata": {},
   "outputs": [],
   "source": [
    "euler_timeStamp_13h00, roll_13h00, pitch_13h00, yaw_13h00 = np.loadtxt( logEkfEuler_13h00, \n",
    "                                                                       skiprows = 1, \n",
    "                                                                       usecols = (0, idx_roll, idx_pitch, idx_yaw), \n",
    "                                                                       unpack=True )\n",
    "euler_timeStamp = euler_timeStamp_13h00\n",
    "roll = roll_13h00\n",
    "pitch = pitch_13h00\n",
    "yaw = yaw_13h00"
   ]
  },
  {
   "cell_type": "code",
   "execution_count": null,
   "metadata": {},
   "outputs": [],
   "source": [
    "euler_timeStamp[np.where(euler_timeStamp < 2**31)] +=  2**32"
   ]
  },
  {
   "cell_type": "code",
   "execution_count": null,
   "metadata": {},
   "outputs": [],
   "source": [
    "# interpolate euler data for each file of the selection\n",
    "roll_selection = np.interp( timeStamp_selection, euler_timeStamp, roll )\n",
    "pitch_selection = np.interp( timeStamp_selection, euler_timeStamp, pitch )\n",
    "yaw_selection = np.interp( timeStamp_selection, euler_timeStamp, yaw )"
   ]
  },
  {
   "cell_type": "code",
   "execution_count": null,
   "metadata": {},
   "outputs": [],
   "source": [
    "if 1:\n",
    "    plt.figure()\n",
    "    ax = plt.subplot(211)\n",
    "    plt.plot(euler_timeStamp, yaw)\n",
    "    plt.subplot(212, sharex=ax)\n",
    "    plt.plot(gps[:,0], gps[:,idx_gps_alt])"
   ]
  },
  {
   "cell_type": "markdown",
   "metadata": {},
   "source": [
    "## Load  navigation data logEkfNav"
   ]
  },
  {
   "cell_type": "code",
   "execution_count": null,
   "metadata": {},
   "outputs": [],
   "source": [
    "idx_timeStamp = 0\n",
    "idx_velNorth = 1\n",
    "idx_velEast = 2\n",
    "idx_velDown = 3\n",
    "idx_velNorth_StdDev = 4\n",
    "idx_velEast_StdDev = 5\n",
    "idx_velDown_StdDev = 6\n",
    "idx_ekf_Lat = 7\n",
    "idx_ekf_Long = 8\n",
    "idx_ekf_Alt = 9\n",
    "idx_ekf_undulation = 10\n",
    "dx_ekf_Lat_StdDev = 11\n",
    "idx_ekf_Long_StdDev = 12\n",
    "idx_ekf_Alt_StdDev = 13\n",
    "idx_status = 14"
   ]
  },
  {
   "cell_type": "code",
   "execution_count": null,
   "metadata": {},
   "outputs": [],
   "source": [
    "nav_timeStamp_13h00, nav_lat_13h00, nav_long_13h00, nav_alt_13h00 = np.loadtxt( \n",
    "    logEkfNav_13h00, \n",
    "    skiprows = 1, \n",
    "    usecols = (0, idx_ekf_Lat, idx_ekf_Long, idx_ekf_Alt), \n",
    "    unpack = True )\n",
    "\n",
    "nav_timeStamp = nav_timeStamp_13h00\n",
    "nav_lat = nav_lat_13h00\n",
    "nav_long = nav_long_13h00\n",
    "nav_alt = nav_alt_13h00"
   ]
  },
  {
   "cell_type": "code",
   "execution_count": null,
   "metadata": {},
   "outputs": [],
   "source": [
    "nav_timeStamp[np.where(nav_timeStamp < 2**31)] +=  2**32"
   ]
  },
  {
   "cell_type": "markdown",
   "metadata": {},
   "source": [
    "### Compare gps and ekf"
   ]
  },
  {
   "cell_type": "code",
   "execution_count": null,
   "metadata": {},
   "outputs": [],
   "source": [
    "withComparison = 1"
   ]
  },
  {
   "cell_type": "code",
   "execution_count": null,
   "metadata": {},
   "outputs": [],
   "source": [
    "plt.figure()\n",
    "\n",
    "ax = plt.subplot(111)\n",
    "\n",
    "plotLongLatAndTrackReferences( ax, Long, Lat )\n",
    "plt.plot( nav_long, nav_lat, 'b' )\n",
    "plotRunaway( ax )\n",
    "\n",
    "plt.plot( Long_records, Lat_records, \"Dg\", markeredgecolor='black', \n",
    "         label=data_date )\n",
    "plt.plot( Long_selection, Lat_selection, \"Dy\", markeredgecolor='black', \n",
    "         label=\"files selected for focalization {} to {}\".format(firstFile, lastFile) )\n",
    "\n",
    "title = \"Navigation data-track references-record locations-\" + data_date\n",
    "plt.title(\"Navigation data, track references, record locations\\n\" + data_date)\n",
    "plt.xlabel(\"Longitude\")\n",
    "plt.ylabel(\"Latitude\")\n",
    "plt.legend()\n",
    "plt.grid()\n",
    "\n",
    "plt.savefig( data_dir + \"/\" + title + \".png\", bbox_inches='tight')"
   ]
  },
  {
   "cell_type": "code",
   "execution_count": null,
   "metadata": {},
   "outputs": [],
   "source": [
    "if withComparison:\n",
    "    plt.figure()\n",
    "    plt.plot( gps[:,0], Alt, label=\"gps\" )\n",
    "    plt.plot( nav_timeStamp, nav_alt, 'b', label=\"ekfNav\" )\n",
    "    plt.plot( timeStamp_selection, Alt_selection, \"yD\", markeredgecolor = 'black' )\n",
    "    plt.grid()\n",
    "    plt.title( \"Altitude - \" + data_date + \" - files {} to {}\".format(firstFile, lastFile) )\n",
    "    plt.legend()"
   ]
  },
  {
   "cell_type": "markdown",
   "metadata": {},
   "source": [
    "### Track 1"
   ]
  },
  {
   "cell_type": "code",
   "execution_count": null,
   "metadata": {},
   "outputs": [],
   "source": [
    "files = \"files {} to {}\".format( firstFile, lastFile )"
   ]
  },
  {
   "cell_type": "code",
   "execution_count": null,
   "metadata": {},
   "outputs": [],
   "source": [
    "plt.figure()\n",
    "\n",
    "title = \"altitude - velocity - course \" + data_date\n",
    "\n",
    "plt.subplot(311)\n",
    "plt.title( title )\n",
    "plt.plot( timeStamp_selection, Alt_selection, 'Dy', markeredgecolor = 'k', label=\"altitude \" + files )\n",
    "plt.legend()\n",
    "plt.grid()\n",
    "\n",
    "plt.subplot(312)\n",
    "plt.plot( timeStamp_selection, Vel_selection, 'Dy', markeredgecolor = 'k', label=\"velocity \" + files )\n",
    "plt.legend()\n",
    "plt.grid()\n",
    "\n",
    "plt.subplot(313)\n",
    "plt.plot( timeStamp_selection, course_selection, 'Dy', markeredgecolor = 'k', label=\"course \" + files )\n",
    "plt.legend()\n",
    "plt.grid()\n",
    "\n",
    "plt.savefig( data_dir + \"/\" + title + \".png\", bbox_inches='tight')"
   ]
  },
  {
   "cell_type": "code",
   "execution_count": null,
   "metadata": {},
   "outputs": [],
   "source": [
    "plt.figure()\n",
    "\n",
    "title = \"pitch - roll - yaw \" + data_date\n",
    "\n",
    "plt.subplot(311)\n",
    "plt.title( title )\n",
    "plt.plot( timeStamp_selection, pitch_selection, 'Dy', markeredgecolor = 'k', label=\"pitch \" + files )\n",
    "plt.legend()\n",
    "plt.grid()\n",
    "\n",
    "plt.subplot(312)\n",
    "plt.plot( timeStamp_selection, roll_selection, 'Dy', markeredgecolor = 'k',  label=\"roll \" + files )\n",
    "plt.legend()\n",
    "plt.grid()\n",
    "\n",
    "plt.subplot(313)\n",
    "plt.plot( timeStamp_selection, yaw_selection, 'Dy', markeredgecolor = 'k',  label=\"yaw \" + files )\n",
    "plt.legend()\n",
    "plt.grid()\n",
    "\n",
    "plt.savefig( data_dir + \"/\" + title + \".png\", bbox_inches='tight')"
   ]
  },
  {
   "cell_type": "code",
   "execution_count": null,
   "metadata": {},
   "outputs": [],
   "source": [
    "plt.figure()\n",
    "ax = plt.subplot(111)\n",
    "plotRunaway( ax )\n",
    "plt.title( \"track during the record of the files selection\" )\n",
    "plt.plot( Long_selection, Lat_selection )\n",
    "plt.grid()"
   ]
  },
  {
   "cell_type": "markdown",
   "metadata": {},
   "source": [
    "### Track linear approximation"
   ]
  },
  {
   "cell_type": "code",
   "execution_count": null,
   "metadata": {},
   "outputs": [],
   "source": [
    "from posarmctools.track import *"
   ]
  },
  {
   "cell_type": "code",
   "execution_count": null,
   "metadata": {},
   "outputs": [],
   "source": [
    "xdata, ydata = getxy( Lat_selection, Long_selection, startingPoint )"
   ]
  },
  {
   "cell_type": "code",
   "execution_count": null,
   "metadata": {},
   "outputs": [],
   "source": [
    "popt, pcov = curve_fit(func, xdata, ydata)\n",
    "a = popt[0]\n",
    "b = popt[1]\n",
    "print( \"a = {}, b = {}\".format( a, b ) )"
   ]
  },
  {
   "cell_type": "code",
   "execution_count": null,
   "metadata": {},
   "outputs": [],
   "source": [
    "plt.figure()\n",
    "plt.plot( xdata, ydata, label=\"track\" )\n",
    "plt.plot( xdata, func(xdata, a, b), label=\"linear approximation\" )\n",
    "plt.grid()\n",
    "plt.legend()"
   ]
  },
  {
   "cell_type": "code",
   "execution_count": null,
   "metadata": {},
   "outputs": [],
   "source": [
    "import json"
   ]
  },
  {
   "cell_type": "code",
   "execution_count": null,
   "metadata": {},
   "outputs": [],
   "source": [
    "# unit vector\n",
    "ux = ( 1, a ) / ( 1 + a**2 )**0.5\n",
    "uy = [ -a, 1 ] / ( 1 + a**2 )**0.5\n",
    "track_model = { \"trackModel\" : \"model(x, p) = p[1]*x + p[2]\",\n",
    "               \"p\" : (a, b),\n",
    "               \"ux\" : (-ux[0], -ux[1]),\n",
    "               \"uy\" : (-uy[0], -uy[1]),\n",
    "               \"startingPointLatitude\" : startingPoint[0],\n",
    "               \"startingPointLongitude\" : startingPoint[1]\n",
    "              }"
   ]
  },
  {
   "cell_type": "code",
   "execution_count": null,
   "metadata": {},
   "outputs": [],
   "source": [
    "trackFilename = data_dir + \"/track_model.json\"\n",
    "with open( trackFilename, 'w' ) as f:\n",
    "    json.dump( track_model, f )"
   ]
  },
  {
   "cell_type": "code",
   "execution_count": null,
   "metadata": {},
   "outputs": [],
   "source": [
    "# runaway projection\n",
    "runaway_proj = np.zeros( runaway.shape )\n",
    "getProjection( runaway, runaway_proj, startingPoint, track_model )\n",
    "np.save( data_dir + \"/runaway_proj\", runaway_proj )\n",
    "# hangar\n",
    "hangar_proj = np.zeros( hangar.shape )\n",
    "getProjection( hangar, hangar_proj, startingPoint, track_model )\n",
    "np.save( data_dir + \"/hangar_proj\", hangar_proj )\n",
    "# building\n",
    "building_proj = np.zeros( building.shape )\n",
    "getProjection( building, building_proj, startingPoint, track_model )\n",
    "np.save( data_dir + \"/building_proj\", building_proj )\n",
    "# corner reflector large\n",
    "cornerReflectorLarge_proj = np.zeros( cornerReflectorLarge.shape )\n",
    "getProjection( cornerReflectorLarge, cornerReflectorLarge_proj, startingPoint, track_model )\n",
    "np.save( data_dir + \"/cornerReflectorLarge_proj\", cornerReflectorLarge_proj )\n",
    "# corner reflector small\n",
    "cornerReflectorSmall_proj = np.zeros( cornerReflectorSmall.shape )\n",
    "getProjection( cornerReflectorSmall, cornerReflectorSmall_proj, startingPoint, track_model )\n",
    "np.save( data_dir + \"/cornerReflectorSmall_proj\", cornerReflectorSmall_proj )"
   ]
  },
  {
   "cell_type": "code",
   "execution_count": null,
   "metadata": {},
   "outputs": [],
   "source": [
    "track_proj = np.zeros( (Lat.shape[0],2) )\n",
    "getProjection( np.stack( (Lat, Long), -1 ), track_proj, startingPoint, track_model )\n",
    "np.save( data_dir + \"/track_proj\", track_proj )"
   ]
  },
  {
   "cell_type": "code",
   "execution_count": null,
   "metadata": {},
   "outputs": [],
   "source": [
    "x_selection = np.interp( timeStamp_selection, gps[:,0], track_proj[:,0] )\n",
    "y_selection = np.interp( timeStamp_selection, gps[:,0], track_proj[:,1] )\n",
    "np.save( data_dir + \"/track_selection_proj\", np.stack( (x_selection, y_selection ), -1 ) )"
   ]
  },
  {
   "cell_type": "code",
   "execution_count": null,
   "metadata": {},
   "outputs": [],
   "source": [
    "plt.figure()\n",
    "\n",
    "plt.plot( runaway_proj[:,0], runaway_proj[:,1] )\n",
    "plt.plot( hangar_proj[:,0], hangar_proj[:,1] )\n",
    "plt.plot( building_proj[:,0], building_proj[:,1] )\n",
    "\n",
    "plt.plot( track_proj[:,0], track_proj[:,1], \"gray\" )\n",
    "\n",
    "plt.plot( x_selection, y_selection, 'Dy', markerEdgecolor='k',\n",
    "        label = \"files {} to {}\".format( firstFile, lastFile ) )\n",
    "\n",
    "plt.plot( cornerReflectorLarge_proj[0], cornerReflectorLarge_proj[1], 'o', color='white', markeredgecolor='k' )\n",
    "plt.plot( cornerReflectorSmall_proj[0], cornerReflectorSmall_proj[1], 'o', color='white', markeredgecolor='k' )\n",
    "\n",
    "ax = plt.gca()\n",
    "ax.invert_xaxis()\n",
    "ax.invert_yaxis()\n",
    "ax.xaxis.tick_top()\n",
    "ax.yaxis.tick_right()\n",
    "ax.set_aspect(1)\n",
    "plt.xlabel(\"location of the records in the scene coordinate system\\n\" + data_date)\n",
    "plt.grid()\n",
    "plt.legend()"
   ]
  },
  {
   "cell_type": "markdown",
   "metadata": {},
   "source": [
    "## Interpolate navigation data for all ramps"
   ]
  },
  {
   "cell_type": "markdown",
   "metadata": {},
   "source": [
    "### Build timestamp vector\n",
    "Two options: numpy.interp vs scipy.interpolate.interp1d (with kind='linear')"
   ]
  },
  {
   "cell_type": "code",
   "execution_count": null,
   "metadata": {},
   "outputs": [],
   "source": [
    "# rampNumber timeStamp x y z\n",
    "rampNumber = np.arange( rampsPerFile * (nbRecords + 1) )\n",
    "\n",
    "rampNumber_2 = np.concatenate( (rampNumber_1, [ rampNumber_1[-1] + rampsPerFile ] ) )\n",
    "timeStamp_2 = np.concatenate( (timeStamp_1, [ timeStamp_1[-1] + timeStamp_1[-1] - timeStamp_1[-2] ] ) )\n",
    "\n",
    "timeStamp = np.interp( rampNumber, rampNumber_2, timeStamp_2)\n",
    "x = np.interp( timeStamp, gps[:,0], track_proj[:,0] )\n",
    "y = np.interp( timeStamp, gps[:,0], track_proj[:,1] )\n",
    "z = np.interp( timeStamp, gps[:,0], gps[:,3] )\n",
    "xyz_proj_allRamps = np.stack( (rampNumber, timeStamp, x, y, z), -1 )"
   ]
  },
  {
   "cell_type": "code",
   "execution_count": null,
   "metadata": {},
   "outputs": [],
   "source": [
    "np.save( data_dir + \"/rampNumber_timeStamp_xyz\", xyz_proj_allRamps )"
   ]
  },
  {
   "cell_type": "markdown",
   "metadata": {},
   "source": [
    "## Build data for rampUp"
   ]
  },
  {
   "cell_type": "code",
   "execution_count": null,
   "metadata": {},
   "outputs": [],
   "source": [
    "# rampNumber timeStamp x y z\n",
    "\n",
    "timeStamp_2 = np.concatenate( (timeStamp_1, [ timeStamp_1[-1] + timeStamp_1[-1] - timeStamp_1[-2] ] ) ) \\\n",
    "    + params.configuredTRamp / 2\n",
    "\n",
    "timeStamp = np.interp( rampNumber, rampNumber_2, timeStamp_2)\n",
    "x = np.interp( timeStamp, gps[:,0], track_proj[:,0] )\n",
    "y = np.interp( timeStamp, gps[:,0], track_proj[:,1] )\n",
    "z = np.interp( timeStamp, gps[:,0], gps[:,3] )\n",
    "xyz_proj_allRamps = np.stack( (rampNumber, timeStamp, x, y, z), -1 )"
   ]
  },
  {
   "cell_type": "code",
   "execution_count": null,
   "metadata": {},
   "outputs": [],
   "source": [
    "np.save( data_dir + \"/rampNumber_timeStamp_xyz_rampUp\", xyz_proj_allRamps )"
   ]
  },
  {
   "cell_type": "code",
   "execution_count": null,
   "metadata": {},
   "outputs": [],
   "source": [
    "plt.figure()\n",
    "plt.plot( x_selection, y_selection, 'Dy', markerEdgecolor='k', label = \"files {} to {}\".format( firstFile, lastFile ) )\n",
    "firstRamp = firstFile * rampsPerFile\n",
    "lastRamp = firstRamp + (nbFiles+1) * rampsPerFile\n",
    "plt.plot( x[firstRamp : lastRamp], y[firstRamp : lastRamp], '.b', label = 'ramps' )\n",
    "plt.legend()\n",
    "plt.title(\"xy\")\n",
    "plt.grid()"
   ]
  },
  {
   "cell_type": "code",
   "execution_count": null,
   "metadata": {},
   "outputs": [],
   "source": [
    "plt.figure()\n",
    "plt.plot(rampNumber_1, timeStamp_1)\n",
    "plt.plot(rampNumber_2, timeStamp_2, 'o')"
   ]
  },
  {
   "cell_type": "code",
   "execution_count": null,
   "metadata": {},
   "outputs": [],
   "source": []
  },
  {
   "cell_type": "code",
   "execution_count": null,
   "metadata": {},
   "outputs": [],
   "source": []
  },
  {
   "cell_type": "code",
   "execution_count": null,
   "metadata": {},
   "outputs": [],
   "source": []
  }
 ],
 "metadata": {
  "kernelspec": {
   "display_name": "Python 3",
   "language": "python",
   "name": "python3"
  },
  "language_info": {
   "codemirror_mode": {
    "name": "ipython",
    "version": 3
   },
   "file_extension": ".py",
   "mimetype": "text/x-python",
   "name": "python",
   "nbconvert_exporter": "python",
   "pygments_lexer": "ipython3",
   "version": "3.6.5"
  }
 },
 "nbformat": 4,
 "nbformat_minor": 2
}
