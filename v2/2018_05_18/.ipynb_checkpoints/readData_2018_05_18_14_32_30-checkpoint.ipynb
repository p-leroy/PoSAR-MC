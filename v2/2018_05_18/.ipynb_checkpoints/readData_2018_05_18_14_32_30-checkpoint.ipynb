{
 "cells": [
  {
   "cell_type": "code",
   "execution_count": 1,
   "metadata": {},
   "outputs": [],
   "source": [
    "import numpy as np\n",
    "import matplotlib.pyplot as plt\n",
    "%matplotlib qt5"
   ]
  },
  {
   "cell_type": "code",
   "execution_count": 2,
   "metadata": {},
   "outputs": [],
   "source": [
    "import sys"
   ]
  },
  {
   "cell_type": "code",
   "execution_count": 14,
   "metadata": {},
   "outputs": [],
   "source": [
    "sys.path.insert(0, \"/home/pleroy/DEV/processing/PoSAR-MC\")\n",
    "from posarmctools.readdata import *"
   ]
  },
  {
   "cell_type": "code",
   "execution_count": 4,
   "metadata": {},
   "outputs": [],
   "source": [
    "%load_ext autoreload\n",
    "%autoreload 2"
   ]
  },
  {
   "cell_type": "code",
   "execution_count": 5,
   "metadata": {},
   "outputs": [],
   "source": [
    "sys.path.insert(0, \"/home/pleroy/DEV/processing/focalization_python\")\n",
    "from posarutils.other.read_data_and_build_rd import *\n",
    "from posarutils.other.PosarMCParameters import *"
   ]
  },
  {
   "cell_type": "code",
   "execution_count": 8,
   "metadata": {},
   "outputs": [],
   "source": [
    "data_date = \"2018_05_18_14_45_06\"\n",
    "data_dir = \"//home/pleroy/DATA/PoSAR-v2_PIMA_TEST-3/2018_05_18/\" + data_date"
   ]
  },
  {
   "cell_type": "code",
   "execution_count": 9,
   "metadata": {},
   "outputs": [],
   "source": [
    "params_filename = data_dir + \"/\" + data_date + \"_parameters.xml\"\n",
    "params = PosarMCParameters_v2( params_filename )"
   ]
  },
  {
   "cell_type": "code",
   "execution_count": 10,
   "metadata": {},
   "outputs": [
    {
     "name": "stdout",
     "output_type": "stream",
     "text": [
      "buffersPerFile = 2, samplesPerRamp = 12000, rampsPerFile = 750\n"
     ]
    }
   ],
   "source": [
    "buffersPerFile = params.buffersPerFile\n",
    "samplesPerRamp = params.samplesPerRamp\n",
    "rampsPerFile = params.rampsPerFile\n",
    "samplesPerFile = samplesPerRamp * rampsPerFile\n",
    "\n",
    "print( \"buffersPerFile = {}, samplesPerRamp = {}, rampsPerFile = {}\".format(\n",
    "    buffersPerFile, samplesPerRamp, rampsPerFile )\n",
    "     )\n",
    "\n",
    "# selection in record\n",
    "firstFile = 30\n",
    "nbFiles = 70\n",
    "lastFile = firstFile + nbFiles - 1\n",
    "firstBuffer = firstFile * buffersPerFile"
   ]
  },
  {
   "cell_type": "markdown",
   "metadata": {},
   "source": [
    "### Read the data"
   ]
  },
  {
   "cell_type": "code",
   "execution_count": 11,
   "metadata": {},
   "outputs": [],
   "source": [
    "scalingFactor = 2 / 65535\n",
    "offset = -32768"
   ]
  },
  {
   "cell_type": "code",
   "execution_count": 12,
   "metadata": {},
   "outputs": [],
   "source": [
    "timeSerie_A = np.zeros( samplesPerFile )\n",
    "adc_A = np.zeros( (nbFiles, samplesPerFile) )"
   ]
  },
  {
   "cell_type": "code",
   "execution_count": 15,
   "metadata": {},
   "outputs": [
    {
     "name": "stdout",
     "output_type": "stream",
     "text": [
      "k = 0, block = 60 / 198\n",
      "k = 1, block = 62 / 198\n",
      "k = 2, block = 64 / 198\n",
      "k = 3, block = 66 / 198\n",
      "k = 4, block = 68 / 198\n",
      "k = 5, block = 70 / 198\n",
      "k = 6, block = 72 / 198\n",
      "k = 7, block = 74 / 198\n",
      "k = 8, block = 76 / 198\n",
      "k = 9, block = 78 / 198\n",
      "k = 10, block = 80 / 198\n",
      "k = 11, block = 82 / 198\n",
      "k = 12, block = 84 / 198\n",
      "k = 13, block = 86 / 198\n",
      "k = 14, block = 88 / 198\n",
      "k = 15, block = 90 / 198\n",
      "k = 16, block = 92 / 198\n",
      "k = 17, block = 94 / 198\n",
      "k = 18, block = 96 / 198\n",
      "k = 19, block = 98 / 198\n",
      "k = 20, block = 100 / 198\n",
      "k = 21, block = 102 / 198\n",
      "k = 22, block = 104 / 198\n",
      "k = 23, block = 106 / 198\n",
      "k = 24, block = 108 / 198\n",
      "k = 25, block = 110 / 198\n",
      "k = 26, block = 112 / 198\n",
      "k = 27, block = 114 / 198\n",
      "k = 28, block = 116 / 198\n",
      "k = 29, block = 118 / 198\n",
      "k = 30, block = 120 / 198\n",
      "k = 31, block = 122 / 198\n",
      "k = 32, block = 124 / 198\n",
      "k = 33, block = 126 / 198\n",
      "k = 34, block = 128 / 198\n",
      "k = 35, block = 130 / 198\n",
      "k = 36, block = 132 / 198\n",
      "k = 37, block = 134 / 198\n",
      "k = 38, block = 136 / 198\n",
      "k = 39, block = 138 / 198\n",
      "k = 40, block = 140 / 198\n",
      "k = 41, block = 142 / 198\n",
      "k = 42, block = 144 / 198\n",
      "k = 43, block = 146 / 198\n",
      "k = 44, block = 148 / 198\n",
      "k = 45, block = 150 / 198\n",
      "k = 46, block = 152 / 198\n",
      "k = 47, block = 154 / 198\n",
      "k = 48, block = 156 / 198\n",
      "k = 49, block = 158 / 198\n",
      "k = 50, block = 160 / 198\n",
      "k = 51, block = 162 / 198\n",
      "k = 52, block = 164 / 198\n",
      "k = 53, block = 166 / 198\n",
      "k = 54, block = 168 / 198\n",
      "k = 55, block = 170 / 198\n",
      "k = 56, block = 172 / 198\n",
      "k = 57, block = 174 / 198\n",
      "k = 58, block = 176 / 198\n",
      "k = 59, block = 178 / 198\n",
      "k = 60, block = 180 / 198\n",
      "k = 61, block = 182 / 198\n",
      "k = 62, block = 184 / 198\n",
      "k = 63, block = 186 / 198\n",
      "k = 64, block = 188 / 198\n",
      "k = 65, block = 190 / 198\n",
      "k = 66, block = 192 / 198\n",
      "k = 67, block = 194 / 198\n",
      "k = 68, block = 196 / 198\n",
      "k = 69, block = 198 / 198\n"
     ]
    }
   ],
   "source": [
    "lastBuffer = (nbFiles-1) * buffersPerFile + firstBuffer\n",
    "for k in range( nbFiles ):\n",
    "    \n",
    "    # read the data\n",
    "    nb = str( int( k * buffersPerFile + firstBuffer) )\n",
    "    filename = data_dir + \"/record\" + nb + \".bin\"\n",
    "    readFileADLINKCh0( filename, samplesPerFile, timeSerie_A )\n",
    "    \n",
    "    print(\"k = {}, block = {} / {}\".format(k, nb, lastBuffer))\n",
    "    \n",
    "    adc_A[ k, : ] = (timeSerie_A + offset) * scalingFactor"
   ]
  },
  {
   "cell_type": "code",
   "execution_count": 16,
   "metadata": {},
   "outputs": [],
   "source": [
    "A_reshaped = adc_A.reshape(nbFiles * rampsPerFile, samplesPerRamp)"
   ]
  },
  {
   "cell_type": "markdown",
   "metadata": {},
   "source": [
    "**Check that the first ramp is an up ramp**"
   ]
  },
  {
   "cell_type": "code",
   "execution_count": 17,
   "metadata": {},
   "outputs": [],
   "source": [
    "plt.figure()\n",
    "plt.plot( A_reshaped[0, :] )\n",
    "plt.title(\"first acquisition\\n\" + data_date)\n",
    "plt.grid()"
   ]
  },
  {
   "cell_type": "markdown",
   "metadata": {},
   "source": [
    "**Set the shifted flag properly**"
   ]
  },
  {
   "cell_type": "code",
   "execution_count": 18,
   "metadata": {},
   "outputs": [],
   "source": [
    "shifted = 1\n",
    "rampDownFirst = 1"
   ]
  },
  {
   "cell_type": "markdown",
   "metadata": {},
   "source": [
    "## Build RD"
   ]
  },
  {
   "cell_type": "code",
   "execution_count": 19,
   "metadata": {},
   "outputs": [
    {
     "name": "stdout",
     "output_type": "stream",
     "text": [
      "shape of the samples matrix = (52500, 12000)\n",
      "ramp down first in the data files\n"
     ]
    }
   ],
   "source": [
    "#RDc = build_rd_from_data( params, A_reshaped, shifted )\n",
    "RDc = build_rd_from_data_rampDown( params, A_reshaped, rampDownFirst )"
   ]
  },
  {
   "cell_type": "code",
   "execution_count": 20,
   "metadata": {},
   "outputs": [],
   "source": [
    "coupling_RD = np.average(RDc, 0)\n",
    "np.save( data_dir + \"/coupling_RD_files_{}_{}_rampDown\".format(firstFile, lastFile), coupling_RD )"
   ]
  },
  {
   "cell_type": "code",
   "execution_count": 21,
   "metadata": {},
   "outputs": [],
   "source": [
    "plt.figure()\n",
    "plt.plot(np.abs(coupling_RD), 'k', label='coupling')\n",
    "plt.legend()\n",
    "plt.grid()"
   ]
  },
  {
   "cell_type": "code",
   "execution_count": 22,
   "metadata": {},
   "outputs": [],
   "source": [
    "np.save(data_dir + '/RD_files_{}_{}_rampDown'.format(firstFile, lastFile), RDc)"
   ]
  },
  {
   "cell_type": "code",
   "execution_count": null,
   "metadata": {},
   "outputs": [],
   "source": []
  }
 ],
 "metadata": {
  "kernelspec": {
   "display_name": "Python 3",
   "language": "python",
   "name": "python3"
  },
  "language_info": {
   "codemirror_mode": {
    "name": "ipython",
    "version": 3
   },
   "file_extension": ".py",
   "mimetype": "text/x-python",
   "name": "python",
   "nbconvert_exporter": "python",
   "pygments_lexer": "ipython3",
   "version": "3.6.5"
  }
 },
 "nbformat": 4,
 "nbformat_minor": 2
}
