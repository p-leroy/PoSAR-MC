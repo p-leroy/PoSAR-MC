{
 "cells": [
  {
   "cell_type": "code",
   "execution_count": 1,
   "metadata": {},
   "outputs": [],
   "source": [
    "import numpy as np\n",
    "import matplotlib.pyplot as plt\n",
    "%matplotlib qt5"
   ]
  },
  {
   "cell_type": "code",
   "execution_count": 2,
   "metadata": {},
   "outputs": [],
   "source": [
    "import sys"
   ]
  },
  {
   "cell_type": "code",
   "execution_count": 3,
   "metadata": {},
   "outputs": [],
   "source": [
    "sys.path.insert(0, \"/home/pleroy/DEV/processing/PoSAR-MC\")\n",
    "from posarmctools.readdata import *"
   ]
  },
  {
   "cell_type": "code",
   "execution_count": 4,
   "metadata": {},
   "outputs": [],
   "source": [
    "%load_ext autoreload\n",
    "%autoreload 2"
   ]
  },
  {
   "cell_type": "code",
   "execution_count": 5,
   "metadata": {},
   "outputs": [],
   "source": [
    "sys.path.insert(0, \"/home/pleroy/DEV/processing/focalization_python\")\n",
    "from posarutils.other.read_data_and_build_rd import *\n",
    "from posarutils.other.PosarMCParameters import *"
   ]
  },
  {
   "cell_type": "code",
   "execution_count": 8,
   "metadata": {},
   "outputs": [],
   "source": [
    "data_date = \"2018_05_18_14_45_06\"\n",
    "data_dir = \"//home/pleroy/DATA/PoSAR-v2_PIMA_TEST-3/2018_05_18/\" + data_date"
   ]
  },
  {
   "cell_type": "code",
   "execution_count": 9,
   "metadata": {},
   "outputs": [],
   "source": [
    "params_filename = data_dir + \"/\" + data_date + \"_parameters.xml\"\n",
    "params = PosarMCParameters_v2( params_filename )"
   ]
  },
  {
   "cell_type": "code",
   "execution_count": null,
   "metadata": {},
   "outputs": [],
   "source": [
    "buffersPerFile = params.buffersPerFile\n",
    "samplesPerRamp = params.samplesPerRamp\n",
    "rampsPerFile = params.rampsPerFile\n",
    "samplesPerFile = samplesPerRamp * rampsPerFile\n",
    "\n",
    "print( \"buffersPerFile = {}, samplesPerRamp = {}, rampsPerFile = {}\".format(\n",
    "    buffersPerFile, samplesPerRamp, rampsPerFile )\n",
    "     )\n",
    "\n",
    "# selection in record\n",
    "firstFile = 0\n",
    "nbFiles = 71\n",
    "#firstFile = 37\n",
    "#nbFiles = 33\n",
    "lastFile = firstFile + nbFiles - 1\n",
    "firstBuffer = firstFile * buffersPerFile"
   ]
  },
  {
   "cell_type": "markdown",
   "metadata": {},
   "source": [
    "### Read the data"
   ]
  },
  {
   "cell_type": "code",
   "execution_count": null,
   "metadata": {},
   "outputs": [],
   "source": [
    "scalingFactor = 2 / 65535\n",
    "offset = -32768"
   ]
  },
  {
   "cell_type": "code",
   "execution_count": null,
   "metadata": {},
   "outputs": [],
   "source": [
    "timeSerie_A = np.zeros( samplesPerFile )\n",
    "timeSerie_B = np.zeros( samplesPerFile )\n",
    "\n",
    "adc_A = np.zeros( (nbFiles, samplesPerFile) )"
   ]
  },
  {
   "cell_type": "code",
   "execution_count": null,
   "metadata": {},
   "outputs": [],
   "source": [
    "lastBuffer = (nbFiles-1) * buffersPerFile + firstBuffer\n",
    "for k in range( nbFiles ):\n",
    "    \n",
    "    # read the data\n",
    "    nb = str( int( k * buffersPerFile + firstBuffer) )\n",
    "    filename = data_dir + \"/record\" + nb + \".bin\"\n",
    "    readFileADLINK( filename, samplesPerFile, timeSerie_A, timeSerie_B )\n",
    "    \n",
    "    print(\"k = {}, block = {} / {}\".format(k, nb, lastBuffer))\n",
    "    \n",
    "    adc_A[ k, : ] = (timeSerie_A + offset) * scalingFactor"
   ]
  },
  {
   "cell_type": "code",
   "execution_count": null,
   "metadata": {},
   "outputs": [],
   "source": [
    "A_reshaped = adc_A.reshape(nbFiles * rampsPerFile, samplesPerRamp)"
   ]
  },
  {
   "cell_type": "markdown",
   "metadata": {},
   "source": [
    "**Check that the first ramp is an up ramp**"
   ]
  },
  {
   "cell_type": "code",
   "execution_count": null,
   "metadata": {},
   "outputs": [],
   "source": [
    "plt.figure()\n",
    "plt.plot( A_reshaped[0, :] )\n",
    "plt.title(\"first acquisition\\n\" + data_date)\n",
    "plt.grid()"
   ]
  },
  {
   "cell_type": "markdown",
   "metadata": {},
   "source": [
    "**Set the shifted flag properly**"
   ]
  },
  {
   "cell_type": "code",
   "execution_count": null,
   "metadata": {},
   "outputs": [],
   "source": [
    "shifted = 1\n",
    "rampDownFirst = 1"
   ]
  },
  {
   "cell_type": "markdown",
   "metadata": {},
   "source": [
    "## Build RD"
   ]
  },
  {
   "cell_type": "code",
   "execution_count": null,
   "metadata": {},
   "outputs": [],
   "source": [
    "#RDc = build_rd_from_data( params, A_reshaped, shifted )\n",
    "RDc = build_rd_from_data_rampDown( params, A_reshaped, rampDownFirst )"
   ]
  },
  {
   "cell_type": "code",
   "execution_count": null,
   "metadata": {},
   "outputs": [],
   "source": [
    "coupling_RD = np.average(RDc, 0)\n",
    "np.save( data_dir + \"/coupling_RD_files_{}_{}_rampDown\".format(firstFile, lastFile), coupling_RD )"
   ]
  },
  {
   "cell_type": "code",
   "execution_count": null,
   "metadata": {},
   "outputs": [],
   "source": [
    "plt.figure()\n",
    "plt.plot(np.abs(coupling_RD), 'k', label='coupling')\n",
    "plt.legend()\n",
    "plt.grid()"
   ]
  },
  {
   "cell_type": "code",
   "execution_count": null,
   "metadata": {},
   "outputs": [],
   "source": [
    "np.save(data_dir + '/RD_files_{}_{}_rampDown'.format(firstFile, lastFile), RDc)"
   ]
  },
  {
   "cell_type": "code",
   "execution_count": null,
   "metadata": {},
   "outputs": [],
   "source": []
  }
 ],
 "metadata": {
  "kernelspec": {
   "display_name": "Python 3",
   "language": "python",
   "name": "python3"
  },
  "language_info": {
   "codemirror_mode": {
    "name": "ipython",
    "version": 3
   },
   "file_extension": ".py",
   "mimetype": "text/x-python",
   "name": "python",
   "nbconvert_exporter": "python",
   "pygments_lexer": "ipython3",
   "version": "3.6.4"
  }
 },
 "nbformat": 4,
 "nbformat_minor": 2
}
