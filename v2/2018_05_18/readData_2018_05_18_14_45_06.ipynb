{
 "cells": [
  {
   "cell_type": "code",
   "execution_count": 1,
   "metadata": {},
   "outputs": [],
   "source": [
    "import numpy as np\n",
    "import matplotlib.pyplot as plt\n",
    "%matplotlib qt5"
   ]
  },
  {
   "cell_type": "code",
   "execution_count": 2,
   "metadata": {},
   "outputs": [],
   "source": [
    "import sys"
   ]
  },
  {
   "cell_type": "code",
   "execution_count": 3,
   "metadata": {},
   "outputs": [],
   "source": [
    "sys.path.insert(0, \"/home/pleroy/DEV/processing/PoSAR-MC\")\n",
    "from posarmctools.readdata import *"
   ]
  },
  {
   "cell_type": "code",
   "execution_count": 4,
   "metadata": {},
   "outputs": [],
   "source": [
    "%load_ext autoreload\n",
    "%autoreload 2"
   ]
  },
  {
   "cell_type": "code",
   "execution_count": 5,
   "metadata": {},
   "outputs": [],
   "source": [
    "sys.path.insert(0, \"/home/pleroy/DEV/processing/focalization_python\")\n",
    "from posarutils.other.read_data_and_build_rd import *\n",
    "from posarutils.other.PosarMCParameters import *"
   ]
  },
  {
   "cell_type": "code",
   "execution_count": 6,
   "metadata": {},
   "outputs": [],
   "source": [
    "data_date = \"2018_05_18_14_45_06\"\n",
    "data_dir = \"/home/pleroy/DATA/PoSAR-v2_PIMA_TEST-3/2018_05_18/\" + data_date"
   ]
  },
  {
   "cell_type": "code",
   "execution_count": 7,
   "metadata": {},
   "outputs": [],
   "source": [
    "params_filename = data_dir + \"/\" + data_date + \"_parameters.xml\"\n",
    "params = PosarMCParameters_v2( params_filename )"
   ]
  },
  {
   "cell_type": "code",
   "execution_count": 8,
   "metadata": {},
   "outputs": [
    {
     "name": "stdout",
     "output_type": "stream",
     "text": [
      "buffersPerFile = 2, samplesPerRamp = 12000, rampsPerFile = 750\n"
     ]
    }
   ],
   "source": [
    "buffersPerFile = params.buffersPerFile\n",
    "samplesPerRamp = params.samplesPerRamp\n",
    "rampsPerFile = params.rampsPerFile\n",
    "samplesPerFile = samplesPerRamp * rampsPerFile\n",
    "\n",
    "print( \"buffersPerFile = {}, samplesPerRamp = {}, rampsPerFile = {}\".format(\n",
    "    buffersPerFile, samplesPerRamp, rampsPerFile )\n",
    "     )\n",
    "\n",
    "# selection in record\n",
    "firstFile = 18\n",
    "nbFiles = 146\n",
    "lastFile = firstFile + nbFiles - 1\n",
    "firstBuffer = firstFile * buffersPerFile"
   ]
  },
  {
   "cell_type": "markdown",
   "metadata": {},
   "source": [
    "# Read the data"
   ]
  },
  {
   "cell_type": "code",
   "execution_count": 9,
   "metadata": {},
   "outputs": [],
   "source": [
    "scalingFactor = 2 / 65535\n",
    "offset = -32768"
   ]
  },
  {
   "cell_type": "code",
   "execution_count": 10,
   "metadata": {},
   "outputs": [],
   "source": [
    "timeSerie_A = np.zeros( samplesPerFile )\n",
    "adc_A = np.zeros( (nbFiles, samplesPerFile) )"
   ]
  },
  {
   "cell_type": "markdown",
   "metadata": {},
   "source": [
    "## Read all files"
   ]
  },
  {
   "cell_type": "code",
   "execution_count": 11,
   "metadata": {},
   "outputs": [
    {
     "name": "stdout",
     "output_type": "stream",
     "text": [
      "k = 0, block = 36 / 326\n",
      "k = 1, block = 38 / 326\n",
      "k = 2, block = 40 / 326\n",
      "k = 3, block = 42 / 326\n",
      "k = 4, block = 44 / 326\n",
      "k = 5, block = 46 / 326\n",
      "k = 6, block = 48 / 326\n",
      "k = 7, block = 50 / 326\n",
      "k = 8, block = 52 / 326\n",
      "k = 9, block = 54 / 326\n",
      "k = 10, block = 56 / 326\n",
      "k = 11, block = 58 / 326\n",
      "k = 12, block = 60 / 326\n",
      "k = 13, block = 62 / 326\n",
      "k = 14, block = 64 / 326\n",
      "k = 15, block = 66 / 326\n",
      "k = 16, block = 68 / 326\n",
      "k = 17, block = 70 / 326\n",
      "k = 18, block = 72 / 326\n",
      "k = 19, block = 74 / 326\n",
      "k = 20, block = 76 / 326\n",
      "k = 21, block = 78 / 326\n",
      "k = 22, block = 80 / 326\n",
      "k = 23, block = 82 / 326\n",
      "k = 24, block = 84 / 326\n",
      "k = 25, block = 86 / 326\n",
      "k = 26, block = 88 / 326\n",
      "k = 27, block = 90 / 326\n",
      "k = 28, block = 92 / 326\n",
      "k = 29, block = 94 / 326\n",
      "k = 30, block = 96 / 326\n",
      "k = 31, block = 98 / 326\n",
      "k = 32, block = 100 / 326\n",
      "k = 33, block = 102 / 326\n",
      "k = 34, block = 104 / 326\n",
      "k = 35, block = 106 / 326\n",
      "k = 36, block = 108 / 326\n",
      "k = 37, block = 110 / 326\n",
      "k = 38, block = 112 / 326\n",
      "k = 39, block = 114 / 326\n",
      "k = 40, block = 116 / 326\n",
      "k = 41, block = 118 / 326\n",
      "k = 42, block = 120 / 326\n",
      "k = 43, block = 122 / 326\n",
      "k = 44, block = 124 / 326\n",
      "k = 45, block = 126 / 326\n",
      "k = 46, block = 128 / 326\n",
      "k = 47, block = 130 / 326\n",
      "k = 48, block = 132 / 326\n",
      "k = 49, block = 134 / 326\n",
      "k = 50, block = 136 / 326\n",
      "k = 51, block = 138 / 326\n",
      "k = 52, block = 140 / 326\n",
      "k = 53, block = 142 / 326\n",
      "k = 54, block = 144 / 326\n",
      "k = 55, block = 146 / 326\n",
      "k = 56, block = 148 / 326\n",
      "k = 57, block = 150 / 326\n",
      "k = 58, block = 152 / 326\n",
      "k = 59, block = 154 / 326\n",
      "k = 60, block = 156 / 326\n",
      "k = 61, block = 158 / 326\n",
      "k = 62, block = 160 / 326\n",
      "k = 63, block = 162 / 326\n",
      "k = 64, block = 164 / 326\n",
      "k = 65, block = 166 / 326\n",
      "k = 66, block = 168 / 326\n",
      "k = 67, block = 170 / 326\n",
      "k = 68, block = 172 / 326\n",
      "k = 69, block = 174 / 326\n",
      "k = 70, block = 176 / 326\n",
      "k = 71, block = 178 / 326\n",
      "k = 72, block = 180 / 326\n",
      "k = 73, block = 182 / 326\n",
      "k = 74, block = 184 / 326\n",
      "k = 75, block = 186 / 326\n",
      "k = 76, block = 188 / 326\n",
      "k = 77, block = 190 / 326\n",
      "k = 78, block = 192 / 326\n",
      "k = 79, block = 194 / 326\n",
      "k = 80, block = 196 / 326\n",
      "k = 81, block = 198 / 326\n",
      "k = 82, block = 200 / 326\n",
      "k = 83, block = 202 / 326\n",
      "k = 84, block = 204 / 326\n",
      "k = 85, block = 206 / 326\n",
      "k = 86, block = 208 / 326\n",
      "k = 87, block = 210 / 326\n",
      "k = 88, block = 212 / 326\n",
      "k = 89, block = 214 / 326\n",
      "k = 90, block = 216 / 326\n",
      "k = 91, block = 218 / 326\n",
      "k = 92, block = 220 / 326\n",
      "k = 93, block = 222 / 326\n",
      "k = 94, block = 224 / 326\n",
      "k = 95, block = 226 / 326\n",
      "k = 96, block = 228 / 326\n",
      "k = 97, block = 230 / 326\n",
      "k = 98, block = 232 / 326\n",
      "k = 99, block = 234 / 326\n",
      "k = 100, block = 236 / 326\n",
      "k = 101, block = 238 / 326\n",
      "k = 102, block = 240 / 326\n",
      "k = 103, block = 242 / 326\n",
      "k = 104, block = 244 / 326\n",
      "k = 105, block = 246 / 326\n",
      "k = 106, block = 248 / 326\n",
      "k = 107, block = 250 / 326\n",
      "k = 108, block = 252 / 326\n",
      "k = 109, block = 254 / 326\n",
      "k = 110, block = 256 / 326\n",
      "k = 111, block = 258 / 326\n",
      "k = 112, block = 260 / 326\n",
      "k = 113, block = 262 / 326\n",
      "k = 114, block = 264 / 326\n",
      "k = 115, block = 266 / 326\n",
      "k = 116, block = 268 / 326\n",
      "k = 117, block = 270 / 326\n",
      "k = 118, block = 272 / 326\n",
      "k = 119, block = 274 / 326\n",
      "k = 120, block = 276 / 326\n",
      "k = 121, block = 278 / 326\n",
      "k = 122, block = 280 / 326\n",
      "k = 123, block = 282 / 326\n",
      "k = 124, block = 284 / 326\n",
      "k = 125, block = 286 / 326\n",
      "k = 126, block = 288 / 326\n",
      "k = 127, block = 290 / 326\n",
      "k = 128, block = 292 / 326\n",
      "k = 129, block = 294 / 326\n",
      "k = 130, block = 296 / 326\n",
      "k = 131, block = 298 / 326\n",
      "k = 132, block = 300 / 326\n",
      "k = 133, block = 302 / 326\n",
      "k = 134, block = 304 / 326\n",
      "k = 135, block = 306 / 326\n",
      "k = 136, block = 308 / 326\n",
      "k = 137, block = 310 / 326\n",
      "k = 138, block = 312 / 326\n",
      "k = 139, block = 314 / 326\n",
      "k = 140, block = 316 / 326\n",
      "k = 141, block = 318 / 326\n",
      "k = 142, block = 320 / 326\n",
      "k = 143, block = 322 / 326\n",
      "k = 144, block = 324 / 326\n",
      "k = 145, block = 326 / 326\n"
     ]
    }
   ],
   "source": [
    "lastBuffer = (nbFiles-1) * buffersPerFile + firstBuffer\n",
    "for k in range( nbFiles ):\n",
    "    \n",
    "    # read the data\n",
    "    nb = str( int( k * buffersPerFile + firstBuffer) )\n",
    "    filename = data_dir + \"/record\" + nb + \".bin\"\n",
    "    readFileADLINKCh0( filename, samplesPerFile, timeSerie_A )\n",
    "    \n",
    "    print(\"k = {}, block = {} / {}\".format(k, nb, lastBuffer))\n",
    "    \n",
    "    adc_A[ k, : ] = (timeSerie_A + offset) * scalingFactor"
   ]
  },
  {
   "cell_type": "code",
   "execution_count": 12,
   "metadata": {},
   "outputs": [],
   "source": [
    "A_reshaped = adc_A.reshape(nbFiles * rampsPerFile, samplesPerRamp)"
   ]
  },
  {
   "cell_type": "markdown",
   "metadata": {},
   "source": [
    "**Check that the first ramp is an up ramp**"
   ]
  },
  {
   "cell_type": "code",
   "execution_count": 13,
   "metadata": {},
   "outputs": [],
   "source": [
    "plt.figure()\n",
    "plt.plot( A_reshaped[0, :] )\n",
    "plt.title(\"first acquisition\\n\" + data_date)\n",
    "plt.grid()"
   ]
  },
  {
   "cell_type": "markdown",
   "metadata": {},
   "source": [
    "**Set the shifted flag properly**"
   ]
  },
  {
   "cell_type": "code",
   "execution_count": 14,
   "metadata": {},
   "outputs": [],
   "source": [
    "rampDownFirst = 1"
   ]
  },
  {
   "cell_type": "markdown",
   "metadata": {},
   "source": [
    "## Build RD"
   ]
  },
  {
   "cell_type": "code",
   "execution_count": 15,
   "metadata": {},
   "outputs": [
    {
     "name": "stdout",
     "output_type": "stream",
     "text": [
      "shape of the samples matrix = (109500, 12000)\n",
      "with Hanning window\n",
      "ramp down first in the data files\n"
     ]
    }
   ],
   "source": [
    "withHanning = 1\n",
    "RDc = build_rd_from_data_rampDown( params, A_reshaped, rampDownFirst, withHanning )"
   ]
  },
  {
   "cell_type": "code",
   "execution_count": 16,
   "metadata": {},
   "outputs": [],
   "source": [
    "coupling_RD = np.average(RDc, 0)\n",
    "if withHanning:\n",
    "    np.save( data_dir + \"/coupling_RD_files_{}_{}_rampDown_hanning\".format(firstFile, lastFile), coupling_RD )\n",
    "else:\n",
    "    np.save( data_dir + \"/coupling_RD_files_{}_{}_rampDown\".format(firstFile, lastFile), coupling_RD )"
   ]
  },
  {
   "cell_type": "code",
   "execution_count": 17,
   "metadata": {},
   "outputs": [],
   "source": [
    "plt.figure()\n",
    "plt.plot(np.abs(coupling_RD), 'k', label='coupling')\n",
    "plt.legend()\n",
    "plt.grid()"
   ]
  },
  {
   "cell_type": "code",
   "execution_count": 18,
   "metadata": {},
   "outputs": [],
   "source": [
    "if withHanning:\n",
    "    np.save(data_dir + '/RD_files_{}_{}_rampDown_hanning'.format(firstFile, lastFile), RDc) \n",
    "else:\n",
    "    np.save(data_dir + '/RD_files_{}_{}_rampDown'.format(firstFile, lastFile), RDc)"
   ]
  },
  {
   "cell_type": "code",
   "execution_count": null,
   "metadata": {},
   "outputs": [],
   "source": []
  }
 ],
 "metadata": {
  "kernelspec": {
   "display_name": "Python 3",
   "language": "python",
   "name": "python3"
  },
  "language_info": {
   "codemirror_mode": {
    "name": "ipython",
    "version": 3
   },
   "file_extension": ".py",
   "mimetype": "text/x-python",
   "name": "python",
   "nbconvert_exporter": "python",
   "pygments_lexer": "ipython3",
   "version": "3.6.5"
  }
 },
 "nbformat": 4,
 "nbformat_minor": 2
}
