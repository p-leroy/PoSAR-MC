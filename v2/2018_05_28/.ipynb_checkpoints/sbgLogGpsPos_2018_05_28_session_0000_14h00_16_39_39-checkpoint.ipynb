{
 "cells": [
  {
   "cell_type": "code",
   "execution_count": 1,
   "metadata": {},
   "outputs": [],
   "source": [
    "import io\n",
    "import csv\n",
    "import os.path\n",
    "\n",
    "import numpy as np\n",
    "import numexpr as ne\n",
    "import matplotlib.pyplot as plt\n",
    "\n",
    "%matplotlib qt5"
   ]
  },
  {
   "cell_type": "code",
   "execution_count": 2,
   "metadata": {},
   "outputs": [],
   "source": [
    "import sys"
   ]
  },
  {
   "cell_type": "code",
   "execution_count": 3,
   "metadata": {},
   "outputs": [],
   "source": [
    "sys.path.insert(0, \"/home/pleroy/DEV/processing/PoSAR-MC\")\n",
    "from posarmctools.ekfnavtools import *"
   ]
  },
  {
   "cell_type": "code",
   "execution_count": 4,
   "metadata": {},
   "outputs": [],
   "source": [
    "sys.path.insert(0, \"/home/pleroy/DEV/processing/focalization_python\")\n",
    "from posarutils.other.PosarMCParameters import *"
   ]
  },
  {
   "cell_type": "code",
   "execution_count": 5,
   "metadata": {},
   "outputs": [],
   "source": [
    "%load_ext autoreload\n",
    "%autoreload 2"
   ]
  },
  {
   "cell_type": "markdown",
   "metadata": {},
   "source": [
    "## Load navigation data SbgLogEkfNav"
   ]
  },
  {
   "cell_type": "code",
   "execution_count": 6,
   "metadata": {},
   "outputs": [],
   "source": [
    "prefix = \"/home/pleroy/DATA/PoSAR-v2_PIMA_TEST-3/2018_05_28/dataLogger/session_0000/2018_05_28/11h00/\"\n",
    "\n",
    "logEkfEuler_11h00 = prefix+ \"sbgLogEkfEuler.dat\"\n",
    "logEkfNav_11h00  = prefix + \"sbgLogEkfNav.dat\"\n",
    "logUtcData_11h00 = prefix + \"sbgLogUtcData.dat\"\n",
    "logGpsPos_11h00 = prefix + \"sbgLogGpsPos.csv\"\n",
    "logGpsVel_11h00 = prefix + \"sbgLogGpsVel.dat\""
   ]
  },
  {
   "cell_type": "markdown",
   "metadata": {},
   "source": [
    "### Load GPS Pos logs"
   ]
  },
  {
   "cell_type": "code",
   "execution_count": 7,
   "metadata": {},
   "outputs": [],
   "source": [
    "idx_gpsPos_lat = 3\n",
    "idx_gpsPos_long = 4\n",
    "idx_gpsPos_alt = 5\n",
    "idx_gps_lat = 1\n",
    "idx_gps_long = 2\n",
    "idx_gps_alt = 3\n",
    "\n",
    "gps_11h00 = np.loadtxt( logGpsPos_11h00, skiprows = 1, delimiter = ',',\n",
    "                 usecols = (0, idx_gpsPos_lat, idx_gpsPos_long, idx_gpsPos_alt) )\n",
    "\n",
    "gps = gps_11h00"
   ]
  },
  {
   "cell_type": "markdown",
   "metadata": {},
   "source": [
    "### Load GPS Vel logs"
   ]
  },
  {
   "cell_type": "code",
   "execution_count": 8,
   "metadata": {},
   "outputs": [],
   "source": [
    "idx_gpsVel_north = 3\n",
    "idx_gpsVel_east = 4\n",
    "idx_gpsVel_down = 5\n",
    "idx_gpsVel_course = 9\n",
    "\n",
    "vel_11h00 = np.loadtxt( logGpsVel_11h00, skiprows = 1, \n",
    "                 usecols = (0, idx_gpsVel_north, idx_gpsVel_east, idx_gpsVel_down, idx_gpsVel_course) )\n",
    "\n",
    "vel = vel_11h00"
   ]
  },
  {
   "cell_type": "code",
   "execution_count": 9,
   "metadata": {},
   "outputs": [],
   "source": [
    "Lat = gps[:,idx_gps_lat]\n",
    "Long = gps[:,idx_gps_long]\n",
    "Alt = gps[:,idx_gps_alt]\n",
    "Vel = ( vel[:,1]**2 + vel[:,2]**2 + vel[:,3]**2) **0.5\n",
    "course = vel[:,4]"
   ]
  },
  {
   "cell_type": "markdown",
   "metadata": {},
   "source": [
    "### Load UTC data logs"
   ]
  },
  {
   "cell_type": "code",
   "execution_count": 10,
   "metadata": {},
   "outputs": [],
   "source": [
    "#timeStamp status year month day hour minute second nanoSecond gpsTimeOfWeek\n",
    "idx_h = 5\n",
    "idx_m = 6\n",
    "idx_s = 7\n",
    "idx_nano = 8\n",
    "\n",
    "utc_11h00 = np.loadtxt( logUtcData_11h00, skiprows = 1, usecols = (0, idx_h, idx_m, idx_s, idx_nano) )\n",
    "\n",
    "utc = utc_11h00"
   ]
  },
  {
   "cell_type": "code",
   "execution_count": 11,
   "metadata": {},
   "outputs": [
    {
     "name": "stdout",
     "output_type": "stream",
     "text": [
      "11.0 : 10.0 : 36.665\n",
      "11.0 : 44.0 : 34.125\n"
     ]
    }
   ],
   "source": [
    "printUtc( 0, utc )\n",
    "printUtc( -1, utc )"
   ]
  },
  {
   "cell_type": "markdown",
   "metadata": {},
   "source": [
    "## Plot navigation data jointly with track references"
   ]
  },
  {
   "cell_type": "code",
   "execution_count": 12,
   "metadata": {},
   "outputs": [],
   "source": [
    "plt.figure()\n",
    "ax = plt.subplot(111)\n",
    "plotLongLatAndTrackReferences( ax, Long, Lat )\n",
    "plotRunaway( ax )\n",
    "plt.title( \"GPS data and track references\\n\" + prefix )\n",
    "plt.grid()"
   ]
  },
  {
   "cell_type": "markdown",
   "metadata": {},
   "source": [
    "## Check the existence of the record files"
   ]
  },
  {
   "cell_type": "code",
   "execution_count": 13,
   "metadata": {},
   "outputs": [],
   "source": [
    "root_dir = \"/home/pleroy/DATA/PoSAR-v2_PIMA_TEST-3/2018_05_28/\"\n",
    "\n",
    "data_date0 = \"2018_05_28_13_33_00\"\n",
    "data_dir0 = root_dir + data_date0\n",
    "firstRecord0 = 0\n",
    "lastRecord0 = 350"
   ]
  },
  {
   "cell_type": "code",
   "execution_count": 14,
   "metadata": {},
   "outputs": [],
   "source": [
    "selectedRecord = 0"
   ]
  },
  {
   "cell_type": "code",
   "execution_count": 15,
   "metadata": {},
   "outputs": [],
   "source": [
    "data_date = [data_date0]\n",
    "data_dir = [root_dir + data_date0]"
   ]
  },
  {
   "cell_type": "code",
   "execution_count": 16,
   "metadata": {},
   "outputs": [],
   "source": [
    "params_filename = data_dir0 + \"/\" + data_date0 + \"_parameters.xml\"\n",
    "params = PosarMCParameters_v2( params_filename )"
   ]
  },
  {
   "cell_type": "code",
   "execution_count": 17,
   "metadata": {},
   "outputs": [],
   "source": [
    "def getNbRecords( first, last, params ):\n",
    "    nbRecords = int((last - first) / params.buffersPerFile + 1)\n",
    "    return nbRecords"
   ]
  },
  {
   "cell_type": "code",
   "execution_count": 18,
   "metadata": {},
   "outputs": [
    {
     "name": "stdout",
     "output_type": "stream",
     "text": [
      "nbRecords0 = 176\n"
     ]
    }
   ],
   "source": [
    "samplesPerRamp = params.samplesPerRamp\n",
    "rampsPerFile = params.rampsPerFile\n",
    "rampsPerBuffer = params.rampsPerBuffer\n",
    "samplesPerFile = params.samplesPerRamp * params.rampsPerFile\n",
    "buffersPerFile = params.buffersPerFile\n",
    "T_files = samplesPerFile / 10e6\n",
    "\n",
    "nbRecords0 = getNbRecords(firstRecord0, lastRecord0, params)\n",
    "\n",
    "nbRecords = [nbRecords0]\n",
    "\n",
    "print( \"nbRecords0 = {}\".format(nbRecords0) )"
   ]
  },
  {
   "cell_type": "code",
   "execution_count": 19,
   "metadata": {},
   "outputs": [],
   "source": [
    "fileList = []\n",
    "\n",
    "for k in range(firstRecord0, lastRecord0, buffersPerFile):\n",
    "    filename = data_dir0 + \"/record\" + str(k) + \".bin\"\n",
    "    ret = os.path.isfile(filename)\n",
    "    if ret == False:\n",
    "        fileList.append(0)\n",
    "    else:\n",
    "        fileList.append(1)\n",
    "\n",
    "idxFileList = np.arange( len( fileList ) ) * buffersPerFile + firstRecord0"
   ]
  },
  {
   "cell_type": "code",
   "execution_count": 20,
   "metadata": {},
   "outputs": [],
   "source": [
    "plt.figure()\n",
    "plt.plot(idxFileList, fileList, 'o-')\n",
    "plt.grid()"
   ]
  },
  {
   "cell_type": "markdown",
   "metadata": {},
   "source": [
    "### Process timeStamps.data"
   ]
  },
  {
   "cell_type": "code",
   "execution_count": 21,
   "metadata": {},
   "outputs": [],
   "source": [
    "def checkTimestamps(idx, dropFirst=0, withPlot=1):\n",
    "    \n",
    "    #====================================================================\n",
    "    # the last value of the file may be erroneous, this should be checked\n",
    "    #====================================================================\n",
    "\n",
    "    #===================================================================\n",
    "    # the first value may be erroneous, one may have to shift all values\n",
    "    #===================================================================\n",
    "    \n",
    "    timeStampsFile = data_dir[idx] + \"/\" + data_date[idx] + \"_timeStamps.data\"\n",
    "    bufferNumber, timeStamp = np.loadtxt( timeStampsFile, skiprows = 1, unpack=True )\n",
    "\n",
    "    if dropFirst:\n",
    "        bufferNumber = bufferNumber[:-1]\n",
    "        timeStamp = timeStamp[1:]\n",
    "    \n",
    "    if withPlot:\n",
    "        plt.figure()\n",
    "        plt.subplot(211)\n",
    "        plt.plot( timeStamp, \".\", label=data_date[idx] )\n",
    "        plt.grid()\n",
    "        plt.legend()\n",
    "        plt.title(\"timeStamp wrt fileNumber / \" + data_date[idx] )\n",
    "        plt.subplot(212)\n",
    "        plt.plot( np.diff(timeStamp)/1e6, \".\" )\n",
    "        plt.grid()\n",
    "        plt.title( \"diff(timeStamp) wrt fileNumber / \" + data_date[idx] )\n",
    "    \n",
    "    return bufferNumber, timeStamp"
   ]
  },
  {
   "cell_type": "code",
   "execution_count": 22,
   "metadata": {},
   "outputs": [],
   "source": [
    "dropFirst=0\n",
    "withPlot=1\n",
    "bufferNumber0, timeStamp0 = checkTimestamps(0, dropFirst, withPlot)"
   ]
  },
  {
   "cell_type": "markdown",
   "metadata": {},
   "source": [
    "**Be carefull here, there could be a jump in the timeStamp values due to the counter saturation at 2^32. The mitigation is following.**"
   ]
  },
  {
   "cell_type": "code",
   "execution_count": 23,
   "metadata": {},
   "outputs": [],
   "source": [
    "#timeStamp_1[np.where(timeStamp_1 < 2**31)] +=  2**32\n",
    "#gps[np.where(gps[:, 0] < 2**31),0] += 2**32\n",
    "#vel[np.where(vel[:, 0] < 2**31),0] += 2**32"
   ]
  },
  {
   "cell_type": "code",
   "execution_count": 24,
   "metadata": {},
   "outputs": [
    {
     "data": {
      "text/plain": [
       "[<matplotlib.lines.Line2D at 0x7fae1162a860>]"
      ]
     },
     "execution_count": 24,
     "metadata": {},
     "output_type": "execute_result"
    }
   ],
   "source": [
    "plt.figure()\n",
    "plt.plot( gps[:, 0] )"
   ]
  },
  {
   "cell_type": "code",
   "execution_count": 25,
   "metadata": {},
   "outputs": [],
   "source": [
    "def getInterpolatedGps( timeStamp ):\n",
    "    \n",
    "    Lat_records = np.interp( timeStamp, gps[:,0], Lat )\n",
    "    Long_records = np.interp( timeStamp, gps[:,0], Long )\n",
    "    Alt_records = np.interp( timeStamp, gps[:,0], Alt )\n",
    "    Vel_records = np.interp( timeStamp, vel[:,0], Vel )\n",
    "    course_records = np.interp( timeStamp, vel[:,0], course )\n",
    "    \n",
    "    return Lat_records, Long_records, Alt_records, Vel_records"
   ]
  },
  {
   "cell_type": "code",
   "execution_count": 26,
   "metadata": {},
   "outputs": [],
   "source": [
    "Lat_Long_Alt_Vel_course0 = getInterpolatedGps( timeStamp0 )"
   ]
  },
  {
   "cell_type": "code",
   "execution_count": 27,
   "metadata": {},
   "outputs": [],
   "source": [
    "plt.figure()\n",
    "\n",
    "ax = plt.subplot(111)\n",
    "\n",
    "plotLongLatAndTrackReferences( ax, Long, Lat )\n",
    "plotRunaway( ax )\n",
    "\n",
    "plt.plot( Lat_Long_Alt_Vel_course0[1], Lat_Long_Alt_Vel_course0[0], \".r\", markeredgecolor='black', label=data_date[0] )\n",
    "\n",
    "title = \"Navigation data-track references-record locations\"\n",
    "plt.title(\"Navigation data, track references, record locations\\n\")\n",
    "plt.xlabel(\"Longitude\")\n",
    "plt.ylabel(\"Latitude\")\n",
    "plt.legend()\n",
    "plt.grid()\n",
    "\n",
    "plt.plot(church[1], church[0], \"or\", markeredgecolor = 'black')\n",
    "\n",
    "plt.savefig( data_dir[selectedRecord] + \"/\" + title + \".png\", bbox_inches='tight')"
   ]
  },
  {
   "cell_type": "markdown",
   "metadata": {},
   "source": [
    "### Data selection for focalization"
   ]
  },
  {
   "cell_type": "code",
   "execution_count": 28,
   "metadata": {},
   "outputs": [],
   "source": [
    "firstFile = 72\n",
    "nbFiles = 78\n",
    "lastFile = firstFile + nbFiles - 1\n",
    "fileRange = np.arange(firstFile, lastFile + 1)\n",
    "timeStamp_selection = timeStamp0[fileRange]"
   ]
  },
  {
   "cell_type": "code",
   "execution_count": 29,
   "metadata": {},
   "outputs": [],
   "source": [
    "# interpolate GPS data for each file of the selection\n",
    "Lat_selection = np.interp( timeStamp_selection, gps[:,0], gps[:,1] )\n",
    "Long_selection = np.interp( timeStamp_selection, gps[:,0], gps[:,2] )\n",
    "Alt_selection = np.interp( timeStamp_selection, gps[:,0], gps[:,3] )\n",
    "Vel_selection = np.interp( timeStamp_selection, vel[:,0], Vel )\n",
    "course_selection = np.interp( timeStamp_selection, vel[:,0], course )"
   ]
  },
  {
   "cell_type": "markdown",
   "metadata": {},
   "source": [
    "### Plot navigation data and record periods"
   ]
  },
  {
   "cell_type": "code",
   "execution_count": 30,
   "metadata": {},
   "outputs": [],
   "source": [
    "plt.figure()\n",
    "\n",
    "ax = plt.subplot(111)\n",
    "\n",
    "plotLongLatAndTrackReferences( ax, Long, Lat )\n",
    "plotRunaway( ax )\n",
    "\n",
    "plt.plot( Lat_Long_Alt_Vel_course0[1], Lat_Long_Alt_Vel_course0[0], \"Dg\", markeredgecolor='black', \n",
    "         label=data_date[selectedRecord] )\n",
    "plt.plot( Long_selection, Lat_selection, \"Dy\", markeredgecolor='black', \n",
    "         label=\"files selected for focalization {} to {}\".format(firstFile, lastFile) )\n",
    "\n",
    "title = \"Navigation data-track references-record locations-\" + data_date[selectedRecord]\n",
    "plt.title(\"Navigation data, track references, record locations\\n\" + data_date[selectedRecord])\n",
    "plt.xlabel(\"Longitude\")\n",
    "plt.ylabel(\"Latitude\")\n",
    "plt.legend()\n",
    "plt.grid()\n",
    "\n",
    "plt.plot(church[1], church[0], \"or\", markeredgecolor = 'black')\n",
    "\n",
    "plt.savefig( data_dir[selectedRecord] + \"/\" + title + \".png\", bbox_inches='tight')"
   ]
  },
  {
   "cell_type": "code",
   "execution_count": 31,
   "metadata": {},
   "outputs": [
    {
     "data": {
      "text/plain": [
       "<matplotlib.text.Text at 0x7fae1119e0b8>"
      ]
     },
     "execution_count": 31,
     "metadata": {},
     "output_type": "execute_result"
    }
   ],
   "source": [
    "plt.figure()\n",
    "plt.plot( gps[:,0], Alt )\n",
    "plt.plot( timeStamp_selection, Alt_selection, \"yD\", markeredgecolor = 'black' )\n",
    "plt.grid()\n",
    "plt.title( \"Altitude - \" + data_date[selectedRecord] + \" - files {} to {}\".format(firstFile, lastFile) )"
   ]
  },
  {
   "cell_type": "markdown",
   "metadata": {},
   "source": [
    "## Load attitude data logEkfEuler"
   ]
  },
  {
   "cell_type": "code",
   "execution_count": 32,
   "metadata": {},
   "outputs": [],
   "source": [
    "idx_timeStamp = 0\n",
    "idx_roll = 1\n",
    "idx_pitch = 2\n",
    "idx_yaw = 3\n",
    "idx_rollStdDev = 4\n",
    "idx_pitchStdDev = 5\n",
    "idx_yawStdDev = 6\n",
    "idx_status = 7"
   ]
  },
  {
   "cell_type": "code",
   "execution_count": 33,
   "metadata": {},
   "outputs": [],
   "source": [
    "euler_timeStamp_11h00, roll_11h00, pitch_11h00, yaw_11h00 = np.loadtxt( logEkfEuler_11h00, \n",
    "                                                                       skiprows = 1, \n",
    "                                                                       usecols = (0, idx_roll, idx_pitch, idx_yaw), \n",
    "                                                                       unpack=True )\n",
    "euler_timeStamp = euler_timeStamp_11h00\n",
    "roll = roll_11h00\n",
    "pitch = pitch_11h00\n",
    "yaw = yaw_11h00"
   ]
  },
  {
   "cell_type": "code",
   "execution_count": 34,
   "metadata": {},
   "outputs": [],
   "source": [
    "#euler_timeStamp[np.where(euler_timeStamp < 2**31)] +=  2**32"
   ]
  },
  {
   "cell_type": "code",
   "execution_count": 35,
   "metadata": {},
   "outputs": [],
   "source": [
    "# interpolate euler data for each file of the selection\n",
    "roll_selection = np.interp( timeStamp_selection, euler_timeStamp, roll )\n",
    "pitch_selection = np.interp( timeStamp_selection, euler_timeStamp, pitch )\n",
    "yaw_selection = np.interp( timeStamp_selection, euler_timeStamp, yaw )"
   ]
  },
  {
   "cell_type": "code",
   "execution_count": 36,
   "metadata": {},
   "outputs": [],
   "source": [
    "if 1:\n",
    "    plt.figure()\n",
    "    ax = plt.subplot(211)\n",
    "    plt.plot(euler_timeStamp, yaw, label=\"yaw\")\n",
    "    plt.legend()\n",
    "    plt.grid()\n",
    "    plt.subplot(212, sharex=ax)\n",
    "    plt.plot(gps[:,0], gps[:,idx_gps_alt], label=\"alt\")\n",
    "    plt.legend()\n",
    "    plt.grid()"
   ]
  },
  {
   "cell_type": "markdown",
   "metadata": {},
   "source": [
    "## Load  navigation data logEkfNav"
   ]
  },
  {
   "cell_type": "code",
   "execution_count": 37,
   "metadata": {},
   "outputs": [],
   "source": [
    "idx_timeStamp = 0\n",
    "idx_velNorth = 1\n",
    "idx_velEast = 2\n",
    "idx_velDown = 3\n",
    "idx_velNorth_StdDev = 4\n",
    "idx_velEast_StdDev = 5\n",
    "idx_velDown_StdDev = 6\n",
    "idx_ekf_Lat = 7\n",
    "idx_ekf_Long = 8\n",
    "idx_ekf_Alt = 9\n",
    "idx_ekf_undulation = 10\n",
    "dx_ekf_Lat_StdDev = 11\n",
    "idx_ekf_Long_StdDev = 12\n",
    "idx_ekf_Alt_StdDev = 13\n",
    "idx_status = 14"
   ]
  },
  {
   "cell_type": "code",
   "execution_count": 38,
   "metadata": {},
   "outputs": [],
   "source": [
    "nav_timeStamp_11h00, nav_lat_11h00, nav_long_11h00, nav_alt_11h00 = np.loadtxt( \n",
    "    logEkfNav_11h00, \n",
    "    skiprows = 1, \n",
    "    usecols = (0, idx_ekf_Lat, idx_ekf_Long, idx_ekf_Alt), \n",
    "    unpack = True )\n",
    "\n",
    "nav_timeStamp = nav_timeStamp_11h00\n",
    "nav_lat = nav_lat_11h00\n",
    "nav_long = nav_long_11h00\n",
    "nav_alt = nav_alt_11h00"
   ]
  },
  {
   "cell_type": "code",
   "execution_count": 39,
   "metadata": {},
   "outputs": [],
   "source": [
    "#nav_timeStamp[np.where(nav_timeStamp < 2**31)] +=  2**32"
   ]
  },
  {
   "cell_type": "markdown",
   "metadata": {},
   "source": [
    "### Compare gps and ekf"
   ]
  },
  {
   "cell_type": "code",
   "execution_count": 40,
   "metadata": {},
   "outputs": [],
   "source": [
    "withComparison = 0"
   ]
  },
  {
   "cell_type": "code",
   "execution_count": null,
   "metadata": {},
   "outputs": [],
   "source": [
    "plt.figure()\n",
    "\n",
    "ax = plt.subplot(111)\n",
    "\n",
    "plotLongLatAndTrackReferences( ax, Long, Lat )\n",
    "plt.plot( nav_long, nav_lat, 'b' )\n",
    "plotRunaway( ax )\n",
    "\n",
    "plt.plot( Lat_Long_Alt_Vel_course2[1], Lat_Long_Alt_Vel_course2[0], \"Dg\", markeredgecolor='black', \n",
    "         label=data_date )\n",
    "plt.plot( Long_selection, Lat_selection, \"Dy\", markeredgecolor='black', \n",
    "         label=\"files selected for focalization {} to {}\".format(firstFile, lastFile) )\n",
    "\n",
    "title = \"Navigation data-track references-record locations-\" + data_date[selectedRecord]\n",
    "plt.title(\"Navigation data, track references, record locations\\n\" + data_date[selectedRecord])\n",
    "plt.xlabel(\"Longitude\")\n",
    "plt.ylabel(\"Latitude\")\n",
    "plt.legend()\n",
    "plt.grid()\n",
    "\n",
    "plt.savefig( data_dir[selectedRecord] + \"/\" + title + \".png\", bbox_inches='tight')"
   ]
  },
  {
   "cell_type": "code",
   "execution_count": null,
   "metadata": {},
   "outputs": [],
   "source": [
    "if withComparison:\n",
    "    plt.figure()\n",
    "    plt.plot( gps[:,0], Alt, label=\"gps\" )\n",
    "    plt.plot( nav_timeStamp, nav_alt, 'b', label=\"ekfNav\" )\n",
    "    plt.plot( timeStamp_selection, Alt_selection, \"yD\", markeredgecolor = 'black' )\n",
    "    plt.grid()\n",
    "    plt.title( \"Altitude - \" + data_date[selectedRecord] + \" - files {} to {}\".format(firstFile, lastFile) )\n",
    "    plt.legend()"
   ]
  },
  {
   "cell_type": "markdown",
   "metadata": {},
   "source": [
    "### Track 1"
   ]
  },
  {
   "cell_type": "code",
   "execution_count": 41,
   "metadata": {},
   "outputs": [],
   "source": [
    "files = \"files {} to {}\".format( firstFile, lastFile )"
   ]
  },
  {
   "cell_type": "code",
   "execution_count": 42,
   "metadata": {},
   "outputs": [],
   "source": [
    "plt.figure()\n",
    "\n",
    "title = \"altitude - velocity - course \" + data_date[selectedRecord]\n",
    "\n",
    "plt.subplot(311)\n",
    "plt.title( title )\n",
    "plt.plot( timeStamp_selection, Alt_selection, 'Dy', markeredgecolor = 'k', label=\"altitude \" + files )\n",
    "plt.legend()\n",
    "plt.grid()\n",
    "\n",
    "plt.subplot(312)\n",
    "plt.plot( timeStamp_selection, Vel_selection, 'Dy', markeredgecolor = 'k', label=\"velocity \" + files )\n",
    "plt.legend()\n",
    "plt.grid()\n",
    "\n",
    "plt.subplot(313)\n",
    "plt.plot( timeStamp_selection, course_selection, 'Dy', markeredgecolor = 'k', label=\"course \" + files )\n",
    "plt.legend()\n",
    "plt.grid()\n",
    "\n",
    "plt.savefig( data_dir[selectedRecord] + \"/\" + title + \".png\", bbox_inches='tight')"
   ]
  },
  {
   "cell_type": "code",
   "execution_count": 43,
   "metadata": {},
   "outputs": [],
   "source": [
    "plt.figure()\n",
    "\n",
    "title = \"pitch - roll - yaw \" + data_date[selectedRecord]\n",
    "\n",
    "plt.subplot(311)\n",
    "plt.title( title )\n",
    "plt.plot( timeStamp_selection, pitch_selection, 'Dy', markeredgecolor = 'k', label=\"pitch \" + files )\n",
    "plt.legend()\n",
    "plt.grid()\n",
    "\n",
    "plt.subplot(312)\n",
    "plt.plot( timeStamp_selection, roll_selection * 180 / np.pi, 'Dy', markeredgecolor = 'k',  label=\"roll \" + files )\n",
    "plt.legend()\n",
    "plt.grid()\n",
    "\n",
    "plt.subplot(313)\n",
    "plt.plot( timeStamp_selection, yaw_selection, 'Dy', markeredgecolor = 'k',  label=\"yaw \" + files )\n",
    "plt.legend()\n",
    "plt.grid()\n",
    "\n",
    "plt.savefig( data_dir[selectedRecord] + \"/\" + title + \".png\", bbox_inches='tight')"
   ]
  },
  {
   "cell_type": "code",
   "execution_count": 44,
   "metadata": {},
   "outputs": [],
   "source": [
    "plt.figure()\n",
    "ax = plt.subplot(111)\n",
    "plotRunaway( ax )\n",
    "plt.plot(church[1], church[0], \"or\", markeredgecolor = 'black')\n",
    "plt.title( \"track during the record of the files selection\" )\n",
    "plt.plot( Long_selection, Lat_selection )\n",
    "plt.grid()"
   ]
  },
  {
   "cell_type": "markdown",
   "metadata": {},
   "source": [
    "### Track linear approximation"
   ]
  },
  {
   "cell_type": "code",
   "execution_count": 45,
   "metadata": {},
   "outputs": [],
   "source": [
    "from posarmctools.track import *"
   ]
  },
  {
   "cell_type": "code",
   "execution_count": 46,
   "metadata": {},
   "outputs": [],
   "source": [
    "# MODIFICATION OF THE STARTING POINT\n",
    "#startingPoint = church"
   ]
  },
  {
   "cell_type": "code",
   "execution_count": 47,
   "metadata": {},
   "outputs": [],
   "source": [
    "xdata, ydata = getxy( Lat_selection, Long_selection, startingPoint )"
   ]
  },
  {
   "cell_type": "code",
   "execution_count": 48,
   "metadata": {},
   "outputs": [
    {
     "name": "stdout",
     "output_type": "stream",
     "text": [
      "a = 0.29802297681621326, b = 213.76524658379623\n"
     ]
    }
   ],
   "source": [
    "popt, pcov = curve_fit(func, xdata, ydata)\n",
    "a = popt[0]\n",
    "b = popt[1]\n",
    "print( \"a = {}, b = {}\".format( a, b ) )"
   ]
  },
  {
   "cell_type": "code",
   "execution_count": 49,
   "metadata": {},
   "outputs": [
    {
     "data": {
      "text/plain": [
       "<matplotlib.legend.Legend at 0x7fae0b40bac8>"
      ]
     },
     "execution_count": 49,
     "metadata": {},
     "output_type": "execute_result"
    }
   ],
   "source": [
    "plt.figure()\n",
    "plt.plot( xdata, ydata, label=\"track\" )\n",
    "plt.plot( xdata, func(xdata, a, b), label=\"linear approximation\" )\n",
    "plt.grid()\n",
    "plt.legend()"
   ]
  },
  {
   "cell_type": "code",
   "execution_count": 50,
   "metadata": {},
   "outputs": [],
   "source": [
    "import json"
   ]
  },
  {
   "cell_type": "code",
   "execution_count": 51,
   "metadata": {},
   "outputs": [],
   "source": [
    "# unit vector\n",
    "ux = ( 1, a ) / ( 1 + a**2 )**0.5\n",
    "uy = [ -a, 1 ] / ( 1 + a**2 )**0.5\n",
    "track_model = { \"trackModel\" : \"model(x, p) = p[1]*x + p[2]\",\n",
    "               \"p\" : (a, b),\n",
    "               \"ux\" : (-ux[0], -ux[1]),\n",
    "               \"uy\" : (-uy[0], -uy[1]),\n",
    "               \"startingPointLatitude\" : startingPoint[0],\n",
    "               \"startingPointLongitude\" : startingPoint[1]\n",
    "              }"
   ]
  },
  {
   "cell_type": "code",
   "execution_count": 52,
   "metadata": {},
   "outputs": [],
   "source": [
    "trackFilename = data_dir[0] + \"/track_model.json\"\n",
    "with open( trackFilename, 'w' ) as f:\n",
    "    json.dump( track_model, f )"
   ]
  },
  {
   "cell_type": "code",
   "execution_count": 53,
   "metadata": {},
   "outputs": [],
   "source": [
    "# runaway projection\n",
    "runaway_proj = np.zeros( runaway.shape )\n",
    "getProjection( runaway, runaway_proj, startingPoint, track_model )\n",
    "np.save( data_dir[selectedRecord] + \"/runaway_proj\", runaway_proj )\n",
    "# hangar\n",
    "hangar_proj = np.zeros( hangar.shape )\n",
    "getProjection( hangar, hangar_proj, startingPoint, track_model )\n",
    "np.save( data_dir[selectedRecord] + \"/hangar_proj\", hangar_proj )\n",
    "# building\n",
    "building_proj = np.zeros( building.shape )\n",
    "getProjection( building, building_proj, startingPoint, track_model )\n",
    "np.save( data_dir[selectedRecord] + \"/building_proj\", building_proj )\n",
    "# corner reflector large\n",
    "cornerReflectorLarge_proj = np.zeros( cornerReflectorLarge.shape )\n",
    "getProjection( cornerReflectorLarge, cornerReflectorLarge_proj, startingPoint, track_model )\n",
    "np.save( data_dir[selectedRecord] + \"/cornerReflectorLarge_proj\", cornerReflectorLarge_proj )\n",
    "# corner reflector small\n",
    "cornerReflectorSmall_proj = np.zeros( cornerReflectorSmall.shape )\n",
    "getProjection( cornerReflectorSmall, cornerReflectorSmall_proj, startingPoint, track_model )\n",
    "np.save( data_dir[selectedRecord] + \"/cornerReflectorSmall_proj\", cornerReflectorSmall_proj )\n",
    "\n",
    "# church\n",
    "church_proj = np.zeros( church.shape )\n",
    "getProjection( church, church_proj, startingPoint, track_model )\n",
    "np.save( data_dir[selectedRecord] + \"/church_proj\", church_proj )"
   ]
  },
  {
   "cell_type": "code",
   "execution_count": 54,
   "metadata": {},
   "outputs": [],
   "source": [
    "track_proj = np.zeros( (Lat.shape[0],2) )\n",
    "getProjection( np.stack( (Lat, Long), -1 ), track_proj, startingPoint, track_model )\n",
    "np.save( data_dir[selectedRecord] + \"/track_proj\", track_proj )"
   ]
  },
  {
   "cell_type": "code",
   "execution_count": 55,
   "metadata": {},
   "outputs": [],
   "source": [
    "x_selection = np.interp( timeStamp_selection, gps[:,0], track_proj[:,0] )\n",
    "y_selection = np.interp( timeStamp_selection, gps[:,0], track_proj[:,1] )\n",
    "np.save( data_dir[selectedRecord] + \"/track_selection_proj\", np.stack( (x_selection, y_selection ), -1 ) )"
   ]
  },
  {
   "cell_type": "code",
   "execution_count": 56,
   "metadata": {},
   "outputs": [
    {
     "data": {
      "text/plain": [
       "<matplotlib.legend.Legend at 0x7fae0b3599e8>"
      ]
     },
     "execution_count": 56,
     "metadata": {},
     "output_type": "execute_result"
    }
   ],
   "source": [
    "plt.figure()\n",
    "\n",
    "plt.plot( runaway_proj[:,0], runaway_proj[:,1] )\n",
    "plt.plot( hangar_proj[:,0], hangar_proj[:,1] )\n",
    "plt.plot( building_proj[:,0], building_proj[:,1] )\n",
    "\n",
    "plt.plot( track_proj[:,0], track_proj[:,1], \"gray\" )\n",
    "\n",
    "plt.plot( x_selection, y_selection, 'Dy', markerEdgecolor='k',\n",
    "        label = \"files {} to {}\".format( firstFile, lastFile ) )\n",
    "\n",
    "plt.plot( church_proj[0], church_proj[1], 'o', color='red', markeredgecolor='k' )\n",
    "\n",
    "ax = plt.gca()\n",
    "ax.invert_xaxis()\n",
    "ax.invert_yaxis()\n",
    "ax.xaxis.tick_top()\n",
    "ax.yaxis.tick_right()\n",
    "ax.set_aspect(1)\n",
    "plt.xlabel(\"location of the records in the scene coordinate system\\n\" + data_date[selectedRecord])\n",
    "plt.grid()\n",
    "plt.legend()"
   ]
  },
  {
   "cell_type": "markdown",
   "metadata": {},
   "source": [
    "## Interpolate navigation data for all ramps"
   ]
  },
  {
   "cell_type": "markdown",
   "metadata": {},
   "source": [
    "### Build timestamp vector\n",
    "Two options: numpy.interp vs scipy.interpolate.interp1d (with kind='linear')"
   ]
  },
  {
   "cell_type": "code",
   "execution_count": 57,
   "metadata": {},
   "outputs": [],
   "source": [
    "selectedTimeStamp = timeStamp0\n",
    "selectedBufferNumber = bufferNumber0"
   ]
  },
  {
   "cell_type": "code",
   "execution_count": 58,
   "metadata": {},
   "outputs": [],
   "source": [
    "# rampNumber timeStamp x y z\n",
    "rampNumber = np.arange( rampsPerFile * (nbRecords[selectedRecord] + 1) )\n",
    "\n",
    "rampNumber_ext = np.concatenate( \n",
    "    (selectedBufferNumber * rampsPerBuffer, [ selectedBufferNumber[-1] * rampsPerBuffer + rampsPerFile ] ) )\n",
    "timeStamp_ext = np.concatenate( \n",
    "    (selectedTimeStamp, [ selectedTimeStamp[-1] + selectedTimeStamp[-1] - selectedTimeStamp[-2] ] ) )\n",
    "\n",
    "timeStamp = np.interp( rampNumber, rampNumber_ext, timeStamp_ext)\n",
    "x = np.interp( timeStamp, gps[:,0], track_proj[:,0] )\n",
    "y = np.interp( timeStamp, gps[:,0], track_proj[:,1] )\n",
    "z = np.interp( timeStamp, gps[:,0], gps[:,3] )\n",
    "xyz_proj_allRamps = np.stack( (rampNumber, timeStamp, x, y, z), -1 )"
   ]
  },
  {
   "cell_type": "code",
   "execution_count": 59,
   "metadata": {},
   "outputs": [
    {
     "data": {
      "text/plain": [
       "375"
      ]
     },
     "execution_count": 59,
     "metadata": {},
     "output_type": "execute_result"
    }
   ],
   "source": [
    "rampsPerBuffer"
   ]
  },
  {
   "cell_type": "code",
   "execution_count": 60,
   "metadata": {},
   "outputs": [],
   "source": [
    "np.save( data_dir[selectedRecord] + \"/rampNumber_timeStamp_xyz\", xyz_proj_allRamps )"
   ]
  },
  {
   "cell_type": "code",
   "execution_count": 61,
   "metadata": {},
   "outputs": [],
   "source": [
    "plt.figure()\n",
    "plt.plot( x_selection, y_selection, 'Dy', markerEdgecolor='k', label = \"files {} to {}\".format( firstFile, lastFile ) )\n",
    "firstRamp = firstFile * rampsPerFile\n",
    "lastRamp = firstRamp + (nbFiles+1) * rampsPerFile\n",
    "plt.plot( x[firstRamp : lastRamp], y[firstRamp : lastRamp], '.b', label = 'ramps' )\n",
    "plt.legend()\n",
    "plt.title(\"xy\")\n",
    "plt.grid()"
   ]
  },
  {
   "cell_type": "markdown",
   "metadata": {},
   "source": [
    "## Build data for rampUp"
   ]
  },
  {
   "cell_type": "code",
   "execution_count": 62,
   "metadata": {},
   "outputs": [],
   "source": [
    "# rampNumber timeStamp x y z\n",
    "\n",
    "timeStamp_ext_up = np.concatenate( \n",
    "    (selectedTimeStamp, [ selectedTimeStamp[-1] + selectedTimeStamp[-1] - selectedTimeStamp[-2] ] ) ) \\\n",
    "    + params.configuredTRamp / 2\n",
    "\n",
    "timeStamp = np.interp( rampNumber, rampNumber_ext, timeStamp_ext_up)\n",
    "x = np.interp( timeStamp, gps[:,0], track_proj[:,0] )\n",
    "y = np.interp( timeStamp, gps[:,0], track_proj[:,1] )\n",
    "z = np.interp( timeStamp, gps[:,0], gps[:,3] )\n",
    "xyz_proj_allRamps = np.stack( (rampNumber, timeStamp, x, y, z), -1 )"
   ]
  },
  {
   "cell_type": "code",
   "execution_count": 63,
   "metadata": {},
   "outputs": [],
   "source": [
    "np.save( data_dir[selectedRecord] + \"/rampNumber_timeStamp_xyz_rampUp\", xyz_proj_allRamps )"
   ]
  },
  {
   "cell_type": "code",
   "execution_count": 64,
   "metadata": {},
   "outputs": [
    {
     "data": {
      "text/plain": [
       "[<matplotlib.lines.Line2D at 0x7fae07f9d128>]"
      ]
     },
     "execution_count": 64,
     "metadata": {},
     "output_type": "execute_result"
    }
   ],
   "source": [
    "plt.figure()\n",
    "plt.plot(rampNumber_ext, timeStamp_ext, 'o')\n",
    "plt.plot(rampNumber_ext, timeStamp_ext_up, '.')"
   ]
  },
  {
   "cell_type": "code",
   "execution_count": null,
   "metadata": {},
   "outputs": [],
   "source": [
    "plt.plot(rampNumber_ext)"
   ]
  },
  {
   "cell_type": "code",
   "execution_count": null,
   "metadata": {},
   "outputs": [],
   "source": []
  },
  {
   "cell_type": "code",
   "execution_count": null,
   "metadata": {},
   "outputs": [],
   "source": []
  }
 ],
 "metadata": {
  "kernelspec": {
   "display_name": "Python 3",
   "language": "python",
   "name": "python3"
  },
  "language_info": {
   "codemirror_mode": {
    "name": "ipython",
    "version": 3
   },
   "file_extension": ".py",
   "mimetype": "text/x-python",
   "name": "python",
   "nbconvert_exporter": "python",
   "pygments_lexer": "ipython3",
   "version": "3.6.5"
  }
 },
 "nbformat": 4,
 "nbformat_minor": 2
}
