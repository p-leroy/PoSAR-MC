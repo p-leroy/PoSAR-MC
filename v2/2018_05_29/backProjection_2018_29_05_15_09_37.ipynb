{
 "cells": [
  {
   "cell_type": "code",
   "execution_count": 1,
   "metadata": {},
   "outputs": [],
   "source": [
    "import numpy as np\n",
    "import matplotlib.pyplot as plt\n",
    "import scipy.signal as signal\n",
    "%matplotlib qt5\n",
    "eps = np.finfo(float).eps"
   ]
  },
  {
   "cell_type": "code",
   "execution_count": 2,
   "metadata": {},
   "outputs": [],
   "source": [
    "import sys\n",
    "import time"
   ]
  },
  {
   "cell_type": "code",
   "execution_count": 3,
   "metadata": {},
   "outputs": [],
   "source": [
    "import cv2"
   ]
  },
  {
   "cell_type": "markdown",
   "metadata": {},
   "source": [
    "### Load backprojection library"
   ]
  },
  {
   "cell_type": "code",
   "execution_count": 4,
   "metadata": {},
   "outputs": [],
   "source": [
    "sys.path.insert(0, \"/home/pleroy/DEV/processing/PoSAR-MC/backprojection\")"
   ]
  },
  {
   "cell_type": "code",
   "execution_count": 5,
   "metadata": {},
   "outputs": [],
   "source": [
    "from loadbackprojection import *"
   ]
  },
  {
   "cell_type": "code",
   "execution_count": 6,
   "metadata": {},
   "outputs": [],
   "source": [
    "libraryFilename = \"/home/pleroy/DEV/processing/PoSAR-MC/backprojection/ccpp/libbackprojection/liblibbackprojection.so\""
   ]
  },
  {
   "cell_type": "code",
   "execution_count": 7,
   "metadata": {},
   "outputs": [],
   "source": [
    "lib = LibBackProjection( libraryFilename )"
   ]
  },
  {
   "cell_type": "markdown",
   "metadata": {},
   "source": [
    "### Load other tools"
   ]
  },
  {
   "cell_type": "code",
   "execution_count": 8,
   "metadata": {},
   "outputs": [],
   "source": [
    "sys.path.insert(0, \"/home/pleroy/DEV/processing/focalization_python\")"
   ]
  },
  {
   "cell_type": "code",
   "execution_count": 9,
   "metadata": {},
   "outputs": [],
   "source": [
    "import posarutils.process.disp_PoSAR_img as disp\n",
    "from posarutils.process.disp_PoSAR_img import OPTt\n",
    "from posarutils.process.filtering import box_filter"
   ]
  },
  {
   "cell_type": "markdown",
   "metadata": {},
   "source": [
    "### Load parameters specific to the dataset"
   ]
  },
  {
   "cell_type": "code",
   "execution_count": 10,
   "metadata": {},
   "outputs": [],
   "source": [
    "from rsc.datasetconfig import *\n",
    "\n",
    "%load_ext autoreload\n",
    "%autoreload 2"
   ]
  },
  {
   "cell_type": "code",
   "execution_count": 11,
   "metadata": {},
   "outputs": [],
   "source": [
    "withPlots = 0"
   ]
  },
  {
   "cell_type": "markdown",
   "metadata": {},
   "source": [
    "## Read parameters from the XML file"
   ]
  },
  {
   "cell_type": "code",
   "execution_count": 12,
   "metadata": {},
   "outputs": [],
   "source": [
    "from posarutils.other.PosarMCParameters import *"
   ]
  },
  {
   "cell_type": "code",
   "execution_count": 13,
   "metadata": {},
   "outputs": [],
   "source": [
    "data_date = \"2018_05_29_15_09_37\"\n",
    "data_dir = \"/home/pleroy/DATA/PoSAR-v2_PIMA_TEST-3/2018_05_29/\" + data_date"
   ]
  },
  {
   "cell_type": "code",
   "execution_count": 14,
   "metadata": {},
   "outputs": [],
   "source": [
    "params_filename = data_dir + \"/\" + data_date + \"_parameters.xml\"\n",
    "params = PosarMCParameters_v2( params_filename )\n",
    "Tp = params.configuredTRamp / 1e6\n",
    "B0 = params.frequencyBand\n",
    "fs = params.samplingFrequency\n",
    "c = 3e8"
   ]
  },
  {
   "cell_type": "markdown",
   "metadata": {},
   "source": [
    "## Load the analytic signal"
   ]
  },
  {
   "cell_type": "code",
   "execution_count": 15,
   "metadata": {},
   "outputs": [],
   "source": [
    "rampUp = 0\n",
    "withHanning = 0"
   ]
  },
  {
   "cell_type": "code",
   "execution_count": 16,
   "metadata": {},
   "outputs": [],
   "source": [
    "firstFile = 71\n",
    "nbFiles = 60\n",
    "lastFile = firstFile + nbFiles - 1\n",
    "firstRamp = (firstFile) * params.rampsPerFile\n",
    "lastRamp = (lastFile) * params.rampsPerFile\n",
    "if withHanning:\n",
    "    if rampUp:\n",
    "        RD1 = np.load( data_dir + '/RD_files_{}_{}_hanning.npy'.format( firstFile, lastFile ) )\n",
    "        coupling = np.load( data_dir + '/coupling_RD_files_{}_{}_hanning.npy'.format( firstFile, lastFile ) )\n",
    "    else:\n",
    "        RD1 = np.load( data_dir + '/RD_files_{}_{}_rampDown_hanning.npy'.format( firstFile, lastFile ) )\n",
    "        coupling = np.load( data_dir + '/coupling_RD_files_{}_{}_rampDown_hanning.npy'.format( firstFile, lastFile ) )\n",
    "else:\n",
    "    if rampUp:\n",
    "        RD1 = np.load( data_dir + '/RD_files_{}_{}.npy'.format( firstFile, lastFile ) )\n",
    "        coupling = np.load( data_dir + '/coupling_RD_files_{}_{}.npy'.format( firstFile, lastFile ) )\n",
    "    else:\n",
    "        RD1 = np.load( data_dir + '/RD_files_{}_{}_rampDown.npy'.format( firstFile, lastFile ) )\n",
    "        coupling = np.load( data_dir + '/coupling_RD_files_{}_{}_rampDown.npy'.format( firstFile, lastFile ) )\n",
    "\n",
    "# remove coupling from RD1 to build RD2\n",
    "RD2 = RD1 - coupling\n",
    "nbPos = params.rampsPerFile * nbFiles"
   ]
  },
  {
   "cell_type": "code",
   "execution_count": 17,
   "metadata": {},
   "outputs": [],
   "source": [
    "if withPlots:\n",
    "    plt.figure()\n",
    "    plt.plot(np.abs(coupling))\n",
    "    plt.grid()"
   ]
  },
  {
   "cell_type": "markdown",
   "metadata": {},
   "source": [
    "## Load antenna positions"
   ]
  },
  {
   "cell_type": "code",
   "execution_count": 18,
   "metadata": {},
   "outputs": [
    {
     "name": "stdout",
     "output_type": "stream",
     "text": [
      "xa_mean = -1023.80, ya_mean = -172.45, za_mean = 418.68\n"
     ]
    }
   ],
   "source": [
    "# load positions for all ramps\n",
    "if rampUp == 1:\n",
    "    filename = data_dir + \"/rampNumber_timeStamp_xyz_rampUp.npy\"\n",
    "    xyz = np.load( filename )\n",
    "else:\n",
    "    filename = data_dir + \"/rampNumber_timeStamp_xyz.npy\"\n",
    "    xyz = np.load( filename )\n",
    "xa = xyz[:,2]\n",
    "ya = xyz[:,3]\n",
    "za = xyz[:,4]\n",
    "xa_mean = np.mean(xa)\n",
    "ya_mean = np.mean(ya)\n",
    "za_mean = np.mean(za)\n",
    "print( \"xa_mean = {:.2f}, ya_mean = {:.2f}, za_mean = {:.2f}\".format( xa_mean, ya_mean, za_mean ) )\n",
    "\n",
    "# load scene elements coordinates\n",
    "runaway_proj = np.load( data_dir + \"/runaway_proj.npy\" )\n",
    "hangar_proj = np.load( data_dir + \"/hangar_proj.npy\" )\n",
    "building_proj = np.load( data_dir + \"/building_proj.npy\" )\n",
    "track_proj = np.load( data_dir + \"/track_proj.npy\" )\n",
    "track_selection_proj = np.load( data_dir + \"/track_selection_proj.npy\" )\n",
    "cornerReflectorLarge_proj = np.load( data_dir + \"/cornerReflectorLarge_proj.npy\" )\n",
    "cornerReflectorSmall_proj = np.load( data_dir + \"/cornerReflectorSmall_proj.npy\" )"
   ]
  },
  {
   "cell_type": "code",
   "execution_count": 19,
   "metadata": {},
   "outputs": [
    {
     "name": "stdout",
     "output_type": "stream",
     "text": [
      "RD1.shape = (45000, 3000), xyz.shape = (102000, 5)\n"
     ]
    }
   ],
   "source": [
    "print( \"RD1.shape = {}, xyz.shape = {}\".format( RD1.shape, xyz.shape ) )"
   ]
  },
  {
   "cell_type": "code",
   "execution_count": 20,
   "metadata": {
    "scrolled": true
   },
   "outputs": [],
   "source": [
    "if withPlots == 1:\n",
    "    plt.figure()\n",
    "\n",
    "    title = data_date + \" selection {} to {}\".format( firstFile, lastFile )\n",
    "    \n",
    "    plt.suptitle( title )\n",
    "\n",
    "    plt.subplot(221)\n",
    "    plt.plot(xyz[:, 1], xyz[:, 2], label=\"x \")\n",
    "    plt.plot(xyz[firstRamp:lastRamp, 1], xyz[firstRamp:lastRamp, 2], 'orange', label=\"x selection\")\n",
    "    plt.grid()\n",
    "    plt.legend()\n",
    "\n",
    "    plt.subplot(222)\n",
    "    plt.plot(xyz[:, 1], xyz[:, 3], label=\"y \")\n",
    "    plt.plot(xyz[firstRamp:lastRamp, 1], xyz[firstRamp:lastRamp, 3], 'orange', label=\"y selection\")\n",
    "    plt.grid()\n",
    "    plt.legend()\n",
    "\n",
    "    plt.subplot(223)\n",
    "    plt.plot(xyz[:, 1], xyz[:, 4], label=\"z \")\n",
    "    plt.plot(xyz[firstRamp:lastRamp, 1], xyz[firstRamp:lastRamp, 4], 'orange', label=\"z selection\")\n",
    "    plt.grid()\n",
    "    plt.legend()\n",
    "\n",
    "    plt.subplot(224)\n",
    "    plt.plot(xyz[:, 2], xyz[:, 3], label=\"xy \")\n",
    "    plt.plot(xyz[firstRamp:lastRamp, 2], xyz[firstRamp:lastRamp, 3], 'orange', label=\"xy (selection)\")\n",
    "    ax = plt.gca()\n",
    "    ax.invert_xaxis()\n",
    "    ax.invert_yaxis()\n",
    "    ax.xaxis.tick_top()\n",
    "    ax.yaxis.tick_right()\n",
    "    plt.grid()\n",
    "    plt.legend()\n",
    "    \n",
    "    plt.savefig( data_dir + \"/\" + title + \".png\", bbox_inches='tight')"
   ]
  },
  {
   "cell_type": "markdown",
   "metadata": {},
   "source": [
    "## Focalization"
   ]
  },
  {
   "cell_type": "code",
   "execution_count": 21,
   "metadata": {},
   "outputs": [],
   "source": [
    "RD = np.fft.ifftshift(RD2, 1)"
   ]
  },
  {
   "cell_type": "markdown",
   "metadata": {},
   "source": [
    "### Compute the aperture angle to have a specified resolution in azimuth"
   ]
  },
  {
   "cell_type": "code",
   "execution_count": 22,
   "metadata": {},
   "outputs": [
    {
     "name": "stdout",
     "output_type": "stream",
     "text": [
      "phi_a = 60.000, dx = 0.026\n",
      "phi_a = 20.000, dx = 0.074\n",
      "phi_b = 1.000, dx = 1.482\n",
      "phi_a2 = 1.482, dx2 = 1.000\n",
      "phi_a2 = 2.964, dx2 = 0.500\n",
      "phi_a3 = 5.930, dx3 = 0.250\n"
     ]
    }
   ],
   "source": [
    "# dx = lambda_c / (4 * sin( phi_a / 2 )) => phi_a = 2 * asin( lambda_c / (4 * dx))\n",
    "lambda_c = 3e8 / 5.8e9\n",
    "\n",
    "phi_a = 60 * np.pi / 180\n",
    "dx = lambda_c / (4 * np.sin( phi_a / 2 ))\n",
    "print( \"phi_a = {:.3f}, dx = {:.3f}\".format(phi_a * 180 / np.pi, dx) )\n",
    "\n",
    "phi = 20 * np.pi / 180\n",
    "dx = lambda_c / (4 * np.sin( phi / 2 ))\n",
    "print( \"phi_a = {:.3f}, dx = {:.3f}\".format(phi * 180 / np.pi, dx) )\n",
    "\n",
    "phi_b = 1 * np.pi / 180\n",
    "dx = lambda_c / (4 * np.sin( phi_b / 2 ))\n",
    "print( \"phi_b = {:.3f}, dx = {:.3f}\".format(phi_b * 180 / np.pi, dx) )\n",
    "\n",
    "dx2 = 1\n",
    "phi_a2 = 2 * np.arcsin( lambda_c / (4 * dx2) )\n",
    "print( \"phi_a2 = {:.3f}, dx2 = {:.3f}\".format(phi_a2 * 180 / np.pi, dx2) )\n",
    "\n",
    "dx4 = 0.5\n",
    "phi_a4 = 2 * np.arcsin( lambda_c / (4 * dx4) )\n",
    "print( \"phi_a2 = {:.3f}, dx2 = {:.3f}\".format(phi_a4 * 180 / np.pi, dx4) )\n",
    "\n",
    "dx3 = 0.25\n",
    "phi_a3 = 2 * np.arcsin( lambda_c / (4 * dx3) )\n",
    "print( \"phi_a3 = {:.3f}, dx3 = {:.3f}\".format(phi_a3 * 180 / np.pi, dx3) )\n"
   ]
  },
  {
   "cell_type": "markdown",
   "metadata": {},
   "source": [
    "### Define the geometry of the scene"
   ]
  },
  {
   "cell_type": "code",
   "execution_count": 23,
   "metadata": {},
   "outputs": [
    {
     "name": "stdout",
     "output_type": "stream",
     "text": [
      "d.shape = (325,), d_min = 336.57, d_max = 660.57\n",
      "Ground range\n"
     ]
    }
   ],
   "source": [
    "groundRange = 1 # 0 => slant range, 1 => ground range\n",
    "\n",
    "# runaway\n",
    "x_min = -500\n",
    "x_max = 1000\n",
    "y_min = -100\n",
    "y_max = 400\n",
    "\n",
    "x_min = -100\n",
    "x_max = 500\n",
    "y_min = -100\n",
    "y_max = 400\n",
    "\n",
    "hScene = 90\n",
    "\n",
    "d_x = 1. # 0.1\n",
    "d_y = 1. # 0.1\n",
    "\n",
    "x = np.arange( x_min, x_max + d_x, d_x )\n",
    "x = x.reshape( x.size )\n",
    "\n",
    "# compute the distance from the scene\n",
    "d_min = ( (ya_mean - y_min)**2 + (za_mean - hScene)**2 )**0.5\n",
    "d_max = ( (ya_mean - y_max)**2 + (za_mean - hScene)**2 )**0.5\n",
    "d = np.arange( d_min, d_max + d_y, d_y )\n",
    "print(\"d.shape = {}, d_min = {:.2f}, d_max = {:.2f}\".format(d.shape, np.amin(d), np.amax(d)))\n",
    "\n",
    "#extent=[horizontal_min,horizontal_max,vertical_min,vertical_max]\n",
    "if groundRange == 1:\n",
    "    print(\"Ground range\")\n",
    "    extent = [ y_min, y_max, x_max, x_min ]\n",
    "    im_extent = [ x_min, x_max, y_max, y_min ]\n",
    "    y = np.arange( y_min, y_max + d_y, d_y )\n",
    "else:\n",
    "    print(\"Slant range\")\n",
    "    extent = [ d_min, d_max, x_max, x_min ]\n",
    "    im_extent = [ x_min, x_max, d_max, d_min ]\n",
    "    y = ya_mean + ( d**2 - (za_mean-hScene)**2 )**0.5\n",
    "    \n",
    "y = y.reshape( y.size )"
   ]
  },
  {
   "cell_type": "code",
   "execution_count": 24,
   "metadata": {},
   "outputs": [
    {
     "name": "stdout",
     "output_type": "stream",
     "text": [
      "Nf = 3000, Naz = 45000\n",
      "range from 0.00m to 2999.90m, resolution = 1.0m, oversampled = 0.1m, \n"
     ]
    }
   ],
   "source": [
    "sr = RD\n",
    "Naz = sr.shape[0]\n",
    "Nf = sr.shape[1]\n",
    "overSamplingRatio = 10\n",
    "Nover = overSamplingRatio * Nf\n",
    "rangeResolution = c / (2 * B0)\n",
    "r_base = np.arange( Nf ) * rangeResolution\n",
    "r_over = np.arange( Nover ) * rangeResolution / overSamplingRatio\n",
    "dr_over = r_over[1] - r_over[0]\n",
    "\n",
    "print( \"Nf = {}, Naz = {}\".format( Nf, Naz ) )\n",
    "print( \"range from {:.2f}m to {:.2f}m, resolution = {}m, oversampled = {}m, \".format(\n",
    "    r_over[0], r_over[-1], rangeResolution, rangeResolution / overSamplingRatio ) )"
   ]
  },
  {
   "cell_type": "code",
   "execution_count": 25,
   "metadata": {},
   "outputs": [],
   "source": [
    "lib.reload()"
   ]
  },
  {
   "cell_type": "code",
   "execution_count": 26,
   "metadata": {},
   "outputs": [
    {
     "data": {
      "text/plain": [
       "(601, 501)"
      ]
     },
     "execution_count": 26,
     "metadata": {},
     "output_type": "execute_result"
    }
   ],
   "source": [
    "x.size, y.size"
   ]
  },
  {
   "cell_type": "code",
   "execution_count": 27,
   "metadata": {},
   "outputs": [],
   "source": [
    "myParameters = MyParameters()\n",
    "myParameters.Nx = x.size\n",
    "myParameters.Ny = y.size\n",
    "myParameters.Nover = r_over.size\n",
    "myParameters.dx = dr_over\n",
    "myParameters.Naz = Naz\n",
    "myParameters.Nf = Nf\n",
    "myParameters.hScene = hScene\n",
    "\n",
    "# resolution in azimuth\n",
    "# 1.482° => 1m\n",
    "# 60° => 2.6cm\n",
    "# 20° => 7.4cm\n",
    "# 5.930° => 25cm\n",
    "myParameters.phi_a_deg = 20"
   ]
  },
  {
   "cell_type": "code",
   "execution_count": 28,
   "metadata": {},
   "outputs": [
    {
     "name": "stdout",
     "output_type": "stream",
     "text": [
      "img.shape = (601, 501)\n",
      "execution time = 518.7463481426239\n"
     ]
    }
   ],
   "source": [
    "t = time.time()\n",
    "\n",
    "imgGroundRange  = np.zeros( (x.size, y.size), dtype=complex )\n",
    "print( \"img.shape = {}\".format( imgGroundRange.shape ) )\n",
    "\n",
    "xyz_alt = xyz[firstRamp:, :]\n",
    "\n",
    "lib.so.backProjectionOmpGroundRange( x, y, r_over,\n",
    "                                    sr.reshape(sr.size),\n",
    "                                    xyz_alt.reshape(xyz_alt.size), \n",
    "                                    imgGroundRange.reshape(imgGroundRange.size),\n",
    "                                    myParameters)\n",
    "\n",
    "elapsed = time.time() - t\n",
    "print(\"execution time = \" + str(elapsed))"
   ]
  },
  {
   "cell_type": "code",
   "execution_count": 29,
   "metadata": {},
   "outputs": [
    {
     "name": "stdout",
     "output_type": "stream",
     "text": [
      "min_dB = -54.58, max_dB = 43.42, med_dB = 9.66\n"
     ]
    }
   ],
   "source": [
    "min_dB = np.amin( 20 * np.log10(np.abs(imgGroundRange)) )\n",
    "max_dB = np.amax( 20 * np.log10(np.abs(imgGroundRange)) )\n",
    "med_dB = np.median( 20 * np.log10(np.abs(imgGroundRange)) )\n",
    "print(\"min_dB = {:.2f}, max_dB = {:.2f}, med_dB = {:.2f}\".format(min_dB, max_dB, med_dB))"
   ]
  },
  {
   "cell_type": "code",
   "execution_count": 30,
   "metadata": {},
   "outputs": [
    {
     "name": "stdout",
     "output_type": "stream",
     "text": [
      "db 1\n",
      "mod 0\n",
      "med_dyn 30\n",
      "cmap jet\n",
      "title 2018_05_29_15_09_37\n",
      "d_x=1.0 d_y=1.0 elevation=90 phi=20.0\n",
      "\n"
     ]
    }
   ],
   "source": [
    "opt = OPTt()\n",
    "\n",
    "opt.db = 1\n",
    "opt.mod = 0\n",
    "opt.med_dyn = 30\n",
    "opt.title = data_date + \\\n",
    "\"\\nd_x={} d_y={} elevation={} phi={}\\n\".format( d_x, d_y, hScene, myParameters.phi_a_deg )\n",
    "\n",
    "disp.disp_PoSAR_img( imgGroundRange.T, opt, x, 0, im_extent, cmap = 'jet' )\n",
    "\n",
    "plt.plot( runaway_proj[:,0], runaway_proj[:,1], 'k' )\n",
    "plt.plot( hangar_proj[:,0], hangar_proj[:,1], 'k' )\n",
    "plt.plot( building_proj[:,0], building_proj[:,1], 'k' )\n",
    "\n",
    "plt.plot( track_selection_proj[:,0], track_selection_proj[:,1], 'Dy', markeredgecolor='k' )\n",
    "\n",
    "plt.grid()"
   ]
  },
  {
   "cell_type": "code",
   "execution_count": 31,
   "metadata": {},
   "outputs": [],
   "source": [
    "cmap = 'gray'"
   ]
  },
  {
   "cell_type": "code",
   "execution_count": 32,
   "metadata": {},
   "outputs": [
    {
     "name": "stdout",
     "output_type": "stream",
     "text": [
      "im.shape = (501, 601)\n"
     ]
    }
   ],
   "source": [
    "plt.figure()\n",
    "\n",
    "plt.imshow( 20 * np.log10( box_filter( np.abs( imgGroundRange.T ), 2 ) ), cmap=cmap )\n",
    "#plt.plot( x[2195], y[258], 'Dr', markeredgecolor='k' )\n",
    "#plt.plot( x[2357], y[211], 'Dg', markeredgecolor='k' )\n",
    "\n",
    "#plt.plot( runaway_proj[:,0], runaway_proj[:,1], 'k' )\n",
    "#plt.plot( hangar_proj[:,0], hangar_proj[:,1], 'k' )\n",
    "#plt.plot( building_proj[:,0], building_proj[:,1], 'k' )\n",
    "\n",
    "plt.colorbar()\n",
    "ax = plt.gca()\n",
    "ax.invert_xaxis()\n",
    "ax.xaxis.tick_top()\n",
    "ax.yaxis.tick_right()"
   ]
  },
  {
   "cell_type": "code",
   "execution_count": 105,
   "metadata": {},
   "outputs": [
    {
     "name": "stdout",
     "output_type": "stream",
     "text": [
      "im.shape = (501, 601)\n"
     ]
    }
   ],
   "source": [
    "Nsmooth = 3\n",
    "orig = np.abs( imgGroundRange.T )\n",
    "other = box_filter( np.abs( imgGroundRange.T ), Nsmooth )"
   ]
  },
  {
   "cell_type": "code",
   "execution_count": 117,
   "metadata": {},
   "outputs": [],
   "source": [
    "#cv2.GaussianBlur(frame, image, cv::Size(0, 0), 3)\n",
    "#cv2.addWeighted(frame, 1.5, image, -0.5, 0, image)\n",
    "\n",
    "kernel = np.ones( (Nsmooth,Nsmooth) ) / (Nsmooth*Nsmooth)\n",
    "kernelSharpen = np.array([[0,-1,0],[-1,5,-1],[0,-1,0]])\n",
    "kernelEdgeDetection = np.array([[-1,-1,-1],[-1,8,-1],[-1,-1,-1]])\n",
    "\n",
    "orig_kernel              = cv2.filter2D( orig, -1, kernel )\n",
    "orig_kernelSharpen       = cv2.filter2D( orig, -1, kernelSharpen )\n",
    "orig_kernelEdgeDetection = cv2.filter2D( orig, -1, kernelEdgeDetection )\n",
    "\n",
    "orig_bilateralFilter = cv2.bilateralFilter( np.float32(orig), 9, 75, 75 )\n",
    "\n",
    "mask = cv2.GaussianBlur( orig, (5,5), 0 )\n",
    "alpha = 0.7\n",
    "img2 = cv2.addWeighted( orig, alpha, mask, 1-alpha, 0 )\n",
    "\n",
    "#blur = cv2.medianBlur(img, 5 )\n",
    "\n",
    "# sharpen image using \"unsharp mask\" algorithm\n",
    "#Mat blurred; double sigma = 1, threshold = 5, amount = 1;\n",
    "#GaussianBlur(img, blurred, Size(), sigma, sigma);\n",
    "#Mat lowContrastMask = abs(img - blurred) < threshold;\n",
    "#Mat sharpened = img*(1+amount) + blurred*(-amount);\n",
    "#img.copyTo(sharpened, lowContrastMask);"
   ]
  },
  {
   "cell_type": "code",
   "execution_count": 118,
   "metadata": {},
   "outputs": [
    {
     "name": "stderr",
     "output_type": "stream",
     "text": [
      "/opt/Py3-6-Venv/lib/python3.6/site-packages/ipykernel_launcher.py:14: RuntimeWarning: invalid value encountered in log10\n",
      "  \n"
     ]
    }
   ],
   "source": [
    "cmap='gray'\n",
    "\n",
    "plt.figure()\n",
    "plt.subplot(221)\n",
    "ax = plt.gca()\n",
    "plt.imshow( 20 * np.log10( other ), cmap = cmap )\n",
    "plt.gca().invert_xaxis()\n",
    "\n",
    "plt.subplot(222, sharex=ax, sharey=ax)\n",
    "plt.imshow( 20 * np.log10( orig_kernel ), cmap = cmap )\n",
    "plt.gca().invert_xaxis()\n",
    "\n",
    "plt.subplot(223, sharex=ax, sharey=ax)\n",
    "plt.imshow( 20 * np.log10( orig_kernelSharpen ), cmap = cmap )\n",
    "plt.gca().invert_xaxis()\n",
    "\n",
    "plt.subplot(224, sharex=ax, sharey=ax)\n",
    "plt.imshow( 20 * np.log10( orig_bilateralFilter ), cmap = cmap )\n",
    "plt.gca().invert_xaxis()"
   ]
  },
  {
   "cell_type": "code",
   "execution_count": 108,
   "metadata": {},
   "outputs": [
    {
     "data": {
      "text/plain": [
       "[<matplotlib.lines.Line2D at 0x7ff90f5ba438>]"
      ]
     },
     "execution_count": 108,
     "metadata": {},
     "output_type": "execute_result"
    }
   ],
   "source": [
    "plt.figure()\n",
    "plt.plot(other[100,:])\n",
    "plt.plot(orig_kernel[100,:])"
   ]
  },
  {
   "cell_type": "markdown",
   "metadata": {},
   "source": [
    "# Save focused image"
   ]
  },
  {
   "cell_type": "code",
   "execution_count": null,
   "metadata": {},
   "outputs": [],
   "source": [
    "if groundRange == 1: # [0] ground range, [1] slant range\n",
    "    if rampUp == 1:\n",
    "        focusedImageFilename = \"/\" + data_date \\\n",
    "        + \" {} {} GR {:.2f} {:.2f} {} AZ {} {} {} EL {} PHI {} rampUp alt xyz\".format( \n",
    "            firstFile, lastFile,\n",
    "            y[0], y[-1], d_y, \n",
    "            x[0], x[-1], d_x, \n",
    "            hScene,\n",
    "            myParameters.phi_a_deg)\n",
    "    else:\n",
    "        focusedImageFilename = \"/\" + data_date \\\n",
    "        + \" {} {} GR {:.2f} {:.2f} {} AZ {} {} {} EL {} PHI {} rampDown\".format( \n",
    "            firstFile, lastFile,\n",
    "            y[0], y[-1], d_y, \n",
    "            x[0], x[-1], d_x, \n",
    "            hScene,\n",
    "            myParameters.phi_a_deg)\n",
    "else:\n",
    "    if rampUp == 1:\n",
    "        focusedImageFilename = \"/\" + data_date \\\n",
    "        + \" {} {} SR {:.2f} {:.2f} {} AZ {} {} {} EL {} PHI {} rampUp\".format( \n",
    "            firstFile, lastFile,\n",
    "            y[0], y[-1], d_y, \n",
    "            x[0], x[-1], d_x, \n",
    "            hScene,\n",
    "            myParameters.phi_a_deg)\n",
    "    else:\n",
    "        focusedImageFilename = \"/\" + data_date \\\n",
    "        + \" {} {} SR {:.2f} {:.2f} {} AZ {} {} {} EL {} PHI {} rampDown\".format( \n",
    "            firstFile, lastFile,\n",
    "            y[0], y[-1], d_y, \n",
    "            x[0], x[-1], d_x, \n",
    "            hScene,\n",
    "            myParameters.phi_a_deg)\n",
    "    \n",
    "if withHanning:\n",
    "    focusedImageFilename + \" Hann\"\n",
    "    \n",
    "print( focusedImageFilename )"
   ]
  },
  {
   "cell_type": "code",
   "execution_count": null,
   "metadata": {},
   "outputs": [],
   "source": [
    "np.save( data_dir + focusedImageFilename, imgGroundRange )"
   ]
  },
  {
   "cell_type": "markdown",
   "metadata": {},
   "source": [
    "# Save image as png"
   ]
  },
  {
   "cell_type": "code",
   "execution_count": null,
   "metadata": {},
   "outputs": [],
   "source": [
    "plt.imsave( data_dir + focusedImageFilename + \".png\",\n",
    "           20 * np.log10( box_filter( np.abs( np.flip( imgGroundRange.T, 1 ) ), 5 ) ), \n",
    "           cmap=\"gray\" )"
   ]
  },
  {
   "cell_type": "code",
   "execution_count": null,
   "metadata": {},
   "outputs": [],
   "source": []
  }
 ],
 "metadata": {
  "kernelspec": {
   "display_name": "Python 3",
   "language": "python",
   "name": "python3"
  },
  "language_info": {
   "codemirror_mode": {
    "name": "ipython",
    "version": 3
   },
   "file_extension": ".py",
   "mimetype": "text/x-python",
   "name": "python",
   "nbconvert_exporter": "python",
   "pygments_lexer": "ipython3",
   "version": "3.6.5"
  }
 },
 "nbformat": 4,
 "nbformat_minor": 2
}
