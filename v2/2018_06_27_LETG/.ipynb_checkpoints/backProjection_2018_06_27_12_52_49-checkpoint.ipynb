{
 "cells": [
  {
   "cell_type": "markdown",
   "metadata": {},
   "source": [
    "# Initialization"
   ]
  },
  {
   "cell_type": "code",
   "execution_count": 1,
   "metadata": {},
   "outputs": [],
   "source": [
    "import numpy as np\n",
    "import matplotlib.pyplot as plt\n",
    "import scipy.signal as signal\n",
    "%matplotlib qt5\n",
    "eps = np.finfo(float).eps"
   ]
  },
  {
   "cell_type": "code",
   "execution_count": 17,
   "metadata": {},
   "outputs": [],
   "source": [
    "import sys\n",
    "import time\n",
    "import json"
   ]
  },
  {
   "cell_type": "markdown",
   "metadata": {},
   "source": [
    "## Load backprojection library"
   ]
  },
  {
   "cell_type": "code",
   "execution_count": 3,
   "metadata": {},
   "outputs": [],
   "source": [
    "sys.path.insert(0, \"/home/pleroy/DEV/processing/PoSAR-MC/backprojection\")"
   ]
  },
  {
   "cell_type": "code",
   "execution_count": 4,
   "metadata": {},
   "outputs": [],
   "source": [
    "from loadbackprojection import *"
   ]
  },
  {
   "cell_type": "code",
   "execution_count": 5,
   "metadata": {},
   "outputs": [],
   "source": [
    "libraryFilename = \"/home/pleroy/DEV/processing/PoSAR-MC/backprojection/ccpp/libbackprojection/liblibbackprojection.so\""
   ]
  },
  {
   "cell_type": "code",
   "execution_count": 6,
   "metadata": {},
   "outputs": [],
   "source": [
    "lib = LibBackProjection( libraryFilename )"
   ]
  },
  {
   "cell_type": "markdown",
   "metadata": {},
   "source": [
    "## Load other tools"
   ]
  },
  {
   "cell_type": "code",
   "execution_count": 7,
   "metadata": {},
   "outputs": [],
   "source": [
    "sys.path.insert(0, \"/home/pleroy/DEV/processing/focalization_python\")"
   ]
  },
  {
   "cell_type": "code",
   "execution_count": 8,
   "metadata": {},
   "outputs": [],
   "source": [
    "import posarutils.process.disp_PoSAR_img as disp\n",
    "from posarutils.process.disp_PoSAR_img import OPTt\n",
    "from posarutils.process.filtering import box_filter"
   ]
  },
  {
   "cell_type": "markdown",
   "metadata": {},
   "source": [
    "## Load parameters specific to the dataset"
   ]
  },
  {
   "cell_type": "code",
   "execution_count": 9,
   "metadata": {},
   "outputs": [],
   "source": [
    "from rsc.datasetconfig import *\n",
    "\n",
    "%load_ext autoreload\n",
    "%autoreload 2"
   ]
  },
  {
   "cell_type": "code",
   "execution_count": 10,
   "metadata": {},
   "outputs": [],
   "source": [
    "withPlots = 0"
   ]
  },
  {
   "cell_type": "markdown",
   "metadata": {},
   "source": [
    "# Read parameters from the XML file"
   ]
  },
  {
   "cell_type": "code",
   "execution_count": 11,
   "metadata": {},
   "outputs": [],
   "source": [
    "from posarutils.other.PosarMCParameters import *"
   ]
  },
  {
   "cell_type": "code",
   "execution_count": 12,
   "metadata": {},
   "outputs": [],
   "source": [
    "data_date = \"2018_06_27_12_39_39\"\n",
    "data_dir = \"/home/pleroy/DATA/2018_06_27_LETG/2018_06_27/jde/\" + data_date"
   ]
  },
  {
   "cell_type": "code",
   "execution_count": 13,
   "metadata": {},
   "outputs": [],
   "source": [
    "params_filename = data_dir + \"/\" + data_date + \"_parameters.xml\"\n",
    "params = PosarMCParameters_v2( params_filename )\n",
    "Tp = params.configuredTRamp / 1e6\n",
    "B0 = params.frequencyBand\n",
    "fs = params.samplingFrequency\n",
    "c = 3e8"
   ]
  },
  {
   "cell_type": "markdown",
   "metadata": {},
   "source": [
    "# Load the analytic signal"
   ]
  },
  {
   "cell_type": "code",
   "execution_count": 14,
   "metadata": {},
   "outputs": [],
   "source": [
    "rampUp = 0\n",
    "withHanning = 1"
   ]
  },
  {
   "cell_type": "code",
   "execution_count": 114,
   "metadata": {},
   "outputs": [],
   "source": [
    "firstFile = 0\n",
    "nbFiles = 100\n",
    "lastFile = firstFile + nbFiles - 1\n",
    "firstRamp = (firstFile) * params.rampsPerFile\n",
    "lastRamp = (lastFile) * params.rampsPerFile\n",
    "if withHanning:\n",
    "    if rampUp:\n",
    "        RD1 = np.load( data_dir + '/RD_files_{}_{}_hanning.npy'.format( firstFile, lastFile ) )\n",
    "        coupling = np.load( data_dir + '/coupling_RD_files_{}_{}_hanning.npy'.format( firstFile, lastFile ) )\n",
    "    else:\n",
    "        RD1 = np.load( data_dir + '/RD_files_{}_{}_rampDown_hanning.npy'.format( firstFile, lastFile ) )\n",
    "        coupling = np.load( data_dir + '/coupling_RD_files_{}_{}_rampDown_hanning.npy'.format( firstFile, lastFile ) )\n",
    "else:\n",
    "    if rampUp:\n",
    "        RD1 = np.load( data_dir + '/RD_files_{}_{}.npy'.format( firstFile, lastFile ) )\n",
    "        coupling = np.load( data_dir + '/coupling_RD_files_{}_{}.npy'.format( firstFile, lastFile ) )\n",
    "    else:\n",
    "        RD1 = np.load( data_dir + '/RD_files_{}_{}_rampDown.npy'.format( firstFile, lastFile ) )\n",
    "        coupling = np.load( data_dir + '/coupling_RD_files_{}_{}_rampDown.npy'.format( firstFile, lastFile ) )\n",
    "\n",
    "# remove coupling from RD1 to build RD2\n",
    "#RD2 = RD1 - coupling\n",
    "nbPos = params.rampsPerFile * nbFiles"
   ]
  },
  {
   "cell_type": "code",
   "execution_count": 16,
   "metadata": {},
   "outputs": [],
   "source": [
    "if withPlots:\n",
    "    plt.figure()\n",
    "    plt.plot(np.abs(coupling))\n",
    "    plt.grid()"
   ]
  },
  {
   "cell_type": "markdown",
   "metadata": {},
   "source": [
    "# Load antenna positions"
   ]
  },
  {
   "cell_type": "code",
   "execution_count": 113,
   "metadata": {},
   "outputs": [
    {
     "name": "stdout",
     "output_type": "stream",
     "text": [
      "xa_mean = 5041.92, ya_mean = 5800.62, za_mean = 304.52\n"
     ]
    }
   ],
   "source": [
    "# load positions for all ramps\n",
    "if rampUp == 1:\n",
    "    filename = data_dir + \"/rampNumber_timeStamp_xyz_rampUp.npy\"\n",
    "    xyz = np.load( filename )\n",
    "else:\n",
    "    filename = data_dir + \"/rampNumber_timeStamp_xyz_nav.npy\"\n",
    "    xyz = np.load( filename )\n",
    "xa = xyz[:,2]\n",
    "ya = xyz[:,3]\n",
    "za = xyz[:,4]\n",
    "xa_mean = np.mean(xa)\n",
    "ya_mean = np.mean(ya)\n",
    "za_mean = np.mean(za)\n",
    "print( \"xa_mean = {:.2f}, ya_mean = {:.2f}, za_mean = {:.2f}\".format( xa_mean, ya_mean, za_mean ) )"
   ]
  },
  {
   "cell_type": "code",
   "execution_count": 19,
   "metadata": {},
   "outputs": [
    {
     "name": "stdout",
     "output_type": "stream",
     "text": [
      "RD1.shape = (37500, 3000), xyz.shape = (257250, 5)\n"
     ]
    }
   ],
   "source": [
    "print( \"RD1.shape = {}, xyz.shape = {}\".format( RD1.shape, xyz.shape ) )"
   ]
  },
  {
   "cell_type": "code",
   "execution_count": 20,
   "metadata": {
    "scrolled": true
   },
   "outputs": [],
   "source": [
    "if withPlots == 1:\n",
    "    plt.figure()\n",
    "\n",
    "    title = data_date + \" selection {} to {}\".format( firstFile, lastFile )\n",
    "    \n",
    "    plt.suptitle( title )\n",
    "\n",
    "    plt.subplot(221)\n",
    "    plt.plot(xyz[:, 1], xyz[:, 2], label=\"x \")\n",
    "    plt.plot(xyz[firstRamp:lastRamp, 1], xyz[firstRamp:lastRamp, 2], 'orange', label=\"x selection\")\n",
    "    plt.grid()\n",
    "    plt.legend()\n",
    "\n",
    "    plt.subplot(222)\n",
    "    plt.plot(xyz[:, 1], xyz[:, 3], label=\"y \")\n",
    "    plt.plot(xyz[firstRamp:lastRamp, 1], xyz[firstRamp:lastRamp, 3], 'orange', label=\"y selection\")\n",
    "    plt.grid()\n",
    "    plt.legend()\n",
    "\n",
    "    plt.subplot(223)\n",
    "    plt.plot(xyz[:, 1], xyz[:, 4], label=\"z \")\n",
    "    plt.plot(xyz[firstRamp:lastRamp, 1], xyz[firstRamp:lastRamp, 4], 'orange', label=\"z selection\")\n",
    "    plt.grid()\n",
    "    plt.legend()\n",
    "\n",
    "    plt.subplot(224)\n",
    "    plt.plot(xyz[:, 2], xyz[:, 3], label=\"xy \")\n",
    "    plt.plot(xyz[firstRamp:lastRamp, 2], xyz[firstRamp:lastRamp, 3], 'orange', label=\"xy (selection)\")\n",
    "    ax = plt.gca()\n",
    "    ax.invert_xaxis()\n",
    "    ax.invert_yaxis()\n",
    "    ax.xaxis.tick_top()\n",
    "    ax.yaxis.tick_right()\n",
    "    plt.grid()\n",
    "    plt.legend()\n",
    "    \n",
    "    plt.savefig( data_dir + \"/\" + title + \".png\", bbox_inches='tight')"
   ]
  },
  {
   "cell_type": "markdown",
   "metadata": {},
   "source": [
    "# Focalization"
   ]
  },
  {
   "cell_type": "code",
   "execution_count": 134,
   "metadata": {},
   "outputs": [],
   "source": [
    "RD = np.fft.ifftshift(RD1, 1)"
   ]
  },
  {
   "cell_type": "markdown",
   "metadata": {},
   "source": [
    "## Compute the aperture angle to have a specified resolution in azimuth"
   ]
  },
  {
   "cell_type": "code",
   "execution_count": 135,
   "metadata": {},
   "outputs": [
    {
     "name": "stdout",
     "output_type": "stream",
     "text": [
      "phi_a = 60.000, dx = 0.026\n",
      "phi_a = 20.000, dx = 0.074\n",
      "phi_b = 1.000, dx = 1.482\n",
      "phi_a2 = 1.482, dx2 = 1.000\n",
      "phi_a2 = 2.964, dx2 = 0.500\n",
      "phi_a3 = 5.930, dx3 = 0.250\n"
     ]
    }
   ],
   "source": [
    "# dx = lambda_c / (4 * sin( phi_a / 2 )) => phi_a = 2 * asin( lambda_c / (4 * dx))\n",
    "lambda_c = 3e8 / 5.8e9\n",
    "\n",
    "phi_a = 60 * np.pi / 180\n",
    "dx = lambda_c / (4 * np.sin( phi_a / 2 ))\n",
    "print( \"phi_a = {:.3f}, dx = {:.3f}\".format(phi_a * 180 / np.pi, dx) )\n",
    "\n",
    "phi = 20 * np.pi / 180\n",
    "dx = lambda_c / (4 * np.sin( phi / 2 ))\n",
    "print( \"phi_a = {:.3f}, dx = {:.3f}\".format(phi * 180 / np.pi, dx) )\n",
    "\n",
    "phi_b = 1 * np.pi / 180\n",
    "dx = lambda_c / (4 * np.sin( phi_b / 2 ))\n",
    "print( \"phi_b = {:.3f}, dx = {:.3f}\".format(phi_b * 180 / np.pi, dx) )\n",
    "\n",
    "dx2 = 1\n",
    "phi_a2 = 2 * np.arcsin( lambda_c / (4 * dx2) )\n",
    "print( \"phi_a2 = {:.3f}, dx2 = {:.3f}\".format(phi_a2 * 180 / np.pi, dx2) )\n",
    "\n",
    "dx4 = 0.5\n",
    "phi_a4 = 2 * np.arcsin( lambda_c / (4 * dx4) )\n",
    "print( \"phi_a2 = {:.3f}, dx2 = {:.3f}\".format(phi_a4 * 180 / np.pi, dx4) )\n",
    "\n",
    "dx3 = 0.25\n",
    "phi_a3 = 2 * np.arcsin( lambda_c / (4 * dx3) )\n",
    "print( \"phi_a3 = {:.3f}, dx3 = {:.3f}\".format(phi_a3 * 180 / np.pi, dx3) )\n"
   ]
  },
  {
   "cell_type": "markdown",
   "metadata": {},
   "source": [
    "## Define the geometry of the scene"
   ]
  },
  {
   "cell_type": "code",
   "execution_count": 136,
   "metadata": {},
   "outputs": [],
   "source": [
    "with open(data_dir + '/track_model.json') as json_file:  \n",
    "    data = json.load(json_file)\n",
    "    \n",
    "ux = data['ux']\n",
    "uy = data['uy']"
   ]
  },
  {
   "cell_type": "code",
   "execution_count": 137,
   "metadata": {},
   "outputs": [],
   "source": [
    "filename = data_dir + \"/J1_epsg.npy\"\n",
    "J1 = np.load( filename )\n",
    "filename = data_dir + \"/J2_epsg.npy\"\n",
    "J2 = np.load( filename )\n",
    "filename = data_dir + \"/J11_epsg.npy\"\n",
    "J11 = np.load( filename )\n",
    "filename = data_dir + \"/J12_epsg.npy\"\n",
    "J12 = np.load( filename )"
   ]
  },
  {
   "cell_type": "code",
   "execution_count": 138,
   "metadata": {},
   "outputs": [],
   "source": [
    "hScene = 50\n",
    "\n",
    "d_x = 1.\n",
    "d_y = 1.\n",
    "nbX = 2501\n",
    "nbY = 501\n",
    "shiftY = 100\n",
    "baseLineX = J1[0] + ux[0] * np.arange(nbX)\n",
    "baseLineY = J1[1] + ux[1] * np.arange(nbX)\n",
    "sceneX = baseLineX + uy[0] * shiftY\n",
    "sceneY = baseLineY + uy[1] * shiftY\n",
    "\n",
    "for n in range(1, nbY):\n",
    "    newX = baseLineX + uy[0] * (n + shiftY)\n",
    "    newY = baseLineY + uy[1] * (n + shiftY)\n",
    "    sceneX = np.concatenate((sceneX, newX))\n",
    "    sceneY = np.concatenate((sceneY, newY))\n",
    "    \n",
    "sceneX_mean = np.mean(sceneX)\n",
    "sceneY_mean = np.mean(sceneY)"
   ]
  },
  {
   "cell_type": "code",
   "execution_count": 139,
   "metadata": {},
   "outputs": [],
   "source": [
    "if 1:\n",
    "    plt.figure()\n",
    "    plt.plot( baseLineX, baseLineY, 'r', label = \"baseline\" )\n",
    "    plt.plot( sceneX, sceneY, label = \"scene\" )\n",
    "    plt.plot( xa, ya, 'b', label=\"antenna positions\" )\n",
    "    plt.plot( sceneX_mean, sceneY_mean, 'Dy', markerEdgecolor='k' )\n",
    "    plt.plot( xyz[firstRamp:lastRamp, 2], xyz[firstRamp:lastRamp, 3], 'limegreen', label=\"ramps\" )\n",
    "    plt.axes().set_aspect('equal')\n",
    "    plt.legend()\n",
    "    plt.grid()"
   ]
  },
  {
   "cell_type": "code",
   "execution_count": 140,
   "metadata": {},
   "outputs": [],
   "source": [
    "groundRange = 1 # 0 => slant range, 1 => ground range"
   ]
  },
  {
   "cell_type": "code",
   "execution_count": 141,
   "metadata": {},
   "outputs": [
    {
     "name": "stdout",
     "output_type": "stream",
     "text": [
      "Nf = 3000, Naz = 75000\n",
      "range from 0.00m to 2999.90m, resolution = 1.0m, oversampled = 0.1m, \n"
     ]
    }
   ],
   "source": [
    "sr = RD\n",
    "Naz = sr.shape[0]\n",
    "Nf = sr.shape[1]\n",
    "overSamplingRatio = 10\n",
    "Nover = overSamplingRatio * Nf\n",
    "rangeResolution = c / (2 * B0)\n",
    "r_base = np.arange( Nf ) * rangeResolution\n",
    "r_over = np.arange( Nover ) * rangeResolution / overSamplingRatio\n",
    "dr_over = r_over[1] - r_over[0]\n",
    "\n",
    "print( \"Nf = {}, Naz = {}\".format( Nf, Naz ) )\n",
    "print( \"range from {:.2f}m to {:.2f}m, resolution = {}m, oversampled = {}m, \".format(\n",
    "    r_over[0], r_over[-1], rangeResolution, rangeResolution / overSamplingRatio ) )"
   ]
  },
  {
   "cell_type": "code",
   "execution_count": 142,
   "metadata": {},
   "outputs": [
    {
     "data": {
      "text/plain": [
       "(75000, 3000)"
      ]
     },
     "execution_count": 142,
     "metadata": {},
     "output_type": "execute_result"
    }
   ],
   "source": [
    "sr.shape"
   ]
  },
  {
   "cell_type": "code",
   "execution_count": 143,
   "metadata": {},
   "outputs": [],
   "source": [
    "lib.reload()"
   ]
  },
  {
   "cell_type": "code",
   "execution_count": 144,
   "metadata": {},
   "outputs": [
    {
     "data": {
      "text/plain": [
       "(2501, 501)"
      ]
     },
     "execution_count": 144,
     "metadata": {},
     "output_type": "execute_result"
    }
   ],
   "source": [
    "nbX, nbY"
   ]
  },
  {
   "cell_type": "code",
   "execution_count": 145,
   "metadata": {},
   "outputs": [],
   "source": [
    "myParameters = MyParameters_LETG()\n",
    "myParameters.Nx = nbX\n",
    "myParameters.Ny = nbY\n",
    "myParameters.Nover = r_over.size\n",
    "myParameters.dx = dr_over\n",
    "myParameters.Naz = Naz\n",
    "myParameters.Nf = Nf\n",
    "myParameters.hScene = hScene\n",
    "\n",
    "# resolution in azimuth\n",
    "# 1.482° => 1m\n",
    "# 60° => 2.6cm\n",
    "# 20° => 7.4cm\n",
    "# 5.930° => 25cm\n",
    "myParameters.phi_a_deg = 20\n",
    "\n",
    "myParameters.uxx = ux[0]\n",
    "myParameters.uxy = ux[1]\n",
    "myParameters.meanX = sceneX_mean\n",
    "myParameters.meanY = sceneY_mean"
   ]
  },
  {
   "cell_type": "code",
   "execution_count": 146,
   "metadata": {},
   "outputs": [
    {
     "name": "stdout",
     "output_type": "stream",
     "text": [
      "img.shape = (1253001,)\n",
      "execution time = 1788.7217650413513\n"
     ]
    }
   ],
   "source": [
    "t = time.time()\n",
    "\n",
    "imgGroundRange  = np.zeros( (nbX * nbY), dtype=complex )\n",
    "print( \"img.shape = {}\".format( imgGroundRange.shape ) )\n",
    "\n",
    "xyz_alt = xyz[firstRamp:, :]\n",
    "\n",
    "lib.so.backProjectionOmpGroundRange_LETG( sceneX, sceneY, r_over,\n",
    "                                    sr.reshape(sr.size),\n",
    "                                    xyz_alt.reshape(xyz_alt.size), \n",
    "                                    imgGroundRange.reshape(imgGroundRange.size),\n",
    "                                    myParameters)\n",
    "\n",
    "elapsed = time.time() - t\n",
    "print(\"execution time = \" + str(elapsed))"
   ]
  },
  {
   "cell_type": "code",
   "execution_count": 147,
   "metadata": {},
   "outputs": [
    {
     "name": "stdout",
     "output_type": "stream",
     "text": [
      "min_dB = -57.88, max_dB = 44.48, med_dB = 2.38\n"
     ]
    }
   ],
   "source": [
    "min_dB = np.amin( 20 * np.log10(np.abs(imgGroundRange)) )\n",
    "max_dB = np.amax( 20 * np.log10(np.abs(imgGroundRange)) )\n",
    "med_dB = np.median( 20 * np.log10(np.abs(imgGroundRange)) )\n",
    "print(\"min_dB = {:.2f}, max_dB = {:.2f}, med_dB = {:.2f}\".format(min_dB, max_dB, med_dB))\n",
    "# gps min_dB = -57.20, max_dB = 44.13, med_dB = 4.99\n",
    "# nav min_dB = -56.37, max_dB = 44.48, med_dB = 4.98"
   ]
  },
  {
   "cell_type": "markdown",
   "metadata": {},
   "source": [
    "# Plot image"
   ]
  },
  {
   "cell_type": "code",
   "execution_count": 148,
   "metadata": {},
   "outputs": [],
   "source": [
    "cmap = 'gray'"
   ]
  },
  {
   "cell_type": "code",
   "execution_count": 149,
   "metadata": {},
   "outputs": [
    {
     "data": {
      "text/plain": [
       "<matplotlib.colorbar.Colorbar at 0x7f7b9ef31438>"
      ]
     },
     "execution_count": 149,
     "metadata": {},
     "output_type": "execute_result"
    }
   ],
   "source": [
    "plt.figure()\n",
    "\n",
    "#plt.imshow( 20 * np.log10( box_filter( np.abs( imgGroundRange.reshape(nbX, nbY) ), 2 ) ), cmap=cmap )\n",
    "plt.imshow( 20 * np.log10( np.abs( imgGroundRange.reshape(nbY, nbX) ) ), cmap=cmap )\n",
    "\n",
    "plt.colorbar()"
   ]
  },
  {
   "cell_type": "code",
   "execution_count": 151,
   "metadata": {},
   "outputs": [
    {
     "name": "stdout",
     "output_type": "stream",
     "text": [
      "im.shape = (501, 2501)\n"
     ]
    },
    {
     "data": {
      "text/plain": [
       "<matplotlib.colorbar.Colorbar at 0x7f7b9ef03b70>"
      ]
     },
     "execution_count": 151,
     "metadata": {},
     "output_type": "execute_result"
    }
   ],
   "source": [
    "plt.figure()\n",
    "\n",
    "plt.imshow( 20 * np.log10( box_filter( np.abs( imgGroundRange.reshape(nbY, nbX) ), 2 ) ), cmap=cmap )\n",
    "\n",
    "plt.colorbar()"
   ]
  },
  {
   "cell_type": "code",
   "execution_count": 152,
   "metadata": {},
   "outputs": [
    {
     "name": "stdout",
     "output_type": "stream",
     "text": [
      "im.shape = (501, 2501)\n"
     ]
    }
   ],
   "source": [
    "idx = np.where(imgGroundRange != 0)\n",
    "imgMin = np.amin( 20 * np.log10( np.abs( imgGroundRange[idx] ) ) )\n",
    "altImgGroundRange = imgGroundRange\n",
    "idx = np.where(imgGroundRange == 0)\n",
    "altImgGroundRange[idx] = imgMin\n",
    "z = 20 * np.log10( box_filter( np.abs( altImgGroundRange.reshape(nbY, nbX) ), 2 ) )"
   ]
  },
  {
   "cell_type": "code",
   "execution_count": 153,
   "metadata": {},
   "outputs": [],
   "source": [
    "plt.figure()\n",
    "x = sceneX.reshape(nbY, nbX)\n",
    "y = sceneY.reshape(nbY, nbX)\n",
    "plt.pcolormesh( x, y, z.reshape(nbY, nbX), cmap=cmap )\n",
    "plt.plot(J1[0], J1[1], 'Dy', markerEdgecolor='k' )\n",
    "plt.axes().set_aspect('equal')\n",
    "plt.plot( xa, ya )\n",
    "plt.grid()"
   ]
  },
  {
   "cell_type": "code",
   "execution_count": 154,
   "metadata": {},
   "outputs": [],
   "source": [
    "vmin = -10\n",
    "vmax = 20\n",
    "\n",
    "plt.figure()\n",
    "x = sceneX.reshape(nbY, nbX)\n",
    "y = sceneY.reshape(nbY, nbX)\n",
    "plt.pcolormesh( x, y, z.reshape(nbY, nbX), cmap=cmap, vmin=vmin, vmax=vmax )\n",
    "plt.plot(J1[0], J1[1], 'Dy', markerEdgecolor='k' )\n",
    "plt.axes().set_aspect('equal')\n",
    "plt.plot( xa, ya )\n",
    "plt.grid()"
   ]
  },
  {
   "cell_type": "markdown",
   "metadata": {},
   "source": [
    "# Save focused image"
   ]
  },
  {
   "cell_type": "code",
   "execution_count": 156,
   "metadata": {},
   "outputs": [
    {
     "name": "stdout",
     "output_type": "stream",
     "text": [
      "/2018_06_27_12_39_39 0 99 GR 1743.32 3407.04 1.0 AZ 8050.16 6118.32 1.0 EL 50 PHI 20.0 rampDown Hann\n"
     ]
    }
   ],
   "source": [
    "if groundRange == 1: # [0] ground range, [1] slant range\n",
    "    if rampUp == 1:\n",
    "        focusedImageFilename = \"/\" + data_date \\\n",
    "        + \" {} {} GR {:.2f} {:.2f} {} AZ {} {} {} EL {} PHI {} rampUp alt xyz\".format( \n",
    "            firstFile, lastFile,\n",
    "            y[0], y[-1], d_y, \n",
    "            x[0], x[-1], d_x, \n",
    "            hScene,\n",
    "            myParameters.phi_a_deg)\n",
    "    else:\n",
    "        focusedImageFilename = \"/\" + data_date \\\n",
    "        + \" {} {} GR {:.2f} {:.2f} {} AZ {:.2f} {:.2f} {} EL {} PHI {} rampDown\".format( \n",
    "            firstFile, lastFile,\n",
    "            y[0][0], y[-1][-1], d_y, \n",
    "            x[0][0], x[-1][-1], d_x, \n",
    "            hScene,\n",
    "            myParameters.phi_a_deg)\n",
    "else:\n",
    "    if rampUp == 1:\n",
    "        focusedImageFilename = \"/\" + data_date \\\n",
    "        + \" {} {} SR {:.2f} {:.2f} {} AZ {} {} {} EL {} PHI {} rampUp\".format( \n",
    "            firstFile, lastFile,\n",
    "            y[0], y[-1], d_y, \n",
    "            x[0], x[-1], d_x, \n",
    "            hScene,\n",
    "            myParameters.phi_a_deg)\n",
    "    else:\n",
    "        focusedImageFilename = \"/\" + data_date \\\n",
    "        + \" {} {} SR {:.2f} {:.2f} {} AZ {} {} {} EL {} PHI {} rampDown\".format( \n",
    "            firstFile, lastFile,\n",
    "            y[0], y[-1], d_y, \n",
    "            x[0], x[-1], d_x, \n",
    "            hScene,\n",
    "            myParameters.phi_a_deg)\n",
    "    \n",
    "if withHanning:\n",
    "    focusedImageFilename = focusedImageFilename + \" Hann\"\n",
    "    \n",
    "print( focusedImageFilename )\n",
    "\n",
    "# /2018_06_27_12_39_39 0 49 GR 1743.32 1916.78 1.0 AZ 8050.16 6646.63 1.0 EL 50 PHI 20.0 rampDown Hann"
   ]
  },
  {
   "cell_type": "code",
   "execution_count": 157,
   "metadata": {},
   "outputs": [],
   "source": [
    "np.save( data_dir + focusedImageFilename, imgGroundRange )"
   ]
  },
  {
   "cell_type": "markdown",
   "metadata": {},
   "source": [
    "# Compare images"
   ]
  },
  {
   "cell_type": "code",
   "execution_count": 103,
   "metadata": {},
   "outputs": [],
   "source": [
    "name = \"2018_06_27_12_39_39 0 49 GR 1743.32 2224.30 1.0 AZ 8050.16 7040.87 1.0 EL 50 PHI 20.0 rampDown Hann nav.npy\"\n",
    "filename = data_dir + \"/\" + name\n",
    "img_nav = np.load( filename )"
   ]
  },
  {
   "cell_type": "code",
   "execution_count": 112,
   "metadata": {},
   "outputs": [
    {
     "name": "stdout",
     "output_type": "stream",
     "text": [
      "im.shape = (501, 1001)\n",
      "im.shape = (501, 1001)\n"
     ]
    },
    {
     "data": {
      "text/plain": [
       "<matplotlib.colorbar.Colorbar at 0x7f7abc2c98d0>"
      ]
     },
     "execution_count": 112,
     "metadata": {},
     "output_type": "execute_result"
    }
   ],
   "source": [
    "cmap=\"Greys\"\n",
    "\n",
    "plt.figure()\n",
    "\n",
    "ax = plt.subplot(211)\n",
    "plt.imshow( 20 * np.log10( box_filter( np.abs( imgGroundRange.reshape(nbY, nbX) ), 2 ) ), cmap=cmap )\n",
    "plt.grid()\n",
    "plt.title(\"gps\")\n",
    "plt.colorbar()\n",
    "\n",
    "plt.subplot(212, sharex=ax, sharey=ax)\n",
    "plt.imshow( 20 * np.log10( box_filter( np.abs( img_nav.reshape(nbY, nbX) ), 2 ) ), cmap=cmap )\n",
    "plt.grid()\n",
    "plt.title(\"nav\")\n",
    "plt.colorbar()"
   ]
  },
  {
   "cell_type": "markdown",
   "metadata": {},
   "source": [
    "# Save image as png"
   ]
  },
  {
   "cell_type": "code",
   "execution_count": null,
   "metadata": {},
   "outputs": [],
   "source": [
    "plt.imsave( data_dir + focusedImageFilename + \".png\",\n",
    "           20 * np.log10( box_filter( np.abs( np.flip( imgGroundRange.T, 1 ) ), 5 ) ), \n",
    "           cmap=\"gray\" )"
   ]
  },
  {
   "cell_type": "code",
   "execution_count": null,
   "metadata": {},
   "outputs": [],
   "source": []
  }
 ],
 "metadata": {
  "kernelspec": {
   "display_name": "Python 3",
   "language": "python",
   "name": "python3"
  },
  "language_info": {
   "codemirror_mode": {
    "name": "ipython",
    "version": 3
   },
   "file_extension": ".py",
   "mimetype": "text/x-python",
   "name": "python",
   "nbconvert_exporter": "python",
   "pygments_lexer": "ipython3",
   "version": "3.6.5"
  },
  "toc": {
   "base_numbering": 1,
   "nav_menu": {},
   "number_sections": true,
   "sideBar": true,
   "skip_h1_title": false,
   "title_cell": "Table of Contents",
   "title_sidebar": "Contents",
   "toc_cell": false,
   "toc_position": {
    "height": "calc(100% - 180px)",
    "left": "10px",
    "top": "150px",
    "width": "332px"
   },
   "toc_section_display": true,
   "toc_window_display": true
  }
 },
 "nbformat": 4,
 "nbformat_minor": 2
}
