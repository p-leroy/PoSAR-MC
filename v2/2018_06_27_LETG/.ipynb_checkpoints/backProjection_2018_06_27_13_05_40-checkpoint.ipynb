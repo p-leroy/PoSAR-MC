{
 "cells": [
  {
   "cell_type": "markdown",
   "metadata": {},
   "source": [
    "# Initialization"
   ]
  },
  {
   "cell_type": "code",
   "execution_count": 1,
   "metadata": {},
   "outputs": [],
   "source": [
    "import numpy as np\n",
    "import matplotlib.pyplot as plt\n",
    "import scipy.signal as signal\n",
    "import scipy.interpolate as interp\n",
    "%matplotlib qt5\n",
    "eps = np.finfo(float).eps"
   ]
  },
  {
   "cell_type": "code",
   "execution_count": 2,
   "metadata": {},
   "outputs": [],
   "source": [
    "import sys\n",
    "import time\n",
    "import json"
   ]
  },
  {
   "cell_type": "markdown",
   "metadata": {},
   "source": [
    "## Load backprojection library"
   ]
  },
  {
   "cell_type": "code",
   "execution_count": 3,
   "metadata": {},
   "outputs": [],
   "source": [
    "sys.path.insert(0, \"/home/pleroy/DEV/processing/PoSAR-MC/backprojection\")"
   ]
  },
  {
   "cell_type": "code",
   "execution_count": 4,
   "metadata": {},
   "outputs": [],
   "source": [
    "from loadbackprojection import *"
   ]
  },
  {
   "cell_type": "code",
   "execution_count": 5,
   "metadata": {},
   "outputs": [],
   "source": [
    "libraryFilename = \"/home/pleroy/DEV/processing/PoSAR-MC/backprojection/ccpp/libbackprojection/liblibbackprojection.so\""
   ]
  },
  {
   "cell_type": "code",
   "execution_count": 6,
   "metadata": {},
   "outputs": [],
   "source": [
    "lib = LibBackProjection( libraryFilename )"
   ]
  },
  {
   "cell_type": "markdown",
   "metadata": {},
   "source": [
    "## Load other tools"
   ]
  },
  {
   "cell_type": "code",
   "execution_count": 7,
   "metadata": {},
   "outputs": [],
   "source": [
    "sys.path.insert(0, \"/home/pleroy/DEV/processing/focalization_python\")"
   ]
  },
  {
   "cell_type": "code",
   "execution_count": 8,
   "metadata": {},
   "outputs": [],
   "source": [
    "import posarutils.process.disp_PoSAR_img as disp\n",
    "from posarutils.process.disp_PoSAR_img import OPTt\n",
    "from posarutils.process.filtering import box_filter"
   ]
  },
  {
   "cell_type": "markdown",
   "metadata": {},
   "source": [
    "## Load parameters specific to the dataset"
   ]
  },
  {
   "cell_type": "code",
   "execution_count": 9,
   "metadata": {},
   "outputs": [],
   "source": [
    "from rsc.datasetconfig import *\n",
    "\n",
    "%load_ext autoreload\n",
    "%autoreload 2"
   ]
  },
  {
   "cell_type": "code",
   "execution_count": 10,
   "metadata": {},
   "outputs": [],
   "source": [
    "withPlots = 0"
   ]
  },
  {
   "cell_type": "markdown",
   "metadata": {},
   "source": [
    "# Read parameters from the XML file"
   ]
  },
  {
   "cell_type": "code",
   "execution_count": 11,
   "metadata": {},
   "outputs": [],
   "source": [
    "from posarutils.other.PosarMCParameters import *"
   ]
  },
  {
   "cell_type": "code",
   "execution_count": 12,
   "metadata": {},
   "outputs": [],
   "source": [
    "data_date = \"2018_06_27_13_05_40\"\n",
    "root_dir = \"/home/pleroy/DATA/2018_06_27_LETG/2018_06_27/jde/\"\n",
    "data_dir = root_dir + data_date"
   ]
  },
  {
   "cell_type": "code",
   "execution_count": 13,
   "metadata": {},
   "outputs": [],
   "source": [
    "params_filename = data_dir + \"/\" + data_date + \"_parameters.xml\"\n",
    "params = PosarMCParameters_v2( params_filename )\n",
    "Tp = params.configuredTRamp / 1e6\n",
    "B0 = params.frequencyBand\n",
    "fs = params.samplingFrequency\n",
    "c = 3e8"
   ]
  },
  {
   "cell_type": "markdown",
   "metadata": {},
   "source": [
    "# Load the analytic signal"
   ]
  },
  {
   "cell_type": "code",
   "execution_count": 14,
   "metadata": {},
   "outputs": [],
   "source": [
    "rampUp = 0\n",
    "withHanning = 1\n",
    "nav = 1"
   ]
  },
  {
   "cell_type": "code",
   "execution_count": 15,
   "metadata": {},
   "outputs": [],
   "source": [
    "firstFile = 0\n",
    "nbFiles = 100\n",
    "lastFile = firstFile + nbFiles - 1\n",
    "firstRamp = (firstFile) * params.rampsPerFile\n",
    "lastRamp = (lastFile) * params.rampsPerFile\n",
    "if withHanning:\n",
    "    if rampUp:\n",
    "        RD1 = np.load( data_dir + '/RD_files_{}_{}_hanning.npy'.format( firstFile, lastFile ) )\n",
    "        coupling = np.load( data_dir + '/coupling_RD_files_{}_{}_hanning.npy'.format( firstFile, lastFile ) )\n",
    "    else:\n",
    "        RD1 = np.load( data_dir + '/RD_files_{}_{}_rampDown_hanning.npy'.format( firstFile, lastFile ) )\n",
    "        coupling = np.load( data_dir + '/coupling_RD_files_{}_{}_rampDown_hanning.npy'.format( firstFile, lastFile ) )\n",
    "else:\n",
    "    if rampUp:\n",
    "        RD1 = np.load( data_dir + '/RD_files_{}_{}.npy'.format( firstFile, lastFile ) )\n",
    "        coupling = np.load( data_dir + '/coupling_RD_files_{}_{}.npy'.format( firstFile, lastFile ) )\n",
    "    else:\n",
    "        RD1 = np.load( data_dir + '/RD_files_{}_{}_rampDown.npy'.format( firstFile, lastFile ) )\n",
    "        coupling = np.load( data_dir + '/coupling_RD_files_{}_{}_rampDown.npy'.format( firstFile, lastFile ) )\n",
    "\n",
    "# remove coupling from RD1 to build RD2\n",
    "#RD2 = RD1 - coupling\n",
    "nbPos = params.rampsPerFile * nbFiles"
   ]
  },
  {
   "cell_type": "code",
   "execution_count": 16,
   "metadata": {},
   "outputs": [],
   "source": [
    "if withPlots:\n",
    "    plt.figure()\n",
    "    plt.plot(np.abs(coupling))\n",
    "    plt.grid()"
   ]
  },
  {
   "cell_type": "markdown",
   "metadata": {},
   "source": [
    "# Load antenna positions"
   ]
  },
  {
   "cell_type": "code",
   "execution_count": 17,
   "metadata": {},
   "outputs": [
    {
     "name": "stdout",
     "output_type": "stream",
     "text": [
      "rampNumber_timeStamp_xyz_nav.npy\n",
      "xa_mean = 5448.12, ya_mean = 6193.83, za_mean = 291.18\n"
     ]
    }
   ],
   "source": [
    "# load positions for all ramps\n",
    "if rampUp:\n",
    "    filename = \"rampNumber_timeStamp_xyz_rampUp.npy\"\n",
    "else:\n",
    "    if nav:\n",
    "        filename = \"rampNumber_timeStamp_xyz_nav.npy\"\n",
    "    else:\n",
    "        filename = \"rampNumber_timeStamp_xyz_gps.npy\"\n",
    "        \n",
    "xyz = np.load( data_dir + \"/\" + filename )\n",
    "xa = xyz[:,2]\n",
    "ya = xyz[:,3]\n",
    "za = xyz[:,4]\n",
    "xa_mean = np.mean(xa)\n",
    "ya_mean = np.mean(ya)\n",
    "za_mean = np.mean(za)\n",
    "print( filename )\n",
    "print( \"xa_mean = {:.2f}, ya_mean = {:.2f}, za_mean = {:.2f}\".format( xa_mean, ya_mean, za_mean ) )"
   ]
  },
  {
   "cell_type": "code",
   "execution_count": 18,
   "metadata": {},
   "outputs": [
    {
     "name": "stdout",
     "output_type": "stream",
     "text": [
      "RD1.shape = (75000, 3000), xyz.shape = (241500, 5)\n"
     ]
    }
   ],
   "source": [
    "print( \"RD1.shape = {}, xyz.shape = {}\".format( RD1.shape, xyz.shape ) )"
   ]
  },
  {
   "cell_type": "code",
   "execution_count": 19,
   "metadata": {
    "scrolled": true
   },
   "outputs": [],
   "source": [
    "if withPlots == 1:\n",
    "    plt.figure()\n",
    "\n",
    "    title = data_date + \" selection {} to {}\".format( firstFile, lastFile )\n",
    "    \n",
    "    plt.suptitle( title )\n",
    "\n",
    "    plt.subplot(221)\n",
    "    plt.plot(xyz[:, 1], xyz[:, 2], label=\"x \")\n",
    "    plt.plot(xyz[firstRamp:lastRamp, 1], xyz[firstRamp:lastRamp, 2], 'orange', label=\"x selection\")\n",
    "    plt.grid()\n",
    "    plt.legend()\n",
    "\n",
    "    plt.subplot(222)\n",
    "    plt.plot(xyz[:, 1], xyz[:, 3], label=\"y \")\n",
    "    plt.plot(xyz[firstRamp:lastRamp, 1], xyz[firstRamp:lastRamp, 3], 'orange', label=\"y selection\")\n",
    "    plt.grid()\n",
    "    plt.legend()\n",
    "\n",
    "    plt.subplot(223)\n",
    "    plt.plot(xyz[:, 1], xyz[:, 4], label=\"z \")\n",
    "    plt.plot(xyz[firstRamp:lastRamp, 1], xyz[firstRamp:lastRamp, 4], 'orange', label=\"z selection\")\n",
    "    plt.grid()\n",
    "    plt.legend()\n",
    "\n",
    "    plt.subplot(224)\n",
    "    plt.plot(xyz[:, 2], xyz[:, 3], label=\"xy \")\n",
    "    plt.plot(xyz[firstRamp:lastRamp, 2], xyz[firstRamp:lastRamp, 3], 'orange', label=\"xy (selection)\")\n",
    "    ax = plt.gca()\n",
    "    ax.invert_xaxis()\n",
    "    ax.invert_yaxis()\n",
    "    ax.xaxis.tick_top()\n",
    "    ax.yaxis.tick_right()\n",
    "    plt.grid()\n",
    "    plt.legend()\n",
    "    \n",
    "    plt.savefig( data_dir + \"/\" + title + \".png\", bbox_inches='tight')"
   ]
  },
  {
   "cell_type": "markdown",
   "metadata": {},
   "source": [
    "# Define the geometry of the scene"
   ]
  },
  {
   "cell_type": "code",
   "execution_count": 20,
   "metadata": {},
   "outputs": [],
   "source": [
    "with open(data_dir + '/track_model.json') as json_file:  \n",
    "    data = json.load(json_file)\n",
    "    \n",
    "ux = data['ux']\n",
    "uy = data['uy']"
   ]
  },
  {
   "cell_type": "code",
   "execution_count": 21,
   "metadata": {},
   "outputs": [],
   "source": [
    "filename = root_dir + \"/J1_epsg.npy\"\n",
    "J1 = np.load( filename )\n",
    "filename = root_dir + \"/J2_epsg.npy\"\n",
    "J2 = np.load( filename )\n",
    "filename = root_dir + \"/J4_epsg.npy\"\n",
    "J4 = np.load( filename )\n",
    "filename = root_dir + \"/J5_epsg.npy\"\n",
    "J5 = np.load( filename )\n",
    "filename = root_dir + \"/J6_epsg.npy\"\n",
    "J6 = np.load( filename )\n",
    "filename = root_dir + \"/J11_epsg.npy\"\n",
    "J11 = np.load( filename )\n",
    "filename = root_dir + \"/J12_epsg.npy\"\n",
    "J12 = np.load( filename )\n",
    "Jref = [ 48 + 28 / 60 + 42.91 / 3600, -(1 + 28 / 60 + 33.18 / 3600) ]"
   ]
  },
  {
   "cell_type": "code",
   "execution_count": 22,
   "metadata": {},
   "outputs": [],
   "source": [
    "hScene = 20\n",
    "\n",
    "d_x = 10.\n",
    "d_y = 10.\n",
    "nbX = 500\n",
    "nbY = 200\n",
    "shiftY = 0\n",
    "sceneX = np.zeros((nbY, nbX))\n",
    "sceneY = np.zeros((nbY, nbX))\n",
    "baseLineX = J12[0] + ux[0] * np.arange(nbX) * d_x\n",
    "baseLineY = J12[1] + ux[1] * np.arange(nbX) * d_y\n",
    "\n",
    "sceneX[0,:] = baseLineX + uy[0] * shiftY * d_x\n",
    "sceneY[0,:] = baseLineY + uy[1] * shiftY * d_y\n",
    "\n",
    "for line in range(1, nbY):\n",
    "    sceneX[line, :] = baseLineX + uy[0] * (line + shiftY) * d_x\n",
    "    sceneY[line, :] = baseLineY + uy[1] * (line + shiftY) * d_y\n",
    "    \n",
    "sceneX_mean = np.mean(sceneX)\n",
    "sceneY_mean = np.mean(sceneY)"
   ]
  },
  {
   "cell_type": "code",
   "execution_count": 23,
   "metadata": {},
   "outputs": [],
   "source": [
    "if 1:\n",
    "    plt.figure()\n",
    "    plt.plot( baseLineX, baseLineY, 'or', label = \"baseline\" )\n",
    "    plt.plot( sceneX, sceneY, \".k\", label = \"scene\" )\n",
    "    plt.plot( xa, ya, 'b', label=\"antenna positions\" )\n",
    "    plt.plot( sceneX_mean, sceneY_mean, 'Dy', markerEdgecolor='k' )\n",
    "    plt.plot( xyz[firstRamp:lastRamp, 2], xyz[firstRamp:lastRamp, 3], 'limegreen', label=\"ramps\" )\n",
    "    plt.axes().set_aspect('equal')\n",
    "    plt.grid()"
   ]
  },
  {
   "cell_type": "code",
   "execution_count": 24,
   "metadata": {},
   "outputs": [],
   "source": [
    "groundRange = 1 # 0 => slant range, 1 => ground range"
   ]
  },
  {
   "cell_type": "markdown",
   "metadata": {},
   "source": [
    "## Digital Terrain Elevation Model"
   ]
  },
  {
   "cell_type": "code",
   "execution_count": 25,
   "metadata": {},
   "outputs": [],
   "source": [
    "from osgeo import gdal"
   ]
  },
  {
   "cell_type": "code",
   "execution_count": 26,
   "metadata": {},
   "outputs": [],
   "source": [
    "src_filename = root_dir + \"n48_w002_1arc_v3.dt2\""
   ]
  },
  {
   "cell_type": "code",
   "execution_count": 27,
   "metadata": {},
   "outputs": [],
   "source": [
    "dataset = gdal.Open(src_filename, gdal.GA_ReadOnly)"
   ]
  },
  {
   "cell_type": "code",
   "execution_count": 28,
   "metadata": {},
   "outputs": [
    {
     "name": "stdout",
     "output_type": "stream",
     "text": [
      "Driver: DTED/DTED Elevation Raster\n",
      "Size is 3601 x 3601 x 1\n",
      "Projection is GEOGCS[\"WGS 84\",DATUM[\"WGS_1984\",SPHEROID[\"WGS 84\",6378137,298.257223563]],PRIMEM[\"Greenwich\",0],UNIT[\"degree\",0.0174532925199433],AUTHORITY[\"EPSG\",\"4326\"]]\n",
      "Origin = (-2.000138888888889, 49.000138888888884)\n",
      "Pixel Size = (0.0002777777777777778, -0.0002777777777777778)\n"
     ]
    }
   ],
   "source": [
    "print(\"Driver: {}/{}\".format(dataset.GetDriver().ShortName,\n",
    "                             dataset.GetDriver().LongName))\n",
    "print(\"Size is {} x {} x {}\".format(dataset.RasterXSize,\n",
    "                                    dataset.RasterYSize,\n",
    "                                    dataset.RasterCount))\n",
    "print(\"Projection is {}\".format(dataset.GetProjection()))\n",
    "\n",
    "# Fetch the coefficients for transforming between \n",
    "# pixel/line (P,L) raster space => projection coordinates (Xp,Yp) space\n",
    "# Xp = GT[0] + P*GT[1] + L*GT[2]\n",
    "# Yp = GT[3] + P*GT[4] + L*GT[5]\n",
    "\n",
    "GT = dataset.GetGeoTransform()\n",
    "if GT:\n",
    "    print(\"Origin = ({}, {})\".format( GT[0], GT[3] ) )\n",
    "    print(\"Pixel Size = ({}, {})\".format( GT[1], GT[5] ) )"
   ]
  },
  {
   "cell_type": "code",
   "execution_count": 29,
   "metadata": {},
   "outputs": [
    {
     "name": "stdout",
     "output_type": "stream",
     "text": [
      "Band Type=Int16\n"
     ]
    }
   ],
   "source": [
    "band = dataset.GetRasterBand(1)\n",
    "print(\"Band Type={}\".format(gdal.GetDataTypeName(band.DataType)))"
   ]
  },
  {
   "cell_type": "code",
   "execution_count": 95,
   "metadata": {},
   "outputs": [],
   "source": [
    "#dted_elevations = band.ReadAsArray(0, 0, band.XSize, band.YSize )\n",
    "XSize = band.XSize\n",
    "YSize = band.YSize\n",
    "dted_elevations = band.ReadAsArray(0, 0, XSize, YSize )"
   ]
  },
  {
   "cell_type": "code",
   "execution_count": 96,
   "metadata": {},
   "outputs": [],
   "source": [
    "dted_long = GT[0] + np.arange(XSize) * GT[1]\n",
    "dted_lat = GT[3] + np.arange(YSize) * GT[5]\n",
    "meshgrid_long, meshgrid_lat = np.meshgrid(dted_long, dted_lat)"
   ]
  },
  {
   "cell_type": "code",
   "execution_count": 98,
   "metadata": {},
   "outputs": [],
   "source": [
    "rectBivariateSpline = interp.RectBivariateSpline( dted_lat[::-1], dted_long, dted_elevations[::-1,:] )"
   ]
  },
  {
   "cell_type": "code",
   "execution_count": 99,
   "metadata": {},
   "outputs": [],
   "source": [
    "vmin = 0\n",
    "vmax = 300\n",
    "left = GT[0]\n",
    "right = GT[0] + XSize * GT[1]\n",
    "bottom = GT[3] + YSize * GT[5]\n",
    "top = GT[3]\n",
    "\n",
    "plt.figure()\n",
    "plt.imshow(dted_elevations, extent=(left, right, bottom, top), vmin=vmin, vmax=vmax, cmap='terrain')\n",
    "plt.colorbar()\n",
    "plt.grid()\n",
    "ax = plt.gca()"
   ]
  },
  {
   "cell_type": "code",
   "execution_count": 100,
   "metadata": {},
   "outputs": [],
   "source": [
    "sys.path.insert(0, \"/home/pleroy/DEV/processing/PoSAR-MC\")\n",
    "from posarmctools.epsgtools import *"
   ]
  },
  {
   "cell_type": "code",
   "execution_count": 101,
   "metadata": {},
   "outputs": [],
   "source": [
    "origXY = (1360000, 7260000)\n",
    "shiftXY = 1\n",
    "scene_Long_Lat = epsgToWgs84( (sceneX, sceneY), epsg3948, shiftXY, origXY )"
   ]
  },
  {
   "cell_type": "code",
   "execution_count": 102,
   "metadata": {},
   "outputs": [],
   "source": [
    "sceneElevation = rectBivariateSpline.ev( scene_Long_Lat[1], scene_Long_Lat[0] )"
   ]
  },
  {
   "cell_type": "code",
   "execution_count": 104,
   "metadata": {},
   "outputs": [],
   "source": [
    "plt.figure()\n",
    "plt.pcolormesh(\n",
    "    sceneX.reshape(nbY, nbX), \n",
    "    sceneY.reshape(nbY, nbX), \n",
    "    sceneElevation.reshape(nbY, nbX), \n",
    "    cmap=\"terrain\",\n",
    "    vmin=vmin, vmax=vmax)\n",
    "plt.colorbar()\n",
    "plt.grid()\n",
    "ax = plt.gca()\n",
    "ax.set_aspect(\"equal\")"
   ]
  },
  {
   "cell_type": "markdown",
   "metadata": {},
   "source": [
    "### Plot elevations in XY"
   ]
  },
  {
   "cell_type": "code",
   "execution_count": 105,
   "metadata": {},
   "outputs": [],
   "source": [
    "dted_X, dted_Y = wgs84ToEpsg( (meshgrid_long, meshgrid_lat), epsg3948, shiftXY, origXY )"
   ]
  },
  {
   "cell_type": "code",
   "execution_count": 106,
   "metadata": {},
   "outputs": [],
   "source": [
    "plt.figure()\n",
    "plt.pcolormesh( dted_X, dted_Y, dted_elevations,\n",
    "               cmap='terrain', vmin=vmin, vmax=vmax)\n",
    "\n",
    "plt.plot( J12[0], J12[1], \"Dw\", markerEdgecolor=\"k\" )\n",
    "\n",
    "ax = plt.gca()\n",
    "ax.set_xlim([ -10000, 13000])\n",
    "ax.set_ylim([ 0, 17000])\n",
    "ax.set_aspect(\"equal\")\n",
    "plt.colorbar()\n",
    "plt.grid()"
   ]
  },
  {
   "cell_type": "code",
   "execution_count": 109,
   "metadata": {},
   "outputs": [],
   "source": [
    "plt.figure()\n",
    "\n",
    "plt.pcolormesh( meshgrid_long, meshgrid_lat, dted_elevations,\n",
    "               cmap='terrain', vmin=vmin, vmax=vmax)\n",
    "\n",
    "plt.pcolormesh(\n",
    "    scene_Long_Lat[0].reshape(nbY, nbX), \n",
    "    scene_Long_Lat[1].reshape(nbY, nbX), \n",
    "    sceneElevation.reshape(nbY, nbX),\n",
    "    cmap='jet',\n",
    "    vmin=vmin, vmax=vmax)\n",
    "\n",
    "plt.plot( Jref[1], Jref[0], \"Dw\", markerEdgecolor=\"k\" )\n",
    "\n",
    "plt.gca().set_aspect(\"equal\")\n",
    "plt.colorbar()\n",
    "plt.grid()"
   ]
  },
  {
   "cell_type": "code",
   "execution_count": 111,
   "metadata": {},
   "outputs": [],
   "source": [
    "plt.figure()\n",
    "\n",
    "plt.pcolormesh(dted_X, dted_Y, dted_elevations,\n",
    "               cmap='terrain', vmin=vmin, vmax=vmax)\n",
    "\n",
    "plt.pcolormesh(sceneX[::5,::5], sceneY[::5,::5], sceneElevation[::5,::5],\n",
    "               cmap='gray', vmin=vmin, vmax=vmax)\n",
    "\n",
    "plt.plot( J12[0], J12[1], \"Dw\", markerEdgecolor=\"k\" )\n",
    "\n",
    "plt.colorbar()\n",
    "plt.grid()\n",
    "\n",
    "ax = plt.gca()\n",
    "ax.set_xlim([ -10000, 13000])\n",
    "ax.set_ylim([ 0, 17000])\n",
    "ax.set_aspect(\"equal\")"
   ]
  },
  {
   "cell_type": "code",
   "execution_count": null,
   "metadata": {},
   "outputs": [],
   "source": [
    "sceneX.shape, sceneElevation.shape"
   ]
  },
  {
   "cell_type": "markdown",
   "metadata": {},
   "source": [
    "# Focalization"
   ]
  },
  {
   "cell_type": "code",
   "execution_count": null,
   "metadata": {},
   "outputs": [],
   "source": [
    "RD = np.fft.ifftshift(RD1, 1)"
   ]
  },
  {
   "cell_type": "markdown",
   "metadata": {},
   "source": [
    "## Compute the aperture angle to have a specified resolution in azimuth"
   ]
  },
  {
   "cell_type": "code",
   "execution_count": null,
   "metadata": {},
   "outputs": [],
   "source": [
    "# dx = lambda_c / (4 * sin( phi_a / 2 )) => phi_a = 2 * asin( lambda_c / (4 * dx))\n",
    "lambda_c = 3e8 / 5.8e9\n",
    "\n",
    "phi_a = 60 * np.pi / 180\n",
    "dx = lambda_c / (4 * np.sin( phi_a / 2 ))\n",
    "print( \"phi_a = {:.3f}, dx = {:.3f}\".format(phi_a * 180 / np.pi, dx) )\n",
    "\n",
    "phi = 20 * np.pi / 180\n",
    "dx = lambda_c / (4 * np.sin( phi / 2 ))\n",
    "print( \"phi_a = {:.3f}, dx = {:.3f}\".format(phi * 180 / np.pi, dx) )\n",
    "\n",
    "phi_b = 1 * np.pi / 180\n",
    "dx = lambda_c / (4 * np.sin( phi_b / 2 ))\n",
    "print( \"phi_b = {:.3f}, dx = {:.3f}\".format(phi_b * 180 / np.pi, dx) )\n",
    "\n",
    "dx2 = 1\n",
    "phi_a2 = 2 * np.arcsin( lambda_c / (4 * dx2) )\n",
    "print( \"phi_a2 = {:.3f}, dx2 = {:.3f}\".format(phi_a2 * 180 / np.pi, dx2) )\n",
    "\n",
    "dx4 = 0.5\n",
    "phi_a4 = 2 * np.arcsin( lambda_c / (4 * dx4) )\n",
    "print( \"phi_a2 = {:.3f}, dx2 = {:.3f}\".format(phi_a4 * 180 / np.pi, dx4) )\n",
    "\n",
    "dx3 = 0.25\n",
    "phi_a3 = 2 * np.arcsin( lambda_c / (4 * dx3) )\n",
    "print( \"phi_a3 = {:.3f}, dx3 = {:.3f}\".format(phi_a3 * 180 / np.pi, dx3) )\n"
   ]
  },
  {
   "cell_type": "code",
   "execution_count": null,
   "metadata": {},
   "outputs": [],
   "source": [
    "sr = RD\n",
    "Naz = sr.shape[0]\n",
    "Nf = sr.shape[1]\n",
    "overSamplingRatio = 10\n",
    "Nover = overSamplingRatio * Nf\n",
    "rangeResolution = c / (2 * B0)\n",
    "r_base = np.arange( Nf ) * rangeResolution\n",
    "r_over = np.arange( Nover ) * rangeResolution / overSamplingRatio\n",
    "dr_over = r_over[1] - r_over[0]\n",
    "\n",
    "print( \"Nf = {}, Naz = {}\".format( Nf, Naz ) )\n",
    "print( \"range from {:.2f}m to {:.2f}m, resolution = {}m, oversampled = {}m, \".format(\n",
    "    r_over[0], r_over[-1], rangeResolution, rangeResolution / overSamplingRatio ) )"
   ]
  },
  {
   "cell_type": "code",
   "execution_count": null,
   "metadata": {},
   "outputs": [],
   "source": [
    "lib.reload()"
   ]
  },
  {
   "cell_type": "code",
   "execution_count": null,
   "metadata": {},
   "outputs": [],
   "source": [
    "nbX, nbY"
   ]
  },
  {
   "cell_type": "code",
   "execution_count": null,
   "metadata": {},
   "outputs": [],
   "source": [
    "myParameters = MyParameters_LETG()\n",
    "myParameters.Nx = nbX\n",
    "myParameters.Ny = nbY\n",
    "myParameters.Nover = r_over.size\n",
    "myParameters.dx = dr_over\n",
    "myParameters.Naz = Naz\n",
    "myParameters.Nf = Nf\n",
    "myParameters.hScene = hScene\n",
    "\n",
    "# resolution in azimuth\n",
    "# 1.482° => 1m\n",
    "# 60° => 2.6cm\n",
    "# 20° => 7.4cm\n",
    "# 5.930° => 25cm\n",
    "myParameters.phi_a_deg = 20\n",
    "\n",
    "myParameters.uxx = ux[0]\n",
    "myParameters.uxy = ux[1]\n",
    "myParameters.meanX = sceneX_mean\n",
    "myParameters.meanY = sceneY_mean"
   ]
  },
  {
   "cell_type": "code",
   "execution_count": null,
   "metadata": {},
   "outputs": [],
   "source": [
    "t = time.time()\n",
    "\n",
    "imgGroundRange  = np.zeros( (nbX * nbY), dtype=complex )\n",
    "print( \"img.shape = {}\".format( imgGroundRange.shape ) )\n",
    "\n",
    "xyz_alt = xyz[firstRamp:, :]\n",
    "\n",
    "lib.so.backProjectionOmpGroundRange_LETG( sceneX.reshape(sceneX.size), \n",
    "                                         sceneY.reshape(sceneY.size),\n",
    "                                         sceneZ.reshape(sceneY.size),\n",
    "                                         r_over,\n",
    "                                         sr.reshape(sr.size),\n",
    "                                         xyz_alt.reshape(xyz_alt.size), \n",
    "                                         imgGroundRange.reshape(imgGroundRange.size),\n",
    "                                         myParameters)\n",
    "\n",
    "elapsed = time.time() - t\n",
    "print(\"execution time = \" + str(elapsed))\n",
    "\n",
    "imgGroundRange = imgGroundRange.reshape(nbY, nbX)"
   ]
  },
  {
   "cell_type": "code",
   "execution_count": null,
   "metadata": {},
   "outputs": [],
   "source": [
    "#img_25 = imgGroundRange.reshape(nbY, nbX)\n",
    "img_20_05 = imgGroundRange"
   ]
  },
  {
   "cell_type": "code",
   "execution_count": null,
   "metadata": {},
   "outputs": [],
   "source": [
    "min_dB = np.amin( 20 * np.log10(np.abs(imgGroundRange)) )\n",
    "max_dB = np.amax( 20 * np.log10(np.abs(imgGroundRange)) )\n",
    "med_dB = np.median( 20 * np.log10(np.abs(imgGroundRange)) )\n",
    "print(\"min_dB = {:.2f}, max_dB = {:.2f}, med_dB = {:.2f}\".format(min_dB, max_dB, med_dB))\n",
    "# gps min_dB = -57.20, max_dB = 44.13, med_dB = 4.99\n",
    "# nav min_dB = -57.88, max_dB = 44.48, med_dB = 2.38"
   ]
  },
  {
   "cell_type": "markdown",
   "metadata": {},
   "source": [
    "# Plot image"
   ]
  },
  {
   "cell_type": "code",
   "execution_count": null,
   "metadata": {},
   "outputs": [],
   "source": [
    "cmap = 'gray'"
   ]
  },
  {
   "cell_type": "code",
   "execution_count": null,
   "metadata": {},
   "outputs": [],
   "source": [
    "plt.figure()\n",
    "\n",
    "#plt.imshow( 20 * np.log10( box_filter( np.abs( imgGroundRange.reshape(nbX, nbY) ), 2 ) ), cmap=cmap )\n",
    "plt.imshow( 20 * np.log10( np.abs( imgGroundRange ) ), cmap=cmap )\n",
    "\n",
    "plt.colorbar()"
   ]
  },
  {
   "cell_type": "code",
   "execution_count": null,
   "metadata": {},
   "outputs": [],
   "source": [
    "plt.figure()\n",
    "\n",
    "plt.imshow( 20 * np.log10( box_filter( np.abs( imgGroundRange ), 2 ) ), cmap=cmap )\n",
    "\n",
    "plt.colorbar()"
   ]
  },
  {
   "cell_type": "code",
   "execution_count": null,
   "metadata": {},
   "outputs": [],
   "source": [
    "idx = np.where(imgGroundRange != 0)\n",
    "imgMin = np.amin( 20 * np.log10( np.abs( imgGroundRange[idx] ) ) )\n",
    "altImgGroundRange = imgGroundRange\n",
    "idx = np.where(img == 0)\n",
    "altImgGroundRange[idx] = imgMin\n",
    "z = 20 * np.log10( box_filter( np.abs( altImgGroundRange ), 2 ) )"
   ]
  },
  {
   "cell_type": "code",
   "execution_count": null,
   "metadata": {},
   "outputs": [],
   "source": [
    "plt.figure()\n",
    "x = sceneX.reshape(nbY, nbX)\n",
    "y = sceneY.reshape(nbY, nbX)\n",
    "plt.pcolormesh( x, y, z.reshape(nbY, nbX), cmap=cmap )\n",
    "plt.plot(J1[0], J1[1], 'Dy', markerEdgecolor='k' )\n",
    "plt.plot(J4[0], J4[1], 'Dy', markerEdgecolor='k' )\n",
    "plt.plot(J5[0], J5[1], 'Dc', markerEdgecolor='k' )\n",
    "plt.axes().set_aspect('equal')\n",
    "plt.plot( xa, ya )\n",
    "plt.plot(baseLineX, baseLineY, 'r')\n",
    "plt.grid()"
   ]
  },
  {
   "cell_type": "code",
   "execution_count": null,
   "metadata": {},
   "outputs": [],
   "source": [
    "vmin = -10\n",
    "vmax = 20\n",
    "\n",
    "plt.figure()\n",
    "x = sceneX.reshape(nbY, nbX)\n",
    "y = sceneY.reshape(nbY, nbX)\n",
    "plt.pcolormesh( x, y, z.reshape(nbY, nbX), cmap=cmap, vmin=vmin, vmax=vmax )\n",
    "plt.plot(J5[0], J5[1], 'Dy', markerEdgecolor='k' )\n",
    "plt.axes().set_aspect('equal')\n",
    "plt.plot( xa, ya )\n",
    "plt.grid()"
   ]
  },
  {
   "cell_type": "markdown",
   "metadata": {},
   "source": [
    "# Save focused image"
   ]
  },
  {
   "cell_type": "code",
   "execution_count": null,
   "metadata": {},
   "outputs": [],
   "source": [
    "xStart = sceneX[0]\n",
    "yStart = sceneY[0]\n",
    "xStop = sceneX[-1]\n",
    "yStop = sceneY[-1]\n",
    "\n",
    "if groundRange == 1: # [0] ground range, [1] slant range\n",
    "    if rampUp == 1:\n",
    "        focusedImageFilename = \"/\" + data_date \\\n",
    "        + \" {} {} GR {:.2f} {:.2f} {} AZ {} {} {} EL {} PHI {} rampUp alt xyz\".format( \n",
    "            firstFile, lastFile,\n",
    "            y[0], y[-1], d_y, \n",
    "            x[0], x[-1], d_x, \n",
    "            hScene,\n",
    "            myParameters.phi_a_deg)\n",
    "    else:\n",
    "        focusedImageFilename = \"/\" + data_date \\\n",
    "        + \" {} {} P0({:.2f},{:.2f}) P1({:.2f},{:.2f}) DX{:.2f} DY{:.2f} EL{} PHI{} rampDown\".format( \n",
    "            firstFile, lastFile,\n",
    "            xStart, yStart,\n",
    "            xStop, yStop, \n",
    "            d_x, d_y,\n",
    "            hScene,\n",
    "            myParameters.phi_a_deg)\n",
    "else:\n",
    "    if rampUp == 1:\n",
    "        focusedImageFilename = \"/\" + data_date \\\n",
    "        + \" {} {} SR {:.2f} {:.2f} {} AZ {} {} {} EL {} PHI {} rampUp\".format( \n",
    "            firstFile, lastFile,\n",
    "            y[0], y[-1], d_y, \n",
    "            x[0], x[-1], d_x, \n",
    "            hScene,\n",
    "            myParameters.phi_a_deg)\n",
    "    else:\n",
    "        focusedImageFilename = \"/\" + data_date \\\n",
    "        + \" {} {} SR {:.2f} {:.2f} {} AZ {} {} {} EL {} PHI {} rampDown\".format( \n",
    "            firstFile, lastFile,\n",
    "            y[0], y[-1], d_y, \n",
    "            x[0], x[-1], d_x, \n",
    "            hScene,\n",
    "            myParameters.phi_a_deg)\n",
    "    \n",
    "if withHanning:\n",
    "    focusedImageFilename = focusedImageFilename + \"Hann\"\n",
    "if nav:\n",
    "    focusedImageFilename = focusedImageFilename + \"Nav\"\n",
    "else:\n",
    "    focusedImageFilename = focusedImageFilename + \"Gps\"\n",
    "    \n",
    "print( focusedImageFilename )\n",
    "\n",
    "# /2018_06_27_12_39_39 0 49 GR 1743.32 1916.78 1.0 AZ 8050.16 6646.63 1.0 EL 50 PHI 20.0 rampDown Hann"
   ]
  },
  {
   "cell_type": "code",
   "execution_count": null,
   "metadata": {},
   "outputs": [],
   "source": [
    "np.save( data_dir + focusedImageFilename, imgGroundRange )"
   ]
  },
  {
   "cell_type": "markdown",
   "metadata": {},
   "source": [
    "# Compare images"
   ]
  },
  {
   "cell_type": "code",
   "execution_count": null,
   "metadata": {},
   "outputs": [],
   "source": [
    "name = \"2018_06_27_12_39_39 0 49 GR 1743.32 2224.30 1.0 AZ 8050.16 7040.87 1.0 EL 50 PHI 20.0 rampDown Hann nav.npy\"\n",
    "filename = data_dir + \"/\" + name\n",
    "img_nav = np.load( filename )"
   ]
  },
  {
   "cell_type": "code",
   "execution_count": null,
   "metadata": {},
   "outputs": [],
   "source": [
    "cmap=\"gray\"\n",
    "\n",
    "plt.figure()\n",
    "\n",
    "ax = plt.subplot(121)\n",
    "plt.imshow( 20 * np.log10( box_filter( np.abs( img_20 ), 2 ) ), cmap=cmap )\n",
    "plt.grid()\n",
    "plt.title(\"20\")\n",
    "plt.colorbar()\n",
    "\n",
    "plt.subplot(122, sharex=ax, sharey=ax)\n",
    "plt.imshow( 20 * np.log10( box_filter( np.abs( img_25 ), 2 ) ), cmap=cmap )\n",
    "plt.grid()\n",
    "plt.title(\"25\")\n",
    "plt.colorbar()"
   ]
  },
  {
   "cell_type": "code",
   "execution_count": null,
   "metadata": {},
   "outputs": [],
   "source": [
    "cmap=\"gray\"\n",
    "\n",
    "plt.figure()\n",
    "\n",
    "plt.pcolormesh( x, y, 20 * np.log10( box_filter( np.abs( img_20 ), 2 ) ), cmap=cmap )\n",
    "plt.plot(J1[0], J1[1], 'Dy', markerEdgecolor='k' )\n",
    "plt.plot(J4[0], J4[1], 'Dy', markerEdgecolor='k' )\n",
    "plt.plot(J5[0], J5[1], 'Dc', markerEdgecolor='k' )\n",
    "plt.axes().set_aspect('equal')\n",
    "plt.grid()\n",
    "plt.title(\"20\")"
   ]
  },
  {
   "cell_type": "code",
   "execution_count": null,
   "metadata": {},
   "outputs": [],
   "source": [
    "plt.figure()\n",
    "\n",
    "plt.pcolormesh( x, y, 20 * np.log10( box_filter( np.abs( img_25 ), 2 ) ), cmap=cmap )\n",
    "plt.plot(J1[0], J1[1], 'Dy', markerEdgecolor='k' )\n",
    "plt.plot(J4[0], J4[1], 'Dy', markerEdgecolor='k' )\n",
    "plt.plot(J5[0], J5[1], 'Dc', markerEdgecolor='k' )\n",
    "plt.axes().set_aspect('equal')\n",
    "plt.grid()\n",
    "plt.title(\"25\")"
   ]
  },
  {
   "cell_type": "code",
   "execution_count": null,
   "metadata": {},
   "outputs": [],
   "source": [
    "d_x = 1.\n",
    "d_y = 1.\n",
    "nbX = 501\n",
    "nbY = 501\n",
    "shiftY = 100\n",
    "baseLineX = J5[0] + ux[0] * np.arange(nbX)\n",
    "baseLineY = J5[1] + ux[1] * np.arange(nbX)\n",
    "sceneX_1 = baseLineX + uy[0] * shiftY\n",
    "sceneY_1 = baseLineY + uy[1] * shiftY\n",
    "\n",
    "for n in range(1, nbY):\n",
    "    newX = baseLineX + uy[0] * (n + shiftY)\n",
    "    newY = baseLineY + uy[1] * (n + shiftY)\n",
    "    sceneX_1 = np.concatenate((sceneX_1, newX))\n",
    "    sceneY_1 = np.concatenate((sceneY_1, newY))"
   ]
  },
  {
   "cell_type": "code",
   "execution_count": null,
   "metadata": {},
   "outputs": [],
   "source": [
    "plt.figure()\n",
    "\n",
    "ax = plt.subplot(121)\n",
    "x = sceneX_1.reshape(nbY, nbX)\n",
    "y = sceneY_1.reshape(nbY, nbX)\n",
    "plt.pcolormesh( x, y, 20 * np.log10( box_filter( np.abs( img_20 ), 2 ) ), cmap=cmap )\n",
    "plt.plot(J1[0], J1[1], 'Dy', markerEdgecolor='k' )\n",
    "plt.plot(J4[0], J4[1], 'Dy', markerEdgecolor='k' )\n",
    "plt.plot(J5[0], J5[1], 'Dc', markerEdgecolor='k' )\n",
    "plt.gca().set_aspect('equal')\n",
    "plt.grid()\n",
    "plt.title(\"20\")\n",
    "\n",
    "plt.subplot(122, sharex=ax, sharey=ax)\n",
    "x = sceneX.reshape(401, 401)\n",
    "y = sceneY.reshape(401, 401)\n",
    "plt.pcolormesh( x, y, 20 * np.log10( box_filter( np.abs( img_20_05 ), 2 ) ), cmap=cmap )\n",
    "plt.plot(J1[0], J1[1], 'Dy', markerEdgecolor='k' )\n",
    "plt.plot(J4[0], J4[1], 'Dy', markerEdgecolor='k' )\n",
    "plt.plot(J5[0], J5[1], 'Dc', markerEdgecolor='k' )\n",
    "plt.grid()\n",
    "plt.title(\"25\")"
   ]
  },
  {
   "cell_type": "markdown",
   "metadata": {},
   "source": [
    "# Save image as png"
   ]
  },
  {
   "cell_type": "code",
   "execution_count": null,
   "metadata": {},
   "outputs": [],
   "source": [
    "plt.imsave( data_dir + focusedImageFilename + \".png\",\n",
    "           20 * np.log10( box_filter( np.abs( np.flip( imgGroundRange.T, 1 ) ), 5 ) ), \n",
    "           cmap=\"gray\" )"
   ]
  },
  {
   "cell_type": "code",
   "execution_count": null,
   "metadata": {},
   "outputs": [],
   "source": []
  }
 ],
 "metadata": {
  "kernelspec": {
   "display_name": "Python 3",
   "language": "python",
   "name": "python3"
  },
  "language_info": {
   "codemirror_mode": {
    "name": "ipython",
    "version": 3
   },
   "file_extension": ".py",
   "mimetype": "text/x-python",
   "name": "python",
   "nbconvert_exporter": "python",
   "pygments_lexer": "ipython3",
   "version": "3.6.5"
  },
  "toc": {
   "base_numbering": 1,
   "nav_menu": {},
   "number_sections": true,
   "sideBar": true,
   "skip_h1_title": false,
   "title_cell": "Table of Contents",
   "title_sidebar": "Contents",
   "toc_cell": false,
   "toc_position": {
    "height": "calc(100% - 180px)",
    "left": "10px",
    "top": "150px",
    "width": "332px"
   },
   "toc_section_display": true,
   "toc_window_display": true
  }
 },
 "nbformat": 4,
 "nbformat_minor": 2
}
