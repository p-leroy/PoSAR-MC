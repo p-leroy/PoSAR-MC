{
 "cells": [
  {
   "cell_type": "markdown",
   "metadata": {},
   "source": [
    "# Initialization"
   ]
  },
  {
   "cell_type": "code",
   "execution_count": 1,
   "metadata": {},
   "outputs": [],
   "source": [
    "import numpy as np\n",
    "import matplotlib.pyplot as plt\n",
    "%matplotlib qt5"
   ]
  },
  {
   "cell_type": "code",
   "execution_count": 2,
   "metadata": {},
   "outputs": [],
   "source": [
    "import sys\n",
    "import gc"
   ]
  },
  {
   "cell_type": "code",
   "execution_count": 3,
   "metadata": {},
   "outputs": [],
   "source": [
    "sys.path.insert(0, \"/home/pleroy/DEV/processing/PoSAR-MC\")\n",
    "from posarmctools.readdata import *"
   ]
  },
  {
   "cell_type": "code",
   "execution_count": 4,
   "metadata": {},
   "outputs": [],
   "source": [
    "%load_ext autoreload\n",
    "%autoreload 2"
   ]
  },
  {
   "cell_type": "code",
   "execution_count": 5,
   "metadata": {},
   "outputs": [],
   "source": [
    "sys.path.insert(0, \"/home/pleroy/DEV/processing/focalization_python\")\n",
    "from posarutils.other.read_data_and_build_rd import *\n",
    "from posarutils.other.PosarMCParameters import *"
   ]
  },
  {
   "cell_type": "markdown",
   "metadata": {},
   "source": [
    "# Parameters"
   ]
  },
  {
   "cell_type": "code",
   "execution_count": 6,
   "metadata": {},
   "outputs": [],
   "source": [
    "data_date = \"2018_06_27_12_59_03\"\n",
    "data_dir = \"/home/pleroy/DATA/2018_06_27_LETG/2018_06_27/jde/\" + data_date"
   ]
  },
  {
   "cell_type": "code",
   "execution_count": 7,
   "metadata": {},
   "outputs": [
    {
     "name": "stdout",
     "output_type": "stream",
     "text": [
      "requestedTRamp 1200.0\n",
      "configuredTRamp 1200.0\n",
      "startFrequency 5725000000.0\n",
      "stopFrequency 5875000000.0\n",
      "frequencyBand 150000000.0\n",
      "frequencyDevReq 50000.0\n",
      "frequencyDevConf 50001.1\n",
      "numberOfSteps 3000\n",
      "waveformType 1\n",
      "rampsPerBuffer 375\n",
      "bufferSize 9000000.0\n",
      "buffersPerFile 2\n",
      "rampsPerFile 750\n",
      "fileSize 18000000.0\n",
      "samplingFrequency 10000000.0\n",
      "samplesPerRamp 12000\n",
      "skipNSamples 0\n"
     ]
    }
   ],
   "source": [
    "params_filename = data_dir + \"/\" + data_date + \"_parameters.xml\"\n",
    "params = PosarMCParameters_v2( params_filename )\n",
    "params.print()"
   ]
  },
  {
   "cell_type": "code",
   "execution_count": 8,
   "metadata": {},
   "outputs": [
    {
     "name": "stdout",
     "output_type": "stream",
     "text": [
      "buffersPerFile = 2, samplesPerRamp = 12000, rampsPerFile = 750\n"
     ]
    }
   ],
   "source": [
    "buffersPerFile = params.buffersPerFile\n",
    "samplesPerRamp = params.samplesPerRamp\n",
    "rampsPerFile = params.rampsPerFile\n",
    "samplesPerFile = samplesPerRamp * rampsPerFile\n",
    "\n",
    "print( \"buffersPerFile = {}, samplesPerRamp = {}, rampsPerFile = {}\".format(\n",
    "    buffersPerFile, samplesPerRamp, rampsPerFile )\n",
    "     )\n",
    "\n",
    "# selection in record\n",
    "firstFile = 0\n",
    "nbFiles = 369\n",
    "lastFile = firstFile + nbFiles - 1\n",
    "firstBuffer = firstFile * buffersPerFile"
   ]
  },
  {
   "cell_type": "markdown",
   "metadata": {},
   "source": [
    "# Read the data"
   ]
  },
  {
   "cell_type": "code",
   "execution_count": 9,
   "metadata": {},
   "outputs": [],
   "source": [
    "scalingFactor = 2 / 65535\n",
    "offset = -32768"
   ]
  },
  {
   "cell_type": "code",
   "execution_count": 10,
   "metadata": {},
   "outputs": [],
   "source": [
    "timeSerie_A = np.zeros( samplesPerFile )\n",
    "adc_A = np.zeros( (nbFiles, samplesPerFile) )"
   ]
  },
  {
   "cell_type": "code",
   "execution_count": 11,
   "metadata": {},
   "outputs": [
    {
     "name": "stdout",
     "output_type": "stream",
     "text": [
      "k = 0, block = 0 / 736\n",
      "k = 1, block = 2 / 736\n",
      "k = 2, block = 4 / 736\n",
      "k = 3, block = 6 / 736\n",
      "k = 4, block = 8 / 736\n",
      "k = 5, block = 10 / 736\n",
      "k = 6, block = 12 / 736\n",
      "k = 7, block = 14 / 736\n",
      "k = 8, block = 16 / 736\n",
      "k = 9, block = 18 / 736\n",
      "k = 10, block = 20 / 736\n",
      "k = 11, block = 22 / 736\n",
      "k = 12, block = 24 / 736\n",
      "k = 13, block = 26 / 736\n",
      "k = 14, block = 28 / 736\n",
      "k = 15, block = 30 / 736\n",
      "k = 16, block = 32 / 736\n",
      "k = 17, block = 34 / 736\n",
      "k = 18, block = 36 / 736\n",
      "k = 19, block = 38 / 736\n",
      "k = 20, block = 40 / 736\n",
      "k = 21, block = 42 / 736\n",
      "k = 22, block = 44 / 736\n",
      "k = 23, block = 46 / 736\n",
      "k = 24, block = 48 / 736\n",
      "k = 25, block = 50 / 736\n",
      "k = 26, block = 52 / 736\n",
      "k = 27, block = 54 / 736\n",
      "k = 28, block = 56 / 736\n",
      "k = 29, block = 58 / 736\n",
      "k = 30, block = 60 / 736\n",
      "k = 31, block = 62 / 736\n",
      "k = 32, block = 64 / 736\n",
      "k = 33, block = 66 / 736\n",
      "k = 34, block = 68 / 736\n",
      "k = 35, block = 70 / 736\n",
      "k = 36, block = 72 / 736\n",
      "k = 37, block = 74 / 736\n",
      "k = 38, block = 76 / 736\n",
      "k = 39, block = 78 / 736\n",
      "k = 40, block = 80 / 736\n",
      "k = 41, block = 82 / 736\n",
      "k = 42, block = 84 / 736\n",
      "k = 43, block = 86 / 736\n",
      "k = 44, block = 88 / 736\n",
      "k = 45, block = 90 / 736\n",
      "k = 46, block = 92 / 736\n",
      "k = 47, block = 94 / 736\n",
      "k = 48, block = 96 / 736\n",
      "k = 49, block = 98 / 736\n",
      "k = 50, block = 100 / 736\n",
      "k = 51, block = 102 / 736\n",
      "k = 52, block = 104 / 736\n",
      "k = 53, block = 106 / 736\n",
      "k = 54, block = 108 / 736\n",
      "k = 55, block = 110 / 736\n",
      "k = 56, block = 112 / 736\n",
      "k = 57, block = 114 / 736\n",
      "k = 58, block = 116 / 736\n",
      "k = 59, block = 118 / 736\n",
      "k = 60, block = 120 / 736\n",
      "k = 61, block = 122 / 736\n",
      "k = 62, block = 124 / 736\n",
      "k = 63, block = 126 / 736\n",
      "k = 64, block = 128 / 736\n",
      "k = 65, block = 130 / 736\n",
      "k = 66, block = 132 / 736\n",
      "k = 67, block = 134 / 736\n",
      "k = 68, block = 136 / 736\n",
      "k = 69, block = 138 / 736\n",
      "k = 70, block = 140 / 736\n",
      "k = 71, block = 142 / 736\n",
      "k = 72, block = 144 / 736\n",
      "k = 73, block = 146 / 736\n",
      "k = 74, block = 148 / 736\n",
      "k = 75, block = 150 / 736\n",
      "k = 76, block = 152 / 736\n",
      "k = 77, block = 154 / 736\n",
      "k = 78, block = 156 / 736\n",
      "k = 79, block = 158 / 736\n",
      "k = 80, block = 160 / 736\n",
      "k = 81, block = 162 / 736\n",
      "k = 82, block = 164 / 736\n",
      "k = 83, block = 166 / 736\n",
      "k = 84, block = 168 / 736\n",
      "k = 85, block = 170 / 736\n",
      "k = 86, block = 172 / 736\n",
      "k = 87, block = 174 / 736\n",
      "k = 88, block = 176 / 736\n",
      "k = 89, block = 178 / 736\n",
      "k = 90, block = 180 / 736\n",
      "k = 91, block = 182 / 736\n",
      "k = 92, block = 184 / 736\n",
      "k = 93, block = 186 / 736\n",
      "k = 94, block = 188 / 736\n",
      "k = 95, block = 190 / 736\n",
      "k = 96, block = 192 / 736\n",
      "k = 97, block = 194 / 736\n",
      "k = 98, block = 196 / 736\n",
      "k = 99, block = 198 / 736\n",
      "k = 100, block = 200 / 736\n",
      "k = 101, block = 202 / 736\n",
      "k = 102, block = 204 / 736\n",
      "k = 103, block = 206 / 736\n",
      "k = 104, block = 208 / 736\n",
      "k = 105, block = 210 / 736\n",
      "k = 106, block = 212 / 736\n",
      "k = 107, block = 214 / 736\n",
      "k = 108, block = 216 / 736\n",
      "k = 109, block = 218 / 736\n",
      "k = 110, block = 220 / 736\n",
      "k = 111, block = 222 / 736\n",
      "k = 112, block = 224 / 736\n",
      "k = 113, block = 226 / 736\n",
      "k = 114, block = 228 / 736\n",
      "k = 115, block = 230 / 736\n",
      "k = 116, block = 232 / 736\n",
      "k = 117, block = 234 / 736\n",
      "k = 118, block = 236 / 736\n",
      "k = 119, block = 238 / 736\n",
      "k = 120, block = 240 / 736\n",
      "k = 121, block = 242 / 736\n",
      "k = 122, block = 244 / 736\n",
      "k = 123, block = 246 / 736\n",
      "k = 124, block = 248 / 736\n",
      "k = 125, block = 250 / 736\n",
      "k = 126, block = 252 / 736\n",
      "k = 127, block = 254 / 736\n",
      "k = 128, block = 256 / 736\n",
      "k = 129, block = 258 / 736\n",
      "k = 130, block = 260 / 736\n",
      "k = 131, block = 262 / 736\n",
      "k = 132, block = 264 / 736\n",
      "k = 133, block = 266 / 736\n",
      "k = 134, block = 268 / 736\n",
      "k = 135, block = 270 / 736\n",
      "k = 136, block = 272 / 736\n",
      "k = 137, block = 274 / 736\n",
      "k = 138, block = 276 / 736\n",
      "k = 139, block = 278 / 736\n",
      "k = 140, block = 280 / 736\n",
      "k = 141, block = 282 / 736\n",
      "k = 142, block = 284 / 736\n",
      "k = 143, block = 286 / 736\n",
      "k = 144, block = 288 / 736\n",
      "k = 145, block = 290 / 736\n",
      "k = 146, block = 292 / 736\n",
      "k = 147, block = 294 / 736\n",
      "k = 148, block = 296 / 736\n",
      "k = 149, block = 298 / 736\n",
      "k = 150, block = 300 / 736\n",
      "k = 151, block = 302 / 736\n",
      "k = 152, block = 304 / 736\n",
      "k = 153, block = 306 / 736\n",
      "k = 154, block = 308 / 736\n",
      "k = 155, block = 310 / 736\n",
      "k = 156, block = 312 / 736\n",
      "k = 157, block = 314 / 736\n",
      "k = 158, block = 316 / 736\n",
      "k = 159, block = 318 / 736\n",
      "k = 160, block = 320 / 736\n",
      "k = 161, block = 322 / 736\n",
      "k = 162, block = 324 / 736\n",
      "k = 163, block = 326 / 736\n",
      "k = 164, block = 328 / 736\n",
      "k = 165, block = 330 / 736\n",
      "k = 166, block = 332 / 736\n",
      "k = 167, block = 334 / 736\n",
      "k = 168, block = 336 / 736\n",
      "k = 169, block = 338 / 736\n",
      "k = 170, block = 340 / 736\n",
      "k = 171, block = 342 / 736\n",
      "k = 172, block = 344 / 736\n",
      "k = 173, block = 346 / 736\n",
      "k = 174, block = 348 / 736\n",
      "k = 175, block = 350 / 736\n",
      "k = 176, block = 352 / 736\n",
      "k = 177, block = 354 / 736\n",
      "k = 178, block = 356 / 736\n",
      "k = 179, block = 358 / 736\n",
      "k = 180, block = 360 / 736\n",
      "k = 181, block = 362 / 736\n",
      "k = 182, block = 364 / 736\n",
      "k = 183, block = 366 / 736\n",
      "k = 184, block = 368 / 736\n",
      "k = 185, block = 370 / 736\n",
      "k = 186, block = 372 / 736\n",
      "k = 187, block = 374 / 736\n",
      "k = 188, block = 376 / 736\n",
      "k = 189, block = 378 / 736\n",
      "k = 190, block = 380 / 736\n",
      "k = 191, block = 382 / 736\n",
      "k = 192, block = 384 / 736\n",
      "k = 193, block = 386 / 736\n",
      "k = 194, block = 388 / 736\n",
      "k = 195, block = 390 / 736\n",
      "k = 196, block = 392 / 736\n",
      "k = 197, block = 394 / 736\n",
      "k = 198, block = 396 / 736\n",
      "k = 199, block = 398 / 736\n",
      "k = 200, block = 400 / 736\n",
      "k = 201, block = 402 / 736\n",
      "k = 202, block = 404 / 736\n",
      "k = 203, block = 406 / 736\n",
      "k = 204, block = 408 / 736\n",
      "k = 205, block = 410 / 736\n",
      "k = 206, block = 412 / 736\n",
      "k = 207, block = 414 / 736\n",
      "k = 208, block = 416 / 736\n",
      "k = 209, block = 418 / 736\n",
      "k = 210, block = 420 / 736\n",
      "k = 211, block = 422 / 736\n",
      "k = 212, block = 424 / 736\n",
      "k = 213, block = 426 / 736\n",
      "k = 214, block = 428 / 736\n",
      "k = 215, block = 430 / 736\n",
      "k = 216, block = 432 / 736\n",
      "k = 217, block = 434 / 736\n",
      "k = 218, block = 436 / 736\n",
      "k = 219, block = 438 / 736\n",
      "k = 220, block = 440 / 736\n",
      "k = 221, block = 442 / 736\n",
      "k = 222, block = 444 / 736\n",
      "k = 223, block = 446 / 736\n",
      "k = 224, block = 448 / 736\n",
      "k = 225, block = 450 / 736\n",
      "k = 226, block = 452 / 736\n",
      "k = 227, block = 454 / 736\n",
      "k = 228, block = 456 / 736\n",
      "k = 229, block = 458 / 736\n",
      "k = 230, block = 460 / 736\n",
      "k = 231, block = 462 / 736\n",
      "k = 232, block = 464 / 736\n",
      "k = 233, block = 466 / 736\n",
      "k = 234, block = 468 / 736\n",
      "k = 235, block = 470 / 736\n",
      "k = 236, block = 472 / 736\n",
      "k = 237, block = 474 / 736\n",
      "k = 238, block = 476 / 736\n",
      "k = 239, block = 478 / 736\n",
      "k = 240, block = 480 / 736\n",
      "k = 241, block = 482 / 736\n",
      "k = 242, block = 484 / 736\n",
      "k = 243, block = 486 / 736\n",
      "k = 244, block = 488 / 736\n",
      "k = 245, block = 490 / 736\n",
      "k = 246, block = 492 / 736\n",
      "k = 247, block = 494 / 736\n",
      "k = 248, block = 496 / 736\n",
      "k = 249, block = 498 / 736\n",
      "k = 250, block = 500 / 736\n",
      "k = 251, block = 502 / 736\n",
      "k = 252, block = 504 / 736\n",
      "k = 253, block = 506 / 736\n",
      "k = 254, block = 508 / 736\n",
      "k = 255, block = 510 / 736\n",
      "k = 256, block = 512 / 736\n",
      "k = 257, block = 514 / 736\n",
      "k = 258, block = 516 / 736\n",
      "k = 259, block = 518 / 736\n",
      "k = 260, block = 520 / 736\n",
      "k = 261, block = 522 / 736\n",
      "k = 262, block = 524 / 736\n",
      "k = 263, block = 526 / 736\n",
      "k = 264, block = 528 / 736\n",
      "k = 265, block = 530 / 736\n",
      "k = 266, block = 532 / 736\n",
      "k = 267, block = 534 / 736\n",
      "k = 268, block = 536 / 736\n",
      "k = 269, block = 538 / 736\n",
      "k = 270, block = 540 / 736\n",
      "k = 271, block = 542 / 736\n",
      "k = 272, block = 544 / 736\n",
      "k = 273, block = 546 / 736\n",
      "k = 274, block = 548 / 736\n",
      "k = 275, block = 550 / 736\n",
      "k = 276, block = 552 / 736\n",
      "k = 277, block = 554 / 736\n",
      "k = 278, block = 556 / 736\n",
      "k = 279, block = 558 / 736\n",
      "k = 280, block = 560 / 736\n",
      "k = 281, block = 562 / 736\n",
      "k = 282, block = 564 / 736\n",
      "k = 283, block = 566 / 736\n",
      "k = 284, block = 568 / 736\n",
      "k = 285, block = 570 / 736\n",
      "k = 286, block = 572 / 736\n",
      "k = 287, block = 574 / 736\n",
      "k = 288, block = 576 / 736\n",
      "k = 289, block = 578 / 736\n",
      "k = 290, block = 580 / 736\n",
      "k = 291, block = 582 / 736\n",
      "k = 292, block = 584 / 736\n",
      "k = 293, block = 586 / 736\n",
      "k = 294, block = 588 / 736\n",
      "k = 295, block = 590 / 736\n",
      "k = 296, block = 592 / 736\n",
      "k = 297, block = 594 / 736\n",
      "k = 298, block = 596 / 736\n",
      "k = 299, block = 598 / 736\n",
      "k = 300, block = 600 / 736\n",
      "k = 301, block = 602 / 736\n",
      "k = 302, block = 604 / 736\n",
      "k = 303, block = 606 / 736\n",
      "k = 304, block = 608 / 736\n",
      "k = 305, block = 610 / 736\n",
      "k = 306, block = 612 / 736\n",
      "k = 307, block = 614 / 736\n",
      "k = 308, block = 616 / 736\n",
      "k = 309, block = 618 / 736\n"
     ]
    },
    {
     "name": "stdout",
     "output_type": "stream",
     "text": [
      "k = 310, block = 620 / 736\n",
      "k = 311, block = 622 / 736\n",
      "k = 312, block = 624 / 736\n",
      "k = 313, block = 626 / 736\n",
      "k = 314, block = 628 / 736\n",
      "k = 315, block = 630 / 736\n",
      "k = 316, block = 632 / 736\n",
      "k = 317, block = 634 / 736\n",
      "k = 318, block = 636 / 736\n",
      "k = 319, block = 638 / 736\n",
      "k = 320, block = 640 / 736\n",
      "k = 321, block = 642 / 736\n",
      "k = 322, block = 644 / 736\n",
      "k = 323, block = 646 / 736\n",
      "k = 324, block = 648 / 736\n",
      "k = 325, block = 650 / 736\n",
      "k = 326, block = 652 / 736\n",
      "k = 327, block = 654 / 736\n",
      "k = 328, block = 656 / 736\n",
      "k = 329, block = 658 / 736\n",
      "k = 330, block = 660 / 736\n",
      "k = 331, block = 662 / 736\n",
      "k = 332, block = 664 / 736\n",
      "k = 333, block = 666 / 736\n",
      "k = 334, block = 668 / 736\n",
      "k = 335, block = 670 / 736\n",
      "k = 336, block = 672 / 736\n",
      "k = 337, block = 674 / 736\n",
      "k = 338, block = 676 / 736\n",
      "k = 339, block = 678 / 736\n",
      "k = 340, block = 680 / 736\n",
      "k = 341, block = 682 / 736\n",
      "k = 342, block = 684 / 736\n",
      "k = 343, block = 686 / 736\n",
      "k = 344, block = 688 / 736\n",
      "k = 345, block = 690 / 736\n",
      "k = 346, block = 692 / 736\n",
      "k = 347, block = 694 / 736\n",
      "k = 348, block = 696 / 736\n",
      "k = 349, block = 698 / 736\n",
      "k = 350, block = 700 / 736\n",
      "k = 351, block = 702 / 736\n",
      "k = 352, block = 704 / 736\n",
      "k = 353, block = 706 / 736\n",
      "k = 354, block = 708 / 736\n",
      "k = 355, block = 710 / 736\n",
      "k = 356, block = 712 / 736\n",
      "k = 357, block = 714 / 736\n",
      "k = 358, block = 716 / 736\n",
      "k = 359, block = 718 / 736\n",
      "k = 360, block = 720 / 736\n",
      "k = 361, block = 722 / 736\n",
      "k = 362, block = 724 / 736\n",
      "k = 363, block = 726 / 736\n",
      "k = 364, block = 728 / 736\n",
      "k = 365, block = 730 / 736\n",
      "k = 366, block = 732 / 736\n",
      "k = 367, block = 734 / 736\n",
      "k = 368, block = 736 / 736\n"
     ]
    }
   ],
   "source": [
    "lastBuffer = (nbFiles-1) * buffersPerFile + firstBuffer\n",
    "for k in range( nbFiles ):\n",
    "    \n",
    "    # read the data\n",
    "    nb = str( int( k * buffersPerFile + firstBuffer) )\n",
    "    filename = data_dir + \"/record\" + nb + \".bin\"\n",
    "    readFileADLINKCh0( filename, samplesPerFile, timeSerie_A )\n",
    "    \n",
    "    print(\"k = {}, block = {} / {}\".format(k, nb, lastBuffer))\n",
    "    \n",
    "    adc_A[ k, : ] = (timeSerie_A + offset) * scalingFactor"
   ]
  },
  {
   "cell_type": "code",
   "execution_count": 12,
   "metadata": {},
   "outputs": [],
   "source": [
    "A_reshaped = adc_A.reshape(nbFiles * rampsPerFile, samplesPerRamp)"
   ]
  },
  {
   "cell_type": "markdown",
   "metadata": {},
   "source": [
    "**Check that the first ramp is an up ramp**"
   ]
  },
  {
   "cell_type": "code",
   "execution_count": 13,
   "metadata": {},
   "outputs": [],
   "source": [
    "plt.figure()\n",
    "plt.plot( A_reshaped[0, :] )\n",
    "title = \"first acquisition \" + data_date\n",
    "plt.title(title)\n",
    "plt.grid()\n",
    "plt.savefig( data_dir + \"/\" + title + \".png\", bbox_inches='tight')"
   ]
  },
  {
   "cell_type": "markdown",
   "metadata": {},
   "source": [
    "**Set the shifted flag properly**"
   ]
  },
  {
   "cell_type": "code",
   "execution_count": 14,
   "metadata": {},
   "outputs": [],
   "source": [
    "rampDownFirst = 1"
   ]
  },
  {
   "cell_type": "markdown",
   "metadata": {},
   "source": [
    "# Build RD"
   ]
  },
  {
   "cell_type": "code",
   "execution_count": 15,
   "metadata": {},
   "outputs": [
    {
     "name": "stdout",
     "output_type": "stream",
     "text": [
      "shape of the samples matrix = (276750, 12000)\n",
      "with Hanning window\n",
      "ramp down first in the data files\n"
     ]
    }
   ],
   "source": [
    "#RDc = build_rd_from_data( params, A_reshaped, shifted )\n",
    "withHanning = 1\n",
    "RDc = build_rd_from_data_rampDown( params, A_reshaped, rampDownFirst, withHanning )"
   ]
  },
  {
   "cell_type": "code",
   "execution_count": 16,
   "metadata": {},
   "outputs": [
    {
     "data": {
      "text/plain": [
       "2447"
      ]
     },
     "execution_count": 16,
     "metadata": {},
     "output_type": "execute_result"
    }
   ],
   "source": [
    "A_reshaped = None\n",
    "adc_A = None\n",
    "gc.collect()"
   ]
  },
  {
   "cell_type": "code",
   "execution_count": 17,
   "metadata": {},
   "outputs": [],
   "source": [
    "coupling_RD = np.average(RDc, 0)\n",
    "if withHanning:\n",
    "    np.save( data_dir + \"/coupling_RD_files_{}_{}_rampDown_hanning\".format(firstFile, lastFile), coupling_RD )\n",
    "else:\n",
    "    np.save( data_dir + \"/coupling_RD_files_{}_{}_rampDown\".format(firstFile, lastFile), coupling_RD )"
   ]
  },
  {
   "cell_type": "code",
   "execution_count": 18,
   "metadata": {},
   "outputs": [],
   "source": [
    "plt.figure()\n",
    "plt.plot(np.abs(coupling_RD), 'k', label='coupling')\n",
    "plt.legend()\n",
    "plt.grid()"
   ]
  },
  {
   "cell_type": "code",
   "execution_count": null,
   "metadata": {},
   "outputs": [],
   "source": [
    "# save RD data\n",
    "RD = np.fft.ifftshift(RDc, 1)"
   ]
  },
  {
   "cell_type": "code",
   "execution_count": null,
   "metadata": {},
   "outputs": [],
   "source": [
    "np.save(data_dir + '/np_fft_ifftshift(RD1, 1)_{}_{}'.format(firstFile, lastFile), RD) "
   ]
  },
  {
   "cell_type": "code",
   "execution_count": null,
   "metadata": {},
   "outputs": [],
   "source": [
    "if withHanning:\n",
    "    np.save(data_dir + '/RD_files_{}_{}_rampDown_hanning'.format(firstFile, lastFile), RDc) \n",
    "else:\n",
    "    np.save(data_dir + '/RD_files_{}_{}_rampDown'.format(firstFile, lastFile), RDc)"
   ]
  }
 ],
 "metadata": {
  "kernelspec": {
   "display_name": "Python 3",
   "language": "python",
   "name": "python3"
  },
  "language_info": {
   "codemirror_mode": {
    "name": "ipython",
    "version": 3
   },
   "file_extension": ".py",
   "mimetype": "text/x-python",
   "name": "python",
   "nbconvert_exporter": "python",
   "pygments_lexer": "ipython3",
   "version": "3.6.6"
  },
  "toc": {
   "base_numbering": 1,
   "nav_menu": {},
   "number_sections": true,
   "sideBar": true,
   "skip_h1_title": false,
   "title_cell": "Table of Contents",
   "title_sidebar": "Contents",
   "toc_cell": false,
   "toc_position": {},
   "toc_section_display": true,
   "toc_window_display": true
  }
 },
 "nbformat": 4,
 "nbformat_minor": 2
}
