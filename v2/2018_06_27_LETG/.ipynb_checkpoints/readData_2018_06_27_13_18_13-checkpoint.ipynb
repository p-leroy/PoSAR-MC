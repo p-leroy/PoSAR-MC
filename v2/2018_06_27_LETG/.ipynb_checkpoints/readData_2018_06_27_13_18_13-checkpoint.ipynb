{
 "cells": [
  {
   "cell_type": "code",
   "execution_count": 1,
   "metadata": {},
   "outputs": [],
   "source": [
    "import numpy as np\n",
    "import matplotlib.pyplot as plt\n",
    "%matplotlib qt5"
   ]
  },
  {
   "cell_type": "code",
   "execution_count": 2,
   "metadata": {},
   "outputs": [],
   "source": [
    "import sys"
   ]
  },
  {
   "cell_type": "code",
   "execution_count": 3,
   "metadata": {},
   "outputs": [],
   "source": [
    "sys.path.insert(0, \"/home/pleroy/DEV/processing/PoSAR-MC\")\n",
    "from posarmctools.readdata import *"
   ]
  },
  {
   "cell_type": "code",
   "execution_count": 4,
   "metadata": {},
   "outputs": [],
   "source": [
    "%load_ext autoreload\n",
    "%autoreload 2"
   ]
  },
  {
   "cell_type": "code",
   "execution_count": 5,
   "metadata": {},
   "outputs": [],
   "source": [
    "sys.path.insert(0, \"/home/pleroy/DEV/processing/focalization_python\")\n",
    "from posarutils.other.read_data_and_build_rd import *\n",
    "from posarutils.other.PosarMCParameters import *"
   ]
  },
  {
   "cell_type": "code",
   "execution_count": 6,
   "metadata": {},
   "outputs": [],
   "source": [
    "data_date = \"2018_06_27_13_05_40\"\n",
    "data_dir = \"/home/pleroy/DATA/2018_06_27_LETG/2018_06_27/jde/\" + data_date"
   ]
  },
  {
   "cell_type": "code",
   "execution_count": 7,
   "metadata": {},
   "outputs": [
    {
     "name": "stdout",
     "output_type": "stream",
     "text": [
      "requestedTRamp 1200.0\n",
      "configuredTRamp 1200.0\n",
      "startFrequency 5725000000.0\n",
      "stopFrequency 5875000000.0\n",
      "frequencyBand 150000000.0\n",
      "frequencyDevReq 50000.0\n",
      "frequencyDevConf 50001.1\n",
      "numberOfSteps 3000\n",
      "waveformType 1\n",
      "rampsPerBuffer 375\n",
      "bufferSize 9000000.0\n",
      "buffersPerFile 2\n",
      "rampsPerFile 750\n",
      "fileSize 18000000.0\n",
      "samplingFrequency 10000000.0\n",
      "samplesPerRamp 12000\n",
      "skipNSamples 0\n"
     ]
    }
   ],
   "source": [
    "params_filename = data_dir + \"/\" + data_date + \"_parameters.xml\"\n",
    "params = PosarMCParameters_v2( params_filename )\n",
    "params.print()"
   ]
  },
  {
   "cell_type": "code",
   "execution_count": 19,
   "metadata": {},
   "outputs": [
    {
     "name": "stdout",
     "output_type": "stream",
     "text": [
      "buffersPerFile = 2, samplesPerRamp = 12000, rampsPerFile = 750\n"
     ]
    }
   ],
   "source": [
    "buffersPerFile = params.buffersPerFile\n",
    "samplesPerRamp = params.samplesPerRamp\n",
    "rampsPerFile = params.rampsPerFile\n",
    "samplesPerFile = samplesPerRamp * rampsPerFile\n",
    "\n",
    "print( \"buffersPerFile = {}, samplesPerRamp = {}, rampsPerFile = {}\".format(\n",
    "    buffersPerFile, samplesPerRamp, rampsPerFile )\n",
    "     )\n",
    "\n",
    "# selection in record\n",
    "firstFile = 0\n",
    "nbFiles = 321\n",
    "lastFile = firstFile + nbFiles - 1\n",
    "firstBuffer = firstFile * buffersPerFile"
   ]
  },
  {
   "cell_type": "markdown",
   "metadata": {},
   "source": [
    "# Read the data"
   ]
  },
  {
   "cell_type": "code",
   "execution_count": 20,
   "metadata": {},
   "outputs": [],
   "source": [
    "scalingFactor = 2 / 65535\n",
    "offset = -32768"
   ]
  },
  {
   "cell_type": "code",
   "execution_count": 21,
   "metadata": {},
   "outputs": [],
   "source": [
    "timeSerie_A = np.zeros( samplesPerFile )\n",
    "adc_A = np.zeros( (nbFiles, samplesPerFile) )"
   ]
  },
  {
   "cell_type": "code",
   "execution_count": 22,
   "metadata": {},
   "outputs": [
    {
     "name": "stdout",
     "output_type": "stream",
     "text": [
      "k = 0, block = 0 / 640\n",
      "k = 1, block = 2 / 640\n",
      "k = 2, block = 4 / 640\n",
      "k = 3, block = 6 / 640\n",
      "k = 4, block = 8 / 640\n",
      "k = 5, block = 10 / 640\n",
      "k = 6, block = 12 / 640\n",
      "k = 7, block = 14 / 640\n",
      "k = 8, block = 16 / 640\n",
      "k = 9, block = 18 / 640\n",
      "k = 10, block = 20 / 640\n",
      "k = 11, block = 22 / 640\n",
      "k = 12, block = 24 / 640\n",
      "k = 13, block = 26 / 640\n",
      "k = 14, block = 28 / 640\n",
      "k = 15, block = 30 / 640\n",
      "k = 16, block = 32 / 640\n",
      "k = 17, block = 34 / 640\n",
      "k = 18, block = 36 / 640\n",
      "k = 19, block = 38 / 640\n",
      "k = 20, block = 40 / 640\n",
      "k = 21, block = 42 / 640\n",
      "k = 22, block = 44 / 640\n",
      "k = 23, block = 46 / 640\n",
      "k = 24, block = 48 / 640\n",
      "k = 25, block = 50 / 640\n",
      "k = 26, block = 52 / 640\n",
      "k = 27, block = 54 / 640\n",
      "k = 28, block = 56 / 640\n",
      "k = 29, block = 58 / 640\n",
      "k = 30, block = 60 / 640\n",
      "k = 31, block = 62 / 640\n",
      "k = 32, block = 64 / 640\n",
      "k = 33, block = 66 / 640\n",
      "k = 34, block = 68 / 640\n",
      "k = 35, block = 70 / 640\n",
      "k = 36, block = 72 / 640\n",
      "k = 37, block = 74 / 640\n",
      "k = 38, block = 76 / 640\n",
      "k = 39, block = 78 / 640\n",
      "k = 40, block = 80 / 640\n",
      "k = 41, block = 82 / 640\n",
      "k = 42, block = 84 / 640\n",
      "k = 43, block = 86 / 640\n",
      "k = 44, block = 88 / 640\n",
      "k = 45, block = 90 / 640\n",
      "k = 46, block = 92 / 640\n",
      "k = 47, block = 94 / 640\n",
      "k = 48, block = 96 / 640\n",
      "k = 49, block = 98 / 640\n",
      "k = 50, block = 100 / 640\n",
      "k = 51, block = 102 / 640\n",
      "k = 52, block = 104 / 640\n",
      "k = 53, block = 106 / 640\n",
      "k = 54, block = 108 / 640\n",
      "k = 55, block = 110 / 640\n",
      "k = 56, block = 112 / 640\n",
      "k = 57, block = 114 / 640\n",
      "k = 58, block = 116 / 640\n",
      "k = 59, block = 118 / 640\n",
      "k = 60, block = 120 / 640\n",
      "k = 61, block = 122 / 640\n",
      "k = 62, block = 124 / 640\n",
      "k = 63, block = 126 / 640\n",
      "k = 64, block = 128 / 640\n",
      "k = 65, block = 130 / 640\n",
      "k = 66, block = 132 / 640\n",
      "k = 67, block = 134 / 640\n",
      "k = 68, block = 136 / 640\n",
      "k = 69, block = 138 / 640\n",
      "k = 70, block = 140 / 640\n",
      "k = 71, block = 142 / 640\n",
      "k = 72, block = 144 / 640\n",
      "k = 73, block = 146 / 640\n",
      "k = 74, block = 148 / 640\n",
      "k = 75, block = 150 / 640\n",
      "k = 76, block = 152 / 640\n",
      "k = 77, block = 154 / 640\n",
      "k = 78, block = 156 / 640\n",
      "k = 79, block = 158 / 640\n",
      "k = 80, block = 160 / 640\n",
      "k = 81, block = 162 / 640\n",
      "k = 82, block = 164 / 640\n",
      "k = 83, block = 166 / 640\n",
      "k = 84, block = 168 / 640\n",
      "k = 85, block = 170 / 640\n",
      "k = 86, block = 172 / 640\n",
      "k = 87, block = 174 / 640\n",
      "k = 88, block = 176 / 640\n",
      "k = 89, block = 178 / 640\n",
      "k = 90, block = 180 / 640\n",
      "k = 91, block = 182 / 640\n",
      "k = 92, block = 184 / 640\n",
      "k = 93, block = 186 / 640\n",
      "k = 94, block = 188 / 640\n",
      "k = 95, block = 190 / 640\n",
      "k = 96, block = 192 / 640\n",
      "k = 97, block = 194 / 640\n",
      "k = 98, block = 196 / 640\n",
      "k = 99, block = 198 / 640\n",
      "k = 100, block = 200 / 640\n",
      "k = 101, block = 202 / 640\n",
      "k = 102, block = 204 / 640\n",
      "k = 103, block = 206 / 640\n",
      "k = 104, block = 208 / 640\n",
      "k = 105, block = 210 / 640\n",
      "k = 106, block = 212 / 640\n",
      "k = 107, block = 214 / 640\n",
      "k = 108, block = 216 / 640\n",
      "k = 109, block = 218 / 640\n",
      "k = 110, block = 220 / 640\n",
      "k = 111, block = 222 / 640\n",
      "k = 112, block = 224 / 640\n",
      "k = 113, block = 226 / 640\n",
      "k = 114, block = 228 / 640\n",
      "k = 115, block = 230 / 640\n",
      "k = 116, block = 232 / 640\n",
      "k = 117, block = 234 / 640\n",
      "k = 118, block = 236 / 640\n",
      "k = 119, block = 238 / 640\n",
      "k = 120, block = 240 / 640\n",
      "k = 121, block = 242 / 640\n",
      "k = 122, block = 244 / 640\n",
      "k = 123, block = 246 / 640\n",
      "k = 124, block = 248 / 640\n",
      "k = 125, block = 250 / 640\n",
      "k = 126, block = 252 / 640\n",
      "k = 127, block = 254 / 640\n",
      "k = 128, block = 256 / 640\n",
      "k = 129, block = 258 / 640\n",
      "k = 130, block = 260 / 640\n",
      "k = 131, block = 262 / 640\n",
      "k = 132, block = 264 / 640\n",
      "k = 133, block = 266 / 640\n",
      "k = 134, block = 268 / 640\n",
      "k = 135, block = 270 / 640\n",
      "k = 136, block = 272 / 640\n",
      "k = 137, block = 274 / 640\n",
      "k = 138, block = 276 / 640\n",
      "k = 139, block = 278 / 640\n",
      "k = 140, block = 280 / 640\n",
      "k = 141, block = 282 / 640\n",
      "k = 142, block = 284 / 640\n",
      "k = 143, block = 286 / 640\n",
      "k = 144, block = 288 / 640\n",
      "k = 145, block = 290 / 640\n",
      "k = 146, block = 292 / 640\n",
      "k = 147, block = 294 / 640\n",
      "k = 148, block = 296 / 640\n",
      "k = 149, block = 298 / 640\n",
      "k = 150, block = 300 / 640\n",
      "k = 151, block = 302 / 640\n",
      "k = 152, block = 304 / 640\n",
      "k = 153, block = 306 / 640\n",
      "k = 154, block = 308 / 640\n",
      "k = 155, block = 310 / 640\n",
      "k = 156, block = 312 / 640\n",
      "k = 157, block = 314 / 640\n",
      "k = 158, block = 316 / 640\n",
      "k = 159, block = 318 / 640\n",
      "k = 160, block = 320 / 640\n",
      "k = 161, block = 322 / 640\n",
      "k = 162, block = 324 / 640\n",
      "k = 163, block = 326 / 640\n",
      "k = 164, block = 328 / 640\n",
      "k = 165, block = 330 / 640\n",
      "k = 166, block = 332 / 640\n",
      "k = 167, block = 334 / 640\n",
      "k = 168, block = 336 / 640\n",
      "k = 169, block = 338 / 640\n",
      "k = 170, block = 340 / 640\n",
      "k = 171, block = 342 / 640\n",
      "k = 172, block = 344 / 640\n",
      "k = 173, block = 346 / 640\n",
      "k = 174, block = 348 / 640\n",
      "k = 175, block = 350 / 640\n",
      "k = 176, block = 352 / 640\n",
      "k = 177, block = 354 / 640\n",
      "k = 178, block = 356 / 640\n",
      "k = 179, block = 358 / 640\n",
      "k = 180, block = 360 / 640\n",
      "k = 181, block = 362 / 640\n",
      "k = 182, block = 364 / 640\n",
      "k = 183, block = 366 / 640\n",
      "k = 184, block = 368 / 640\n",
      "k = 185, block = 370 / 640\n",
      "k = 186, block = 372 / 640\n",
      "k = 187, block = 374 / 640\n",
      "k = 188, block = 376 / 640\n",
      "k = 189, block = 378 / 640\n",
      "k = 190, block = 380 / 640\n",
      "k = 191, block = 382 / 640\n",
      "k = 192, block = 384 / 640\n",
      "k = 193, block = 386 / 640\n",
      "k = 194, block = 388 / 640\n",
      "k = 195, block = 390 / 640\n",
      "k = 196, block = 392 / 640\n",
      "k = 197, block = 394 / 640\n",
      "k = 198, block = 396 / 640\n",
      "k = 199, block = 398 / 640\n",
      "k = 200, block = 400 / 640\n",
      "k = 201, block = 402 / 640\n",
      "k = 202, block = 404 / 640\n",
      "k = 203, block = 406 / 640\n",
      "k = 204, block = 408 / 640\n",
      "k = 205, block = 410 / 640\n",
      "k = 206, block = 412 / 640\n",
      "k = 207, block = 414 / 640\n",
      "k = 208, block = 416 / 640\n",
      "k = 209, block = 418 / 640\n",
      "k = 210, block = 420 / 640\n",
      "k = 211, block = 422 / 640\n",
      "k = 212, block = 424 / 640\n",
      "k = 213, block = 426 / 640\n",
      "k = 214, block = 428 / 640\n",
      "k = 215, block = 430 / 640\n",
      "k = 216, block = 432 / 640\n",
      "k = 217, block = 434 / 640\n",
      "k = 218, block = 436 / 640\n",
      "k = 219, block = 438 / 640\n",
      "k = 220, block = 440 / 640\n",
      "k = 221, block = 442 / 640\n",
      "k = 222, block = 444 / 640\n",
      "k = 223, block = 446 / 640\n",
      "k = 224, block = 448 / 640\n",
      "k = 225, block = 450 / 640\n",
      "k = 226, block = 452 / 640\n",
      "k = 227, block = 454 / 640\n",
      "k = 228, block = 456 / 640\n",
      "k = 229, block = 458 / 640\n",
      "k = 230, block = 460 / 640\n",
      "k = 231, block = 462 / 640\n",
      "k = 232, block = 464 / 640\n",
      "k = 233, block = 466 / 640\n",
      "k = 234, block = 468 / 640\n",
      "k = 235, block = 470 / 640\n",
      "k = 236, block = 472 / 640\n",
      "k = 237, block = 474 / 640\n",
      "k = 238, block = 476 / 640\n",
      "k = 239, block = 478 / 640\n",
      "k = 240, block = 480 / 640\n",
      "k = 241, block = 482 / 640\n",
      "k = 242, block = 484 / 640\n",
      "k = 243, block = 486 / 640\n",
      "k = 244, block = 488 / 640\n",
      "k = 245, block = 490 / 640\n",
      "k = 246, block = 492 / 640\n",
      "k = 247, block = 494 / 640\n",
      "k = 248, block = 496 / 640\n",
      "k = 249, block = 498 / 640\n",
      "k = 250, block = 500 / 640\n",
      "k = 251, block = 502 / 640\n",
      "k = 252, block = 504 / 640\n",
      "k = 253, block = 506 / 640\n",
      "k = 254, block = 508 / 640\n",
      "k = 255, block = 510 / 640\n",
      "k = 256, block = 512 / 640\n",
      "k = 257, block = 514 / 640\n",
      "k = 258, block = 516 / 640\n",
      "k = 259, block = 518 / 640\n",
      "k = 260, block = 520 / 640\n",
      "k = 261, block = 522 / 640\n",
      "k = 262, block = 524 / 640\n",
      "k = 263, block = 526 / 640\n",
      "k = 264, block = 528 / 640\n",
      "k = 265, block = 530 / 640\n",
      "k = 266, block = 532 / 640\n",
      "k = 267, block = 534 / 640\n",
      "k = 268, block = 536 / 640\n",
      "k = 269, block = 538 / 640\n",
      "k = 270, block = 540 / 640\n",
      "k = 271, block = 542 / 640\n",
      "k = 272, block = 544 / 640\n",
      "k = 273, block = 546 / 640\n",
      "k = 274, block = 548 / 640\n",
      "k = 275, block = 550 / 640\n",
      "k = 276, block = 552 / 640\n",
      "k = 277, block = 554 / 640\n",
      "k = 278, block = 556 / 640\n",
      "k = 279, block = 558 / 640\n",
      "k = 280, block = 560 / 640\n",
      "k = 281, block = 562 / 640\n",
      "k = 282, block = 564 / 640\n",
      "k = 283, block = 566 / 640\n",
      "k = 284, block = 568 / 640\n",
      "k = 285, block = 570 / 640\n",
      "k = 286, block = 572 / 640\n",
      "k = 287, block = 574 / 640\n",
      "k = 288, block = 576 / 640\n",
      "k = 289, block = 578 / 640\n",
      "k = 290, block = 580 / 640\n",
      "k = 291, block = 582 / 640\n",
      "k = 292, block = 584 / 640\n",
      "k = 293, block = 586 / 640\n",
      "k = 294, block = 588 / 640\n",
      "k = 295, block = 590 / 640\n",
      "k = 296, block = 592 / 640\n",
      "k = 297, block = 594 / 640\n",
      "k = 298, block = 596 / 640\n",
      "k = 299, block = 598 / 640\n",
      "k = 300, block = 600 / 640\n",
      "k = 301, block = 602 / 640\n",
      "k = 302, block = 604 / 640\n",
      "k = 303, block = 606 / 640\n",
      "k = 304, block = 608 / 640\n",
      "k = 305, block = 610 / 640\n",
      "k = 306, block = 612 / 640\n",
      "k = 307, block = 614 / 640\n",
      "k = 308, block = 616 / 640\n",
      "k = 309, block = 618 / 640\n"
     ]
    },
    {
     "name": "stdout",
     "output_type": "stream",
     "text": [
      "k = 310, block = 620 / 640\n",
      "k = 311, block = 622 / 640\n",
      "k = 312, block = 624 / 640\n",
      "k = 313, block = 626 / 640\n",
      "k = 314, block = 628 / 640\n",
      "k = 315, block = 630 / 640\n",
      "k = 316, block = 632 / 640\n",
      "k = 317, block = 634 / 640\n",
      "k = 318, block = 636 / 640\n",
      "k = 319, block = 638 / 640\n",
      "k = 320, block = 640 / 640\n"
     ]
    }
   ],
   "source": [
    "lastBuffer = (nbFiles-1) * buffersPerFile + firstBuffer\n",
    "for k in range( nbFiles ):\n",
    "    \n",
    "    # read the data\n",
    "    nb = str( int( k * buffersPerFile + firstBuffer) )\n",
    "    filename = data_dir + \"/record\" + nb + \".bin\"\n",
    "    readFileADLINKCh0( filename, samplesPerFile, timeSerie_A )\n",
    "    \n",
    "    print(\"k = {}, block = {} / {}\".format(k, nb, lastBuffer))\n",
    "    \n",
    "    adc_A[ k, : ] = (timeSerie_A + offset) * scalingFactor"
   ]
  },
  {
   "cell_type": "code",
   "execution_count": 23,
   "metadata": {},
   "outputs": [],
   "source": [
    "A_reshaped = adc_A.reshape(nbFiles * rampsPerFile, samplesPerRamp)"
   ]
  },
  {
   "cell_type": "markdown",
   "metadata": {},
   "source": [
    "**Check that the first ramp is an up ramp**"
   ]
  },
  {
   "cell_type": "code",
   "execution_count": 24,
   "metadata": {},
   "outputs": [],
   "source": [
    "plt.figure()\n",
    "plt.plot( A_reshaped[0, :] )\n",
    "title = \"first acquisition \" + data_date\n",
    "plt.title(title)\n",
    "plt.grid()\n",
    "plt.savefig( data_dir + \"/\" + title + \".png\", bbox_inches='tight')"
   ]
  },
  {
   "cell_type": "markdown",
   "metadata": {},
   "source": [
    "**Set the shifted flag properly**"
   ]
  },
  {
   "cell_type": "code",
   "execution_count": 25,
   "metadata": {},
   "outputs": [],
   "source": [
    "rampDownFirst = 1"
   ]
  },
  {
   "cell_type": "markdown",
   "metadata": {},
   "source": [
    "# Build RD"
   ]
  },
  {
   "cell_type": "code",
   "execution_count": 26,
   "metadata": {},
   "outputs": [
    {
     "name": "stdout",
     "output_type": "stream",
     "text": [
      "shape of the samples matrix = (240750, 12000)\n",
      "with Hanning window\n",
      "ramp down first in the data files\n"
     ]
    }
   ],
   "source": [
    "#RDc = build_rd_from_data( params, A_reshaped, shifted )\n",
    "withHanning = 1\n",
    "RDc = build_rd_from_data_rampDown( params, A_reshaped, rampDownFirst, withHanning )"
   ]
  },
  {
   "cell_type": "code",
   "execution_count": 27,
   "metadata": {},
   "outputs": [],
   "source": [
    "coupling_RD = np.average(RDc, 0)\n",
    "if withHanning:\n",
    "    np.save( data_dir + \"/coupling_RD_files_{}_{}_rampDown_hanning\".format(firstFile, lastFile), coupling_RD )\n",
    "else:\n",
    "    np.save( data_dir + \"/coupling_RD_files_{}_{}_rampDown\".format(firstFile, lastFile), coupling_RD )"
   ]
  },
  {
   "cell_type": "code",
   "execution_count": 28,
   "metadata": {},
   "outputs": [],
   "source": [
    "plt.figure()\n",
    "plt.plot(np.abs(coupling_RD), 'k', label='coupling')\n",
    "plt.legend()\n",
    "plt.grid()"
   ]
  },
  {
   "cell_type": "code",
   "execution_count": 29,
   "metadata": {},
   "outputs": [],
   "source": [
    "if withHanning:\n",
    "    np.save(data_dir + '/RD_files_{}_{}_rampDown_hanning'.format(firstFile, lastFile), RDc) \n",
    "else:\n",
    "    np.save(data_dir + '/RD_files_{}_{}_rampDown'.format(firstFile, lastFile), RDc)"
   ]
  },
  {
   "cell_type": "code",
   "execution_count": null,
   "metadata": {},
   "outputs": [],
   "source": []
  }
 ],
 "metadata": {
  "kernelspec": {
   "display_name": "Python 3",
   "language": "python",
   "name": "python3"
  },
  "language_info": {
   "codemirror_mode": {
    "name": "ipython",
    "version": 3
   },
   "file_extension": ".py",
   "mimetype": "text/x-python",
   "name": "python",
   "nbconvert_exporter": "python",
   "pygments_lexer": "ipython3",
   "version": "3.6.6"
  },
  "toc": {
   "base_numbering": 1,
   "nav_menu": {},
   "number_sections": true,
   "sideBar": true,
   "skip_h1_title": false,
   "title_cell": "Table of Contents",
   "title_sidebar": "Contents",
   "toc_cell": false,
   "toc_position": {},
   "toc_section_display": true,
   "toc_window_display": true
  }
 },
 "nbformat": 4,
 "nbformat_minor": 2
}
