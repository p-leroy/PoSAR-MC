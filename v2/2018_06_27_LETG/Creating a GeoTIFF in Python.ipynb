{
 "cells": [
  {
   "cell_type": "code",
   "execution_count": 68,
   "metadata": {},
   "outputs": [],
   "source": [
    "from osgeo import gdal, osr"
   ]
  },
  {
   "cell_type": "code",
   "execution_count": 65,
   "metadata": {},
   "outputs": [],
   "source": [
    "from PIL import Image"
   ]
  },
  {
   "cell_type": "code",
   "execution_count": 10,
   "metadata": {},
   "outputs": [],
   "source": [
    "import numpy as np\n",
    "import matplotlib.pyplot as plt\n",
    "%matplotlib qt5"
   ]
  },
  {
   "cell_type": "code",
   "execution_count": 82,
   "metadata": {},
   "outputs": [],
   "source": [
    "import matplotlib.image as mpimg"
   ]
  },
  {
   "cell_type": "code",
   "execution_count": 3,
   "metadata": {},
   "outputs": [],
   "source": [
    "data_date = \"2018_06_27_13_18_13\"\n",
    "root_dir = \"/home/pleroy/DATA/2018_06_27_LETG/2018_06_27/jde/\"\n",
    "data_dir = root_dir + data_date"
   ]
  },
  {
   "cell_type": "code",
   "execution_count": 5,
   "metadata": {},
   "outputs": [],
   "source": [
    "src_filename = root_dir + \"n48_w002_1arc_v3.dt2\"\n",
    "dataset = gdal.Open(src_filename, gdal.GA_ReadOnly)"
   ]
  },
  {
   "cell_type": "code",
   "execution_count": 6,
   "metadata": {},
   "outputs": [
    {
     "name": "stdout",
     "output_type": "stream",
     "text": [
      "Driver: DTED/DTED Elevation Raster\n",
      "Size is 3601 x 3601 x 1\n",
      "Projection is GEOGCS[\"WGS 84\",DATUM[\"WGS_1984\",SPHEROID[\"WGS 84\",6378137,298.257223563]],PRIMEM[\"Greenwich\",0],UNIT[\"degree\",0.0174532925199433],AUTHORITY[\"EPSG\",\"4326\"]]\n",
      "Origin = (-2.000138888888889, 49.000138888888884)\n",
      "Pixel Size = (0.0002777777777777778, -0.0002777777777777778)\n"
     ]
    }
   ],
   "source": [
    "print(\"Driver: {}/{}\".format(dataset.GetDriver().ShortName,\n",
    "                             dataset.GetDriver().LongName))\n",
    "print(\"Size is {} x {} x {}\".format(dataset.RasterXSize,\n",
    "                                    dataset.RasterYSize,\n",
    "                                    dataset.RasterCount))\n",
    "print(\"Projection is {}\".format(dataset.GetProjection()))\n",
    "\n",
    "# Fetch the coefficients for transforming between \n",
    "# pixel/line (P,L) raster space => projection coordinates (Xp,Yp) space\n",
    "# Xp = GT[0] + P*GT[1] + L*GT[2]\n",
    "# Yp = GT[3] + P*GT[4] + L*GT[5]\n",
    "\n",
    "GT = dataset.GetGeoTransform()\n",
    "if GT:\n",
    "    print(\"Origin = ({}, {})\".format( GT[0], GT[3] ) )\n",
    "    print(\"Pixel Size = ({}, {})\".format( GT[1], GT[5] ) )"
   ]
  },
  {
   "cell_type": "code",
   "execution_count": 7,
   "metadata": {},
   "outputs": [
    {
     "name": "stdout",
     "output_type": "stream",
     "text": [
      "Band Type=Int16\n"
     ]
    }
   ],
   "source": [
    "band = dataset.GetRasterBand(1)\n",
    "print(\"Band Type={}\".format(gdal.GetDataTypeName(band.DataType)))"
   ]
  },
  {
   "cell_type": "code",
   "execution_count": 13,
   "metadata": {},
   "outputs": [],
   "source": [
    "XSize = band.XSize\n",
    "YSize = band.YSize\n",
    "DEM = band.ReadAsArray(0, 0, XSize, YSize )"
   ]
  },
  {
   "cell_type": "code",
   "execution_count": 31,
   "metadata": {},
   "outputs": [],
   "source": [
    "dted_long = GT[0] + np.arange(XSize) * GT[1]\n",
    "dted_lat = GT[3] + np.arange(YSize) * GT[5]\n",
    "meshgrid_long, meshgrid_lat = np.meshgrid(dted_long, dted_lat)"
   ]
  },
  {
   "cell_type": "code",
   "execution_count": 72,
   "metadata": {},
   "outputs": [
    {
     "data": {
      "text/plain": [
       "<matplotlib.axes._axes.Axes at 0x7febb59ce978>"
      ]
     },
     "execution_count": 72,
     "metadata": {},
     "output_type": "execute_result"
    }
   ],
   "source": [
    "fig = plt.figure()\n",
    "fig.set_size_inches(10, 10)\n",
    "ax = plt.Axes(fig, [0., 0., 1., 1.])\n",
    "ax.set_axis_off()\n",
    "fig.add_axes(ax)"
   ]
  },
  {
   "cell_type": "code",
   "execution_count": 107,
   "metadata": {},
   "outputs": [],
   "source": [
    "levels = 10\n",
    "#plt.contour(DEM, levels,linewidths=0.2,colors='k')\n",
    "#plt.imshow(DEM,cmap ='RdYlGn_r',origin='lower')\n",
    "vmin = 0\n",
    "vmax = 130\n",
    "plt.imshow(dted_elevations, vmin=vmin, vmax=vmax, cmap='Greys')\n",
    "plt.savefig(root_dir + 'ContourMapTight.png',dpi=900)"
   ]
  },
  {
   "cell_type": "code",
   "execution_count": 29,
   "metadata": {},
   "outputs": [],
   "source": [
    "# topLeft => 48.559066 , -1.607419\n",
    "# bottomRight => 48.460979 , -1.444684\n",
    "latMax = 48.559066\n",
    "latMin = 48.460979\n",
    "longMin = -1.607419\n",
    "longMax = -1.444684"
   ]
  },
  {
   "cell_type": "code",
   "execution_count": 115,
   "metadata": {},
   "outputs": [],
   "source": [
    "idxLong = np.where( (dted_long >= longMin) & (dted_long <= longMax) )\n",
    "idxLat =  np.where( (dted_lat >= latMin) & (dted_lat <= latMax) )\n",
    "idxLongMin = idxLong[0][0]\n",
    "idxLongMax = idxLong[0][-1]\n",
    "idxLatMin = idxLat[0][0]\n",
    "idxLatMax = idxLat[0][-1]\n",
    "meshgrid_long_pleineFougeres, meshgrid_lat_pleineFougere = np.meshgrid(dted_long[idxLong], dted_lat[idxLat])"
   ]
  },
  {
   "cell_type": "code",
   "execution_count": 161,
   "metadata": {},
   "outputs": [
    {
     "data": {
      "text/plain": [
       "((353,), (586,), (353, 586))"
      ]
     },
     "execution_count": 161,
     "metadata": {},
     "output_type": "execute_result"
    }
   ],
   "source": [
    "dted_lat[idxLat].shape, dted_long[idxLong].shape, pleineFougeresDEM.shape"
   ]
  },
  {
   "cell_type": "code",
   "execution_count": 186,
   "metadata": {},
   "outputs": [],
   "source": [
    "levels = 10\n",
    "vmin = 0\n",
    "vmax = 130\n",
    "\n",
    "pleineFougeresDEM = dted_elevations[idxLatMin:idxLatMax+1, idxLongMin:idxLongMax+1]\n",
    "\n",
    "sizes = np.shape(pleineFougeresDEM)\n",
    "height = float(sizes[0])\n",
    "width = float(sizes[1])\n",
    "     \n",
    "fig = plt.figure()\n",
    "mult = 5\n",
    "fig.set_size_inches(width/height*mult, 1*mult, forward=False)\n",
    "ax = plt.Axes(fig, [0., 0., 1., 1.])\n",
    "ax.set_axis_off()\n",
    "fig.add_axes(ax)\n",
    "ax.imshow(pleineFougeresDEM, vmin=vmin, vmax=vmax, cmap='terrain')\n",
    "plt.contourf(pleineFougeresDEM, 10, vmin=vmin, vmax=vmax, cmap='terrain')\n",
    "plt.savefig(root_dir + 'pleineFougeres.png',dpi=height)"
   ]
  },
  {
   "cell_type": "code",
   "execution_count": 209,
   "metadata": {},
   "outputs": [
    {
     "data": {
      "text/plain": [
       "<matplotlib.colorbar.Colorbar at 0x7feba2c96f28>"
      ]
     },
     "execution_count": 209,
     "metadata": {},
     "output_type": "execute_result"
    }
   ],
   "source": [
    "levels = 10\n",
    "vmin = 0\n",
    "vmax = 130\n",
    "     \n",
    "fig = plt.figure()\n",
    "# left right bottom top\n",
    "extent=( longMin, longMax, latMax, latMin )\n",
    "#plt.imshow(pleineFougeresDEM, vmin=vmin, vmax=vmax, cmap='terrain', extent=extent)\n",
    "plt.contourf(pleineFougeresDEM, 10, vmin=vmin, vmax=vmax, cmap='terrain', origin='lower', extent=extent)\n",
    "plt.title(\"Pleine Fougères\")\n",
    "plt.grid()\n",
    "plt.colorbar()"
   ]
  },
  {
   "cell_type": "code",
   "execution_count": 210,
   "metadata": {},
   "outputs": [],
   "source": [
    "vmin = 0\n",
    "vmax = 130\n",
    "plt.figure()\n",
    "plt.pcolormesh( dted_long, dted_lat, dted_elevations,\n",
    "               cmap='gray', vmin=vmin, vmax=vmax)\n",
    "plt.pcolormesh( dted_long[idxLong], dted_lat[idxLat], pleineFougeresDEM,\n",
    "               cmap='terrain', vmin=vmin, vmax=vmax)\n",
    "\n",
    "ax = plt.gca()\n",
    "\n",
    "ax.set_aspect(\"equal\")\n",
    "plt.colorbar()\n",
    "plt.grid()"
   ]
  },
  {
   "cell_type": "code",
   "execution_count": 129,
   "metadata": {},
   "outputs": [],
   "source": [
    "def arrayToRaster(array,fileName,EPSGCode,xMin,xMax,yMin,yMax,numBands):\n",
    "    xPixels = array.shape[1]  # number of pixels in x\n",
    "    yPixels = array.shape[0]  # number of pixels in y\n",
    "    pixelXSize =(xMax-xMin)/xPixels # size of the pixel in X direction     \n",
    "    pixelYSize = -(yMax-yMin)/yPixels # size of the pixel in Y direction\n",
    "\n",
    "    driver = gdal.GetDriverByName('GTiff')\n",
    "    dataset = driver.Create(fileName,xPixels,yPixels,numBands,gdal.GDT_Byte, options = [ 'PHOTOMETRIC=RGB' ])\n",
    "    dataset.SetGeoTransform((xMin,pixelXSize,0,yMax,0,pixelYSize))  \n",
    "\n",
    "    datasetSRS = osr.SpatialReference()\n",
    "    datasetSRS.ImportFromEPSG(EPSGCode)\n",
    "    dataset.SetProjection(datasetSRS.ExportToWkt())\n",
    "    \n",
    "    for i in range(0,numBands):\n",
    "        dataset.GetRasterBand(i+1).WriteArray(array[:,:,i])\n",
    "\n",
    "    dataset.FlushCache()  # Write to disk."
   ]
  },
  {
   "cell_type": "code",
   "execution_count": 187,
   "metadata": {},
   "outputs": [],
   "source": [
    "img  = np.asarray(Image.open(root_dir + 'pleineFougeres.png'))"
   ]
  },
  {
   "cell_type": "code",
   "execution_count": 188,
   "metadata": {},
   "outputs": [],
   "source": [
    "EPSGCode = 4326\n",
    "numBands = 3\n",
    "arrayToRaster(img,root_dir + 'pleineFougeres.tif', \n",
    "              EPSGCode, \n",
    "              dted_long[idxLongMin], dted_long[idxLongMax], \n",
    "              dted_lat[idxLatMax], dted_lat[idxLatMin], \n",
    "              numBands)"
   ]
  },
  {
   "cell_type": "code",
   "execution_count": null,
   "metadata": {},
   "outputs": [],
   "source": []
  }
 ],
 "metadata": {
  "kernelspec": {
   "display_name": "Python 3",
   "language": "python",
   "name": "python3"
  },
  "language_info": {
   "codemirror_mode": {
    "name": "ipython",
    "version": 3
   },
   "file_extension": ".py",
   "mimetype": "text/x-python",
   "name": "python",
   "nbconvert_exporter": "python",
   "pygments_lexer": "ipython3",
   "version": "3.7.3"
  },
  "toc": {
   "base_numbering": 1,
   "nav_menu": {},
   "number_sections": true,
   "sideBar": true,
   "skip_h1_title": false,
   "title_cell": "Table of Contents",
   "title_sidebar": "Contents",
   "toc_cell": false,
   "toc_position": {},
   "toc_section_display": true,
   "toc_window_display": true
  },
  "varInspector": {
   "cols": {
    "lenName": 16,
    "lenType": 16,
    "lenVar": 40
   },
   "kernels_config": {
    "python": {
     "delete_cmd_postfix": "",
     "delete_cmd_prefix": "del ",
     "library": "var_list.py",
     "varRefreshCmd": "print(var_dic_list())"
    },
    "r": {
     "delete_cmd_postfix": ") ",
     "delete_cmd_prefix": "rm(",
     "library": "var_list.r",
     "varRefreshCmd": "cat(var_dic_list()) "
    }
   },
   "types_to_exclude": [
    "module",
    "function",
    "builtin_function_or_method",
    "instance",
    "_Feature"
   ],
   "window_display": false
  }
 },
 "nbformat": 4,
 "nbformat_minor": 2
}
