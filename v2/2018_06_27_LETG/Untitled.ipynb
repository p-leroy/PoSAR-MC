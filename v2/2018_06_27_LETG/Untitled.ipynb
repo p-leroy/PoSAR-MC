{
 "cells": [
  {
   "cell_type": "code",
   "execution_count": 1,
   "metadata": {},
   "outputs": [],
   "source": [
    "import numpy as np\n",
    "import matplotlib.pyplot as plt\n",
    "%matplotlib qt5"
   ]
  },
  {
   "cell_type": "code",
   "execution_count": 12,
   "metadata": {},
   "outputs": [],
   "source": [
    "import sys"
   ]
  },
  {
   "cell_type": "code",
   "execution_count": 13,
   "metadata": {},
   "outputs": [],
   "source": [
    "sys.path.insert(0, \"/home/pleroy/DEV/processing/focalization_python\")"
   ]
  },
  {
   "cell_type": "code",
   "execution_count": 14,
   "metadata": {},
   "outputs": [],
   "source": [
    "from posarutils.process.filtering import box_filter"
   ]
  },
  {
   "cell_type": "code",
   "execution_count": 4,
   "metadata": {},
   "outputs": [],
   "source": [
    "data_date = \"2018_06_27_12_59_03\"\n",
    "root_dir = \"/home/pleroy/DATA/2018_06_27_LETG/2018_06_27/jde/\"\n",
    "data_dir = root_dir + data_date\n",
    "prefix = data_dir + \"/\" + data_date + \"_imgLarge(+2)\"\n",
    "tiffName = prefix + \".tif\"\n",
    "rawDataName = prefix + \".npy\""
   ]
  },
  {
   "cell_type": "code",
   "execution_count": 8,
   "metadata": {},
   "outputs": [],
   "source": [
    "focusedImg = np.load(rawDataName)"
   ]
  },
  {
   "cell_type": "code",
   "execution_count": 9,
   "metadata": {},
   "outputs": [],
   "source": [
    "cmap = 'jet'"
   ]
  },
  {
   "cell_type": "markdown",
   "metadata": {},
   "source": [
    "## imshow"
   ]
  },
  {
   "cell_type": "code",
   "execution_count": 10,
   "metadata": {},
   "outputs": [
    {
     "data": {
      "text/plain": [
       "<matplotlib.colorbar.Colorbar at 0x7f24c31b4f60>"
      ]
     },
     "execution_count": 10,
     "metadata": {},
     "output_type": "execute_result"
    }
   ],
   "source": [
    "plt.figure()\n",
    "\n",
    "#plt.imshow( 20 * np.log10( box_filter( np.abs( imgGroundRange.reshape(nbX, nbY) ), 2 ) ), cmap=cmap )\n",
    "plt.imshow( 20 * np.log10( np.abs( focusedImg ) ), cmap=cmap )\n",
    "\n",
    "plt.colorbar(orientation=\"horizontal\")"
   ]
  },
  {
   "cell_type": "markdown",
   "metadata": {},
   "source": [
    "## imshow box_filter"
   ]
  },
  {
   "cell_type": "code",
   "execution_count": 15,
   "metadata": {},
   "outputs": [
    {
     "name": "stdout",
     "output_type": "stream",
     "text": [
      "im.shape = (400, 10000)\n"
     ]
    },
    {
     "data": {
      "text/plain": [
       "<matplotlib.colorbar.Colorbar at 0x7f24a9d18198>"
      ]
     },
     "execution_count": 15,
     "metadata": {},
     "output_type": "execute_result"
    }
   ],
   "source": [
    "plt.figure()\n",
    "\n",
    "plt.imshow( 20 * np.log10( box_filter( np.abs( focusedImg ), 2 ) ), cmap=cmap )\n",
    "\n",
    "plt.colorbar(orientation=\"horizontal\")"
   ]
  },
  {
   "cell_type": "code",
   "execution_count": 18,
   "metadata": {},
   "outputs": [
    {
     "name": "stdout",
     "output_type": "stream",
     "text": [
      "im.shape = (400, 10000)\n"
     ]
    }
   ],
   "source": [
    "vmax = 40\n",
    "vmin = -5\n",
    "\n",
    "plt.figure()\n",
    "\n",
    "plt.imshow( 20 * np.log10( box_filter( np.abs( focusedImg ), 2 ) ), cmap='jet', vmin=vmin, vmax=vmax )\n",
    "\n",
    "plt.colorbar(orientation=\"horizontal\")\n",
    "plt.gca().invert_xaxis()"
   ]
  },
  {
   "cell_type": "code",
   "execution_count": 19,
   "metadata": {},
   "outputs": [
    {
     "name": "stdout",
     "output_type": "stream",
     "text": [
      "im.shape = (400, 10000)\n"
     ]
    }
   ],
   "source": [
    "vmax = 40\n",
    "vmin = -5\n",
    "\n",
    "plt.figure()\n",
    "\n",
    "plt.imshow( 20 * np.log10( box_filter( np.abs( focusedImg ), 2 ) ), cmap='gray', vmin=vmin, vmax=vmax )\n",
    "\n",
    "plt.colorbar(orientation=\"horizontal\")\n",
    "plt.gca().invert_xaxis()"
   ]
  },
  {
   "cell_type": "code",
   "execution_count": null,
   "metadata": {},
   "outputs": [],
   "source": []
  }
 ],
 "metadata": {
  "kernelspec": {
   "display_name": "Python 3",
   "language": "python",
   "name": "python3"
  },
  "language_info": {
   "codemirror_mode": {
    "name": "ipython",
    "version": 3
   },
   "file_extension": ".py",
   "mimetype": "text/x-python",
   "name": "python",
   "nbconvert_exporter": "python",
   "pygments_lexer": "ipython3",
   "version": "3.6.6"
  },
  "toc": {
   "base_numbering": 1,
   "nav_menu": {},
   "number_sections": true,
   "sideBar": true,
   "skip_h1_title": false,
   "title_cell": "Table of Contents",
   "title_sidebar": "Contents",
   "toc_cell": false,
   "toc_position": {},
   "toc_section_display": true,
   "toc_window_display": true
  }
 },
 "nbformat": 4,
 "nbformat_minor": 2
}
