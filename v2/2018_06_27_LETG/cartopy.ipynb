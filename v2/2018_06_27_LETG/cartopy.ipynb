{
 "cells": [
  {
   "cell_type": "code",
   "execution_count": null,
   "metadata": {},
   "outputs": [],
   "source": [
    "import cartopy.crs as ccrs\n",
    "import cartopy.io.img_tiles as cimgt"
   ]
  },
  {
   "cell_type": "code",
   "execution_count": 31,
   "metadata": {},
   "outputs": [],
   "source": [
    "import numpy as np\n",
    "import matplotlib.pyplot as plt\n",
    "from matplotlib.transforms import offset_copy\n",
    "%matplotlib qt5"
   ]
  },
  {
   "cell_type": "code",
   "execution_count": null,
   "metadata": {},
   "outputs": [],
   "source": [
    "lon = np.linspace(-80, 80, 25)\n",
    "lat = np.linspace(30, 70, 25)\n",
    "lon2d, lat2d = np.meshgrid(lon, lat)\n",
    "\n",
    "data = np.cos(np.deg2rad(lat2d) * 4) + np.sin(np.deg2rad(lon2d) * 4)"
   ]
  },
  {
   "cell_type": "code",
   "execution_count": null,
   "metadata": {},
   "outputs": [],
   "source": [
    "# The projection keyword determines how the plot will look\n",
    "plt.figure(figsize=(6, 3))\n",
    "ax = plt.axes(projection=ccrs.PlateCarree())\n",
    "ax.set_global()\n",
    "ax.coastlines()\n",
    "\n",
    "ax.contourf(lon, lat, data)  # didn't use transform, but looks ok...\n",
    "plt.show()"
   ]
  },
  {
   "cell_type": "code",
   "execution_count": null,
   "metadata": {},
   "outputs": [],
   "source": [
    "ax = plt.axes(projection=ccrs.PlateCarree())\n",
    "ax.coastlines()"
   ]
  },
  {
   "cell_type": "code",
   "execution_count": null,
   "metadata": {},
   "outputs": [],
   "source": [
    "#ax = plt.axes(projection=ccrs.Mollweide())\n",
    "ax.stock_img()"
   ]
  },
  {
   "cell_type": "code",
   "execution_count": null,
   "metadata": {},
   "outputs": [],
   "source": [
    "# J1\n",
    "#48°28'8.08\"N\n",
    "#1°29'26.72\"W\n",
    "J1 = [ 48 + 28 / 60 + 8.08 / 3600,\n",
    "        -(1 + 29 / 60 + 26.72 / 3600) ]\n",
    "\n",
    "# J2\n",
    "#48°32'31.59\"N\n",
    "#1°35'15.44\"W\n",
    "J2 = [ 48 + 32 / 60 + 31.59 / 3600,\n",
    "        -(1 + 35 / 60 + 15.44 / 3600) ]\n",
    "\n",
    "# J11\n",
    "#48°32'57.92\"N\n",
    "#1°34'22.25\"W\n",
    "J11 = [ 48 + 32 / 60 + 57.92 / 3600,\n",
    "        -(1 + 34 / 60 + 22.25 / 3600) ]\n",
    "\n",
    "# J12\n",
    "#48°28'42.91\"N\n",
    "#1°28'33.18\"W\n",
    "J12 = [ 48 + 28 / 60 + 42.91 / 3600,\n",
    "        -(1 + 28 / 60 + 33.18 / 3600) ]\n"
   ]
  },
  {
   "cell_type": "code",
   "execution_count": null,
   "metadata": {},
   "outputs": [],
   "source": [
    "def main():\n",
    "    # Create a Stamen Terrain instance.\n",
    "    stamen_terrain = cimgt.StamenTerrain()\n",
    "\n",
    "    fig = plt.figure()\n",
    "\n",
    "    # Create a GeoAxes in the tile's projection.\n",
    "    ax = fig.add_subplot(1, 1, 1, projection=stamen_terrain.crs)\n",
    "\n",
    "    # Limit the extent of the map to a small longitude/latitude range.\n",
    "    #ax.set_extent([-22, -15, 63, 65], crs=ccrs.Geodetic())\n",
    "    ax.set_extent([-(1 + 35 / 60 + 15.44 / 3600), -(1 + 28 / 60 + 33.18 / 3600),\n",
    "                   48 + 28 / 60 + 8.08 / 3600, 48 + 32 / 60 + 57.92 / 3600])\n",
    "    ax.set_extent([-2, -1,\n",
    "                   47, 49])\n",
    "\n",
    "    # Add the Stamen data at zoom level 8.\n",
    "    ax.add_image(stamen_terrain, 8)\n",
    "\n",
    "    # Add a marker for the Eyjafjallajökull volcano.\n",
    "    ax.plot(-19.613333, 63.62, marker='o', color='red', markersize=12,\n",
    "            alpha=0.7, transform=ccrs.Geodetic())\n",
    "\n",
    "    # Use the cartopy interface to create a matplotlib transform object\n",
    "    # for the Geodetic coordinate system. We will use this along with\n",
    "    # matplotlib's offset_copy function to define a coordinate system which\n",
    "    # translates the text by 25 pixels to the left.\n",
    "    geodetic_transform = ccrs.Geodetic()._as_mpl_transform(ax)\n",
    "    text_transform = offset_copy(geodetic_transform, units='dots', x=-25)\n",
    "\n",
    "    # Add text 25 pixels to the left of the volcano.\n",
    "    ax.text(-19.613333, 63.62, u'Eyjafjallajökull',\n",
    "            verticalalignment='center', horizontalalignment='right',\n",
    "            transform=text_transform,\n",
    "            bbox=dict(facecolor='sandybrown', alpha=0.5, boxstyle='round'))\n",
    "    plt.show()\n",
    "\n",
    "\n",
    "if __name__ == '__main__':\n",
    "    main()"
   ]
  },
  {
   "cell_type": "markdown",
   "metadata": {},
   "source": [
    "# GDAL Geographical Data Abstraction Layer"
   ]
  },
  {
   "cell_type": "code",
   "execution_count": 1,
   "metadata": {},
   "outputs": [],
   "source": [
    "from osgeo import gdal,ogr\n",
    "import numpy as np\n",
    "import struct"
   ]
  },
  {
   "cell_type": "code",
   "execution_count": 3,
   "metadata": {},
   "outputs": [],
   "source": [
    "root_dir = \"/home/pleroy/DATA/2018_06_27_LETG/2018_06_27/jde/\"\n",
    "src_filename = root_dir + \"n48_w002_1arc_v3.dt2\""
   ]
  },
  {
   "cell_type": "code",
   "execution_count": null,
   "metadata": {},
   "outputs": [],
   "source": [
    "def map2pixel(mx,my,gt):\n",
    "    \"\"\"\n",
    "    Convert from map to pixel coordinates.\n",
    "    Only works for geotransforms with no rotation.\n",
    "    \"\"\"\n",
    "\n",
    "    px = int((mx - gt[0]) / gt[1]) #x pixel\n",
    "    py = int((my - gt[3]) / gt[5]) #y pixel\n",
    "\n",
    "    return px,py"
   ]
  },
  {
   "cell_type": "code",
   "execution_count": null,
   "metadata": {},
   "outputs": [],
   "source": [
    "src_ds = gdal.Open(src_filename) \n",
    "gt = src_ds.GetGeoTransform()\n",
    "rb = src_ds.GetRasterBand(1)\n",
    "\n",
    "#For a single XY coordinate (must be same projection as the raster)\n",
    "x = 123.456\n",
    "y = 12.345\n",
    "px , py = map2pixel(x,y,gt)\n",
    "val = rb.ReadAsArray(px,py,1,1) #Read a 1x1 array from the raster at px py\n"
   ]
  },
  {
   "cell_type": "markdown",
   "metadata": {},
   "source": [
    "## http://www.gdal.org/gdal_tutorial.html"
   ]
  },
  {
   "cell_type": "code",
   "execution_count": 4,
   "metadata": {},
   "outputs": [],
   "source": [
    "dataset = gdal.Open(src_filename, gdal.GA_ReadOnly)"
   ]
  },
  {
   "cell_type": "code",
   "execution_count": 5,
   "metadata": {},
   "outputs": [
    {
     "name": "stdout",
     "output_type": "stream",
     "text": [
      "Driver: DTED/DTED Elevation Raster\n",
      "Size is 3601 x 3601 x 1\n",
      "Projection is GEOGCS[\"WGS 84\",DATUM[\"WGS_1984\",SPHEROID[\"WGS 84\",6378137,298.257223563]],PRIMEM[\"Greenwich\",0],UNIT[\"degree\",0.0174532925199433],AUTHORITY[\"EPSG\",\"4326\"]]\n",
      "Origin = (-2.000138888888889, 49.000138888888884)\n",
      "Pixel Size = (0.0002777777777777778, -0.0002777777777777778)\n"
     ]
    }
   ],
   "source": [
    "print(\"Driver: {}/{}\".format(dataset.GetDriver().ShortName,\n",
    "                             dataset.GetDriver().LongName))\n",
    "print(\"Size is {} x {} x {}\".format(dataset.RasterXSize,\n",
    "                                    dataset.RasterYSize,\n",
    "                                    dataset.RasterCount))\n",
    "print(\"Projection is {}\".format(dataset.GetProjection()))\n",
    "\n",
    "# Fetch the coefficients for transforming between \n",
    "# 1) pixel/line (P,L) raster space, \n",
    "# 2) projection coordinates (Xp,Yp) space.\n",
    "# Xgeo = GT(0) + Xpixel*GT(1) + Yline*GT(2)\n",
    "# Ygeo = GT(3) + Xpixel*GT(4) + Yline*GT(5)\n",
    "geotransform = dataset.GetGeoTransform()\n",
    "if geotransform:\n",
    "    print(\"Origin = ({}, {})\".format(geotransform[0], geotransform[3]))\n",
    "    print(\"Pixel Size = ({}, {})\".format(geotransform[1], geotransform[5]))"
   ]
  },
  {
   "cell_type": "code",
   "execution_count": 6,
   "metadata": {},
   "outputs": [
    {
     "name": "stdout",
     "output_type": "stream",
     "text": [
      "Band Type=Int16\n",
      "Min=-2.000, Max=357.000\n"
     ]
    }
   ],
   "source": [
    "band = dataset.GetRasterBand(1)\n",
    "print(\"Band Type={}\".format(gdal.GetDataTypeName(band.DataType)))\n",
    "      \n",
    "min = band.GetMinimum()\n",
    "max = band.GetMaximum()\n",
    "if not min or not max:\n",
    "    (min,max) = band.ComputeRasterMinMax(True)\n",
    "print(\"Min={:.3f}, Max={:.3f}\".format(min,max))\n",
    "      \n",
    "if band.GetOverviewCount() > 0:\n",
    "    print(\"Band has {} overviews\".format(band.GetOverviewCount()))\n",
    "      \n",
    "if band.GetRasterColorTable():\n",
    "    print(\"Band has a color table with {} entries\".format(band.GetRasterColorTable().GetCount()))"
   ]
  },
  {
   "cell_type": "code",
   "execution_count": 7,
   "metadata": {},
   "outputs": [
    {
     "data": {
      "text/plain": [
       "<osgeo.gdal.Band; proxy of <Swig Object of type 'GDALRasterBandShadow *' at 0x7fa2987f22d0> >"
      ]
     },
     "execution_count": 7,
     "metadata": {},
     "output_type": "execute_result"
    }
   ],
   "source": [
    "band"
   ]
  },
  {
   "cell_type": "code",
   "execution_count": 13,
   "metadata": {},
   "outputs": [],
   "source": [
    "scanline = band.ReadRaster(xoff = 0,\n",
    "                           yoff = 0,\n",
    "                           xsize = band.XSize, \n",
    "                           ysize = band.XSize,\n",
    "                           buf_xsize = band.XSize, \n",
    "                           buf_ysize = band.XSize,\n",
    "                           buf_type = gdal.GDT_Int32 ) # GDT_Int16 GDT_Float32"
   ]
  },
  {
   "cell_type": "code",
   "execution_count": 20,
   "metadata": {},
   "outputs": [],
   "source": [
    "val = band.ReadAsArray(0, 0, band.XSize, band.XSize )"
   ]
  },
  {
   "cell_type": "code",
   "execution_count": 15,
   "metadata": {},
   "outputs": [],
   "source": [
    "tuple_of_floats = struct.unpack('f' * band.XSize*band.YSize, scanline) # short h, float32 f"
   ]
  },
  {
   "cell_type": "code",
   "execution_count": 25,
   "metadata": {},
   "outputs": [
    {
     "data": {
      "text/plain": [
       "<matplotlib.colorbar.Colorbar at 0x7fa215d86128>"
      ]
     },
     "execution_count": 25,
     "metadata": {},
     "output_type": "execute_result"
    }
   ],
   "source": [
    "plt.figure()\n",
    "plt.imshow(val, cmap=\"jet\")\n",
    "plt.grid()\n",
    "plt.colorbar()"
   ]
  },
  {
   "cell_type": "code",
   "execution_count": 21,
   "metadata": {},
   "outputs": [
    {
     "data": {
      "text/plain": [
       "(3601, 3601)"
      ]
     },
     "execution_count": 21,
     "metadata": {},
     "output_type": "execute_result"
    }
   ],
   "source": [
    "val.shape"
   ]
  },
  {
   "cell_type": "markdown",
   "metadata": {},
   "source": [
    "# Sentinel-1 tool box tests"
   ]
  },
  {
   "cell_type": "code",
   "execution_count": 1,
   "metadata": {},
   "outputs": [],
   "source": [
    "import gdal"
   ]
  },
  {
   "cell_type": "code",
   "execution_count": 44,
   "metadata": {},
   "outputs": [],
   "source": [
    "snap_dir = \\\n",
    "\"/home/pleroy/DEV/SentinelsApplicationPlatform/RS2_OK76385_PK678063_DK606752_FQ2_20080415_143807_HH_VV_HV_VH_SLC/\"\n",
    "file = \"imagery_VH.tif\"\n",
    "\n",
    "ds = gdal.Open(snap_dir + file)\n",
    "band1 = ds.GetRasterBand(1)\n",
    "band2 = ds.GetRasterBand(2)"
   ]
  },
  {
   "cell_type": "code",
   "execution_count": 46,
   "metadata": {},
   "outputs": [
    {
     "name": "stdout",
     "output_type": "stream",
     "text": [
      "Driver: GTiff/GeoTIFF\n",
      "Size is 2120 x 7863 x 2\n",
      "Projection is GEOGCS[\"WGS 84\",DATUM[\"WGS_1984\",SPHEROID[\"WGS 84\",6378137,298.257223563,AUTHORITY[\"EPSG\",\"7030\"]],AUTHORITY[\"EPSG\",\"6326\"]],PRIMEM[\"Greenwich\",0],UNIT[\"degree\",0.0174532925199433],AUTHORITY[\"EPSG\",\"4326\"]]\n"
     ]
    }
   ],
   "source": [
    "print(\"Driver: {}/{}\".format(ds.GetDriver().ShortName,\n",
    "                             ds.GetDriver().LongName))\n",
    "print(\"Size is {} x {} x {}\".format(ds.RasterXSize,\n",
    "                                    ds.RasterYSize,\n",
    "                                    ds.RasterCount))\n",
    "print(\"Projection is {}\".format(ds.GetProjection()))"
   ]
  },
  {
   "cell_type": "code",
   "execution_count": 47,
   "metadata": {},
   "outputs": [],
   "source": [
    "#<rasterAttributes>\n",
    "    #<dataType>Complex</dataType>\n",
    "    #<bitsPerSample dataStream=\"Real\">16</bitsPerSample>\n",
    "    #<bitsPerSample dataStream=\"Imaginary\">16</bitsPerSample>\n",
    "    #<numberOfSamplesPerLine>2120</numberOfSamplesPerLine>\n",
    "    #<numberOfLines>7863</numberOfLines>\n",
    "    #<sampledPixelSpacing units=\"m\">4.73307896e+00</sampledPixelSpacing>\n",
    "    #<sampledLineSpacing units=\"m\">4.87164879e+00</sampledLineSpacing>\n",
    "    #<lineTimeOrdering>Increasing</lineTimeOrdering>\n",
    "    #<pixelTimeOrdering>Decreasing</pixelTimeOrdering>\n",
    "#</rasterAttributes>"
   ]
  },
  {
   "cell_type": "code",
   "execution_count": 67,
   "metadata": {},
   "outputs": [],
   "source": [
    "arr1 = band1.ReadAsArray().astype(float)\n",
    "arr2 = band2.ReadAsArray().astype(float)"
   ]
  },
  {
   "cell_type": "code",
   "execution_count": 72,
   "metadata": {},
   "outputs": [],
   "source": [
    "vmin = 0\n",
    "vmax = 1000\n",
    "plt.figure()\n",
    "plt.imshow((arr1**2+arr2**2)**0.5, vmin=vmin, vmax=vmax)\n",
    "plt.colorbar()\n",
    "plt.grid()"
   ]
  },
  {
   "cell_type": "code",
   "execution_count": 51,
   "metadata": {},
   "outputs": [
    {
     "data": {
      "text/plain": [
       "<matplotlib.image.AxesImage at 0x7ff7634d1e10>"
      ]
     },
     "execution_count": 51,
     "metadata": {},
     "output_type": "execute_result"
    }
   ],
   "source": [
    "plt.figure()\n",
    "plt.imshow(arr1, cmap=\"gray\")"
   ]
  },
  {
   "cell_type": "code",
   "execution_count": 105,
   "metadata": {},
   "outputs": [
    {
     "name": "stdout",
     "output_type": "stream",
     "text": [
      "minx=0.0 miny=7863.0 maxx=2120.0 maxy=0.0\n"
     ]
    }
   ],
   "source": [
    "geoTransform = ds.GetGeoTransform()\n",
    "minx = geoTransform[0]\n",
    "maxy = geoTransform[3]\n",
    "maxx = minx + geoTransform[1] * ds.RasterXSize\n",
    "miny = maxy + geoTransform[5] * ds.RasterYSize\n",
    "print(\"minx={} miny={} maxx={} maxy={}\".format(minx, miny, maxx, maxy))"
   ]
  },
  {
   "cell_type": "markdown",
   "metadata": {},
   "source": [
    "# Try to create a GeoTIFF"
   ]
  },
  {
   "cell_type": "markdown",
   "metadata": {},
   "source": [
    "## Get SRTM data"
   ]
  },
  {
   "cell_type": "code",
   "execution_count": 109,
   "metadata": {},
   "outputs": [
    {
     "name": "stdout",
     "output_type": "stream",
     "text": [
      "Driver: DTED/DTED Elevation Raster\n",
      "Size is 3601 x 3601 x 1\n",
      "Projection is GEOGCS[\"WGS 84\",DATUM[\"WGS_1984\",SPHEROID[\"WGS 84\",6378137,298.257223563]],PRIMEM[\"Greenwich\",0],UNIT[\"degree\",0.0174532925199433],AUTHORITY[\"EPSG\",\"4326\"]]\n",
      "Origin = (-2.000138888888889, 49.000138888888884)\n",
      "Pixel Size = (0.0002777777777777778, -0.0002777777777777778)\n",
      "Band Type=Int16\n"
     ]
    }
   ],
   "source": [
    "root_dir = \"/home/pleroy/DATA/2018_06_27_LETG/2018_06_27/jde/\"\n",
    "src_filename = root_dir + \"n48_w002_1arc_v3.dt2\"\n",
    "\n",
    "dataset = gdal.Open(src_filename, gdal.GA_ReadOnly)\n",
    "\n",
    "print(\"Driver: {}/{}\".format(dataset.GetDriver().ShortName,\n",
    "                             dataset.GetDriver().LongName))\n",
    "print(\"Size is {} x {} x {}\".format(dataset.RasterXSize,\n",
    "                                    dataset.RasterYSize,\n",
    "                                    dataset.RasterCount))\n",
    "print(\"Projection is {}\".format(dataset.GetProjection()))\n",
    "\n",
    "# Fetch the coefficients for transforming between \n",
    "# pixel/line (P,L) raster space => projection coordinates (Xp,Yp) space\n",
    "# Xp = GT[0] + P*GT[1] + L*GT[2]\n",
    "# Yp = GT[3] + P*GT[4] + L*GT[5]\n",
    "\n",
    "GT = dataset.GetGeoTransform()\n",
    "if GT:\n",
    "    print(\"Origin = ({}, {})\".format( GT[0], GT[3] ) )\n",
    "    print(\"Pixel Size = ({}, {})\".format( GT[1], GT[5] ) )\n",
    "\n",
    "band = dataset.GetRasterBand(1)\n",
    "print(\"Band Type={}\".format(gdal.GetDataTypeName(band.DataType)))\n",
    "\n",
    "XSize = band.XSize\n",
    "YSize = band.YSize\n",
    "dted_elevations = band.ReadAsArray(0, 0, XSize, YSize )\n",
    "\n",
    "dted_long = GT[0] + np.arange(XSize) * GT[1]\n",
    "dted_lat = GT[3] + np.arange(YSize) * GT[5]\n",
    "meshgrid_long, meshgrid_lat = np.meshgrid(dted_long, dted_lat)"
   ]
  },
  {
   "cell_type": "code",
   "execution_count": 118,
   "metadata": {},
   "outputs": [],
   "source": [
    "vmin = 0\n",
    "vmax = 300\n",
    "left = GT[0]\n",
    "right = GT[0] + XSize * GT[1]\n",
    "bottom = GT[3] + YSize * GT[5]\n",
    "top = GT[3]\n",
    "\n",
    "plt.figure()\n",
    "plt.imshow(dted_elevations, extent=(left, right, bottom, top), vmin=vmin, vmax=vmax, cmap='terrain')\n",
    "plt.colorbar()\n",
    "plt.grid()\n",
    "ax = plt.gca()"
   ]
  },
  {
   "cell_type": "code",
   "execution_count": 106,
   "metadata": {},
   "outputs": [
    {
     "data": {
      "text/plain": [
       "<matplotlib.axes._axes.Axes at 0x7ff76111d978>"
      ]
     },
     "execution_count": 106,
     "metadata": {},
     "output_type": "execute_result"
    }
   ],
   "source": [
    "fig = plt.figure()\n",
    "fig.set_size_inches(10, 10)\n",
    "ax = plt.Axes(fig, [0., 0., 1., 1.])\n",
    "ax.set_axis_off()\n",
    "fig.add_axes(ax)"
   ]
  },
  {
   "cell_type": "code",
   "execution_count": 119,
   "metadata": {},
   "outputs": [
    {
     "data": {
      "text/plain": [
       "<matplotlib.collections.QuadMesh at 0x7ff7609c7cf8>"
      ]
     },
     "execution_count": 119,
     "metadata": {},
     "output_type": "execute_result"
    }
   ],
   "source": [
    "plt.figure()\n",
    "plt.pcolormesh(dted_long, dted_lat, dted_elevations, vmin=vmin, vmax=vmax, cmap='terrain')"
   ]
  },
  {
   "cell_type": "code",
   "execution_count": 120,
   "metadata": {},
   "outputs": [],
   "source": [
    "plt.savefig('ContourMapTight.png',dpi=900)"
   ]
  },
  {
   "cell_type": "markdown",
   "metadata": {},
   "source": [
    "## Create GeoTIFF"
   ]
  },
  {
   "cell_type": "code",
   "execution_count": 123,
   "metadata": {},
   "outputs": [],
   "source": [
    "from scipy import misc"
   ]
  },
  {
   "cell_type": "code",
   "execution_count": 125,
   "metadata": {},
   "outputs": [],
   "source": [
    "img  = misc.imread('ContourMapTight.png')"
   ]
  },
  {
   "cell_type": "code",
   "execution_count": 127,
   "metadata": {},
   "outputs": [
    {
     "data": {
      "text/plain": [
       "<matplotlib.image.AxesImage at 0x7ff7620b5fd0>"
      ]
     },
     "execution_count": 127,
     "metadata": {},
     "output_type": "execute_result"
    }
   ],
   "source": [
    "plt.figure()\n",
    "plt.imshow(img)"
   ]
  },
  {
   "cell_type": "code",
   "execution_count": null,
   "metadata": {},
   "outputs": [],
   "source": []
  }
 ],
 "metadata": {
  "kernelspec": {
   "display_name": "Python 3",
   "language": "python",
   "name": "python3"
  },
  "language_info": {
   "codemirror_mode": {
    "name": "ipython",
    "version": 3
   },
   "file_extension": ".py",
   "mimetype": "text/x-python",
   "name": "python",
   "nbconvert_exporter": "python",
   "pygments_lexer": "ipython3",
   "version": "3.8.3"
  },
  "toc": {
   "base_numbering": 1,
   "nav_menu": {},
   "number_sections": true,
   "sideBar": true,
   "skip_h1_title": false,
   "title_cell": "Table of Contents",
   "title_sidebar": "Contents",
   "toc_cell": false,
   "toc_position": {},
   "toc_section_display": true,
   "toc_window_display": true
  }
 },
 "nbformat": 4,
 "nbformat_minor": 4
}
