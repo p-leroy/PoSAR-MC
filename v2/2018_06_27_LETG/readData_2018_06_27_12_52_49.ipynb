{
 "cells": [
  {
   "cell_type": "code",
   "execution_count": 1,
   "metadata": {},
   "outputs": [],
   "source": [
    "import numpy as np\n",
    "import matplotlib.pyplot as plt\n",
    "%matplotlib qt5"
   ]
  },
  {
   "cell_type": "code",
   "execution_count": 2,
   "metadata": {},
   "outputs": [],
   "source": [
    "import sys"
   ]
  },
  {
   "cell_type": "code",
   "execution_count": 3,
   "metadata": {},
   "outputs": [],
   "source": [
    "sys.path.insert(0, \"/home/pleroy/DEV/processing/PoSAR-MC\")\n",
    "from posarmctools.readdata import *"
   ]
  },
  {
   "cell_type": "code",
   "execution_count": 4,
   "metadata": {},
   "outputs": [],
   "source": [
    "%load_ext autoreload\n",
    "%autoreload 2"
   ]
  },
  {
   "cell_type": "code",
   "execution_count": 5,
   "metadata": {},
   "outputs": [],
   "source": [
    "sys.path.insert(0, \"/home/pleroy/DEV/processing/focalization_python\")\n",
    "from posarutils.other.read_data_and_build_rd import *\n",
    "from posarutils.other.PosarMCParameters import *"
   ]
  },
  {
   "cell_type": "code",
   "execution_count": 6,
   "metadata": {},
   "outputs": [],
   "source": [
    "data_date = \"2018_06_27_13_05_40\"\n",
    "data_dir = \"/home/pleroy/DATA/2018_06_27_LETG/2018_06_27/jde/\" + data_date"
   ]
  },
  {
   "cell_type": "code",
   "execution_count": 7,
   "metadata": {},
   "outputs": [
    {
     "name": "stdout",
     "output_type": "stream",
     "text": [
      "requestedTRamp 1200.0\n",
      "configuredTRamp 1200.0\n",
      "startFrequency 5725000000.0\n",
      "stopFrequency 5875000000.0\n",
      "frequencyBand 150000000.0\n",
      "frequencyDevReq 50000.0\n",
      "frequencyDevConf 50001.1\n",
      "numberOfSteps 3000\n",
      "waveformType 1\n",
      "rampsPerBuffer 375\n",
      "bufferSize 9000000.0\n",
      "buffersPerFile 2\n",
      "rampsPerFile 750\n",
      "fileSize 18000000.0\n",
      "samplingFrequency 10000000.0\n",
      "samplesPerRamp 12000\n",
      "skipNSamples 0\n"
     ]
    }
   ],
   "source": [
    "params_filename = data_dir + \"/\" + data_date + \"_parameters.xml\"\n",
    "params = PosarMCParameters_v2( params_filename )\n",
    "params.print()"
   ]
  },
  {
   "cell_type": "code",
   "execution_count": 8,
   "metadata": {},
   "outputs": [
    {
     "name": "stdout",
     "output_type": "stream",
     "text": [
      "buffersPerFile = 2, samplesPerRamp = 12000, rampsPerFile = 750\n"
     ]
    }
   ],
   "source": [
    "buffersPerFile = params.buffersPerFile\n",
    "samplesPerRamp = params.samplesPerRamp\n",
    "rampsPerFile = params.rampsPerFile\n",
    "samplesPerFile = samplesPerRamp * rampsPerFile\n",
    "\n",
    "print( \"buffersPerFile = {}, samplesPerRamp = {}, rampsPerFile = {}\".format(\n",
    "    buffersPerFile, samplesPerRamp, rampsPerFile )\n",
    "     )\n",
    "\n",
    "# selection in record\n",
    "firstFile = 0\n",
    "nbFiles = 100\n",
    "lastFile = firstFile + nbFiles - 1\n",
    "firstBuffer = firstFile * buffersPerFile"
   ]
  },
  {
   "cell_type": "markdown",
   "metadata": {},
   "source": [
    "# Read the data"
   ]
  },
  {
   "cell_type": "code",
   "execution_count": 9,
   "metadata": {},
   "outputs": [],
   "source": [
    "scalingFactor = 2 / 65535\n",
    "offset = -32768"
   ]
  },
  {
   "cell_type": "code",
   "execution_count": 10,
   "metadata": {},
   "outputs": [],
   "source": [
    "timeSerie_A = np.zeros( samplesPerFile )\n",
    "adc_A = np.zeros( (nbFiles, samplesPerFile) )"
   ]
  },
  {
   "cell_type": "code",
   "execution_count": 11,
   "metadata": {},
   "outputs": [
    {
     "name": "stdout",
     "output_type": "stream",
     "text": [
      "k = 0, block = 0 / 198\n",
      "k = 1, block = 2 / 198\n",
      "k = 2, block = 4 / 198\n",
      "k = 3, block = 6 / 198\n",
      "k = 4, block = 8 / 198\n",
      "k = 5, block = 10 / 198\n",
      "k = 6, block = 12 / 198\n",
      "k = 7, block = 14 / 198\n",
      "k = 8, block = 16 / 198\n",
      "k = 9, block = 18 / 198\n",
      "k = 10, block = 20 / 198\n",
      "k = 11, block = 22 / 198\n",
      "k = 12, block = 24 / 198\n",
      "k = 13, block = 26 / 198\n",
      "k = 14, block = 28 / 198\n",
      "k = 15, block = 30 / 198\n",
      "k = 16, block = 32 / 198\n",
      "k = 17, block = 34 / 198\n",
      "k = 18, block = 36 / 198\n",
      "k = 19, block = 38 / 198\n",
      "k = 20, block = 40 / 198\n",
      "k = 21, block = 42 / 198\n",
      "k = 22, block = 44 / 198\n",
      "k = 23, block = 46 / 198\n",
      "k = 24, block = 48 / 198\n",
      "k = 25, block = 50 / 198\n",
      "k = 26, block = 52 / 198\n",
      "k = 27, block = 54 / 198\n",
      "k = 28, block = 56 / 198\n",
      "k = 29, block = 58 / 198\n",
      "k = 30, block = 60 / 198\n",
      "k = 31, block = 62 / 198\n",
      "k = 32, block = 64 / 198\n",
      "k = 33, block = 66 / 198\n",
      "k = 34, block = 68 / 198\n",
      "k = 35, block = 70 / 198\n",
      "k = 36, block = 72 / 198\n",
      "k = 37, block = 74 / 198\n",
      "k = 38, block = 76 / 198\n",
      "k = 39, block = 78 / 198\n",
      "k = 40, block = 80 / 198\n",
      "k = 41, block = 82 / 198\n",
      "k = 42, block = 84 / 198\n",
      "k = 43, block = 86 / 198\n",
      "k = 44, block = 88 / 198\n",
      "k = 45, block = 90 / 198\n",
      "k = 46, block = 92 / 198\n",
      "k = 47, block = 94 / 198\n",
      "k = 48, block = 96 / 198\n",
      "k = 49, block = 98 / 198\n",
      "k = 50, block = 100 / 198\n",
      "k = 51, block = 102 / 198\n",
      "k = 52, block = 104 / 198\n",
      "k = 53, block = 106 / 198\n",
      "k = 54, block = 108 / 198\n",
      "k = 55, block = 110 / 198\n",
      "k = 56, block = 112 / 198\n",
      "k = 57, block = 114 / 198\n",
      "k = 58, block = 116 / 198\n",
      "k = 59, block = 118 / 198\n",
      "k = 60, block = 120 / 198\n",
      "k = 61, block = 122 / 198\n",
      "k = 62, block = 124 / 198\n",
      "k = 63, block = 126 / 198\n",
      "k = 64, block = 128 / 198\n",
      "k = 65, block = 130 / 198\n",
      "k = 66, block = 132 / 198\n",
      "k = 67, block = 134 / 198\n",
      "k = 68, block = 136 / 198\n",
      "k = 69, block = 138 / 198\n",
      "k = 70, block = 140 / 198\n",
      "k = 71, block = 142 / 198\n",
      "k = 72, block = 144 / 198\n",
      "k = 73, block = 146 / 198\n",
      "k = 74, block = 148 / 198\n",
      "k = 75, block = 150 / 198\n",
      "k = 76, block = 152 / 198\n",
      "k = 77, block = 154 / 198\n",
      "k = 78, block = 156 / 198\n",
      "k = 79, block = 158 / 198\n",
      "k = 80, block = 160 / 198\n",
      "k = 81, block = 162 / 198\n",
      "k = 82, block = 164 / 198\n",
      "k = 83, block = 166 / 198\n",
      "k = 84, block = 168 / 198\n",
      "k = 85, block = 170 / 198\n",
      "k = 86, block = 172 / 198\n",
      "k = 87, block = 174 / 198\n",
      "k = 88, block = 176 / 198\n",
      "k = 89, block = 178 / 198\n",
      "k = 90, block = 180 / 198\n",
      "k = 91, block = 182 / 198\n",
      "k = 92, block = 184 / 198\n",
      "k = 93, block = 186 / 198\n",
      "k = 94, block = 188 / 198\n",
      "k = 95, block = 190 / 198\n",
      "k = 96, block = 192 / 198\n",
      "k = 97, block = 194 / 198\n",
      "k = 98, block = 196 / 198\n",
      "k = 99, block = 198 / 198\n"
     ]
    }
   ],
   "source": [
    "lastBuffer = (nbFiles-1) * buffersPerFile + firstBuffer\n",
    "for k in range( nbFiles ):\n",
    "    \n",
    "    # read the data\n",
    "    nb = str( int( k * buffersPerFile + firstBuffer) )\n",
    "    filename = data_dir + \"/record\" + nb + \".bin\"\n",
    "    readFileADLINKCh0( filename, samplesPerFile, timeSerie_A )\n",
    "    \n",
    "    print(\"k = {}, block = {} / {}\".format(k, nb, lastBuffer))\n",
    "    \n",
    "    adc_A[ k, : ] = (timeSerie_A + offset) * scalingFactor"
   ]
  },
  {
   "cell_type": "code",
   "execution_count": 12,
   "metadata": {},
   "outputs": [],
   "source": [
    "A_reshaped = adc_A.reshape(nbFiles * rampsPerFile, samplesPerRamp)"
   ]
  },
  {
   "cell_type": "markdown",
   "metadata": {},
   "source": [
    "**Check that the first ramp is an up ramp**"
   ]
  },
  {
   "cell_type": "code",
   "execution_count": 13,
   "metadata": {},
   "outputs": [],
   "source": [
    "plt.figure()\n",
    "plt.plot( A_reshaped[0, :] )\n",
    "title = \"first acquisition \" + data_date\n",
    "plt.title(title)\n",
    "plt.grid()\n",
    "plt.savefig( data_dir + \"/\" + title + \".png\", bbox_inches='tight')"
   ]
  },
  {
   "cell_type": "markdown",
   "metadata": {},
   "source": [
    "**Set the shifted flag properly**"
   ]
  },
  {
   "cell_type": "code",
   "execution_count": 14,
   "metadata": {},
   "outputs": [],
   "source": [
    "rampDownFirst = 1"
   ]
  },
  {
   "cell_type": "markdown",
   "metadata": {},
   "source": [
    "# Build RD"
   ]
  },
  {
   "cell_type": "code",
   "execution_count": 15,
   "metadata": {},
   "outputs": [
    {
     "name": "stdout",
     "output_type": "stream",
     "text": [
      "shape of the samples matrix = (75000, 12000)\n",
      "with Hanning window\n",
      "ramp down first in the data files\n"
     ]
    }
   ],
   "source": [
    "#RDc = build_rd_from_data( params, A_reshaped, shifted )\n",
    "withHanning = 1\n",
    "RDc = build_rd_from_data_rampDown( params, A_reshaped, rampDownFirst, withHanning )"
   ]
  },
  {
   "cell_type": "code",
   "execution_count": 16,
   "metadata": {},
   "outputs": [],
   "source": [
    "coupling_RD = np.average(RDc, 0)\n",
    "if withHanning:\n",
    "    np.save( data_dir + \"/coupling_RD_files_{}_{}_rampDown_hanning\".format(firstFile, lastFile), coupling_RD )\n",
    "else:\n",
    "    np.save( data_dir + \"/coupling_RD_files_{}_{}_rampDown\".format(firstFile, lastFile), coupling_RD )"
   ]
  },
  {
   "cell_type": "code",
   "execution_count": 17,
   "metadata": {},
   "outputs": [],
   "source": [
    "plt.figure()\n",
    "plt.plot(np.abs(coupling_RD), 'k', label='coupling')\n",
    "plt.legend()\n",
    "plt.grid()"
   ]
  },
  {
   "cell_type": "code",
   "execution_count": 18,
   "metadata": {},
   "outputs": [],
   "source": [
    "if withHanning:\n",
    "    np.save(data_dir + '/RD_files_{}_{}_rampDown_hanning'.format(firstFile, lastFile), RDc) \n",
    "else:\n",
    "    np.save(data_dir + '/RD_files_{}_{}_rampDown'.format(firstFile, lastFile), RDc)"
   ]
  },
  {
   "cell_type": "code",
   "execution_count": null,
   "metadata": {},
   "outputs": [],
   "source": []
  }
 ],
 "metadata": {
  "kernelspec": {
   "display_name": "Python 3",
   "language": "python",
   "name": "python3"
  },
  "language_info": {
   "codemirror_mode": {
    "name": "ipython",
    "version": 3
   },
   "file_extension": ".py",
   "mimetype": "text/x-python",
   "name": "python",
   "nbconvert_exporter": "python",
   "pygments_lexer": "ipython3",
   "version": "3.6.5"
  },
  "toc": {
   "base_numbering": 1,
   "nav_menu": {},
   "number_sections": true,
   "sideBar": true,
   "skip_h1_title": false,
   "title_cell": "Table of Contents",
   "title_sidebar": "Contents",
   "toc_cell": false,
   "toc_position": {},
   "toc_section_display": true,
   "toc_window_display": true
  }
 },
 "nbformat": 4,
 "nbformat_minor": 2
}
