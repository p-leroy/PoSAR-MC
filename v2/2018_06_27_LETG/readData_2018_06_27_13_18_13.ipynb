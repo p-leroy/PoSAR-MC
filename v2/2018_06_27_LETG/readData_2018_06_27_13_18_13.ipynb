{
 "cells": [
  {
   "cell_type": "code",
   "execution_count": 1,
   "metadata": {},
   "outputs": [],
   "source": [
    "import numpy as np\n",
    "import matplotlib.pyplot as plt\n",
    "%matplotlib qt5"
   ]
  },
  {
   "cell_type": "code",
   "execution_count": 2,
   "metadata": {},
   "outputs": [],
   "source": [
    "import sys"
   ]
  },
  {
   "cell_type": "code",
   "execution_count": 3,
   "metadata": {},
   "outputs": [],
   "source": [
    "sys.path.insert(0, \"/home/pleroy/DEV/processing/PoSAR-MC\")\n",
    "from posarmctools.readdata import *"
   ]
  },
  {
   "cell_type": "code",
   "execution_count": 4,
   "metadata": {},
   "outputs": [],
   "source": [
    "%load_ext autoreload\n",
    "%autoreload 2"
   ]
  },
  {
   "cell_type": "code",
   "execution_count": 5,
   "metadata": {},
   "outputs": [],
   "source": [
    "sys.path.insert(0, \"/home/pleroy/DEV/processing/focalization_python\")\n",
    "from posarutils.other.read_data_and_build_rd import *\n",
    "from posarutils.other.PosarMCParameters import *"
   ]
  },
  {
   "cell_type": "code",
   "execution_count": 6,
   "metadata": {},
   "outputs": [],
   "source": [
    "data_date = \"2018_06_27_13_18_13\"\n",
    "data_dir = \"/home/pleroy/DATA/2018_06_27_LETG/2018_06_27/jde/\" + data_date"
   ]
  },
  {
   "cell_type": "code",
   "execution_count": 7,
   "metadata": {},
   "outputs": [
    {
     "name": "stdout",
     "output_type": "stream",
     "text": [
      "requestedTRamp 1200.0\n",
      "configuredTRamp 1200.0\n",
      "startFrequency 5725000000.0\n",
      "stopFrequency 5875000000.0\n",
      "frequencyBand 150000000.0\n",
      "frequencyDevReq 50000.0\n",
      "frequencyDevConf 50001.1\n",
      "numberOfSteps 3000\n",
      "waveformType 1\n",
      "rampsPerBuffer 375\n",
      "bufferSize 9000000.0\n",
      "buffersPerFile 2\n",
      "rampsPerFile 750\n",
      "fileSize 18000000.0\n",
      "samplingFrequency 10000000.0\n",
      "samplesPerRamp 12000\n",
      "skipNSamples 0\n"
     ]
    }
   ],
   "source": [
    "params_filename = data_dir + \"/\" + data_date + \"_parameters.xml\"\n",
    "params = PosarMCParameters_v2( params_filename )\n",
    "params.print()"
   ]
  },
  {
   "cell_type": "code",
   "execution_count": 8,
   "metadata": {},
   "outputs": [
    {
     "name": "stdout",
     "output_type": "stream",
     "text": [
      "buffersPerFile = 2, samplesPerRamp = 12000, rampsPerFile = 750\n"
     ]
    }
   ],
   "source": [
    "buffersPerFile = params.buffersPerFile\n",
    "samplesPerRamp = params.samplesPerRamp\n",
    "rampsPerFile = params.rampsPerFile\n",
    "samplesPerFile = samplesPerRamp * rampsPerFile\n",
    "\n",
    "print( \"buffersPerFile = {}, samplesPerRamp = {}, rampsPerFile = {}\".format(\n",
    "    buffersPerFile, samplesPerRamp, rampsPerFile )\n",
    "     )\n",
    "\n",
    "# selection in record\n",
    "firstFile = 0\n",
    "nbFiles = 325\n",
    "lastFile = firstFile + nbFiles - 1\n",
    "firstBuffer = firstFile * buffersPerFile"
   ]
  },
  {
   "cell_type": "markdown",
   "metadata": {},
   "source": [
    "# Read the data"
   ]
  },
  {
   "cell_type": "code",
   "execution_count": 9,
   "metadata": {},
   "outputs": [],
   "source": [
    "scalingFactor = 2 / 65535\n",
    "offset = -32768"
   ]
  },
  {
   "cell_type": "code",
   "execution_count": 10,
   "metadata": {},
   "outputs": [],
   "source": [
    "timeSerie_A = np.zeros( samplesPerFile )\n",
    "adc_A = np.zeros( (nbFiles, samplesPerFile) )"
   ]
  },
  {
   "cell_type": "code",
   "execution_count": 11,
   "metadata": {},
   "outputs": [
    {
     "name": "stdout",
     "output_type": "stream",
     "text": [
      "k = 0, block = 0 / 648\n",
      "k = 1, block = 2 / 648\n",
      "k = 2, block = 4 / 648\n",
      "k = 3, block = 6 / 648\n",
      "k = 4, block = 8 / 648\n",
      "k = 5, block = 10 / 648\n",
      "k = 6, block = 12 / 648\n",
      "k = 7, block = 14 / 648\n",
      "k = 8, block = 16 / 648\n",
      "k = 9, block = 18 / 648\n",
      "k = 10, block = 20 / 648\n",
      "k = 11, block = 22 / 648\n",
      "k = 12, block = 24 / 648\n",
      "k = 13, block = 26 / 648\n",
      "k = 14, block = 28 / 648\n",
      "k = 15, block = 30 / 648\n",
      "k = 16, block = 32 / 648\n",
      "k = 17, block = 34 / 648\n",
      "k = 18, block = 36 / 648\n",
      "k = 19, block = 38 / 648\n",
      "k = 20, block = 40 / 648\n",
      "k = 21, block = 42 / 648\n",
      "k = 22, block = 44 / 648\n",
      "k = 23, block = 46 / 648\n",
      "k = 24, block = 48 / 648\n",
      "k = 25, block = 50 / 648\n",
      "k = 26, block = 52 / 648\n",
      "k = 27, block = 54 / 648\n",
      "k = 28, block = 56 / 648\n",
      "k = 29, block = 58 / 648\n",
      "k = 30, block = 60 / 648\n",
      "k = 31, block = 62 / 648\n",
      "k = 32, block = 64 / 648\n",
      "k = 33, block = 66 / 648\n",
      "k = 34, block = 68 / 648\n",
      "k = 35, block = 70 / 648\n",
      "k = 36, block = 72 / 648\n",
      "k = 37, block = 74 / 648\n",
      "k = 38, block = 76 / 648\n",
      "k = 39, block = 78 / 648\n",
      "k = 40, block = 80 / 648\n",
      "k = 41, block = 82 / 648\n",
      "k = 42, block = 84 / 648\n",
      "k = 43, block = 86 / 648\n",
      "k = 44, block = 88 / 648\n",
      "k = 45, block = 90 / 648\n",
      "k = 46, block = 92 / 648\n",
      "k = 47, block = 94 / 648\n",
      "k = 48, block = 96 / 648\n",
      "k = 49, block = 98 / 648\n",
      "k = 50, block = 100 / 648\n",
      "k = 51, block = 102 / 648\n",
      "k = 52, block = 104 / 648\n",
      "k = 53, block = 106 / 648\n",
      "k = 54, block = 108 / 648\n",
      "k = 55, block = 110 / 648\n",
      "k = 56, block = 112 / 648\n",
      "k = 57, block = 114 / 648\n",
      "k = 58, block = 116 / 648\n",
      "k = 59, block = 118 / 648\n",
      "k = 60, block = 120 / 648\n",
      "k = 61, block = 122 / 648\n",
      "k = 62, block = 124 / 648\n",
      "k = 63, block = 126 / 648\n",
      "k = 64, block = 128 / 648\n",
      "k = 65, block = 130 / 648\n",
      "k = 66, block = 132 / 648\n",
      "k = 67, block = 134 / 648\n",
      "k = 68, block = 136 / 648\n",
      "k = 69, block = 138 / 648\n",
      "k = 70, block = 140 / 648\n",
      "k = 71, block = 142 / 648\n",
      "k = 72, block = 144 / 648\n",
      "k = 73, block = 146 / 648\n",
      "k = 74, block = 148 / 648\n",
      "k = 75, block = 150 / 648\n",
      "k = 76, block = 152 / 648\n",
      "k = 77, block = 154 / 648\n",
      "k = 78, block = 156 / 648\n",
      "k = 79, block = 158 / 648\n",
      "k = 80, block = 160 / 648\n",
      "k = 81, block = 162 / 648\n",
      "k = 82, block = 164 / 648\n",
      "k = 83, block = 166 / 648\n",
      "k = 84, block = 168 / 648\n",
      "k = 85, block = 170 / 648\n",
      "k = 86, block = 172 / 648\n",
      "k = 87, block = 174 / 648\n",
      "k = 88, block = 176 / 648\n",
      "k = 89, block = 178 / 648\n",
      "k = 90, block = 180 / 648\n",
      "k = 91, block = 182 / 648\n",
      "k = 92, block = 184 / 648\n",
      "k = 93, block = 186 / 648\n",
      "k = 94, block = 188 / 648\n",
      "k = 95, block = 190 / 648\n",
      "k = 96, block = 192 / 648\n",
      "k = 97, block = 194 / 648\n",
      "k = 98, block = 196 / 648\n",
      "k = 99, block = 198 / 648\n",
      "k = 100, block = 200 / 648\n",
      "k = 101, block = 202 / 648\n",
      "k = 102, block = 204 / 648\n",
      "k = 103, block = 206 / 648\n",
      "k = 104, block = 208 / 648\n",
      "k = 105, block = 210 / 648\n",
      "k = 106, block = 212 / 648\n",
      "k = 107, block = 214 / 648\n",
      "k = 108, block = 216 / 648\n",
      "k = 109, block = 218 / 648\n",
      "k = 110, block = 220 / 648\n",
      "k = 111, block = 222 / 648\n",
      "k = 112, block = 224 / 648\n",
      "k = 113, block = 226 / 648\n",
      "k = 114, block = 228 / 648\n",
      "k = 115, block = 230 / 648\n",
      "k = 116, block = 232 / 648\n",
      "k = 117, block = 234 / 648\n",
      "k = 118, block = 236 / 648\n",
      "k = 119, block = 238 / 648\n",
      "k = 120, block = 240 / 648\n",
      "k = 121, block = 242 / 648\n",
      "k = 122, block = 244 / 648\n",
      "k = 123, block = 246 / 648\n",
      "k = 124, block = 248 / 648\n",
      "k = 125, block = 250 / 648\n",
      "k = 126, block = 252 / 648\n",
      "k = 127, block = 254 / 648\n",
      "k = 128, block = 256 / 648\n",
      "k = 129, block = 258 / 648\n",
      "k = 130, block = 260 / 648\n",
      "k = 131, block = 262 / 648\n",
      "k = 132, block = 264 / 648\n",
      "k = 133, block = 266 / 648\n",
      "k = 134, block = 268 / 648\n",
      "k = 135, block = 270 / 648\n",
      "k = 136, block = 272 / 648\n",
      "k = 137, block = 274 / 648\n",
      "k = 138, block = 276 / 648\n",
      "k = 139, block = 278 / 648\n",
      "k = 140, block = 280 / 648\n",
      "k = 141, block = 282 / 648\n",
      "k = 142, block = 284 / 648\n",
      "k = 143, block = 286 / 648\n",
      "k = 144, block = 288 / 648\n",
      "k = 145, block = 290 / 648\n",
      "k = 146, block = 292 / 648\n",
      "k = 147, block = 294 / 648\n",
      "k = 148, block = 296 / 648\n",
      "k = 149, block = 298 / 648\n",
      "k = 150, block = 300 / 648\n",
      "k = 151, block = 302 / 648\n",
      "k = 152, block = 304 / 648\n",
      "k = 153, block = 306 / 648\n",
      "k = 154, block = 308 / 648\n",
      "k = 155, block = 310 / 648\n",
      "k = 156, block = 312 / 648\n",
      "k = 157, block = 314 / 648\n",
      "k = 158, block = 316 / 648\n",
      "k = 159, block = 318 / 648\n",
      "k = 160, block = 320 / 648\n",
      "k = 161, block = 322 / 648\n",
      "k = 162, block = 324 / 648\n",
      "k = 163, block = 326 / 648\n",
      "k = 164, block = 328 / 648\n",
      "k = 165, block = 330 / 648\n",
      "k = 166, block = 332 / 648\n",
      "k = 167, block = 334 / 648\n",
      "k = 168, block = 336 / 648\n",
      "k = 169, block = 338 / 648\n",
      "k = 170, block = 340 / 648\n",
      "k = 171, block = 342 / 648\n",
      "k = 172, block = 344 / 648\n",
      "k = 173, block = 346 / 648\n",
      "k = 174, block = 348 / 648\n",
      "k = 175, block = 350 / 648\n",
      "k = 176, block = 352 / 648\n",
      "k = 177, block = 354 / 648\n",
      "k = 178, block = 356 / 648\n",
      "k = 179, block = 358 / 648\n",
      "k = 180, block = 360 / 648\n",
      "k = 181, block = 362 / 648\n",
      "k = 182, block = 364 / 648\n",
      "k = 183, block = 366 / 648\n",
      "k = 184, block = 368 / 648\n",
      "k = 185, block = 370 / 648\n",
      "k = 186, block = 372 / 648\n",
      "k = 187, block = 374 / 648\n",
      "k = 188, block = 376 / 648\n",
      "k = 189, block = 378 / 648\n",
      "k = 190, block = 380 / 648\n",
      "k = 191, block = 382 / 648\n",
      "k = 192, block = 384 / 648\n",
      "k = 193, block = 386 / 648\n",
      "k = 194, block = 388 / 648\n",
      "k = 195, block = 390 / 648\n",
      "k = 196, block = 392 / 648\n",
      "k = 197, block = 394 / 648\n",
      "k = 198, block = 396 / 648\n",
      "k = 199, block = 398 / 648\n",
      "k = 200, block = 400 / 648\n",
      "k = 201, block = 402 / 648\n",
      "k = 202, block = 404 / 648\n",
      "k = 203, block = 406 / 648\n",
      "k = 204, block = 408 / 648\n",
      "k = 205, block = 410 / 648\n",
      "k = 206, block = 412 / 648\n",
      "k = 207, block = 414 / 648\n",
      "k = 208, block = 416 / 648\n",
      "k = 209, block = 418 / 648\n",
      "k = 210, block = 420 / 648\n",
      "k = 211, block = 422 / 648\n",
      "k = 212, block = 424 / 648\n",
      "k = 213, block = 426 / 648\n",
      "k = 214, block = 428 / 648\n",
      "k = 215, block = 430 / 648\n",
      "k = 216, block = 432 / 648\n",
      "k = 217, block = 434 / 648\n",
      "k = 218, block = 436 / 648\n",
      "k = 219, block = 438 / 648\n",
      "k = 220, block = 440 / 648\n",
      "k = 221, block = 442 / 648\n",
      "k = 222, block = 444 / 648\n",
      "k = 223, block = 446 / 648\n",
      "k = 224, block = 448 / 648\n",
      "k = 225, block = 450 / 648\n",
      "k = 226, block = 452 / 648\n",
      "k = 227, block = 454 / 648\n",
      "k = 228, block = 456 / 648\n",
      "k = 229, block = 458 / 648\n",
      "k = 230, block = 460 / 648\n",
      "k = 231, block = 462 / 648\n",
      "k = 232, block = 464 / 648\n",
      "k = 233, block = 466 / 648\n",
      "k = 234, block = 468 / 648\n",
      "k = 235, block = 470 / 648\n",
      "k = 236, block = 472 / 648\n",
      "k = 237, block = 474 / 648\n",
      "k = 238, block = 476 / 648\n",
      "k = 239, block = 478 / 648\n",
      "k = 240, block = 480 / 648\n",
      "k = 241, block = 482 / 648\n",
      "k = 242, block = 484 / 648\n",
      "k = 243, block = 486 / 648\n",
      "k = 244, block = 488 / 648\n",
      "k = 245, block = 490 / 648\n",
      "k = 246, block = 492 / 648\n",
      "k = 247, block = 494 / 648\n",
      "k = 248, block = 496 / 648\n",
      "k = 249, block = 498 / 648\n",
      "k = 250, block = 500 / 648\n",
      "k = 251, block = 502 / 648\n",
      "k = 252, block = 504 / 648\n",
      "k = 253, block = 506 / 648\n",
      "k = 254, block = 508 / 648\n",
      "k = 255, block = 510 / 648\n",
      "k = 256, block = 512 / 648\n",
      "k = 257, block = 514 / 648\n",
      "k = 258, block = 516 / 648\n",
      "k = 259, block = 518 / 648\n",
      "k = 260, block = 520 / 648\n",
      "k = 261, block = 522 / 648\n",
      "k = 262, block = 524 / 648\n",
      "k = 263, block = 526 / 648\n",
      "k = 264, block = 528 / 648\n",
      "k = 265, block = 530 / 648\n",
      "k = 266, block = 532 / 648\n",
      "k = 267, block = 534 / 648\n",
      "k = 268, block = 536 / 648\n",
      "k = 269, block = 538 / 648\n",
      "k = 270, block = 540 / 648\n",
      "k = 271, block = 542 / 648\n",
      "k = 272, block = 544 / 648\n",
      "k = 273, block = 546 / 648\n",
      "k = 274, block = 548 / 648\n",
      "k = 275, block = 550 / 648\n",
      "k = 276, block = 552 / 648\n",
      "k = 277, block = 554 / 648\n",
      "k = 278, block = 556 / 648\n",
      "k = 279, block = 558 / 648\n",
      "k = 280, block = 560 / 648\n",
      "k = 281, block = 562 / 648\n",
      "k = 282, block = 564 / 648\n",
      "k = 283, block = 566 / 648\n",
      "k = 284, block = 568 / 648\n",
      "k = 285, block = 570 / 648\n",
      "k = 286, block = 572 / 648\n",
      "k = 287, block = 574 / 648\n",
      "k = 288, block = 576 / 648\n",
      "k = 289, block = 578 / 648\n",
      "k = 290, block = 580 / 648\n",
      "k = 291, block = 582 / 648\n",
      "k = 292, block = 584 / 648\n",
      "k = 293, block = 586 / 648\n",
      "k = 294, block = 588 / 648\n",
      "k = 295, block = 590 / 648\n",
      "k = 296, block = 592 / 648\n",
      "k = 297, block = 594 / 648\n",
      "k = 298, block = 596 / 648\n",
      "k = 299, block = 598 / 648\n",
      "k = 300, block = 600 / 648\n",
      "k = 301, block = 602 / 648\n",
      "k = 302, block = 604 / 648\n",
      "k = 303, block = 606 / 648\n",
      "k = 304, block = 608 / 648\n",
      "k = 305, block = 610 / 648\n",
      "k = 306, block = 612 / 648\n",
      "k = 307, block = 614 / 648\n",
      "k = 308, block = 616 / 648\n",
      "k = 309, block = 618 / 648\n"
     ]
    },
    {
     "name": "stdout",
     "output_type": "stream",
     "text": [
      "k = 310, block = 620 / 648\n",
      "k = 311, block = 622 / 648\n",
      "k = 312, block = 624 / 648\n",
      "k = 313, block = 626 / 648\n",
      "k = 314, block = 628 / 648\n",
      "k = 315, block = 630 / 648\n",
      "k = 316, block = 632 / 648\n",
      "k = 317, block = 634 / 648\n",
      "k = 318, block = 636 / 648\n",
      "k = 319, block = 638 / 648\n",
      "k = 320, block = 640 / 648\n",
      "k = 321, block = 642 / 648\n",
      "k = 322, block = 644 / 648\n",
      "k = 323, block = 646 / 648\n",
      "k = 324, block = 648 / 648\n"
     ]
    }
   ],
   "source": [
    "lastBuffer = (nbFiles-1) * buffersPerFile + firstBuffer\n",
    "for k in range( nbFiles ):\n",
    "    \n",
    "    # read the data\n",
    "    nb = str( int( k * buffersPerFile + firstBuffer) )\n",
    "    filename = data_dir + \"/record\" + nb + \".bin\"\n",
    "    readFileADLINKCh0( filename, samplesPerFile, timeSerie_A )\n",
    "    \n",
    "    print(\"k = {}, block = {} / {}\".format(k, nb, lastBuffer))\n",
    "    \n",
    "    adc_A[ k, : ] = (timeSerie_A + offset) * scalingFactor"
   ]
  },
  {
   "cell_type": "code",
   "execution_count": 12,
   "metadata": {},
   "outputs": [],
   "source": [
    "A_reshaped = adc_A.reshape(nbFiles * rampsPerFile, samplesPerRamp)"
   ]
  },
  {
   "cell_type": "markdown",
   "metadata": {},
   "source": [
    "**Check that the first ramp is an up ramp**"
   ]
  },
  {
   "cell_type": "code",
   "execution_count": 13,
   "metadata": {},
   "outputs": [],
   "source": [
    "plt.figure()\n",
    "plt.plot( A_reshaped[0, :] )\n",
    "title = \"first acquisition \" + data_date\n",
    "plt.title(title)\n",
    "plt.grid()\n",
    "plt.savefig( data_dir + \"/\" + title + \".png\", bbox_inches='tight')"
   ]
  },
  {
   "cell_type": "markdown",
   "metadata": {},
   "source": [
    "**Set the shifted flag properly**"
   ]
  },
  {
   "cell_type": "code",
   "execution_count": 14,
   "metadata": {},
   "outputs": [],
   "source": [
    "rampDownFirst = 1"
   ]
  },
  {
   "cell_type": "markdown",
   "metadata": {},
   "source": [
    "# Build RD"
   ]
  },
  {
   "cell_type": "code",
   "execution_count": 15,
   "metadata": {},
   "outputs": [
    {
     "name": "stdout",
     "output_type": "stream",
     "text": [
      "shape of the samples matrix = (243750, 12000)\n",
      "with Hanning window\n",
      "ramp down first in the data files\n"
     ]
    }
   ],
   "source": [
    "#RDc = build_rd_from_data( params, A_reshaped, shifted )\n",
    "withHanning = 1\n",
    "RDc = build_rd_from_data_rampDown( params, A_reshaped, rampDownFirst, withHanning )"
   ]
  },
  {
   "cell_type": "code",
   "execution_count": 16,
   "metadata": {},
   "outputs": [],
   "source": [
    "coupling_RD = np.average(RDc, 0)\n",
    "if withHanning:\n",
    "    np.save( data_dir + \"/coupling_RD_files_{}_{}_rampDown_hanning\".format(firstFile, lastFile), coupling_RD )\n",
    "else:\n",
    "    np.save( data_dir + \"/coupling_RD_files_{}_{}_rampDown\".format(firstFile, lastFile), coupling_RD )"
   ]
  },
  {
   "cell_type": "code",
   "execution_count": 17,
   "metadata": {},
   "outputs": [],
   "source": [
    "plt.figure()\n",
    "plt.plot(np.abs(coupling_RD), 'k', label='coupling')\n",
    "plt.legend()\n",
    "plt.grid()"
   ]
  },
  {
   "cell_type": "code",
   "execution_count": null,
   "metadata": {},
   "outputs": [],
   "source": [
    "if withHanning:\n",
    "    np.save(data_dir + '/RD_files_{}_{}_rampDown_hanning'.format(firstFile, lastFile), RDc) \n",
    "else:\n",
    "    np.save(data_dir + '/RD_files_{}_{}_rampDown'.format(firstFile, lastFile), RDc)"
   ]
  },
  {
   "cell_type": "code",
   "execution_count": null,
   "metadata": {},
   "outputs": [],
   "source": []
  }
 ],
 "metadata": {
  "kernelspec": {
   "display_name": "Python 3",
   "language": "python",
   "name": "python3"
  },
  "language_info": {
   "codemirror_mode": {
    "name": "ipython",
    "version": 3
   },
   "file_extension": ".py",
   "mimetype": "text/x-python",
   "name": "python",
   "nbconvert_exporter": "python",
   "pygments_lexer": "ipython3",
   "version": "3.6.6"
  },
  "toc": {
   "base_numbering": 1,
   "nav_menu": {},
   "number_sections": true,
   "sideBar": true,
   "skip_h1_title": false,
   "title_cell": "Table of Contents",
   "title_sidebar": "Contents",
   "toc_cell": false,
   "toc_position": {},
   "toc_section_display": true,
   "toc_window_display": true
  }
 },
 "nbformat": 4,
 "nbformat_minor": 2
}
