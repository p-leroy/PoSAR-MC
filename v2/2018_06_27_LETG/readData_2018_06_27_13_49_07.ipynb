{
 "cells": [
  {
   "cell_type": "code",
   "execution_count": 1,
   "metadata": {},
   "outputs": [],
   "source": [
    "data_date = \"2018_06_27_13_49_07\"\n",
    "data_dir = \"/home/pleroy/DATA/2018_06_27_LETG/2018_06_27/jde/\" + data_date\n",
    "# selection in record\n",
    "firstFile = 0\n",
    "nbFiles = 379"
   ]
  },
  {
   "cell_type": "markdown",
   "metadata": {},
   "source": [
    "# Initialization"
   ]
  },
  {
   "cell_type": "code",
   "execution_count": 2,
   "metadata": {},
   "outputs": [],
   "source": [
    "import numpy as np\n",
    "import matplotlib.pyplot as plt\n",
    "%matplotlib qt5\n",
    "\n",
    "import sys\n",
    "import gc\n",
    "\n",
    "sys.path.insert(0, \"/home/pleroy/DEV/processing/PoSAR-MC\")\n",
    "from posarmctools.readdata import *\n",
    "\n",
    "%load_ext autoreload\n",
    "%autoreload 2\n",
    "\n",
    "sys.path.insert(0, \"/home/pleroy/DEV/processing/focalization_python\")\n",
    "from posarutils.other.read_data_and_build_rd import *\n",
    "from posarutils.other.PosarMCParameters import *"
   ]
  },
  {
   "cell_type": "markdown",
   "metadata": {},
   "source": [
    "# Parameters"
   ]
  },
  {
   "cell_type": "code",
   "execution_count": 3,
   "metadata": {},
   "outputs": [
    {
     "name": "stdout",
     "output_type": "stream",
     "text": [
      "requestedTRamp 1200.0\n",
      "configuredTRamp 1200.0\n",
      "startFrequency 5725000000.0\n",
      "stopFrequency 5875000000.0\n",
      "frequencyBand 150000000.0\n",
      "frequencyDevReq 50000.0\n",
      "frequencyDevConf 50001.1\n",
      "numberOfSteps 3000\n",
      "waveformType 1\n",
      "rampsPerBuffer 375\n",
      "bufferSize 9000000.0\n",
      "buffersPerFile 2\n",
      "rampsPerFile 750\n",
      "fileSize 18000000.0\n",
      "samplingFrequency 10000000.0\n",
      "samplesPerRamp 12000\n",
      "skipNSamples 0\n"
     ]
    }
   ],
   "source": [
    "params_filename = data_dir + \"/\" + data_date + \"_parameters.xml\"\n",
    "params = PosarMCParameters_v2( params_filename )\n",
    "params.print()"
   ]
  },
  {
   "cell_type": "code",
   "execution_count": 4,
   "metadata": {},
   "outputs": [
    {
     "name": "stdout",
     "output_type": "stream",
     "text": [
      "buffersPerFile = 2, samplesPerRamp = 12000, rampsPerFile = 750\n"
     ]
    }
   ],
   "source": [
    "buffersPerFile = params.buffersPerFile\n",
    "samplesPerRamp = params.samplesPerRamp\n",
    "rampsPerFile = params.rampsPerFile\n",
    "samplesPerFile = samplesPerRamp * rampsPerFile\n",
    "\n",
    "print( \"buffersPerFile = {}, samplesPerRamp = {}, rampsPerFile = {}\".format(\n",
    "    buffersPerFile, samplesPerRamp, rampsPerFile )\n",
    "     )\n",
    "\n",
    "lastFile = firstFile + nbFiles - 1\n",
    "firstBuffer = firstFile * buffersPerFile"
   ]
  },
  {
   "cell_type": "code",
   "execution_count": 5,
   "metadata": {},
   "outputs": [
    {
     "data": {
      "text/plain": [
       "378"
      ]
     },
     "execution_count": 5,
     "metadata": {},
     "output_type": "execute_result"
    }
   ],
   "source": [
    "lastFile"
   ]
  },
  {
   "cell_type": "markdown",
   "metadata": {},
   "source": [
    "# Read the data"
   ]
  },
  {
   "cell_type": "code",
   "execution_count": 6,
   "metadata": {},
   "outputs": [],
   "source": [
    "scalingFactor = 2 / 65535\n",
    "offset = -32768"
   ]
  },
  {
   "cell_type": "code",
   "execution_count": 7,
   "metadata": {},
   "outputs": [],
   "source": [
    "timeSerie_A = np.zeros( samplesPerFile )\n",
    "adc_A = np.zeros( (nbFiles, samplesPerFile) )"
   ]
  },
  {
   "cell_type": "code",
   "execution_count": 8,
   "metadata": {},
   "outputs": [
    {
     "name": "stdout",
     "output_type": "stream",
     "text": [
      "k = 0, block = 0 / 756\n",
      "k = 1, block = 2 / 756\n",
      "k = 2, block = 4 / 756\n",
      "k = 3, block = 6 / 756\n",
      "k = 4, block = 8 / 756\n",
      "k = 5, block = 10 / 756\n",
      "k = 6, block = 12 / 756\n",
      "k = 7, block = 14 / 756\n",
      "k = 8, block = 16 / 756\n",
      "k = 9, block = 18 / 756\n",
      "k = 10, block = 20 / 756\n",
      "k = 11, block = 22 / 756\n",
      "k = 12, block = 24 / 756\n",
      "k = 13, block = 26 / 756\n",
      "k = 14, block = 28 / 756\n",
      "k = 15, block = 30 / 756\n",
      "k = 16, block = 32 / 756\n",
      "k = 17, block = 34 / 756\n",
      "k = 18, block = 36 / 756\n",
      "k = 19, block = 38 / 756\n",
      "k = 20, block = 40 / 756\n",
      "k = 21, block = 42 / 756\n",
      "k = 22, block = 44 / 756\n",
      "k = 23, block = 46 / 756\n",
      "k = 24, block = 48 / 756\n",
      "k = 25, block = 50 / 756\n",
      "k = 26, block = 52 / 756\n",
      "k = 27, block = 54 / 756\n",
      "k = 28, block = 56 / 756\n",
      "k = 29, block = 58 / 756\n",
      "k = 30, block = 60 / 756\n",
      "k = 31, block = 62 / 756\n",
      "k = 32, block = 64 / 756\n",
      "k = 33, block = 66 / 756\n",
      "k = 34, block = 68 / 756\n",
      "k = 35, block = 70 / 756\n",
      "k = 36, block = 72 / 756\n",
      "k = 37, block = 74 / 756\n",
      "k = 38, block = 76 / 756\n",
      "k = 39, block = 78 / 756\n",
      "k = 40, block = 80 / 756\n",
      "k = 41, block = 82 / 756\n",
      "k = 42, block = 84 / 756\n",
      "k = 43, block = 86 / 756\n",
      "k = 44, block = 88 / 756\n",
      "k = 45, block = 90 / 756\n",
      "k = 46, block = 92 / 756\n",
      "k = 47, block = 94 / 756\n",
      "k = 48, block = 96 / 756\n",
      "k = 49, block = 98 / 756\n",
      "k = 50, block = 100 / 756\n",
      "k = 51, block = 102 / 756\n",
      "k = 52, block = 104 / 756\n",
      "k = 53, block = 106 / 756\n",
      "k = 54, block = 108 / 756\n",
      "k = 55, block = 110 / 756\n",
      "k = 56, block = 112 / 756\n",
      "k = 57, block = 114 / 756\n",
      "k = 58, block = 116 / 756\n",
      "k = 59, block = 118 / 756\n",
      "k = 60, block = 120 / 756\n",
      "k = 61, block = 122 / 756\n",
      "k = 62, block = 124 / 756\n",
      "k = 63, block = 126 / 756\n",
      "k = 64, block = 128 / 756\n",
      "k = 65, block = 130 / 756\n",
      "k = 66, block = 132 / 756\n",
      "k = 67, block = 134 / 756\n",
      "k = 68, block = 136 / 756\n",
      "k = 69, block = 138 / 756\n",
      "k = 70, block = 140 / 756\n",
      "k = 71, block = 142 / 756\n",
      "k = 72, block = 144 / 756\n",
      "k = 73, block = 146 / 756\n",
      "k = 74, block = 148 / 756\n",
      "k = 75, block = 150 / 756\n",
      "k = 76, block = 152 / 756\n",
      "k = 77, block = 154 / 756\n",
      "k = 78, block = 156 / 756\n",
      "k = 79, block = 158 / 756\n",
      "k = 80, block = 160 / 756\n",
      "k = 81, block = 162 / 756\n",
      "k = 82, block = 164 / 756\n",
      "k = 83, block = 166 / 756\n",
      "k = 84, block = 168 / 756\n",
      "k = 85, block = 170 / 756\n",
      "k = 86, block = 172 / 756\n",
      "k = 87, block = 174 / 756\n",
      "k = 88, block = 176 / 756\n",
      "k = 89, block = 178 / 756\n",
      "k = 90, block = 180 / 756\n",
      "k = 91, block = 182 / 756\n",
      "k = 92, block = 184 / 756\n",
      "k = 93, block = 186 / 756\n",
      "k = 94, block = 188 / 756\n",
      "k = 95, block = 190 / 756\n",
      "k = 96, block = 192 / 756\n",
      "k = 97, block = 194 / 756\n",
      "k = 98, block = 196 / 756\n",
      "k = 99, block = 198 / 756\n",
      "k = 100, block = 200 / 756\n",
      "k = 101, block = 202 / 756\n",
      "k = 102, block = 204 / 756\n",
      "k = 103, block = 206 / 756\n",
      "k = 104, block = 208 / 756\n",
      "k = 105, block = 210 / 756\n",
      "k = 106, block = 212 / 756\n",
      "k = 107, block = 214 / 756\n",
      "k = 108, block = 216 / 756\n",
      "k = 109, block = 218 / 756\n",
      "k = 110, block = 220 / 756\n",
      "k = 111, block = 222 / 756\n",
      "k = 112, block = 224 / 756\n",
      "k = 113, block = 226 / 756\n",
      "k = 114, block = 228 / 756\n",
      "k = 115, block = 230 / 756\n",
      "k = 116, block = 232 / 756\n",
      "k = 117, block = 234 / 756\n",
      "k = 118, block = 236 / 756\n",
      "k = 119, block = 238 / 756\n",
      "k = 120, block = 240 / 756\n",
      "k = 121, block = 242 / 756\n",
      "k = 122, block = 244 / 756\n",
      "k = 123, block = 246 / 756\n",
      "k = 124, block = 248 / 756\n",
      "k = 125, block = 250 / 756\n",
      "k = 126, block = 252 / 756\n",
      "k = 127, block = 254 / 756\n",
      "k = 128, block = 256 / 756\n",
      "k = 129, block = 258 / 756\n",
      "k = 130, block = 260 / 756\n",
      "k = 131, block = 262 / 756\n",
      "k = 132, block = 264 / 756\n",
      "k = 133, block = 266 / 756\n",
      "k = 134, block = 268 / 756\n",
      "k = 135, block = 270 / 756\n",
      "k = 136, block = 272 / 756\n",
      "k = 137, block = 274 / 756\n",
      "k = 138, block = 276 / 756\n",
      "k = 139, block = 278 / 756\n",
      "k = 140, block = 280 / 756\n",
      "k = 141, block = 282 / 756\n",
      "k = 142, block = 284 / 756\n",
      "k = 143, block = 286 / 756\n",
      "k = 144, block = 288 / 756\n",
      "k = 145, block = 290 / 756\n",
      "k = 146, block = 292 / 756\n",
      "k = 147, block = 294 / 756\n",
      "k = 148, block = 296 / 756\n",
      "k = 149, block = 298 / 756\n",
      "k = 150, block = 300 / 756\n",
      "k = 151, block = 302 / 756\n",
      "k = 152, block = 304 / 756\n",
      "k = 153, block = 306 / 756\n",
      "k = 154, block = 308 / 756\n",
      "k = 155, block = 310 / 756\n",
      "k = 156, block = 312 / 756\n",
      "k = 157, block = 314 / 756\n",
      "k = 158, block = 316 / 756\n",
      "k = 159, block = 318 / 756\n",
      "k = 160, block = 320 / 756\n",
      "k = 161, block = 322 / 756\n",
      "k = 162, block = 324 / 756\n",
      "k = 163, block = 326 / 756\n",
      "k = 164, block = 328 / 756\n",
      "k = 165, block = 330 / 756\n",
      "k = 166, block = 332 / 756\n",
      "k = 167, block = 334 / 756\n",
      "k = 168, block = 336 / 756\n",
      "k = 169, block = 338 / 756\n",
      "k = 170, block = 340 / 756\n",
      "k = 171, block = 342 / 756\n",
      "k = 172, block = 344 / 756\n",
      "k = 173, block = 346 / 756\n",
      "k = 174, block = 348 / 756\n",
      "k = 175, block = 350 / 756\n",
      "k = 176, block = 352 / 756\n",
      "k = 177, block = 354 / 756\n",
      "k = 178, block = 356 / 756\n",
      "k = 179, block = 358 / 756\n",
      "k = 180, block = 360 / 756\n",
      "k = 181, block = 362 / 756\n",
      "k = 182, block = 364 / 756\n",
      "k = 183, block = 366 / 756\n",
      "k = 184, block = 368 / 756\n",
      "k = 185, block = 370 / 756\n",
      "k = 186, block = 372 / 756\n",
      "k = 187, block = 374 / 756\n",
      "k = 188, block = 376 / 756\n",
      "k = 189, block = 378 / 756\n",
      "k = 190, block = 380 / 756\n",
      "k = 191, block = 382 / 756\n",
      "k = 192, block = 384 / 756\n",
      "k = 193, block = 386 / 756\n",
      "k = 194, block = 388 / 756\n",
      "k = 195, block = 390 / 756\n",
      "k = 196, block = 392 / 756\n",
      "k = 197, block = 394 / 756\n",
      "k = 198, block = 396 / 756\n",
      "k = 199, block = 398 / 756\n",
      "k = 200, block = 400 / 756\n",
      "k = 201, block = 402 / 756\n",
      "k = 202, block = 404 / 756\n",
      "k = 203, block = 406 / 756\n",
      "k = 204, block = 408 / 756\n",
      "k = 205, block = 410 / 756\n",
      "k = 206, block = 412 / 756\n",
      "k = 207, block = 414 / 756\n",
      "k = 208, block = 416 / 756\n",
      "k = 209, block = 418 / 756\n",
      "k = 210, block = 420 / 756\n",
      "k = 211, block = 422 / 756\n",
      "k = 212, block = 424 / 756\n",
      "k = 213, block = 426 / 756\n",
      "k = 214, block = 428 / 756\n",
      "k = 215, block = 430 / 756\n",
      "k = 216, block = 432 / 756\n",
      "k = 217, block = 434 / 756\n",
      "k = 218, block = 436 / 756\n",
      "k = 219, block = 438 / 756\n",
      "k = 220, block = 440 / 756\n",
      "k = 221, block = 442 / 756\n",
      "k = 222, block = 444 / 756\n",
      "k = 223, block = 446 / 756\n",
      "k = 224, block = 448 / 756\n",
      "k = 225, block = 450 / 756\n",
      "k = 226, block = 452 / 756\n",
      "k = 227, block = 454 / 756\n",
      "k = 228, block = 456 / 756\n",
      "k = 229, block = 458 / 756\n",
      "k = 230, block = 460 / 756\n",
      "k = 231, block = 462 / 756\n",
      "k = 232, block = 464 / 756\n",
      "k = 233, block = 466 / 756\n",
      "k = 234, block = 468 / 756\n",
      "k = 235, block = 470 / 756\n",
      "k = 236, block = 472 / 756\n",
      "k = 237, block = 474 / 756\n",
      "k = 238, block = 476 / 756\n",
      "k = 239, block = 478 / 756\n",
      "k = 240, block = 480 / 756\n",
      "k = 241, block = 482 / 756\n",
      "k = 242, block = 484 / 756\n",
      "k = 243, block = 486 / 756\n",
      "k = 244, block = 488 / 756\n",
      "k = 245, block = 490 / 756\n",
      "k = 246, block = 492 / 756\n",
      "k = 247, block = 494 / 756\n",
      "k = 248, block = 496 / 756\n",
      "k = 249, block = 498 / 756\n",
      "k = 250, block = 500 / 756\n",
      "k = 251, block = 502 / 756\n",
      "k = 252, block = 504 / 756\n",
      "k = 253, block = 506 / 756\n",
      "k = 254, block = 508 / 756\n",
      "k = 255, block = 510 / 756\n",
      "k = 256, block = 512 / 756\n",
      "k = 257, block = 514 / 756\n",
      "k = 258, block = 516 / 756\n",
      "k = 259, block = 518 / 756\n",
      "k = 260, block = 520 / 756\n",
      "k = 261, block = 522 / 756\n",
      "k = 262, block = 524 / 756\n",
      "k = 263, block = 526 / 756\n",
      "k = 264, block = 528 / 756\n",
      "k = 265, block = 530 / 756\n",
      "k = 266, block = 532 / 756\n",
      "k = 267, block = 534 / 756\n",
      "k = 268, block = 536 / 756\n",
      "k = 269, block = 538 / 756\n",
      "k = 270, block = 540 / 756\n",
      "k = 271, block = 542 / 756\n",
      "k = 272, block = 544 / 756\n",
      "k = 273, block = 546 / 756\n",
      "k = 274, block = 548 / 756\n",
      "k = 275, block = 550 / 756\n",
      "k = 276, block = 552 / 756\n",
      "k = 277, block = 554 / 756\n",
      "k = 278, block = 556 / 756\n",
      "k = 279, block = 558 / 756\n",
      "k = 280, block = 560 / 756\n",
      "k = 281, block = 562 / 756\n",
      "k = 282, block = 564 / 756\n",
      "k = 283, block = 566 / 756\n",
      "k = 284, block = 568 / 756\n",
      "k = 285, block = 570 / 756\n",
      "k = 286, block = 572 / 756\n",
      "k = 287, block = 574 / 756\n",
      "k = 288, block = 576 / 756\n",
      "k = 289, block = 578 / 756\n",
      "k = 290, block = 580 / 756\n",
      "k = 291, block = 582 / 756\n",
      "k = 292, block = 584 / 756\n",
      "k = 293, block = 586 / 756\n",
      "k = 294, block = 588 / 756\n",
      "k = 295, block = 590 / 756\n",
      "k = 296, block = 592 / 756\n",
      "k = 297, block = 594 / 756\n",
      "k = 298, block = 596 / 756\n",
      "k = 299, block = 598 / 756\n",
      "k = 300, block = 600 / 756\n",
      "k = 301, block = 602 / 756\n",
      "k = 302, block = 604 / 756\n",
      "k = 303, block = 606 / 756\n",
      "k = 304, block = 608 / 756\n",
      "k = 305, block = 610 / 756\n",
      "k = 306, block = 612 / 756\n",
      "k = 307, block = 614 / 756\n",
      "k = 308, block = 616 / 756\n",
      "k = 309, block = 618 / 756\n"
     ]
    },
    {
     "name": "stdout",
     "output_type": "stream",
     "text": [
      "k = 310, block = 620 / 756\n",
      "k = 311, block = 622 / 756\n",
      "k = 312, block = 624 / 756\n",
      "k = 313, block = 626 / 756\n",
      "k = 314, block = 628 / 756\n",
      "k = 315, block = 630 / 756\n",
      "k = 316, block = 632 / 756\n",
      "k = 317, block = 634 / 756\n",
      "k = 318, block = 636 / 756\n",
      "k = 319, block = 638 / 756\n",
      "k = 320, block = 640 / 756\n",
      "k = 321, block = 642 / 756\n",
      "k = 322, block = 644 / 756\n",
      "k = 323, block = 646 / 756\n",
      "k = 324, block = 648 / 756\n",
      "k = 325, block = 650 / 756\n",
      "k = 326, block = 652 / 756\n",
      "k = 327, block = 654 / 756\n",
      "k = 328, block = 656 / 756\n",
      "k = 329, block = 658 / 756\n",
      "k = 330, block = 660 / 756\n",
      "k = 331, block = 662 / 756\n",
      "k = 332, block = 664 / 756\n",
      "k = 333, block = 666 / 756\n",
      "k = 334, block = 668 / 756\n",
      "k = 335, block = 670 / 756\n",
      "k = 336, block = 672 / 756\n",
      "k = 337, block = 674 / 756\n",
      "k = 338, block = 676 / 756\n",
      "k = 339, block = 678 / 756\n",
      "k = 340, block = 680 / 756\n",
      "k = 341, block = 682 / 756\n",
      "k = 342, block = 684 / 756\n",
      "k = 343, block = 686 / 756\n",
      "k = 344, block = 688 / 756\n",
      "k = 345, block = 690 / 756\n",
      "k = 346, block = 692 / 756\n",
      "k = 347, block = 694 / 756\n",
      "k = 348, block = 696 / 756\n",
      "k = 349, block = 698 / 756\n",
      "k = 350, block = 700 / 756\n",
      "k = 351, block = 702 / 756\n",
      "k = 352, block = 704 / 756\n",
      "k = 353, block = 706 / 756\n",
      "k = 354, block = 708 / 756\n",
      "k = 355, block = 710 / 756\n",
      "k = 356, block = 712 / 756\n",
      "k = 357, block = 714 / 756\n",
      "k = 358, block = 716 / 756\n",
      "k = 359, block = 718 / 756\n",
      "k = 360, block = 720 / 756\n",
      "k = 361, block = 722 / 756\n",
      "k = 362, block = 724 / 756\n",
      "k = 363, block = 726 / 756\n",
      "k = 364, block = 728 / 756\n",
      "k = 365, block = 730 / 756\n",
      "k = 366, block = 732 / 756\n",
      "k = 367, block = 734 / 756\n",
      "k = 368, block = 736 / 756\n",
      "k = 369, block = 738 / 756\n",
      "k = 370, block = 740 / 756\n",
      "k = 371, block = 742 / 756\n",
      "k = 372, block = 744 / 756\n",
      "k = 373, block = 746 / 756\n",
      "k = 374, block = 748 / 756\n",
      "k = 375, block = 750 / 756\n",
      "k = 376, block = 752 / 756\n",
      "k = 377, block = 754 / 756\n",
      "k = 378, block = 756 / 756\n"
     ]
    }
   ],
   "source": [
    "lastBuffer = (nbFiles-1) * buffersPerFile + firstBuffer\n",
    "for k in range( nbFiles ):\n",
    "    \n",
    "    # read the data\n",
    "    nb = str( int( k * buffersPerFile + firstBuffer) )\n",
    "    filename = data_dir + \"/record\" + nb + \".bin\"\n",
    "    readFileADLINKCh0( filename, samplesPerFile, timeSerie_A )\n",
    "    \n",
    "    print(\"k = {}, block = {} / {}\".format(k, nb, lastBuffer))\n",
    "    \n",
    "    adc_A[ k, : ] = (timeSerie_A + offset) * scalingFactor"
   ]
  },
  {
   "cell_type": "code",
   "execution_count": 9,
   "metadata": {},
   "outputs": [],
   "source": [
    "A_reshaped = adc_A.reshape(nbFiles * rampsPerFile, samplesPerRamp)"
   ]
  },
  {
   "cell_type": "markdown",
   "metadata": {},
   "source": [
    "**Check that the first ramp is an up ramp**"
   ]
  },
  {
   "cell_type": "code",
   "execution_count": 10,
   "metadata": {},
   "outputs": [],
   "source": [
    "plt.figure()\n",
    "plt.plot( A_reshaped[0, :] )\n",
    "title = \"first acquisition \" + data_date\n",
    "plt.title(title)\n",
    "plt.grid()\n",
    "plt.savefig( data_dir + \"/\" + title + \".png\", bbox_inches='tight')"
   ]
  },
  {
   "cell_type": "markdown",
   "metadata": {},
   "source": [
    "**Set the shifted flag properly**"
   ]
  },
  {
   "cell_type": "code",
   "execution_count": 11,
   "metadata": {},
   "outputs": [],
   "source": [
    "rampDownFirst = 1"
   ]
  },
  {
   "cell_type": "markdown",
   "metadata": {},
   "source": [
    "# Build RD"
   ]
  },
  {
   "cell_type": "code",
   "execution_count": 12,
   "metadata": {},
   "outputs": [
    {
     "name": "stdout",
     "output_type": "stream",
     "text": [
      "shape of the samples matrix = (284250, 12000)\n",
      "with Hanning window\n",
      "ramp down first in the data files\n"
     ]
    }
   ],
   "source": [
    "#RDc = build_rd_from_data( params, A_reshaped, shifted )\n",
    "withHanning = 1\n",
    "RDc = build_rd_from_data_rampDown( params, A_reshaped, rampDownFirst, withHanning )"
   ]
  },
  {
   "cell_type": "code",
   "execution_count": 13,
   "metadata": {},
   "outputs": [
    {
     "data": {
      "text/plain": [
       "2430"
      ]
     },
     "execution_count": 13,
     "metadata": {},
     "output_type": "execute_result"
    }
   ],
   "source": [
    "A_reshaped = None\n",
    "adc_A = None\n",
    "gc.collect()"
   ]
  },
  {
   "cell_type": "code",
   "execution_count": 14,
   "metadata": {},
   "outputs": [],
   "source": [
    "coupling_RD = np.average(RDc, 0)\n",
    "if withHanning:\n",
    "    np.save( data_dir + \"/coupling_RD_files_{}_{}_rampDown_hanning\".format(firstFile, lastFile), coupling_RD )\n",
    "else:\n",
    "    np.save( data_dir + \"/coupling_RD_files_{}_{}_rampDown\".format(firstFile, lastFile), coupling_RD )"
   ]
  },
  {
   "cell_type": "code",
   "execution_count": 15,
   "metadata": {},
   "outputs": [],
   "source": [
    "plt.figure()\n",
    "plt.plot(np.abs(coupling_RD), 'k', label='coupling')\n",
    "plt.legend()\n",
    "plt.grid()"
   ]
  },
  {
   "cell_type": "code",
   "execution_count": 16,
   "metadata": {},
   "outputs": [],
   "source": [
    "# save RD data\n",
    "RD = np.fft.ifftshift(RDc, 1)"
   ]
  },
  {
   "cell_type": "code",
   "execution_count": 17,
   "metadata": {},
   "outputs": [],
   "source": [
    "np.save(data_dir + '/np_fft_ifftshift(RD1, 1)_{}_{}'.format(firstFile, lastFile), RD) "
   ]
  },
  {
   "cell_type": "code",
   "execution_count": null,
   "metadata": {},
   "outputs": [],
   "source": []
  }
 ],
 "metadata": {
  "kernelspec": {
   "display_name": "Python 3",
   "language": "python",
   "name": "python3"
  },
  "language_info": {
   "codemirror_mode": {
    "name": "ipython",
    "version": 3
   },
   "file_extension": ".py",
   "mimetype": "text/x-python",
   "name": "python",
   "nbconvert_exporter": "python",
   "pygments_lexer": "ipython3",
   "version": "3.6.6"
  },
  "toc": {
   "base_numbering": 1,
   "nav_menu": {},
   "number_sections": true,
   "sideBar": true,
   "skip_h1_title": false,
   "title_cell": "Table of Contents",
   "title_sidebar": "Contents",
   "toc_cell": false,
   "toc_position": {},
   "toc_section_display": true,
   "toc_window_display": true
  }
 },
 "nbformat": 4,
 "nbformat_minor": 2
}
