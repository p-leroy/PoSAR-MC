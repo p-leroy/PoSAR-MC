{
 "cells": [
  {
   "cell_type": "code",
   "execution_count": 24,
   "metadata": {},
   "outputs": [],
   "source": [
    "import numpy as np\n",
    "import matplotlib.pyplot as plt\n",
    "%matplotlib qt5\n",
    "eps = np.finfo(dtype=float).eps"
   ]
  },
  {
   "cell_type": "code",
   "execution_count": 6,
   "metadata": {},
   "outputs": [],
   "source": [
    "import sys"
   ]
  },
  {
   "cell_type": "code",
   "execution_count": 7,
   "metadata": {},
   "outputs": [],
   "source": [
    "sys.path.insert(0, \"/home/pleroy/DEV/processing/focalization_python\")"
   ]
  },
  {
   "cell_type": "code",
   "execution_count": 8,
   "metadata": {},
   "outputs": [],
   "source": [
    "from posarutils.process.filtering import box_filter"
   ]
  },
  {
   "cell_type": "code",
   "execution_count": 2,
   "metadata": {},
   "outputs": [],
   "source": [
    "data_date = \"2018_06_27_12_39_39\"\n",
    "data_dir = \"/home/pleroy/DATA/2018_06_27_LETG/2018_06_27/jde/\" + data_date"
   ]
  },
  {
   "cell_type": "code",
   "execution_count": 16,
   "metadata": {},
   "outputs": [],
   "source": [
    "name = \"2018_06_27_12_39_39 0 49 GR 1743.32 2224.30 1.0 AZ 8050.16 7040.87 1.0 EL 50 PHI 20.0 rampDown Hann nav.npy\"\n",
    "filename = data_dir + \"/\" + name\n",
    "img_nav = np.load( filename )\n",
    "\n",
    "name = \"2018_06_27_12_39_39 0 49 GR 1743.32 2224.30 1.0 AZ 8050.16 7040.87 1.0 EL 50 PHI 20.0 rampDown Hann.npy\"\n",
    "filename = data_dir + \"/\" + name\n",
    "img_gps = np.load( filename )\n",
    "\n",
    "nbX = 1001\n",
    "nbY = 501"
   ]
  },
  {
   "cell_type": "code",
   "execution_count": 63,
   "metadata": {},
   "outputs": [],
   "source": [
    "mod = 0\n",
    "db = 1\n",
    "med_dyn = 0\n",
    "box = 2"
   ]
  },
  {
   "cell_type": "code",
   "execution_count": 67,
   "metadata": {},
   "outputs": [],
   "source": [
    "def processImg(img, mod, db, med_dyn, box):\n",
    "    if mod:\n",
    "        disp_im = np.abs( img )\n",
    "    elif db:\n",
    "        disp_im = 20 * np.log10( np.abs( img ) + eps )\n",
    "\n",
    "    if( med_dyn > 0 ):\n",
    "        med = np.median( disp_im )\n",
    "        disp_im = np.minimum( \n",
    "            np.maximum( disp_im, med - med_dyn / 2 ), \n",
    "            med + med_dyn / 2 )\n",
    "        \n",
    "    return box_filter( disp_im , 2 )"
   ]
  },
  {
   "cell_type": "code",
   "execution_count": 68,
   "metadata": {},
   "outputs": [
    {
     "name": "stdout",
     "output_type": "stream",
     "text": [
      "im.shape = (501, 1001)\n",
      "im.shape = (501, 1001)\n"
     ]
    }
   ],
   "source": [
    "img_gps_a = processImg(img_gps.reshape(nbY, nbX), mod, db, med_dyn, box)\n",
    "img_nav_a = processImg(img_nav.reshape(nbY, nbX), mod, db, med_dyn, box)"
   ]
  },
  {
   "cell_type": "code",
   "execution_count": 75,
   "metadata": {},
   "outputs": [
    {
     "data": {
      "text/plain": [
       "<matplotlib.colorbar.Colorbar at 0x7f2b74fa80b8>"
      ]
     },
     "execution_count": 75,
     "metadata": {},
     "output_type": "execute_result"
    }
   ],
   "source": [
    "cmap=\"gray\"\n",
    "\n",
    "vmin = -10\n",
    "vmax = 20\n",
    "\n",
    "plt.figure()\n",
    "\n",
    "ax = plt.subplot(211)\n",
    "plt.imshow( img_gps_a, cmap=cmap )\n",
    "plt.grid()\n",
    "plt.title(\"gps\")\n",
    "plt.colorbar()\n",
    "\n",
    "plt.subplot(212, sharex=ax, sharey=ax)\n",
    "plt.imshow( img_nav_a, cmap=cmap )\n",
    "plt.grid()\n",
    "plt.title(\"nav\")\n",
    "plt.colorbar()"
   ]
  },
  {
   "cell_type": "code",
   "execution_count": null,
   "metadata": {},
   "outputs": [],
   "source": []
  }
 ],
 "metadata": {
  "kernelspec": {
   "display_name": "Python 3",
   "language": "python",
   "name": "python3"
  },
  "language_info": {
   "codemirror_mode": {
    "name": "ipython",
    "version": 3
   },
   "file_extension": ".py",
   "mimetype": "text/x-python",
   "name": "python",
   "nbconvert_exporter": "python",
   "pygments_lexer": "ipython3",
   "version": "3.7.1"
  },
  "toc": {
   "base_numbering": 1,
   "nav_menu": {},
   "number_sections": true,
   "sideBar": true,
   "skip_h1_title": false,
   "title_cell": "Table of Contents",
   "title_sidebar": "Contents",
   "toc_cell": false,
   "toc_position": {},
   "toc_section_display": true,
   "toc_window_display": true
  },
  "varInspector": {
   "cols": {
    "lenName": 16,
    "lenType": 16,
    "lenVar": 40
   },
   "kernels_config": {
    "python": {
     "delete_cmd_postfix": "",
     "delete_cmd_prefix": "del ",
     "library": "var_list.py",
     "varRefreshCmd": "print(var_dic_list())"
    },
    "r": {
     "delete_cmd_postfix": ") ",
     "delete_cmd_prefix": "rm(",
     "library": "var_list.r",
     "varRefreshCmd": "cat(var_dic_list()) "
    }
   },
   "types_to_exclude": [
    "module",
    "function",
    "builtin_function_or_method",
    "instance",
    "_Feature"
   ],
   "window_display": false
  }
 },
 "nbformat": 4,
 "nbformat_minor": 2
}
