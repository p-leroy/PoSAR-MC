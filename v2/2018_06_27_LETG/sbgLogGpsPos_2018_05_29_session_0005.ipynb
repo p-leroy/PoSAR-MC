{
 "cells": [
  {
   "cell_type": "markdown",
   "metadata": {},
   "source": [
    "# Initialisation"
   ]
  },
  {
   "cell_type": "code",
   "execution_count": 1,
   "metadata": {},
   "outputs": [],
   "source": [
    "root_dir = \"/home/pleroy/DATA/2018_06_27_LETG/2018_06_27/jde/\""
   ]
  },
  {
   "cell_type": "markdown",
   "metadata": {},
   "source": [
    "## General imports"
   ]
  },
  {
   "cell_type": "code",
   "execution_count": 2,
   "metadata": {},
   "outputs": [],
   "source": [
    "import io\n",
    "import csv\n",
    "import os.path\n",
    "\n",
    "import numpy as np\n",
    "import numexpr as ne\n",
    "import matplotlib.pyplot as plt\n",
    "\n",
    "%matplotlib qt5"
   ]
  },
  {
   "cell_type": "code",
   "execution_count": 3,
   "metadata": {},
   "outputs": [],
   "source": [
    "import sys"
   ]
  },
  {
   "cell_type": "code",
   "execution_count": 4,
   "metadata": {},
   "outputs": [],
   "source": [
    "sys.path.insert(0, \"/home/pleroy/DEV/processing/PoSAR-MC\")\n",
    "from posarmctools.ekfnavtools import *"
   ]
  },
  {
   "cell_type": "code",
   "execution_count": 5,
   "metadata": {},
   "outputs": [],
   "source": [
    "sys.path.insert(0, \"/home/pleroy/DEV/processing/focalization_python\")\n",
    "from posarutils.other.PosarMCParameters import *"
   ]
  },
  {
   "cell_type": "code",
   "execution_count": 6,
   "metadata": {},
   "outputs": [],
   "source": [
    "%load_ext autoreload\n",
    "%autoreload 2"
   ]
  },
  {
   "cell_type": "code",
   "execution_count": 7,
   "metadata": {},
   "outputs": [],
   "source": [
    "withPlots = 0"
   ]
  },
  {
   "cell_type": "markdown",
   "metadata": {},
   "source": [
    "## EPSG transformations"
   ]
  },
  {
   "cell_type": "code",
   "execution_count": 8,
   "metadata": {},
   "outputs": [],
   "source": [
    "import mpl_toolkits.basemap.pyproj as pyproj"
   ]
  },
  {
   "cell_type": "code",
   "execution_count": 9,
   "metadata": {},
   "outputs": [],
   "source": [
    "# Define some common projections using EPSG codes\n",
    "wgs84 = pyproj.Proj(\"+init=EPSG:4326\") # LatLon with WGS84 datum used by GPS units and Google Earth\n",
    "epsg3857 = pyproj.Proj(\"+init=EPSG:3857\") # WGS84 / Pseudo Mercator\n",
    "epsg3395 = pyproj.Proj(\"+init=EPSG:3395\") # WGS84 / World Mercator\n",
    "epsg3948 = pyproj.Proj(\"+init=EPSG:3948\") # RGF93 / CC48 Projected coordinate system\n",
    "\n",
    "epsg3xxx = epsg3948 # epsg3857 does not seem to keep distances"
   ]
  },
  {
   "cell_type": "code",
   "execution_count": 10,
   "metadata": {},
   "outputs": [],
   "source": [
    "def transform( Long_Lat, shift=0, orig=(0,0) ):\n",
    "    \n",
    "    if shift:\n",
    "        epsg = pyproj.transform(wgs84, epsg3xxx, Long_Lat[0], Long_Lat[1])\n",
    "        epsg = (epsg[0] - orig[0], epsg[1] - orig[1])\n",
    "    else:\n",
    "        epsg = pyproj.transform(wgs84, epsg3xxx, Long_Lat[0], Long_Lat[1])\n",
    "        \n",
    "    return epsg"
   ]
  },
  {
   "cell_type": "code",
   "execution_count": 11,
   "metadata": {},
   "outputs": [],
   "source": [
    "if epsg3xxx == epsg3857:\n",
    "    origXY = (-180000, 6183000) # epsg 3857\n",
    "    shiftXY = 1\n",
    "    xlim = 17500\n",
    "    ylim = 17500\n",
    "    epsgStr = \"epsg3857\"\n",
    "    \n",
    "if epsg3xxx == epsg3948:\n",
    "    origXY = (1360000, 7260000)\n",
    "    shiftXY = 1\n",
    "    xlim = 11000\n",
    "    ylim = 12000\n",
    "    epsgStr = \"epsg3948\""
   ]
  },
  {
   "cell_type": "markdown",
   "metadata": {},
   "source": [
    "## Scene remarkable points"
   ]
  },
  {
   "cell_type": "code",
   "execution_count": 12,
   "metadata": {},
   "outputs": [],
   "source": [
    "def getLatLong( a, b ):\n",
    "    Da = float(a.split(\"°\")[0])\n",
    "    r = a.split(\"°\")[1]\n",
    "    Ma = float(r.split(\"'\")[0])\n",
    "    r = r.split(\"'\")[1]\n",
    "    Sa = float(r.split(\"N\")[0])\n",
    "    \n",
    "    Db = float(b.split(\"°\")[0])\n",
    "    r = b.split(\"°\")[1]\n",
    "    Mb = float(r.split(\"'\")[0])\n",
    "    r = r.split(\"'\")[1]\n",
    "    Sb = float(r.split(\"W\")[0])\n",
    "    \n",
    "    return ( Da + Ma/60 + Sa/3600, -(Db + Mb/60 + Sb/3600) )"
   ]
  },
  {
   "cell_type": "code",
   "execution_count": 13,
   "metadata": {},
   "outputs": [],
   "source": [
    "J1 = [ 48 + 28/60 + 8.08/3600, -(1 + 29/60 + 26.72/3600) ]\n",
    "J2 = [ 48 + 32/60 + 31.59/3600, -(1 + 35/60 + 15.44/3600) ]\n",
    "J3 = [ 48 + 32/60 + 36.80/3600, -(1 + 35/60 + 4.86/3600) ]   \n",
    "J4 = [ 48 + 28/60 + 15.03/3600, -(1 + 29/60 + 16.23/3600) ]\n",
    "J5 = getLatLong( \"48°28'21.95N\", \"1°29'5.65W\" )\n",
    "J6 = getLatLong( \"48°32'42.05N\", \"1°34'54.30W\" )\n",
    "J7 = getLatLong( \"48°32'47.28N\", \"1°34'43.73W\" )\n",
    "J8 = getLatLong( \"48°28'28.87N\", \"1°28'55.04W\" )\n",
    "J9 = getLatLong( \"48°28'35.79N\", \"1°28'44.44W\" )\n",
    "J10 = getLatLong( \"48°32'52.51N\", \"1°34'33.18W\" )\n",
    "J11 = [ 48 + 32 / 60 + 57.92 / 3600, -(1 + 34 / 60 + 22.25 / 3600) ]\n",
    "J12 = [ 48 + 28 / 60 + 42.91 / 3600, -(1 + 28 / 60 + 33.18 / 3600) ]\n",
    "\n",
    "J1_epsg = transform( J1[::-1], shiftXY, origXY )\n",
    "J2_epsg = transform( J2[::-1], shiftXY, origXY )\n",
    "J3_epsg = transform( J3[::-1], shiftXY, origXY )\n",
    "J4_epsg = transform( J4[::-1], shiftXY, origXY )\n",
    "J5_epsg = transform( J5[::-1], shiftXY, origXY )\n",
    "J6_epsg = transform( J6[::-1], shiftXY, origXY )\n",
    "J7_epsg = transform( J7[::-1], shiftXY, origXY )\n",
    "J8_epsg = transform( J8[::-1], shiftXY, origXY )\n",
    "J9_epsg = transform( J9[::-1], shiftXY, origXY )\n",
    "J10_epsg = transform( J10[::-1], shiftXY, origXY )\n",
    "J11_epsg = transform( J11[::-1], shiftXY, origXY )\n",
    "J12_epsg = transform( J12[::-1], shiftXY, origXY )\n",
    "\n",
    "np.save( root_dir + \"J1_epsg\", J1_epsg )\n",
    "np.save( root_dir + \"J2_epsg\", J2_epsg )\n",
    "np.save( root_dir + \"J3_epsg\", J3_epsg )\n",
    "np.save( root_dir + \"J4_epsg\", J4_epsg )\n",
    "np.save( root_dir + \"J5_epsg\", J5_epsg )\n",
    "np.save( root_dir + \"J6_epsg\", J6_epsg )\n",
    "np.save( root_dir + \"J7_epsg\", J7_epsg )\n",
    "np.save( root_dir + \"J8_epsg\", J8_epsg )\n",
    "np.save( root_dir + \"J9_epsg\", J9_epsg )\n",
    "np.save( root_dir + \"J10_epsg\", J10_epsg )\n",
    "np.save( root_dir + \"J11_epsg\", J11_epsg )\n",
    "np.save( root_dir + \"J12_epsg\", J12_epsg )"
   ]
  },
  {
   "cell_type": "markdown",
   "metadata": {},
   "source": [
    "# SBG data"
   ]
  },
  {
   "cell_type": "markdown",
   "metadata": {},
   "source": [
    "## data path definitions"
   ]
  },
  {
   "cell_type": "code",
   "execution_count": 14,
   "metadata": {},
   "outputs": [],
   "source": [
    "day = \"2018_06_27\"\n",
    "prefix = \"/home/pleroy/DATA/2018_06_27_LETG/dataLogger/session_0005/\" + day + \"/\"\n",
    "\n",
    "hours = [\"09h00\", \"10h00\", \"11h00\", \"12h00\"]\n",
    "nbHours = len(hours)\n",
    "\n",
    "logEkfEuler = [ prefix + h + \"/sbgLogEkfEuler.dat\" for h in hours ]\n",
    "logEkfNav  = [ prefix + h + \"/sbgLogEkfNav.dat\" for h in hours ]\n",
    "logUtcData = [ prefix + h + \"/sbgLogUtcData.dat\" for h in hours ]\n",
    "logGpsPos = [ prefix + h + \"/sbgLogGpsPos.csv\" for h in hours ]\n",
    "logGpsVel = [ prefix + h + \"/sbgLogGpsVel.dat\" for h in hours ]\n",
    "logEventB = [ prefix + h + \"/sbgLogEventB.dat\" for h in hours ]"
   ]
  },
  {
   "cell_type": "markdown",
   "metadata": {},
   "source": [
    "##  logGpsPos"
   ]
  },
  {
   "cell_type": "code",
   "execution_count": 15,
   "metadata": {},
   "outputs": [],
   "source": [
    "idx_gpsPos_lat = 3\n",
    "idx_gpsPos_long = 4\n",
    "idx_gpsPos_alt = 5\n",
    "idx_gps_lat = 1\n",
    "idx_gps_long = 2\n",
    "idx_gps_alt = 3\n",
    "\n",
    "def loadLogGpsPos( gps, n ):\n",
    "    for idx in range(n):\n",
    "        gps.append( np.loadtxt( logGpsPos[idx], skiprows = 1, delimiter = ',',\n",
    "                               usecols = (0, idx_gpsPos_lat, idx_gpsPos_long, idx_gpsPos_alt) ) )"
   ]
  },
  {
   "cell_type": "markdown",
   "metadata": {},
   "source": [
    "### Load data"
   ]
  },
  {
   "cell_type": "code",
   "execution_count": 16,
   "metadata": {},
   "outputs": [],
   "source": [
    "gps=[]\n",
    "loadLogGpsPos( gps, nbHours )"
   ]
  },
  {
   "cell_type": "code",
   "execution_count": 17,
   "metadata": {},
   "outputs": [],
   "source": [
    "gps_all = gps[0]\n",
    "for idx in range(1, 4):\n",
    "    gps_all = np.concatenate( (gps_all, gps[idx]), axis=0 )"
   ]
  },
  {
   "cell_type": "code",
   "execution_count": 18,
   "metadata": {},
   "outputs": [],
   "source": [
    "Lat = gps_all[:,idx_gps_lat]\n",
    "Long = gps_all[:,idx_gps_long]\n",
    "Alt = gps_all[:,idx_gps_alt]"
   ]
  },
  {
   "cell_type": "markdown",
   "metadata": {},
   "source": [
    "### Plot navigation data jointly with track references"
   ]
  },
  {
   "cell_type": "code",
   "execution_count": 19,
   "metadata": {},
   "outputs": [],
   "source": [
    "plt.figure()\n",
    "ax = plt.subplot(111)\n",
    "plotLongLatAndTrackReferences( ax, Long, Lat )\n",
    "plotRunaway( ax )\n",
    "plt.title( \"GPS data and track references\\n\" + prefix )\n",
    "plt.grid()"
   ]
  },
  {
   "cell_type": "markdown",
   "metadata": {},
   "source": [
    "### Shift timestamps"
   ]
  },
  {
   "cell_type": "code",
   "execution_count": 20,
   "metadata": {},
   "outputs": [],
   "source": [
    "gpsTimestamps = gps_all[:, 0]"
   ]
  },
  {
   "cell_type": "code",
   "execution_count": 21,
   "metadata": {},
   "outputs": [
    {
     "name": "stdout",
     "output_type": "stream",
     "text": [
      "k = 3734\n",
      "k = 25209\n",
      "k = 46684\n"
     ]
    }
   ],
   "source": [
    "for k in range(1,gpsTimestamps.shape[0]):\n",
    "    if gpsTimestamps[k] < gpsTimestamps[k-1]:\n",
    "        print(\"k = {}\".format(k))"
   ]
  },
  {
   "cell_type": "code",
   "execution_count": 22,
   "metadata": {},
   "outputs": [],
   "source": [
    "k1 = 3734\n",
    "k2 = 25209\n",
    "k3 = 46684\n",
    "gpsNewTimestamps = np.concatenate( (gpsTimestamps[:k1],\n",
    "                                    gpsTimestamps[k1:k2] + 1*2**32, \n",
    "                                    gpsTimestamps[k2:k3] + 2*2**32, \n",
    "                                    gpsTimestamps[k3:] + 3*2**32) )"
   ]
  },
  {
   "cell_type": "code",
   "execution_count": 23,
   "metadata": {},
   "outputs": [],
   "source": [
    "if withPlots:\n",
    "    plt.figure()\n",
    "    plt.plot( gpsNewTimestamps, 'o' )\n",
    "    plt.plot( gpsTimestamps,'.' )\n",
    "    plt.grid()"
   ]
  },
  {
   "cell_type": "markdown",
   "metadata": {},
   "source": [
    "### Transform GPS data"
   ]
  },
  {
   "cell_type": "code",
   "execution_count": 24,
   "metadata": {},
   "outputs": [],
   "source": [
    "idx_lat = 1\n",
    "idx_long = 2"
   ]
  },
  {
   "cell_type": "code",
   "execution_count": 25,
   "metadata": {},
   "outputs": [],
   "source": [
    "idx = 0\n",
    "x0, y0 = transform( (gps[idx][:,idx_long], gps[idx][:,idx_lat]), shiftXY, origXY )\n",
    "\n",
    "idx = 1\n",
    "x1, y1 = transform( (gps[idx][:,idx_long], gps[idx][:,idx_lat]), shiftXY, origXY )\n",
    "\n",
    "idx = 2\n",
    "x2, y2 = transform( (gps[idx][:,idx_long], gps[idx][:,idx_lat]), shiftXY, origXY )\n",
    "\n",
    "idx = 3\n",
    "x3, y3 = transform( (gps[idx][:,idx_long], gps[idx][:,idx_lat]), shiftXY, origXY )\n",
    "\n",
    "x = [x0, x1, x2, x3]\n",
    "y = [y0, y1, y2, y3]"
   ]
  },
  {
   "cell_type": "code",
   "execution_count": 26,
   "metadata": {},
   "outputs": [],
   "source": [
    "plt.figure()\n",
    "for idx in range(4):\n",
    "    plt.plot( x[idx], y[idx], label=hours[idx] )\n",
    "    \n",
    "plt.plot( J1_epsg[0], J1_epsg[1], 'oy', markeredgecolor = 'black' )\n",
    "plt.plot( J2_epsg[0], J2_epsg[1], 'oy', markeredgecolor = 'black' )\n",
    "plt.plot( J11_epsg[0], J11_epsg[1], 'oy', markeredgecolor = 'black' )\n",
    "plt.plot( J12_epsg[0], J12_epsg[1], 'oy', markeredgecolor = 'black' )\n",
    "\n",
    "plt.xlabel(\"x\")\n",
    "plt.ylabel(\"y\")\n",
    "plt.grid()\n",
    "plt.legend()\n",
    "title = epsgStr + day\n",
    "plt.title(title)\n",
    "plt.axes().set_aspect('equal')"
   ]
  },
  {
   "cell_type": "code",
   "execution_count": 27,
   "metadata": {},
   "outputs": [],
   "source": [
    "gps_proj = transform( (Long, Lat), shiftXY, origXY )\n",
    "np.save( root_dir + \"gps_epsg_transform\", gps_proj )"
   ]
  },
  {
   "cell_type": "markdown",
   "metadata": {},
   "source": [
    "## logGpsVel"
   ]
  },
  {
   "cell_type": "markdown",
   "metadata": {},
   "source": [
    "### Load data"
   ]
  },
  {
   "cell_type": "code",
   "execution_count": 28,
   "metadata": {},
   "outputs": [],
   "source": [
    "idx_gpsVel_north = 3\n",
    "idx_gpsVel_east = 4\n",
    "idx_gpsVel_down = 5\n",
    "idx_gpsVel_course = 9\n",
    "\n",
    "vel=[]\n",
    "for idx in range(4):\n",
    "    vel.append( np.loadtxt( logGpsVel[idx], skiprows = 1,\n",
    "                           usecols = (0, idx_gpsVel_north, idx_gpsVel_east, idx_gpsVel_down, idx_gpsVel_course) ) )"
   ]
  },
  {
   "cell_type": "code",
   "execution_count": 29,
   "metadata": {},
   "outputs": [],
   "source": [
    "vel_all = vel[0]\n",
    "for idx in range(1, 4):\n",
    "    vel_all = np.concatenate( (vel_all, vel[idx]), axis=0 )"
   ]
  },
  {
   "cell_type": "code",
   "execution_count": 30,
   "metadata": {},
   "outputs": [],
   "source": [
    "Vel = ( vel_all[:,1]**2 + vel_all[:,2]**2 + vel_all[:,3]**2) **0.5\n",
    "course = vel_all[:,4]"
   ]
  },
  {
   "cell_type": "markdown",
   "metadata": {},
   "source": [
    "## sbgLogEventB"
   ]
  },
  {
   "cell_type": "markdown",
   "metadata": {},
   "source": [
    "### Load data"
   ]
  },
  {
   "cell_type": "code",
   "execution_count": 31,
   "metadata": {},
   "outputs": [],
   "source": [
    "event = []\n",
    "for idx in range(4):\n",
    "    event.append( np.loadtxt( logEventB[idx], skiprows = 1, usecols = 0 ) )\n",
    "\n",
    "indexes = []\n",
    "indexes.append( np.arange(event[0].size) )\n",
    "for idx in range(1, 4):\n",
    "    indexes.append( np.arange(event[idx].size)+indexes[idx-1][-1]+1)"
   ]
  },
  {
   "cell_type": "code",
   "execution_count": 32,
   "metadata": {},
   "outputs": [],
   "source": [
    "event_all = event[0]\n",
    "for idx in range(1, 4):\n",
    "    event_all = np.concatenate( (event_all, event[idx]), axis=0 )"
   ]
  },
  {
   "cell_type": "code",
   "execution_count": 33,
   "metadata": {},
   "outputs": [],
   "source": [
    "plt.figure()\n",
    "for idx in range(4):\n",
    "    plt.plot( indexes[idx], event[idx]/1e6, \".\", label = \"{}\".format(hours[idx]) )\n",
    "    \n",
    "plt.legend()\n",
    "plt.grid()"
   ]
  },
  {
   "cell_type": "code",
   "execution_count": 34,
   "metadata": {},
   "outputs": [],
   "source": [
    "plt.figure()\n",
    "for idx in range(4):\n",
    "    plt.plot( indexes[idx][:-1], np.diff(event[idx])/1e6, \".\", label = \"{}\".format(hours[idx]) )\n",
    "    \n",
    "plt.legend()\n",
    "plt.grid()"
   ]
  },
  {
   "cell_type": "markdown",
   "metadata": {},
   "source": [
    "## logUtcData"
   ]
  },
  {
   "cell_type": "markdown",
   "metadata": {},
   "source": [
    "### Load data"
   ]
  },
  {
   "cell_type": "code",
   "execution_count": 35,
   "metadata": {},
   "outputs": [],
   "source": [
    "#timeStamp status year month day hour minute second nanoSecond gpsTimeOfWeek\n",
    "idx_h = 5\n",
    "idx_m = 6\n",
    "idx_s = 7\n",
    "idx_nano = 8\n",
    "\n",
    "utc = []\n",
    "for idx in range(4):\n",
    "    utc.append( np.loadtxt( logUtcData[idx], skiprows = 1, usecols = (0, idx_h, idx_m, idx_s, idx_nano) ) )"
   ]
  },
  {
   "cell_type": "code",
   "execution_count": 36,
   "metadata": {},
   "outputs": [],
   "source": [
    "utc_all = utc[0]\n",
    "for idx in range(1, 4):\n",
    "    utc_all = np.concatenate( (utc_all, utc[idx]), axis=0 )"
   ]
  },
  {
   "cell_type": "code",
   "execution_count": 37,
   "metadata": {},
   "outputs": [
    {
     "name": "stdout",
     "output_type": "stream",
     "text": [
      "9.0 : 13.0 : 50.750\n",
      "12.0 : 45.0 : 37.775\n"
     ]
    }
   ],
   "source": [
    "printUtc( 0, utc_all )\n",
    "printUtc( -1, utc_all )"
   ]
  },
  {
   "cell_type": "code",
   "execution_count": 38,
   "metadata": {},
   "outputs": [],
   "source": [
    "utcTimestamps = utc_all[:, 0]"
   ]
  },
  {
   "cell_type": "markdown",
   "metadata": {},
   "source": [
    "### Shift timestamps"
   ]
  },
  {
   "cell_type": "code",
   "execution_count": 39,
   "metadata": {},
   "outputs": [
    {
     "name": "stdout",
     "output_type": "stream",
     "text": [
      "k = 149353\n",
      "k = 1008346\n",
      "k = 1867340\n"
     ]
    }
   ],
   "source": [
    "for k in range(1,utcTimestamps.shape[0]):\n",
    "    if utcTimestamps[k] < utcTimestamps[k-1]:\n",
    "        print(\"k = {}\".format(k))"
   ]
  },
  {
   "cell_type": "code",
   "execution_count": 40,
   "metadata": {},
   "outputs": [],
   "source": [
    "k1 = 149353\n",
    "k2 = 1008346\n",
    "k3 = 1867340\n",
    "utcNewTimestamps = np.concatenate( (utcTimestamps[:k1], \n",
    "                                    utcTimestamps[k1:k2] + 1*2**32,\n",
    "                                    utcTimestamps[k2:k3] + 2*2**32, \n",
    "                                    utcTimestamps[k3:] + 3*2**32) )"
   ]
  },
  {
   "cell_type": "code",
   "execution_count": 41,
   "metadata": {},
   "outputs": [],
   "source": [
    "if withPlots:\n",
    "    plt.figure()\n",
    "    plt.plot( utcNewTimestamps, 'o' )\n",
    "    plt.plot( utcTimestamps,'.' )\n",
    "    plt.grid()"
   ]
  },
  {
   "cell_type": "code",
   "execution_count": 42,
   "metadata": {},
   "outputs": [
    {
     "name": "stdout",
     "output_type": "stream",
     "text": [
      "9.0 : 13.0 : 50.750\n",
      "9.0 : 26.0 : 17.515\n",
      "10.0 : 37.0 : 52.480\n",
      "11.0 : 49.0 : 27.450\n",
      "12.0 : 45.0 : 37.775\n"
     ]
    }
   ],
   "source": [
    "printUtc( 0, utc_all )\n",
    "printUtc( k1, utc_all )\n",
    "printUtc( k2, utc_all )\n",
    "printUtc( k3, utc_all )\n",
    "printUtc( -1, utc_all )"
   ]
  },
  {
   "cell_type": "markdown",
   "metadata": {},
   "source": [
    "## logEkfEuler"
   ]
  },
  {
   "cell_type": "markdown",
   "metadata": {},
   "source": [
    "### Load data"
   ]
  },
  {
   "cell_type": "code",
   "execution_count": 43,
   "metadata": {},
   "outputs": [],
   "source": [
    "idx_timeStamp = 0\n",
    "idx_roll = 1\n",
    "idx_pitch = 2\n",
    "idx_yaw = 3\n",
    "idx_rollStdDev = 4\n",
    "idx_pitchStdDev = 5\n",
    "idx_yawStdDev = 6\n",
    "idx_status = 7"
   ]
  },
  {
   "cell_type": "code",
   "execution_count": 44,
   "metadata": {},
   "outputs": [],
   "source": [
    "euler = []\n",
    "for idx in range(4):\n",
    "    euler.append( np.loadtxt( logEkfEuler[idx], skiprows = 1,\n",
    "                             usecols = (0, idx_roll, idx_pitch, idx_yaw) ) )"
   ]
  },
  {
   "cell_type": "code",
   "execution_count": 45,
   "metadata": {},
   "outputs": [],
   "source": [
    "euler_all = euler[0]\n",
    "for idx in range(1, 4):\n",
    "    euler_all = np.concatenate( (euler_all, euler[idx]), axis=0 )"
   ]
  },
  {
   "cell_type": "code",
   "execution_count": 46,
   "metadata": {},
   "outputs": [],
   "source": [
    "eulerTimestamps = euler_all[:,0]\n",
    "roll = euler_all[:,1]\n",
    "pitch = euler_all[:,2]\n",
    "yaw = euler_all[:,3]"
   ]
  },
  {
   "cell_type": "markdown",
   "metadata": {},
   "source": [
    "### Shift timestamps"
   ]
  },
  {
   "cell_type": "code",
   "execution_count": 47,
   "metadata": {},
   "outputs": [
    {
     "name": "stdout",
     "output_type": "stream",
     "text": [
      "k = 149353\n",
      "k = 1008346\n",
      "k = 1867340\n"
     ]
    }
   ],
   "source": [
    "for k in range(1,eulerTimestamps.shape[0]):\n",
    "    if eulerTimestamps[k] < eulerTimestamps[k-1]:\n",
    "        print(\"k = {}\".format(k))"
   ]
  },
  {
   "cell_type": "code",
   "execution_count": 48,
   "metadata": {},
   "outputs": [],
   "source": [
    "k1 = 149353\n",
    "k2 = 1008346\n",
    "k3 = 1867340\n",
    "eulerNewTimestamps = np.concatenate( (eulerTimestamps[:k1], \n",
    "                                      eulerTimestamps[k1:k2] + 1*2**32,\n",
    "                                      eulerTimestamps[k2:k3] + 2*2**32, \n",
    "                                      eulerTimestamps[k3:] + 3*2**32) )"
   ]
  },
  {
   "cell_type": "markdown",
   "metadata": {},
   "source": [
    "## logEkfNav"
   ]
  },
  {
   "cell_type": "markdown",
   "metadata": {},
   "source": [
    "### Load data"
   ]
  },
  {
   "cell_type": "code",
   "execution_count": 49,
   "metadata": {},
   "outputs": [],
   "source": [
    "idx_timeStamp = 0\n",
    "idx_velNorth = 1\n",
    "idx_velEast = 2\n",
    "idx_velDown = 3\n",
    "idx_velNorth_StdDev = 4\n",
    "idx_velEast_StdDev = 5\n",
    "idx_velDown_StdDev = 6\n",
    "idx_ekf_Lat = 7\n",
    "idx_ekf_Long = 8\n",
    "idx_ekf_Alt = 9\n",
    "idx_ekf_undulation = 10\n",
    "dx_ekf_Lat_StdDev = 11\n",
    "idx_ekf_Long_StdDev = 12\n",
    "idx_ekf_Alt_StdDev = 13\n",
    "idx_status = 14"
   ]
  },
  {
   "cell_type": "code",
   "execution_count": 50,
   "metadata": {},
   "outputs": [],
   "source": [
    "nav = []\n",
    "for idx in range(4):\n",
    "    nav.append( np.loadtxt( logEkfNav[idx], skiprows = 1,\n",
    "                             usecols = (0, idx_ekf_Lat, idx_ekf_Long, idx_ekf_Alt) ) )"
   ]
  },
  {
   "cell_type": "code",
   "execution_count": 51,
   "metadata": {},
   "outputs": [],
   "source": [
    "nav_all = nav[0]\n",
    "for idx in range(1, 4):\n",
    "    nav_all = np.concatenate( (nav_all, nav[idx]), axis=0 )"
   ]
  },
  {
   "cell_type": "code",
   "execution_count": 52,
   "metadata": {},
   "outputs": [],
   "source": [
    "navTimestamps = nav_all[:,0]\n",
    "nav_Lat = nav_all[:,1]\n",
    "nav_Long = nav_all[:,2]\n",
    "nav_Alt = nav_all[:,3]"
   ]
  },
  {
   "cell_type": "markdown",
   "metadata": {},
   "source": [
    "### Shift timestamps"
   ]
  },
  {
   "cell_type": "code",
   "execution_count": 53,
   "metadata": {},
   "outputs": [
    {
     "name": "stdout",
     "output_type": "stream",
     "text": [
      "k = 149353\n",
      "k = 1008346\n",
      "k = 1867340\n"
     ]
    }
   ],
   "source": [
    "for k in range(1,navTimestamps.shape[0]):\n",
    "    if navTimestamps[k] < navTimestamps[k-1]:\n",
    "        print(\"k = {}\".format(k))"
   ]
  },
  {
   "cell_type": "code",
   "execution_count": 54,
   "metadata": {},
   "outputs": [],
   "source": [
    "k1 = 149353\n",
    "k2 = 1008346\n",
    "k3 = 1867340\n",
    "navNewTimestamps = np.concatenate( (navTimestamps[:k1], \n",
    "                                    navTimestamps[k1:k2] + 1*2**32,\n",
    "                                    navTimestamps[k2:k3] + 2*2**32, \n",
    "                                    navTimestamps[k3:] + 3*2**32) )"
   ]
  },
  {
   "cell_type": "code",
   "execution_count": 55,
   "metadata": {},
   "outputs": [],
   "source": [
    "nav_proj = transform( (nav_Long, nav_Lat), shiftXY, origXY )\n",
    "np.save( root_dir + \"nav_epsg_transform\", nav_proj )"
   ]
  },
  {
   "cell_type": "code",
   "execution_count": 56,
   "metadata": {},
   "outputs": [],
   "source": [
    "plt.figure()\n",
    "plt.plot( nav_proj[0], nav_proj[1], label = \"nav\" )\n",
    "plt.plot( gps_proj[0], gps_proj[1], label = \"gps\" )\n",
    "plt.plot(J1_epsg[0], J1_epsg[1], \"Dy\", markerEdgecolor=\"k\")\n",
    "plt.plot(J2_epsg[0], J2_epsg[1], \"Dy\", markerEdgecolor=\"k\")\n",
    "plt.plot(J3_epsg[0], J3_epsg[1], \"Dy\", markerEdgecolor=\"k\")\n",
    "plt.plot(J4_epsg[0], J4_epsg[1], \"Dy\", markerEdgecolor=\"k\")\n",
    "plt.legend()\n",
    "plt.grid()\n",
    "plt.axes().set_aspect('equal')"
   ]
  },
  {
   "cell_type": "code",
   "execution_count": 57,
   "metadata": {},
   "outputs": [],
   "source": [
    "plt.figure()\n",
    "plt.plot(navNewTimestamps, nav_Alt, label = \"nav\")\n",
    "plt.plot(gpsNewTimestamps, Alt, '.', label = \"gps\")\n",
    "plt.legend()\n",
    "plt.grid()"
   ]
  },
  {
   "cell_type": "markdown",
   "metadata": {},
   "source": [
    "# PoSAR-MC data"
   ]
  },
  {
   "cell_type": "markdown",
   "metadata": {},
   "source": [
    "## Parameters"
   ]
  },
  {
   "cell_type": "code",
   "execution_count": 58,
   "metadata": {},
   "outputs": [],
   "source": [
    "dates = [\"12_39_39\", \"12_45_51\", \"12_52_49\", \"12_59_03\",\n",
    "         \"13_05_40\", \"13_11_42\", \"13_18_13\", \"13_24_11\",\n",
    "         \"13_30_53\", \"13_36_46\", \"13_43_13\", \"13_49_07\"]\n",
    "\n",
    "data_date = [ \"2018_06_27_\" + d for d in dates ]\n",
    "data_dir = [root_dir +  d for d in data_date]\n",
    "\n",
    "firstRecord = 0\n",
    "lastRecord = [682, 780, 656, 736,\n",
    "              640, 750, 648, 744,\n",
    "              656, 742, 646, 756\n",
    "             ]"
   ]
  },
  {
   "cell_type": "markdown",
   "metadata": {},
   "source": [
    "## Process timeStamps.data"
   ]
  },
  {
   "cell_type": "code",
   "execution_count": 59,
   "metadata": {},
   "outputs": [],
   "source": [
    "def checkTimestamps(idx, dropFirst=0, withPlot=1):\n",
    "    \n",
    "    #====================================================================\n",
    "    # the last value of the file may be erroneous, this should be checked\n",
    "    #====================================================================\n",
    "\n",
    "    #===================================================================\n",
    "    # the first value may be erroneous, one may have to shift all values\n",
    "    #===================================================================\n",
    "    \n",
    "    timeStampsFile = data_dir[idx] + \"/\" + data_date[idx] + \"_timeStamps.data\"\n",
    "    print(timeStampsFile)\n",
    "    bufferNumber, timeStamp = np.loadtxt( timeStampsFile, skiprows = 1, unpack=True )\n",
    "\n",
    "    if dropFirst:\n",
    "        bufferNumber = bufferNumber[:-1]\n",
    "        timeStamp = timeStamp[1:]\n",
    "    \n",
    "    if withPlot:\n",
    "        plt.figure()\n",
    "        plt.subplot(211)\n",
    "        plt.plot( timeStamp, \".\", label=data_date[idx] )\n",
    "        plt.grid()\n",
    "        plt.legend()\n",
    "        plt.title(\"timeStamp wrt fileNumber / \" + data_date[idx] )\n",
    "        plt.subplot(212)\n",
    "        plt.plot( np.diff(timeStamp)/1e6, \".\" )\n",
    "        plt.grid()\n",
    "        plt.title( \"diff(timeStamp) wrt fileNumber / \" + data_date[idx] )\n",
    "    \n",
    "    return bufferNumber, timeStamp"
   ]
  },
  {
   "cell_type": "code",
   "execution_count": 61,
   "metadata": {},
   "outputs": [
    {
     "name": "stdout",
     "output_type": "stream",
     "text": [
      "/home/pleroy/DATA/2018_06_27_LETG/2018_06_27/jde/2018_06_27_12_39_39/2018_06_27_12_39_39_timeStamps.data\n"
     ]
    }
   ],
   "source": [
    "dropFirst=1\n",
    "withPlot=0\n",
    "bufferNumber0, timeStamp0 = checkTimestamps(0, dropFirst, withPlot)"
   ]
  },
  {
   "cell_type": "code",
   "execution_count": 62,
   "metadata": {},
   "outputs": [
    {
     "name": "stdout",
     "output_type": "stream",
     "text": [
      "/home/pleroy/DATA/2018_06_27_LETG/2018_06_27/jde/2018_06_27_12_45_51/2018_06_27_12_45_51_timeStamps.data\n"
     ]
    }
   ],
   "source": [
    "dropFirst=0\n",
    "withPlot=0\n",
    "bufferNumber1, timeStamp1 = checkTimestamps(1, dropFirst, withPlot)"
   ]
  },
  {
   "cell_type": "code",
   "execution_count": 63,
   "metadata": {},
   "outputs": [
    {
     "name": "stdout",
     "output_type": "stream",
     "text": [
      "/home/pleroy/DATA/2018_06_27_LETG/2018_06_27/jde/2018_06_27_12_52_49/2018_06_27_12_52_49_timeStamps.data\n"
     ]
    }
   ],
   "source": [
    "dropFirst=0\n",
    "withPlot=0\n",
    "bufferNumber2, timeStamp2 = checkTimestamps(2, dropFirst, withPlot)"
   ]
  },
  {
   "cell_type": "code",
   "execution_count": 64,
   "metadata": {},
   "outputs": [
    {
     "name": "stdout",
     "output_type": "stream",
     "text": [
      "/home/pleroy/DATA/2018_06_27_LETG/2018_06_27/jde/2018_06_27_13_05_40/2018_06_27_13_05_40_timeStamps.data\n"
     ]
    }
   ],
   "source": [
    "dropFirst=1\n",
    "withPlot=0\n",
    "bufferNumber4, timeStamp4 = checkTimestamps(4, dropFirst, withPlot)"
   ]
  },
  {
   "cell_type": "markdown",
   "metadata": {},
   "source": [
    "**Be carefull here, there could be a jump in the timeStamp values due to the counter saturation at 2^32. The mitigation is following.**"
   ]
  },
  {
   "cell_type": "code",
   "execution_count": 65,
   "metadata": {},
   "outputs": [],
   "source": [
    "timestampsShift0 = 2 # this is for the SBG internal us loopback\n",
    "timestampsShift1 = 2 # this is for the SBG internal us loopback\n",
    "timestampsShift2 = 2 # this is for the SBG internal us loopback\n",
    "timestampsShift4 = 2 # this is for the SBG internal us loopback"
   ]
  },
  {
   "cell_type": "code",
   "execution_count": 66,
   "metadata": {},
   "outputs": [],
   "source": [
    "newTimeStamp0 = timeStamp0 + timestampsShift0 * 2**32\n",
    "newTimeStamp1 = timeStamp1 + timestampsShift1 * 2**32\n",
    "newTimeStamp2 = timeStamp2 + timestampsShift2 * 2**32\n",
    "newTimeStamp4 = timeStamp4 + timestampsShift4 * 2**32"
   ]
  },
  {
   "cell_type": "code",
   "execution_count": 67,
   "metadata": {},
   "outputs": [
    {
     "name": "stdout",
     "output_type": "stream",
     "text": [
      "10.0 : 39.0 : 38.365\n",
      "10.0 : 45.0 : 50.465\n",
      "10.0 : 52.0 : 48.425\n",
      "11.0 : 5.0 : 38.865\n"
     ]
    }
   ],
   "source": [
    "printUtc( np.where(utcNewTimestamps < newTimeStamp0[0])[0][-1], utc_all )\n",
    "printUtc( np.where(utcNewTimestamps < newTimeStamp1[0])[0][-1], utc_all )\n",
    "printUtc( np.where(utcNewTimestamps < newTimeStamp2[0])[0][-1], utc_all )\n",
    "printUtc( np.where(utcNewTimestamps < newTimeStamp4[0])[0][-1], utc_all )"
   ]
  },
  {
   "cell_type": "markdown",
   "metadata": {},
   "source": [
    "## Selected record"
   ]
  },
  {
   "cell_type": "code",
   "execution_count": 68,
   "metadata": {},
   "outputs": [],
   "source": [
    "selectedRecord = 4"
   ]
  },
  {
   "cell_type": "markdown",
   "metadata": {},
   "source": [
    "### Read parameters"
   ]
  },
  {
   "cell_type": "code",
   "execution_count": 69,
   "metadata": {},
   "outputs": [],
   "source": [
    "params_filename = data_dir[selectedRecord] + \"/\" + data_date[selectedRecord] + \"_parameters.xml\"\n",
    "params = PosarMCParameters_v2( params_filename )"
   ]
  },
  {
   "cell_type": "code",
   "execution_count": 70,
   "metadata": {},
   "outputs": [],
   "source": [
    "def getNbRecords( first, last, params ):\n",
    "    nbRecords = [int((l - first) / params.buffersPerFile + 1) for l in last]\n",
    "    return nbRecords"
   ]
  },
  {
   "cell_type": "code",
   "execution_count": 71,
   "metadata": {},
   "outputs": [
    {
     "name": "stdout",
     "output_type": "stream",
     "text": [
      "nbRecords = [342, 391, 329, 369, 321, 376, 325, 373, 329, 372, 324, 379]\n"
     ]
    }
   ],
   "source": [
    "samplesPerRamp = params.samplesPerRamp\n",
    "rampsPerFile = params.rampsPerFile\n",
    "rampsPerBuffer = params.rampsPerBuffer\n",
    "samplesPerFile = params.samplesPerRamp * params.rampsPerFile\n",
    "buffersPerFile = params.buffersPerFile\n",
    "T_files = samplesPerFile / 10e6\n",
    "\n",
    "nbRecords = getNbRecords(firstRecord, lastRecord, params)\n",
    "\n",
    "print( \"nbRecords = {}\".format(nbRecords) )"
   ]
  },
  {
   "cell_type": "markdown",
   "metadata": {},
   "source": [
    "### Check the existence of the files"
   ]
  },
  {
   "cell_type": "code",
   "execution_count": 72,
   "metadata": {},
   "outputs": [],
   "source": [
    "fileList = []\n",
    "\n",
    "for k in range(firstRecord, lastRecord[selectedRecord], buffersPerFile):\n",
    "    filename = data_dir[selectedRecord] + \"/record\" + str(k) + \".bin\"\n",
    "    ret = os.path.isfile(filename)\n",
    "    if ret == False:\n",
    "        fileList.append(0)\n",
    "    else:\n",
    "        fileList.append(1)\n",
    "\n",
    "idxFileList = np.arange( len( fileList ) ) * buffersPerFile + firstRecord"
   ]
  },
  {
   "cell_type": "code",
   "execution_count": 73,
   "metadata": {},
   "outputs": [],
   "source": [
    "plt.figure()\n",
    "plt.plot(idxFileList, fileList, 'o-')\n",
    "plt.grid()"
   ]
  },
  {
   "cell_type": "markdown",
   "metadata": {},
   "source": [
    "## Data interpolation"
   ]
  },
  {
   "cell_type": "code",
   "execution_count": 74,
   "metadata": {},
   "outputs": [],
   "source": [
    "newTimeStamp = { 0:newTimeStamp0, \n",
    "                1:newTimeStamp1, \n",
    "                2:newTimeStamp2,\n",
    "                4:newTimeStamp4}\n",
    "selectedTimeStamp = newTimeStamp[selectedRecord]\n",
    "\n",
    "bufferNumber = { 0:bufferNumber0,\n",
    "               1:bufferNumber1,\n",
    "               2:bufferNumber2,\n",
    "               4:bufferNumber4}\n",
    "selectedBufferNumber = bufferNumber[selectedRecord]"
   ]
  },
  {
   "cell_type": "markdown",
   "metadata": {},
   "source": [
    "### logEkfEuler"
   ]
  },
  {
   "cell_type": "code",
   "execution_count": 75,
   "metadata": {},
   "outputs": [],
   "source": [
    "# interpolate euler data for all timeStamps\n",
    "roll_selection = np.interp( selectedTimeStamp, eulerNewTimestamps, roll )\n",
    "pitch_selection = np.interp( selectedTimeStamp, eulerNewTimestamps, pitch )\n",
    "yaw_selection = np.interp( selectedTimeStamp, eulerNewTimestamps, yaw )"
   ]
  },
  {
   "cell_type": "code",
   "execution_count": 76,
   "metadata": {},
   "outputs": [],
   "source": [
    "if withPlots:\n",
    "    plt.figure()\n",
    "    ax = plt.subplot(211)\n",
    "    plt.plot(eulerNewTimestamps, yaw, label=\"yaw\")\n",
    "    plt.legend()\n",
    "    plt.grid()\n",
    "    plt.subplot(212, sharex=ax)\n",
    "    plt.plot(gpsNewTimestamps, Alt, label=\"alt\")\n",
    "    plt.legend()\n",
    "    plt.grid()"
   ]
  },
  {
   "cell_type": "markdown",
   "metadata": {},
   "source": [
    "### logGpsPos"
   ]
  },
  {
   "cell_type": "code",
   "execution_count": 77,
   "metadata": {},
   "outputs": [],
   "source": [
    "velNewTimestamps = gpsNewTimestamps\n",
    "\n",
    "def getInterpolatedGps( timeStamp ):\n",
    "    \n",
    "    Lat_records = np.interp( timeStamp, gpsNewTimestamps, Lat )\n",
    "    Long_records = np.interp( timeStamp, gpsNewTimestamps, Long )\n",
    "    Alt_records = np.interp( timeStamp, gpsNewTimestamps, Alt )\n",
    "    Vel_records = np.interp( timeStamp, velNewTimestamps, Vel )\n",
    "    course_records = np.interp( timeStamp, velNewTimestamps, course )\n",
    "    \n",
    "    return Lat_records, Long_records, Alt_records, Vel_records, course_records"
   ]
  },
  {
   "cell_type": "code",
   "execution_count": 78,
   "metadata": {},
   "outputs": [],
   "source": [
    "Lat_Long_Alt_Vel_course = getInterpolatedGps( selectedTimeStamp )"
   ]
  },
  {
   "cell_type": "code",
   "execution_count": 79,
   "metadata": {},
   "outputs": [],
   "source": [
    "epsg = transform( (Lat_Long_Alt_Vel_course[1], Lat_Long_Alt_Vel_course[0]), shiftXY, origXY )"
   ]
  },
  {
   "cell_type": "code",
   "execution_count": 80,
   "metadata": {},
   "outputs": [],
   "source": [
    "def addRemarkablePoints():\n",
    "    plt.plot( J1_epsg[0], J1_epsg[1], 'oy', markeredgecolor = 'black' )\n",
    "    plt.plot( J2_epsg[0], J2_epsg[1], 'oy', markeredgecolor = 'black' )\n",
    "    plt.plot( J3_epsg[0], J3_epsg[1], 'oy', markeredgecolor = 'black' )\n",
    "    plt.plot( J4_epsg[0], J4_epsg[1], 'oy', markeredgecolor = 'black' )\n",
    "    plt.plot( J5_epsg[0], J5_epsg[1], 'oy', markeredgecolor = 'black' )\n",
    "    plt.plot( J6_epsg[0], J6_epsg[1], 'oy', markeredgecolor = 'black' )\n",
    "    plt.plot( J7_epsg[0], J7_epsg[1], 'oy', markeredgecolor = 'black' )\n",
    "    plt.plot( J8_epsg[0], J8_epsg[1], 'oy', markeredgecolor = 'black' )\n",
    "    plt.plot( J9_epsg[0], J9_epsg[1], 'oy', markeredgecolor = 'black' )\n",
    "    plt.plot( J10_epsg[0], J10_epsg[1], 'oy', markeredgecolor = 'black' )\n",
    "    plt.plot( J11_epsg[0], J11_epsg[1], 'oy', markeredgecolor = 'black' )\n",
    "    plt.plot( J12_epsg[0], J12_epsg[1], 'oy', markeredgecolor = 'black' )"
   ]
  },
  {
   "cell_type": "code",
   "execution_count": 81,
   "metadata": {},
   "outputs": [],
   "source": [
    "plt.figure()\n",
    "for idx in range(4):\n",
    "    plt.plot( x[idx], y[idx], label=hours[idx] )\n",
    "    \n",
    "addRemarkablePoints()\n",
    "    \n",
    "plt.plot( epsg[0], epsg[1], \".r\", markeredgecolor='black', label=data_date[selectedRecord] )\n",
    "\n",
    "plt.xlabel(\"x\")\n",
    "plt.ylabel(\"y\")\n",
    "plt.grid()\n",
    "plt.legend()\n",
    "title = epsgStr + \" \" + day\n",
    "plt.title(title)\n",
    "plt.axes().set_aspect('equal')\n",
    "ax = plt.gca()\n",
    "ax.set_xlim([0, xlim])\n",
    "ax.set_ylim([0, ylim])\n",
    "plt.savefig( data_dir[selectedRecord] + \"/\" + title + \".png\", bbox_inches='tight')"
   ]
  },
  {
   "cell_type": "markdown",
   "metadata": {},
   "source": [
    "## Plot navigation data and record periods"
   ]
  },
  {
   "cell_type": "code",
   "execution_count": 82,
   "metadata": {},
   "outputs": [],
   "source": [
    "plt.figure()\n",
    "\n",
    "ax = plt.subplot(111)\n",
    "\n",
    "plt.plot( Lat_Long_Alt_Vel_course[1], Lat_Long_Alt_Vel_course[0], \".r\", markeredgecolor='black', \n",
    "         label=data_date[selectedRecord] )\n",
    "\n",
    "title = \"record locations-\" + data_date[selectedRecord]\n",
    "plt.title(title)\n",
    "plt.xlabel(\"Longitude\")\n",
    "plt.ylabel(\"Latitude\")\n",
    "plt.legend()\n",
    "plt.grid()\n",
    "\n",
    "plt.savefig( data_dir[selectedRecord] + \"/\" + title + \".png\", bbox_inches='tight')"
   ]
  },
  {
   "cell_type": "code",
   "execution_count": 83,
   "metadata": {},
   "outputs": [],
   "source": [
    "plt.figure()\n",
    "plt.plot( gpsNewTimestamps, Alt )\n",
    "plt.plot( selectedTimeStamp, Lat_Long_Alt_Vel_course[2], \"yD\", markeredgecolor = 'black' )\n",
    "plt.grid()\n",
    "title = \"Altitude - \" + data_date[selectedRecord] + \" - files {} to {}\".format(firstRecord, lastRecord[selectedRecord])\n",
    "plt.title( title )\n",
    "plt.savefig( data_dir[selectedRecord] + \"/\" + title + \".png\", bbox_inches='tight')"
   ]
  },
  {
   "cell_type": "code",
   "execution_count": 84,
   "metadata": {},
   "outputs": [],
   "source": [
    "plt.figure()\n",
    "for idx in range(4):\n",
    "    plt.plot( x[idx], y[idx], label=hours[idx] )\n",
    "\n",
    "addRemarkablePoints()\n",
    "\n",
    "plt.plot( epsg[0], epsg[1], \".r\", markeredgecolor='black', label=data_date[selectedRecord] )\n",
    "\n",
    "plt.xlabel(\"x\")\n",
    "plt.ylabel(\"y\")\n",
    "plt.grid()\n",
    "plt.legend()\n",
    "title = \"epsg3857 \" + day\n",
    "plt.title(title)\n",
    "plt.axes().set_aspect('equal')\n",
    "ax = plt.gca()\n",
    "ax.set_xlim([0, xlim])\n",
    "ax.set_ylim([0, ylim])\n",
    "plt.savefig( data_dir[selectedRecord] + \"/\" + title + \".png\", bbox_inches='tight')"
   ]
  },
  {
   "cell_type": "markdown",
   "metadata": {},
   "source": [
    "# Track approximation"
   ]
  },
  {
   "cell_type": "code",
   "execution_count": 85,
   "metadata": {},
   "outputs": [],
   "source": [
    "files = \"files {} to {}\".format( firstRecord, nbRecords[selectedRecord] )"
   ]
  },
  {
   "cell_type": "code",
   "execution_count": 86,
   "metadata": {},
   "outputs": [],
   "source": [
    "plt.figure()\n",
    "\n",
    "title = \"altitude - velocity - course \" + data_date[selectedRecord]\n",
    "\n",
    "plt.subplot(311)\n",
    "plt.title( title )\n",
    "plt.plot( selectedTimeStamp, Lat_Long_Alt_Vel_course[2], 'Dy', markeredgecolor = 'k', label=\"altitude \" + files )\n",
    "plt.legend()\n",
    "plt.grid()\n",
    "\n",
    "plt.subplot(312)\n",
    "plt.plot( selectedTimeStamp, Lat_Long_Alt_Vel_course[3], 'Dy', markeredgecolor = 'k', label=\"velocity \" + files )\n",
    "plt.legend()\n",
    "plt.grid()\n",
    "\n",
    "plt.subplot(313)\n",
    "plt.plot( selectedTimeStamp, Lat_Long_Alt_Vel_course[4], 'Dy', markeredgecolor = 'k', label=\"course \" + files )\n",
    "plt.legend()\n",
    "plt.grid()\n",
    "\n",
    "plt.savefig( data_dir[selectedRecord] + \"/\" + title + \".png\", bbox_inches='tight')"
   ]
  },
  {
   "cell_type": "code",
   "execution_count": 87,
   "metadata": {},
   "outputs": [],
   "source": [
    "plt.figure()\n",
    "\n",
    "title = \"pitch - roll - yaw \" + data_date[selectedRecord]\n",
    "\n",
    "plt.subplot(311)\n",
    "plt.title( title )\n",
    "plt.plot( selectedTimeStamp, pitch_selection * 180 / np.pi, 'Dy', markeredgecolor = 'k', label=\"pitch [°] \" + files )\n",
    "plt.legend()\n",
    "plt.grid()\n",
    "\n",
    "plt.subplot(312)\n",
    "plt.plot( selectedTimeStamp, roll_selection * 180 / np.pi, 'Dy', markeredgecolor = 'k',  label=\"roll [°] \" + files )\n",
    "plt.legend()\n",
    "plt.grid()\n",
    "\n",
    "plt.subplot(313)\n",
    "plt.plot( selectedTimeStamp, yaw_selection * 180 / np.pi, 'Dy', markeredgecolor = 'k',  label=\"yaw [°] \" + files )\n",
    "plt.legend()\n",
    "plt.grid()\n",
    "\n",
    "plt.savefig( data_dir[selectedRecord] + \"/\" + title + \".png\", bbox_inches='tight')"
   ]
  },
  {
   "cell_type": "markdown",
   "metadata": {},
   "source": [
    "## Orientation vector"
   ]
  },
  {
   "cell_type": "code",
   "execution_count": 88,
   "metadata": {},
   "outputs": [],
   "source": [
    "# East-West J1 => J2    12_39_39\n",
    "# East-West J4 => J3    12_52_49\n",
    "# East-West J5 => J6    13_05_40\n",
    "# East-West J8 => J7    13_18_13\n",
    "# East-West J9 => J10   13_30_53\n",
    "# East-West J12 => J11  13_43_13\n",
    "xA = J5_epsg[0]\n",
    "yA = J5_epsg[1]\n",
    "xB = J6_epsg[0]\n",
    "yB = J6_epsg[1]"
   ]
  },
  {
   "cell_type": "code",
   "execution_count": 89,
   "metadata": {},
   "outputs": [],
   "source": [
    "xAB = (xB - xA) / ( (xB - xA)**2 + (yB - yA)**2 )**0.5\n",
    "yAB = (yB - yA) / ( (xB - xA)**2 + (yB - yA)**2 )**0.5"
   ]
  },
  {
   "cell_type": "code",
   "execution_count": 90,
   "metadata": {},
   "outputs": [],
   "source": [
    "# unit vectors\n",
    "ux = ( xAB, yAB )\n",
    "uy = ( -yAB, xAB )"
   ]
  },
  {
   "cell_type": "code",
   "execution_count": 92,
   "metadata": {},
   "outputs": [],
   "source": [
    "import json"
   ]
  },
  {
   "cell_type": "code",
   "execution_count": 93,
   "metadata": {},
   "outputs": [],
   "source": [
    "track_model = { \"trackModel\" : \"model(x, p) = p[1]*x + p[2]\",\n",
    "               \"ux\" : (ux[0], ux[1]),\n",
    "               \"uy\" : (uy[0], uy[1]),\n",
    "               \"origX\" : origXY[0],\n",
    "               \"origY\" : origXY[1]\n",
    "              }"
   ]
  },
  {
   "cell_type": "code",
   "execution_count": 94,
   "metadata": {},
   "outputs": [],
   "source": [
    "trackFilename = data_dir[selectedRecord] + \"/track_model.json\"\n",
    "with open( trackFilename, 'w' ) as f:\n",
    "    json.dump( track_model, f )"
   ]
  },
  {
   "cell_type": "code",
   "execution_count": 96,
   "metadata": {},
   "outputs": [
    {
     "data": {
      "text/plain": [
       "<matplotlib.text.Text at 0x7f9b7e54a7b8>"
      ]
     },
     "execution_count": 96,
     "metadata": {},
     "output_type": "execute_result"
    }
   ],
   "source": [
    "plt.figure()\n",
    "plt.plot(gps_proj[0], gps_proj[1])\n",
    "plt.grid()\n",
    "ax = plt.gca()\n",
    "ax.set_aspect(\"equal\")\n",
    "title = \"transformation of WGS84 to \" + epsgStr\n",
    "plt.title(title)"
   ]
  },
  {
   "cell_type": "code",
   "execution_count": 97,
   "metadata": {},
   "outputs": [],
   "source": [
    "x_selection = np.interp( selectedTimeStamp, gpsNewTimestamps, gps_proj[0] )\n",
    "y_selection = np.interp( selectedTimeStamp, gpsNewTimestamps, gps_proj[1] )\n",
    "np.save( data_dir[selectedRecord] + \"/track_selection_proj\", np.stack( (x_selection, y_selection ), -1 ) )"
   ]
  },
  {
   "cell_type": "code",
   "execution_count": 98,
   "metadata": {},
   "outputs": [
    {
     "data": {
      "text/plain": [
       "(0, 12000)"
      ]
     },
     "execution_count": 98,
     "metadata": {},
     "output_type": "execute_result"
    }
   ],
   "source": [
    "plt.figure()\n",
    "\n",
    "plt.plot( gps_proj[0], gps_proj[1], \"gray\" )\n",
    "\n",
    "plt.plot( x_selection, y_selection, 'Dy', markerEdgecolor='k',\n",
    "        label = \"files {} to {} \".format( firstRecord, nbRecords[selectedRecord] ) + data_date[selectedRecord] )\n",
    "\n",
    "ax = plt.gca()\n",
    "ax.set_aspect(\"equal\")\n",
    "plt.xlabel(\"location of the records in the scene coordinate system\\n\")\n",
    "plt.grid()\n",
    "plt.legend()\n",
    "ax = plt.gca()\n",
    "ax.set_xlim([0, xlim])\n",
    "ax.set_ylim([0, ylim])"
   ]
  },
  {
   "cell_type": "markdown",
   "metadata": {},
   "source": [
    "# Interpolate navigation data for all ramps"
   ]
  },
  {
   "cell_type": "markdown",
   "metadata": {},
   "source": [
    "## logGpsPos for rampDown\n",
    "Two options: numpy.interp vs scipy.interpolate.interp1d (with kind='linear')"
   ]
  },
  {
   "cell_type": "code",
   "execution_count": 140,
   "metadata": {},
   "outputs": [
    {
     "name": "stdout",
     "output_type": "stream",
     "text": [
      "lastDelta = 900002.0\n"
     ]
    }
   ],
   "source": [
    "# rampNumber timeStamp x y z\n",
    "nbRecordToAdd = 10\n",
    "\n",
    "rampNumber = np.arange( rampsPerFile * (nbRecords[selectedRecord] + nbRecordToAdd) )\n",
    "\n",
    "\n",
    "rampNumber_ext = np.arange(nbRecords[selectedRecord] + nbRecordToAdd) * rampsPerFile\n",
    "\n",
    "lastDelta = selectedTimeStamp[-1] - selectedTimeStamp[-2]\n",
    "# there is a difference between the number of valid timestamps and the number of records\n",
    "diffValidTimestampsNbRecords = selectedTimeStamp.size - nbRecords[selectedRecord]\n",
    "addedTimestamps = np.arange( 1, nbRecordToAdd - diffValidTimestampsNbRecords + 1 ) * lastDelta\n",
    "print(\"lastDelta = {}\".format(lastDelta) )\n",
    "timeStamp_ext = np.concatenate( (selectedTimeStamp, \n",
    "                                 selectedTimeStamp[-1] + addedTimestamps ) )"
   ]
  },
  {
   "cell_type": "markdown",
   "metadata": {},
   "source": [
    "### xyz"
   ]
  },
  {
   "cell_type": "code",
   "execution_count": 143,
   "metadata": {},
   "outputs": [],
   "source": [
    "timeStamp = np.interp( rampNumber, rampNumber_ext, timeStamp_ext)\n",
    "gps_x = np.interp( timeStamp, gpsNewTimestamps, gps_proj[0] )\n",
    "gps_y = np.interp( timeStamp, gpsNewTimestamps, gps_proj[1] )\n",
    "gps_z = np.interp( timeStamp, gpsNewTimestamps, Alt )\n",
    "xyz_proj_allRamps = np.stack( (rampNumber, timeStamp, gps_x, gps_y, gps_z), -1 )"
   ]
  },
  {
   "cell_type": "code",
   "execution_count": 144,
   "metadata": {},
   "outputs": [],
   "source": [
    "np.save( data_dir[selectedRecord] + \"/rampNumber_timeStamp_xyz_gps\", xyz_proj_allRamps )"
   ]
  },
  {
   "cell_type": "code",
   "execution_count": 145,
   "metadata": {},
   "outputs": [],
   "source": [
    "plt.figure()\n",
    "plt.plot( x_selection, y_selection, \n",
    "         'Dy', markerEdgecolor='k', label = \"files {} to {}\".format( firstRecord, nbRecords[selectedRecord] ) )\n",
    "plt.plot( gps_x, gps_y, '.b', label = 'ramps' )\n",
    "plt.legend()\n",
    "plt.title(\"xy\")\n",
    "plt.grid()"
   ]
  },
  {
   "cell_type": "markdown",
   "metadata": {},
   "source": [
    "### lla latitude longitude altitude"
   ]
  },
  {
   "cell_type": "code",
   "execution_count": 146,
   "metadata": {},
   "outputs": [],
   "source": [
    "timeStamp = np.interp( rampNumber, rampNumber_ext, timeStamp_ext)\n",
    "allRamps_lat = np.interp( timeStamp, gpsNewTimestamps, Lat )\n",
    "allRamps_long = np.interp( timeStamp, gpsNewTimestamps, Long )\n",
    "allRamps_alt = np.interp( timeStamp, gpsNewTimestamps, Alt )\n",
    "latLongAlt_allRamps = np.stack( (rampNumber, timeStamp, allRamps_lat, allRamps_long, allRamps_alt), -1 )"
   ]
  },
  {
   "cell_type": "code",
   "execution_count": 147,
   "metadata": {},
   "outputs": [],
   "source": [
    "np.save( data_dir[selectedRecord] + \"/rampNumber_timeStamp_latLongAlt_gps\", latLongAlt_allRamps )"
   ]
  },
  {
   "cell_type": "markdown",
   "metadata": {},
   "source": [
    "## logEkfNav rampDown"
   ]
  },
  {
   "cell_type": "code",
   "execution_count": null,
   "metadata": {},
   "outputs": [],
   "source": [
    "nav_x = np.interp( timeStamp, navNewTimestamps, nav_proj[0] )\n",
    "nav_y = np.interp( timeStamp, navNewTimestamps, nav_proj[1] )\n",
    "nav_z = np.interp( timeStamp, navNewTimestamps, nav_Alt )\n",
    "nav_xyz_allRamps = np.stack( (rampNumber, timeStamp, \n",
    "                              nav_x, nav_y, nav_z), -1 )"
   ]
  },
  {
   "cell_type": "code",
   "execution_count": null,
   "metadata": {},
   "outputs": [],
   "source": [
    "np.save( data_dir[selectedRecord] + \"/rampNumber_timeStamp_xyz_nav\", nav_xyz_allRamps )"
   ]
  },
  {
   "cell_type": "code",
   "execution_count": 148,
   "metadata": {},
   "outputs": [],
   "source": [
    "nav_allRamps_lat = np.interp( timeStamp, navNewTimestamps, nav_Lat )\n",
    "nav_allRamps_long = np.interp( timeStamp, navNewTimestamps, nav_Long )\n",
    "nav_allRamps_alt = np.interp( timeStamp, navNewTimestamps, nav_Alt )\n",
    "nav_latLongAlt_allRamps = np.stack( (rampNumber, timeStamp, \n",
    "                              nav_allRamps_lat, nav_allRamps_long, nav_allRamps_alt), -1 )"
   ]
  },
  {
   "cell_type": "code",
   "execution_count": 149,
   "metadata": {},
   "outputs": [],
   "source": [
    "np.save( data_dir[selectedRecord] + \"/rampNumber_timeStamp_latLongAlt_nav\", nav_latLongAlt_allRamps )"
   ]
  },
  {
   "cell_type": "markdown",
   "metadata": {},
   "source": [
    "## Compare gps and nav"
   ]
  },
  {
   "cell_type": "code",
   "execution_count": null,
   "metadata": {},
   "outputs": [],
   "source": [
    "plt.figure()\n",
    "plt.plot( gps_x, gps_y, label=\"gps\" )\n",
    "plt.plot( nav_x, nav_y, label=\"nav\" )\n",
    "plt.legend()\n",
    "plt.grid()\n",
    "plt.title(\"x-y\")"
   ]
  },
  {
   "cell_type": "code",
   "execution_count": null,
   "metadata": {},
   "outputs": [],
   "source": [
    "plt.figure()\n",
    "plt.plot( gps_z, label=\"gps\"  )\n",
    "plt.plot( nav_z, label=\"nav\" )\n",
    "plt.legend()\n",
    "plt.grid()\n",
    "plt.title(\"z\")"
   ]
  },
  {
   "cell_type": "markdown",
   "metadata": {},
   "source": [
    "## logGpsPos rampUp"
   ]
  },
  {
   "cell_type": "code",
   "execution_count": null,
   "metadata": {},
   "outputs": [],
   "source": [
    "# rampNumber timeStamp x y z\n",
    "\n",
    "timeStamp_ext_up = np.concatenate( \n",
    "    (selectedTimeStamp, [ selectedTimeStamp[-1] + selectedTimeStamp[-1] - selectedTimeStamp[-2] ] ) ) \\\n",
    "    + params.configuredTRamp / 2\n",
    "\n",
    "timeStamp = np.interp( rampNumber, rampNumber_ext, timeStamp_ext_up)\n",
    "x = np.interp( timeStamp, gpsNewTimestamps, gps_proj[0] )\n",
    "y = np.interp( timeStamp, gpsNewTimestamps, gps_proj[1] )\n",
    "z = np.interp( timeStamp, gpsNewTimestamps, Alt )\n",
    "xyz_proj_allRamps = np.stack( (rampNumber, timeStamp, x, y, z), -1 )"
   ]
  },
  {
   "cell_type": "code",
   "execution_count": null,
   "metadata": {},
   "outputs": [],
   "source": [
    "np.save( data_dir[selectedRecord] + \"/rampNumber_timeStamp_xyz_rampUp\", xyz_proj_allRamps )"
   ]
  },
  {
   "cell_type": "code",
   "execution_count": null,
   "metadata": {},
   "outputs": [],
   "source": [
    "plt.figure()\n",
    "plt.plot(rampNumber_ext, timeStamp_ext, 'o')\n",
    "plt.plot(rampNumber_ext, timeStamp_ext_up, '.')"
   ]
  },
  {
   "cell_type": "code",
   "execution_count": null,
   "metadata": {},
   "outputs": [],
   "source": []
  }
 ],
 "metadata": {
  "kernelspec": {
   "display_name": "Python 3",
   "language": "python",
   "name": "python3"
  },
  "language_info": {
   "codemirror_mode": {
    "name": "ipython",
    "version": 3
   },
   "file_extension": ".py",
   "mimetype": "text/x-python",
   "name": "python",
   "nbconvert_exporter": "python",
   "pygments_lexer": "ipython3",
   "version": "3.6.5"
  },
  "toc": {
   "base_numbering": 1,
   "nav_menu": {},
   "number_sections": true,
   "sideBar": true,
   "skip_h1_title": false,
   "title_cell": "Table of Contents",
   "title_sidebar": "Contents",
   "toc_cell": false,
   "toc_position": {
    "height": "calc(100% - 180px)",
    "left": "10px",
    "top": "150px",
    "width": "325px"
   },
   "toc_section_display": true,
   "toc_window_display": true
  }
 },
 "nbformat": 4,
 "nbformat_minor": 2
}
