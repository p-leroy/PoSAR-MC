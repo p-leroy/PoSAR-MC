{
 "cells": [
  {
   "cell_type": "code",
   "execution_count": null,
   "metadata": {},
   "outputs": [],
   "source": [
    "import numpy as np\n",
    "import matplotlib.pyplot as plt\n",
    "import matplotlib\n",
    "%matplotlib qt5"
   ]
  },
  {
   "cell_type": "code",
   "execution_count": null,
   "metadata": {},
   "outputs": [],
   "source": [
    "import sys"
   ]
  },
  {
   "cell_type": "code",
   "execution_count": null,
   "metadata": {},
   "outputs": [],
   "source": [
    "sys.path.insert(0, \"/home/pleroy/DEV/processing/focalization_python\")\n",
    "from posarutils.other.PosarMCParameters import *"
   ]
  },
  {
   "cell_type": "code",
   "execution_count": null,
   "metadata": {},
   "outputs": [],
   "source": [
    "data_date = \"2018_03_29_16_39_48\"\n",
    "data_dir = \"/home/pleroy/DATA/2018_03_Mesures_de_couplage/2018_03_28-29/\" + data_date"
   ]
  },
  {
   "cell_type": "code",
   "execution_count": null,
   "metadata": {},
   "outputs": [],
   "source": [
    "params_filename = data_dir + \"/\" + data_date + \"_parameters.xml\"\n",
    "params = PosarMCParameters_v2( params_filename )"
   ]
  },
  {
   "cell_type": "code",
   "execution_count": null,
   "metadata": {},
   "outputs": [],
   "source": [
    "samplesPerFile = params.rampsPerFile * params.samplesPerRamp"
   ]
  },
  {
   "cell_type": "code",
   "execution_count": null,
   "metadata": {},
   "outputs": [],
   "source": [
    "print(params.rampsPerFile * params.samplesPerRamp * 4)"
   ]
  },
  {
   "cell_type": "code",
   "execution_count": null,
   "metadata": {},
   "outputs": [],
   "source": [
    "loop = 0\n",
    "filename = data_dir + '/record' + str(loop) + '.bin'\n",
    "fd = open(filename,'rb')\n",
    "record_0 = np.fromfile(fd, dtype = np.uint16, count = params.rampsPerFile * params.samplesPerRamp * 2)\n",
    "record_0_0 = vals_0[::2].reshape(int(params.rampsPerFile), params.samplesPerRamp)\n",
    "record_0_1 = vals_0[1::2].reshape(int(params.rampsPerFile), params.samplesPerRamp)"
   ]
  },
  {
   "cell_type": "code",
   "execution_count": null,
   "metadata": {},
   "outputs": [],
   "source": [
    "data_reshaped = record_0_0.reshape(params.rampsPerFile, params.samplesPerRamp)"
   ]
  },
  {
   "cell_type": "code",
   "execution_count": null,
   "metadata": {},
   "outputs": [],
   "source": [
    "plt.figure()\n",
    "plt.plot(firstRamp)\n",
    "plt.grid()"
   ]
  },
  {
   "cell_type": "code",
   "execution_count": null,
   "metadata": {},
   "outputs": [],
   "source": [
    "scalingFactor = 2 / 65535\n",
    "offset = -1"
   ]
  },
  {
   "cell_type": "code",
   "execution_count": null,
   "metadata": {},
   "outputs": [],
   "source": [
    "data_scaled = data_reshaped * scalingFactor + offset"
   ]
  },
  {
   "cell_type": "code",
   "execution_count": null,
   "metadata": {},
   "outputs": [],
   "source": [
    "def two_scales(ax1, data1, data2, c1, c2):\n",
    "    ax2 = ax1.twinx()\n",
    "\n",
    "    ax1.plot(data1, color=c1)\n",
    "    ax1.set_ylabel('raw')\n",
    "\n",
    "    ax2.plot(data2, color=c2)\n",
    "    ax2.set_ylabel('scaled')\n",
    "    \n",
    "    ax1.grid()\n",
    "    return ax1, ax2"
   ]
  },
  {
   "cell_type": "code",
   "execution_count": null,
   "metadata": {},
   "outputs": [],
   "source": [
    "font = { 'family' : 'sans-serif',\n",
    "        'weight' : 'bold',\n",
    "        'size'   : 12}\n",
    "\n",
    "matplotlib.rc('font', **font)"
   ]
  },
  {
   "cell_type": "code",
   "execution_count": null,
   "metadata": {},
   "outputs": [],
   "source": [
    "nbSamplesPerHalfRamp = int(params.samplesPerRamp/2)"
   ]
  },
  {
   "cell_type": "code",
   "execution_count": null,
   "metadata": {},
   "outputs": [],
   "source": [
    "fig, ax = plt.subplots()\n",
    "ax1, ax2 = two_scales(ax, data_reshaped[0,:], data_scaled[0,:], 'r', 'b')"
   ]
  },
  {
   "cell_type": "code",
   "execution_count": null,
   "metadata": {},
   "outputs": [],
   "source": [
    "firstRamp = data_reshaped[0, 0:nbSamplesPerHalfRamp]\n",
    "firstRampScaled = firstRamp * scalingFactor + offset\n",
    "fft = np.fft.fft(firstRamp)"
   ]
  },
  {
   "cell_type": "code",
   "execution_count": null,
   "metadata": {},
   "outputs": [],
   "source": [
    "plt.figure()\n",
    "plt.plot(20*np.log10(np.abs(fft)))\n",
    "plt.grid()"
   ]
  },
  {
   "cell_type": "code",
   "execution_count": null,
   "metadata": {},
   "outputs": [],
   "source": [
    "fft_cut = np.zeros(nbSamplesPerHalfRamp, dtype=complex)\n",
    "nbPointsToKeep = 10\n",
    "fft_cut[0:nbPointsToKeep] = fft[0:nbPointsToKeep]\n",
    "firstRampCut = np.real(np.fft.ifft(fft_cut))\n",
    "firstRampCutScaled = firstRampCut * scalingFactor + offset"
   ]
  },
  {
   "cell_type": "code",
   "execution_count": null,
   "metadata": {},
   "outputs": [],
   "source": [
    "fig1, ax1 = plt.subplots()\n",
    "two_scales(ax1, firstRampCut, firstRampCutScaled, 'r', 'b')"
   ]
  },
  {
   "cell_type": "code",
   "execution_count": null,
   "metadata": {},
   "outputs": [],
   "source": [
    "V = np.mean(firstRampScaled[0:]**2)**0.5\n",
    "print(\"V = {}\".format(V))"
   ]
  },
  {
   "cell_type": "code",
   "execution_count": null,
   "metadata": {},
   "outputs": [],
   "source": [
    "P_mixerOut = 10 * np.log10(np.abs( V**2 / 50 ) ) + 30\n",
    "P_mixerIn = P_mixerOut + 5.5\n",
    "P_lnaIn = P_mixerIn - 28\n",
    "P_RFOut = 20\n",
    "coupling = P_lnaIn - P_RFOut\n",
    "print(\"P_mixerOut = {0:.2f} dBm\".format(P_mixerOut))\n",
    "print(\"P_mixerIn = {0:.2f} dBm\".format(P_mixerIn))\n",
    "print(\"P_lnaIn = {0:.2f} dBm\".format(P_lnaIn))\n",
    "print(\"P_RFOut = {0:.2f} dBm\".format(P_RFOut))\n",
    "print(\"coupling = {0:.2f} dB\".format(coupling))"
   ]
  },
  {
   "cell_type": "code",
   "execution_count": null,
   "metadata": {},
   "outputs": [],
   "source": [
    "\n"
   ]
  }
 ],
 "metadata": {
  "kernelspec": {
   "display_name": "Python 3",
   "language": "python",
   "name": "python3"
  },
  "language_info": {
   "codemirror_mode": {
    "name": "ipython",
    "version": 3
   },
   "file_extension": ".py",
   "mimetype": "text/x-python",
   "name": "python",
   "nbconvert_exporter": "python",
   "pygments_lexer": "ipython3",
   "version": "3.6.4"
  }
 },
 "nbformat": 4,
 "nbformat_minor": 2
}
