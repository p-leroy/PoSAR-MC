{
 "cells": [
  {
   "cell_type": "code",
   "execution_count": 1,
   "metadata": {},
   "outputs": [],
   "source": [
    "import numpy as np\n",
    "import matplotlib.pyplot as plt\n",
    "import matplotlib\n",
    "%matplotlib qt5"
   ]
  },
  {
   "cell_type": "code",
   "execution_count": 2,
   "metadata": {},
   "outputs": [],
   "source": [
    "import sys"
   ]
  },
  {
   "cell_type": "code",
   "execution_count": 3,
   "metadata": {},
   "outputs": [],
   "source": [
    "sys.path.insert(0, \"/home/pleroy/DEV/processing/focalization_python\")\n",
    "from posarutils.other.PosarMCParameters import *"
   ]
  },
  {
   "cell_type": "code",
   "execution_count": 38,
   "metadata": {},
   "outputs": [],
   "source": [
    "data_date = \"2018_01_12_14_42_33\"\n",
    "data_date_b = \"2018_01_12_14_43_09\"\n",
    "data_dir = \"/home/pleroy/DATA/2018_01_mesures_de_couplage_v1/\" + data_date\n",
    "data_dir_b = \"/home/pleroy/DATA/2018_01_mesures_de_couplage_v1/\" + data_date_b"
   ]
  },
  {
   "cell_type": "code",
   "execution_count": 39,
   "metadata": {},
   "outputs": [],
   "source": [
    "params_filename = data_dir + \"/\" + data_date + \"_parameters.xml\"\n",
    "params = PosarMCParameters( params_filename )"
   ]
  },
  {
   "cell_type": "code",
   "execution_count": 40,
   "metadata": {},
   "outputs": [],
   "source": [
    "samplesPerFile = params.rampsPerFile * params.samplesPerRamp"
   ]
  },
  {
   "cell_type": "code",
   "execution_count": 41,
   "metadata": {},
   "outputs": [
    {
     "name": "stdout",
     "output_type": "stream",
     "text": [
      "36000000\n"
     ]
    }
   ],
   "source": [
    "print(params.rampsPerFile * params.samplesPerRamp * 4)"
   ]
  },
  {
   "cell_type": "code",
   "execution_count": 50,
   "metadata": {},
   "outputs": [],
   "source": [
    "loop = 0\n",
    "filename = data_dir + '/record' + str(loop) + '.bin'\n",
    "fd = open(filename,'rb')\n",
    "record_a = np.fromfile(fd, dtype = np.int16, count = params.rampsPerFile * params.samplesPerRamp * 2)\n",
    "record_a_0 = record_a[::2].reshape(int(params.rampsPerFile), params.samplesPerRamp)\n",
    "record_a_1 = record_a[1::2].reshape(int(params.rampsPerFile), params.samplesPerRamp)\n",
    "\n",
    "filename_b = data_dir_b + '/record' + str(loop) + '.bin'\n",
    "fd_b = open(filename_b,'rb')\n",
    "record_b = np.fromfile(fd_b, dtype = np.int16, count = params.rampsPerFile * params.samplesPerRamp * 2)\n",
    "record_b_0 = record_b[::2].reshape(int(params.rampsPerFile), params.samplesPerRamp)\n",
    "record_b_1 = record_b[1::2].reshape(int(params.rampsPerFile), params.samplesPerRamp)"
   ]
  },
  {
   "cell_type": "code",
   "execution_count": 51,
   "metadata": {},
   "outputs": [],
   "source": [
    "data_reshaped = record_0_0.reshape(params.rampsPerFile, params.samplesPerRamp)\n",
    "data_reshaped_b = record_b_0.reshape(params.rampsPerFile, params.samplesPerRamp)"
   ]
  },
  {
   "cell_type": "code",
   "execution_count": 52,
   "metadata": {},
   "outputs": [],
   "source": [
    "scalingFactor = 2.4 / 16383\n",
    "offset = 0"
   ]
  },
  {
   "cell_type": "code",
   "execution_count": 53,
   "metadata": {},
   "outputs": [],
   "source": [
    "data_scaled = data_reshaped * scalingFactor + offset\n",
    "data_scaled_b = data_reshaped_b * scalingFactor + offset"
   ]
  },
  {
   "cell_type": "code",
   "execution_count": 54,
   "metadata": {},
   "outputs": [],
   "source": [
    "def two_scales(ax1, data1, data2, c1, c2):\n",
    "    ax2 = ax1.twinx()\n",
    "\n",
    "    ax1.plot(data1, color=c1)\n",
    "    ax1.set_ylabel('raw')\n",
    "\n",
    "    ax2.plot(data2, color=c2)\n",
    "    ax2.set_ylabel('scaled')\n",
    "    \n",
    "    ax1.grid()\n",
    "    return ax1, ax2"
   ]
  },
  {
   "cell_type": "code",
   "execution_count": 55,
   "metadata": {},
   "outputs": [],
   "source": [
    "font = { 'family' : 'sans-serif',\n",
    "        'weight' : 'bold',\n",
    "        'size'   : 12}\n",
    "\n",
    "matplotlib.rc('font', **font)"
   ]
  },
  {
   "cell_type": "code",
   "execution_count": 56,
   "metadata": {},
   "outputs": [],
   "source": [
    "nbSamplesPerHalfRamp = int(params.samplesPerRamp/2)"
   ]
  },
  {
   "cell_type": "code",
   "execution_count": 57,
   "metadata": {},
   "outputs": [],
   "source": [
    "fig, ax = plt.subplots()\n",
    "ax1, ax2 = two_scales(ax, data_reshaped_b[0,:], data_scaled_b[0,:], 'r', 'b')"
   ]
  },
  {
   "cell_type": "code",
   "execution_count": 71,
   "metadata": {},
   "outputs": [],
   "source": [
    "fig, ax1 = plt.subplots()\n",
    "ax2 = ax1.twinx()\n",
    "\n",
    "ax1.plot(data_reshaped[0,:], color='b', label='with metallic plate')\n",
    "ax1.plot(data_reshaped_b[0,:], color='g', label='without plate')\n",
    "ax1.set_ylabel('raw')\n",
    "ax1.legend()\n",
    "\n",
    "ax2.plot(data_scaled[0,:], color='b')\n",
    "ax2.plot(data_scaled_b[0,:], color='g')\n",
    "ax2.set_ylabel('scaled [V]')\n",
    "    \n",
    "ax1.grid()"
   ]
  },
  {
   "cell_type": "code",
   "execution_count": 87,
   "metadata": {},
   "outputs": [],
   "source": [
    "firstRamp = data_reshaped[0, 0:nbSamplesPerHalfRamp]\n",
    "secondRamp = data_reshaped[0, nbSamplesPerHalfRamp:2*nbSamplesPerHalfRamp]\n",
    "firstRampScaled = firstRamp * scalingFactor + offset\n",
    "secondRampScaled = secondRamp * scalingFactor + offset\n",
    "fft = np.fft.fft(secondRampScaled)"
   ]
  },
  {
   "cell_type": "code",
   "execution_count": 88,
   "metadata": {},
   "outputs": [],
   "source": [
    "plt.figure()\n",
    "plt.plot(firstRampScaled, label=data_date)\n",
    "plt.plot(secondRampScaled, label='second ramp '+data_date)\n",
    "plt.legend()\n",
    "plt.grid()"
   ]
  },
  {
   "cell_type": "code",
   "execution_count": 78,
   "metadata": {},
   "outputs": [
    {
     "name": "stdout",
     "output_type": "stream",
     "text": [
      "max fft = 121.47 dB\n"
     ]
    }
   ],
   "source": [
    "max_fft = 20 * np.log10( np.abs( np.max(np.abs(fft)) ) )\n",
    "print(\"max fft = {:.2f} dB\".format(max_fft))"
   ]
  },
  {
   "cell_type": "code",
   "execution_count": 89,
   "metadata": {},
   "outputs": [
    {
     "data": {
      "text/plain": [
       "<matplotlib.legend.Legend at 0x7fa19e6c6c88>"
      ]
     },
     "execution_count": 89,
     "metadata": {},
     "output_type": "execute_result"
    }
   ],
   "source": [
    "plt.figure()\n",
    "plt.plot(20*np.log10(np.abs(fft)), label=data_date)\n",
    "plt.grid()\n",
    "plt.legend()"
   ]
  },
  {
   "cell_type": "code",
   "execution_count": null,
   "metadata": {},
   "outputs": [],
   "source": []
  }
 ],
 "metadata": {
  "kernelspec": {
   "display_name": "Python 3",
   "language": "python",
   "name": "python3"
  },
  "language_info": {
   "codemirror_mode": {
    "name": "ipython",
    "version": 3
   },
   "file_extension": ".py",
   "mimetype": "text/x-python",
   "name": "python",
   "nbconvert_exporter": "python",
   "pygments_lexer": "ipython3",
   "version": "3.6.4"
  }
 },
 "nbformat": 4,
 "nbformat_minor": 2
}
